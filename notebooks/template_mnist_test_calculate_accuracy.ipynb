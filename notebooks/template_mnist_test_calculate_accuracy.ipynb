{
  "cells": [
    {
      "cell_type": "markdown",
      "metadata": {
        "id": "view-in-github",
        "colab_type": "text"
      },
      "source": [
        "<a href=\"https://colab.research.google.com/github/ab7289-tandon-nyu/GraphVision/blob/oscar1/notebooks/template_mnist_test_calculate_accuracy.ipynb\" target=\"_parent\"><img src=\"https://colab.research.google.com/assets/colab-badge.svg\" alt=\"Open In Colab\"/></a>"
      ]
    },
    {
      "cell_type": "code",
      "execution_count": null,
      "metadata": {
        "colab": {
          "base_uri": "https://localhost:8080/"
        },
        "id": "HQeBbCYZlhKn",
        "outputId": "6c4a44f0-4bbb-4e94-a310-77f90e50fbd8"
      },
      "outputs": [
        {
          "output_type": "stream",
          "name": "stdout",
          "text": [
            "1.13.0+cu116\n",
            "\u001b[K     |████████████████████████████████| 9.4 MB 495 kB/s \n",
            "\u001b[K     |████████████████████████████████| 4.6 MB 8.4 MB/s \n",
            "\u001b[K     |████████████████████████████████| 3.2 MB 7.8 MB/s \n",
            "\u001b[K     |████████████████████████████████| 280 kB 8.9 MB/s \n",
            "\u001b[?25h  Building wheel for torch-geometric (setup.py) ... \u001b[?25l\u001b[?25hdone\n"
          ]
        }
      ],
      "source": [
        "# Install required packages.\n",
        "import os\n",
        "import torch\n",
        "os.environ['TORCH'] = torch.__version__\n",
        "print(torch.__version__)\n",
        "\n",
        "!pip install -q torch-scatter -f https://data.pyg.org/whl/torch-${TORCH}.html\n",
        "!pip install -q torch-sparse -f https://data.pyg.org/whl/torch-${TORCH}.html\n",
        "!pip install -q torch-cluster -f https://data.pyg.org/whl/torch-${TORCH}.html\n",
        "!pip install -q git+https://github.com/pyg-team/pytorch_geometric.git"
      ]
    },
    {
      "cell_type": "code",
      "execution_count": null,
      "metadata": {
        "colab": {
          "base_uri": "https://localhost:8080/"
        },
        "id": "NUnIVvd-lxxZ",
        "outputId": "13519d47-3571-4aee-d79d-246f3bfa7fd3"
      },
      "outputs": [
        {
          "output_type": "stream",
          "name": "stdout",
          "text": [
            "Cloning into 'GraphVision'...\n",
            "remote: Enumerating objects: 349, done.\u001b[K\n",
            "remote: Counting objects: 100% (104/104), done.\u001b[K\n",
            "remote: Compressing objects: 100% (63/63), done.\u001b[K\n",
            "remote: Total 349 (delta 31), reused 60 (delta 17), pack-reused 245\u001b[K\n",
            "Receiving objects: 100% (349/349), 1.23 MiB | 18.80 MiB/s, done.\n",
            "Resolving deltas: 100% (166/166), done.\n"
          ]
        }
      ],
      "source": [
        "# Install our repo\n",
        "!git clone -b models \"https://github.com/ab7289-tandon-nyu/GraphVision.git\"\n",
        "!cp -r /content/GraphVision/src/ ."
      ]
    },
    {
      "cell_type": "code",
      "execution_count": null,
      "metadata": {
        "colab": {
          "base_uri": "https://localhost:8080/"
        },
        "id": "Wuj1_P_3m0-l",
        "outputId": "cbd2dcf2-bfc1-47c0-dac9-788ee97bddc5"
      },
      "outputs": [
        {
          "output_type": "stream",
          "name": "stderr",
          "text": [
            "/content/src/transforms.py:5: SyntaxWarning: \"is\" with a literal. Did you mean \"==\"?\n",
            "  if type is \"cartesian\":\n",
            "/content/src/transforms.py:12: SyntaxWarning: \"is\" with a literal. Did you mean \"==\"?\n",
            "  elif type is \"distance\":\n",
            "/content/src/transforms.py:19: SyntaxWarning: \"is\" with a literal. Did you mean \"==\"?\n",
            "  elif type is \"localcartesian\":\n",
            "/content/src/transforms.py:26: SyntaxWarning: \"is\" with a literal. Did you mean \"==\"?\n",
            "  elif type is \"slic\":\n",
            "Downloading https://data.pyg.org/datasets/benchmarking-gnns/MNIST_v2.zip\n",
            "Extracting .data/MNIST/raw/MNIST_v2.zip\n",
            "Processing...\n",
            "Done!\n"
          ]
        }
      ],
      "source": [
        "from src.transforms import get_transforms\n",
        "from src.datasets import get_datasets, get_dataloaders\n",
        "\n",
        "transforms = get_transforms(\"cartesian\")\n",
        "train_dataset, valid_dataset, test_dataset = get_datasets(\".data/\", \n",
        "                        \"MNIST\", pre_transforms = None,\n",
        "                        transforms = transforms)\n",
        "BATCH_SIZE = 64\n",
        "\n",
        "train_loader, valid_loader, test_loader = get_dataloaders(train_dataset,\n",
        "                                                          valid_dataset,\n",
        "                                                          test_dataset,\n",
        "                                                          batch_size=(BATCH_SIZE, 1, 1),\n",
        "                                                          drop_last = False)"
      ]
    },
    {
      "cell_type": "markdown",
      "metadata": {
        "id": "Sjmgy7RvoJN-"
      },
      "source": [
        "## Review batch attributes"
      ]
    },
    {
      "cell_type": "code",
      "execution_count": null,
      "metadata": {
        "colab": {
          "base_uri": "https://localhost:8080/"
        },
        "id": "-QCa0O4IoM6U",
        "outputId": "feed39d2-2b7e-49f9-9fd3-6beb8abeabe9"
      },
      "outputs": [
        {
          "output_type": "stream",
          "name": "stdout",
          "text": [
            "\n",
            "DataBatch(x=[4465, 1], edge_index=[2, 40185], edge_attr=[40185, 2], y=[64], pos=[4465, 2], edge_weight=[40185], batch=[4465], ptr=[65])\n",
            "=====================================================================\n",
            "Number of features:  1\n",
            "Number of node features: 1\n",
            "Number of nodes: 4465\n",
            "Number of edges: 40185\n",
            "Average node degree: 9.00\n",
            "Has isolated nodes: False\n",
            "Has self-loops: True\n"
          ]
        }
      ],
      "source": [
        "sample_batch = next(iter(train_loader))\n",
        "\n",
        "print()\n",
        "print(sample_batch)\n",
        "print(\"=====================================================================\")\n",
        "\n",
        "# Gather some statistics about the first graph.\n",
        "print(f\"Number of features:  {sample_batch.num_features}\")\n",
        "print(f\"Number of node features: {sample_batch.num_node_features}\")\n",
        "print(f'Number of nodes: {sample_batch.num_nodes}')\n",
        "print(f'Number of edges: {sample_batch.num_edges}')\n",
        "print(f'Average node degree: {sample_batch.num_edges / sample_batch.num_nodes:.2f}')\n",
        "print(f'Has isolated nodes: {sample_batch.has_isolated_nodes()}')\n",
        "print(f'Has self-loops: {sample_batch.has_self_loops()}')"
      ]
    },
    {
      "cell_type": "code",
      "execution_count": null,
      "metadata": {
        "id": "tu3VtmrWpnZx"
      },
      "outputs": [],
      "source": [
        "# store edge dimension\n",
        "edge_dim = sample_batch.edge_attr.size(-1)\n",
        "edge_dim\n",
        "# store number of features in graph batch\n",
        "input_features = test_dataset.num_features\n",
        "# store number of classes for classification\n",
        "num_classes = test_dataset.num_classes"
      ]
    },
    {
      "cell_type": "code",
      "execution_count": null,
      "metadata": {
        "colab": {
          "base_uri": "https://localhost:8080/"
        },
        "id": "rqiZaFw2ps9r",
        "outputId": "59974298-042e-4652-8cb9-e378550012a2"
      },
      "outputs": [
        {
          "output_type": "stream",
          "name": "stdout",
          "text": [
            "Creating new Model\n"
          ]
        }
      ],
      "source": [
        "from pathlib import Path\n",
        "\n",
        "save_loc = \"\" # put save location here\n",
        "model_name = \"GENConv_clus-false_BN_RELU_layer4.pt\"\n",
        "\n",
        "file_path = save_loc + model_name\n",
        "path = Path(file_path)\n",
        "state_dict = None\n",
        "if path.exists() and path.is_file():\n",
        "  print(\"Found Save!\")\n",
        "  state_dict = torch.load(path)\n",
        "else:\n",
        "  print(\"Creating new Model\")"
      ]
    },
    {
      "cell_type": "markdown",
      "metadata": {
        "id": "gGiE28k32eUr"
      },
      "source": [
        "## Create our Model"
      ]
    },
    {
      "cell_type": "code",
      "execution_count": null,
      "metadata": {
        "id": "epF5kpJcqWJw"
      },
      "outputs": [],
      "source": [
        "from src.models import DeeperGCN\n",
        "\n",
        "hidden_features = 64\n",
        "\n",
        "device = torch.device(\"cuda\" if torch.cuda.is_available() else \"cpu\")\n",
        "model = DeeperGCN(\n",
        "    input_features,\n",
        "    num_classes,\n",
        "    hidden_features,\n",
        "    conv_type = \"GEN\",\n",
        "    act = \"relu\",\n",
        "    norm = \"batch\",\n",
        "    num_layers = 4,\n",
        "    use_cluster_pooling = False,\n",
        "    readout = \"mean\",\n",
        "    dropout = 0.0,\n",
        "    edge_dim = edge_dim\n",
        ").to(device)\n",
        "if state_dict is not None:\n",
        "  print(\"Loading previously saved state dictionary\")\n",
        "  model.load_state_dict(state_dict)\n",
        "\n",
        "optimizer = torch.optim.Adam(model.parameters(), lr=0.001)\n",
        "criterion = torch.nn.CrossEntropyLoss().to(device)"
      ]
    },
    {
      "cell_type": "code",
      "execution_count": null,
      "metadata": {
        "colab": {
          "base_uri": "https://localhost:8080/"
        },
        "id": "fsm1MwvSr0nU",
        "outputId": "94d7d18c-1bcd-4380-ce2e-dc0ad9483973"
      },
      "outputs": [
        {
          "output_type": "stream",
          "name": "stdout",
          "text": [
            "There are 68,366 trainable parameters.\n",
            "\n",
            "DeeperGCN(\n",
            "  (fc_in): Linear(in_features=1, out_features=64, bias=True)\n",
            "  (fc_out): Linear(in_features=64, out_features=10, bias=True)\n",
            "  (out_act): ReLU(inplace=True)\n",
            "  (layers): ModuleList(\n",
            "    (0): DeepGCNLayer(block=res+)\n",
            "    (1): DeepGCNLayer(block=res+)\n",
            "    (2): DeepGCNLayer(block=res+)\n",
            "    (3): DeepGCNLayer(block=res+)\n",
            "  )\n",
            ")\n"
          ]
        }
      ],
      "source": [
        "params = sum([p.numel() for p in model.parameters() if p.requires_grad])\n",
        "print(f\"There are {params:,} trainable parameters.\")\n",
        "print()\n",
        "print(model)"
      ]
    },
    {
      "cell_type": "markdown",
      "metadata": {
        "id": "uuoamYXu2hf-"
      },
      "source": [
        "## Train"
      ]
    },
    {
      "cell_type": "code",
      "execution_count": null,
      "metadata": {
        "colab": {
          "base_uri": "https://localhost:8080/"
        },
        "id": "8pyJ2olIr9pi",
        "outputId": "56c58b69-f809-4f1b-a3f4-4623d64d4c37"
      },
      "outputs": [
        {
          "output_type": "stream",
          "name": "stdout",
          "text": [
            "\n",
            "Epoch: 1\n",
            "\n",
            "Train Loss: 0.770, Train Accuracy: 47.76\n",
            "Validation Loss: 2.235, Validation Accuracy: 0.45\n",
            "\n",
            "Epoch: 2\n",
            "\n",
            "Train Loss: 0.350, Train Accuracy: 56.78\n",
            "Validation Loss: 1.459, Validation Accuracy: 0.57\n",
            "\n",
            "Epoch: 3\n",
            "\n",
            "Train Loss: 0.280, Train Accuracy: 58.20\n",
            "Validation Loss: 0.937, Validation Accuracy: 0.70\n",
            "\n",
            "Epoch: 4\n",
            "\n",
            "Train Loss: 0.246, Train Accuracy: 58.83\n",
            "Validation Loss: 0.663, Validation Accuracy: 0.78\n",
            "\n",
            "Epoch: 5\n",
            "\n",
            "Train Loss: 0.222, Train Accuracy: 59.40\n",
            "Validation Loss: 0.992, Validation Accuracy: 0.68\n",
            "\n",
            "Epoch: 6\n",
            "\n",
            "Train Loss: 0.202, Train Accuracy: 59.75\n",
            "Validation Loss: 4.229, Validation Accuracy: 0.24\n",
            "\n",
            "Epoch: 7\n",
            "\n",
            "Train Loss: 0.190, Train Accuracy: 59.97\n",
            "Validation Loss: 0.990, Validation Accuracy: 0.69\n",
            "\n",
            "Epoch: 8\n",
            "\n",
            "Train Loss: 0.172, Train Accuracy: 60.33\n",
            "Validation Loss: 0.850, Validation Accuracy: 0.76\n",
            "\n",
            "Epoch: 9\n",
            "\n",
            "Train Loss: 0.161, Train Accuracy: 60.50\n",
            "Validation Loss: 0.332, Validation Accuracy: 0.89\n",
            "\n",
            "Epoch: 10\n",
            "\n",
            "Train Loss: 0.151, Train Accuracy: 60.78\n",
            "Validation Loss: 0.380, Validation Accuracy: 0.87\n",
            "\n",
            "Epoch: 11\n",
            "\n",
            "Train Loss: 0.145, Train Accuracy: 60.96\n",
            "Validation Loss: 1.091, Validation Accuracy: 0.68\n",
            "\n",
            "Epoch: 12\n",
            "\n",
            "Train Loss: 0.136, Train Accuracy: 61.06\n",
            "Validation Loss: 0.715, Validation Accuracy: 0.79\n",
            "\n",
            "Epoch: 13\n",
            "\n",
            "Train Loss: 0.128, Train Accuracy: 61.28\n",
            "Validation Loss: 0.176, Validation Accuracy: 0.95\n",
            "\n",
            "Epoch: 14\n",
            "\n",
            "Train Loss: 0.125, Train Accuracy: 61.23\n",
            "Validation Loss: 0.246, Validation Accuracy: 0.92\n",
            "\n",
            "Epoch: 15\n",
            "\n",
            "Train Loss: 0.116, Train Accuracy: 61.53\n",
            "Validation Loss: 0.423, Validation Accuracy: 0.87\n",
            "\n",
            "Epoch: 16\n",
            "\n",
            "Train Loss: 0.110, Train Accuracy: 61.56\n",
            "Validation Loss: 0.375, Validation Accuracy: 0.88\n",
            "\n",
            "Epoch: 17\n",
            "\n",
            "Train Loss: 0.108, Train Accuracy: 61.61\n",
            "Validation Loss: 0.256, Validation Accuracy: 0.92\n",
            "\n",
            "Epoch: 18\n",
            "\n",
            "Train Loss: 0.104, Train Accuracy: 61.70\n",
            "Validation Loss: 0.171, Validation Accuracy: 0.95\n",
            "\n",
            "Epoch: 19\n",
            "\n",
            "Train Loss: 0.093, Train Accuracy: 61.93\n",
            "Validation Loss: 0.136, Validation Accuracy: 0.96\n",
            "\n",
            "Epoch: 20\n",
            "\n",
            "Train Loss: 0.093, Train Accuracy: 61.94\n",
            "Validation Loss: 0.206, Validation Accuracy: 0.94\n",
            "\n",
            "Epoch: 21\n",
            "\n",
            "Train Loss: 0.089, Train Accuracy: 62.03\n",
            "Validation Loss: 0.170, Validation Accuracy: 0.95\n",
            "\n",
            "Epoch: 22\n",
            "\n",
            "Train Loss: 0.085, Train Accuracy: 62.08\n",
            "Validation Loss: 0.307, Validation Accuracy: 0.90\n",
            "\n",
            "Epoch: 23\n",
            "\n",
            "Train Loss: 0.079, Train Accuracy: 62.25\n",
            "Validation Loss: 0.172, Validation Accuracy: 0.95\n",
            "\n",
            "Epoch: 24\n",
            "\n",
            "Train Loss: 0.075, Train Accuracy: 62.32\n",
            "Validation Loss: 0.156, Validation Accuracy: 0.96\n",
            "\n",
            "Epoch: 25\n",
            "\n",
            "Train Loss: 0.076, Train Accuracy: 62.24\n",
            "Validation Loss: 0.190, Validation Accuracy: 0.94\n",
            "\n",
            "Epoch: 26\n",
            "\n",
            "Train Loss: 0.069, Train Accuracy: 62.46\n",
            "Validation Loss: 0.163, Validation Accuracy: 0.95\n",
            "\n",
            "Epoch: 27\n",
            "\n",
            "Train Loss: 0.070, Train Accuracy: 62.40\n",
            "Validation Loss: 0.164, Validation Accuracy: 0.95\n",
            "\n",
            "Epoch: 28\n",
            "\n",
            "Train Loss: 0.066, Train Accuracy: 62.50\n",
            "Validation Loss: 0.142, Validation Accuracy: 0.96\n",
            "\n",
            "Epoch: 29\n",
            "\n",
            "Train Loss: 0.060, Train Accuracy: 62.59\n",
            "Validation Loss: 0.191, Validation Accuracy: 0.94\n",
            "\n",
            "Epoch: 30\n",
            "\n",
            "Train Loss: 0.060, Train Accuracy: 62.59\n",
            "Validation Loss: 0.166, Validation Accuracy: 0.95\n",
            "\n",
            "Epoch: 31\n",
            "\n",
            "Train Loss: 0.059, Train Accuracy: 62.68\n",
            "Validation Loss: 0.162, Validation Accuracy: 0.95\n",
            "\n",
            "Epoch: 32\n",
            "\n",
            "Train Loss: 0.055, Train Accuracy: 62.70\n",
            "Validation Loss: 0.153, Validation Accuracy: 0.96\n",
            "\n",
            "Epoch: 33\n",
            "\n",
            "Train Loss: 0.052, Train Accuracy: 62.82\n",
            "Validation Loss: 0.148, Validation Accuracy: 0.96\n",
            "\n",
            "Epoch: 34\n",
            "\n",
            "Train Loss: 0.050, Train Accuracy: 62.78\n",
            "Validation Loss: 0.242, Validation Accuracy: 0.94\n",
            "\n",
            "Epoch: 35\n",
            "\n",
            "Train Loss: 0.049, Train Accuracy: 62.83\n",
            "Validation Loss: 0.273, Validation Accuracy: 0.93\n",
            "\n",
            "Epoch: 36\n",
            "\n",
            "Train Loss: 0.047, Train Accuracy: 62.89\n",
            "Validation Loss: 0.144, Validation Accuracy: 0.96\n",
            "\n",
            "Epoch: 37\n",
            "\n",
            "Train Loss: 0.045, Train Accuracy: 62.95\n",
            "Validation Loss: 0.192, Validation Accuracy: 0.95\n",
            "\n",
            "Epoch: 38\n",
            "\n",
            "Train Loss: 0.046, Train Accuracy: 62.92\n",
            "Validation Loss: 0.180, Validation Accuracy: 0.95\n",
            "\n",
            "Epoch: 39\n",
            "\n",
            "Train Loss: 0.041, Train Accuracy: 62.98\n",
            "Validation Loss: 0.172, Validation Accuracy: 0.96\n",
            "\n",
            "Epoch: 40\n",
            "\n",
            "Train Loss: 0.042, Train Accuracy: 62.98\n",
            "Validation Loss: 0.216, Validation Accuracy: 0.94\n",
            "\n",
            "Epoch: 41\n",
            "\n",
            "Train Loss: 0.041, Train Accuracy: 63.02\n",
            "Validation Loss: 0.286, Validation Accuracy: 0.93\n",
            "\n",
            "Epoch: 42\n",
            "\n",
            "Train Loss: 0.037, Train Accuracy: 63.11\n",
            "Validation Loss: 0.203, Validation Accuracy: 0.95\n",
            "\n",
            "Epoch: 43\n",
            "\n",
            "Train Loss: 0.040, Train Accuracy: 63.05\n",
            "Validation Loss: 0.308, Validation Accuracy: 0.92\n",
            "\n",
            "Epoch: 44\n",
            "\n",
            "Train Loss: 0.035, Train Accuracy: 63.13\n",
            "Validation Loss: 0.148, Validation Accuracy: 0.96\n",
            "\n",
            "Epoch: 45\n",
            "\n",
            "Train Loss: 0.034, Train Accuracy: 63.16\n",
            "Validation Loss: 0.196, Validation Accuracy: 0.95\n",
            "\n",
            "Epoch: 46\n",
            "\n",
            "Train Loss: 0.033, Train Accuracy: 63.22\n",
            "Validation Loss: 0.210, Validation Accuracy: 0.95\n",
            "\n",
            "Epoch: 47\n",
            "\n",
            "Train Loss: 0.035, Train Accuracy: 63.13\n",
            "Validation Loss: 0.234, Validation Accuracy: 0.95\n",
            "\n",
            "Epoch: 48\n",
            "\n",
            "Train Loss: 0.031, Train Accuracy: 63.26\n",
            "Validation Loss: 0.221, Validation Accuracy: 0.95\n",
            "\n",
            "Epoch: 49\n",
            "\n",
            "Train Loss: 0.032, Train Accuracy: 63.22\n",
            "Validation Loss: 0.251, Validation Accuracy: 0.94\n",
            "\n",
            "Epoch: 50\n",
            "\n",
            "Train Loss: 0.033, Train Accuracy: 63.21\n",
            "Validation Loss: 0.199, Validation Accuracy: 0.95\n"
          ]
        }
      ],
      "source": [
        "from src.engine import train, evaluate\n",
        "from src.utils import calculate_accuracy\n",
        "\n",
        "EPOCHS = 50\n",
        "train_loss = []\n",
        "train_acc = []\n",
        "valid_loss = []\n",
        "valid_acc = []\n",
        "best_loss = float('inf')\n",
        "\n",
        "for epoch in range(1, EPOCHS + 1):\n",
        "  print(f\"\\nEpoch: {epoch}\\n\")\n",
        "  loss, acc = train(model, train_loader, criterion, optimizer, device)\n",
        "  train_loss.append(loss)\n",
        "  train_acc.append(acc)\n",
        "  print(f\"Train Loss: {train_loss[-1]:.3f}, Train Accuracy: {train_acc[-1]:.2f}\")\n",
        "\n",
        "  loss, acc = evaluate(model, valid_loader, criterion, device)\n",
        "  valid_loss.append(loss)\n",
        "  valid_acc.append(acc)\n",
        "  print(f\"Validation Loss: {valid_loss[-1]:.3f}, Validation Accuracy: {valid_acc[-1]:.2f}\")\n",
        "\n",
        "  if loss < best_loss:\n",
        "    best_loss = loss\n",
        "    torch.save(model.state_dict(), path)"
      ]
    },
    {
      "cell_type": "markdown",
      "metadata": {
        "id": "GIu5vZ3d2jNJ"
      },
      "source": [
        "## Evaluate on the Test set"
      ]
    },
    {
      "cell_type": "code",
      "execution_count": null,
      "metadata": {
        "colab": {
          "base_uri": "https://localhost:8080/"
        },
        "id": "q5oWJj8g11MF",
        "outputId": "fbd239e0-086b-409d-a2be-7607265efc19"
      },
      "outputs": [
        {
          "output_type": "stream",
          "name": "stdout",
          "text": [
            "Test Loss: 0.138\n",
            "Test Accuracy: 0.96%\n"
          ]
        }
      ],
      "source": [
        "# load best model\n",
        "model.load_state_dict(torch.load(path))\n",
        "test_loss, test_acc = evaluate(model.to(device), test_loader, criterion, device)\n",
        "print(f\"Test Loss: {test_loss:.3f}\")\n",
        "print(f\"Test Accuracy: {test_acc:.2f}%\")"
      ]
    },
    {
      "cell_type": "markdown",
      "metadata": {
        "id": "qvOfsB752las"
      },
      "source": [
        "## Plot Loss and Accuracy Curves"
      ]
    },
    {
      "cell_type": "code",
      "execution_count": null,
      "metadata": {
        "colab": {
          "base_uri": "https://localhost:8080/",
          "height": 265
        },
        "id": "gk6I1WkDvWmE",
        "outputId": "cb707f04-1fdd-4e83-bd06-dd12c8406372"
      },
      "outputs": [
        {
          "output_type": "display_data",
          "data": {
            "text/plain": [
              "<Figure size 432x288 with 1 Axes>"
            ],
            "image/png": "[encoded data removed]"
          },
          "metadata": {
            "needs_background": "light"
          }
        }
      ],
      "source": [
        "import matplotlib.pyplot as plt\n",
        "\n",
        "x = [i for i in range(len(valid_loss))]\n",
        "\n",
        "plt.plot(x, train_loss, label=\"Train Loss\")\n",
        "plt.plot(x, valid_loss, label=\"Validation Loss\")\n",
        "plt.legend()\n",
        "plt.show()"
      ]
    },
    {
      "cell_type": "code",
      "execution_count": null,
      "metadata": {
        "colab": {
          "base_uri": "https://localhost:8080/",
          "height": 265
        },
        "id": "A-xP3uX63aT8",
        "outputId": "d9ecc892-5256-428d-81e9-5c9f0c57e3d4"
      },
      "outputs": [
        {
          "output_type": "display_data",
          "data": {
            "text/plain": [
              "<Figure size 432x288 with 1 Axes>"
            ],
            "image/png": "[encoded data removed]"
          },
          "metadata": {
            "needs_background": "light"
          }
        }
      ],
      "source": [
        "modified_valid_acc = list(map(lambda x: x*100, valid_acc))\n",
        "\n",
        "plt.plot(x, train_acc, label=\"Train Accuracy\")\n",
        "plt.plot(x, modified_valid_acc, label=\"Validation Accuracy\")\n",
        "plt.legend()\n",
        "plt.show()"
      ]
    },
    {
      "cell_type": "code",
      "execution_count": null,
      "metadata": {
        "id": "D_FdIR923n9N"
      },
      "outputs": [],
      "source": []
    }
  ],
  "metadata": {
    "accelerator": "GPU",
    "colab": {
      "provenance": [],
      "include_colab_link": true
    },
    "gpuClass": "standard",
    "kernelspec": {
      "display_name": "pyg",
      "language": "python",
      "name": "python3"
    },
    "language_info": {
      "codemirror_mode": {
        "name": "ipython",
        "version": 3
      },
      "file_extension": ".py",
      "mimetype": "text/x-python",
      "name": "python",
      "nbconvert_exporter": "python",
      "pygments_lexer": "ipython3",
      "version": "3.9.15"
    },
    "vscode": {
      "interpreter": {
        "hash": "602fd2f1343589d3bd6f27fae416162c1bba08e244faa27258d2511dac84d913"
      }
    }
  },
  "nbformat": 4,
  "nbformat_minor": 0
}