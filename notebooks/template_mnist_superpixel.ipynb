{
  "nbformat": 4,
  "nbformat_minor": 0,
  "metadata": {
    "colab": {
      "provenance": []
    },
    "kernelspec": {
      "name": "python3",
      "display_name": "Python 3"
    },
    "language_info": {
      "name": "python"
    },
    "accelerator": "GPU",
    "gpuClass": "standard"
  },
  "cells": [
    {
      "cell_type": "code",
      "execution_count": 1,
      "metadata": {
        "colab": {
          "base_uri": "https://localhost:8080/"
        },
        "id": "HQeBbCYZlhKn",
        "outputId": "19009ce2-7ac3-4cda-ca78-6aed1ab45f5f"
      },
      "outputs": [
        {
          "output_type": "stream",
          "name": "stdout",
          "text": [
            "1.13.0+cu116\n",
            "\u001b[K     |████████████████████████████████| 9.4 MB 15.7 MB/s \n",
            "\u001b[K     |████████████████████████████████| 4.6 MB 23.2 MB/s \n",
            "\u001b[K     |████████████████████████████████| 3.2 MB 37.6 MB/s \n",
            "\u001b[K     |████████████████████████████████| 280 kB 1.7 MB/s \n",
            "\u001b[?25h  Building wheel for torch-geometric (setup.py) ... \u001b[?25l\u001b[?25hdone\n"
          ]
        }
      ],
      "source": [
        "# Install required packages.\n",
        "import os\n",
        "import torch\n",
        "os.environ['TORCH'] = torch.__version__\n",
        "print(torch.__version__)\n",
        "\n",
        "!pip install -q torch-scatter -f https://data.pyg.org/whl/torch-${TORCH}.html\n",
        "!pip install -q torch-sparse -f https://data.pyg.org/whl/torch-${TORCH}.html\n",
        "!pip install -q torch-cluster -f https://data.pyg.org/whl/torch-${TORCH}.html\n",
        "!pip install -q git+https://github.com/pyg-team/pytorch_geometric.git"
      ]
    },
    {
      "cell_type": "code",
      "source": [
        "# Install our repo\n",
        "!git clone -b models \"https://github.com/ab7289-tandon-nyu/GraphVision.git\"\n",
        "!cp -r /content/GraphVision/src/ ."
      ],
      "metadata": {
        "colab": {
          "base_uri": "https://localhost:8080/"
        },
        "id": "NUnIVvd-lxxZ",
        "outputId": "6cbbf256-b200-4026-c77c-7ea8a1336b87"
      },
      "execution_count": 2,
      "outputs": [
        {
          "output_type": "stream",
          "name": "stdout",
          "text": [
            "Cloning into 'GraphVision'...\n",
            "remote: Enumerating objects: 369, done.\u001b[K\n",
            "remote: Counting objects: 100% (124/124), done.\u001b[K\n",
            "remote: Compressing objects: 100% (83/83), done.\u001b[K\n",
            "remote: Total 369 (delta 44), reused 61 (delta 17), pack-reused 245\u001b[K\n",
            "Receiving objects: 100% (369/369), 1.27 MiB | 30.22 MiB/s, done.\n",
            "Resolving deltas: 100% (179/179), done.\n"
          ]
        }
      ]
    },
    {
      "cell_type": "code",
      "source": [
        "from src.transforms import get_transforms\n",
        "from src.datasets import get_datasets, get_dataloaders\n",
        "\n",
        "transforms = get_transforms(\"cartesian\")\n",
        "train_dataset, valid_dataset, test_dataset = get_datasets(\".data/\", \n",
        "                        \"MNISTSuperpixels\", pre_transforms = None,\n",
        "                        transforms = transforms)\n",
        "BATCH_SIZE = 64\n",
        "\n",
        "train_loader, valid_loader, test_loader = get_dataloaders(train_dataset,\n",
        "                                                          valid_dataset,\n",
        "                                                          test_dataset,\n",
        "                                                          batch_size=(BATCH_SIZE, 1, 1),\n",
        "                                                          drop_last = False)"
      ],
      "metadata": {
        "colab": {
          "base_uri": "https://localhost:8080/"
        },
        "id": "Wuj1_P_3m0-l",
        "outputId": "80955876-1382-4215-bc7e-273b89ef8f45"
      },
      "execution_count": 3,
      "outputs": [
        {
          "output_type": "stream",
          "name": "stderr",
          "text": [
            "/content/src/transforms.py:5: SyntaxWarning: \"is\" with a literal. Did you mean \"==\"?\n",
            "  if type is \"cartesian\":\n",
            "/content/src/transforms.py:12: SyntaxWarning: \"is\" with a literal. Did you mean \"==\"?\n",
            "  elif type is \"distance\":\n",
            "/content/src/transforms.py:19: SyntaxWarning: \"is\" with a literal. Did you mean \"==\"?\n",
            "  elif type is \"localcartesian\":\n",
            "/content/src/transforms.py:26: SyntaxWarning: \"is\" with a literal. Did you mean \"==\"?\n",
            "  elif type is \"slic\":\n",
            "Downloading https://data.pyg.org/datasets/MNISTSuperpixels.zip\n",
            "Extracting .data/raw/MNISTSuperpixels.zip\n",
            "Processing...\n",
            "Done!\n"
          ]
        }
      ]
    },
    {
      "cell_type": "markdown",
      "source": [
        "## Review batch attributes"
      ],
      "metadata": {
        "id": "Sjmgy7RvoJN-"
      }
    },
    {
      "cell_type": "code",
      "source": [
        "sample_batch = next(iter(train_loader))\n",
        "\n",
        "print()\n",
        "print(sample_batch)\n",
        "print(\"=====================================================================\")\n",
        "\n",
        "# Gather some statistics about the first graph.\n",
        "print(f\"Number of features:  {sample_batch.num_features}\")\n",
        "print(f\"Number of node features: {sample_batch.num_node_features}\")\n",
        "print(f'Number of nodes: {sample_batch.num_nodes}')\n",
        "print(f'Number of edges: {sample_batch.num_edges}')\n",
        "print(f'Average node degree: {sample_batch.num_edges / sample_batch.num_nodes:.2f}')\n",
        "print(f'Has isolated nodes: {sample_batch.has_isolated_nodes()}')\n",
        "print(f'Has self-loops: {sample_batch.has_self_loops()}')"
      ],
      "metadata": {
        "colab": {
          "base_uri": "https://localhost:8080/"
        },
        "id": "-QCa0O4IoM6U",
        "outputId": "4b0d54aa-e01c-4964-b52c-f38a1df3a16a"
      },
      "execution_count": 4,
      "outputs": [
        {
          "output_type": "stream",
          "name": "stdout",
          "text": [
            "\n",
            "DataBatch(x=[4800, 1], edge_index=[2, 93992], y=[64], pos=[4800, 2], edge_weight=[93992], edge_attr=[93992, 2], batch=[4800], ptr=[65])\n",
            "=====================================================================\n",
            "Number of features:  1\n",
            "Number of node features: 1\n",
            "Number of nodes: 4800\n",
            "Number of edges: 93992\n",
            "Average node degree: 19.58\n",
            "Has isolated nodes: False\n",
            "Has self-loops: True\n"
          ]
        }
      ]
    },
    {
      "cell_type": "code",
      "source": [
        "# store edge dimension\n",
        "edge_dim = sample_batch.edge_attr.size(-1)\n",
        "edge_dim\n",
        "# store number of features in graph batch\n",
        "input_features = test_dataset.num_features\n",
        "# store number of classes for classification\n",
        "num_classes = test_dataset.num_classes"
      ],
      "metadata": {
        "id": "tu3VtmrWpnZx"
      },
      "execution_count": 5,
      "outputs": []
    },
    {
      "cell_type": "code",
      "source": [
        "from pathlib import Path\n",
        "\n",
        "save_loc = \"\" # put save location here\n",
        "model_name = \"GENConv_clus-false_BN_RELU_layer4.pt\"\n",
        "\n",
        "file_path = save_loc + model_name\n",
        "path = Path(file_path)\n",
        "state_dict = None\n",
        "if path.exists() and path.is_file():\n",
        "  print(\"Found Save!\")\n",
        "  state_dict = torch.load(path)\n",
        "else:\n",
        "  print(\"Creating new Model\")"
      ],
      "metadata": {
        "colab": {
          "base_uri": "https://localhost:8080/"
        },
        "id": "rqiZaFw2ps9r",
        "outputId": "9b7c26d6-2b43-4984-841c-51aaa0fe1d82"
      },
      "execution_count": 6,
      "outputs": [
        {
          "output_type": "stream",
          "name": "stdout",
          "text": [
            "Creating new Model\n"
          ]
        }
      ]
    },
    {
      "cell_type": "markdown",
      "source": [
        "## Create our Model"
      ],
      "metadata": {
        "id": "gGiE28k32eUr"
      }
    },
    {
      "cell_type": "code",
      "source": [
        "from src.models import DeeperGCN\n",
        "\n",
        "hidden_features = 64\n",
        "\n",
        "device = torch.device(\"cuda\" if torch.cuda.is_available() else \"cpu\")\n",
        "model = DeeperGCN(\n",
        "    input_features,\n",
        "    num_classes,\n",
        "    hidden_features,\n",
        "    conv_type = \"GEN\",\n",
        "    act = \"relu\",\n",
        "    norm = \"batch\",\n",
        "    num_layers = 4,\n",
        "    use_cluster_pooling = False,\n",
        "    readout = \"mean\",\n",
        "    dropout = 0.0,\n",
        "    edge_dim = edge_dim\n",
        ").to(device)\n",
        "if state_dict is not None:\n",
        "  print(\"Loading previously saved state dictionary\")\n",
        "  model.load_state_dict(state_dict)\n",
        "\n",
        "optimizer = torch.optim.Adam(model.parameters(), lr=0.001)\n",
        "criterion = torch.nn.CrossEntropyLoss().to(device)"
      ],
      "metadata": {
        "id": "epF5kpJcqWJw"
      },
      "execution_count": 7,
      "outputs": []
    },
    {
      "cell_type": "code",
      "source": [
        "params = sum([p.numel() for p in model.parameters() if p.requires_grad])\n",
        "print(f\"There are {params:,} trainable parameters.\")\n",
        "print()\n",
        "print(model)"
      ],
      "metadata": {
        "colab": {
          "base_uri": "https://localhost:8080/"
        },
        "id": "fsm1MwvSr0nU",
        "outputId": "083e3633-c28e-48b8-b2fb-5d5b9cad58a1"
      },
      "execution_count": 8,
      "outputs": [
        {
          "output_type": "stream",
          "name": "stdout",
          "text": [
            "There are 68,366 trainable parameters.\n",
            "\n",
            "DeeperGCN(\n",
            "  (fc_in): Linear(in_features=1, out_features=64, bias=True)\n",
            "  (fc_out): Linear(in_features=64, out_features=10, bias=True)\n",
            "  (out_act): ReLU(inplace=True)\n",
            "  (layers): ModuleList(\n",
            "    (0): DeepGCNLayer(block=res+)\n",
            "    (1): DeepGCNLayer(block=res+)\n",
            "    (2): DeepGCNLayer(block=res+)\n",
            "    (3): DeepGCNLayer(block=res+)\n",
            "  )\n",
            ")\n"
          ]
        }
      ]
    },
    {
      "cell_type": "markdown",
      "source": [
        "## Train"
      ],
      "metadata": {
        "id": "uuoamYXu2hf-"
      }
    },
    {
      "cell_type": "code",
      "source": [
        "from src.engine import train, evaluate\n",
        "from src.utils import calculate_accuracy\n",
        "\n",
        "EPOCHS = 10\n",
        "train_loss = []\n",
        "train_acc = []\n",
        "valid_loss = []\n",
        "valid_acc = []\n",
        "best_loss = float('inf')\n",
        "\n",
        "for epoch in range(1, EPOCHS + 1):\n",
        "  print(f\"\\nEpoch: {epoch}\\n\")\n",
        "  loss, acc = train(model, train_loader, criterion, optimizer, device)\n",
        "  train_loss.append(loss)\n",
        "  train_acc.append(acc)\n",
        "  print(f\"Train Loss: {train_loss[-1]:.3f}, Train Accuracy: {train_acc[-1]:.2f}\")\n",
        "\n",
        "  loss, acc = evaluate(model, valid_loader, criterion, device)\n",
        "  valid_loss.append(loss)\n",
        "  valid_acc.append(acc)\n",
        "  print(f\"Validation Loss: {valid_loss[-1]:.3f}, Validation Accuracy: {valid_acc[-1]:.2f}\")\n",
        "\n",
        "  if loss < best_loss:\n",
        "    best_loss = loss\n",
        "    torch.save(model.state_dict(), path)"
      ],
      "metadata": {
        "colab": {
          "base_uri": "https://localhost:8080/"
        },
        "id": "8pyJ2olIr9pi",
        "outputId": "ddd3f72b-d7ac-41c0-e7e9-a0e6db6b4f32"
      },
      "execution_count": 9,
      "outputs": [
        {
          "output_type": "stream",
          "name": "stdout",
          "text": [
            "\n",
            "Epoch: 1\n",
            "\n",
            "Train Loss: 0.562, Train Accuracy: 0.81\n",
            "Validation Loss: 0.472, Validation Accuracy: 0.85\n",
            "\n",
            "Epoch: 2\n",
            "\n",
            "Train Loss: 0.220, Train Accuracy: 0.93\n",
            "Validation Loss: 0.782, Validation Accuracy: 0.77\n",
            "\n",
            "Epoch: 3\n",
            "\n",
            "Train Loss: 0.168, Train Accuracy: 0.94\n",
            "Validation Loss: 1.848, Validation Accuracy: 0.56\n",
            "\n",
            "Epoch: 4\n",
            "\n",
            "Train Loss: 0.142, Train Accuracy: 0.95\n",
            "Validation Loss: 0.139, Validation Accuracy: 0.95\n",
            "\n",
            "Epoch: 5\n",
            "\n",
            "Train Loss: 0.128, Train Accuracy: 0.96\n",
            "Validation Loss: 0.371, Validation Accuracy: 0.88\n",
            "\n",
            "Epoch: 6\n",
            "\n",
            "Train Loss: 0.118, Train Accuracy: 0.96\n",
            "Validation Loss: 0.853, Validation Accuracy: 0.75\n",
            "\n",
            "Epoch: 7\n",
            "\n",
            "Train Loss: 0.105, Train Accuracy: 0.97\n",
            "Validation Loss: 0.616, Validation Accuracy: 0.81\n",
            "\n",
            "Epoch: 8\n",
            "\n",
            "Train Loss: 0.099, Train Accuracy: 0.97\n",
            "Validation Loss: 1.535, Validation Accuracy: 0.62\n",
            "\n",
            "Epoch: 9\n",
            "\n",
            "Train Loss: 0.091, Train Accuracy: 0.97\n",
            "Validation Loss: 0.172, Validation Accuracy: 0.95\n",
            "\n",
            "Epoch: 10\n",
            "\n",
            "Train Loss: 0.085, Train Accuracy: 0.97\n",
            "Validation Loss: 0.136, Validation Accuracy: 0.95\n"
          ]
        }
      ]
    },
    {
      "cell_type": "markdown",
      "source": [
        "## Evaluate on the Test set"
      ],
      "metadata": {
        "id": "GIu5vZ3d2jNJ"
      }
    },
    {
      "cell_type": "code",
      "source": [
        "# load best model\n",
        "model.load_state_dict(torch.load(path))\n",
        "test_loss, test_acc = evaluate(model.to(device), test_loader, criterion, device)\n",
        "print(f\"Test Loss: {test_loss:.3f}\")\n",
        "print(f\"Test Accuracy: {test_acc:.2f}%\")"
      ],
      "metadata": {
        "colab": {
          "base_uri": "https://localhost:8080/"
        },
        "id": "q5oWJj8g11MF",
        "outputId": "3ff075e2-c9ac-447b-9f0b-960687cc40be"
      },
      "execution_count": 10,
      "outputs": [
        {
          "output_type": "stream",
          "name": "stdout",
          "text": [
            "Test Loss: 0.128\n",
            "Test Accuracy: 0.96%\n"
          ]
        }
      ]
    },
    {
      "cell_type": "markdown",
      "source": [
        "## Plot Loss and Accuracy Curves"
      ],
      "metadata": {
        "id": "qvOfsB752las"
      }
    },
    {
      "cell_type": "code",
      "source": [
        "import matplotlib.pyplot as plt\n",
        "\n",
        "x = [i for i in range(len(valid_loss))]\n",
        "\n",
        "plt.plot(x, train_loss, label=\"Train Loss\")\n",
        "plt.plot(x, valid_loss, label=\"Validation Loss\")\n",
        "plt.legend()\n",
        "plt.show()"
      ],
      "metadata": {
        "colab": {
          "base_uri": "https://localhost:8080/",
          "height": 265
        },
        "id": "gk6I1WkDvWmE",
        "outputId": "a59b38e9-d0df-40af-9766-95f16ce245fb"
      },
      "execution_count": 11,
      "outputs": [
        {
          "output_type": "display_data",
          "data": {
            "text/plain": [
              "<Figure size 432x288 with 1 Axes>"
            ],
            "image/png": "[encoded data removed]"
          },
          "metadata": {
            "needs_background": "light"
          }
        }
      ]
    },
    {
      "cell_type": "code",
      "source": [
        "plt.plot(x, train_acc, label=\"Train Accuracy\")\n",
        "plt.plot(x, valid_acc, label=\"Validation Accuracy\")\n",
        "plt.legend()\n",
        "plt.show()"
      ],
      "metadata": {
        "colab": {
          "base_uri": "https://localhost:8080/",
          "height": 265
        },
        "id": "A-xP3uX63aT8",
        "outputId": "fd326d2a-b9c6-46ef-dbd1-d4807dc07fc7"
      },
      "execution_count": 12,
      "outputs": [
        {
          "output_type": "display_data",
          "data": {
            "text/plain": [
              "<Figure size 432x288 with 1 Axes>"
            ],
            "image/png": "[encoded data removed]"
          },
          "metadata": {
            "needs_background": "light"
          }
        }
      ]
    },
    {
      "cell_type": "code",
      "source": [],
      "metadata": {
        "id": "D_FdIR923n9N"
      },
      "execution_count": 12,
      "outputs": []
    }
  ]
}