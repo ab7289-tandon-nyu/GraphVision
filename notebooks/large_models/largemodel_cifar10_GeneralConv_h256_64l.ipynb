{
  "cells": [
    {
      "cell_type": "code",
      "execution_count": null,
      "metadata": {
        "colab": {
          "base_uri": "https://localhost:8080/"
        },
        "id": "HQeBbCYZlhKn",
        "outputId": "432b49c8-526c-473c-dbc7-bd0e301ead6f"
      },
      "outputs": [],
      "source": [
        "# Install required packages.\n",
        "import os\n",
        "import torch\n",
        "os.environ['TORCH'] = torch.__version__\n",
        "print(torch.__version__)\n",
        "\n",
        "# !pip install -q torch-scatter -f https://data.pyg.org/whl/torch-${TORCH}.html\n",
        "# !pip install -q torch-sparse -f https://data.pyg.org/whl/torch-${TORCH}.html\n",
        "# !pip install -q torch-cluster -f https://data.pyg.org/whl/torch-${TORCH}.html\n",
        "# !pip install -q git+https://github.com/pyg-team/pytorch_geometric.git"
      ]
    },
    {
      "cell_type": "code",
      "execution_count": null,
      "metadata": {
        "colab": {
          "base_uri": "https://localhost:8080/"
        },
        "id": "NUnIVvd-lxxZ",
        "outputId": "9679d5ae-c315-4679-ee87-0ece99f28b06"
      },
      "outputs": [],
      "source": [
        "# Install our repo\n",
        "# !git clone -b local_testing \"https://github.com/ab7289-tandon-nyu/GraphVision.git\"\n",
        "# !cp -r /content/GraphVision/src/ .\n",
        "\n",
        "# !pip install -q git+https://github.com/ab7289-tandon-nyu/GraphVision.git"
      ]
    },
    {
      "cell_type": "code",
      "execution_count": null,
      "metadata": {
        "id": "4hY3Lomuoya8"
      },
      "outputs": [],
      "source": [
        "SEED = 1234\n",
        "\n",
        "torch.manual_seed(SEED)\n",
        "torch.cuda.manual_seed(SEED)\n",
        "torch.backends.cudnn.deterministic = True"
      ]
    },
    {
      "cell_type": "code",
      "execution_count": null,
      "metadata": {
        "colab": {
          "base_uri": "https://localhost:8080/"
        },
        "id": "Qb19kB9HRuP9",
        "outputId": "40ba0fa3-ccb7-4eae-85ae-e36d62dd31db"
      },
      "outputs": [],
      "source": [
        "# from google.colab import drive\n",
        "# drive.mount(\"/content/drive\")"
      ]
    },
    {
      "cell_type": "code",
      "execution_count": null,
      "metadata": {
        "colab": {
          "base_uri": "https://localhost:8080/"
        },
        "id": "Wuj1_P_3m0-l",
        "outputId": "dcb031d0-9ee2-425c-be49-54a3bf044e9e"
      },
      "outputs": [],
      "source": [
        "from src.transforms import get_transforms\n",
        "from src.datasets import get_datasets, get_dataloaders\n",
        "\n",
        "transforms = get_transforms(\"cartesian\")\n",
        "train_dataset, valid_dataset, test_dataset = get_datasets(\".data/\", \n",
        "                        \"CIFAR10\", pre_transforms = None,\n",
        "                        transforms = transforms)\n",
        "BATCH_SIZE = 128\n",
        "\n",
        "train_loader, valid_loader, test_loader = get_dataloaders(train_dataset,\n",
        "                                                          valid_dataset,\n",
        "                                                          test_dataset,\n",
        "                                                          batch_size=(BATCH_SIZE, 1, 1),\n",
        "                                                          drop_last = False)"
      ]
    },
    {
      "cell_type": "markdown",
      "metadata": {
        "id": "Sjmgy7RvoJN-"
      },
      "source": [
        "## Review batch attributes"
      ]
    },
    {
      "cell_type": "code",
      "execution_count": null,
      "metadata": {
        "colab": {
          "base_uri": "https://localhost:8080/"
        },
        "id": "-QCa0O4IoM6U",
        "outputId": "42c02949-01c8-49f5-cf36-8d77ed3ddf95"
      },
      "outputs": [],
      "source": [
        "sample_batch = next(iter(train_loader))\n",
        "\n",
        "print()\n",
        "print(sample_batch)\n",
        "print(\"=====================================================================\")\n",
        "\n",
        "# Gather some statistics about the first graph.\n",
        "print(f\"Number of features:  {sample_batch.num_features}\")\n",
        "print(f\"Number of node features: {sample_batch.num_node_features}\")\n",
        "print(f'Number of nodes: {sample_batch.num_nodes}')\n",
        "print(f'Number of edges: {sample_batch.num_edges}')\n",
        "print(f'Average node degree: {sample_batch.num_edges / sample_batch.num_nodes:.2f}')\n",
        "print(f'Has isolated nodes: {sample_batch.has_isolated_nodes()}')\n",
        "print(f'Has self-loops: {sample_batch.has_self_loops()}')"
      ]
    },
    {
      "cell_type": "code",
      "execution_count": null,
      "metadata": {
        "colab": {
          "base_uri": "https://localhost:8080/"
        },
        "id": "tu3VtmrWpnZx",
        "outputId": "3b4d4b1a-4a83-44d6-e5df-18ea09b33fe9"
      },
      "outputs": [],
      "source": [
        "# store edge dimension\n",
        "edge_dim = sample_batch.edge_attr.size(-1)\n",
        "edge_dim\n",
        "# store number of features in graph batch\n",
        "input_features = test_dataset.num_features\n",
        "# store number of classes for classification\n",
        "num_classes = test_dataset.num_classes\n",
        "\n",
        "print(f\"Number of features: {input_features}\")\n",
        "print(f\"Number of classes: {num_classes}\")\n",
        "print(f\"Edge Attr Dimension: {edge_dim}\")\n",
        "print(f\"Steps per epoch: {len(train_loader)}\")"
      ]
    },
    {
      "cell_type": "code",
      "execution_count": null,
      "metadata": {
        "colab": {
          "base_uri": "https://localhost:8080/"
        },
        "id": "rqiZaFw2ps9r",
        "outputId": "7dd43a8d-6ee6-4ac8-a9c4-7bbcaaabeb19"
      },
      "outputs": [],
      "source": [
        "from pathlib import Path\n",
        "\n",
        "save_loc = \"\" # put save location here\n",
        "model_name = \"GeneralConv_clus-false_LN_GELU_layer64.pt\"\n",
        "\n",
        "file_path = save_loc + model_name\n",
        "path = Path(file_path)\n",
        "state_dict = None\n",
        "if path.exists() and path.is_file():\n",
        "  print(\"Found Save!\")\n",
        "  state_dict = torch.load(path)\n",
        "else:\n",
        "  print(\"Creating new Model\")"
      ]
    },
    {
      "cell_type": "markdown",
      "metadata": {
        "id": "gGiE28k32eUr"
      },
      "source": [
        "## Create our Model"
      ]
    },
    {
      "cell_type": "code",
      "execution_count": null,
      "metadata": {
        "colab": {
          "base_uri": "https://localhost:8080/"
        },
        "id": "epF5kpJcqWJw",
        "outputId": "0524ca69-2bd6-473e-99cc-a305a9861603"
      },
      "outputs": [],
      "source": [
        "from src.models import DeeperGCN\n",
        "from src.engine import evaluate\n",
        "import torch_directml\n",
        "\n",
        "hidden_features = 256\n",
        "\n",
        "device = torch_directml.device()\n",
        "# device = torch.device(\"cuda\" if torch.cuda.is_available() else \"cpu\")\n",
        "model = DeeperGCN(\n",
        "    input_features,\n",
        "    num_classes,\n",
        "    hidden_features,\n",
        "    conv_type = \"General\",\n",
        "    act = \"gelu\",\n",
        "    norm = \"layer\",\n",
        "    num_layers = 64,\n",
        "    use_cluster_pooling = False,\n",
        "    readout = \"mean\",\n",
        "    dropout = 0.2,\n",
        "    edge_dim = edge_dim\n",
        ").to(device)\n",
        "criterion = torch.nn.CrossEntropyLoss().to(device)\n",
        "prev_loss = None\n",
        "if state_dict is not None:\n",
        "  print(\"Loading previously saved state dictionary\")\n",
        "  model.load_state_dict(state_dict)\n",
        "  prev_loss, _ = evaluate(model.to(device), test_loader, criterion, device)\n",
        "optimizer = torch.optim.Adam(model.parameters(), lr=0.02)\n",
        "scheduler = torch.optim.lr_scheduler.CyclicLR(optimizer, base_lr=0.0001, max_lr=0.001, verbose=False, cycle_momentum=False)"
      ]
    },
    {
      "cell_type": "code",
      "execution_count": null,
      "metadata": {
        "colab": {
          "base_uri": "https://localhost:8080/"
        },
        "id": "fsm1MwvSr0nU",
        "outputId": "1ba74167-fa6f-46b9-9674-2d018f705114"
      },
      "outputs": [],
      "source": [
        "params = sum([p.numel() for p in model.parameters() if p.requires_grad])\n",
        "print(f\"There are {params:,} trainable parameters.\")\n",
        "print()\n",
        "print(model)"
      ]
    },
    {
      "cell_type": "markdown",
      "metadata": {
        "id": "uuoamYXu2hf-"
      },
      "source": [
        "## Train"
      ]
    },
    {
      "cell_type": "code",
      "execution_count": null,
      "metadata": {
        "colab": {
          "base_uri": "https://localhost:8080/"
        },
        "id": "8pyJ2olIr9pi",
        "outputId": "88949f41-a3b0-4e6d-e74a-8af53e1a8e30"
      },
      "outputs": [],
      "source": [
        "from src.engine import train, evaluate\n",
        "from src.utils import calculate_accuracy\n",
        "\n",
        "EPOCHS = 100\n",
        "train_loss = []\n",
        "train_acc = []\n",
        "valid_loss = []\n",
        "valid_acc = []\n",
        "best_loss = float('inf')\n",
        "best_loss = float('inf')\n",
        "if prev_loss is not None:\n",
        "  print(f\"Training from previous best loss: {prev_loss}\")\n",
        "  best_loss = prev_loss\n",
        "\n",
        "for epoch in range(1, EPOCHS + 1):\n",
        "  print(f\"\\nEpoch: {epoch}\\n\")\n",
        "  loss, acc = train(model, train_loader, criterion, optimizer, device, scheduler=scheduler)\n",
        "  train_loss.append(loss)\n",
        "  train_acc.append(acc)\n",
        "  print(f\"Train Loss: {train_loss[-1]:.3f}, Train Accuracy: {train_acc[-1]:.2f}\")\n",
        "\n",
        "  # scheduler.step()\n",
        "\n",
        "  loss, acc = evaluate(model, valid_loader, criterion, device)\n",
        "  valid_loss.append(loss)\n",
        "  valid_acc.append(acc)\n",
        "  print(f\"Validation Loss: {valid_loss[-1]:.3f}, Validation Accuracy: {valid_acc[-1]:.2f}\")\n",
        "\n",
        "  if loss < best_loss:\n",
        "    best_loss = loss\n",
        "    torch.save(model.state_dict(), path)"
      ]
    },
    {
      "cell_type": "markdown",
      "metadata": {
        "id": "GIu5vZ3d2jNJ"
      },
      "source": [
        "## Evaluate on the Test set"
      ]
    },
    {
      "cell_type": "code",
      "execution_count": null,
      "metadata": {
        "colab": {
          "base_uri": "https://localhost:8080/"
        },
        "id": "q5oWJj8g11MF",
        "outputId": "294d70af-507b-4fee-e317-e0b773a26717"
      },
      "outputs": [],
      "source": [
        "# load best model\n",
        "model.load_state_dict(torch.load(path))\n",
        "test_loss, test_acc = evaluate(model.to(device), test_loader, criterion, device)\n",
        "print(f\"Test Loss: {test_loss:.3f}\")\n",
        "print(f\"Test Accuracy: {test_acc:.2f}%\")"
      ]
    },
    {
      "cell_type": "markdown",
      "metadata": {
        "id": "qvOfsB752las"
      },
      "source": [
        "## Plot Loss and Accuracy Curves"
      ]
    },
    {
      "cell_type": "code",
      "execution_count": null,
      "metadata": {
        "colab": {
          "base_uri": "https://localhost:8080/",
          "height": 265
        },
        "id": "gk6I1WkDvWmE",
        "outputId": "762d9fcf-3ccb-4811-950b-7c890488354a"
      },
      "outputs": [],
      "source": [
        "import matplotlib.pyplot as plt\n",
        "\n",
        "x = [i for i in range(len(valid_loss))]\n",
        "\n",
        "plt.plot(x, train_loss, label=\"Train Loss\")\n",
        "plt.plot(x, valid_loss, label=\"Validation Loss\")\n",
        "plt.legend()\n",
        "plt.show()"
      ]
    },
    {
      "cell_type": "code",
      "execution_count": null,
      "metadata": {
        "colab": {
          "base_uri": "https://localhost:8080/",
          "height": 265
        },
        "id": "A-xP3uX63aT8",
        "outputId": "a9cc333d-396b-48de-97a1-9d9a7311f0cb"
      },
      "outputs": [],
      "source": [
        "plt.plot(x, train_acc, label=\"Train Accuracy\")\n",
        "plt.plot(x, valid_acc, label=\"Validation Accuracy\")\n",
        "plt.legend()\n",
        "plt.show()"
      ]
    },
    {
      "cell_type": "code",
      "execution_count": null,
      "metadata": {
        "id": "D_FdIR923n9N"
      },
      "outputs": [],
      "source": []
    }
  ],
  "metadata": {
    "accelerator": "GPU",
    "colab": {
      "provenance": []
    },
    "gpuClass": "premium",
    "kernelspec": {
      "display_name": "pytorch_dml3",
      "language": "python",
      "name": "python3"
    },
    "language_info": {
      "codemirror_mode": {
        "name": "ipython",
        "version": 3
      },
      "file_extension": ".py",
      "mimetype": "text/x-python",
      "name": "python",
      "nbconvert_exporter": "python",
      "pygments_lexer": "ipython3",
      "version": "3.9.15"
    },
    "vscode": {
      "interpreter": {
        "hash": "9c4ebf1824d6308eda80de852be4e755ea74a082484b35ba770a5e19ae7022a2"
      }
    }
  },
  "nbformat": 4,
  "nbformat_minor": 0
}
