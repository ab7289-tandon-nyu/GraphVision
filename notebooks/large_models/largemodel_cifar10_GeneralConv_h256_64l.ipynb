{
  "cells": [
    {
      "cell_type": "code",
      "execution_count": 1,
      "metadata": {
        "colab": {
          "base_uri": "https://localhost:8080/"
        },
        "id": "HQeBbCYZlhKn",
        "outputId": "432b49c8-526c-473c-dbc7-bd0e301ead6f"
      },
      "outputs": [
        {
          "name": "stdout",
          "output_type": "stream",
          "text": [
            "1.13.0+cu116\n",
            "\u001b[K     |████████████████████████████████| 9.4 MB 38.4 MB/s \n",
            "\u001b[K     |████████████████████████████████| 4.6 MB 33.0 MB/s \n",
            "\u001b[K     |████████████████████████████████| 3.2 MB 36.6 MB/s \n",
            "\u001b[K     |████████████████████████████████| 512 kB 29.4 MB/s \n",
            "\u001b[K     |████████████████████████████████| 280 kB 88.3 MB/s \n",
            "\u001b[?25h  Building wheel for torch-geometric (setup.py) ... \u001b[?25l\u001b[?25hdone\n"
          ]
        }
      ],
      "source": [
        "# Install required packages.\n",
        "import os\n",
        "import torch\n",
        "os.environ['TORCH'] = torch.__version__\n",
        "print(torch.__version__)\n",
        "\n",
        "!pip install -q torch-scatter -f https://data.pyg.org/whl/torch-${TORCH}.html\n",
        "!pip install -q torch-sparse -f https://data.pyg.org/whl/torch-${TORCH}.html\n",
        "!pip install -q torch-cluster -f https://data.pyg.org/whl/torch-${TORCH}.html\n",
        "!pip install -q git+https://github.com/pyg-team/pytorch_geometric.git"
      ]
    },
    {
      "cell_type": "code",
      "execution_count": 2,
      "metadata": {
        "colab": {
          "base_uri": "https://localhost:8080/"
        },
        "id": "NUnIVvd-lxxZ",
        "outputId": "9679d5ae-c315-4679-ee87-0ece99f28b06"
      },
      "outputs": [
        {
          "name": "stdout",
          "output_type": "stream",
          "text": [
            "  Installing build dependencies ... \u001b[?25l\u001b[?25hdone\n",
            "  Getting requirements to build wheel ... \u001b[?25l\u001b[?25hdone\n",
            "    Preparing wheel metadata ... \u001b[?25l\u001b[?25hdone\n",
            "\u001b[K     |████████████████████████████████| 121 kB 31.1 MB/s \n",
            "\u001b[K     |████████████████████████████████| 1.6 MB 66.8 MB/s \n",
            "\u001b[K     |████████████████████████████████| 83 kB 2.7 MB/s \n",
            "\u001b[?25h  Building wheel for GraphVision (PEP 517) ... \u001b[?25l\u001b[?25hdone\n"
          ]
        }
      ],
      "source": [
        "# Install our repo\n",
        "# !git clone -b models \"https://github.com/ab7289-tandon-nyu/GraphVision.git\"\n",
        "# !cp -r /content/GraphVision/src/ .\n",
        "\n",
        "!pip install -q git+https://github.com/ab7289-tandon-nyu/GraphVision.git"
      ]
    },
    {
      "cell_type": "code",
      "execution_count": 3,
      "metadata": {
        "id": "4hY3Lomuoya8"
      },
      "outputs": [],
      "source": [
        "SEED = 1234\n",
        "\n",
        "torch.manual_seed(SEED)\n",
        "torch.cuda.manual_seed(SEED)\n",
        "torch.backends.cudnn.deterministic = True"
      ]
    },
    {
      "cell_type": "code",
      "execution_count": 4,
      "metadata": {
        "colab": {
          "base_uri": "https://localhost:8080/"
        },
        "id": "Qb19kB9HRuP9",
        "outputId": "40ba0fa3-ccb7-4eae-85ae-e36d62dd31db"
      },
      "outputs": [
        {
          "name": "stdout",
          "output_type": "stream",
          "text": [
            "Mounted at /content/drive\n"
          ]
        }
      ],
      "source": [
        "from google.colab import drive\n",
        "drive.mount(\"/content/drive\")"
      ]
    },
    {
      "cell_type": "code",
      "execution_count": 5,
      "metadata": {
        "colab": {
          "base_uri": "https://localhost:8080/"
        },
        "id": "Wuj1_P_3m0-l",
        "outputId": "dcb031d0-9ee2-425c-be49-54a3bf044e9e"
      },
      "outputs": [
        {
          "name": "stderr",
          "output_type": "stream",
          "text": [
            "Downloading https://data.pyg.org/datasets/benchmarking-gnns/CIFAR10_v2.zip\n",
            "Extracting .data/CIFAR10/raw/CIFAR10_v2.zip\n",
            "Processing...\n",
            "Done!\n"
          ]
        }
      ],
      "source": [
        "from src.transforms import get_transforms\n",
        "from src.datasets import get_datasets, get_dataloaders\n",
        "\n",
        "transforms = get_transforms(\"cartesian\")\n",
        "train_dataset, valid_dataset, test_dataset = get_datasets(\".data/\", \n",
        "                        \"CIFAR10\", pre_transforms = None,\n",
        "                        transforms = transforms)\n",
        "BATCH_SIZE = 256\n",
        "\n",
        "train_loader, valid_loader, test_loader = get_dataloaders(train_dataset,\n",
        "                                                          valid_dataset,\n",
        "                                                          test_dataset,\n",
        "                                                          batch_size=(BATCH_SIZE, 1, 1),\n",
        "                                                          drop_last = False)"
      ]
    },
    {
      "cell_type": "markdown",
      "metadata": {
        "id": "Sjmgy7RvoJN-"
      },
      "source": [
        "## Review batch attributes"
      ]
    },
    {
      "cell_type": "code",
      "execution_count": 6,
      "metadata": {
        "colab": {
          "base_uri": "https://localhost:8080/"
        },
        "id": "-QCa0O4IoM6U",
        "outputId": "42c02949-01c8-49f5-cf36-8d77ed3ddf95"
      },
      "outputs": [
        {
          "name": "stdout",
          "output_type": "stream",
          "text": [
            "\n",
            "DataBatch(x=[30065, 3], edge_index=[2, 270585], edge_attr=[270585, 2], y=[256], pos=[30065, 2], edge_weight=[270585], batch=[30065], ptr=[257])\n",
            "=====================================================================\n",
            "Number of features:  3\n",
            "Number of node features: 3\n",
            "Number of nodes: 30065\n",
            "Number of edges: 270585\n",
            "Average node degree: 9.00\n",
            "Has isolated nodes: False\n",
            "Has self-loops: True\n"
          ]
        }
      ],
      "source": [
        "sample_batch = next(iter(train_loader))\n",
        "\n",
        "print()\n",
        "print(sample_batch)\n",
        "print(\"=====================================================================\")\n",
        "\n",
        "# Gather some statistics about the first graph.\n",
        "print(f\"Number of features:  {sample_batch.num_features}\")\n",
        "print(f\"Number of node features: {sample_batch.num_node_features}\")\n",
        "print(f'Number of nodes: {sample_batch.num_nodes}')\n",
        "print(f'Number of edges: {sample_batch.num_edges}')\n",
        "print(f'Average node degree: {sample_batch.num_edges / sample_batch.num_nodes:.2f}')\n",
        "print(f'Has isolated nodes: {sample_batch.has_isolated_nodes()}')\n",
        "print(f'Has self-loops: {sample_batch.has_self_loops()}')"
      ]
    },
    {
      "cell_type": "code",
      "execution_count": 7,
      "metadata": {
        "colab": {
          "base_uri": "https://localhost:8080/"
        },
        "id": "tu3VtmrWpnZx",
        "outputId": "3b4d4b1a-4a83-44d6-e5df-18ea09b33fe9"
      },
      "outputs": [
        {
          "name": "stdout",
          "output_type": "stream",
          "text": [
            "Number of features: 3\n",
            "Number of classes: 10\n",
            "Edge Attr Dimension: 2\n",
            "Steps per epoch: 176\n"
          ]
        }
      ],
      "source": [
        "# store edge dimension\n",
        "edge_dim = sample_batch.edge_attr.size(-1)\n",
        "edge_dim\n",
        "# store number of features in graph batch\n",
        "input_features = test_dataset.num_features\n",
        "# store number of classes for classification\n",
        "num_classes = test_dataset.num_classes\n",
        "\n",
        "print(f\"Number of features: {input_features}\")\n",
        "print(f\"Number of classes: {num_classes}\")\n",
        "print(f\"Edge Attr Dimension: {edge_dim}\")\n",
        "print(f\"Steps per epoch: {len(train_loader)}\")"
      ]
    },
    {
      "cell_type": "code",
      "execution_count": 8,
      "metadata": {
        "colab": {
          "base_uri": "https://localhost:8080/"
        },
        "id": "rqiZaFw2ps9r",
        "outputId": "7dd43a8d-6ee6-4ac8-a9c4-7bbcaaabeb19"
      },
      "outputs": [
        {
          "name": "stdout",
          "output_type": "stream",
          "text": [
            "Found Save!\n"
          ]
        }
      ],
      "source": [
        "from pathlib import Path\n",
        "\n",
        "save_loc = \"/content/drive/MyDrive/saved_models/\" # put save location here\n",
        "model_name = \"GeneralConv_clus-false_LN_GELU_layer64.pt\"\n",
        "\n",
        "file_path = save_loc + model_name\n",
        "path = Path(file_path)\n",
        "state_dict = None\n",
        "if path.exists() and path.is_file():\n",
        "  print(\"Found Save!\")\n",
        "  state_dict = torch.load(path)\n",
        "else:\n",
        "  print(\"Creating new Model\")"
      ]
    },
    {
      "cell_type": "markdown",
      "metadata": {
        "id": "gGiE28k32eUr"
      },
      "source": [
        "## Create our Model"
      ]
    },
    {
      "cell_type": "code",
      "execution_count": 9,
      "metadata": {
        "colab": {
          "base_uri": "https://localhost:8080/"
        },
        "id": "epF5kpJcqWJw",
        "outputId": "0524ca69-2bd6-473e-99cc-a305a9861603"
      },
      "outputs": [
        {
          "name": "stdout",
          "output_type": "stream",
          "text": [
            "Loading previously saved state dictionary\n",
            "Adjusting learning rate of group 0 to 1.0000e-04.\n"
          ]
        }
      ],
      "source": [
        "from src.models import DeeperGCN\n",
        "from src.engine import evaluate\n",
        "\n",
        "hidden_features = 256\n",
        "\n",
        "device = torch.device(\"cuda\" if torch.cuda.is_available() else \"cpu\")\n",
        "model = DeeperGCN(\n",
        "    input_features,\n",
        "    num_classes,\n",
        "    hidden_features,\n",
        "    conv_type = \"General\",\n",
        "    act = \"gelu\",\n",
        "    norm = \"layer\",\n",
        "    num_layers = 64,\n",
        "    use_cluster_pooling = False,\n",
        "    readout = \"mean\",\n",
        "    dropout = 0.2,\n",
        "    edge_dim = edge_dim\n",
        ").to(device)\n",
        "criterion = torch.nn.CrossEntropyLoss().to(device)\n",
        "prev_loss = None\n",
        "if state_dict is not None:\n",
        "  print(\"Loading previously saved state dictionary\")\n",
        "  model.load_state_dict(state_dict)\n",
        "  prev_loss, _ = evaluate(model.to(device), test_loader, criterion, device)\n",
        "optimizer = torch.optim.Adam(model.parameters(), lr=0.02)\n",
        "scheduler = torch.optim.lr_scheduler.CyclicLR(optimizer, base_lr=0.0001, max_lr=0.001, verbose=True, cycle_momentum=False)"
      ]
    },
    {
      "cell_type": "code",
      "execution_count": 10,
      "metadata": {
        "colab": {
          "base_uri": "https://localhost:8080/"
        },
        "id": "fsm1MwvSr0nU",
        "outputId": "1ba74167-fa6f-46b9-9674-2d018f705114"
      },
      "outputs": [
        {
          "name": "stdout",
          "output_type": "stream",
          "text": [
            "There are 4,296,202 trainable parameters.\n",
            "\n",
            "DeeperGCN(\n",
            "  (fc_in): Linear(in_features=3, out_features=256, bias=True)\n",
            "  (fc_out): Linear(in_features=256, out_features=10, bias=True)\n",
            "  (out_act): GELU(approximate='none')\n",
            "  (layers): ModuleList(\n",
            "    (0): DeepGCNLayer(block=res+)\n",
            "    (1): DeepGCNLayer(block=res+)\n",
            "    (2): DeepGCNLayer(block=res+)\n",
            "    (3): DeepGCNLayer(block=res+)\n",
            "    (4): DeepGCNLayer(block=res+)\n",
            "    (5): DeepGCNLayer(block=res+)\n",
            "    (6): DeepGCNLayer(block=res+)\n",
            "    (7): DeepGCNLayer(block=res+)\n",
            "    (8): DeepGCNLayer(block=res+)\n",
            "    (9): DeepGCNLayer(block=res+)\n",
            "    (10): DeepGCNLayer(block=res+)\n",
            "    (11): DeepGCNLayer(block=res+)\n",
            "    (12): DeepGCNLayer(block=res+)\n",
            "    (13): DeepGCNLayer(block=res+)\n",
            "    (14): DeepGCNLayer(block=res+)\n",
            "    (15): DeepGCNLayer(block=res+)\n",
            "    (16): DeepGCNLayer(block=res+)\n",
            "    (17): DeepGCNLayer(block=res+)\n",
            "    (18): DeepGCNLayer(block=res+)\n",
            "    (19): DeepGCNLayer(block=res+)\n",
            "    (20): DeepGCNLayer(block=res+)\n",
            "    (21): DeepGCNLayer(block=res+)\n",
            "    (22): DeepGCNLayer(block=res+)\n",
            "    (23): DeepGCNLayer(block=res+)\n",
            "    (24): DeepGCNLayer(block=res+)\n",
            "    (25): DeepGCNLayer(block=res+)\n",
            "    (26): DeepGCNLayer(block=res+)\n",
            "    (27): DeepGCNLayer(block=res+)\n",
            "    (28): DeepGCNLayer(block=res+)\n",
            "    (29): DeepGCNLayer(block=res+)\n",
            "    (30): DeepGCNLayer(block=res+)\n",
            "    (31): DeepGCNLayer(block=res+)\n",
            "    (32): DeepGCNLayer(block=res+)\n",
            "    (33): DeepGCNLayer(block=res+)\n",
            "    (34): DeepGCNLayer(block=res+)\n",
            "    (35): DeepGCNLayer(block=res+)\n",
            "    (36): DeepGCNLayer(block=res+)\n",
            "    (37): DeepGCNLayer(block=res+)\n",
            "    (38): DeepGCNLayer(block=res+)\n",
            "    (39): DeepGCNLayer(block=res+)\n",
            "    (40): DeepGCNLayer(block=res+)\n",
            "    (41): DeepGCNLayer(block=res+)\n",
            "    (42): DeepGCNLayer(block=res+)\n",
            "    (43): DeepGCNLayer(block=res+)\n",
            "    (44): DeepGCNLayer(block=res+)\n",
            "    (45): DeepGCNLayer(block=res+)\n",
            "    (46): DeepGCNLayer(block=res+)\n",
            "    (47): DeepGCNLayer(block=res+)\n",
            "    (48): DeepGCNLayer(block=res+)\n",
            "    (49): DeepGCNLayer(block=res+)\n",
            "    (50): DeepGCNLayer(block=res+)\n",
            "    (51): DeepGCNLayer(block=res+)\n",
            "    (52): DeepGCNLayer(block=res+)\n",
            "    (53): DeepGCNLayer(block=res+)\n",
            "    (54): DeepGCNLayer(block=res+)\n",
            "    (55): DeepGCNLayer(block=res+)\n",
            "    (56): DeepGCNLayer(block=res+)\n",
            "    (57): DeepGCNLayer(block=res+)\n",
            "    (58): DeepGCNLayer(block=res+)\n",
            "    (59): DeepGCNLayer(block=res+)\n",
            "    (60): DeepGCNLayer(block=res+)\n",
            "    (61): DeepGCNLayer(block=res+)\n",
            "    (62): DeepGCNLayer(block=res+)\n",
            "    (63): DeepGCNLayer(block=res+)\n",
            "  )\n",
            ")\n"
          ]
        }
      ],
      "source": [
        "params = sum([p.numel() for p in model.parameters() if p.requires_grad])\n",
        "print(f\"There are {params:,} trainable parameters.\")\n",
        "print()\n",
        "print(model)"
      ]
    },
    {
      "cell_type": "markdown",
      "metadata": {
        "id": "uuoamYXu2hf-"
      },
      "source": [
        "## Train"
      ]
    },
    {
      "cell_type": "code",
      "execution_count": 11,
      "metadata": {
        "colab": {
          "base_uri": "https://localhost:8080/"
        },
        "id": "8pyJ2olIr9pi",
        "outputId": "88949f41-a3b0-4e6d-e74a-8af53e1a8e30"
      },
      "outputs": [
        {
          "name": "stdout",
          "output_type": "stream",
          "text": [
            "Training from previous best loss: 1.9494455734848977\n",
            "\n",
            "Epoch: 1\n",
            "\n",
            "Train Loss: 1.989, Train Accuracy: 0.24\n",
            "Adjusting learning rate of group 0 to 1.0045e-04.\n",
            "Validation Loss: 1.914, Validation Accuracy: 0.28\n",
            "\n",
            "Epoch: 2\n",
            "\n",
            "Train Loss: 1.976, Train Accuracy: 0.25\n",
            "Adjusting learning rate of group 0 to 1.0090e-04.\n",
            "Validation Loss: 1.914, Validation Accuracy: 0.27\n",
            "\n",
            "Epoch: 3\n",
            "\n",
            "Train Loss: 1.978, Train Accuracy: 0.25\n",
            "Adjusting learning rate of group 0 to 1.0135e-04.\n",
            "Validation Loss: 1.977, Validation Accuracy: 0.25\n",
            "\n",
            "Epoch: 4\n",
            "\n",
            "Train Loss: 1.969, Train Accuracy: 0.25\n",
            "Adjusting learning rate of group 0 to 1.0180e-04.\n",
            "Validation Loss: 1.881, Validation Accuracy: 0.29\n",
            "\n",
            "Epoch: 5\n",
            "\n",
            "Train Loss: 1.954, Train Accuracy: 0.26\n",
            "Adjusting learning rate of group 0 to 1.0225e-04.\n",
            "Validation Loss: 1.890, Validation Accuracy: 0.28\n",
            "\n",
            "Epoch: 6\n",
            "\n",
            "Train Loss: 1.951, Train Accuracy: 0.26\n",
            "Adjusting learning rate of group 0 to 1.0270e-04.\n",
            "Validation Loss: 1.898, Validation Accuracy: 0.29\n",
            "\n",
            "Epoch: 7\n",
            "\n",
            "Train Loss: 1.948, Train Accuracy: 0.26\n",
            "Adjusting learning rate of group 0 to 1.0315e-04.\n",
            "Validation Loss: 1.919, Validation Accuracy: 0.27\n",
            "\n",
            "Epoch: 8\n",
            "\n",
            "Train Loss: 1.938, Train Accuracy: 0.26\n",
            "Adjusting learning rate of group 0 to 1.0360e-04.\n",
            "Validation Loss: 1.905, Validation Accuracy: 0.27\n",
            "\n",
            "Epoch: 9\n",
            "\n",
            "Train Loss: 1.931, Train Accuracy: 0.26\n",
            "Adjusting learning rate of group 0 to 1.0405e-04.\n",
            "Validation Loss: 1.849, Validation Accuracy: 0.29\n",
            "\n",
            "Epoch: 10\n",
            "\n",
            "Train Loss: 1.927, Train Accuracy: 0.27\n",
            "Adjusting learning rate of group 0 to 1.0450e-04.\n",
            "Validation Loss: 1.857, Validation Accuracy: 0.29\n",
            "\n",
            "Epoch: 11\n",
            "\n",
            "Train Loss: 1.922, Train Accuracy: 0.27\n",
            "Adjusting learning rate of group 0 to 1.0495e-04.\n",
            "Validation Loss: 1.868, Validation Accuracy: 0.29\n",
            "\n",
            "Epoch: 12\n",
            "\n",
            "Train Loss: 1.911, Train Accuracy: 0.28\n",
            "Adjusting learning rate of group 0 to 1.0540e-04.\n",
            "Validation Loss: 1.872, Validation Accuracy: 0.30\n",
            "\n",
            "Epoch: 13\n",
            "\n",
            "Train Loss: 1.911, Train Accuracy: 0.28\n",
            "Adjusting learning rate of group 0 to 1.0585e-04.\n",
            "Validation Loss: 1.846, Validation Accuracy: 0.30\n",
            "\n",
            "Epoch: 14\n",
            "\n",
            "Train Loss: 1.905, Train Accuracy: 0.28\n",
            "Adjusting learning rate of group 0 to 1.0630e-04.\n",
            "Validation Loss: 1.837, Validation Accuracy: 0.31\n",
            "\n",
            "Epoch: 15\n",
            "\n",
            "Train Loss: 1.904, Train Accuracy: 0.28\n",
            "Adjusting learning rate of group 0 to 1.0675e-04.\n",
            "Validation Loss: 1.852, Validation Accuracy: 0.31\n",
            "\n",
            "Epoch: 16\n",
            "\n",
            "Train Loss: 1.895, Train Accuracy: 0.28\n",
            "Adjusting learning rate of group 0 to 1.0720e-04.\n",
            "Validation Loss: 1.839, Validation Accuracy: 0.31\n",
            "\n",
            "Epoch: 17\n",
            "\n",
            "Train Loss: 1.888, Train Accuracy: 0.29\n",
            "Adjusting learning rate of group 0 to 1.0765e-04.\n",
            "Validation Loss: 1.831, Validation Accuracy: 0.31\n",
            "\n",
            "Epoch: 18\n",
            "\n",
            "Train Loss: 1.887, Train Accuracy: 0.29\n",
            "Adjusting learning rate of group 0 to 1.0810e-04.\n",
            "Validation Loss: 1.807, Validation Accuracy: 0.33\n",
            "\n",
            "Epoch: 19\n",
            "\n",
            "Train Loss: 1.877, Train Accuracy: 0.30\n",
            "Adjusting learning rate of group 0 to 1.0855e-04.\n",
            "Validation Loss: 1.841, Validation Accuracy: 0.31\n",
            "\n",
            "Epoch: 20\n",
            "\n",
            "Train Loss: 1.878, Train Accuracy: 0.29\n",
            "Adjusting learning rate of group 0 to 1.0900e-04.\n",
            "Validation Loss: 1.783, Validation Accuracy: 0.33\n",
            "\n",
            "Epoch: 21\n",
            "\n",
            "Train Loss: 1.864, Train Accuracy: 0.30\n",
            "Adjusting learning rate of group 0 to 1.0945e-04.\n",
            "Validation Loss: 1.833, Validation Accuracy: 0.31\n",
            "\n",
            "Epoch: 22\n",
            "\n",
            "Train Loss: 1.864, Train Accuracy: 0.30\n",
            "Adjusting learning rate of group 0 to 1.0990e-04.\n",
            "Validation Loss: 1.785, Validation Accuracy: 0.33\n",
            "\n",
            "Epoch: 23\n",
            "\n",
            "Train Loss: 1.856, Train Accuracy: 0.30\n",
            "Adjusting learning rate of group 0 to 1.1035e-04.\n",
            "Validation Loss: 1.838, Validation Accuracy: 0.31\n",
            "\n",
            "Epoch: 24\n",
            "\n",
            "Train Loss: 1.849, Train Accuracy: 0.31\n",
            "Adjusting learning rate of group 0 to 1.1080e-04.\n",
            "Validation Loss: 1.827, Validation Accuracy: 0.30\n",
            "\n",
            "Epoch: 25\n",
            "\n",
            "Train Loss: 1.844, Train Accuracy: 0.31\n",
            "Adjusting learning rate of group 0 to 1.1125e-04.\n",
            "Validation Loss: 1.771, Validation Accuracy: 0.33\n",
            "\n",
            "Epoch: 26\n",
            "\n",
            "Train Loss: 1.831, Train Accuracy: 0.31\n",
            "Adjusting learning rate of group 0 to 1.1170e-04.\n",
            "Validation Loss: 1.775, Validation Accuracy: 0.34\n",
            "\n",
            "Epoch: 27\n",
            "\n",
            "Train Loss: 1.831, Train Accuracy: 0.31\n",
            "Adjusting learning rate of group 0 to 1.1215e-04.\n",
            "Validation Loss: 1.759, Validation Accuracy: 0.35\n",
            "\n",
            "Epoch: 28\n",
            "\n",
            "Train Loss: 1.829, Train Accuracy: 0.31\n",
            "Adjusting learning rate of group 0 to 1.1260e-04.\n",
            "Validation Loss: 1.767, Validation Accuracy: 0.34\n",
            "\n",
            "Epoch: 29\n",
            "\n",
            "Train Loss: 1.832, Train Accuracy: 0.32\n",
            "Adjusting learning rate of group 0 to 1.1305e-04.\n",
            "Validation Loss: 1.787, Validation Accuracy: 0.34\n",
            "\n",
            "Epoch: 30\n",
            "\n",
            "Train Loss: 1.818, Train Accuracy: 0.32\n",
            "Adjusting learning rate of group 0 to 1.1350e-04.\n",
            "Validation Loss: 1.714, Validation Accuracy: 0.36\n",
            "\n",
            "Epoch: 31\n",
            "\n",
            "Train Loss: 1.810, Train Accuracy: 0.33\n",
            "Adjusting learning rate of group 0 to 1.1395e-04.\n",
            "Validation Loss: 1.754, Validation Accuracy: 0.35\n",
            "\n",
            "Epoch: 32\n",
            "\n",
            "Train Loss: 1.807, Train Accuracy: 0.32\n",
            "Adjusting learning rate of group 0 to 1.1440e-04.\n",
            "Validation Loss: 1.720, Validation Accuracy: 0.36\n",
            "\n",
            "Epoch: 33\n",
            "\n",
            "Train Loss: 1.793, Train Accuracy: 0.33\n",
            "Adjusting learning rate of group 0 to 1.1485e-04.\n",
            "Validation Loss: 1.766, Validation Accuracy: 0.34\n",
            "\n",
            "Epoch: 34\n",
            "\n",
            "Train Loss: 1.790, Train Accuracy: 0.33\n",
            "Adjusting learning rate of group 0 to 1.1530e-04.\n",
            "Validation Loss: 1.708, Validation Accuracy: 0.36\n",
            "\n",
            "Epoch: 35\n",
            "\n",
            "Train Loss: 1.788, Train Accuracy: 0.33\n",
            "Adjusting learning rate of group 0 to 1.1575e-04.\n",
            "Validation Loss: 1.711, Validation Accuracy: 0.37\n",
            "\n",
            "Epoch: 36\n",
            "\n",
            "Train Loss: 1.773, Train Accuracy: 0.34\n",
            "Adjusting learning rate of group 0 to 1.1620e-04.\n",
            "Validation Loss: 1.783, Validation Accuracy: 0.33\n",
            "\n",
            "Epoch: 37\n",
            "\n",
            "Train Loss: 1.766, Train Accuracy: 0.34\n",
            "Adjusting learning rate of group 0 to 1.1665e-04.\n",
            "Validation Loss: 1.690, Validation Accuracy: 0.38\n",
            "\n",
            "Epoch: 38\n",
            "\n",
            "Train Loss: 1.760, Train Accuracy: 0.34\n",
            "Adjusting learning rate of group 0 to 1.1710e-04.\n",
            "Validation Loss: 1.658, Validation Accuracy: 0.39\n",
            "\n",
            "Epoch: 39\n",
            "\n",
            "Train Loss: 1.753, Train Accuracy: 0.35\n",
            "Adjusting learning rate of group 0 to 1.1755e-04.\n",
            "Validation Loss: 1.646, Validation Accuracy: 0.39\n",
            "\n",
            "Epoch: 40\n",
            "\n",
            "Train Loss: 1.745, Train Accuracy: 0.35\n",
            "Adjusting learning rate of group 0 to 1.1800e-04.\n",
            "Validation Loss: 1.698, Validation Accuracy: 0.36\n",
            "\n",
            "Epoch: 41\n",
            "\n",
            "Train Loss: 1.752, Train Accuracy: 0.35\n",
            "Adjusting learning rate of group 0 to 1.1845e-04.\n",
            "Validation Loss: 1.683, Validation Accuracy: 0.38\n",
            "\n",
            "Epoch: 42\n",
            "\n",
            "Train Loss: 1.737, Train Accuracy: 0.35\n",
            "Adjusting learning rate of group 0 to 1.1890e-04.\n",
            "Validation Loss: 1.640, Validation Accuracy: 0.39\n",
            "\n",
            "Epoch: 43\n",
            "\n",
            "Train Loss: 1.736, Train Accuracy: 0.36\n",
            "Adjusting learning rate of group 0 to 1.1935e-04.\n",
            "Validation Loss: 1.677, Validation Accuracy: 0.38\n",
            "\n",
            "Epoch: 44\n",
            "\n",
            "Train Loss: 1.726, Train Accuracy: 0.36\n",
            "Adjusting learning rate of group 0 to 1.1980e-04.\n",
            "Validation Loss: 1.641, Validation Accuracy: 0.40\n",
            "\n",
            "Epoch: 45\n",
            "\n",
            "Train Loss: 1.718, Train Accuracy: 0.36\n",
            "Adjusting learning rate of group 0 to 1.2025e-04.\n",
            "Validation Loss: 1.696, Validation Accuracy: 0.38\n",
            "\n",
            "Epoch: 46\n",
            "\n",
            "Train Loss: 1.717, Train Accuracy: 0.36\n",
            "Adjusting learning rate of group 0 to 1.2070e-04.\n",
            "Validation Loss: 1.657, Validation Accuracy: 0.39\n",
            "\n",
            "Epoch: 47\n",
            "\n",
            "Train Loss: 1.712, Train Accuracy: 0.37\n",
            "Adjusting learning rate of group 0 to 1.2115e-04.\n",
            "Validation Loss: 1.640, Validation Accuracy: 0.40\n",
            "\n",
            "Epoch: 48\n",
            "\n",
            "Train Loss: 1.707, Train Accuracy: 0.37\n",
            "Adjusting learning rate of group 0 to 1.2160e-04.\n",
            "Validation Loss: 1.624, Validation Accuracy: 0.40\n",
            "\n",
            "Epoch: 49\n",
            "\n",
            "Train Loss: 1.700, Train Accuracy: 0.37\n",
            "Adjusting learning rate of group 0 to 1.2205e-04.\n",
            "Validation Loss: 1.630, Validation Accuracy: 0.40\n",
            "\n",
            "Epoch: 50\n",
            "\n",
            "Train Loss: 1.695, Train Accuracy: 0.37\n",
            "Adjusting learning rate of group 0 to 1.2250e-04.\n",
            "Validation Loss: 1.616, Validation Accuracy: 0.41\n",
            "\n",
            "Epoch: 51\n",
            "\n",
            "Train Loss: 1.695, Train Accuracy: 0.37\n",
            "Adjusting learning rate of group 0 to 1.2295e-04.\n",
            "Validation Loss: 1.631, Validation Accuracy: 0.40\n",
            "\n",
            "Epoch: 52\n",
            "\n",
            "Train Loss: 1.704, Train Accuracy: 0.37\n",
            "Adjusting learning rate of group 0 to 1.2340e-04.\n",
            "Validation Loss: 1.619, Validation Accuracy: 0.41\n",
            "\n",
            "Epoch: 53\n",
            "\n",
            "Train Loss: 1.684, Train Accuracy: 0.38\n",
            "Adjusting learning rate of group 0 to 1.2385e-04.\n",
            "Validation Loss: 1.615, Validation Accuracy: 0.41\n",
            "\n",
            "Epoch: 54\n",
            "\n",
            "Train Loss: 1.687, Train Accuracy: 0.38\n",
            "Adjusting learning rate of group 0 to 1.2430e-04.\n",
            "Validation Loss: 1.650, Validation Accuracy: 0.40\n",
            "\n",
            "Epoch: 55\n",
            "\n",
            "Train Loss: 1.681, Train Accuracy: 0.38\n",
            "Adjusting learning rate of group 0 to 1.2475e-04.\n",
            "Validation Loss: 1.602, Validation Accuracy: 0.41\n",
            "\n",
            "Epoch: 56\n",
            "\n",
            "Train Loss: 1.682, Train Accuracy: 0.38\n",
            "Adjusting learning rate of group 0 to 1.2520e-04.\n",
            "Validation Loss: 1.629, Validation Accuracy: 0.40\n",
            "\n",
            "Epoch: 57\n",
            "\n",
            "Train Loss: 1.670, Train Accuracy: 0.39\n",
            "Adjusting learning rate of group 0 to 1.2565e-04.\n",
            "Validation Loss: 1.622, Validation Accuracy: 0.41\n",
            "\n",
            "Epoch: 58\n",
            "\n",
            "Train Loss: 1.667, Train Accuracy: 0.39\n",
            "Adjusting learning rate of group 0 to 1.2610e-04.\n",
            "Validation Loss: 1.624, Validation Accuracy: 0.40\n",
            "\n",
            "Epoch: 59\n",
            "\n",
            "Train Loss: 1.661, Train Accuracy: 0.39\n",
            "Adjusting learning rate of group 0 to 1.2655e-04.\n",
            "Validation Loss: 1.599, Validation Accuracy: 0.42\n",
            "\n",
            "Epoch: 60\n",
            "\n",
            "Train Loss: 1.652, Train Accuracy: 0.39\n",
            "Adjusting learning rate of group 0 to 1.2700e-04.\n",
            "Validation Loss: 1.559, Validation Accuracy: 0.43\n",
            "\n",
            "Epoch: 61\n",
            "\n",
            "Train Loss: 1.651, Train Accuracy: 0.39\n",
            "Adjusting learning rate of group 0 to 1.2745e-04.\n",
            "Validation Loss: 1.608, Validation Accuracy: 0.41\n",
            "\n",
            "Epoch: 62\n",
            "\n",
            "Train Loss: 1.646, Train Accuracy: 0.40\n",
            "Adjusting learning rate of group 0 to 1.2790e-04.\n",
            "Validation Loss: 1.609, Validation Accuracy: 0.41\n",
            "\n",
            "Epoch: 63\n",
            "\n",
            "Train Loss: 1.637, Train Accuracy: 0.40\n",
            "Adjusting learning rate of group 0 to 1.2835e-04.\n",
            "Validation Loss: 1.594, Validation Accuracy: 0.43\n",
            "\n",
            "Epoch: 64\n",
            "\n",
            "Train Loss: 1.644, Train Accuracy: 0.40\n",
            "Adjusting learning rate of group 0 to 1.2880e-04.\n",
            "Validation Loss: 1.589, Validation Accuracy: 0.42\n",
            "\n",
            "Epoch: 65\n",
            "\n",
            "Train Loss: 1.635, Train Accuracy: 0.40\n",
            "Adjusting learning rate of group 0 to 1.2925e-04.\n",
            "Validation Loss: 1.555, Validation Accuracy: 0.43\n",
            "\n",
            "Epoch: 66\n",
            "\n",
            "Train Loss: 1.632, Train Accuracy: 0.40\n",
            "Adjusting learning rate of group 0 to 1.2970e-04.\n",
            "Validation Loss: 1.598, Validation Accuracy: 0.42\n",
            "\n",
            "Epoch: 67\n",
            "\n",
            "Train Loss: 1.636, Train Accuracy: 0.40\n",
            "Adjusting learning rate of group 0 to 1.3015e-04.\n",
            "Validation Loss: 1.565, Validation Accuracy: 0.43\n",
            "\n",
            "Epoch: 68\n",
            "\n",
            "Train Loss: 1.624, Train Accuracy: 0.41\n",
            "Adjusting learning rate of group 0 to 1.3060e-04.\n",
            "Validation Loss: 1.558, Validation Accuracy: 0.43\n",
            "\n",
            "Epoch: 69\n",
            "\n",
            "Train Loss: 1.619, Train Accuracy: 0.41\n",
            "Adjusting learning rate of group 0 to 1.3105e-04.\n",
            "Validation Loss: 1.578, Validation Accuracy: 0.42\n",
            "\n",
            "Epoch: 70\n",
            "\n",
            "Train Loss: 1.618, Train Accuracy: 0.41\n",
            "Adjusting learning rate of group 0 to 1.3150e-04.\n",
            "Validation Loss: 1.561, Validation Accuracy: 0.43\n",
            "\n",
            "Epoch: 71\n",
            "\n",
            "Train Loss: 1.621, Train Accuracy: 0.41\n",
            "Adjusting learning rate of group 0 to 1.3195e-04.\n",
            "Validation Loss: 1.547, Validation Accuracy: 0.44\n",
            "\n",
            "Epoch: 72\n",
            "\n",
            "Train Loss: 1.613, Train Accuracy: 0.41\n",
            "Adjusting learning rate of group 0 to 1.3240e-04.\n",
            "Validation Loss: 1.579, Validation Accuracy: 0.42\n",
            "\n",
            "Epoch: 73\n",
            "\n",
            "Train Loss: 1.604, Train Accuracy: 0.41\n",
            "Adjusting learning rate of group 0 to 1.3285e-04.\n",
            "Validation Loss: 1.565, Validation Accuracy: 0.44\n"
          ]
        }
      ],
      "source": [
        "from src.engine import train, evaluate\n",
        "from src.utils import calculate_accuracy\n",
        "\n",
        "EPOCHS = 100-18-9\n",
        "train_loss = []\n",
        "train_acc = []\n",
        "valid_loss = []\n",
        "valid_acc = []\n",
        "best_loss = float('inf')\n",
        "best_loss = float('inf')\n",
        "if prev_loss is not None:\n",
        "  print(f\"Training from previous best loss: {prev_loss}\")\n",
        "  best_loss = prev_loss\n",
        "\n",
        "for epoch in range(1, EPOCHS + 1):\n",
        "  print(f\"\\nEpoch: {epoch}\\n\")\n",
        "  loss, acc = train(model, train_loader, criterion, optimizer, device)\n",
        "  train_loss.append(loss)\n",
        "  train_acc.append(acc)\n",
        "  print(f\"Train Loss: {train_loss[-1]:.3f}, Train Accuracy: {train_acc[-1]:.2f}\")\n",
        "\n",
        "  scheduler.step()\n",
        "\n",
        "  loss, acc = evaluate(model, valid_loader, criterion, device)\n",
        "  valid_loss.append(loss)\n",
        "  valid_acc.append(acc)\n",
        "  print(f\"Validation Loss: {valid_loss[-1]:.3f}, Validation Accuracy: {valid_acc[-1]:.2f}\")\n",
        "\n",
        "  if loss < best_loss:\n",
        "    best_loss = loss\n",
        "    torch.save(model.state_dict(), path)"
      ]
    },
    {
      "cell_type": "markdown",
      "metadata": {
        "id": "GIu5vZ3d2jNJ"
      },
      "source": [
        "## Evaluate on the Test set"
      ]
    },
    {
      "cell_type": "code",
      "execution_count": 12,
      "metadata": {
        "colab": {
          "base_uri": "https://localhost:8080/"
        },
        "id": "q5oWJj8g11MF",
        "outputId": "294d70af-507b-4fee-e317-e0b773a26717"
      },
      "outputs": [
        {
          "name": "stdout",
          "output_type": "stream",
          "text": [
            "Test Loss: 1.546\n",
            "Test Accuracy: 0.44%\n"
          ]
        }
      ],
      "source": [
        "# load best model\n",
        "model.load_state_dict(torch.load(path))\n",
        "test_loss, test_acc = evaluate(model.to(device), test_loader, criterion, device)\n",
        "print(f\"Test Loss: {test_loss:.3f}\")\n",
        "print(f\"Test Accuracy: {test_acc:.2f}%\")"
      ]
    },
    {
      "cell_type": "markdown",
      "metadata": {
        "id": "qvOfsB752las"
      },
      "source": [
        "## Plot Loss and Accuracy Curves"
      ]
    },
    {
      "cell_type": "code",
      "execution_count": 13,
      "metadata": {
        "colab": {
          "base_uri": "https://localhost:8080/",
          "height": 265
        },
        "id": "gk6I1WkDvWmE",
        "outputId": "762d9fcf-3ccb-4811-950b-7c890488354a"
      },
      "outputs": [
        {
          "data": {
            "image/png": "[encoded data removed]",
            "text/plain": [
              "<Figure size 432x288 with 1 Axes>"
            ]
          },
          "metadata": {
            "needs_background": "light"
          },
          "output_type": "display_data"
        }
      ],
      "source": [
        "import matplotlib.pyplot as plt\n",
        "\n",
        "x = [i for i in range(len(valid_loss))]\n",
        "\n",
        "plt.plot(x, train_loss, label=\"Train Loss\")\n",
        "plt.plot(x, valid_loss, label=\"Validation Loss\")\n",
        "plt.legend()\n",
        "plt.show()"
      ]
    },
    {
      "cell_type": "code",
      "execution_count": 14,
      "metadata": {
        "colab": {
          "base_uri": "https://localhost:8080/",
          "height": 265
        },
        "id": "A-xP3uX63aT8",
        "outputId": "a9cc333d-396b-48de-97a1-9d9a7311f0cb"
      },
      "outputs": [
        {
          "data": {
            "image/png": "[encoded data removed]",
            "text/plain": [
              "<Figure size 432x288 with 1 Axes>"
            ]
          },
          "metadata": {
            "needs_background": "light"
          },
          "output_type": "display_data"
        }
      ],
      "source": [
        "plt.plot(x, train_acc, label=\"Train Accuracy\")\n",
        "plt.plot(x, valid_acc, label=\"Validation Accuracy\")\n",
        "plt.legend()\n",
        "plt.show()"
      ]
    },
    {
      "cell_type": "code",
      "execution_count": 14,
      "metadata": {
        "id": "D_FdIR923n9N"
      },
      "outputs": [],
      "source": []
    }
  ],
  "metadata": {
    "accelerator": "GPU",
    "colab": {
      "provenance": []
    },
    "gpuClass": "premium",
    "kernelspec": {
      "display_name": "pyg",
      "language": "python",
      "name": "python3"
    },
    "language_info": {
      "codemirror_mode": {
        "name": "ipython",
        "version": 3
      },
      "file_extension": ".py",
      "mimetype": "text/x-python",
      "name": "python",
      "nbconvert_exporter": "python",
      "pygments_lexer": "ipython3",
      "version": "3.8.15 (default, Nov 24 2022, 15:19:38) \n[GCC 11.2.0]"
    },
    "vscode": {
      "interpreter": {
        "hash": "536bff2171606441367cae7f69d00d135102e5bf4fb8efd84c776e7ac6821f3a"
      }
    }
  },
  "nbformat": 4,
  "nbformat_minor": 0
}
