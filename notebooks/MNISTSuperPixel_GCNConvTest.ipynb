{
  "cells": [
    {
      "cell_type": "code",
      "execution_count": 1,
      "metadata": {
        "colab": {
          "base_uri": "https://localhost:8080/"
        },
        "id": "xHGpcshieLYC",
        "outputId": "eeb6e5a7-45dc-4161-a91e-0af5af24a45b"
      },
      "outputs": [
        {
          "name": "stdout",
          "output_type": "stream",
          "text": [
            "1.13.0\n"
          ]
        }
      ],
      "source": [
        "# Install required packages.\n",
        "import os\n",
        "import torch\n",
        "os.environ['TORCH'] = torch.__version__\n",
        "print(torch.__version__)\n",
        "\n",
        "!pip install -q torch-scatter -f https://data.pyg.org/whl/torch-${TORCH}.html\n",
        "!pip install -q torch-sparse -f https://data.pyg.org/whl/torch-${TORCH}.html\n",
        "!pip install -q torch-cluster -f https://data.pyg.org/whl/torch-${TORCH}.html\n",
        "!pip install -q git+https://github.com/pyg-team/pytorch_geometric.git"
      ]
    },
    {
      "cell_type": "code",
      "execution_count": 2,
      "metadata": {
        "id": "yttWCfqQeYrA"
      },
      "outputs": [],
      "source": [
        "import torch\n",
        "import torch.nn as nn\n",
        "import torch.nn.functional as F\n",
        "\n",
        "from torch_geometric.datasets import MNISTSuperpixels\n",
        "from torch_geometric.loader import DataLoader\n",
        "import torch_geometric.transforms as T\n",
        "import torch_geometric.nn as gnn\n",
        "from torch_geometric.utils import normalized_cut  "
      ]
    },
    {
      "cell_type": "code",
      "execution_count": 3,
      "metadata": {
        "colab": {
          "base_uri": "https://localhost:8080/"
        },
        "id": "9CqLQcnEe6hg",
        "outputId": "f0e88660-8c91-4db5-f17a-d6e67a26977c"
      },
      "outputs": [
        {
          "name": "stdout",
          "output_type": "stream",
          "text": [
            "Dataset:\n",
            "MNISTSuperpixels(60000)\n",
            "\n",
            "Data(x=[75, 1], edge_index=[2, 1471], y=[1], pos=[75, 2], edge_weight=[1471], edge_attr=[1471, 2])\n",
            "=============================================================\n",
            "Number of features:  1\n",
            "Number of node features: 1\n",
            "Number of nodes: 75\n",
            "Number of edges: 1471\n",
            "Average node degree: 19.61\n",
            "Has isolated nodes: False\n",
            "Has self-loops: True\n",
            "Edge weight min: 0.03333333134651184, max: 0.1249999925494194\n"
          ]
        }
      ],
      "source": [
        "path = \".data/\"\n",
        "transform = T.Compose([\n",
        "    T.GCNNorm(),\n",
        "    T.Cartesian(cat=False),\n",
        "    T.NormalizeScale(),\n",
        "])\n",
        "\n",
        "batch_size = 64\n",
        "\n",
        "train_dataset = MNISTSuperpixels(path, True, transform=transform)\n",
        "test_dataset = MNISTSuperpixels(path, False, transform=transform)\n",
        "train_loader = DataLoader(train_dataset, batch_size=batch_size, shuffle=True, drop_last=True)\n",
        "test_loader = DataLoader(test_dataset, batch_size=batch_size, drop_last=True)\n",
        "d = train_dataset\n",
        "\n",
        "print(f\"Dataset:\\n{d}\")\n",
        "\n",
        "sample = train_dataset[0]\n",
        "print()\n",
        "print(sample)\n",
        "print('=============================================================')\n",
        "\n",
        "# Gather some statistics about the first graph.\n",
        "print(f\"Number of features:  {sample.num_features}\")\n",
        "print(f\"Number of node features: {sample.num_node_features}\")\n",
        "print(f'Number of nodes: {sample.num_nodes}')\n",
        "print(f'Number of edges: {sample.num_edges}')\n",
        "# print(f\"Adjacency Matrix: {data.adj_t}\")\n",
        "print(f'Average node degree: {sample.num_edges / sample.num_nodes:.2f}')\n",
        "print(f'Has isolated nodes: {sample.has_isolated_nodes()}')\n",
        "print(f'Has self-loops: {sample.has_self_loops()}')\n",
        "# print(f'Is undirected: {sample.is_undirected()}')\n",
        "# print(f\"Adjacency matrix: {sample.adj_t.size()}\")\n",
        "print(f\"Edge weight min: {torch.min(sample.edge_weight)}, max: {torch.max(sample.edge_weight)}\")\n"
      ]
    },
    {
      "cell_type": "code",
      "execution_count": 4,
      "metadata": {
        "colab": {
          "base_uri": "https://localhost:8080/"
        },
        "id": "9_4Cn39JNkdI",
        "outputId": "d1989588-d5b5-47de-b027-2b63a4b15472"
      },
      "outputs": [
        {
          "name": "stdout",
          "output_type": "stream",
          "text": [
            "\n",
            "DataBatch(x=[4800, 1], edge_index=[2, 93392], y=[64], pos=[4800, 2], edge_weight=[93392], edge_attr=[93392, 2], batch=[4800], ptr=[65])\n",
            "=============================================================\n",
            "Number of features:  1\n",
            "Number of node features: 1\n",
            "Number of nodes: 4800\n",
            "Number of edges: 93392\n",
            "Average node degree: 19.46\n",
            "Has isolated nodes: False\n",
            "Has self-loops: True\n",
            "Is undirected: False\n"
          ]
        }
      ],
      "source": [
        "test_batch = next(iter(train_loader))\n",
        "\n",
        "print()\n",
        "print(test_batch)\n",
        "print('=============================================================')\n",
        "\n",
        "# Gather some statistics about the first graph.\n",
        "print(f\"Number of features:  {test_batch.num_features}\")\n",
        "print(f\"Number of node features: {test_batch.num_node_features}\")\n",
        "print(f'Number of nodes: {test_batch.num_nodes}')\n",
        "print(f'Number of edges: {test_batch.num_edges}')\n",
        "# print(f\"Adjacency Matrix: {data.adj_t}\")\n",
        "print(f'Average node degree: {test_batch.num_edges / test_batch.num_nodes:.2f}')\n",
        "print(f'Has isolated nodes: {test_batch.has_isolated_nodes()}')\n",
        "print(f'Has self-loops: {test_batch.has_self_loops()}')\n",
        "print(f'Is undirected: {test_batch.is_undirected()}')"
      ]
    },
    {
      "cell_type": "code",
      "execution_count": 5,
      "metadata": {
        "id": "40K6YpYxfO73"
      },
      "outputs": [],
      "source": [
        "class GCNLayer(nn.Module):\n",
        "  def __init__(self, conv, act, norm, dropout:float = 0.0):\n",
        "    super().__init__()\n",
        "    self.conv = conv\n",
        "    self.act = act\n",
        "    self.norm = norm\n",
        "    self.dropout = dropout\n",
        "\n",
        "  def forward(self, x, edge_index, edge_attr = None):\n",
        "    x = shortcut = self.conv(x, edge_index, edge_attr)\n",
        "    x = self.norm(x)\n",
        "    x = self.act(x)\n",
        "    x = x + shortcut\n",
        "    return F.dropout(x, p=self.dropout, training=self.training)\n",
        "\n",
        "class MLPLayer(nn.Module):\n",
        "  def __init__(self, channels, hidden_channels, norm = \"batch\", act = \"relu\"):\n",
        "    super().__init__()\n",
        "    self.lin_in = nn.Linear(channels, hidden_channels)\n",
        "    self.lin_out = nn.Linear(hidden_channels, channels)\n",
        "    self.norms = None\n",
        "    if norm == \"batch\":\n",
        "      self.norms = nn.ModuleList([\n",
        "          nn.BatchNorm1d(hidden_channels),\n",
        "          nn.BatchNorm1d(channels),\n",
        "      ])\n",
        "    elif norm == \"layer\":\n",
        "      self.norms = nn.ModuleList([\n",
        "          nn.LayerNorm(hidden_channels),\n",
        "          nn.LayerNorm(channels),\n",
        "      ])\n",
        "    self.acts = None\n",
        "    if act == \"relu\":\n",
        "      self.acts = nn.ModuleList([\n",
        "          nn.ReLU(),\n",
        "          nn.ReLU(),\n",
        "      ])\n",
        "    elif act == \"gelu\":\n",
        "      self.acts = nn.ModuleList([\n",
        "          nn.GELU(),\n",
        "          nn.GELU(),\n",
        "      ])\n",
        "    elif act == \"elu\":\n",
        "      self.acts = nn.ModuleList([\n",
        "          nn.ELU(),\n",
        "          nn.ELU(),\n",
        "      ])\n",
        "  def forward(self, x):\n",
        "    shortcut = x\n",
        "    \n",
        "    x = self.acts[0](self.norms[0](self.lin_in(x)))\n",
        "    x = self.norms[1](self.lin_out(x))\n",
        "\n",
        "    return self.acts[1](x + shortcut)\n",
        "\n",
        "def normalized_cut_2d(edge_index: torch.Tensor, pos: torch.Tensor):\n",
        "  row, col = edge_index\n",
        "  edge_attr = torch.norm(pos[row] - pos[col], p=2, dim=1)\n",
        "  return normalized_cut(edge_index, edge_attr, num_nodes=pos.size(0))\n",
        "\n",
        "\n",
        "class Net(nn.Module):\n",
        "  def __init__(self, input_features, output_features, hidden_features, num_layers, use_cluster_pooling = False, dropout = 0.0):\n",
        "    super().__init__()\n",
        "    self.input_features = input_features\n",
        "    self.output_features = output_features\n",
        "    self.hidden_features = hidden_features\n",
        "    self.num_layers = num_layers\n",
        "    self.use_cluster_pooling = use_cluster_pooling\n",
        "    self.dropout = dropout\n",
        "\n",
        "    # self.edge_encoder = nn.Linear(test_batch.num_edges, self.hidden_features, bias=False)\n",
        "    # self.attr_encoder = nn.Linear(sample.num_edge_features, self.hidden_features, bias=False)\n",
        "\n",
        "    self.fc_in = nn.Linear(self.input_features, self.hidden_features)\n",
        "    self.fc_hidden = MLPLayer(self.hidden_features, 2 * self.hidden_features, act=\"relu\", norm=\"batch\")\n",
        "    self.fc_out = nn.Linear(self.hidden_features, self.output_features)\n",
        "\n",
        "    self.conv_layers = nn.ModuleList()\n",
        "    for i in range(num_layers):\n",
        "      self.conv_layers.append(\n",
        "          GCNLayer(\n",
        "              # gnn.GCNConv(self.hidden_features, self.hidden_features, improved=True),\n",
        "              # gnn.GCN2Conv(self.hidden_features, 0.1, 0.5, i+1, shared_weights=False, normalize=False),\n",
        "              gnn.GENConv(self.hidden_features, self.hidden_features, learn_t=True, edge_dim=sample.edge_attr.size(-1)),\n",
        "              # gnn.GeneralConv(self.hidden_features, self.hidden_features, in_edge_channels=sample.edge_attr.size(-1)),\n",
        "              nn.BatchNorm1d(self.hidden_features),\n",
        "              # nn.LayerNorm(self.hidden_features),\n",
        "              # nn.ELU(inplace=True),\n",
        "              # nn.GELU(),\n",
        "              nn.ReLU(inplace=True),\n",
        "          )\n",
        "      )\n",
        "    \n",
        "  def forward(self, data):\n",
        "    data.x = self.fc_in(data.x)\n",
        "    # data.x = x_0 = self.fc_in(data.x)\n",
        "    # data.edge_index = self.edge_encoder(data.edge_index)\n",
        "    # data.edge_attr = self.attr_encoder(data.edge_attr)\n",
        "\n",
        "    for idx, layer in enumerate(self.conv_layers):\n",
        "      # data.x = layer(data.x, x_0, data.edge_index, data.edge_attr)\n",
        "      data.x = layer(data.x, data.edge_index, data.edge_attr)\n",
        "      # forward for GCNConv\n",
        "      # data.x = layer(data.x, data.edge_index)\n",
        "\n",
        "    x, batch = data.x, data.batch\n",
        "    if self.use_cluster_pooling:\n",
        "      data.edge_attr = None\n",
        "      weight = normalized_cut_2d(data.edge_index, data.pos)\n",
        "      cluster = gnn.graclus(data.edge_index, weight, data.x.size(0))\n",
        "      x, batch = gnn.max_pool_x(cluster, x, batch)\n",
        "\n",
        "    # Readout Layer\n",
        "    x = gnn.global_mean_pool(x, batch)\n",
        "\n",
        "    # x = F.gelu(x)\n",
        "    x = F.relu(x)\n",
        "    # x = F.elu(x)\n",
        "    x = F.dropout(x, p=self.dropout, training=self.training)\n",
        "    x = self.fc_hidden(x)\n",
        "    x = F.dropout(x, p=self.dropout, training=self.training)\n",
        "    return self.fc_out(x)\n"
      ]
    },
    {
      "cell_type": "code",
      "execution_count": 6,
      "metadata": {
        "colab": {
          "base_uri": "https://localhost:8080/"
        },
        "id": "ttgCQq-bx5c4",
        "outputId": "48474ca5-9849-43de-c8ef-8d6af4b9ee9c"
      },
      "outputs": [
        {
          "name": "stdout",
          "output_type": "stream",
          "text": [
            "There are 85,326 trainable Parameters.\n",
            "\n",
            "Net(\n",
            "  (fc_in): Linear(in_features=1, out_features=64, bias=True)\n",
            "  (fc_hidden): MLPLayer(\n",
            "    (lin_in): Linear(in_features=64, out_features=128, bias=True)\n",
            "    (lin_out): Linear(in_features=128, out_features=64, bias=True)\n",
            "    (norms): ModuleList(\n",
            "      (0): BatchNorm1d(128, eps=1e-05, momentum=0.1, affine=True, track_running_stats=True)\n",
            "      (1): BatchNorm1d(64, eps=1e-05, momentum=0.1, affine=True, track_running_stats=True)\n",
            "    )\n",
            "    (acts): ModuleList(\n",
            "      (0): ReLU()\n",
            "      (1): ReLU()\n",
            "    )\n",
            "  )\n",
            "  (fc_out): Linear(in_features=64, out_features=10, bias=True)\n",
            "  (conv_layers): ModuleList(\n",
            "    (0): GCNLayer(\n",
            "      (conv): GENConv(64, 64, aggr=softmax)\n",
            "      (act): BatchNorm1d(64, eps=1e-05, momentum=0.1, affine=True, track_running_stats=True)\n",
            "      (norm): ReLU(inplace=True)\n",
            "    )\n",
            "    (1): GCNLayer(\n",
            "      (conv): GENConv(64, 64, aggr=softmax)\n",
            "      (act): BatchNorm1d(64, eps=1e-05, momentum=0.1, affine=True, track_running_stats=True)\n",
            "      (norm): ReLU(inplace=True)\n",
            "    )\n",
            "    (2): GCNLayer(\n",
            "      (conv): GENConv(64, 64, aggr=softmax)\n",
            "      (act): BatchNorm1d(64, eps=1e-05, momentum=0.1, affine=True, track_running_stats=True)\n",
            "      (norm): ReLU(inplace=True)\n",
            "    )\n",
            "    (3): GCNLayer(\n",
            "      (conv): GENConv(64, 64, aggr=softmax)\n",
            "      (act): BatchNorm1d(64, eps=1e-05, momentum=0.1, affine=True, track_running_stats=True)\n",
            "      (norm): ReLU(inplace=True)\n",
            "    )\n",
            "  )\n",
            ")\n"
          ]
        }
      ],
      "source": [
        "device = torch.device(\"cuda\" if torch.cuda.is_available() else \"cpu\")\n",
        "model = Net(d.num_features, d.num_classes, 64, 4, use_cluster_pooling=False).to(device)\n",
        "optimizer = torch.optim.Adam(model.parameters(), lr=0.001)\n",
        "criterion = nn.CrossEntropyLoss().to(device)\n",
        "\n",
        "params = sum([p.numel() for p in model.parameters() if p.requires_grad])\n",
        "print(f\"There are {params:,} trainable Parameters.\")\n",
        "print()\n",
        "print(model)"
      ]
    },
    {
      "cell_type": "code",
      "execution_count": 7,
      "metadata": {
        "id": "SfI3hQUaziS2"
      },
      "outputs": [],
      "source": [
        "def train():\n",
        "  model.train()\n",
        "\n",
        "  epoch_loss = 0\n",
        "  correct = 0\n",
        "  for data in train_loader:\n",
        "    data = data.to(device)\n",
        "\n",
        "    optimizer.zero_grad()\n",
        "\n",
        "    outputs = model(data)\n",
        "    loss = criterion(outputs, data.y)\n",
        "    loss.backward()\n",
        "\n",
        "    optimizer.step()\n",
        "\n",
        "    epoch_loss += loss.item()\n",
        "    # preds = outputs.max(1)[1]\n",
        "    # epoch_acc += preds.eq(data.y).sum().item()\n",
        "    # print(f\"outputs: {outputs.size()}\")\n",
        "    # print(f\"data.y: {data.y.size()}\")\n",
        "    # print(f\"preds: {outputs.argmax(1).eq(data.y).sum()}\")\n",
        "    # total += 1\n",
        "    correct += outputs.argmax(1).eq(data.y).sum().item()\n",
        "  return epoch_loss / len(train_loader), correct / len(train_loader)\n",
        "\n",
        "def eval():\n",
        "  model.eval()\n",
        "\n",
        "  epoch_loss = 0\n",
        "  correct = 0\n",
        "  # total = 0\n",
        "  for data in test_loader:\n",
        "    data = data.to(device)\n",
        "\n",
        "    outputs = model(data)\n",
        "    loss = criterion(outputs, data.y)\n",
        "\n",
        "    epoch_loss += loss.item()\n",
        "    # preds = outputs.max(1)[1]\n",
        "    # epoch_acc += preds.eq(data.y).sum().item()\n",
        "    # total += 1\n",
        "    # if outputs.argmax(1).item() == data.y.item():\n",
        "    #   correct += 1\n",
        "    correct += outputs.argmax(1).eq(data.y).sum().item()\n",
        "  return epoch_loss / len(test_loader), correct / len(test_loader)\n"
      ]
    },
    {
      "cell_type": "code",
      "execution_count": 8,
      "metadata": {
        "colab": {
          "base_uri": "https://localhost:8080/"
        },
        "id": "8yE0uzVGBCq6",
        "outputId": "8d7ad34f-b6b2-42ce-da52-39c7e4443670"
      },
      "outputs": [
        {
          "name": "stdout",
          "output_type": "stream",
          "text": [
            "Epoch: 1\n",
            "\tTrain Loss: 0.380, Train Acc: 56.14\n",
            "\tTest Loss: 0.583, Test Acc: 51.08\n",
            "Epoch: 2\n",
            "\tTrain Loss: 0.165, Train Acc: 60.53\n",
            "\tTest Loss: 0.401, Test Acc: 54.99\n",
            "Epoch: 3\n"
          ]
        },
        {
          "ename": "KeyboardInterrupt",
          "evalue": "",
          "output_type": "error",
          "traceback": [
            "\u001b[0;31m---------------------------------------------------------------------------\u001b[0m",
            "\u001b[0;31mKeyboardInterrupt\u001b[0m                         Traceback (most recent call last)",
            "Cell \u001b[0;32mIn[8], line 10\u001b[0m\n\u001b[1;32m      8\u001b[0m \u001b[39mfor\u001b[39;00m epoch \u001b[39min\u001b[39;00m \u001b[39mrange\u001b[39m(\u001b[39m1\u001b[39m, EPOCHS \u001b[39m+\u001b[39m \u001b[39m1\u001b[39m):\n\u001b[1;32m      9\u001b[0m   \u001b[39mprint\u001b[39m(\u001b[39mf\u001b[39m\u001b[39m\"\u001b[39m\u001b[39mEpoch: \u001b[39m\u001b[39m{\u001b[39;00mepoch\u001b[39m}\u001b[39;00m\u001b[39m\"\u001b[39m)\n\u001b[0;32m---> 10\u001b[0m   epoch_loss, epoch_acc \u001b[39m=\u001b[39m train()\n\u001b[1;32m     11\u001b[0m   train_loss\u001b[39m.\u001b[39mappend(epoch_loss)\n\u001b[1;32m     12\u001b[0m   train_acc\u001b[39m.\u001b[39mappend(epoch_acc)\n",
            "Cell \u001b[0;32mIn[7], line 11\u001b[0m, in \u001b[0;36mtrain\u001b[0;34m()\u001b[0m\n\u001b[1;32m      7\u001b[0m data \u001b[39m=\u001b[39m data\u001b[39m.\u001b[39mto(device)\n\u001b[1;32m      9\u001b[0m optimizer\u001b[39m.\u001b[39mzero_grad()\n\u001b[0;32m---> 11\u001b[0m outputs \u001b[39m=\u001b[39m model(data)\n\u001b[1;32m     12\u001b[0m loss \u001b[39m=\u001b[39m criterion(outputs, data\u001b[39m.\u001b[39my)\n\u001b[1;32m     13\u001b[0m loss\u001b[39m.\u001b[39mbackward()\n",
            "File \u001b[0;32m~/anaconda3/envs/pyg/lib/python3.9/site-packages/torch/nn/modules/module.py:1190\u001b[0m, in \u001b[0;36mModule._call_impl\u001b[0;34m(self, *input, **kwargs)\u001b[0m\n\u001b[1;32m   1186\u001b[0m \u001b[39m# If we don't have any hooks, we want to skip the rest of the logic in\u001b[39;00m\n\u001b[1;32m   1187\u001b[0m \u001b[39m# this function, and just call forward.\u001b[39;00m\n\u001b[1;32m   1188\u001b[0m \u001b[39mif\u001b[39;00m \u001b[39mnot\u001b[39;00m (\u001b[39mself\u001b[39m\u001b[39m.\u001b[39m_backward_hooks \u001b[39mor\u001b[39;00m \u001b[39mself\u001b[39m\u001b[39m.\u001b[39m_forward_hooks \u001b[39mor\u001b[39;00m \u001b[39mself\u001b[39m\u001b[39m.\u001b[39m_forward_pre_hooks \u001b[39mor\u001b[39;00m _global_backward_hooks\n\u001b[1;32m   1189\u001b[0m         \u001b[39mor\u001b[39;00m _global_forward_hooks \u001b[39mor\u001b[39;00m _global_forward_pre_hooks):\n\u001b[0;32m-> 1190\u001b[0m     \u001b[39mreturn\u001b[39;00m forward_call(\u001b[39m*\u001b[39;49m\u001b[39minput\u001b[39;49m, \u001b[39m*\u001b[39;49m\u001b[39m*\u001b[39;49mkwargs)\n\u001b[1;32m   1191\u001b[0m \u001b[39m# Do not call functions when jit is used\u001b[39;00m\n\u001b[1;32m   1192\u001b[0m full_backward_hooks, non_full_backward_hooks \u001b[39m=\u001b[39m [], []\n",
            "Cell \u001b[0;32mIn[5], line 103\u001b[0m, in \u001b[0;36mNet.forward\u001b[0;34m(self, data)\u001b[0m\n\u001b[1;32m     97\u001b[0m \u001b[39m# data.x = x_0 = self.fc_in(data.x)\u001b[39;00m\n\u001b[1;32m     98\u001b[0m \u001b[39m# data.edge_index = self.edge_encoder(data.edge_index)\u001b[39;00m\n\u001b[1;32m     99\u001b[0m \u001b[39m# data.edge_attr = self.attr_encoder(data.edge_attr)\u001b[39;00m\n\u001b[1;32m    101\u001b[0m \u001b[39mfor\u001b[39;00m idx, layer \u001b[39min\u001b[39;00m \u001b[39menumerate\u001b[39m(\u001b[39mself\u001b[39m\u001b[39m.\u001b[39mconv_layers):\n\u001b[1;32m    102\u001b[0m   \u001b[39m# data.x = layer(data.x, x_0, data.edge_index, data.edge_attr)\u001b[39;00m\n\u001b[0;32m--> 103\u001b[0m   data\u001b[39m.\u001b[39mx \u001b[39m=\u001b[39m layer(data\u001b[39m.\u001b[39;49mx, data\u001b[39m.\u001b[39;49medge_index, data\u001b[39m.\u001b[39;49medge_attr)\n\u001b[1;32m    104\u001b[0m   \u001b[39m# forward for GCNConv\u001b[39;00m\n\u001b[1;32m    105\u001b[0m   \u001b[39m# data.x = layer(data.x, data.edge_index)\u001b[39;00m\n\u001b[1;32m    107\u001b[0m x, batch \u001b[39m=\u001b[39m data\u001b[39m.\u001b[39mx, data\u001b[39m.\u001b[39mbatch\n",
            "File \u001b[0;32m~/anaconda3/envs/pyg/lib/python3.9/site-packages/torch/nn/modules/module.py:1190\u001b[0m, in \u001b[0;36mModule._call_impl\u001b[0;34m(self, *input, **kwargs)\u001b[0m\n\u001b[1;32m   1186\u001b[0m \u001b[39m# If we don't have any hooks, we want to skip the rest of the logic in\u001b[39;00m\n\u001b[1;32m   1187\u001b[0m \u001b[39m# this function, and just call forward.\u001b[39;00m\n\u001b[1;32m   1188\u001b[0m \u001b[39mif\u001b[39;00m \u001b[39mnot\u001b[39;00m (\u001b[39mself\u001b[39m\u001b[39m.\u001b[39m_backward_hooks \u001b[39mor\u001b[39;00m \u001b[39mself\u001b[39m\u001b[39m.\u001b[39m_forward_hooks \u001b[39mor\u001b[39;00m \u001b[39mself\u001b[39m\u001b[39m.\u001b[39m_forward_pre_hooks \u001b[39mor\u001b[39;00m _global_backward_hooks\n\u001b[1;32m   1189\u001b[0m         \u001b[39mor\u001b[39;00m _global_forward_hooks \u001b[39mor\u001b[39;00m _global_forward_pre_hooks):\n\u001b[0;32m-> 1190\u001b[0m     \u001b[39mreturn\u001b[39;00m forward_call(\u001b[39m*\u001b[39;49m\u001b[39minput\u001b[39;49m, \u001b[39m*\u001b[39;49m\u001b[39m*\u001b[39;49mkwargs)\n\u001b[1;32m   1191\u001b[0m \u001b[39m# Do not call functions when jit is used\u001b[39;00m\n\u001b[1;32m   1192\u001b[0m full_backward_hooks, non_full_backward_hooks \u001b[39m=\u001b[39m [], []\n",
            "Cell \u001b[0;32mIn[5], line 10\u001b[0m, in \u001b[0;36mGCNLayer.forward\u001b[0;34m(self, x, edge_index, edge_attr)\u001b[0m\n\u001b[1;32m      9\u001b[0m \u001b[39mdef\u001b[39;00m \u001b[39mforward\u001b[39m(\u001b[39mself\u001b[39m, x, edge_index, edge_attr \u001b[39m=\u001b[39m \u001b[39mNone\u001b[39;00m):\n\u001b[0;32m---> 10\u001b[0m   x \u001b[39m=\u001b[39m shortcut \u001b[39m=\u001b[39m \u001b[39mself\u001b[39;49m\u001b[39m.\u001b[39;49mconv(x, edge_index, edge_attr)\n\u001b[1;32m     11\u001b[0m   x \u001b[39m=\u001b[39m \u001b[39mself\u001b[39m\u001b[39m.\u001b[39mnorm(x)\n\u001b[1;32m     12\u001b[0m   x \u001b[39m=\u001b[39m \u001b[39mself\u001b[39m\u001b[39m.\u001b[39mact(x)\n",
            "File \u001b[0;32m~/anaconda3/envs/pyg/lib/python3.9/site-packages/torch/nn/modules/module.py:1190\u001b[0m, in \u001b[0;36mModule._call_impl\u001b[0;34m(self, *input, **kwargs)\u001b[0m\n\u001b[1;32m   1186\u001b[0m \u001b[39m# If we don't have any hooks, we want to skip the rest of the logic in\u001b[39;00m\n\u001b[1;32m   1187\u001b[0m \u001b[39m# this function, and just call forward.\u001b[39;00m\n\u001b[1;32m   1188\u001b[0m \u001b[39mif\u001b[39;00m \u001b[39mnot\u001b[39;00m (\u001b[39mself\u001b[39m\u001b[39m.\u001b[39m_backward_hooks \u001b[39mor\u001b[39;00m \u001b[39mself\u001b[39m\u001b[39m.\u001b[39m_forward_hooks \u001b[39mor\u001b[39;00m \u001b[39mself\u001b[39m\u001b[39m.\u001b[39m_forward_pre_hooks \u001b[39mor\u001b[39;00m _global_backward_hooks\n\u001b[1;32m   1189\u001b[0m         \u001b[39mor\u001b[39;00m _global_forward_hooks \u001b[39mor\u001b[39;00m _global_forward_pre_hooks):\n\u001b[0;32m-> 1190\u001b[0m     \u001b[39mreturn\u001b[39;00m forward_call(\u001b[39m*\u001b[39;49m\u001b[39minput\u001b[39;49m, \u001b[39m*\u001b[39;49m\u001b[39m*\u001b[39;49mkwargs)\n\u001b[1;32m   1191\u001b[0m \u001b[39m# Do not call functions when jit is used\u001b[39;00m\n\u001b[1;32m   1192\u001b[0m full_backward_hooks, non_full_backward_hooks \u001b[39m=\u001b[39m [], []\n",
            "File \u001b[0;32m~/anaconda3/envs/pyg/lib/python3.9/site-packages/torch_geometric/nn/conv/gen_conv.py:220\u001b[0m, in \u001b[0;36mGENConv.forward\u001b[0;34m(self, x, edge_index, edge_attr, size)\u001b[0m\n\u001b[1;32m    217\u001b[0m     \u001b[39massert\u001b[39;00m x[\u001b[39m0\u001b[39m]\u001b[39m.\u001b[39msize(\u001b[39m-\u001b[39m\u001b[39m1\u001b[39m) \u001b[39m==\u001b[39m edge_attr\u001b[39m.\u001b[39msize(\u001b[39m-\u001b[39m\u001b[39m1\u001b[39m)\n\u001b[1;32m    219\u001b[0m \u001b[39m# propagate_type: (x: OptPairTensor, edge_attr: OptTensor)\u001b[39;00m\n\u001b[0;32m--> 220\u001b[0m out \u001b[39m=\u001b[39m \u001b[39mself\u001b[39;49m\u001b[39m.\u001b[39;49mpropagate(edge_index, x\u001b[39m=\u001b[39;49mx, edge_attr\u001b[39m=\u001b[39;49medge_attr, size\u001b[39m=\u001b[39;49msize)\n\u001b[1;32m    222\u001b[0m \u001b[39mif\u001b[39;00m \u001b[39mhasattr\u001b[39m(\u001b[39mself\u001b[39m, \u001b[39m'\u001b[39m\u001b[39mlin_aggr_out\u001b[39m\u001b[39m'\u001b[39m):\n\u001b[1;32m    223\u001b[0m     out \u001b[39m=\u001b[39m \u001b[39mself\u001b[39m\u001b[39m.\u001b[39mlin_aggr_out(out)\n",
            "File \u001b[0;32m~/anaconda3/envs/pyg/lib/python3.9/site-packages/torch_geometric/nn/conv/message_passing.py:454\u001b[0m, in \u001b[0;36mMessagePassing.propagate\u001b[0;34m(self, edge_index, size, **kwargs)\u001b[0m\n\u001b[1;32m    451\u001b[0m     \u001b[39mif\u001b[39;00m res \u001b[39mis\u001b[39;00m \u001b[39mnot\u001b[39;00m \u001b[39mNone\u001b[39;00m:\n\u001b[1;32m    452\u001b[0m         aggr_kwargs \u001b[39m=\u001b[39m res[\u001b[39m0\u001b[39m] \u001b[39mif\u001b[39;00m \u001b[39misinstance\u001b[39m(res, \u001b[39mtuple\u001b[39m) \u001b[39melse\u001b[39;00m res\n\u001b[0;32m--> 454\u001b[0m out \u001b[39m=\u001b[39m \u001b[39mself\u001b[39;49m\u001b[39m.\u001b[39;49maggregate(out, \u001b[39m*\u001b[39;49m\u001b[39m*\u001b[39;49maggr_kwargs)\n\u001b[1;32m    456\u001b[0m \u001b[39mfor\u001b[39;00m hook \u001b[39min\u001b[39;00m \u001b[39mself\u001b[39m\u001b[39m.\u001b[39m_aggregate_forward_hooks\u001b[39m.\u001b[39mvalues():\n\u001b[1;32m    457\u001b[0m     res \u001b[39m=\u001b[39m hook(\u001b[39mself\u001b[39m, (aggr_kwargs, ), out)\n",
            "File \u001b[0;32m~/anaconda3/envs/pyg/lib/python3.9/site-packages/torch_geometric/nn/conv/message_passing.py:578\u001b[0m, in \u001b[0;36mMessagePassing.aggregate\u001b[0;34m(self, inputs, index, ptr, dim_size)\u001b[0m\n\u001b[1;32m    565\u001b[0m \u001b[39mdef\u001b[39;00m \u001b[39maggregate\u001b[39m(\u001b[39mself\u001b[39m, inputs: Tensor, index: Tensor,\n\u001b[1;32m    566\u001b[0m               ptr: Optional[Tensor] \u001b[39m=\u001b[39m \u001b[39mNone\u001b[39;00m,\n\u001b[1;32m    567\u001b[0m               dim_size: Optional[\u001b[39mint\u001b[39m] \u001b[39m=\u001b[39m \u001b[39mNone\u001b[39;00m) \u001b[39m-\u001b[39m\u001b[39m>\u001b[39m Tensor:\n\u001b[1;32m    568\u001b[0m     \u001b[39mr\u001b[39m\u001b[39m\"\"\"Aggregates messages from neighbors as\u001b[39;00m\n\u001b[1;32m    569\u001b[0m \u001b[39m    :math:`\\square_{j \\in \\mathcal{N}(i)}`.\u001b[39;00m\n\u001b[1;32m    570\u001b[0m \n\u001b[0;32m   (...)\u001b[0m\n\u001b[1;32m    576\u001b[0m \u001b[39m    as specified in :meth:`__init__` by the :obj:`aggr` argument.\u001b[39;00m\n\u001b[1;32m    577\u001b[0m \u001b[39m    \"\"\"\u001b[39;00m\n\u001b[0;32m--> 578\u001b[0m     \u001b[39mreturn\u001b[39;00m \u001b[39mself\u001b[39;49m\u001b[39m.\u001b[39;49maggr_module(inputs, index, ptr\u001b[39m=\u001b[39;49mptr, dim_size\u001b[39m=\u001b[39;49mdim_size,\n\u001b[1;32m    579\u001b[0m                             dim\u001b[39m=\u001b[39;49m\u001b[39mself\u001b[39;49m\u001b[39m.\u001b[39;49mnode_dim)\n",
            "File \u001b[0;32m~/anaconda3/envs/pyg/lib/python3.9/site-packages/torch_geometric/nn/aggr/base.py:131\u001b[0m, in \u001b[0;36mAggregation.__call__\u001b[0;34m(self, x, index, ptr, dim_size, dim, **kwargs)\u001b[0m\n\u001b[1;32m    126\u001b[0m         \u001b[39mif\u001b[39;00m index\u001b[39m.\u001b[39mnumel() \u001b[39m>\u001b[39m \u001b[39m0\u001b[39m \u001b[39mand\u001b[39;00m dim_size \u001b[39m<\u001b[39m\u001b[39m=\u001b[39m \u001b[39mint\u001b[39m(index\u001b[39m.\u001b[39mmax()):\n\u001b[1;32m    127\u001b[0m             \u001b[39mraise\u001b[39;00m \u001b[39mValueError\u001b[39;00m(\u001b[39mf\u001b[39m\u001b[39m\"\u001b[39m\u001b[39mEncountered invalid \u001b[39m\u001b[39m'\u001b[39m\u001b[39mdim_size\u001b[39m\u001b[39m'\u001b[39m\u001b[39m (got \u001b[39m\u001b[39m\"\u001b[39m\n\u001b[1;32m    128\u001b[0m                              \u001b[39mf\u001b[39m\u001b[39m\"\u001b[39m\u001b[39m'\u001b[39m\u001b[39m{\u001b[39;00mdim_size\u001b[39m}\u001b[39;00m\u001b[39m'\u001b[39m\u001b[39m but expected \u001b[39m\u001b[39m\"\u001b[39m\n\u001b[1;32m    129\u001b[0m                              \u001b[39mf\u001b[39m\u001b[39m\"\u001b[39m\u001b[39m>= \u001b[39m\u001b[39m'\u001b[39m\u001b[39m{\u001b[39;00m\u001b[39mint\u001b[39m(index\u001b[39m.\u001b[39mmax()) \u001b[39m+\u001b[39m \u001b[39m1\u001b[39m\u001b[39m}\u001b[39;00m\u001b[39m'\u001b[39m\u001b[39m)\u001b[39m\u001b[39m\"\u001b[39m)\n\u001b[0;32m--> 131\u001b[0m \u001b[39mreturn\u001b[39;00m \u001b[39msuper\u001b[39;49m()\u001b[39m.\u001b[39;49m\u001b[39m__call__\u001b[39;49m(x, index, ptr, dim_size, dim, \u001b[39m*\u001b[39;49m\u001b[39m*\u001b[39;49mkwargs)\n",
            "File \u001b[0;32m~/anaconda3/envs/pyg/lib/python3.9/site-packages/torch/nn/modules/module.py:1190\u001b[0m, in \u001b[0;36mModule._call_impl\u001b[0;34m(self, *input, **kwargs)\u001b[0m\n\u001b[1;32m   1186\u001b[0m \u001b[39m# If we don't have any hooks, we want to skip the rest of the logic in\u001b[39;00m\n\u001b[1;32m   1187\u001b[0m \u001b[39m# this function, and just call forward.\u001b[39;00m\n\u001b[1;32m   1188\u001b[0m \u001b[39mif\u001b[39;00m \u001b[39mnot\u001b[39;00m (\u001b[39mself\u001b[39m\u001b[39m.\u001b[39m_backward_hooks \u001b[39mor\u001b[39;00m \u001b[39mself\u001b[39m\u001b[39m.\u001b[39m_forward_hooks \u001b[39mor\u001b[39;00m \u001b[39mself\u001b[39m\u001b[39m.\u001b[39m_forward_pre_hooks \u001b[39mor\u001b[39;00m _global_backward_hooks\n\u001b[1;32m   1189\u001b[0m         \u001b[39mor\u001b[39;00m _global_forward_hooks \u001b[39mor\u001b[39;00m _global_forward_pre_hooks):\n\u001b[0;32m-> 1190\u001b[0m     \u001b[39mreturn\u001b[39;00m forward_call(\u001b[39m*\u001b[39;49m\u001b[39minput\u001b[39;49m, \u001b[39m*\u001b[39;49m\u001b[39m*\u001b[39;49mkwargs)\n\u001b[1;32m   1191\u001b[0m \u001b[39m# Do not call functions when jit is used\u001b[39;00m\n\u001b[1;32m   1192\u001b[0m full_backward_hooks, non_full_backward_hooks \u001b[39m=\u001b[39m [], []\n",
            "File \u001b[0;32m~/anaconda3/envs/pyg/lib/python3.9/site-packages/torch_geometric/nn/aggr/basic.py:209\u001b[0m, in \u001b[0;36mSoftmaxAggregation.forward\u001b[0;34m(self, x, index, ptr, dim_size, dim)\u001b[0m\n\u001b[1;32m    207\u001b[0m         alpha \u001b[39m=\u001b[39m softmax(alpha, index, ptr, dim_size, dim)\n\u001b[1;32m    208\u001b[0m \u001b[39melse\u001b[39;00m:\n\u001b[0;32m--> 209\u001b[0m     alpha \u001b[39m=\u001b[39m softmax(alpha, index, ptr, dim_size, dim)\n\u001b[1;32m    210\u001b[0m \u001b[39mreturn\u001b[39;00m \u001b[39mself\u001b[39m\u001b[39m.\u001b[39mreduce(x \u001b[39m*\u001b[39m alpha, index, ptr, dim_size, dim, reduce\u001b[39m=\u001b[39m\u001b[39m'\u001b[39m\u001b[39msum\u001b[39m\u001b[39m'\u001b[39m)\n",
            "File \u001b[0;32m~/anaconda3/envs/pyg/lib/python3.9/site-packages/torch_geometric/utils/softmax.py:62\u001b[0m, in \u001b[0;36msoftmax\u001b[0;34m(src, index, ptr, num_nodes, dim)\u001b[0m\n\u001b[1;32m     60\u001b[0m \u001b[39melif\u001b[39;00m index \u001b[39mis\u001b[39;00m \u001b[39mnot\u001b[39;00m \u001b[39mNone\u001b[39;00m:\n\u001b[1;32m     61\u001b[0m     N \u001b[39m=\u001b[39m maybe_num_nodes(index, num_nodes)\n\u001b[0;32m---> 62\u001b[0m     src_max \u001b[39m=\u001b[39m scatter(src, index, dim, dim_size\u001b[39m=\u001b[39;49mN, reduce\u001b[39m=\u001b[39;49m\u001b[39m'\u001b[39;49m\u001b[39mmax\u001b[39;49m\u001b[39m'\u001b[39;49m)\n\u001b[1;32m     63\u001b[0m     src_max \u001b[39m=\u001b[39m src_max\u001b[39m.\u001b[39mindex_select(dim, index)\n\u001b[1;32m     64\u001b[0m     out \u001b[39m=\u001b[39m (src \u001b[39m-\u001b[39m src_max)\u001b[39m.\u001b[39mexp()\n",
            "File \u001b[0;32m~/anaconda3/envs/pyg/lib/python3.9/site-packages/torch_scatter/scatter.py:160\u001b[0m, in \u001b[0;36mscatter\u001b[0;34m(src, index, dim, out, dim_size, reduce)\u001b[0m\n\u001b[1;32m    158\u001b[0m     \u001b[39mreturn\u001b[39;00m scatter_min(src, index, dim, out, dim_size)[\u001b[39m0\u001b[39m]\n\u001b[1;32m    159\u001b[0m \u001b[39melif\u001b[39;00m reduce \u001b[39m==\u001b[39m \u001b[39m'\u001b[39m\u001b[39mmax\u001b[39m\u001b[39m'\u001b[39m:\n\u001b[0;32m--> 160\u001b[0m     \u001b[39mreturn\u001b[39;00m scatter_max(src, index, dim, out, dim_size)[\u001b[39m0\u001b[39m]\n\u001b[1;32m    161\u001b[0m \u001b[39melse\u001b[39;00m:\n\u001b[1;32m    162\u001b[0m     \u001b[39mraise\u001b[39;00m \u001b[39mValueError\u001b[39;00m\n",
            "File \u001b[0;32m~/anaconda3/envs/pyg/lib/python3.9/site-packages/torch_scatter/scatter.py:72\u001b[0m, in \u001b[0;36mscatter_max\u001b[0;34m(src, index, dim, out, dim_size)\u001b[0m\n\u001b[1;32m     68\u001b[0m \u001b[39mdef\u001b[39;00m \u001b[39mscatter_max\u001b[39m(\n\u001b[1;32m     69\u001b[0m         src: torch\u001b[39m.\u001b[39mTensor, index: torch\u001b[39m.\u001b[39mTensor, dim: \u001b[39mint\u001b[39m \u001b[39m=\u001b[39m \u001b[39m-\u001b[39m\u001b[39m1\u001b[39m,\n\u001b[1;32m     70\u001b[0m         out: Optional[torch\u001b[39m.\u001b[39mTensor] \u001b[39m=\u001b[39m \u001b[39mNone\u001b[39;00m,\n\u001b[1;32m     71\u001b[0m         dim_size: Optional[\u001b[39mint\u001b[39m] \u001b[39m=\u001b[39m \u001b[39mNone\u001b[39;00m) \u001b[39m-\u001b[39m\u001b[39m>\u001b[39m Tuple[torch\u001b[39m.\u001b[39mTensor, torch\u001b[39m.\u001b[39mTensor]:\n\u001b[0;32m---> 72\u001b[0m     \u001b[39mreturn\u001b[39;00m torch\u001b[39m.\u001b[39;49mops\u001b[39m.\u001b[39;49mtorch_scatter\u001b[39m.\u001b[39;49mscatter_max(src, index, dim, out, dim_size)\n",
            "File \u001b[0;32m~/anaconda3/envs/pyg/lib/python3.9/site-packages/torch/_ops.py:442\u001b[0m, in \u001b[0;36mOpOverloadPacket.__call__\u001b[0;34m(self, *args, **kwargs)\u001b[0m\n\u001b[1;32m    437\u001b[0m \u001b[39mdef\u001b[39;00m \u001b[39m__call__\u001b[39m(\u001b[39mself\u001b[39m, \u001b[39m*\u001b[39margs, \u001b[39m*\u001b[39m\u001b[39m*\u001b[39mkwargs):\n\u001b[1;32m    438\u001b[0m     \u001b[39m# overloading __call__ to ensure torch.ops.foo.bar()\u001b[39;00m\n\u001b[1;32m    439\u001b[0m     \u001b[39m# is still callable from JIT\u001b[39;00m\n\u001b[1;32m    440\u001b[0m     \u001b[39m# We save the function ptr as the `op` attribute on\u001b[39;00m\n\u001b[1;32m    441\u001b[0m     \u001b[39m# OpOverloadPacket to access it here.\u001b[39;00m\n\u001b[0;32m--> 442\u001b[0m     \u001b[39mreturn\u001b[39;00m \u001b[39mself\u001b[39;49m\u001b[39m.\u001b[39;49m_op(\u001b[39m*\u001b[39;49margs, \u001b[39m*\u001b[39;49m\u001b[39m*\u001b[39;49mkwargs \u001b[39mor\u001b[39;49;00m {})\n",
            "\u001b[0;31mKeyboardInterrupt\u001b[0m: "
          ]
        }
      ],
      "source": [
        "EPOCHS = 50\n",
        "\n",
        "train_loss = []\n",
        "train_acc = []\n",
        "test_loss = []\n",
        "test_acc = []\n",
        "\n",
        "for epoch in range(1, EPOCHS + 1):\n",
        "  print(f\"Epoch: {epoch}\")\n",
        "  epoch_loss, epoch_acc = train()\n",
        "  train_loss.append(epoch_loss)\n",
        "  train_acc.append(epoch_acc)\n",
        "  print(f\"\\tTrain Loss: {epoch_loss:.3f}, Train Acc: {epoch_acc:.2f}\")\n",
        "  epoch_loss, epoch_acc = eval()\n",
        "  test_loss.append(epoch_loss)\n",
        "  test_acc.append(epoch_acc)\n",
        "  print(f\"\\tTest Loss: {epoch_loss:.3f}, Test Acc: {epoch_acc:.2f}\")"
      ]
    },
    {
      "cell_type": "code",
      "execution_count": null,
      "metadata": {
        "colab": {
          "base_uri": "https://localhost:8080/"
        },
        "id": "ecQGfLEvwg-p",
        "outputId": "e5bbb809-9c48-4bab-add4-be3a093c808b"
      },
      "outputs": [],
      "source": [
        "# import networkx as nx\n",
        "import torch_geometric\n",
        "\n",
        "loader = DataLoader(test_dataset, batch_size=1)\n",
        "\n",
        "graph = next(iter(loader))\n",
        "print(graph)\n",
        "print(f\"graph.y: {graph.y}\")\n",
        "# nx.draw(torch_geometric.utils.to_networkx(graph))\n",
        "outputs = model(graph.to(device))\n",
        "print(f\"outputs: {outputs}\")\n",
        "print(f\"prediction: {outputs.argmax(1)}\")"
      ]
    },
    {
      "cell_type": "code",
      "execution_count": null,
      "metadata": {
        "colab": {
          "base_uri": "https://localhost:8080/"
        },
        "id": "2xO4CsCYwvuJ",
        "outputId": "8be74ca9-5510-4ffb-f28c-f39c4e89ad61"
      },
      "outputs": [],
      "source": [
        "correct = 0\n",
        "total = 0\n",
        "\n",
        "for idx, graph in enumerate(loader):\n",
        "  outputs = model(graph.to(device))\n",
        "  # print(f\"Pred: {outputs.argmax(1).item()}, Target: {graph.y.item()}\")\n",
        "  # if idx >= 50:\n",
        "  #   break\n",
        "  if outputs.argmax(1).item() == graph.y.item():\n",
        "    correct += 1\n",
        "  total += 1\n",
        "\n",
        "print(f\"acc: {correct / total}\")"
      ]
    },
    {
      "cell_type": "code",
      "execution_count": null,
      "metadata": {
        "id": "gZBOxtYSySuI"
      },
      "outputs": [],
      "source": []
    },
    {
      "cell_type": "markdown",
      "metadata": {
        "id": "bOXDJFm_YujM"
      },
      "source": [
        "## Test Setup\n",
        "\n",
        "* Batch Size:    64\n",
        "* Epochs:        50\n",
        "* Optimizer: Adam\n",
        "* Learning Rate: 0.001\n",
        "* num layers: 4\n",
        "\n",
        "\n",
        "## Results\n",
        "\n",
        "* GCNConv (BN + ReLU): 0.4469 (BN + GELU): 0.5475 (BN + ELU): -\n",
        "* GCNIIConv: (BN + ReLU): - (BN + GELU): - (BN + ELU): -\n",
        "* GENConv: (BN + ReLU): - (BN + GELU): - (BN + ELU): - \n",
        "* GeneralConv: (BN + ReLU): 0.9002 (BN + GELU): - (BN + ELU): -\n",
        "\n",
        "\n",
        "## Results With Clustering\n",
        "\n",
        "* GCNConv (BN + ReLU): 0.6025 (BN + GELU): 0.5462 (BN + ELU): 0.5664\n",
        "* GCNIIConv: (BN + ReLU): - (BN + GELU): - (BN + ELU): -\n",
        "* GENConv: (BN + ReLU): - (BN + GELU): - (BN + ELU): - \n",
        "* GeneralConv: (BN + ReLU): - (BN + GELU): - (BN + ELU): -\n",
        "\n",
        "\n",
        "## GENConv Additional Results\n",
        "\n",
        "* hidden_size = 64, num_layers = 4, use_cluster_pooling: false ACC: \n",
        "* hidden_size = 64, num_layers = 4, use_cluster_pooling: True ACC: \n"
      ]
    }
  ],
  "metadata": {
    "accelerator": "GPU",
    "colab": {
      "provenance": []
    },
    "gpuClass": "standard",
    "kernelspec": {
      "display_name": "Python 3.9.15 ('pyg')",
      "language": "python",
      "name": "python3"
    },
    "language_info": {
      "codemirror_mode": {
        "name": "ipython",
        "version": 3
      },
      "file_extension": ".py",
      "mimetype": "text/x-python",
      "name": "python",
      "nbconvert_exporter": "python",
      "pygments_lexer": "ipython3",
      "version": "3.9.15"
    },
    "vscode": {
      "interpreter": {
        "hash": "602fd2f1343589d3bd6f27fae416162c1bba08e244faa27258d2511dac84d913"
      }
    }
  },
  "nbformat": 4,
  "nbformat_minor": 0
}
