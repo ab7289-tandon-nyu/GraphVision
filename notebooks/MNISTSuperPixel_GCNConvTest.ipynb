{
  "cells": [
    {
      "cell_type": "code",
      "execution_count": null,
      "metadata": {
        "colab": {
          "base_uri": "https://localhost:8080/"
        },
        "id": "xHGpcshieLYC",
        "outputId": "eeb6e5a7-45dc-4161-a91e-0af5af24a45b"
      },
      "outputs": [],
      "source": [
        "# Install required packages.\n",
        "import os\n",
        "import torch\n",
        "os.environ['TORCH'] = torch.__version__\n",
        "print(torch.__version__)\n",
        "\n",
        "!pip install -q torch-scatter -f https://data.pyg.org/whl/torch-${TORCH}.html\n",
        "!pip install -q torch-sparse -f https://data.pyg.org/whl/torch-${TORCH}.html\n",
        "!pip install -q torch-cluster -f https://data.pyg.org/whl/torch-${TORCH}.html\n",
        "!pip install -q git+https://github.com/pyg-team/pytorch_geometric.git"
      ]
    },
    {
      "cell_type": "code",
      "execution_count": null,
      "metadata": {
        "id": "yttWCfqQeYrA"
      },
      "outputs": [],
      "source": [
        "import torch\n",
        "import torch.nn as nn\n",
        "import torch.nn.functional as F\n",
        "\n",
        "from torch_geometric.datasets import MNISTSuperpixels\n",
        "from torch_geometric.loader import DataLoader\n",
        "import torch_geometric.transforms as T\n",
        "import torch_geometric.nn as gnn\n",
        "from torch_geometric.utils import normalized_cut  "
      ]
    },
    {
      "cell_type": "code",
      "execution_count": null,
      "metadata": {
        "colab": {
          "base_uri": "https://localhost:8080/"
        },
        "id": "9CqLQcnEe6hg",
        "outputId": "f0e88660-8c91-4db5-f17a-d6e67a26977c"
      },
      "outputs": [],
      "source": [
        "path = \".data/\"\n",
        "transform = T.Compose([\n",
        "    T.GCNNorm(),\n",
        "    T.Cartesian(cat=False),\n",
        "    T.NormalizeScale(),\n",
        "])\n",
        "\n",
        "batch_size = 64\n",
        "\n",
        "train_dataset = MNISTSuperpixels(path, True, transform=transform)\n",
        "test_dataset = MNISTSuperpixels(path, False, transform=transform)\n",
        "train_loader = DataLoader(train_dataset, batch_size=batch_size, shuffle=True, drop_last=True)\n",
        "test_loader = DataLoader(test_dataset, batch_size=batch_size, drop_last=True)\n",
        "d = train_dataset\n",
        "\n",
        "print(f\"Dataset:\\n{d}\")\n",
        "\n",
        "sample = train_dataset[0]\n",
        "print()\n",
        "print(sample)\n",
        "print('=============================================================')\n",
        "\n",
        "# Gather some statistics about the first graph.\n",
        "print(f\"Number of features:  {sample.num_features}\")\n",
        "print(f\"Number of node features: {sample.num_node_features}\")\n",
        "print(f'Number of nodes: {sample.num_nodes}')\n",
        "print(f'Number of edges: {sample.num_edges}')\n",
        "# print(f\"Adjacency Matrix: {data.adj_t}\")\n",
        "print(f'Average node degree: {sample.num_edges / sample.num_nodes:.2f}')\n",
        "print(f'Has isolated nodes: {sample.has_isolated_nodes()}')\n",
        "print(f'Has self-loops: {sample.has_self_loops()}')\n",
        "# print(f'Is undirected: {sample.is_undirected()}')\n",
        "# print(f\"Adjacency matrix: {sample.adj_t.size()}\")\n",
        "print(f\"Edge weight min: {torch.min(sample.edge_weight)}, max: {torch.max(sample.edge_weight)}\")\n"
      ]
    },
    {
      "cell_type": "code",
      "execution_count": null,
      "metadata": {
        "colab": {
          "base_uri": "https://localhost:8080/"
        },
        "id": "9_4Cn39JNkdI",
        "outputId": "d1989588-d5b5-47de-b027-2b63a4b15472"
      },
      "outputs": [],
      "source": [
        "test_batch = next(iter(train_loader))\n",
        "\n",
        "print()\n",
        "print(test_batch)\n",
        "print('=============================================================')\n",
        "\n",
        "# Gather some statistics about the first graph.\n",
        "print(f\"Number of features:  {test_batch.num_features}\")\n",
        "print(f\"Number of node features: {test_batch.num_node_features}\")\n",
        "print(f'Number of nodes: {test_batch.num_nodes}')\n",
        "print(f'Number of edges: {test_batch.num_edges}')\n",
        "# print(f\"Adjacency Matrix: {data.adj_t}\")\n",
        "print(f'Average node degree: {test_batch.num_edges / test_batch.num_nodes:.2f}')\n",
        "print(f'Has isolated nodes: {test_batch.has_isolated_nodes()}')\n",
        "print(f'Has self-loops: {test_batch.has_self_loops()}')\n",
        "print(f'Is undirected: {test_batch.is_undirected()}')"
      ]
    },
    {
      "cell_type": "code",
      "execution_count": null,
      "metadata": {
        "id": "40K6YpYxfO73"
      },
      "outputs": [],
      "source": [
        "class GCNLayer(nn.Module):\n",
        "  def __init__(self, conv, act, norm, dropout:float = 0.0):\n",
        "    super().__init__()\n",
        "    self.conv = conv\n",
        "    self.act = act\n",
        "    self.norm = norm\n",
        "    self.dropout = dropout\n",
        "\n",
        "  def forward(self, x, edge_index, edge_attr = None):\n",
        "    x = shortcut = self.conv(x, edge_index, edge_attr)\n",
        "    x = self.norm(x)\n",
        "    x = self.act(x)\n",
        "    x = x + shortcut\n",
        "    return F.dropout(x, p=self.dropout, training=self.training)\n",
        "\n",
        "class MLPLayer(nn.Module):\n",
        "  def __init__(self, channels, hidden_channels, norm = \"batch\", act = \"relu\"):\n",
        "    super().__init__()\n",
        "    self.lin_in = nn.Linear(channels, hidden_channels)\n",
        "    self.lin_out = nn.Linear(hidden_channels, channels)\n",
        "    self.norms = None\n",
        "    if norm == \"batch\":\n",
        "      self.norms = nn.ModuleList([\n",
        "          nn.BatchNorm1d(hidden_channels),\n",
        "          nn.BatchNorm1d(channels),\n",
        "      ])\n",
        "    elif norm == \"layer\":\n",
        "      self.norms = nn.ModuleList([\n",
        "          nn.LayerNorm(hidden_channels),\n",
        "          nn.LayerNorm(channels),\n",
        "      ])\n",
        "    self.acts = None\n",
        "    if act == \"relu\":\n",
        "      self.acts = nn.ModuleList([\n",
        "          nn.ReLU(),\n",
        "          nn.ReLU(),\n",
        "      ])\n",
        "    elif act == \"gelu\":\n",
        "      self.acts = nn.ModuleList([\n",
        "          nn.GELU(),\n",
        "          nn.GELU(),\n",
        "      ])\n",
        "    elif act == \"elu\":\n",
        "      self.acts = nn.ModuleList([\n",
        "          nn.ELU(),\n",
        "          nn.ELU(),\n",
        "      ])\n",
        "  def forward(self, x):\n",
        "    shortcut = x\n",
        "    \n",
        "    x = self.acts[0](self.norms[0](self.lin_in(x)))\n",
        "    x = self.norms[1](self.lin_out(x))\n",
        "\n",
        "    return self.acts[1](x + shortcut)\n",
        "\n",
        "def normalized_cut_2d(edge_index: torch.Tensor, pos: torch.Tensor):\n",
        "  row, col = edge_index\n",
        "  edge_attr = torch.norm(pos[row] - pos[col], p=2, dim=1)\n",
        "  return normalized_cut(edge_index, edge_attr, num_nodes=pos.size(0))\n",
        "\n",
        "\n",
        "class Net(nn.Module):\n",
        "  def __init__(self, input_features, output_features, hidden_features, num_layers, use_cluster_pooling = False, dropout = 0.0):\n",
        "    super().__init__()\n",
        "    self.input_features = input_features\n",
        "    self.output_features = output_features\n",
        "    self.hidden_features = hidden_features\n",
        "    self.num_layers = num_layers\n",
        "    self.use_cluster_pooling = use_cluster_pooling\n",
        "    self.dropout = dropout\n",
        "\n",
        "    # self.edge_encoder = nn.Linear(test_batch.num_edges, self.hidden_features, bias=False)\n",
        "    # self.attr_encoder = nn.Linear(sample.num_edge_features, self.hidden_features, bias=False)\n",
        "\n",
        "    self.fc_in = nn.Linear(self.input_features, self.hidden_features)\n",
        "    self.fc_hidden = MLPLayer(self.hidden_features, 2 * self.hidden_features, act=\"relu\", norm=\"batch\")\n",
        "    self.fc_out = nn.Linear(self.hidden_features, self.output_features)\n",
        "\n",
        "    self.conv_layers = nn.ModuleList()\n",
        "    for i in range(num_layers):\n",
        "      self.conv_layers.append(\n",
        "          GCNLayer(\n",
        "              # gnn.GCNConv(self.hidden_features, self.hidden_features, improved=True),\n",
        "              # gnn.GCN2Conv(self.hidden_features, 0.1, 0.5, i+1, shared_weights=False, normalize=False),\n",
        "              gnn.GENConv(self.hidden_features, self.hidden_features, learn_t=True, edge_dim=sample.edge_attr.size(-1)),\n",
        "              # gnn.GeneralConv(self.hidden_features, self.hidden_features, in_edge_channels=sample.edge_attr.size(-1)),\n",
        "              nn.BatchNorm1d(self.hidden_features),\n",
        "              # nn.LayerNorm(self.hidden_features),\n",
        "              # nn.ELU(inplace=True),\n",
        "              # nn.GELU(),\n",
        "              nn.ReLU(inplace=True),\n",
        "          )\n",
        "      )\n",
        "    \n",
        "  def forward(self, data):\n",
        "    data.x = self.fc_in(data.x)\n",
        "    # data.x = x_0 = self.fc_in(data.x)\n",
        "    # data.edge_index = self.edge_encoder(data.edge_index)\n",
        "    # data.edge_attr = self.attr_encoder(data.edge_attr)\n",
        "\n",
        "    for idx, layer in enumerate(self.conv_layers):\n",
        "      # data.x = layer(data.x, x_0, data.edge_index, data.edge_attr)\n",
        "      data.x = layer(data.x, data.edge_index, data.edge_attr)\n",
        "      # forward for GCNConv\n",
        "      # data.x = layer(data.x, data.edge_index)\n",
        "\n",
        "    x, batch = data.x, data.batch\n",
        "    if self.use_cluster_pooling:\n",
        "      data.edge_attr = None\n",
        "      weight = normalized_cut_2d(data.edge_index, data.pos)\n",
        "      cluster = gnn.graclus(data.edge_index, weight, data.x.size(0))\n",
        "      x, batch = gnn.max_pool_x(cluster, x, batch)\n",
        "\n",
        "    # Readout Layer\n",
        "    x = gnn.global_mean_pool(x, batch)\n",
        "\n",
        "    # x = F.gelu(x)\n",
        "    x = F.relu(x)\n",
        "    # x = F.elu(x)\n",
        "    x = F.dropout(x, p=self.dropout, training=self.training)\n",
        "    x = self.fc_hidden(x)\n",
        "    x = F.dropout(x, p=self.dropout, training=self.training)\n",
        "    return self.fc_out(x)\n"
      ]
    },
    {
      "cell_type": "code",
      "execution_count": null,
      "metadata": {
        "colab": {
          "base_uri": "https://localhost:8080/"
        },
        "id": "ttgCQq-bx5c4",
        "outputId": "48474ca5-9849-43de-c8ef-8d6af4b9ee9c"
      },
      "outputs": [],
      "source": [
        "device = torch.device(\"cuda\" if torch.cuda.is_available() else \"cpu\")\n",
        "model = Net(d.num_features, d.num_classes, 64, 4, use_cluster_pooling=False).to(device)\n",
        "optimizer = torch.optim.Adam(model.parameters(), lr=0.001)\n",
        "criterion = nn.CrossEntropyLoss().to(device)\n",
        "\n",
        "params = sum([p.numel() for p in model.parameters() if p.requires_grad])\n",
        "print(f\"There are {params:,} trainable Parameters.\")\n",
        "print()\n",
        "print(model)"
      ]
    },
    {
      "cell_type": "code",
      "execution_count": null,
      "metadata": {
        "id": "SfI3hQUaziS2"
      },
      "outputs": [],
      "source": [
        "def train():\n",
        "  model.train()\n",
        "\n",
        "  epoch_loss = 0\n",
        "  correct = 0\n",
        "  for data in train_loader:\n",
        "    data = data.to(device)\n",
        "\n",
        "    optimizer.zero_grad()\n",
        "\n",
        "    outputs = model(data)\n",
        "    loss = criterion(outputs, data.y)\n",
        "    loss.backward()\n",
        "\n",
        "    optimizer.step()\n",
        "\n",
        "    epoch_loss += loss.item()\n",
        "    # preds = outputs.max(1)[1]\n",
        "    # epoch_acc += preds.eq(data.y).sum().item()\n",
        "    # print(f\"outputs: {outputs.size()}\")\n",
        "    # print(f\"data.y: {data.y.size()}\")\n",
        "    # print(f\"preds: {outputs.argmax(1).eq(data.y).sum()}\")\n",
        "    # total += 1\n",
        "    correct += outputs.argmax(1).eq(data.y).sum().item()\n",
        "  return epoch_loss / len(train_loader), correct / len(train_loader)\n",
        "\n",
        "def eval():\n",
        "  model.eval()\n",
        "\n",
        "  epoch_loss = 0\n",
        "  correct = 0\n",
        "  # total = 0\n",
        "  for data in test_loader:\n",
        "    data = data.to(device)\n",
        "\n",
        "    outputs = model(data)\n",
        "    loss = criterion(outputs, data.y)\n",
        "\n",
        "    epoch_loss += loss.item()\n",
        "    # preds = outputs.max(1)[1]\n",
        "    # epoch_acc += preds.eq(data.y).sum().item()\n",
        "    # total += 1\n",
        "    # if outputs.argmax(1).item() == data.y.item():\n",
        "    #   correct += 1\n",
        "    correct += outputs.argmax(1).eq(data.y).sum().item()\n",
        "  return epoch_loss / len(test_loader), correct / len(test_loader)\n"
      ]
    },
    {
      "cell_type": "code",
      "execution_count": null,
      "metadata": {
        "colab": {
          "base_uri": "https://localhost:8080/"
        },
        "id": "8yE0uzVGBCq6",
        "outputId": "8d7ad34f-b6b2-42ce-da52-39c7e4443670"
      },
      "outputs": [],
      "source": [
        "EPOCHS = 10\n",
        "\n",
        "train_loss = []\n",
        "train_acc = []\n",
        "test_loss = []\n",
        "test_acc = []\n",
        "\n",
        "for epoch in range(1, EPOCHS + 1):\n",
        "  print(f\"Epoch: {epoch}\")\n",
        "  epoch_loss, epoch_acc = train()\n",
        "  train_loss.append(epoch_loss)\n",
        "  train_acc.append(epoch_acc)\n",
        "  print(f\"\\tTrain Loss: {epoch_loss:.3f}, Train Acc: {epoch_acc:.2f}\")\n",
        "  epoch_loss, epoch_acc = eval()\n",
        "  test_loss.append(epoch_loss)\n",
        "  test_acc.append(epoch_acc)\n",
        "  print(f\"\\tTest Loss: {epoch_loss:.3f}, Test Acc: {epoch_acc:.2f}\")"
      ]
    },
    {
      "cell_type": "code",
      "execution_count": null,
      "metadata": {
        "colab": {
          "base_uri": "https://localhost:8080/"
        },
        "id": "ecQGfLEvwg-p",
        "outputId": "e5bbb809-9c48-4bab-add4-be3a093c808b"
      },
      "outputs": [],
      "source": [
        "# import networkx as nx\n",
        "import torch_geometric\n",
        "\n",
        "loader = DataLoader(test_dataset, batch_size=1)\n",
        "\n",
        "graph = next(iter(loader))\n",
        "print(graph)\n",
        "print(f\"graph.y: {graph.y}\")\n",
        "# nx.draw(torch_geometric.utils.to_networkx(graph))\n",
        "outputs = model(graph.to(device))\n",
        "print(f\"outputs: {outputs}\")\n",
        "print(f\"prediction: {outputs.argmax(1)}\")"
      ]
    },
    {
      "cell_type": "code",
      "execution_count": null,
      "metadata": {
        "colab": {
          "base_uri": "https://localhost:8080/"
        },
        "id": "2xO4CsCYwvuJ",
        "outputId": "8be74ca9-5510-4ffb-f28c-f39c4e89ad61"
      },
      "outputs": [],
      "source": [
        "correct = 0\n",
        "total = 0\n",
        "\n",
        "for idx, graph in enumerate(loader):\n",
        "  outputs = model(graph.to(device))\n",
        "  # print(f\"Pred: {outputs.argmax(1).item()}, Target: {graph.y.item()}\")\n",
        "  # if idx >= 50:\n",
        "  #   break\n",
        "  if outputs.argmax(1).item() == graph.y.item():\n",
        "    correct += 1\n",
        "  total += 1\n",
        "\n",
        "print(f\"acc: {correct / total}\")"
      ]
    },
    {
      "cell_type": "code",
      "execution_count": null,
      "metadata": {
        "id": "gZBOxtYSySuI"
      },
      "outputs": [],
      "source": []
    },
    {
      "cell_type": "markdown",
      "metadata": {
        "id": "bOXDJFm_YujM"
      },
      "source": [
        "## Test Setup\n",
        "\n",
        "* Batch Size:    64\n",
        "* Epochs:        50\n",
        "* Optimizer: Adam\n",
        "* Learning Rate: 0.001\n",
        "* num layers: 4\n",
        "\n",
        "\n",
        "## Results\n",
        "\n",
        "* GCNConv (BN + ReLU): 0.4469 (BN + GELU): 0.5475 (BN + ELU): -\n",
        "* GCNIIConv: (BN + ReLU): - (BN + GELU): - (BN + ELU): -\n",
        "* GENConv: (BN + ReLU): - (BN + GELU): - (BN + ELU): - \n",
        "* GeneralConv: (BN + ReLU): 0.9002 (BN + GELU): 0.6302 (BN + ELU): -\n",
        "\n",
        "\n",
        "## Results With Clustering\n",
        "\n",
        "* GCNConv (BN + ReLU): 0.6025 (BN + GELU): 0.5462 (BN + ELU): 0.5664\n",
        "* GCNIIConv: (BN + ReLU): - (BN + GELU): - (BN + ELU): -\n",
        "* GENConv: (BN + ReLU): - (BN + GELU): - (BN + ELU): - \n",
        "* GeneralConv: (BN + ReLU): - (BN + GELU): - (BN + ELU): -\n",
        "\n",
        "\n",
        "## GENConv Additional Results\n",
        "\n",
        "* hidden_size = 64, num_layers = 4, use_cluster_pooling: false ACC: \n",
        "* hidden_size = 64, num_layers = 4, use_cluster_pooling: True ACC: \n"
      ]
    }
  ],
  "metadata": {
    "accelerator": "GPU",
    "colab": {
      "provenance": []
    },
    "gpuClass": "standard",
    "kernelspec": {
      "display_name": "Python 3.9.15 ('pyg')",
      "language": "python",
      "name": "python3"
    },
    "language_info": {
      "codemirror_mode": {
        "name": "ipython",
        "version": 3
      },
      "file_extension": ".py",
      "mimetype": "text/x-python",
      "name": "python",
      "nbconvert_exporter": "python",
      "pygments_lexer": "ipython3",
      "version": "3.9.15"
    },
    "vscode": {
      "interpreter": {
        "hash": "602fd2f1343589d3bd6f27fae416162c1bba08e244faa27258d2511dac84d913"
      }
    }
  },
  "nbformat": 4,
  "nbformat_minor": 0
}
