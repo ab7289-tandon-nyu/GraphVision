{
  "cells": [
    {
      "cell_type": "code",
      "execution_count": 1,
      "metadata": {
        "colab": {
          "base_uri": "https://localhost:8080/"
        },
        "id": "HQeBbCYZlhKn",
        "outputId": "b0928037-5b99-4180-fd08-b4d342c52192"
      },
      "outputs": [
        {
          "name": "stdout",
          "output_type": "stream",
          "text": [
            "1.13.0\n"
          ]
        }
      ],
      "source": [
        "# Install required packages.\n",
        "import os\n",
        "import torch\n",
        "os.environ['TORCH'] = torch.__version__\n",
        "print(torch.__version__)\n",
        "\n",
        "!pip install -q torch-scatter -f https://data.pyg.org/whl/torch-${TORCH}.html\n",
        "!pip install -q torch-sparse -f https://data.pyg.org/whl/torch-${TORCH}.html\n",
        "!pip install -q torch-cluster -f https://data.pyg.org/whl/torch-${TORCH}.html\n",
        "!pip install -q git+https://github.com/pyg-team/pytorch_geometric.git"
      ]
    },
    {
      "cell_type": "code",
      "execution_count": 2,
      "metadata": {
        "colab": {
          "base_uri": "https://localhost:8080/"
        },
        "id": "NUnIVvd-lxxZ",
        "outputId": "2ff35277-39fc-40df-8b4f-eda39181898c"
      },
      "outputs": [],
      "source": [
        "# Install our repo\n",
        "# !git clone -b models \"https://github.com/ab7289-tandon-nyu/GraphVision.git\"\n",
        "# !cp -r /content/GraphVision/src/ .\n",
        "\n",
        "!pip install -q git+https://github.com/ab7289-tandon-nyu/GraphVision.git"
      ]
    },
    {
      "cell_type": "code",
      "execution_count": 3,
      "metadata": {
        "colab": {
          "base_uri": "https://localhost:8080/"
        },
        "id": "Wuj1_P_3m0-l",
        "outputId": "c2c60d75-af48-43a5-b015-e2a7113d6d3b"
      },
      "outputs": [
        {
          "name": "stderr",
          "output_type": "stream",
          "text": [
            "Downloading https://data.pyg.org/datasets/benchmarking-gnns/MNIST_v2.zip\n",
            "Extracting .data/MNIST/raw/MNIST_v2.zip\n",
            "Processing...\n",
            "Done!\n"
          ]
        }
      ],
      "source": [
        "from src.transforms import get_transforms\n",
        "from src.datasets import get_datasets, get_dataloaders\n",
        "\n",
        "transforms = get_transforms(\"cartesian\")\n",
        "train_dataset, valid_dataset, test_dataset = get_datasets(\".data/\", \n",
        "                        \"MNIST\", pre_transforms = None,\n",
        "                        transforms = transforms)\n",
        "BATCH_SIZE = 64\n",
        "\n",
        "train_loader, valid_loader, test_loader = get_dataloaders(train_dataset,\n",
        "                                                          valid_dataset,\n",
        "                                                          test_dataset,\n",
        "                                                          batch_size=(BATCH_SIZE, 1, 1),\n",
        "                                                          drop_last = False)"
      ]
    },
    {
      "cell_type": "markdown",
      "metadata": {
        "id": "Sjmgy7RvoJN-"
      },
      "source": [
        "## Review batch attributes"
      ]
    },
    {
      "cell_type": "code",
      "execution_count": 4,
      "metadata": {
        "colab": {
          "base_uri": "https://localhost:8080/"
        },
        "id": "-QCa0O4IoM6U",
        "outputId": "0e310711-5020-43df-b7f1-8acb7fbc0871"
      },
      "outputs": [
        {
          "name": "stdout",
          "output_type": "stream",
          "text": [
            "\n",
            "DataBatch(x=[4531, 1], edge_index=[2, 40779], edge_attr=[40779, 2], y=[64], pos=[4531, 2], edge_weight=[40779], batch=[4531], ptr=[65])\n",
            "=====================================================================\n",
            "Number of features:  1\n",
            "Number of node features: 1\n",
            "Number of nodes: 4531\n",
            "Number of edges: 40779\n",
            "Average node degree: 9.00\n",
            "Has isolated nodes: False\n",
            "Has self-loops: True\n"
          ]
        }
      ],
      "source": [
        "sample_batch = next(iter(train_loader))\n",
        "\n",
        "print()\n",
        "print(sample_batch)\n",
        "print(\"=====================================================================\")\n",
        "\n",
        "# Gather some statistics about the first graph.\n",
        "print(f\"Number of features:  {sample_batch.num_features}\")\n",
        "print(f\"Number of node features: {sample_batch.num_node_features}\")\n",
        "print(f'Number of nodes: {sample_batch.num_nodes}')\n",
        "print(f'Number of edges: {sample_batch.num_edges}')\n",
        "print(f'Average node degree: {sample_batch.num_edges / sample_batch.num_nodes:.2f}')\n",
        "print(f'Has isolated nodes: {sample_batch.has_isolated_nodes()}')\n",
        "print(f'Has self-loops: {sample_batch.has_self_loops()}')"
      ]
    },
    {
      "cell_type": "code",
      "execution_count": 5,
      "metadata": {
        "id": "tu3VtmrWpnZx"
      },
      "outputs": [],
      "source": [
        "# store edge dimension\n",
        "edge_dim = sample_batch.edge_attr.size(-1)\n",
        "edge_dim\n",
        "# store number of features in graph batch\n",
        "input_features = test_dataset.num_features\n",
        "# store number of classes for classification\n",
        "num_classes = test_dataset.num_classes"
      ]
    },
    {
      "cell_type": "code",
      "execution_count": 6,
      "metadata": {
        "colab": {
          "base_uri": "https://localhost:8080/"
        },
        "id": "rqiZaFw2ps9r",
        "outputId": "f2fb7f4f-abfb-45e4-9c58-5770901cbfd4"
      },
      "outputs": [
        {
          "name": "stdout",
          "output_type": "stream",
          "text": [
            "Creating new Model\n"
          ]
        }
      ],
      "source": [
        "from pathlib import Path\n",
        "\n",
        "save_loc = \"../saved_models/\" # put save location here\n",
        "model_name = \"GENConv_clus-false_BN_RELU_layer4.pt\"\n",
        "\n",
        "file_path = save_loc + model_name\n",
        "path = Path(file_path)\n",
        "state_dict = None\n",
        "if path.exists() and path.is_file():\n",
        "  print(\"Found Save!\")\n",
        "  state_dict = torch.load(path)\n",
        "else:\n",
        "  print(\"Creating new Model\")"
      ]
    },
    {
      "cell_type": "markdown",
      "metadata": {
        "id": "gGiE28k32eUr"
      },
      "source": [
        "## Create our Model"
      ]
    },
    {
      "cell_type": "code",
      "execution_count": 7,
      "metadata": {
        "id": "epF5kpJcqWJw"
      },
      "outputs": [],
      "source": [
        "from src.models import DeeperGCN\n",
        "\n",
        "hidden_features = 64\n",
        "\n",
        "device = torch.device(\"cuda\" if torch.cuda.is_available() else \"cpu\")\n",
        "model = DeeperGCN(\n",
        "    input_features,\n",
        "    num_classes,\n",
        "    hidden_features,\n",
        "    conv_type = \"GEN\",\n",
        "    act = \"gelu\",\n",
        "    norm = \"layer\",\n",
        "    num_layers = 4,\n",
        "    use_cluster_pooling = True,\n",
        "    readout = \"mean\",\n",
        "    dropout = 0.0,\n",
        "    edge_dim = edge_dim\n",
        ").to(device)\n",
        "if state_dict is not None:\n",
        "  print(\"Loading previously saved state dictionary\")\n",
        "  model.load_state_dict(state_dict)\n",
        "\n",
        "optimizer = torch.optim.Adam(model.parameters(), lr=0.001)\n",
        "criterion = torch.nn.CrossEntropyLoss().to(device)"
      ]
    },
    {
      "cell_type": "code",
      "execution_count": 8,
      "metadata": {
        "colab": {
          "base_uri": "https://localhost:8080/"
        },
        "id": "fsm1MwvSr0nU",
        "outputId": "74d82125-21a3-4858-af8a-d1f75a174e08"
      },
      "outputs": [
        {
          "name": "stdout",
          "output_type": "stream",
          "text": [
            "There are 68,366 trainable parameters.\n",
            "\n",
            "DeeperGCN(\n",
            "  (fc_in): Linear(in_features=1, out_features=64, bias=True)\n",
            "  (fc_out): Linear(in_features=64, out_features=10, bias=True)\n",
            "  (out_act): GELU(approximate='none')\n",
            "  (layers): ModuleList(\n",
            "    (0): DeepGCNLayer(block=res+)\n",
            "    (1): DeepGCNLayer(block=res+)\n",
            "    (2): DeepGCNLayer(block=res+)\n",
            "    (3): DeepGCNLayer(block=res+)\n",
            "  )\n",
            ")\n"
          ]
        }
      ],
      "source": [
        "params = sum([p.numel() for p in model.parameters() if p.requires_grad])\n",
        "print(f\"There are {params:,} trainable parameters.\")\n",
        "print()\n",
        "print(model)"
      ]
    },
    {
      "cell_type": "markdown",
      "metadata": {
        "id": "uuoamYXu2hf-"
      },
      "source": [
        "## Train"
      ]
    },
    {
      "cell_type": "code",
      "execution_count": 10,
      "metadata": {
        "colab": {
          "base_uri": "https://localhost:8080/"
        },
        "id": "8pyJ2olIr9pi",
        "outputId": "36418eb4-db91-4cf6-ca7e-4be6b76005d9"
      },
      "outputs": [
        {
          "name": "stdout",
          "output_type": "stream",
          "text": [
            "\n",
            "Epoch: 1\n",
            "\n",
            "Train Loss: 0.307, Train Accuracy: 0.90\n",
            "Validation Loss: 2.792, Validation Accuracy: 0.28\n",
            "\n",
            "Epoch: 2\n",
            "\n",
            "Train Loss: 0.244, Train Accuracy: 0.92\n",
            "Validation Loss: 1.287, Validation Accuracy: 0.65\n",
            "\n",
            "Epoch: 3\n",
            "\n",
            "Train Loss: 0.209, Train Accuracy: 0.93\n",
            "Validation Loss: 0.707, Validation Accuracy: 0.80\n",
            "\n",
            "Epoch: 4\n",
            "\n",
            "Train Loss: 0.186, Train Accuracy: 0.94\n",
            "Validation Loss: 0.542, Validation Accuracy: 0.83\n",
            "\n",
            "Epoch: 5\n",
            "\n",
            "Train Loss: 0.170, Train Accuracy: 0.94\n",
            "Validation Loss: 0.482, Validation Accuracy: 0.86\n",
            "\n",
            "Epoch: 6\n",
            "\n",
            "Train Loss: 0.156, Train Accuracy: 0.95\n",
            "Validation Loss: 0.241, Validation Accuracy: 0.92\n",
            "\n",
            "Epoch: 7\n",
            "\n",
            "Train Loss: 0.144, Train Accuracy: 0.95\n",
            "Validation Loss: 1.076, Validation Accuracy: 0.72\n",
            "\n",
            "Epoch: 8\n",
            "\n",
            "Train Loss: 0.134, Train Accuracy: 0.96\n",
            "Validation Loss: 0.658, Validation Accuracy: 0.81\n",
            "\n",
            "Epoch: 9\n",
            "\n",
            "Train Loss: 0.126, Train Accuracy: 0.96\n",
            "Validation Loss: 0.372, Validation Accuracy: 0.89\n",
            "\n",
            "Epoch: 10\n",
            "\n",
            "Train Loss: 0.120, Train Accuracy: 0.96\n",
            "Validation Loss: 0.382, Validation Accuracy: 0.88\n",
            "\n",
            "Epoch: 11\n",
            "\n",
            "Train Loss: 0.111, Train Accuracy: 0.96\n",
            "Validation Loss: 0.721, Validation Accuracy: 0.78\n",
            "\n",
            "Epoch: 12\n",
            "\n",
            "Train Loss: 0.105, Train Accuracy: 0.96\n",
            "Validation Loss: 0.434, Validation Accuracy: 0.87\n",
            "\n",
            "Epoch: 13\n",
            "\n",
            "Train Loss: 0.099, Train Accuracy: 0.97\n",
            "Validation Loss: 0.151, Validation Accuracy: 0.95\n",
            "\n",
            "Epoch: 14\n",
            "\n",
            "Train Loss: 0.095, Train Accuracy: 0.97\n",
            "Validation Loss: 0.261, Validation Accuracy: 0.92\n",
            "\n",
            "Epoch: 15\n",
            "\n",
            "Train Loss: 0.091, Train Accuracy: 0.97\n"
          ]
        }
      ],
      "source": [
        "from src.engine import train, evaluate\n",
        "from src.utils import calculate_accuracy\n",
        "\n",
        "EPOCHS = 15\n",
        "train_loss = []\n",
        "train_acc = []\n",
        "valid_loss = []\n",
        "valid_acc = []\n",
        "best_loss = float('inf')\n",
        "\n",
        "for epoch in range(1, EPOCHS + 1):\n",
        "  print(f\"\\nEpoch: {epoch}\\n\")\n",
        "  loss, acc = train(model, train_loader, criterion, optimizer, device)\n",
        "  train_loss.append(loss)\n",
        "  train_acc.append(acc)\n",
        "  print(f\"Train Loss: {train_loss[-1]:.3f}, Train Accuracy: {train_acc[-1]:.2f}\")\n",
        "\n",
        "  loss, acc = evaluate(model, valid_loader, criterion, device)\n",
        "  valid_loss.append(loss)\n",
        "  valid_acc.append(acc)\n",
        "  print(f\"Validation Loss: {valid_loss[-1]:.3f}, Validation Accuracy: {valid_acc[-1]:.2f}\")\n",
        "\n",
        "  if loss < best_loss:\n",
        "    best_loss = loss\n",
        "    torch.save(model.state_dict(), path)"
      ]
    },
    {
      "cell_type": "markdown",
      "metadata": {
        "id": "GIu5vZ3d2jNJ"
      },
      "source": [
        "## Evaluate on the Test set"
      ]
    },
    {
      "cell_type": "code",
      "execution_count": null,
      "metadata": {
        "colab": {
          "base_uri": "https://localhost:8080/"
        },
        "id": "q5oWJj8g11MF",
        "outputId": "167d6034-b90f-4a3a-f82d-52e0fde05dbb"
      },
      "outputs": [
        {
          "name": "stdout",
          "output_type": "stream",
          "text": [
            "Test Loss: 0.195\n",
            "Test Accuracy: 0.94%\n"
          ]
        }
      ],
      "source": [
        "# load best model\n",
        "model.load_state_dict(torch.load(path))\n",
        "test_loss, test_acc = evaluate(model.to(device), test_loader, criterion, device)\n",
        "print(f\"Test Loss: {test_loss:.3f}\")\n",
        "print(f\"Test Accuracy: {test_acc:.2f}%\")"
      ]
    },
    {
      "cell_type": "markdown",
      "metadata": {
        "id": "qvOfsB752las"
      },
      "source": [
        "## Plot Loss and Accuracy Curves"
      ]
    },
    {
      "cell_type": "code",
      "execution_count": null,
      "metadata": {
        "colab": {
          "base_uri": "https://localhost:8080/",
          "height": 265
        },
        "id": "gk6I1WkDvWmE",
        "outputId": "d354d57e-d8f3-40c8-ad96-cedc2d4888b5"
      },
      "outputs": [
        {
          "data": {
            "image/png": "[encoded data removed]",
            "text/plain": [
              "<Figure size 432x288 with 1 Axes>"
            ]
          },
          "metadata": {
            "needs_background": "light"
          },
          "output_type": "display_data"
        }
      ],
      "source": [
        "import matplotlib.pyplot as plt\n",
        "\n",
        "x = [i for i in range(len(valid_loss))]\n",
        "\n",
        "plt.plot(x, train_loss, label=\"Train Loss\")\n",
        "plt.plot(x, valid_loss, label=\"Validation Loss\")\n",
        "plt.legend()\n",
        "plt.show()"
      ]
    },
    {
      "cell_type": "code",
      "execution_count": null,
      "metadata": {
        "colab": {
          "base_uri": "https://localhost:8080/",
          "height": 265
        },
        "id": "A-xP3uX63aT8",
        "outputId": "3a4b86bc-31be-465a-a5c1-9fb0a5895ac8"
      },
      "outputs": [
        {
          "data": {
            "image/png": "[encoded data removed]",
            "text/plain": [
              "<Figure size 432x288 with 1 Axes>"
            ]
          },
          "metadata": {
            "needs_background": "light"
          },
          "output_type": "display_data"
        }
      ],
      "source": [
        "plt.plot(x, train_acc, label=\"Train Accuracy\")\n",
        "plt.plot(x, valid_acc, label=\"Validation Accuracy\")\n",
        "plt.legend()\n",
        "plt.show()"
      ]
    },
    {
      "cell_type": "code",
      "execution_count": 12,
      "metadata": {
        "id": "D_FdIR923n9N"
      },
      "outputs": [],
      "source": []
    }
  ],
  "metadata": {
    "accelerator": "GPU",
    "colab": {
      "provenance": []
    },
    "gpuClass": "standard",
    "kernelspec": {
      "display_name": "pyg",
      "language": "python",
      "name": "python3"
    },
    "language_info": {
      "codemirror_mode": {
        "name": "ipython",
        "version": 3
      },
      "file_extension": ".py",
      "mimetype": "text/x-python",
      "name": "python",
      "nbconvert_exporter": "python",
      "pygments_lexer": "ipython3",
      "version": "3.8.15"
    },
    "vscode": {
      "interpreter": {
        "hash": "536bff2171606441367cae7f69d00d135102e5bf4fb8efd84c776e7ac6821f3a"
      }
    }
  },
  "nbformat": 4,
  "nbformat_minor": 0
}
