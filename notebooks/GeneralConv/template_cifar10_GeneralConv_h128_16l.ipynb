{
  "cells": [
    {
      "cell_type": "code",
      "execution_count": 1,
      "metadata": {
        "colab": {
          "base_uri": "https://localhost:8080/"
        },
        "id": "HQeBbCYZlhKn",
        "outputId": "265f87ef-b10c-43ef-d2bb-5df5a4fd32c9"
      },
      "outputs": [
        {
          "output_type": "stream",
          "name": "stdout",
          "text": [
            "1.13.0+cu116\n",
            "\u001b[K     |████████████████████████████████| 3.2 MB 26.2 MB/s \n",
            "\u001b[K     |████████████████████████████████| 512 kB 33.6 MB/s \n",
            "\u001b[K     |████████████████████████████████| 280 kB 80.0 MB/s \n",
            "\u001b[?25h  Building wheel for torch-geometric (setup.py) ... \u001b[?25l\u001b[?25hdone\n"
          ]
        }
      ],
      "source": [
        "# Install required packages.\n",
        "import os\n",
        "import torch\n",
        "os.environ['TORCH'] = torch.__version__\n",
        "print(torch.__version__)\n",
        "\n",
        "!pip install -q torch-scatter -f https://data.pyg.org/whl/torch-${TORCH}.html\n",
        "!pip install -q torch-sparse -f https://data.pyg.org/whl/torch-${TORCH}.html\n",
        "!pip install -q torch-cluster -f https://data.pyg.org/whl/torch-${TORCH}.html\n",
        "!pip install -q git+https://github.com/pyg-team/pytorch_geometric.git"
      ]
    },
    {
      "cell_type": "code",
      "execution_count": 2,
      "metadata": {
        "colab": {
          "base_uri": "https://localhost:8080/"
        },
        "id": "NUnIVvd-lxxZ",
        "outputId": "be40ee88-68cb-4374-af31-46ae12d669a5"
      },
      "outputs": [
        {
          "output_type": "stream",
          "name": "stdout",
          "text": [
            "  Installing build dependencies ... \u001b[?25l\u001b[?25hdone\n",
            "  Getting requirements to build wheel ... \u001b[?25l\u001b[?25hdone\n",
            "    Preparing wheel metadata ... \u001b[?25l\u001b[?25hdone\n",
            "\u001b[K     |████████████████████████████████| 121 kB 35.2 MB/s \n",
            "\u001b[K     |████████████████████████████████| 1.6 MB 49.8 MB/s \n",
            "\u001b[K     |████████████████████████████████| 83 kB 2.3 MB/s \n",
            "\u001b[?25h  Building wheel for GraphVision (PEP 517) ... \u001b[?25l\u001b[?25hdone\n"
          ]
        }
      ],
      "source": [
        "# Install our repo\n",
        "# !git clone -b models \"https://github.com/ab7289-tandon-nyu/GraphVision.git\"\n",
        "# !cp -r /content/GraphVision/src/ .\n",
        "\n",
        "!pip install -q git+https://github.com/ab7289-tandon-nyu/GraphVision.git"
      ]
    },
    {
      "cell_type": "code",
      "execution_count": 3,
      "metadata": {
        "id": "4hY3Lomuoya8"
      },
      "outputs": [],
      "source": [
        "SEED = 1234\n",
        "\n",
        "torch.manual_seed(SEED)\n",
        "torch.cuda.manual_seed(SEED)\n",
        "torch.backends.cudnn.deterministic = True"
      ]
    },
    {
      "cell_type": "code",
      "execution_count": 4,
      "metadata": {
        "id": "A96sSFKSLHMN"
      },
      "outputs": [],
      "source": [
        "# from google.colab import drive\n",
        "# drive.mount(\"/content/drive\")"
      ]
    },
    {
      "cell_type": "code",
      "execution_count": 5,
      "metadata": {
        "colab": {
          "base_uri": "https://localhost:8080/"
        },
        "id": "Wuj1_P_3m0-l",
        "outputId": "34523bc5-1437-4b20-8f30-5bd30d6030f7"
      },
      "outputs": [
        {
          "output_type": "stream",
          "name": "stderr",
          "text": [
            "Downloading https://data.pyg.org/datasets/benchmarking-gnns/CIFAR10_v2.zip\n",
            "Extracting .data/CIFAR10/raw/CIFAR10_v2.zip\n",
            "Processing...\n",
            "Done!\n"
          ]
        }
      ],
      "source": [
        "from src.transforms import get_transforms\n",
        "from src.datasets import get_datasets, get_dataloaders\n",
        "\n",
        "transforms = get_transforms(\"cartesian\")\n",
        "train_dataset, valid_dataset, test_dataset = get_datasets(\".data/\", \n",
        "                        \"CIFAR10\", pre_transforms = None,\n",
        "                        transforms = transforms)\n",
        "BATCH_SIZE = 128\n",
        "\n",
        "train_loader, valid_loader, test_loader = get_dataloaders(train_dataset,\n",
        "                                                          valid_dataset,\n",
        "                                                          test_dataset,\n",
        "                                                          batch_size=(BATCH_SIZE, 1, 1),\n",
        "                                                          drop_last = False)"
      ]
    },
    {
      "cell_type": "markdown",
      "metadata": {
        "id": "Sjmgy7RvoJN-"
      },
      "source": [
        "## Review batch attributes"
      ]
    },
    {
      "cell_type": "code",
      "execution_count": 6,
      "metadata": {
        "colab": {
          "base_uri": "https://localhost:8080/"
        },
        "id": "-QCa0O4IoM6U",
        "outputId": "03cb5649-773a-48d5-a3a7-5d11cbd727e3"
      },
      "outputs": [
        {
          "output_type": "stream",
          "name": "stdout",
          "text": [
            "\n",
            "DataBatch(x=[14981, 3], edge_index=[2, 134829], edge_attr=[134829, 2], y=[128], pos=[14981, 2], edge_weight=[134829], batch=[14981], ptr=[129])\n",
            "=====================================================================\n",
            "Number of features:  3\n",
            "Number of node features: 3\n",
            "Number of nodes: 14981\n",
            "Number of edges: 134829\n",
            "Average node degree: 9.00\n",
            "Has isolated nodes: False\n",
            "Has self-loops: True\n"
          ]
        }
      ],
      "source": [
        "sample_batch = next(iter(train_loader))\n",
        "\n",
        "print()\n",
        "print(sample_batch)\n",
        "print(\"=====================================================================\")\n",
        "\n",
        "# Gather some statistics about the first graph.\n",
        "print(f\"Number of features:  {sample_batch.num_features}\")\n",
        "print(f\"Number of node features: {sample_batch.num_node_features}\")\n",
        "print(f'Number of nodes: {sample_batch.num_nodes}')\n",
        "print(f'Number of edges: {sample_batch.num_edges}')\n",
        "print(f'Average node degree: {sample_batch.num_edges / sample_batch.num_nodes:.2f}')\n",
        "print(f'Has isolated nodes: {sample_batch.has_isolated_nodes()}')\n",
        "print(f'Has self-loops: {sample_batch.has_self_loops()}')"
      ]
    },
    {
      "cell_type": "code",
      "execution_count": 7,
      "metadata": {
        "colab": {
          "base_uri": "https://localhost:8080/"
        },
        "id": "tu3VtmrWpnZx",
        "outputId": "3518e0eb-ea6d-443d-ef56-4d9f1420b0d6"
      },
      "outputs": [
        {
          "output_type": "stream",
          "name": "stdout",
          "text": [
            "Number of features: 3\n",
            "Number of classes: 10\n",
            "Edge Attr Dimension: 2\n"
          ]
        }
      ],
      "source": [
        "# store edge dimension\n",
        "edge_dim = sample_batch.edge_attr.size(-1)\n",
        "edge_dim\n",
        "# store number of features in graph batch\n",
        "input_features = test_dataset.num_features\n",
        "# store number of classes for classification\n",
        "num_classes = test_dataset.num_classes\n",
        "\n",
        "print(f\"Number of features: {input_features}\")\n",
        "print(f\"Number of classes: {num_classes}\")\n",
        "print(f\"Edge Attr Dimension: {edge_dim}\")"
      ]
    },
    {
      "cell_type": "code",
      "execution_count": 8,
      "metadata": {
        "colab": {
          "base_uri": "https://localhost:8080/"
        },
        "id": "rqiZaFw2ps9r",
        "outputId": "7226d1eb-5bd6-4870-cb40-4da53655728d"
      },
      "outputs": [
        {
          "output_type": "stream",
          "name": "stdout",
          "text": [
            "Creating new Model\n"
          ]
        }
      ],
      "source": [
        "from pathlib import Path\n",
        "\n",
        "save_loc = \"\" # put save location here\n",
        "model_name = \"GeneralConv_clus-false_BN_RELU_h128_layer16.pt\"\n",
        "\n",
        "file_path = save_loc + model_name\n",
        "path = Path(file_path)\n",
        "state_dict = None\n",
        "if path.exists() and path.is_file():\n",
        "  print(\"Found Save!\")\n",
        "  state_dict = torch.load(path)\n",
        "else:\n",
        "  print(\"Creating new Model\")"
      ]
    },
    {
      "cell_type": "markdown",
      "metadata": {
        "id": "gGiE28k32eUr"
      },
      "source": [
        "## Create our Model"
      ]
    },
    {
      "cell_type": "code",
      "execution_count": 9,
      "metadata": {
        "id": "epF5kpJcqWJw"
      },
      "outputs": [],
      "source": [
        "from src.models import DeeperGCN\n",
        "from src.engine import evaluate\n",
        "\n",
        "hidden_features = 128\n",
        "\n",
        "device = torch.device(\"cuda\" if torch.cuda.is_available() else \"cpu\")\n",
        "model = DeeperGCN(\n",
        "    input_features,\n",
        "    num_classes,\n",
        "    hidden_features,\n",
        "    conv_type = \"General\",\n",
        "    act = \"relu\",\n",
        "    norm = \"batch\",\n",
        "    num_layers = 16,\n",
        "    use_cluster_pooling = False,\n",
        "    readout = \"mean\",\n",
        "    dropout = 0.2,\n",
        "    edge_dim = edge_dim\n",
        ").to(device)\n",
        "criterion = torch.nn.CrossEntropyLoss().to(device)\n",
        "prev_loss = None\n",
        "if state_dict is not None:\n",
        "  print(\"Loading previously saved state dictionary\")\n",
        "  model.load_state_dict(state_dict)\n",
        "  prev_loss, _ = evaluate(model.to(device), test_loader, criterion, device)\n",
        "optimizer = torch.optim.Adam(model.parameters(), lr=0.01)"
      ]
    },
    {
      "cell_type": "code",
      "execution_count": 10,
      "metadata": {
        "colab": {
          "base_uri": "https://localhost:8080/"
        },
        "id": "fsm1MwvSr0nU",
        "outputId": "e775e7bb-3ee6-4e26-beeb-bdf793b8002d"
      },
      "outputs": [
        {
          "output_type": "stream",
          "name": "stdout",
          "text": [
            "There are 276,234 trainable parameters.\n",
            "\n",
            "DeeperGCN(\n",
            "  (fc_in): Linear(in_features=3, out_features=128, bias=True)\n",
            "  (fc_out): Linear(in_features=128, out_features=10, bias=True)\n",
            "  (out_act): ReLU(inplace=True)\n",
            "  (layers): ModuleList(\n",
            "    (0): DeepGCNLayer(block=res+)\n",
            "    (1): DeepGCNLayer(block=res+)\n",
            "    (2): DeepGCNLayer(block=res+)\n",
            "    (3): DeepGCNLayer(block=res+)\n",
            "    (4): DeepGCNLayer(block=res+)\n",
            "    (5): DeepGCNLayer(block=res+)\n",
            "    (6): DeepGCNLayer(block=res+)\n",
            "    (7): DeepGCNLayer(block=res+)\n",
            "    (8): DeepGCNLayer(block=res+)\n",
            "    (9): DeepGCNLayer(block=res+)\n",
            "    (10): DeepGCNLayer(block=res+)\n",
            "    (11): DeepGCNLayer(block=res+)\n",
            "    (12): DeepGCNLayer(block=res+)\n",
            "    (13): DeepGCNLayer(block=res+)\n",
            "    (14): DeepGCNLayer(block=res+)\n",
            "    (15): DeepGCNLayer(block=res+)\n",
            "  )\n",
            ")\n"
          ]
        }
      ],
      "source": [
        "params = sum([p.numel() for p in model.parameters() if p.requires_grad])\n",
        "print(f\"There are {params:,} trainable parameters.\")\n",
        "print()\n",
        "print(model)"
      ]
    },
    {
      "cell_type": "markdown",
      "source": [
        "```\n",
        "There are 276,234 trainable parameters.\n",
        "\n",
        "DeeperGCN(\n",
        "  (fc_in): Linear(in_features=3, out_features=128, bias=True)\n",
        "  (fc_out): Linear(in_features=128, out_features=10, bias=True)\n",
        "  (out_act): ReLU(inplace=True)\n",
        "  (layers): ModuleList(\n",
        "    (0): DeepGCNLayer(block=res+)\n",
        "    (1): DeepGCNLayer(block=res+)\n",
        "    (2): DeepGCNLayer(block=res+)\n",
        "    (3): DeepGCNLayer(block=res+)\n",
        "    (4): DeepGCNLayer(block=res+)\n",
        "    (5): DeepGCNLayer(block=res+)\n",
        "    (6): DeepGCNLayer(block=res+)\n",
        "    (7): DeepGCNLayer(block=res+)\n",
        "    (8): DeepGCNLayer(block=res+)\n",
        "    (9): DeepGCNLayer(block=res+)\n",
        "    (10): DeepGCNLayer(block=res+)\n",
        "    (11): DeepGCNLayer(block=res+)\n",
        "    (12): DeepGCNLayer(block=res+)\n",
        "    (13): DeepGCNLayer(block=res+)\n",
        "    (14): DeepGCNLayer(block=res+)\n",
        "    (15): DeepGCNLayer(block=res+)\n",
        "  )\n",
        ")\n",
        "```"
      ],
      "metadata": {
        "id": "7XUP2jS4LwyA"
      }
    },
    {
      "cell_type": "markdown",
      "metadata": {
        "id": "uuoamYXu2hf-"
      },
      "source": [
        "## Train"
      ]
    },
    {
      "cell_type": "code",
      "execution_count": 11,
      "metadata": {
        "colab": {
          "base_uri": "https://localhost:8080/"
        },
        "id": "8pyJ2olIr9pi",
        "outputId": "c7922641-4867-4532-c859-f6ed70ffe2d7"
      },
      "outputs": [
        {
          "output_type": "stream",
          "name": "stdout",
          "text": [
            "\n",
            "Epoch: 1\n",
            "\n",
            "Train Loss: 2.998, Train Accuracy: 0.16\n",
            "Validation Loss: 2.128, Validation Accuracy: 0.20\n",
            "\n",
            "Epoch: 2\n",
            "\n",
            "Train Loss: 2.140, Train Accuracy: 0.19\n",
            "Validation Loss: 2.054, Validation Accuracy: 0.22\n",
            "\n",
            "Epoch: 3\n",
            "\n",
            "Train Loss: 2.135, Train Accuracy: 0.19\n",
            "Validation Loss: 2.083, Validation Accuracy: 0.23\n",
            "\n",
            "Epoch: 4\n",
            "\n",
            "Train Loss: 2.123, Train Accuracy: 0.19\n",
            "Validation Loss: 2.022, Validation Accuracy: 0.23\n",
            "\n",
            "Epoch: 5\n",
            "\n",
            "Train Loss: 2.099, Train Accuracy: 0.20\n",
            "Validation Loss: 2.002, Validation Accuracy: 0.24\n",
            "\n",
            "Epoch: 6\n",
            "\n",
            "Train Loss: 2.098, Train Accuracy: 0.20\n",
            "Validation Loss: 2.023, Validation Accuracy: 0.23\n",
            "\n",
            "Epoch: 7\n",
            "\n",
            "Train Loss: 2.074, Train Accuracy: 0.21\n",
            "Validation Loss: 1.961, Validation Accuracy: 0.26\n",
            "\n",
            "Epoch: 8\n",
            "\n",
            "Train Loss: 2.069, Train Accuracy: 0.21\n",
            "Validation Loss: 1.926, Validation Accuracy: 0.25\n",
            "\n",
            "Epoch: 9\n",
            "\n",
            "Train Loss: 2.033, Train Accuracy: 0.21\n",
            "Validation Loss: 1.954, Validation Accuracy: 0.26\n",
            "\n",
            "Epoch: 10\n",
            "\n",
            "Train Loss: 2.030, Train Accuracy: 0.21\n",
            "Validation Loss: 1.990, Validation Accuracy: 0.24\n",
            "\n",
            "Epoch: 11\n",
            "\n",
            "Train Loss: 2.018, Train Accuracy: 0.22\n",
            "Validation Loss: 1.945, Validation Accuracy: 0.24\n",
            "\n",
            "Epoch: 12\n",
            "\n",
            "Train Loss: 2.005, Train Accuracy: 0.22\n",
            "Validation Loss: 2.040, Validation Accuracy: 0.20\n",
            "\n",
            "Epoch: 13\n",
            "\n",
            "Train Loss: 2.011, Train Accuracy: 0.22\n",
            "Validation Loss: 1.885, Validation Accuracy: 0.26\n",
            "\n",
            "Epoch: 14\n",
            "\n",
            "Train Loss: 1.997, Train Accuracy: 0.22\n",
            "Validation Loss: 1.952, Validation Accuracy: 0.24\n",
            "\n",
            "Epoch: 15\n",
            "\n",
            "Train Loss: 2.004, Train Accuracy: 0.22\n",
            "Validation Loss: 1.886, Validation Accuracy: 0.26\n",
            "\n",
            "Epoch: 16\n",
            "\n",
            "Train Loss: 1.997, Train Accuracy: 0.22\n",
            "Validation Loss: 1.891, Validation Accuracy: 0.26\n",
            "\n",
            "Epoch: 17\n",
            "\n",
            "Train Loss: 1.986, Train Accuracy: 0.22\n",
            "Validation Loss: 1.876, Validation Accuracy: 0.26\n",
            "\n",
            "Epoch: 18\n",
            "\n",
            "Train Loss: 1.980, Train Accuracy: 0.23\n",
            "Validation Loss: 1.913, Validation Accuracy: 0.24\n",
            "\n",
            "Epoch: 19\n",
            "\n",
            "Train Loss: 1.979, Train Accuracy: 0.22\n",
            "Validation Loss: 1.909, Validation Accuracy: 0.25\n",
            "\n",
            "Epoch: 20\n",
            "\n",
            "Train Loss: 1.981, Train Accuracy: 0.22\n",
            "Validation Loss: 1.859, Validation Accuracy: 0.27\n",
            "\n",
            "Epoch: 21\n",
            "\n",
            "Train Loss: 1.969, Train Accuracy: 0.23\n",
            "Validation Loss: 1.896, Validation Accuracy: 0.25\n",
            "\n",
            "Epoch: 22\n",
            "\n",
            "Train Loss: 1.980, Train Accuracy: 0.22\n",
            "Validation Loss: 1.920, Validation Accuracy: 0.25\n",
            "\n",
            "Epoch: 23\n",
            "\n",
            "Train Loss: 1.975, Train Accuracy: 0.22\n",
            "Validation Loss: 1.847, Validation Accuracy: 0.28\n",
            "\n",
            "Epoch: 24\n",
            "\n",
            "Train Loss: 1.981, Train Accuracy: 0.23\n",
            "Validation Loss: 1.877, Validation Accuracy: 0.26\n",
            "\n",
            "Epoch: 25\n",
            "\n",
            "Train Loss: 1.971, Train Accuracy: 0.22\n",
            "Validation Loss: 1.853, Validation Accuracy: 0.26\n",
            "\n",
            "Epoch: 26\n",
            "\n",
            "Train Loss: 1.970, Train Accuracy: 0.23\n",
            "Validation Loss: 1.861, Validation Accuracy: 0.26\n",
            "\n",
            "Epoch: 27\n",
            "\n",
            "Train Loss: 1.967, Train Accuracy: 0.22\n",
            "Validation Loss: 1.964, Validation Accuracy: 0.21\n",
            "\n",
            "Epoch: 28\n",
            "\n",
            "Train Loss: 1.961, Train Accuracy: 0.23\n",
            "Validation Loss: 1.896, Validation Accuracy: 0.24\n",
            "\n",
            "Epoch: 29\n",
            "\n",
            "Train Loss: 1.971, Train Accuracy: 0.23\n",
            "Validation Loss: 2.000, Validation Accuracy: 0.20\n",
            "\n",
            "Epoch: 30\n",
            "\n",
            "Train Loss: 1.967, Train Accuracy: 0.23\n",
            "Validation Loss: 1.869, Validation Accuracy: 0.25\n",
            "\n",
            "Epoch: 31\n",
            "\n",
            "Train Loss: 1.956, Train Accuracy: 0.23\n",
            "Validation Loss: 1.838, Validation Accuracy: 0.27\n",
            "\n",
            "Epoch: 32\n",
            "\n",
            "Train Loss: 1.958, Train Accuracy: 0.23\n",
            "Validation Loss: 1.892, Validation Accuracy: 0.25\n",
            "\n",
            "Epoch: 33\n",
            "\n",
            "Train Loss: 1.957, Train Accuracy: 0.23\n",
            "Validation Loss: 1.869, Validation Accuracy: 0.26\n",
            "\n",
            "Epoch: 34\n",
            "\n",
            "Train Loss: 1.954, Train Accuracy: 0.23\n",
            "Validation Loss: 1.849, Validation Accuracy: 0.27\n",
            "\n",
            "Epoch: 35\n",
            "\n",
            "Train Loss: 1.959, Train Accuracy: 0.23\n",
            "Validation Loss: 1.840, Validation Accuracy: 0.28\n",
            "\n",
            "Epoch: 36\n",
            "\n",
            "Train Loss: 1.949, Train Accuracy: 0.23\n",
            "Validation Loss: 1.847, Validation Accuracy: 0.27\n",
            "\n",
            "Epoch: 37\n",
            "\n",
            "Train Loss: 1.955, Train Accuracy: 0.23\n",
            "Validation Loss: 1.864, Validation Accuracy: 0.24\n",
            "\n",
            "Epoch: 38\n",
            "\n",
            "Train Loss: 1.951, Train Accuracy: 0.23\n",
            "Validation Loss: 1.891, Validation Accuracy: 0.24\n",
            "\n",
            "Epoch: 39\n",
            "\n",
            "Train Loss: 1.950, Train Accuracy: 0.23\n",
            "Validation Loss: 1.869, Validation Accuracy: 0.26\n",
            "\n",
            "Epoch: 40\n",
            "\n",
            "Train Loss: 1.950, Train Accuracy: 0.23\n",
            "Validation Loss: 2.124, Validation Accuracy: 0.22\n",
            "\n",
            "Epoch: 41\n",
            "\n",
            "Train Loss: 1.965, Train Accuracy: 0.23\n",
            "Validation Loss: 1.852, Validation Accuracy: 0.26\n",
            "\n",
            "Epoch: 42\n",
            "\n",
            "Train Loss: 1.947, Train Accuracy: 0.23\n",
            "Validation Loss: 1.857, Validation Accuracy: 0.25\n",
            "\n",
            "Epoch: 43\n",
            "\n",
            "Train Loss: 1.949, Train Accuracy: 0.23\n",
            "Validation Loss: 1.832, Validation Accuracy: 0.27\n",
            "\n",
            "Epoch: 44\n",
            "\n",
            "Train Loss: 1.941, Train Accuracy: 0.23\n",
            "Validation Loss: 1.819, Validation Accuracy: 0.26\n",
            "\n",
            "Epoch: 45\n",
            "\n",
            "Train Loss: 1.945, Train Accuracy: 0.23\n",
            "Validation Loss: 1.895, Validation Accuracy: 0.23\n",
            "\n",
            "Epoch: 46\n",
            "\n",
            "Train Loss: 1.946, Train Accuracy: 0.23\n",
            "Validation Loss: 1.818, Validation Accuracy: 0.26\n",
            "\n",
            "Epoch: 47\n",
            "\n",
            "Train Loss: 1.949, Train Accuracy: 0.23\n",
            "Validation Loss: 1.861, Validation Accuracy: 0.28\n",
            "\n",
            "Epoch: 48\n",
            "\n",
            "Train Loss: 1.977, Train Accuracy: 0.23\n",
            "Validation Loss: 1.877, Validation Accuracy: 0.26\n",
            "\n",
            "Epoch: 49\n",
            "\n",
            "Train Loss: 1.952, Train Accuracy: 0.23\n",
            "Validation Loss: 1.816, Validation Accuracy: 0.28\n",
            "\n",
            "Epoch: 50\n",
            "\n",
            "Train Loss: 1.934, Train Accuracy: 0.23\n",
            "Validation Loss: 1.829, Validation Accuracy: 0.27\n",
            "\n",
            "Epoch: 51\n",
            "\n",
            "Train Loss: 1.935, Train Accuracy: 0.23\n",
            "Validation Loss: 1.822, Validation Accuracy: 0.27\n",
            "\n",
            "Epoch: 52\n",
            "\n",
            "Train Loss: 1.934, Train Accuracy: 0.23\n",
            "Validation Loss: 1.838, Validation Accuracy: 0.24\n",
            "\n",
            "Epoch: 53\n",
            "\n",
            "Train Loss: 1.932, Train Accuracy: 0.24\n",
            "Validation Loss: 1.828, Validation Accuracy: 0.28\n",
            "\n",
            "Epoch: 54\n",
            "\n",
            "Train Loss: 1.936, Train Accuracy: 0.24\n",
            "Validation Loss: 1.819, Validation Accuracy: 0.27\n",
            "\n",
            "Epoch: 55\n",
            "\n",
            "Train Loss: 1.938, Train Accuracy: 0.23\n",
            "Validation Loss: 1.826, Validation Accuracy: 0.25\n",
            "\n",
            "Epoch: 56\n",
            "\n",
            "Train Loss: 1.930, Train Accuracy: 0.23\n",
            "Validation Loss: 1.824, Validation Accuracy: 0.26\n",
            "\n",
            "Epoch: 57\n",
            "\n",
            "Train Loss: 1.934, Train Accuracy: 0.24\n",
            "Validation Loss: 1.823, Validation Accuracy: 0.26\n",
            "\n",
            "Epoch: 58\n",
            "\n",
            "Train Loss: 1.933, Train Accuracy: 0.23\n",
            "Validation Loss: 1.848, Validation Accuracy: 0.25\n",
            "\n",
            "Epoch: 59\n",
            "\n",
            "Train Loss: 1.938, Train Accuracy: 0.23\n",
            "Validation Loss: 1.865, Validation Accuracy: 0.24\n",
            "\n",
            "Epoch: 60\n",
            "\n",
            "Train Loss: 1.932, Train Accuracy: 0.23\n",
            "Validation Loss: 1.855, Validation Accuracy: 0.25\n",
            "\n",
            "Epoch: 61\n",
            "\n",
            "Train Loss: 1.940, Train Accuracy: 0.23\n",
            "Validation Loss: 1.823, Validation Accuracy: 0.27\n",
            "\n",
            "Epoch: 62\n",
            "\n",
            "Train Loss: 1.938, Train Accuracy: 0.24\n",
            "Validation Loss: 1.803, Validation Accuracy: 0.28\n",
            "\n",
            "Epoch: 63\n",
            "\n",
            "Train Loss: 1.941, Train Accuracy: 0.24\n",
            "Validation Loss: 1.817, Validation Accuracy: 0.29\n",
            "\n",
            "Epoch: 64\n",
            "\n",
            "Train Loss: 1.927, Train Accuracy: 0.24\n",
            "Validation Loss: 1.817, Validation Accuracy: 0.28\n",
            "\n",
            "Epoch: 65\n",
            "\n",
            "Train Loss: 1.930, Train Accuracy: 0.24\n",
            "Validation Loss: 1.830, Validation Accuracy: 0.26\n",
            "\n",
            "Epoch: 66\n",
            "\n",
            "Train Loss: 1.929, Train Accuracy: 0.23\n",
            "Validation Loss: 1.808, Validation Accuracy: 0.28\n",
            "\n",
            "Epoch: 67\n",
            "\n",
            "Train Loss: 1.931, Train Accuracy: 0.24\n",
            "Validation Loss: 1.810, Validation Accuracy: 0.28\n",
            "\n",
            "Epoch: 68\n",
            "\n",
            "Train Loss: 1.929, Train Accuracy: 0.24\n",
            "Validation Loss: 1.797, Validation Accuracy: 0.28\n",
            "\n",
            "Epoch: 69\n",
            "\n",
            "Train Loss: 1.929, Train Accuracy: 0.24\n",
            "Validation Loss: 1.818, Validation Accuracy: 0.28\n",
            "\n",
            "Epoch: 70\n",
            "\n",
            "Train Loss: 1.921, Train Accuracy: 0.24\n",
            "Validation Loss: 1.807, Validation Accuracy: 0.25\n",
            "\n",
            "Epoch: 71\n",
            "\n",
            "Train Loss: 1.926, Train Accuracy: 0.24\n",
            "Validation Loss: 1.826, Validation Accuracy: 0.27\n",
            "\n",
            "Epoch: 72\n",
            "\n",
            "Train Loss: 1.927, Train Accuracy: 0.23\n",
            "Validation Loss: 1.807, Validation Accuracy: 0.29\n",
            "\n",
            "Epoch: 73\n",
            "\n",
            "Train Loss: 1.943, Train Accuracy: 0.24\n",
            "Validation Loss: 1.833, Validation Accuracy: 0.27\n",
            "\n",
            "Epoch: 74\n",
            "\n",
            "Train Loss: 1.929, Train Accuracy: 0.24\n",
            "Validation Loss: 1.812, Validation Accuracy: 0.29\n",
            "\n",
            "Epoch: 75\n",
            "\n",
            "Train Loss: 1.925, Train Accuracy: 0.24\n",
            "Validation Loss: 1.804, Validation Accuracy: 0.30\n",
            "\n",
            "Epoch: 76\n",
            "\n",
            "Train Loss: 1.921, Train Accuracy: 0.24\n",
            "Validation Loss: 1.797, Validation Accuracy: 0.29\n",
            "\n",
            "Epoch: 77\n",
            "\n",
            "Train Loss: 1.922, Train Accuracy: 0.24\n",
            "Validation Loss: 1.790, Validation Accuracy: 0.28\n",
            "\n",
            "Epoch: 78\n",
            "\n",
            "Train Loss: 1.925, Train Accuracy: 0.24\n",
            "Validation Loss: 1.818, Validation Accuracy: 0.24\n",
            "\n",
            "Epoch: 79\n",
            "\n",
            "Train Loss: 1.924, Train Accuracy: 0.24\n",
            "Validation Loss: 1.803, Validation Accuracy: 0.29\n",
            "\n",
            "Epoch: 80\n",
            "\n",
            "Train Loss: 1.917, Train Accuracy: 0.24\n",
            "Validation Loss: 1.838, Validation Accuracy: 0.27\n",
            "\n",
            "Epoch: 81\n",
            "\n",
            "Train Loss: 1.920, Train Accuracy: 0.24\n",
            "Validation Loss: 1.826, Validation Accuracy: 0.27\n",
            "\n",
            "Epoch: 82\n",
            "\n",
            "Train Loss: 1.919, Train Accuracy: 0.24\n",
            "Validation Loss: 1.811, Validation Accuracy: 0.28\n",
            "\n",
            "Epoch: 83\n",
            "\n",
            "Train Loss: 1.919, Train Accuracy: 0.24\n",
            "Validation Loss: 1.803, Validation Accuracy: 0.28\n",
            "\n",
            "Epoch: 84\n",
            "\n",
            "Train Loss: 1.928, Train Accuracy: 0.24\n",
            "Validation Loss: 1.866, Validation Accuracy: 0.25\n",
            "\n",
            "Epoch: 85\n",
            "\n",
            "Train Loss: 1.931, Train Accuracy: 0.24\n",
            "Validation Loss: 1.787, Validation Accuracy: 0.29\n",
            "\n",
            "Epoch: 86\n",
            "\n",
            "Train Loss: 1.919, Train Accuracy: 0.24\n",
            "Validation Loss: 1.811, Validation Accuracy: 0.29\n",
            "\n",
            "Epoch: 87\n",
            "\n",
            "Train Loss: 1.918, Train Accuracy: 0.24\n",
            "Validation Loss: 1.829, Validation Accuracy: 0.28\n",
            "\n",
            "Epoch: 88\n",
            "\n",
            "Train Loss: 1.919, Train Accuracy: 0.24\n",
            "Validation Loss: 1.811, Validation Accuracy: 0.27\n",
            "\n",
            "Epoch: 89\n",
            "\n",
            "Train Loss: 1.918, Train Accuracy: 0.24\n",
            "Validation Loss: 1.879, Validation Accuracy: 0.28\n",
            "\n",
            "Epoch: 90\n",
            "\n",
            "Train Loss: 1.917, Train Accuracy: 0.24\n",
            "Validation Loss: 1.788, Validation Accuracy: 0.29\n",
            "\n",
            "Epoch: 91\n",
            "\n",
            "Train Loss: 1.919, Train Accuracy: 0.24\n",
            "Validation Loss: 1.810, Validation Accuracy: 0.29\n",
            "\n",
            "Epoch: 92\n",
            "\n",
            "Train Loss: 1.917, Train Accuracy: 0.24\n",
            "Validation Loss: 1.802, Validation Accuracy: 0.28\n",
            "\n",
            "Epoch: 93\n",
            "\n",
            "Train Loss: 1.913, Train Accuracy: 0.24\n",
            "Validation Loss: 1.782, Validation Accuracy: 0.28\n",
            "\n",
            "Epoch: 94\n",
            "\n",
            "Train Loss: 1.923, Train Accuracy: 0.24\n",
            "Validation Loss: 1.800, Validation Accuracy: 0.25\n",
            "\n",
            "Epoch: 95\n",
            "\n",
            "Train Loss: 1.912, Train Accuracy: 0.24\n",
            "Validation Loss: 1.819, Validation Accuracy: 0.27\n",
            "\n",
            "Epoch: 96\n",
            "\n",
            "Train Loss: 1.916, Train Accuracy: 0.24\n",
            "Validation Loss: 1.808, Validation Accuracy: 0.27\n",
            "\n",
            "Epoch: 97\n",
            "\n",
            "Train Loss: 1.912, Train Accuracy: 0.24\n",
            "Validation Loss: 1.811, Validation Accuracy: 0.28\n",
            "\n",
            "Epoch: 98\n",
            "\n",
            "Train Loss: 1.922, Train Accuracy: 0.24\n",
            "Validation Loss: 1.806, Validation Accuracy: 0.27\n",
            "\n",
            "Epoch: 99\n",
            "\n",
            "Train Loss: 1.915, Train Accuracy: 0.24\n",
            "Validation Loss: 1.821, Validation Accuracy: 0.29\n",
            "\n",
            "Epoch: 100\n",
            "\n",
            "Train Loss: 1.919, Train Accuracy: 0.24\n",
            "Validation Loss: 1.812, Validation Accuracy: 0.27\n"
          ]
        }
      ],
      "source": [
        "from src.engine import train, evaluate\n",
        "from src.utils import calculate_accuracy\n",
        "\n",
        "EPOCHS = 100 # was 200\n",
        "train_loss = []\n",
        "train_acc = []\n",
        "valid_loss = []\n",
        "valid_acc = []\n",
        "best_loss = float('inf')\n",
        "best_loss = float('inf')\n",
        "if prev_loss is not None:\n",
        "  print(f\"Training from previous best loss: {prev_loss}\")\n",
        "  best_loss = prev_loss\n",
        "\n",
        "for epoch in range(1, EPOCHS + 1):\n",
        "  print(f\"\\nEpoch: {epoch}\\n\")\n",
        "  loss, acc = train(model, train_loader, criterion, optimizer, device)\n",
        "  train_loss.append(loss)\n",
        "  train_acc.append(acc)\n",
        "  print(f\"Train Loss: {train_loss[-1]:.3f}, Train Accuracy: {train_acc[-1]:.2f}\")\n",
        "\n",
        "  loss, acc = evaluate(model, valid_loader, criterion, device)\n",
        "  valid_loss.append(loss)\n",
        "  valid_acc.append(acc)\n",
        "  print(f\"Validation Loss: {valid_loss[-1]:.3f}, Validation Accuracy: {valid_acc[-1]:.2f}\")\n",
        "\n",
        "  if loss < best_loss:\n",
        "    best_loss = loss\n",
        "    torch.save(model.state_dict(), path)"
      ]
    },
    {
      "cell_type": "markdown",
      "metadata": {
        "id": "GIu5vZ3d2jNJ"
      },
      "source": [
        "## Evaluate on the Test set"
      ]
    },
    {
      "cell_type": "code",
      "execution_count": 12,
      "metadata": {
        "id": "q5oWJj8g11MF",
        "outputId": "f2b95b09-74e7-4c6c-a893-240d0d8fa1c1",
        "colab": {
          "base_uri": "https://localhost:8080/"
        }
      },
      "outputs": [
        {
          "output_type": "stream",
          "name": "stdout",
          "text": [
            "Test Loss: 1.780\n",
            "Test Accuracy: 0.28%\n"
          ]
        }
      ],
      "source": [
        "# load best model\n",
        "model.load_state_dict(torch.load(path))\n",
        "test_loss, test_acc = evaluate(model.to(device), test_loader, criterion, device)\n",
        "print(f\"Test Loss: {test_loss:.3f}\")\n",
        "print(f\"Test Accuracy: {test_acc:.2f}%\")"
      ]
    },
    {
      "cell_type": "markdown",
      "metadata": {
        "id": "qvOfsB752las"
      },
      "source": [
        "## Plot Loss and Accuracy Curves"
      ]
    },
    {
      "cell_type": "code",
      "execution_count": 13,
      "metadata": {
        "id": "gk6I1WkDvWmE",
        "outputId": "c8e63d78-6864-4da8-82dd-800a6e9d15fe",
        "colab": {
          "base_uri": "https://localhost:8080/",
          "height": 265
        }
      },
      "outputs": [
        {
          "output_type": "display_data",
          "data": {
            "text/plain": [
              "<Figure size 432x288 with 1 Axes>"
            ],
            "image/png": "[encoded data removed]"
          },
          "metadata": {
            "needs_background": "light"
          }
        }
      ],
      "source": [
        "import matplotlib.pyplot as plt\n",
        "\n",
        "x = [i for i in range(len(valid_loss))]\n",
        "\n",
        "plt.plot(x, train_loss, label=\"Train Loss\")\n",
        "plt.plot(x, valid_loss, label=\"Validation Loss\")\n",
        "plt.legend()\n",
        "plt.show()"
      ]
    },
    {
      "cell_type": "code",
      "execution_count": 14,
      "metadata": {
        "id": "A-xP3uX63aT8",
        "outputId": "3bef463c-a8be-451d-e480-971f55a0429f",
        "colab": {
          "base_uri": "https://localhost:8080/",
          "height": 265
        }
      },
      "outputs": [
        {
          "output_type": "display_data",
          "data": {
            "text/plain": [
              "<Figure size 432x288 with 1 Axes>"
            ],
            "image/png": "[encoded data removed]"
          },
          "metadata": {
            "needs_background": "light"
          }
        }
      ],
      "source": [
        "plt.plot(x, train_acc, label=\"Train Accuracy\")\n",
        "plt.plot(x, valid_acc, label=\"Validation Accuracy\")\n",
        "plt.legend()\n",
        "plt.show()"
      ]
    },
    {
      "cell_type": "code",
      "execution_count": 14,
      "metadata": {
        "id": "D_FdIR923n9N"
      },
      "outputs": [],
      "source": [
        "# reaching epoch 89 (out of 1 to 100) at 3h10m of training"
      ]
    }
  ],
  "metadata": {
    "accelerator": "GPU",
    "colab": {
      "provenance": []
    },
    "gpuClass": "standard",
    "kernelspec": {
      "display_name": "pyg",
      "language": "python",
      "name": "python3"
    },
    "language_info": {
      "codemirror_mode": {
        "name": "ipython",
        "version": 3
      },
      "file_extension": ".py",
      "mimetype": "text/x-python",
      "name": "python",
      "nbconvert_exporter": "python",
      "pygments_lexer": "ipython3",
      "version": "3.9.15 (main, Nov 24 2022, 14:31:59) \n[GCC 11.2.0]"
    },
    "vscode": {
      "interpreter": {
        "hash": "602fd2f1343589d3bd6f27fae416162c1bba08e244faa27258d2511dac84d913"
      }
    }
  },
  "nbformat": 4,
  "nbformat_minor": 0
}