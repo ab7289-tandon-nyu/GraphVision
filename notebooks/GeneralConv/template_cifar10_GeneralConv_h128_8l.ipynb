{
  "cells": [
    {
      "cell_type": "code",
      "execution_count": 1,
      "metadata": {
        "colab": {
          "base_uri": "https://localhost:8080/"
        },
        "id": "HQeBbCYZlhKn",
        "outputId": "beefdfdb-8380-4396-e933-b110e8cd173b"
      },
      "outputs": [
        {
          "name": "stdout",
          "output_type": "stream",
          "text": [
            "1.13.0+cu116\n",
            "\u001b[K     |████████████████████████████████| 9.4 MB 15.1 MB/s \n",
            "\u001b[K     |████████████████████████████████| 4.6 MB 20.2 MB/s \n",
            "\u001b[K     |████████████████████████████████| 3.2 MB 21.8 MB/s \n",
            "\u001b[K     |████████████████████████████████| 280 kB 34.2 MB/s \n",
            "\u001b[?25h  Building wheel for torch-geometric (setup.py) ... \u001b[?25l\u001b[?25hdone\n"
          ]
        }
      ],
      "source": [
        "# Install required packages.\n",
        "import os\n",
        "import torch\n",
        "os.environ['TORCH'] = torch.__version__\n",
        "print(torch.__version__)\n",
        "\n",
        "!pip install -q torch-scatter -f https://data.pyg.org/whl/torch-${TORCH}.html\n",
        "!pip install -q torch-sparse -f https://data.pyg.org/whl/torch-${TORCH}.html\n",
        "!pip install -q torch-cluster -f https://data.pyg.org/whl/torch-${TORCH}.html\n",
        "!pip install -q git+https://github.com/pyg-team/pytorch_geometric.git"
      ]
    },
    {
      "cell_type": "code",
      "execution_count": 4,
      "metadata": {
        "colab": {
          "base_uri": "https://localhost:8080/"
        },
        "id": "NUnIVvd-lxxZ",
        "outputId": "1844ad61-1b17-4c6d-c91e-f93a38d980b1"
      },
      "outputs": [
        {
          "name": "stdout",
          "output_type": "stream",
          "text": [
            "  Installing build dependencies ... \u001b[?25l\u001b[?25hdone\n",
            "  Getting requirements to build wheel ... \u001b[?25l\u001b[?25hdone\n",
            "    Preparing wheel metadata ... \u001b[?25l\u001b[?25hdone\n",
            "\u001b[K     |████████████████████████████████| 121 kB 32.1 MB/s \n",
            "\u001b[K     |████████████████████████████████| 1.6 MB 70.0 MB/s \n",
            "\u001b[K     |████████████████████████████████| 83 kB 2.4 MB/s \n",
            "\u001b[?25h  Building wheel for GraphVision (PEP 517) ... \u001b[?25l\u001b[?25hdone\n"
          ]
        }
      ],
      "source": [
        "# Install our repo\n",
        "# !git clone -b models \"https://github.com/ab7289-tandon-nyu/GraphVision.git\"\n",
        "# !cp -r /content/GraphVision/src/ .\n",
        "\n",
        "!pip install -q git+https://github.com/ab7289-tandon-nyu/GraphVision.git"
      ]
    },
    {
      "cell_type": "code",
      "execution_count": null,
      "metadata": {
        "id": "4hY3Lomuoya8"
      },
      "outputs": [],
      "source": [
        "SEED = 1234\n",
        "\n",
        "torch.manual_seed(SEED)\n",
        "torch.cuda.manual_seed(SEED)\n",
        "torch.backends.cudnn.deterministic = True"
      ]
    },
    {
      "cell_type": "code",
      "execution_count": null,
      "metadata": {},
      "outputs": [],
      "source": [
        "from google.colab import drive\n",
        "drive.mount(\"/content/drive\")"
      ]
    },
    {
      "cell_type": "code",
      "execution_count": 5,
      "metadata": {
        "colab": {
          "base_uri": "https://localhost:8080/"
        },
        "id": "Wuj1_P_3m0-l",
        "outputId": "5c08a842-bd1c-463a-ee6a-c2964019f0c7"
      },
      "outputs": [
        {
          "name": "stderr",
          "output_type": "stream",
          "text": [
            "Downloading https://data.pyg.org/datasets/benchmarking-gnns/CIFAR10_v2.zip\n",
            "Extracting .data/CIFAR10/raw/CIFAR10_v2.zip\n",
            "Processing...\n",
            "Done!\n"
          ]
        }
      ],
      "source": [
        "from src.transforms import get_transforms\n",
        "from src.datasets import get_datasets, get_dataloaders\n",
        "\n",
        "transforms = get_transforms(\"cartesian\")\n",
        "train_dataset, valid_dataset, test_dataset = get_datasets(\".data/\", \n",
        "                        \"CIFAR10\", pre_transforms = None,\n",
        "                        transforms = transforms)\n",
        "BATCH_SIZE = 128\n",
        "\n",
        "train_loader, valid_loader, test_loader = get_dataloaders(train_dataset,\n",
        "                                                          valid_dataset,\n",
        "                                                          test_dataset,\n",
        "                                                          batch_size=(BATCH_SIZE, 1, 1),\n",
        "                                                          drop_last = False)"
      ]
    },
    {
      "cell_type": "markdown",
      "metadata": {
        "id": "Sjmgy7RvoJN-"
      },
      "source": [
        "## Review batch attributes"
      ]
    },
    {
      "cell_type": "code",
      "execution_count": 6,
      "metadata": {
        "colab": {
          "base_uri": "https://localhost:8080/"
        },
        "id": "-QCa0O4IoM6U",
        "outputId": "1088560c-b967-47c3-db31-f2adfad87bef"
      },
      "outputs": [
        {
          "name": "stdout",
          "output_type": "stream",
          "text": [
            "\n",
            "DataBatch(x=[15069, 3], edge_index=[2, 135621], edge_attr=[135621, 2], y=[128], pos=[15069, 2], edge_weight=[135621], batch=[15069], ptr=[129])\n",
            "=====================================================================\n",
            "Number of features:  3\n",
            "Number of node features: 3\n",
            "Number of nodes: 15069\n",
            "Number of edges: 135621\n",
            "Average node degree: 9.00\n",
            "Has isolated nodes: False\n",
            "Has self-loops: True\n"
          ]
        }
      ],
      "source": [
        "sample_batch = next(iter(train_loader))\n",
        "\n",
        "print()\n",
        "print(sample_batch)\n",
        "print(\"=====================================================================\")\n",
        "\n",
        "# Gather some statistics about the first graph.\n",
        "print(f\"Number of features:  {sample_batch.num_features}\")\n",
        "print(f\"Number of node features: {sample_batch.num_node_features}\")\n",
        "print(f'Number of nodes: {sample_batch.num_nodes}')\n",
        "print(f'Number of edges: {sample_batch.num_edges}')\n",
        "print(f'Average node degree: {sample_batch.num_edges / sample_batch.num_nodes:.2f}')\n",
        "print(f'Has isolated nodes: {sample_batch.has_isolated_nodes()}')\n",
        "print(f'Has self-loops: {sample_batch.has_self_loops()}')"
      ]
    },
    {
      "cell_type": "code",
      "execution_count": 7,
      "metadata": {
        "colab": {
          "base_uri": "https://localhost:8080/"
        },
        "id": "tu3VtmrWpnZx",
        "outputId": "1704ff37-aef4-4d47-be23-6cc29d5838f4"
      },
      "outputs": [
        {
          "name": "stdout",
          "output_type": "stream",
          "text": [
            "Number of features: 3\n",
            "Number of classes: 10\n",
            "Edge Attr Dimension: 2\n"
          ]
        }
      ],
      "source": [
        "# store edge dimension\n",
        "edge_dim = sample_batch.edge_attr.size(-1)\n",
        "edge_dim\n",
        "# store number of features in graph batch\n",
        "input_features = test_dataset.num_features\n",
        "# store number of classes for classification\n",
        "num_classes = test_dataset.num_classes\n",
        "\n",
        "print(f\"Number of features: {input_features}\")\n",
        "print(f\"Number of classes: {num_classes}\")\n",
        "print(f\"Edge Attr Dimension: {edge_dim}\")"
      ]
    },
    {
      "cell_type": "code",
      "execution_count": 8,
      "metadata": {
        "colab": {
          "base_uri": "https://localhost:8080/"
        },
        "id": "rqiZaFw2ps9r",
        "outputId": "5b46cf7c-8e4d-4eca-84ca-17dc9f951b8a"
      },
      "outputs": [
        {
          "name": "stdout",
          "output_type": "stream",
          "text": [
            "Creating new Model\n"
          ]
        }
      ],
      "source": [
        "from pathlib import Path\n",
        "\n",
        "save_loc = \"\" # put save location here\n",
        "model_name = \"GeneralConv_clus-false_BN_RELU_h128_layer8.pt\"\n",
        "\n",
        "file_path = save_loc + model_name\n",
        "path = Path(file_path)\n",
        "state_dict = None\n",
        "if path.exists() and path.is_file():\n",
        "  print(\"Found Save!\")\n",
        "  state_dict = torch.load(path)\n",
        "else:\n",
        "  print(\"Creating new Model\")"
      ]
    },
    {
      "cell_type": "markdown",
      "metadata": {
        "id": "gGiE28k32eUr"
      },
      "source": [
        "## Create our Model"
      ]
    },
    {
      "cell_type": "code",
      "execution_count": 9,
      "metadata": {
        "id": "epF5kpJcqWJw"
      },
      "outputs": [],
      "source": [
        "from src.models import DeeperGCN\n",
        "from src.engine import evaluate\n",
        "\n",
        "hidden_features = 128\n",
        "\n",
        "device = torch.device(\"cuda\" if torch.cuda.is_available() else \"cpu\")\n",
        "model = DeeperGCN(\n",
        "    input_features,\n",
        "    num_classes,\n",
        "    hidden_features,\n",
        "    conv_type = \"GEN\",\n",
        "    act = \"relu\",\n",
        "    norm = \"batch\",\n",
        "    num_layers = 8,\n",
        "    use_cluster_pooling = False,\n",
        "    readout = \"mean\",\n",
        "    dropout = 0.2,\n",
        "    edge_dim = edge_dim\n",
        ").to(device)\n",
        "criterion = torch.nn.CrossEntropyLoss().to(device)\n",
        "prev_loss = None\n",
        "if state_dict is not None:\n",
        "  print(\"Loading previously saved state dictionary\")\n",
        "  model.load_state_dict(state_dict)\n",
        "  prev_loss, _ = evaluate(model.to(device), test_loader, criterion, device)\n",
        "optimizer = torch.optim.Adam(model.parameters(), lr=0.01)"
      ]
    },
    {
      "cell_type": "code",
      "execution_count": 10,
      "metadata": {
        "colab": {
          "base_uri": "https://localhost:8080/"
        },
        "id": "fsm1MwvSr0nU",
        "outputId": "605a6f03-bd8a-47c8-f31a-2be0962eeca6"
      },
      "outputs": [
        {
          "name": "stdout",
          "output_type": "stream",
          "text": [
            "There are 2,117,138 trainable parameters.\n",
            "\n",
            "DeeperGCN(\n",
            "  (fc_in): Linear(in_features=3, out_features=256, bias=True)\n",
            "  (fc_out): Linear(in_features=256, out_features=10, bias=True)\n",
            "  (out_act): ReLU(inplace=True)\n",
            "  (layers): ModuleList(\n",
            "    (0): DeepGCNLayer(block=res+)\n",
            "    (1): DeepGCNLayer(block=res+)\n",
            "    (2): DeepGCNLayer(block=res+)\n",
            "    (3): DeepGCNLayer(block=res+)\n",
            "    (4): DeepGCNLayer(block=res+)\n",
            "    (5): DeepGCNLayer(block=res+)\n",
            "    (6): DeepGCNLayer(block=res+)\n",
            "    (7): DeepGCNLayer(block=res+)\n",
            "  )\n",
            ")\n"
          ]
        }
      ],
      "source": [
        "params = sum([p.numel() for p in model.parameters() if p.requires_grad])\n",
        "print(f\"There are {params:,} trainable parameters.\")\n",
        "print()\n",
        "print(model)"
      ]
    },
    {
      "cell_type": "markdown",
      "metadata": {
        "id": "uuoamYXu2hf-"
      },
      "source": [
        "## Train"
      ]
    },
    {
      "cell_type": "code",
      "execution_count": null,
      "metadata": {
        "colab": {
          "base_uri": "https://localhost:8080/"
        },
        "id": "8pyJ2olIr9pi",
        "outputId": "d8b0922e-2b20-478c-829c-620c2afbac57"
      },
      "outputs": [
        {
          "name": "stdout",
          "output_type": "stream",
          "text": [
            "\n",
            "Epoch: 1\n",
            "\n",
            "Train Loss: 2.222, Train Accuracy: 0.21\n",
            "Validation Loss: 2.060, Validation Accuracy: 0.23\n",
            "\n",
            "Epoch: 2\n",
            "\n",
            "Train Loss: 1.980, Train Accuracy: 0.24\n",
            "Validation Loss: 1.927, Validation Accuracy: 0.26\n",
            "\n",
            "Epoch: 3\n",
            "\n",
            "Train Loss: 1.905, Train Accuracy: 0.26\n",
            "Validation Loss: 1.973, Validation Accuracy: 0.26\n",
            "\n",
            "Epoch: 4\n",
            "\n",
            "Train Loss: 1.832, Train Accuracy: 0.29\n",
            "Validation Loss: 2.001, Validation Accuracy: 0.26\n",
            "\n",
            "Epoch: 5\n",
            "\n",
            "Train Loss: 1.752, Train Accuracy: 0.33\n",
            "Validation Loss: 1.959, Validation Accuracy: 0.30\n",
            "\n",
            "Epoch: 6\n",
            "\n",
            "Train Loss: 1.692, Train Accuracy: 0.36\n",
            "Validation Loss: 2.005, Validation Accuracy: 0.31\n",
            "\n",
            "Epoch: 7\n",
            "\n",
            "Train Loss: 1.641, Train Accuracy: 0.38\n",
            "Validation Loss: 1.779, Validation Accuracy: 0.36\n",
            "\n",
            "Epoch: 8\n",
            "\n",
            "Train Loss: 1.601, Train Accuracy: 0.40\n",
            "Validation Loss: 1.718, Validation Accuracy: 0.37\n",
            "\n",
            "Epoch: 9\n",
            "\n",
            "Train Loss: 1.557, Train Accuracy: 0.42\n",
            "Validation Loss: 1.999, Validation Accuracy: 0.31\n",
            "\n",
            "Epoch: 10\n",
            "\n",
            "Train Loss: 1.521, Train Accuracy: 0.44\n",
            "Validation Loss: 1.929, Validation Accuracy: 0.34\n",
            "\n",
            "Epoch: 11\n",
            "\n",
            "Train Loss: 1.495, Train Accuracy: 0.45\n",
            "Validation Loss: 1.969, Validation Accuracy: 0.34\n",
            "\n",
            "Epoch: 12\n",
            "\n",
            "Train Loss: 1.470, Train Accuracy: 0.47\n",
            "Validation Loss: 1.745, Validation Accuracy: 0.39\n",
            "\n",
            "Epoch: 13\n",
            "\n",
            "Train Loss: 1.445, Train Accuracy: 0.47\n",
            "Validation Loss: 2.085, Validation Accuracy: 0.30\n",
            "\n",
            "Epoch: 14\n",
            "\n",
            "Train Loss: 1.425, Train Accuracy: 0.48\n",
            "Validation Loss: 1.804, Validation Accuracy: 0.37\n",
            "\n",
            "Epoch: 15\n",
            "\n",
            "Train Loss: 1.387, Train Accuracy: 0.50\n",
            "Validation Loss: 1.910, Validation Accuracy: 0.35\n",
            "\n",
            "Epoch: 16\n",
            "\n",
            "Train Loss: 1.365, Train Accuracy: 0.51\n",
            "Validation Loss: 1.661, Validation Accuracy: 0.42\n",
            "\n",
            "Epoch: 17\n",
            "\n",
            "Train Loss: 1.342, Train Accuracy: 0.52\n",
            "Validation Loss: 1.968, Validation Accuracy: 0.34\n",
            "\n",
            "Epoch: 18\n",
            "\n",
            "Train Loss: 1.325, Train Accuracy: 0.53\n",
            "Validation Loss: 1.494, Validation Accuracy: 0.45\n",
            "\n",
            "Epoch: 19\n",
            "\n",
            "Train Loss: 1.304, Train Accuracy: 0.54\n",
            "Validation Loss: 1.504, Validation Accuracy: 0.46\n",
            "\n",
            "Epoch: 20\n",
            "\n",
            "Train Loss: 1.282, Train Accuracy: 0.54\n",
            "Validation Loss: 1.765, Validation Accuracy: 0.39\n",
            "\n",
            "Epoch: 21\n",
            "\n",
            "Train Loss: 1.255, Train Accuracy: 0.55\n",
            "Validation Loss: 1.825, Validation Accuracy: 0.37\n",
            "\n",
            "Epoch: 22\n",
            "\n",
            "Train Loss: 1.239, Train Accuracy: 0.56\n",
            "Validation Loss: 2.258, Validation Accuracy: 0.32\n",
            "\n",
            "Epoch: 23\n",
            "\n",
            "Train Loss: 1.214, Train Accuracy: 0.57\n",
            "Validation Loss: 1.451, Validation Accuracy: 0.49\n",
            "\n",
            "Epoch: 24\n",
            "\n",
            "Train Loss: 1.202, Train Accuracy: 0.57\n",
            "Validation Loss: 1.586, Validation Accuracy: 0.44\n",
            "\n",
            "Epoch: 25\n",
            "\n",
            "Train Loss: 1.182, Train Accuracy: 0.58\n",
            "Validation Loss: 1.397, Validation Accuracy: 0.51\n",
            "\n",
            "Epoch: 26\n",
            "\n",
            "Train Loss: 1.165, Train Accuracy: 0.59\n",
            "Validation Loss: 1.536, Validation Accuracy: 0.43\n",
            "\n",
            "Epoch: 27\n",
            "\n",
            "Train Loss: 1.146, Train Accuracy: 0.59\n",
            "Validation Loss: 1.585, Validation Accuracy: 0.45\n",
            "\n",
            "Epoch: 28\n",
            "\n",
            "Train Loss: 1.138, Train Accuracy: 0.60\n",
            "Validation Loss: 1.560, Validation Accuracy: 0.46\n",
            "\n",
            "Epoch: 29\n",
            "\n",
            "Train Loss: 1.110, Train Accuracy: 0.61\n",
            "Validation Loss: 1.668, Validation Accuracy: 0.44\n",
            "\n",
            "Epoch: 30\n",
            "\n",
            "Train Loss: 1.111, Train Accuracy: 0.61\n",
            "Validation Loss: 1.479, Validation Accuracy: 0.48\n",
            "\n",
            "Epoch: 31\n",
            "\n",
            "Train Loss: 1.088, Train Accuracy: 0.61\n",
            "Validation Loss: 1.658, Validation Accuracy: 0.44\n",
            "\n",
            "Epoch: 32\n",
            "\n",
            "Train Loss: 1.079, Train Accuracy: 0.62\n",
            "Validation Loss: 1.815, Validation Accuracy: 0.44\n",
            "\n",
            "Epoch: 33\n",
            "\n",
            "Train Loss: 1.065, Train Accuracy: 0.62\n",
            "Validation Loss: 1.541, Validation Accuracy: 0.46\n",
            "\n",
            "Epoch: 34\n",
            "\n",
            "Train Loss: 1.053, Train Accuracy: 0.63\n",
            "Validation Loss: 1.334, Validation Accuracy: 0.53\n",
            "\n",
            "Epoch: 35\n",
            "\n",
            "Train Loss: 1.031, Train Accuracy: 0.64\n",
            "Validation Loss: 1.588, Validation Accuracy: 0.46\n",
            "\n",
            "Epoch: 36\n",
            "\n",
            "Train Loss: 1.025, Train Accuracy: 0.64\n",
            "Validation Loss: 1.410, Validation Accuracy: 0.50\n",
            "\n",
            "Epoch: 37\n",
            "\n",
            "Train Loss: 1.010, Train Accuracy: 0.64\n",
            "Validation Loss: 1.384, Validation Accuracy: 0.52\n",
            "\n",
            "Epoch: 38\n",
            "\n",
            "Train Loss: 0.999, Train Accuracy: 0.65\n",
            "Validation Loss: 1.252, Validation Accuracy: 0.56\n",
            "\n",
            "Epoch: 39\n",
            "\n",
            "Train Loss: 0.987, Train Accuracy: 0.65\n",
            "Validation Loss: 1.567, Validation Accuracy: 0.48\n",
            "\n",
            "Epoch: 40\n",
            "\n",
            "Train Loss: 0.971, Train Accuracy: 0.66\n",
            "Validation Loss: 1.360, Validation Accuracy: 0.54\n",
            "\n",
            "Epoch: 41\n",
            "\n",
            "Train Loss: 0.963, Train Accuracy: 0.66\n",
            "Validation Loss: 1.519, Validation Accuracy: 0.49\n",
            "\n",
            "Epoch: 42\n",
            "\n",
            "Train Loss: 0.949, Train Accuracy: 0.66\n",
            "Validation Loss: 1.539, Validation Accuracy: 0.49\n",
            "\n",
            "Epoch: 43\n",
            "\n",
            "Train Loss: 0.944, Train Accuracy: 0.67\n",
            "Validation Loss: 1.305, Validation Accuracy: 0.55\n",
            "\n",
            "Epoch: 44\n",
            "\n",
            "Train Loss: 0.927, Train Accuracy: 0.67\n",
            "Validation Loss: 1.475, Validation Accuracy: 0.49\n",
            "\n",
            "Epoch: 45\n",
            "\n",
            "Train Loss: 0.907, Train Accuracy: 0.68\n",
            "Validation Loss: 1.463, Validation Accuracy: 0.50\n",
            "\n",
            "Epoch: 46\n",
            "\n",
            "Train Loss: 0.907, Train Accuracy: 0.68\n",
            "Validation Loss: 1.282, Validation Accuracy: 0.57\n",
            "\n",
            "Epoch: 47\n",
            "\n",
            "Train Loss: 0.897, Train Accuracy: 0.69\n",
            "Validation Loss: 1.415, Validation Accuracy: 0.52\n",
            "\n",
            "Epoch: 48\n",
            "\n",
            "Train Loss: 0.885, Train Accuracy: 0.69\n",
            "Validation Loss: 1.336, Validation Accuracy: 0.54\n",
            "\n",
            "Epoch: 49\n",
            "\n",
            "Train Loss: 0.874, Train Accuracy: 0.69\n",
            "Validation Loss: 1.514, Validation Accuracy: 0.50\n",
            "\n",
            "Epoch: 50\n",
            "\n",
            "Train Loss: 0.863, Train Accuracy: 0.70\n",
            "Validation Loss: 1.472, Validation Accuracy: 0.50\n",
            "\n",
            "Epoch: 51\n",
            "\n",
            "Train Loss: 0.855, Train Accuracy: 0.70\n",
            "Validation Loss: 1.296, Validation Accuracy: 0.56\n",
            "\n",
            "Epoch: 52\n",
            "\n",
            "Train Loss: 0.845, Train Accuracy: 0.70\n",
            "Validation Loss: 1.447, Validation Accuracy: 0.53\n",
            "\n",
            "Epoch: 53\n",
            "\n",
            "Train Loss: 0.832, Train Accuracy: 0.71\n",
            "Validation Loss: 1.476, Validation Accuracy: 0.52\n",
            "\n",
            "Epoch: 54\n",
            "\n",
            "Train Loss: 0.826, Train Accuracy: 0.71\n",
            "Validation Loss: 1.501, Validation Accuracy: 0.52\n",
            "\n",
            "Epoch: 55\n",
            "\n",
            "Train Loss: 0.808, Train Accuracy: 0.72\n",
            "Validation Loss: 1.433, Validation Accuracy: 0.55\n",
            "\n",
            "Epoch: 56\n",
            "\n",
            "Train Loss: 0.804, Train Accuracy: 0.72\n",
            "Validation Loss: 1.445, Validation Accuracy: 0.53\n",
            "\n",
            "Epoch: 57\n",
            "\n",
            "Train Loss: 0.795, Train Accuracy: 0.72\n",
            "Validation Loss: 1.447, Validation Accuracy: 0.53\n",
            "\n",
            "Epoch: 58\n",
            "\n",
            "Train Loss: 0.784, Train Accuracy: 0.72\n",
            "Validation Loss: 1.526, Validation Accuracy: 0.52\n",
            "\n",
            "Epoch: 59\n",
            "\n",
            "Train Loss: 0.774, Train Accuracy: 0.73\n",
            "Validation Loss: 1.387, Validation Accuracy: 0.55\n",
            "\n",
            "Epoch: 60\n",
            "\n",
            "Train Loss: 0.763, Train Accuracy: 0.73\n",
            "Validation Loss: 1.403, Validation Accuracy: 0.54\n",
            "\n",
            "Epoch: 61\n",
            "\n",
            "Train Loss: 0.763, Train Accuracy: 0.73\n",
            "Validation Loss: 1.375, Validation Accuracy: 0.56\n",
            "\n",
            "Epoch: 62\n",
            "\n",
            "Train Loss: 0.759, Train Accuracy: 0.74\n",
            "Validation Loss: 1.613, Validation Accuracy: 0.50\n",
            "\n",
            "Epoch: 63\n",
            "\n",
            "Train Loss: 0.740, Train Accuracy: 0.74\n",
            "Validation Loss: 1.459, Validation Accuracy: 0.55\n",
            "\n",
            "Epoch: 64\n",
            "\n",
            "Train Loss: 0.740, Train Accuracy: 0.74\n",
            "Validation Loss: 1.506, Validation Accuracy: 0.56\n",
            "\n",
            "Epoch: 65\n",
            "\n",
            "Train Loss: 0.732, Train Accuracy: 0.74\n",
            "Validation Loss: 1.846, Validation Accuracy: 0.50\n",
            "\n",
            "Epoch: 66\n",
            "\n",
            "Train Loss: 0.719, Train Accuracy: 0.75\n",
            "Validation Loss: 1.514, Validation Accuracy: 0.54\n",
            "\n",
            "Epoch: 67\n",
            "\n",
            "Train Loss: 0.714, Train Accuracy: 0.75\n",
            "Validation Loss: 1.468, Validation Accuracy: 0.54\n",
            "\n",
            "Epoch: 68\n",
            "\n",
            "Train Loss: 0.700, Train Accuracy: 0.75\n",
            "Validation Loss: 1.407, Validation Accuracy: 0.55\n",
            "\n",
            "Epoch: 69\n",
            "\n",
            "Train Loss: 0.693, Train Accuracy: 0.76\n",
            "Validation Loss: 1.383, Validation Accuracy: 0.58\n",
            "\n",
            "Epoch: 70\n",
            "\n",
            "Train Loss: 0.693, Train Accuracy: 0.76\n",
            "Validation Loss: 1.441, Validation Accuracy: 0.56\n",
            "\n",
            "Epoch: 71\n",
            "\n",
            "Train Loss: 0.683, Train Accuracy: 0.76\n",
            "Validation Loss: 1.446, Validation Accuracy: 0.55\n",
            "\n",
            "Epoch: 72\n",
            "\n",
            "Train Loss: 0.679, Train Accuracy: 0.76\n",
            "Validation Loss: 1.649, Validation Accuracy: 0.53\n",
            "\n",
            "Epoch: 73\n",
            "\n",
            "Train Loss: 0.664, Train Accuracy: 0.77\n",
            "Validation Loss: 1.410, Validation Accuracy: 0.58\n",
            "\n",
            "Epoch: 74\n",
            "\n",
            "Train Loss: 0.660, Train Accuracy: 0.77\n",
            "Validation Loss: 1.502, Validation Accuracy: 0.55\n",
            "\n",
            "Epoch: 75\n",
            "\n",
            "Train Loss: 0.656, Train Accuracy: 0.77\n",
            "Validation Loss: 1.812, Validation Accuracy: 0.51\n",
            "\n",
            "Epoch: 76\n",
            "\n",
            "Train Loss: 0.654, Train Accuracy: 0.77\n",
            "Validation Loss: 1.507, Validation Accuracy: 0.56\n",
            "\n",
            "Epoch: 77\n",
            "\n",
            "Train Loss: 0.644, Train Accuracy: 0.78\n",
            "Validation Loss: 1.543, Validation Accuracy: 0.55\n",
            "\n",
            "Epoch: 78\n",
            "\n",
            "Train Loss: 0.633, Train Accuracy: 0.78\n",
            "Validation Loss: 1.685, Validation Accuracy: 0.52\n",
            "\n",
            "Epoch: 79\n",
            "\n",
            "Train Loss: 0.633, Train Accuracy: 0.78\n",
            "Validation Loss: 1.550, Validation Accuracy: 0.55\n",
            "\n",
            "Epoch: 80\n",
            "\n",
            "Train Loss: 0.616, Train Accuracy: 0.79\n",
            "Validation Loss: 1.531, Validation Accuracy: 0.56\n",
            "\n",
            "Epoch: 81\n",
            "\n",
            "Train Loss: 0.620, Train Accuracy: 0.79\n",
            "Validation Loss: 1.760, Validation Accuracy: 0.52\n",
            "\n",
            "Epoch: 82\n",
            "\n",
            "Train Loss: 0.617, Train Accuracy: 0.79\n",
            "Validation Loss: 1.429, Validation Accuracy: 0.54\n",
            "\n",
            "Epoch: 83\n",
            "\n",
            "Train Loss: 0.616, Train Accuracy: 0.78\n",
            "Validation Loss: 1.502, Validation Accuracy: 0.56\n",
            "\n",
            "Epoch: 84\n",
            "\n",
            "Train Loss: 0.606, Train Accuracy: 0.79\n",
            "Validation Loss: 1.523, Validation Accuracy: 0.55\n",
            "\n",
            "Epoch: 85\n",
            "\n",
            "Train Loss: 0.593, Train Accuracy: 0.79\n",
            "Validation Loss: 1.536, Validation Accuracy: 0.56\n",
            "\n",
            "Epoch: 86\n",
            "\n",
            "Train Loss: 0.586, Train Accuracy: 0.80\n",
            "Validation Loss: 1.616, Validation Accuracy: 0.55\n",
            "\n",
            "Epoch: 87\n",
            "\n",
            "Train Loss: 0.584, Train Accuracy: 0.80\n",
            "Validation Loss: 1.607, Validation Accuracy: 0.56\n",
            "\n",
            "Epoch: 88\n",
            "\n",
            "Train Loss: 0.587, Train Accuracy: 0.80\n",
            "Validation Loss: 1.430, Validation Accuracy: 0.58\n",
            "\n",
            "Epoch: 89\n",
            "\n",
            "Train Loss: 0.578, Train Accuracy: 0.80\n",
            "Validation Loss: 1.619, Validation Accuracy: 0.54\n",
            "\n",
            "Epoch: 90\n",
            "\n",
            "Train Loss: 0.575, Train Accuracy: 0.80\n",
            "Validation Loss: 1.572, Validation Accuracy: 0.56\n",
            "\n",
            "Epoch: 91\n",
            "\n",
            "Train Loss: 0.566, Train Accuracy: 0.80\n",
            "Validation Loss: 1.651, Validation Accuracy: 0.53\n",
            "\n",
            "Epoch: 92\n",
            "\n",
            "Train Loss: 0.563, Train Accuracy: 0.80\n",
            "Validation Loss: 1.528, Validation Accuracy: 0.56\n",
            "\n",
            "Epoch: 93\n",
            "\n",
            "Train Loss: 0.560, Train Accuracy: 0.81\n",
            "Validation Loss: 1.537, Validation Accuracy: 0.58\n",
            "\n",
            "Epoch: 94\n",
            "\n"
          ]
        }
      ],
      "source": [
        "from src.engine import train, evaluate\n",
        "from src.utils import calculate_accuracy\n",
        "\n",
        "EPOCHS = 200\n",
        "train_loss = []\n",
        "train_acc = []\n",
        "valid_loss = []\n",
        "valid_acc = []\n",
        "best_loss = float('inf')\n",
        "best_loss = float('inf')\n",
        "if prev_loss is not None:\n",
        "  print(f\"Training from previous best loss: {prev_loss}\")\n",
        "  best_loss = prev_loss\n",
        "\n",
        "for epoch in range(1, EPOCHS + 1):\n",
        "  print(f\"\\nEpoch: {epoch}\\n\")\n",
        "  loss, acc = train(model, train_loader, criterion, optimizer, device)\n",
        "  train_loss.append(loss)\n",
        "  train_acc.append(acc)\n",
        "  print(f\"Train Loss: {train_loss[-1]:.3f}, Train Accuracy: {train_acc[-1]:.2f}\")\n",
        "\n",
        "  loss, acc = evaluate(model, valid_loader, criterion, device)\n",
        "  valid_loss.append(loss)\n",
        "  valid_acc.append(acc)\n",
        "  print(f\"Validation Loss: {valid_loss[-1]:.3f}, Validation Accuracy: {valid_acc[-1]:.2f}\")\n",
        "\n",
        "  if loss < best_loss:\n",
        "    best_loss = loss\n",
        "    torch.save(model.state_dict(), path)"
      ]
    },
    {
      "cell_type": "markdown",
      "metadata": {
        "id": "GIu5vZ3d2jNJ"
      },
      "source": [
        "## Evaluate on the Test set"
      ]
    },
    {
      "cell_type": "code",
      "execution_count": null,
      "metadata": {
        "id": "q5oWJj8g11MF"
      },
      "outputs": [],
      "source": [
        "# load best model\n",
        "model.load_state_dict(torch.load(path))\n",
        "test_loss, test_acc = evaluate(model.to(device), test_loader, criterion, device)\n",
        "print(f\"Test Loss: {test_loss:.3f}\")\n",
        "print(f\"Test Accuracy: {test_acc:.2f}%\")"
      ]
    },
    {
      "cell_type": "markdown",
      "metadata": {
        "id": "qvOfsB752las"
      },
      "source": [
        "## Plot Loss and Accuracy Curves"
      ]
    },
    {
      "cell_type": "code",
      "execution_count": null,
      "metadata": {
        "id": "gk6I1WkDvWmE"
      },
      "outputs": [],
      "source": [
        "import matplotlib.pyplot as plt\n",
        "\n",
        "x = [i for i in range(len(valid_loss))]\n",
        "\n",
        "plt.plot(x, train_loss, label=\"Train Loss\")\n",
        "plt.plot(x, valid_loss, label=\"Validation Loss\")\n",
        "plt.legend()\n",
        "plt.show()"
      ]
    },
    {
      "cell_type": "code",
      "execution_count": null,
      "metadata": {
        "id": "A-xP3uX63aT8"
      },
      "outputs": [],
      "source": [
        "plt.plot(x, train_acc, label=\"Train Accuracy\")\n",
        "plt.plot(x, valid_acc, label=\"Validation Accuracy\")\n",
        "plt.legend()\n",
        "plt.show()"
      ]
    },
    {
      "cell_type": "code",
      "execution_count": null,
      "metadata": {
        "id": "D_FdIR923n9N"
      },
      "outputs": [],
      "source": []
    }
  ],
  "metadata": {
    "accelerator": "GPU",
    "colab": {
      "provenance": []
    },
    "gpuClass": "standard",
    "kernelspec": {
      "display_name": "pyg",
      "language": "python",
      "name": "python3"
    },
    "language_info": {
      "codemirror_mode": {
        "name": "ipython",
        "version": 3
      },
      "file_extension": ".py",
      "mimetype": "text/x-python",
      "name": "python",
      "nbconvert_exporter": "python",
      "pygments_lexer": "ipython3",
      "version": "3.9.15 (main, Nov 24 2022, 14:31:59) \n[GCC 11.2.0]"
    },
    "vscode": {
      "interpreter": {
        "hash": "602fd2f1343589d3bd6f27fae416162c1bba08e244faa27258d2511dac84d913"
      }
    }
  },
  "nbformat": 4,
  "nbformat_minor": 0
}
