{
  "cells": [
    {
      "cell_type": "code",
      "execution_count": 1,
      "metadata": {
        "colab": {
          "base_uri": "https://localhost:8080/"
        },
        "id": "HQeBbCYZlhKn",
        "outputId": "2900cceb-39b0-4e3e-a16a-81fdf6f336cf"
      },
      "outputs": [
        {
          "output_type": "stream",
          "name": "stdout",
          "text": [
            "1.13.0+cu116\n"
          ]
        }
      ],
      "source": [
        "# Install required packages.\n",
        "import os\n",
        "import torch\n",
        "os.environ['TORCH'] = torch.__version__\n",
        "print(torch.__version__)\n",
        "\n",
        "!pip install -q torch-scatter -f https://data.pyg.org/whl/torch-${TORCH}.html\n",
        "!pip install -q torch-sparse -f https://data.pyg.org/whl/torch-${TORCH}.html\n",
        "!pip install -q torch-cluster -f https://data.pyg.org/whl/torch-${TORCH}.html\n",
        "!pip install -q git+https://github.com/pyg-team/pytorch_geometric.git"
      ]
    },
    {
      "cell_type": "code",
      "execution_count": 2,
      "metadata": {
        "colab": {
          "base_uri": "https://localhost:8080/"
        },
        "id": "NUnIVvd-lxxZ",
        "outputId": "169d692e-b3d7-4fac-9eca-6d058f868b20"
      },
      "outputs": [
        {
          "output_type": "stream",
          "name": "stdout",
          "text": [
            "  Installing build dependencies ... \u001b[?25l\u001b[?25hdone\n",
            "  Getting requirements to build wheel ... \u001b[?25l\u001b[?25hdone\n",
            "    Preparing wheel metadata ... \u001b[?25l\u001b[?25hdone\n"
          ]
        }
      ],
      "source": [
        "# Install our repo\n",
        "# !git clone -b models \"https://github.com/ab7289-tandon-nyu/GraphVision.git\"\n",
        "# !cp -r /content/GraphVision/src/ .\n",
        "\n",
        "!pip install -q git+https://github.com/ab7289-tandon-nyu/GraphVision.git"
      ]
    },
    {
      "cell_type": "code",
      "execution_count": 3,
      "metadata": {
        "id": "4hY3Lomuoya8"
      },
      "outputs": [],
      "source": [
        "SEED = 1234\n",
        "\n",
        "torch.manual_seed(SEED)\n",
        "torch.cuda.manual_seed(SEED)\n",
        "torch.backends.cudnn.deterministic = True"
      ]
    },
    {
      "cell_type": "code",
      "execution_count": 4,
      "metadata": {
        "colab": {
          "base_uri": "https://localhost:8080/"
        },
        "id": "Du6KSimNFSe-",
        "outputId": "bd7b91d4-4b7d-4028-bb14-8b0bd4038c62"
      },
      "outputs": [
        {
          "output_type": "stream",
          "name": "stdout",
          "text": [
            "Drive already mounted at /content/drive; to attempt to forcibly remount, call drive.mount(\"/content/drive\", force_remount=True).\n"
          ]
        }
      ],
      "source": [
        "from google.colab import drive\n",
        "drive.mount(\"/content/drive\")"
      ]
    },
    {
      "cell_type": "code",
      "execution_count": 5,
      "metadata": {
        "id": "Wuj1_P_3m0-l"
      },
      "outputs": [],
      "source": [
        "from src.transforms import get_transforms\n",
        "from src.datasets import get_datasets, get_dataloaders\n",
        "\n",
        "transforms = get_transforms(\"cartesian\")\n",
        "train_dataset, valid_dataset, test_dataset = get_datasets(\".data/\", \n",
        "                        \"CIFAR10\", pre_transforms = None,\n",
        "                        transforms = transforms)\n",
        "BATCH_SIZE = 256\n",
        "\n",
        "train_loader, valid_loader, test_loader = get_dataloaders(train_dataset,\n",
        "                                                          valid_dataset,\n",
        "                                                          test_dataset,\n",
        "                                                          batch_size=(BATCH_SIZE, 1, 1),\n",
        "                                                          drop_last = False)"
      ]
    },
    {
      "cell_type": "markdown",
      "metadata": {
        "id": "Sjmgy7RvoJN-"
      },
      "source": [
        "## Review batch attributes"
      ]
    },
    {
      "cell_type": "code",
      "execution_count": 6,
      "metadata": {
        "colab": {
          "base_uri": "https://localhost:8080/"
        },
        "id": "-QCa0O4IoM6U",
        "outputId": "745581e3-3fd0-4bf7-f8df-94b319a88e51"
      },
      "outputs": [
        {
          "output_type": "stream",
          "name": "stdout",
          "text": [
            "\n",
            "DataBatch(x=[30065, 3], edge_index=[2, 270585], edge_attr=[270585, 2], y=[256], pos=[30065, 2], edge_weight=[270585], batch=[30065], ptr=[257])\n",
            "=====================================================================\n",
            "Number of features:  3\n",
            "Number of node features: 3\n",
            "Number of nodes: 30065\n",
            "Number of edges: 270585\n",
            "Average node degree: 9.00\n",
            "Has isolated nodes: False\n",
            "Has self-loops: True\n"
          ]
        }
      ],
      "source": [
        "sample_batch = next(iter(train_loader))\n",
        "\n",
        "print()\n",
        "print(sample_batch)\n",
        "print(\"=====================================================================\")\n",
        "\n",
        "# Gather some statistics about the first graph.\n",
        "print(f\"Number of features:  {sample_batch.num_features}\")\n",
        "print(f\"Number of node features: {sample_batch.num_node_features}\")\n",
        "print(f'Number of nodes: {sample_batch.num_nodes}')\n",
        "print(f'Number of edges: {sample_batch.num_edges}')\n",
        "print(f'Average node degree: {sample_batch.num_edges / sample_batch.num_nodes:.2f}')\n",
        "print(f'Has isolated nodes: {sample_batch.has_isolated_nodes()}')\n",
        "print(f'Has self-loops: {sample_batch.has_self_loops()}')"
      ]
    },
    {
      "cell_type": "code",
      "execution_count": 7,
      "metadata": {
        "colab": {
          "base_uri": "https://localhost:8080/"
        },
        "id": "tu3VtmrWpnZx",
        "outputId": "1462c4f7-aa93-4f21-cb36-31ed9c1e5752"
      },
      "outputs": [
        {
          "output_type": "stream",
          "name": "stdout",
          "text": [
            "Number of features: 3\n",
            "Number of classes: 10\n",
            "Edge Attr Dimension: 2\n"
          ]
        }
      ],
      "source": [
        "# store edge dimension\n",
        "edge_dim = sample_batch.edge_attr.size(-1)\n",
        "edge_dim\n",
        "# store number of features in graph batch\n",
        "input_features = test_dataset.num_features\n",
        "# store number of classes for classification\n",
        "num_classes = test_dataset.num_classes\n",
        "\n",
        "print(f\"Number of features: {input_features}\")\n",
        "print(f\"Number of classes: {num_classes}\")\n",
        "print(f\"Edge Attr Dimension: {edge_dim}\")"
      ]
    },
    {
      "cell_type": "code",
      "execution_count": 8,
      "metadata": {
        "colab": {
          "base_uri": "https://localhost:8080/"
        },
        "id": "rqiZaFw2ps9r",
        "outputId": "056ce584-25ad-42a4-f127-a22e31fcb841"
      },
      "outputs": [
        {
          "output_type": "stream",
          "name": "stdout",
          "text": [
            "Creating new Model\n"
          ]
        }
      ],
      "source": [
        "from pathlib import Path\n",
        "\n",
        "save_loc = \"/content/drive/MyDrive/saved_models/\" # put save location here\n",
        "model_name = \"GeneralConv_clus-false_BN_RELU_h128_layer8.pt\"\n",
        "\n",
        "file_path = save_loc + model_name\n",
        "path = Path(file_path)\n",
        "state_dict = None\n",
        "if path.exists() and path.is_file():\n",
        "  print(\"Found Save!\")\n",
        "  state_dict = torch.load(path)\n",
        "else:\n",
        "  print(\"Creating new Model\")"
      ]
    },
    {
      "cell_type": "markdown",
      "metadata": {
        "id": "gGiE28k32eUr"
      },
      "source": [
        "## Create our Model"
      ]
    },
    {
      "cell_type": "code",
      "execution_count": 9,
      "metadata": {
        "id": "epF5kpJcqWJw"
      },
      "outputs": [],
      "source": [
        "from src.models import DeeperGCN\n",
        "from src.engine import evaluate\n",
        "\n",
        "hidden_features = 128\n",
        "\n",
        "device = torch.device(\"cuda\" if torch.cuda.is_available() else \"cpu\")\n",
        "model = DeeperGCN(\n",
        "    input_features,\n",
        "    num_classes,\n",
        "    hidden_features,\n",
        "    conv_type = \"General\",\n",
        "    act = \"relu\",\n",
        "    norm = \"batch\",\n",
        "    num_layers = 8,\n",
        "    use_cluster_pooling = False,\n",
        "    readout = \"mean\",\n",
        "    dropout = 0.2,\n",
        "    edge_dim = edge_dim\n",
        ").to(device)\n",
        "criterion = torch.nn.CrossEntropyLoss().to(device)\n",
        "prev_loss = None\n",
        "if state_dict is not None:\n",
        "  print(\"Loading previously saved state dictionary\")\n",
        "  model.load_state_dict(state_dict)\n",
        "  prev_loss, _ = evaluate(model.to(device), test_loader, criterion, device)\n",
        "optimizer = torch.optim.Adam(model.parameters(), lr=0.01)"
      ]
    },
    {
      "cell_type": "code",
      "execution_count": 10,
      "metadata": {
        "colab": {
          "base_uri": "https://localhost:8080/"
        },
        "id": "fsm1MwvSr0nU",
        "outputId": "1e31ecec-3729-4ea2-ca87-88602685f594"
      },
      "outputs": [
        {
          "output_type": "stream",
          "name": "stdout",
          "text": [
            "There are 139,018 trainable parameters.\n",
            "\n",
            "DeeperGCN(\n",
            "  (fc_in): Linear(in_features=3, out_features=128, bias=True)\n",
            "  (fc_out): Linear(in_features=128, out_features=10, bias=True)\n",
            "  (out_act): ReLU(inplace=True)\n",
            "  (layers): ModuleList(\n",
            "    (0): DeepGCNLayer(block=res+)\n",
            "    (1): DeepGCNLayer(block=res+)\n",
            "    (2): DeepGCNLayer(block=res+)\n",
            "    (3): DeepGCNLayer(block=res+)\n",
            "    (4): DeepGCNLayer(block=res+)\n",
            "    (5): DeepGCNLayer(block=res+)\n",
            "    (6): DeepGCNLayer(block=res+)\n",
            "    (7): DeepGCNLayer(block=res+)\n",
            "  )\n",
            ")\n"
          ]
        }
      ],
      "source": [
        "params = sum([p.numel() for p in model.parameters() if p.requires_grad])\n",
        "print(f\"There are {params:,} trainable parameters.\")\n",
        "print()\n",
        "print(model)"
      ]
    },
    {
      "cell_type": "markdown",
      "metadata": {
        "id": "uuoamYXu2hf-"
      },
      "source": [
        "## Train"
      ]
    },
    {
      "cell_type": "code",
      "execution_count": 11,
      "metadata": {
        "colab": {
          "base_uri": "https://localhost:8080/",
          "height": 1000
        },
        "id": "8pyJ2olIr9pi",
        "outputId": "ea569279-025a-4db8-b878-920dd374745f"
      },
      "outputs": [
        {
          "output_type": "stream",
          "name": "stdout",
          "text": [
            "\n",
            "Epoch: 1\n",
            "\n",
            "Train Loss: 2.799, Train Accuracy: 0.17\n",
            "Validation Loss: 2.088, Validation Accuracy: 0.19\n",
            "\n",
            "Epoch: 2\n",
            "\n",
            "Train Loss: 2.115, Train Accuracy: 0.19\n",
            "Validation Loss: 2.030, Validation Accuracy: 0.21\n",
            "\n",
            "Epoch: 3\n",
            "\n",
            "Train Loss: 2.109, Train Accuracy: 0.19\n",
            "Validation Loss: 2.018, Validation Accuracy: 0.22\n",
            "\n",
            "Epoch: 4\n",
            "\n",
            "Train Loss: 2.102, Train Accuracy: 0.20\n",
            "Validation Loss: 2.039, Validation Accuracy: 0.20\n",
            "\n",
            "Epoch: 5\n",
            "\n",
            "Train Loss: 2.091, Train Accuracy: 0.20\n",
            "Validation Loss: 2.001, Validation Accuracy: 0.24\n",
            "\n",
            "Epoch: 6\n",
            "\n",
            "Train Loss: 2.084, Train Accuracy: 0.20\n",
            "Validation Loss: 1.981, Validation Accuracy: 0.25\n",
            "\n",
            "Epoch: 7\n",
            "\n",
            "Train Loss: 2.077, Train Accuracy: 0.21\n",
            "Validation Loss: 1.992, Validation Accuracy: 0.23\n",
            "\n",
            "Epoch: 8\n",
            "\n",
            "Train Loss: 2.043, Train Accuracy: 0.21\n",
            "Validation Loss: 1.967, Validation Accuracy: 0.23\n",
            "\n",
            "Epoch: 9\n",
            "\n",
            "Train Loss: 2.008, Train Accuracy: 0.22\n",
            "Validation Loss: 1.916, Validation Accuracy: 0.27\n",
            "\n",
            "Epoch: 10\n",
            "\n",
            "Train Loss: 1.965, Train Accuracy: 0.24\n",
            "Validation Loss: 1.905, Validation Accuracy: 0.27\n",
            "\n",
            "Epoch: 11\n",
            "\n",
            "Train Loss: 1.939, Train Accuracy: 0.25\n",
            "Validation Loss: 1.932, Validation Accuracy: 0.27\n",
            "\n",
            "Epoch: 12\n",
            "\n",
            "Train Loss: 1.918, Train Accuracy: 0.26\n",
            "Validation Loss: 1.839, Validation Accuracy: 0.28\n",
            "\n",
            "Epoch: 13\n",
            "\n",
            "Train Loss: 1.924, Train Accuracy: 0.26\n",
            "Validation Loss: 1.906, Validation Accuracy: 0.27\n",
            "\n",
            "Epoch: 14\n",
            "\n",
            "Train Loss: 1.892, Train Accuracy: 0.27\n",
            "Validation Loss: 1.844, Validation Accuracy: 0.29\n",
            "\n",
            "Epoch: 15\n",
            "\n",
            "Train Loss: 1.867, Train Accuracy: 0.28\n",
            "Validation Loss: 1.878, Validation Accuracy: 0.31\n",
            "\n",
            "Epoch: 16\n",
            "\n",
            "Train Loss: 1.842, Train Accuracy: 0.30\n",
            "Validation Loss: 1.744, Validation Accuracy: 0.34\n",
            "\n",
            "Epoch: 17\n",
            "\n",
            "Train Loss: 1.816, Train Accuracy: 0.31\n",
            "Validation Loss: 1.927, Validation Accuracy: 0.28\n",
            "\n",
            "Epoch: 18\n",
            "\n",
            "Train Loss: 1.805, Train Accuracy: 0.32\n",
            "Validation Loss: 1.726, Validation Accuracy: 0.35\n",
            "\n",
            "Epoch: 19\n",
            "\n",
            "Train Loss: 1.788, Train Accuracy: 0.33\n",
            "Validation Loss: 1.744, Validation Accuracy: 0.35\n",
            "\n",
            "Epoch: 20\n",
            "\n",
            "Train Loss: 1.771, Train Accuracy: 0.33\n",
            "Validation Loss: 1.787, Validation Accuracy: 0.35\n",
            "\n",
            "Epoch: 21\n",
            "\n",
            "Train Loss: 1.760, Train Accuracy: 0.34\n",
            "Validation Loss: 1.814, Validation Accuracy: 0.33\n",
            "\n",
            "Epoch: 22\n",
            "\n",
            "Train Loss: 1.750, Train Accuracy: 0.35\n",
            "Validation Loss: 1.702, Validation Accuracy: 0.38\n",
            "\n",
            "Epoch: 23\n",
            "\n",
            "Train Loss: 1.738, Train Accuracy: 0.35\n",
            "Validation Loss: 1.649, Validation Accuracy: 0.40\n",
            "\n",
            "Epoch: 24\n",
            "\n",
            "Train Loss: 1.730, Train Accuracy: 0.36\n",
            "Validation Loss: 1.644, Validation Accuracy: 0.40\n",
            "\n",
            "Epoch: 25\n",
            "\n",
            "Train Loss: 1.721, Train Accuracy: 0.36\n",
            "Validation Loss: 1.648, Validation Accuracy: 0.40\n",
            "\n",
            "Epoch: 26\n",
            "\n",
            "Train Loss: 1.722, Train Accuracy: 0.36\n",
            "Validation Loss: 1.603, Validation Accuracy: 0.42\n",
            "\n",
            "Epoch: 27\n",
            "\n",
            "Train Loss: 1.710, Train Accuracy: 0.36\n",
            "Validation Loss: 1.616, Validation Accuracy: 0.42\n",
            "\n",
            "Epoch: 28\n",
            "\n",
            "Train Loss: 1.702, Train Accuracy: 0.37\n",
            "Validation Loss: 1.583, Validation Accuracy: 0.42\n",
            "\n",
            "Epoch: 29\n",
            "\n",
            "Train Loss: 1.698, Train Accuracy: 0.37\n",
            "Validation Loss: 1.657, Validation Accuracy: 0.39\n",
            "\n",
            "Epoch: 30\n",
            "\n",
            "Train Loss: 1.693, Train Accuracy: 0.37\n",
            "Validation Loss: 1.615, Validation Accuracy: 0.39\n",
            "\n",
            "Epoch: 31\n",
            "\n",
            "Train Loss: 1.693, Train Accuracy: 0.37\n",
            "Validation Loss: 1.596, Validation Accuracy: 0.41\n",
            "\n",
            "Epoch: 32\n",
            "\n",
            "Train Loss: 1.689, Train Accuracy: 0.37\n",
            "Validation Loss: 1.597, Validation Accuracy: 0.43\n",
            "\n",
            "Epoch: 33\n",
            "\n",
            "Train Loss: 1.674, Train Accuracy: 0.38\n",
            "Validation Loss: 1.641, Validation Accuracy: 0.40\n",
            "\n",
            "Epoch: 34\n",
            "\n",
            "Train Loss: 1.677, Train Accuracy: 0.38\n",
            "Validation Loss: 1.600, Validation Accuracy: 0.41\n",
            "\n",
            "Epoch: 35\n",
            "\n",
            "Train Loss: 1.672, Train Accuracy: 0.39\n",
            "Validation Loss: 1.618, Validation Accuracy: 0.41\n",
            "\n",
            "Epoch: 36\n",
            "\n",
            "Train Loss: 1.672, Train Accuracy: 0.38\n",
            "Validation Loss: 1.604, Validation Accuracy: 0.43\n",
            "\n",
            "Epoch: 37\n",
            "\n",
            "Train Loss: 1.661, Train Accuracy: 0.39\n",
            "Validation Loss: 1.554, Validation Accuracy: 0.43\n",
            "\n",
            "Epoch: 38\n",
            "\n",
            "Train Loss: 1.656, Train Accuracy: 0.39\n",
            "Validation Loss: 1.536, Validation Accuracy: 0.43\n",
            "\n",
            "Epoch: 39\n",
            "\n",
            "Train Loss: 1.655, Train Accuracy: 0.39\n",
            "Validation Loss: 1.609, Validation Accuracy: 0.41\n",
            "\n",
            "Epoch: 40\n",
            "\n",
            "Train Loss: 1.644, Train Accuracy: 0.40\n",
            "Validation Loss: 1.570, Validation Accuracy: 0.42\n",
            "\n",
            "Epoch: 41\n",
            "\n",
            "Train Loss: 1.653, Train Accuracy: 0.39\n",
            "Validation Loss: 1.547, Validation Accuracy: 0.45\n",
            "\n",
            "Epoch: 42\n",
            "\n",
            "Train Loss: 1.638, Train Accuracy: 0.40\n",
            "Validation Loss: 1.611, Validation Accuracy: 0.43\n",
            "\n",
            "Epoch: 43\n",
            "\n",
            "Train Loss: 1.630, Train Accuracy: 0.40\n",
            "Validation Loss: 1.488, Validation Accuracy: 0.47\n",
            "\n",
            "Epoch: 44\n",
            "\n",
            "Train Loss: 1.634, Train Accuracy: 0.40\n",
            "Validation Loss: 1.528, Validation Accuracy: 0.45\n",
            "\n",
            "Epoch: 45\n",
            "\n",
            "Train Loss: 1.629, Train Accuracy: 0.40\n",
            "Validation Loss: 1.526, Validation Accuracy: 0.45\n",
            "\n",
            "Epoch: 46\n",
            "\n",
            "Train Loss: 1.619, Train Accuracy: 0.41\n",
            "Validation Loss: 1.512, Validation Accuracy: 0.46\n",
            "\n",
            "Epoch: 47\n",
            "\n",
            "Train Loss: 1.613, Train Accuracy: 0.41\n",
            "Validation Loss: 1.536, Validation Accuracy: 0.43\n",
            "\n",
            "Epoch: 48\n",
            "\n",
            "Train Loss: 1.611, Train Accuracy: 0.41\n",
            "Validation Loss: 1.579, Validation Accuracy: 0.42\n",
            "\n",
            "Epoch: 49\n",
            "\n",
            "Train Loss: 1.609, Train Accuracy: 0.41\n",
            "Validation Loss: 1.519, Validation Accuracy: 0.46\n",
            "\n",
            "Epoch: 50\n",
            "\n",
            "Train Loss: 1.629, Train Accuracy: 0.40\n",
            "Validation Loss: 1.566, Validation Accuracy: 0.44\n",
            "\n",
            "Epoch: 51\n",
            "\n",
            "Train Loss: 1.601, Train Accuracy: 0.41\n",
            "Validation Loss: 1.518, Validation Accuracy: 0.46\n",
            "\n",
            "Epoch: 52\n",
            "\n",
            "Train Loss: 1.607, Train Accuracy: 0.41\n",
            "Validation Loss: 1.524, Validation Accuracy: 0.46\n",
            "\n",
            "Epoch: 53\n",
            "\n",
            "Train Loss: 1.605, Train Accuracy: 0.41\n",
            "Validation Loss: 1.517, Validation Accuracy: 0.45\n",
            "\n",
            "Epoch: 54\n",
            "\n",
            "Train Loss: 1.595, Train Accuracy: 0.42\n",
            "Validation Loss: 1.517, Validation Accuracy: 0.46\n",
            "\n",
            "Epoch: 55\n",
            "\n",
            "Train Loss: 1.597, Train Accuracy: 0.42\n",
            "Validation Loss: 1.463, Validation Accuracy: 0.48\n",
            "\n",
            "Epoch: 56\n",
            "\n",
            "Train Loss: 1.592, Train Accuracy: 0.42\n",
            "Validation Loss: 1.492, Validation Accuracy: 0.47\n",
            "\n",
            "Epoch: 57\n",
            "\n",
            "Train Loss: 1.585, Train Accuracy: 0.42\n",
            "Validation Loss: 1.516, Validation Accuracy: 0.47\n",
            "\n",
            "Epoch: 58\n",
            "\n",
            "Train Loss: 1.578, Train Accuracy: 0.42\n",
            "Validation Loss: 1.521, Validation Accuracy: 0.44\n",
            "\n",
            "Epoch: 59\n",
            "\n",
            "Train Loss: 1.586, Train Accuracy: 0.42\n",
            "Validation Loss: 1.519, Validation Accuracy: 0.45\n",
            "\n",
            "Epoch: 60\n",
            "\n",
            "Train Loss: 1.579, Train Accuracy: 0.42\n",
            "Validation Loss: 1.511, Validation Accuracy: 0.46\n",
            "\n",
            "Epoch: 61\n",
            "\n",
            "Train Loss: 1.586, Train Accuracy: 0.42\n",
            "Validation Loss: 1.502, Validation Accuracy: 0.46\n",
            "\n",
            "Epoch: 62\n",
            "\n",
            "Train Loss: 1.588, Train Accuracy: 0.42\n",
            "Validation Loss: 1.534, Validation Accuracy: 0.46\n",
            "\n",
            "Epoch: 63\n",
            "\n",
            "Train Loss: 1.574, Train Accuracy: 0.43\n",
            "Validation Loss: 1.465, Validation Accuracy: 0.48\n",
            "\n",
            "Epoch: 64\n",
            "\n",
            "Train Loss: 1.577, Train Accuracy: 0.42\n",
            "Validation Loss: 1.460, Validation Accuracy: 0.47\n",
            "\n",
            "Epoch: 65\n",
            "\n",
            "Train Loss: 1.570, Train Accuracy: 0.43\n",
            "Validation Loss: 1.492, Validation Accuracy: 0.47\n",
            "\n",
            "Epoch: 66\n",
            "\n",
            "Train Loss: 1.572, Train Accuracy: 0.43\n",
            "Validation Loss: 1.437, Validation Accuracy: 0.49\n",
            "\n",
            "Epoch: 67\n",
            "\n",
            "Train Loss: 1.570, Train Accuracy: 0.43\n",
            "Validation Loss: 1.515, Validation Accuracy: 0.48\n",
            "\n",
            "Epoch: 68\n",
            "\n",
            "Train Loss: 1.569, Train Accuracy: 0.43\n",
            "Validation Loss: 1.488, Validation Accuracy: 0.47\n",
            "\n",
            "Epoch: 69\n",
            "\n",
            "Train Loss: 1.562, Train Accuracy: 0.43\n",
            "Validation Loss: 1.449, Validation Accuracy: 0.49\n",
            "\n",
            "Epoch: 70\n",
            "\n",
            "Train Loss: 1.559, Train Accuracy: 0.43\n",
            "Validation Loss: 1.464, Validation Accuracy: 0.48\n",
            "\n",
            "Epoch: 71\n",
            "\n",
            "Train Loss: 1.558, Train Accuracy: 0.43\n",
            "Validation Loss: 1.523, Validation Accuracy: 0.48\n",
            "\n",
            "Epoch: 72\n",
            "\n",
            "Train Loss: 1.554, Train Accuracy: 0.43\n",
            "Validation Loss: 1.445, Validation Accuracy: 0.49\n",
            "\n",
            "Epoch: 73\n",
            "\n",
            "Train Loss: 1.547, Train Accuracy: 0.43\n",
            "Validation Loss: 1.463, Validation Accuracy: 0.49\n",
            "\n",
            "Epoch: 74\n",
            "\n",
            "Train Loss: 1.549, Train Accuracy: 0.43\n",
            "Validation Loss: 1.493, Validation Accuracy: 0.48\n",
            "\n",
            "Epoch: 75\n",
            "\n",
            "Train Loss: 1.548, Train Accuracy: 0.44\n",
            "Validation Loss: 1.577, Validation Accuracy: 0.44\n",
            "\n",
            "Epoch: 76\n",
            "\n",
            "Train Loss: 1.543, Train Accuracy: 0.44\n",
            "Validation Loss: 1.462, Validation Accuracy: 0.48\n",
            "\n",
            "Epoch: 77\n",
            "\n",
            "Train Loss: 1.535, Train Accuracy: 0.44\n",
            "Validation Loss: 1.479, Validation Accuracy: 0.49\n",
            "\n",
            "Epoch: 78\n",
            "\n",
            "Train Loss: 1.542, Train Accuracy: 0.44\n",
            "Validation Loss: 1.464, Validation Accuracy: 0.48\n",
            "\n",
            "Epoch: 79\n",
            "\n",
            "Train Loss: 1.535, Train Accuracy: 0.44\n",
            "Validation Loss: 1.431, Validation Accuracy: 0.50\n",
            "\n",
            "Epoch: 80\n",
            "\n",
            "Train Loss: 1.536, Train Accuracy: 0.44\n",
            "Validation Loss: 1.473, Validation Accuracy: 0.49\n",
            "\n",
            "Epoch: 81\n",
            "\n",
            "Train Loss: 1.522, Train Accuracy: 0.45\n",
            "Validation Loss: 1.439, Validation Accuracy: 0.49\n",
            "\n",
            "Epoch: 82\n",
            "\n",
            "Train Loss: 1.526, Train Accuracy: 0.44\n",
            "Validation Loss: 1.423, Validation Accuracy: 0.51\n",
            "\n",
            "Epoch: 83\n",
            "\n",
            "Train Loss: 1.528, Train Accuracy: 0.44\n",
            "Validation Loss: 1.442, Validation Accuracy: 0.50\n",
            "\n",
            "Epoch: 84\n",
            "\n",
            "Train Loss: 1.533, Train Accuracy: 0.44\n",
            "Validation Loss: 1.452, Validation Accuracy: 0.49\n",
            "\n",
            "Epoch: 85\n",
            "\n",
            "Train Loss: 1.532, Train Accuracy: 0.44\n",
            "Validation Loss: 1.450, Validation Accuracy: 0.49\n",
            "\n",
            "Epoch: 86\n",
            "\n",
            "Train Loss: 1.511, Train Accuracy: 0.45\n",
            "Validation Loss: 1.500, Validation Accuracy: 0.47\n",
            "\n",
            "Epoch: 87\n",
            "\n",
            "Train Loss: 1.524, Train Accuracy: 0.45\n",
            "Validation Loss: 1.487, Validation Accuracy: 0.48\n",
            "\n",
            "Epoch: 88\n",
            "\n",
            "Train Loss: 1.526, Train Accuracy: 0.45\n",
            "Validation Loss: 1.438, Validation Accuracy: 0.50\n",
            "\n",
            "Epoch: 89\n",
            "\n",
            "Train Loss: 1.518, Train Accuracy: 0.45\n",
            "Validation Loss: 1.458, Validation Accuracy: 0.47\n",
            "\n",
            "Epoch: 90\n",
            "\n",
            "Train Loss: 1.513, Train Accuracy: 0.45\n",
            "Validation Loss: 1.436, Validation Accuracy: 0.50\n",
            "\n",
            "Epoch: 91\n",
            "\n",
            "Train Loss: 1.505, Train Accuracy: 0.45\n",
            "Validation Loss: 1.411, Validation Accuracy: 0.49\n",
            "\n",
            "Epoch: 92\n",
            "\n",
            "Train Loss: 1.515, Train Accuracy: 0.45\n",
            "Validation Loss: 1.415, Validation Accuracy: 0.50\n",
            "\n",
            "Epoch: 93\n",
            "\n",
            "Train Loss: 1.513, Train Accuracy: 0.45\n",
            "Validation Loss: 1.438, Validation Accuracy: 0.49\n",
            "\n",
            "Epoch: 94\n",
            "\n",
            "Train Loss: 1.499, Train Accuracy: 0.46\n",
            "Validation Loss: 1.482, Validation Accuracy: 0.48\n",
            "\n",
            "Epoch: 95\n",
            "\n",
            "Train Loss: 1.510, Train Accuracy: 0.45\n",
            "Validation Loss: 1.470, Validation Accuracy: 0.48\n",
            "\n",
            "Epoch: 96\n",
            "\n",
            "Train Loss: 1.508, Train Accuracy: 0.45\n",
            "Validation Loss: 1.439, Validation Accuracy: 0.50\n",
            "\n",
            "Epoch: 97\n",
            "\n",
            "Train Loss: 1.514, Train Accuracy: 0.45\n",
            "Validation Loss: 1.449, Validation Accuracy: 0.50\n",
            "\n",
            "Epoch: 98\n",
            "\n",
            "Train Loss: 1.499, Train Accuracy: 0.46\n",
            "Validation Loss: 1.425, Validation Accuracy: 0.50\n",
            "\n",
            "Epoch: 99\n",
            "\n",
            "Train Loss: 1.498, Train Accuracy: 0.46\n",
            "Validation Loss: 1.447, Validation Accuracy: 0.50\n",
            "\n",
            "Epoch: 100\n",
            "\n",
            "Train Loss: 1.504, Train Accuracy: 0.45\n",
            "Validation Loss: 1.485, Validation Accuracy: 0.48\n",
            "\n",
            "Epoch: 101\n",
            "\n",
            "Train Loss: 1.495, Train Accuracy: 0.45\n",
            "Validation Loss: 1.500, Validation Accuracy: 0.48\n",
            "\n",
            "Epoch: 102\n",
            "\n",
            "Train Loss: 1.488, Train Accuracy: 0.46\n",
            "Validation Loss: 1.480, Validation Accuracy: 0.48\n",
            "\n",
            "Epoch: 103\n",
            "\n"
          ]
        },
        {
          "output_type": "error",
          "ename": "KeyboardInterrupt",
          "evalue": "ignored",
          "traceback": [
            "\u001b[0;31m---------------------------------------------------------------------------\u001b[0m",
            "\u001b[0;31mKeyboardInterrupt\u001b[0m                         Traceback (most recent call last)",
            "\u001b[0;32m<ipython-input-11-b80034108d2c>\u001b[0m in \u001b[0;36m<module>\u001b[0;34m\u001b[0m\n\u001b[1;32m     15\u001b[0m \u001b[0;32mfor\u001b[0m \u001b[0mepoch\u001b[0m \u001b[0;32min\u001b[0m \u001b[0mrange\u001b[0m\u001b[0;34m(\u001b[0m\u001b[0;36m1\u001b[0m\u001b[0;34m,\u001b[0m \u001b[0mEPOCHS\u001b[0m \u001b[0;34m+\u001b[0m \u001b[0;36m1\u001b[0m\u001b[0;34m)\u001b[0m\u001b[0;34m:\u001b[0m\u001b[0;34m\u001b[0m\u001b[0;34m\u001b[0m\u001b[0m\n\u001b[1;32m     16\u001b[0m   \u001b[0mprint\u001b[0m\u001b[0;34m(\u001b[0m\u001b[0;34mf\"\\nEpoch: {epoch}\\n\"\u001b[0m\u001b[0;34m)\u001b[0m\u001b[0;34m\u001b[0m\u001b[0;34m\u001b[0m\u001b[0m\n\u001b[0;32m---> 17\u001b[0;31m   \u001b[0mloss\u001b[0m\u001b[0;34m,\u001b[0m \u001b[0macc\u001b[0m \u001b[0;34m=\u001b[0m \u001b[0mtrain\u001b[0m\u001b[0;34m(\u001b[0m\u001b[0mmodel\u001b[0m\u001b[0;34m,\u001b[0m \u001b[0mtrain_loader\u001b[0m\u001b[0;34m,\u001b[0m \u001b[0mcriterion\u001b[0m\u001b[0;34m,\u001b[0m \u001b[0moptimizer\u001b[0m\u001b[0;34m,\u001b[0m \u001b[0mdevice\u001b[0m\u001b[0;34m)\u001b[0m\u001b[0;34m\u001b[0m\u001b[0;34m\u001b[0m\u001b[0m\n\u001b[0m\u001b[1;32m     18\u001b[0m   \u001b[0mtrain_loss\u001b[0m\u001b[0;34m.\u001b[0m\u001b[0mappend\u001b[0m\u001b[0;34m(\u001b[0m\u001b[0mloss\u001b[0m\u001b[0;34m)\u001b[0m\u001b[0;34m\u001b[0m\u001b[0;34m\u001b[0m\u001b[0m\n\u001b[1;32m     19\u001b[0m   \u001b[0mtrain_acc\u001b[0m\u001b[0;34m.\u001b[0m\u001b[0mappend\u001b[0m\u001b[0;34m(\u001b[0m\u001b[0macc\u001b[0m\u001b[0;34m)\u001b[0m\u001b[0;34m\u001b[0m\u001b[0;34m\u001b[0m\u001b[0m\n",
            "\u001b[0;32m/usr/local/lib/python3.8/dist-packages/src/engine.py\u001b[0m in \u001b[0;36mtrain\u001b[0;34m(model, iter, criterion, optimizer, device, scheduler)\u001b[0m\n\u001b[1;32m     11\u001b[0m     \u001b[0mepoch_loss\u001b[0m \u001b[0;34m=\u001b[0m \u001b[0;36m0\u001b[0m\u001b[0;34m\u001b[0m\u001b[0;34m\u001b[0m\u001b[0m\n\u001b[1;32m     12\u001b[0m     \u001b[0mepoch_acc\u001b[0m \u001b[0;34m=\u001b[0m \u001b[0;36m0\u001b[0m\u001b[0;34m\u001b[0m\u001b[0;34m\u001b[0m\u001b[0m\n\u001b[0;32m---> 13\u001b[0;31m     \u001b[0;32mfor\u001b[0m \u001b[0mdata\u001b[0m \u001b[0;32min\u001b[0m \u001b[0miter\u001b[0m\u001b[0;34m:\u001b[0m\u001b[0;34m\u001b[0m\u001b[0;34m\u001b[0m\u001b[0m\n\u001b[0m\u001b[1;32m     14\u001b[0m         \u001b[0mdata\u001b[0m \u001b[0;34m=\u001b[0m \u001b[0mdata\u001b[0m\u001b[0;34m.\u001b[0m\u001b[0mto\u001b[0m\u001b[0;34m(\u001b[0m\u001b[0mdevice\u001b[0m\u001b[0;34m)\u001b[0m\u001b[0;34m\u001b[0m\u001b[0;34m\u001b[0m\u001b[0m\n\u001b[1;32m     15\u001b[0m \u001b[0;34m\u001b[0m\u001b[0m\n",
            "\u001b[0;32m/usr/local/lib/python3.8/dist-packages/torch/utils/data/dataloader.py\u001b[0m in \u001b[0;36m__next__\u001b[0;34m(self)\u001b[0m\n\u001b[1;32m    626\u001b[0m                 \u001b[0;31m# TODO(https://github.com/pytorch/pytorch/issues/76750)\u001b[0m\u001b[0;34m\u001b[0m\u001b[0;34m\u001b[0m\u001b[0;34m\u001b[0m\u001b[0m\n\u001b[1;32m    627\u001b[0m                 \u001b[0mself\u001b[0m\u001b[0;34m.\u001b[0m\u001b[0m_reset\u001b[0m\u001b[0;34m(\u001b[0m\u001b[0;34m)\u001b[0m  \u001b[0;31m# type: ignore[call-arg]\u001b[0m\u001b[0;34m\u001b[0m\u001b[0;34m\u001b[0m\u001b[0m\n\u001b[0;32m--> 628\u001b[0;31m             \u001b[0mdata\u001b[0m \u001b[0;34m=\u001b[0m \u001b[0mself\u001b[0m\u001b[0;34m.\u001b[0m\u001b[0m_next_data\u001b[0m\u001b[0;34m(\u001b[0m\u001b[0;34m)\u001b[0m\u001b[0;34m\u001b[0m\u001b[0;34m\u001b[0m\u001b[0m\n\u001b[0m\u001b[1;32m    629\u001b[0m             \u001b[0mself\u001b[0m\u001b[0;34m.\u001b[0m\u001b[0m_num_yielded\u001b[0m \u001b[0;34m+=\u001b[0m \u001b[0;36m1\u001b[0m\u001b[0;34m\u001b[0m\u001b[0;34m\u001b[0m\u001b[0m\n\u001b[1;32m    630\u001b[0m             \u001b[0;32mif\u001b[0m \u001b[0mself\u001b[0m\u001b[0;34m.\u001b[0m\u001b[0m_dataset_kind\u001b[0m \u001b[0;34m==\u001b[0m \u001b[0m_DatasetKind\u001b[0m\u001b[0;34m.\u001b[0m\u001b[0mIterable\u001b[0m \u001b[0;32mand\u001b[0m\u001b[0;31m \u001b[0m\u001b[0;31m\\\u001b[0m\u001b[0;34m\u001b[0m\u001b[0;34m\u001b[0m\u001b[0m\n",
            "\u001b[0;32m/usr/local/lib/python3.8/dist-packages/torch/utils/data/dataloader.py\u001b[0m in \u001b[0;36m_next_data\u001b[0;34m(self)\u001b[0m\n\u001b[1;32m    669\u001b[0m     \u001b[0;32mdef\u001b[0m \u001b[0m_next_data\u001b[0m\u001b[0;34m(\u001b[0m\u001b[0mself\u001b[0m\u001b[0;34m)\u001b[0m\u001b[0;34m:\u001b[0m\u001b[0;34m\u001b[0m\u001b[0;34m\u001b[0m\u001b[0m\n\u001b[1;32m    670\u001b[0m         \u001b[0mindex\u001b[0m \u001b[0;34m=\u001b[0m \u001b[0mself\u001b[0m\u001b[0;34m.\u001b[0m\u001b[0m_next_index\u001b[0m\u001b[0;34m(\u001b[0m\u001b[0;34m)\u001b[0m  \u001b[0;31m# may raise StopIteration\u001b[0m\u001b[0;34m\u001b[0m\u001b[0;34m\u001b[0m\u001b[0m\n\u001b[0;32m--> 671\u001b[0;31m         \u001b[0mdata\u001b[0m \u001b[0;34m=\u001b[0m \u001b[0mself\u001b[0m\u001b[0;34m.\u001b[0m\u001b[0m_dataset_fetcher\u001b[0m\u001b[0;34m.\u001b[0m\u001b[0mfetch\u001b[0m\u001b[0;34m(\u001b[0m\u001b[0mindex\u001b[0m\u001b[0;34m)\u001b[0m  \u001b[0;31m# may raise StopIteration\u001b[0m\u001b[0;34m\u001b[0m\u001b[0;34m\u001b[0m\u001b[0m\n\u001b[0m\u001b[1;32m    672\u001b[0m         \u001b[0;32mif\u001b[0m \u001b[0mself\u001b[0m\u001b[0;34m.\u001b[0m\u001b[0m_pin_memory\u001b[0m\u001b[0;34m:\u001b[0m\u001b[0;34m\u001b[0m\u001b[0;34m\u001b[0m\u001b[0m\n\u001b[1;32m    673\u001b[0m             \u001b[0mdata\u001b[0m \u001b[0;34m=\u001b[0m \u001b[0m_utils\u001b[0m\u001b[0;34m.\u001b[0m\u001b[0mpin_memory\u001b[0m\u001b[0;34m.\u001b[0m\u001b[0mpin_memory\u001b[0m\u001b[0;34m(\u001b[0m\u001b[0mdata\u001b[0m\u001b[0;34m,\u001b[0m \u001b[0mself\u001b[0m\u001b[0;34m.\u001b[0m\u001b[0m_pin_memory_device\u001b[0m\u001b[0;34m)\u001b[0m\u001b[0;34m\u001b[0m\u001b[0;34m\u001b[0m\u001b[0m\n",
            "\u001b[0;32m/usr/local/lib/python3.8/dist-packages/torch/utils/data/_utils/fetch.py\u001b[0m in \u001b[0;36mfetch\u001b[0;34m(self, possibly_batched_index)\u001b[0m\n\u001b[1;32m     56\u001b[0m                 \u001b[0mdata\u001b[0m \u001b[0;34m=\u001b[0m \u001b[0mself\u001b[0m\u001b[0;34m.\u001b[0m\u001b[0mdataset\u001b[0m\u001b[0;34m.\u001b[0m\u001b[0m__getitems__\u001b[0m\u001b[0;34m(\u001b[0m\u001b[0mpossibly_batched_index\u001b[0m\u001b[0;34m)\u001b[0m\u001b[0;34m\u001b[0m\u001b[0;34m\u001b[0m\u001b[0m\n\u001b[1;32m     57\u001b[0m             \u001b[0;32melse\u001b[0m\u001b[0;34m:\u001b[0m\u001b[0;34m\u001b[0m\u001b[0;34m\u001b[0m\u001b[0m\n\u001b[0;32m---> 58\u001b[0;31m                 \u001b[0mdata\u001b[0m \u001b[0;34m=\u001b[0m \u001b[0;34m[\u001b[0m\u001b[0mself\u001b[0m\u001b[0;34m.\u001b[0m\u001b[0mdataset\u001b[0m\u001b[0;34m[\u001b[0m\u001b[0midx\u001b[0m\u001b[0;34m]\u001b[0m \u001b[0;32mfor\u001b[0m \u001b[0midx\u001b[0m \u001b[0;32min\u001b[0m \u001b[0mpossibly_batched_index\u001b[0m\u001b[0;34m]\u001b[0m\u001b[0;34m\u001b[0m\u001b[0;34m\u001b[0m\u001b[0m\n\u001b[0m\u001b[1;32m     59\u001b[0m         \u001b[0;32melse\u001b[0m\u001b[0;34m:\u001b[0m\u001b[0;34m\u001b[0m\u001b[0;34m\u001b[0m\u001b[0m\n\u001b[1;32m     60\u001b[0m             \u001b[0mdata\u001b[0m \u001b[0;34m=\u001b[0m \u001b[0mself\u001b[0m\u001b[0;34m.\u001b[0m\u001b[0mdataset\u001b[0m\u001b[0;34m[\u001b[0m\u001b[0mpossibly_batched_index\u001b[0m\u001b[0;34m]\u001b[0m\u001b[0;34m\u001b[0m\u001b[0;34m\u001b[0m\u001b[0m\n",
            "\u001b[0;32m/usr/local/lib/python3.8/dist-packages/torch/utils/data/_utils/fetch.py\u001b[0m in \u001b[0;36m<listcomp>\u001b[0;34m(.0)\u001b[0m\n\u001b[1;32m     56\u001b[0m                 \u001b[0mdata\u001b[0m \u001b[0;34m=\u001b[0m \u001b[0mself\u001b[0m\u001b[0;34m.\u001b[0m\u001b[0mdataset\u001b[0m\u001b[0;34m.\u001b[0m\u001b[0m__getitems__\u001b[0m\u001b[0;34m(\u001b[0m\u001b[0mpossibly_batched_index\u001b[0m\u001b[0;34m)\u001b[0m\u001b[0;34m\u001b[0m\u001b[0;34m\u001b[0m\u001b[0m\n\u001b[1;32m     57\u001b[0m             \u001b[0;32melse\u001b[0m\u001b[0;34m:\u001b[0m\u001b[0;34m\u001b[0m\u001b[0;34m\u001b[0m\u001b[0m\n\u001b[0;32m---> 58\u001b[0;31m                 \u001b[0mdata\u001b[0m \u001b[0;34m=\u001b[0m \u001b[0;34m[\u001b[0m\u001b[0mself\u001b[0m\u001b[0;34m.\u001b[0m\u001b[0mdataset\u001b[0m\u001b[0;34m[\u001b[0m\u001b[0midx\u001b[0m\u001b[0;34m]\u001b[0m \u001b[0;32mfor\u001b[0m \u001b[0midx\u001b[0m \u001b[0;32min\u001b[0m \u001b[0mpossibly_batched_index\u001b[0m\u001b[0;34m]\u001b[0m\u001b[0;34m\u001b[0m\u001b[0;34m\u001b[0m\u001b[0m\n\u001b[0m\u001b[1;32m     59\u001b[0m         \u001b[0;32melse\u001b[0m\u001b[0;34m:\u001b[0m\u001b[0;34m\u001b[0m\u001b[0;34m\u001b[0m\u001b[0m\n\u001b[1;32m     60\u001b[0m             \u001b[0mdata\u001b[0m \u001b[0;34m=\u001b[0m \u001b[0mself\u001b[0m\u001b[0;34m.\u001b[0m\u001b[0mdataset\u001b[0m\u001b[0;34m[\u001b[0m\u001b[0mpossibly_batched_index\u001b[0m\u001b[0;34m]\u001b[0m\u001b[0;34m\u001b[0m\u001b[0;34m\u001b[0m\u001b[0m\n",
            "\u001b[0;32m/usr/local/lib/python3.8/dist-packages/torch_geometric/data/dataset.py\u001b[0m in \u001b[0;36m__getitem__\u001b[0;34m(self, idx)\u001b[0m\n\u001b[1;32m    238\u001b[0m \u001b[0;34m\u001b[0m\u001b[0m\n\u001b[1;32m    239\u001b[0m             \u001b[0mdata\u001b[0m \u001b[0;34m=\u001b[0m \u001b[0mself\u001b[0m\u001b[0;34m.\u001b[0m\u001b[0mget\u001b[0m\u001b[0;34m(\u001b[0m\u001b[0mself\u001b[0m\u001b[0;34m.\u001b[0m\u001b[0mindices\u001b[0m\u001b[0;34m(\u001b[0m\u001b[0;34m)\u001b[0m\u001b[0;34m[\u001b[0m\u001b[0midx\u001b[0m\u001b[0;34m]\u001b[0m\u001b[0;34m)\u001b[0m\u001b[0;34m\u001b[0m\u001b[0;34m\u001b[0m\u001b[0m\n\u001b[0;32m--> 240\u001b[0;31m             \u001b[0mdata\u001b[0m \u001b[0;34m=\u001b[0m \u001b[0mdata\u001b[0m \u001b[0;32mif\u001b[0m \u001b[0mself\u001b[0m\u001b[0;34m.\u001b[0m\u001b[0mtransform\u001b[0m \u001b[0;32mis\u001b[0m \u001b[0;32mNone\u001b[0m \u001b[0;32melse\u001b[0m \u001b[0mself\u001b[0m\u001b[0;34m.\u001b[0m\u001b[0mtransform\u001b[0m\u001b[0;34m(\u001b[0m\u001b[0mdata\u001b[0m\u001b[0;34m)\u001b[0m\u001b[0;34m\u001b[0m\u001b[0;34m\u001b[0m\u001b[0m\n\u001b[0m\u001b[1;32m    241\u001b[0m             \u001b[0;32mreturn\u001b[0m \u001b[0mdata\u001b[0m\u001b[0;34m\u001b[0m\u001b[0;34m\u001b[0m\u001b[0m\n\u001b[1;32m    242\u001b[0m \u001b[0;34m\u001b[0m\u001b[0m\n",
            "\u001b[0;32m/usr/local/lib/python3.8/dist-packages/torch_geometric/transforms/compose.py\u001b[0m in \u001b[0;36m__call__\u001b[0;34m(self, data)\u001b[0m\n\u001b[1;32m     22\u001b[0m                 \u001b[0mdata\u001b[0m \u001b[0;34m=\u001b[0m \u001b[0;34m[\u001b[0m\u001b[0mtransform\u001b[0m\u001b[0;34m(\u001b[0m\u001b[0md\u001b[0m\u001b[0;34m)\u001b[0m \u001b[0;32mfor\u001b[0m \u001b[0md\u001b[0m \u001b[0;32min\u001b[0m \u001b[0mdata\u001b[0m\u001b[0;34m]\u001b[0m\u001b[0;34m\u001b[0m\u001b[0;34m\u001b[0m\u001b[0m\n\u001b[1;32m     23\u001b[0m             \u001b[0;32melse\u001b[0m\u001b[0;34m:\u001b[0m\u001b[0;34m\u001b[0m\u001b[0;34m\u001b[0m\u001b[0m\n\u001b[0;32m---> 24\u001b[0;31m                 \u001b[0mdata\u001b[0m \u001b[0;34m=\u001b[0m \u001b[0mtransform\u001b[0m\u001b[0;34m(\u001b[0m\u001b[0mdata\u001b[0m\u001b[0;34m)\u001b[0m\u001b[0;34m\u001b[0m\u001b[0;34m\u001b[0m\u001b[0m\n\u001b[0m\u001b[1;32m     25\u001b[0m         \u001b[0;32mreturn\u001b[0m \u001b[0mdata\u001b[0m\u001b[0;34m\u001b[0m\u001b[0;34m\u001b[0m\u001b[0m\n\u001b[1;32m     26\u001b[0m \u001b[0;34m\u001b[0m\u001b[0m\n",
            "\u001b[0;32m/usr/local/lib/python3.8/dist-packages/torch_geometric/transforms/normalize_scale.py\u001b[0m in \u001b[0;36m__call__\u001b[0;34m(self, data)\u001b[0m\n\u001b[1;32m     13\u001b[0m \u001b[0;34m\u001b[0m\u001b[0m\n\u001b[1;32m     14\u001b[0m     \u001b[0;32mdef\u001b[0m \u001b[0m__call__\u001b[0m\u001b[0;34m(\u001b[0m\u001b[0mself\u001b[0m\u001b[0;34m,\u001b[0m \u001b[0mdata\u001b[0m\u001b[0;34m:\u001b[0m \u001b[0mData\u001b[0m\u001b[0;34m)\u001b[0m \u001b[0;34m->\u001b[0m \u001b[0mData\u001b[0m\u001b[0;34m:\u001b[0m\u001b[0;34m\u001b[0m\u001b[0;34m\u001b[0m\u001b[0m\n\u001b[0;32m---> 15\u001b[0;31m         \u001b[0mdata\u001b[0m \u001b[0;34m=\u001b[0m \u001b[0mself\u001b[0m\u001b[0;34m.\u001b[0m\u001b[0mcenter\u001b[0m\u001b[0;34m(\u001b[0m\u001b[0mdata\u001b[0m\u001b[0;34m)\u001b[0m\u001b[0;34m\u001b[0m\u001b[0;34m\u001b[0m\u001b[0m\n\u001b[0m\u001b[1;32m     16\u001b[0m \u001b[0;34m\u001b[0m\u001b[0m\n\u001b[1;32m     17\u001b[0m         \u001b[0mscale\u001b[0m \u001b[0;34m=\u001b[0m \u001b[0;34m(\u001b[0m\u001b[0;36m1\u001b[0m \u001b[0;34m/\u001b[0m \u001b[0mdata\u001b[0m\u001b[0;34m.\u001b[0m\u001b[0mpos\u001b[0m\u001b[0;34m.\u001b[0m\u001b[0mabs\u001b[0m\u001b[0;34m(\u001b[0m\u001b[0;34m)\u001b[0m\u001b[0;34m.\u001b[0m\u001b[0mmax\u001b[0m\u001b[0;34m(\u001b[0m\u001b[0;34m)\u001b[0m\u001b[0;34m)\u001b[0m \u001b[0;34m*\u001b[0m \u001b[0;36m0.999999\u001b[0m\u001b[0;34m\u001b[0m\u001b[0;34m\u001b[0m\u001b[0m\n",
            "\u001b[0;32m/usr/local/lib/python3.8/dist-packages/torch_geometric/transforms/center.py\u001b[0m in \u001b[0;36m__call__\u001b[0;34m(self, data)\u001b[0m\n\u001b[1;32m     15\u001b[0m     ) -> Union[Data, HeteroData]:\n\u001b[1;32m     16\u001b[0m         \u001b[0;32mfor\u001b[0m \u001b[0mstore\u001b[0m \u001b[0;32min\u001b[0m \u001b[0mdata\u001b[0m\u001b[0;34m.\u001b[0m\u001b[0mnode_stores\u001b[0m\u001b[0;34m:\u001b[0m\u001b[0;34m\u001b[0m\u001b[0;34m\u001b[0m\u001b[0m\n\u001b[0;32m---> 17\u001b[0;31m             \u001b[0;32mif\u001b[0m \u001b[0mhasattr\u001b[0m\u001b[0;34m(\u001b[0m\u001b[0mstore\u001b[0m\u001b[0;34m,\u001b[0m \u001b[0;34m'pos'\u001b[0m\u001b[0;34m)\u001b[0m\u001b[0;34m:\u001b[0m\u001b[0;34m\u001b[0m\u001b[0;34m\u001b[0m\u001b[0m\n\u001b[0m\u001b[1;32m     18\u001b[0m                 \u001b[0mstore\u001b[0m\u001b[0;34m.\u001b[0m\u001b[0mpos\u001b[0m \u001b[0;34m=\u001b[0m \u001b[0mstore\u001b[0m\u001b[0;34m.\u001b[0m\u001b[0mpos\u001b[0m \u001b[0;34m-\u001b[0m \u001b[0mstore\u001b[0m\u001b[0;34m.\u001b[0m\u001b[0mpos\u001b[0m\u001b[0;34m.\u001b[0m\u001b[0mmean\u001b[0m\u001b[0;34m(\u001b[0m\u001b[0mdim\u001b[0m\u001b[0;34m=\u001b[0m\u001b[0;34m-\u001b[0m\u001b[0;36m2\u001b[0m\u001b[0;34m,\u001b[0m \u001b[0mkeepdim\u001b[0m\u001b[0;34m=\u001b[0m\u001b[0;32mTrue\u001b[0m\u001b[0;34m)\u001b[0m\u001b[0;34m\u001b[0m\u001b[0;34m\u001b[0m\u001b[0m\n\u001b[1;32m     19\u001b[0m         \u001b[0;32mreturn\u001b[0m \u001b[0mdata\u001b[0m\u001b[0;34m\u001b[0m\u001b[0;34m\u001b[0m\u001b[0m\n",
            "\u001b[0;32m/usr/local/lib/python3.8/dist-packages/torch_geometric/data/storage.py\u001b[0m in \u001b[0;36m__getattr__\u001b[0;34m(self, key)\u001b[0m\n\u001b[1;32m     58\u001b[0m         \u001b[0;32mreturn\u001b[0m \u001b[0mlen\u001b[0m\u001b[0;34m(\u001b[0m\u001b[0mself\u001b[0m\u001b[0;34m.\u001b[0m\u001b[0m_mapping\u001b[0m\u001b[0;34m)\u001b[0m\u001b[0;34m\u001b[0m\u001b[0;34m\u001b[0m\u001b[0m\n\u001b[1;32m     59\u001b[0m \u001b[0;34m\u001b[0m\u001b[0m\n\u001b[0;32m---> 60\u001b[0;31m     \u001b[0;32mdef\u001b[0m \u001b[0m__getattr__\u001b[0m\u001b[0;34m(\u001b[0m\u001b[0mself\u001b[0m\u001b[0;34m,\u001b[0m \u001b[0mkey\u001b[0m\u001b[0;34m:\u001b[0m \u001b[0mstr\u001b[0m\u001b[0;34m)\u001b[0m \u001b[0;34m->\u001b[0m \u001b[0mAny\u001b[0m\u001b[0;34m:\u001b[0m\u001b[0;34m\u001b[0m\u001b[0;34m\u001b[0m\u001b[0m\n\u001b[0m\u001b[1;32m     61\u001b[0m         \u001b[0;32mif\u001b[0m \u001b[0mkey\u001b[0m \u001b[0;34m==\u001b[0m \u001b[0;34m'_mapping'\u001b[0m\u001b[0;34m:\u001b[0m\u001b[0;34m\u001b[0m\u001b[0;34m\u001b[0m\u001b[0m\n\u001b[1;32m     62\u001b[0m             \u001b[0mself\u001b[0m\u001b[0;34m.\u001b[0m\u001b[0m_mapping\u001b[0m \u001b[0;34m=\u001b[0m \u001b[0;34m{\u001b[0m\u001b[0;34m}\u001b[0m\u001b[0;34m\u001b[0m\u001b[0;34m\u001b[0m\u001b[0m\n",
            "\u001b[0;31mKeyboardInterrupt\u001b[0m: "
          ]
        }
      ],
      "source": [
        "from src.engine import train, evaluate\n",
        "from src.utils import calculate_accuracy\n",
        "\n",
        "EPOCHS = 200\n",
        "train_loss = []\n",
        "train_acc = []\n",
        "valid_loss = []\n",
        "valid_acc = []\n",
        "best_loss = float('inf')\n",
        "best_loss = float('inf')\n",
        "if prev_loss is not None:\n",
        "  print(f\"Training from previous best loss: {prev_loss}\")\n",
        "  best_loss = prev_loss\n",
        "\n",
        "for epoch in range(1, EPOCHS + 1):\n",
        "  print(f\"\\nEpoch: {epoch}\\n\")\n",
        "  loss, acc = train(model, train_loader, criterion, optimizer, device)\n",
        "  train_loss.append(loss)\n",
        "  train_acc.append(acc)\n",
        "  print(f\"Train Loss: {train_loss[-1]:.3f}, Train Accuracy: {train_acc[-1]:.2f}\")\n",
        "\n",
        "  loss, acc = evaluate(model, valid_loader, criterion, device)\n",
        "  valid_loss.append(loss)\n",
        "  valid_acc.append(acc)\n",
        "  print(f\"Validation Loss: {valid_loss[-1]:.3f}, Validation Accuracy: {valid_acc[-1]:.2f}\")\n",
        "\n",
        "  if loss < best_loss:\n",
        "    best_loss = loss\n",
        "    torch.save(model.state_dict(), path)"
      ]
    },
    {
      "cell_type": "markdown",
      "metadata": {
        "id": "GIu5vZ3d2jNJ"
      },
      "source": [
        "## Evaluate on the Test set"
      ]
    },
    {
      "cell_type": "code",
      "execution_count": 12,
      "metadata": {
        "id": "q5oWJj8g11MF",
        "colab": {
          "base_uri": "https://localhost:8080/"
        },
        "outputId": "5d0ba92a-8860-417f-bfbb-fbba307a4315"
      },
      "outputs": [
        {
          "output_type": "stream",
          "name": "stdout",
          "text": [
            "Test Loss: 1.435\n",
            "Test Accuracy: 0.48%\n"
          ]
        }
      ],
      "source": [
        "# load best model\n",
        "model.load_state_dict(torch.load(path))\n",
        "test_loss, test_acc = evaluate(model.to(device), test_loader, criterion, device)\n",
        "print(f\"Test Loss: {test_loss:.3f}\")\n",
        "print(f\"Test Accuracy: {test_acc:.2f}%\")"
      ]
    },
    {
      "cell_type": "markdown",
      "metadata": {
        "id": "qvOfsB752las"
      },
      "source": [
        "## Plot Loss and Accuracy Curves"
      ]
    },
    {
      "cell_type": "code",
      "execution_count": 13,
      "metadata": {
        "id": "gk6I1WkDvWmE",
        "colab": {
          "base_uri": "https://localhost:8080/",
          "height": 265
        },
        "outputId": "c5798b6f-2e4d-4b34-d1f1-becbf7e6c592"
      },
      "outputs": [
        {
          "output_type": "display_data",
          "data": {
            "text/plain": [
              "<Figure size 432x288 with 1 Axes>"
            ],
            "image/png": "[encoded data removed]"
          },
          "metadata": {
            "needs_background": "light"
          }
        }
      ],
      "source": [
        "import matplotlib.pyplot as plt\n",
        "\n",
        "x = [i for i in range(len(valid_loss))]\n",
        "\n",
        "plt.plot(x, train_loss, label=\"Train Loss\")\n",
        "plt.plot(x, valid_loss, label=\"Validation Loss\")\n",
        "plt.legend()\n",
        "plt.show()"
      ]
    },
    {
      "cell_type": "code",
      "execution_count": 14,
      "metadata": {
        "id": "A-xP3uX63aT8",
        "colab": {
          "base_uri": "https://localhost:8080/",
          "height": 265
        },
        "outputId": "485bc4c9-71cf-4ee0-b88f-25310fb15889"
      },
      "outputs": [
        {
          "output_type": "display_data",
          "data": {
            "text/plain": [
              "<Figure size 432x288 with 1 Axes>"
            ],
            "image/png": "[encoded data removed]"
          },
          "metadata": {
            "needs_background": "light"
          }
        }
      ],
      "source": [
        "plt.plot(x, train_acc, label=\"Train Accuracy\")\n",
        "plt.plot(x, valid_acc, label=\"Validation Accuracy\")\n",
        "plt.legend()\n",
        "plt.show()"
      ]
    },
    {
      "cell_type": "code",
      "execution_count": null,
      "metadata": {
        "id": "D_FdIR923n9N"
      },
      "outputs": [],
      "source": []
    }
  ],
  "metadata": {
    "accelerator": "GPU",
    "colab": {
      "provenance": []
    },
    "gpuClass": "standard",
    "kernelspec": {
      "display_name": "pyg",
      "language": "python",
      "name": "python3"
    },
    "language_info": {
      "codemirror_mode": {
        "name": "ipython",
        "version": 3
      },
      "file_extension": ".py",
      "mimetype": "text/x-python",
      "name": "python",
      "nbconvert_exporter": "python",
      "pygments_lexer": "ipython3",
      "version": "3.9.15 (main, Nov 24 2022, 14:31:59) \n[GCC 11.2.0]"
    },
    "vscode": {
      "interpreter": {
        "hash": "602fd2f1343589d3bd6f27fae416162c1bba08e244faa27258d2511dac84d913"
      }
    }
  },
  "nbformat": 4,
  "nbformat_minor": 0
}