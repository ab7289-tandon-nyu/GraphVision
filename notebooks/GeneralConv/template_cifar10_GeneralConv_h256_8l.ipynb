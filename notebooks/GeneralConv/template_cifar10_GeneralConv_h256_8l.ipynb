{
  "cells": [
    {
      "cell_type": "code",
      "execution_count": 1,
      "metadata": {
        "colab": {
          "base_uri": "https://localhost:8080/"
        },
        "id": "HQeBbCYZlhKn",
        "outputId": "0019c5c2-c013-458e-d365-3e89d0cdebda"
      },
      "outputs": [
        {
          "output_type": "stream",
          "name": "stdout",
          "text": [
            "1.13.0+cu116\n",
            "\u001b[K     |████████████████████████████████| 9.4 MB 19.3 MB/s \n",
            "\u001b[K     |████████████████████████████████| 4.6 MB 35.4 MB/s \n",
            "\u001b[K     |████████████████████████████████| 3.2 MB 18.8 MB/s \n",
            "\u001b[K     |████████████████████████████████| 512 kB 24.8 MB/s \n",
            "\u001b[K     |████████████████████████████████| 280 kB 73.0 MB/s \n",
            "\u001b[?25h  Building wheel for torch-geometric (setup.py) ... \u001b[?25l\u001b[?25hdone\n"
          ]
        }
      ],
      "source": [
        "# Install required packages.\n",
        "import os\n",
        "import torch\n",
        "os.environ['TORCH'] = torch.__version__\n",
        "print(torch.__version__)\n",
        "\n",
        "!pip install -q torch-scatter -f https://data.pyg.org/whl/torch-${TORCH}.html\n",
        "!pip install -q torch-sparse -f https://data.pyg.org/whl/torch-${TORCH}.html\n",
        "!pip install -q torch-cluster -f https://data.pyg.org/whl/torch-${TORCH}.html\n",
        "!pip install -q git+https://github.com/pyg-team/pytorch_geometric.git"
      ]
    },
    {
      "cell_type": "code",
      "execution_count": 2,
      "metadata": {
        "colab": {
          "base_uri": "https://localhost:8080/"
        },
        "id": "NUnIVvd-lxxZ",
        "outputId": "505b65be-8b54-42db-ae60-90d57daec5f7"
      },
      "outputs": [
        {
          "output_type": "stream",
          "name": "stdout",
          "text": [
            "  Installing build dependencies ... \u001b[?25l\u001b[?25hdone\n",
            "  Getting requirements to build wheel ... \u001b[?25l\u001b[?25hdone\n",
            "    Preparing wheel metadata ... \u001b[?25l\u001b[?25hdone\n",
            "\u001b[K     |████████████████████████████████| 121 kB 31.2 MB/s \n",
            "\u001b[K     |████████████████████████████████| 1.6 MB 56.0 MB/s \n",
            "\u001b[K     |████████████████████████████████| 83 kB 1.7 MB/s \n",
            "\u001b[?25h  Building wheel for GraphVision (PEP 517) ... \u001b[?25l\u001b[?25hdone\n"
          ]
        }
      ],
      "source": [
        "# Install our repo\n",
        "# !git clone -b models \"https://github.com/ab7289-tandon-nyu/GraphVision.git\"\n",
        "# !cp -r /content/GraphVision/src/ .\n",
        "\n",
        "!pip install -q git+https://github.com/ab7289-tandon-nyu/GraphVision.git"
      ]
    },
    {
      "cell_type": "code",
      "execution_count": 3,
      "metadata": {
        "id": "4hY3Lomuoya8"
      },
      "outputs": [],
      "source": [
        "SEED = 1234\n",
        "\n",
        "torch.manual_seed(SEED)\n",
        "torch.cuda.manual_seed(SEED)\n",
        "torch.backends.cudnn.deterministic = True"
      ]
    },
    {
      "cell_type": "code",
      "execution_count": 4,
      "metadata": {
        "id": "aRsA5BNGS7Y5"
      },
      "outputs": [],
      "source": [
        "# from google.colab import drive\n",
        "# drive.mount(\"/content/drive\")"
      ]
    },
    {
      "cell_type": "code",
      "execution_count": 5,
      "metadata": {
        "colab": {
          "base_uri": "https://localhost:8080/"
        },
        "id": "Wuj1_P_3m0-l",
        "outputId": "a1043a6b-eb33-424d-bd51-c9fc93fa5fd1"
      },
      "outputs": [
        {
          "output_type": "stream",
          "name": "stderr",
          "text": [
            "Downloading https://data.pyg.org/datasets/benchmarking-gnns/CIFAR10_v2.zip\n",
            "Extracting .data/CIFAR10/raw/CIFAR10_v2.zip\n",
            "Processing...\n",
            "Done!\n"
          ]
        }
      ],
      "source": [
        "from src.transforms import get_transforms\n",
        "from src.datasets import get_datasets, get_dataloaders\n",
        "\n",
        "transforms = get_transforms(\"cartesian\")\n",
        "train_dataset, valid_dataset, test_dataset = get_datasets(\".data/\", \n",
        "                        \"CIFAR10\", pre_transforms = None,\n",
        "                        transforms = transforms)\n",
        "BATCH_SIZE = 128\n",
        "\n",
        "train_loader, valid_loader, test_loader = get_dataloaders(train_dataset,\n",
        "                                                          valid_dataset,\n",
        "                                                          test_dataset,\n",
        "                                                          batch_size=(BATCH_SIZE, 1, 1),\n",
        "                                                          drop_last = False)"
      ]
    },
    {
      "cell_type": "markdown",
      "metadata": {
        "id": "Sjmgy7RvoJN-"
      },
      "source": [
        "## Review batch attributes"
      ]
    },
    {
      "cell_type": "code",
      "execution_count": 6,
      "metadata": {
        "colab": {
          "base_uri": "https://localhost:8080/"
        },
        "id": "-QCa0O4IoM6U",
        "outputId": "dbc75f52-5d38-4973-bcc6-110fc23b048a"
      },
      "outputs": [
        {
          "output_type": "stream",
          "name": "stdout",
          "text": [
            "\n",
            "DataBatch(x=[14981, 3], edge_index=[2, 134829], edge_attr=[134829, 2], y=[128], pos=[14981, 2], edge_weight=[134829], batch=[14981], ptr=[129])\n",
            "=====================================================================\n",
            "Number of features:  3\n",
            "Number of node features: 3\n",
            "Number of nodes: 14981\n",
            "Number of edges: 134829\n",
            "Average node degree: 9.00\n",
            "Has isolated nodes: False\n",
            "Has self-loops: True\n"
          ]
        }
      ],
      "source": [
        "sample_batch = next(iter(train_loader))\n",
        "\n",
        "print()\n",
        "print(sample_batch)\n",
        "print(\"=====================================================================\")\n",
        "\n",
        "# Gather some statistics about the first graph.\n",
        "print(f\"Number of features:  {sample_batch.num_features}\")\n",
        "print(f\"Number of node features: {sample_batch.num_node_features}\")\n",
        "print(f'Number of nodes: {sample_batch.num_nodes}')\n",
        "print(f'Number of edges: {sample_batch.num_edges}')\n",
        "print(f'Average node degree: {sample_batch.num_edges / sample_batch.num_nodes:.2f}')\n",
        "print(f'Has isolated nodes: {sample_batch.has_isolated_nodes()}')\n",
        "print(f'Has self-loops: {sample_batch.has_self_loops()}')"
      ]
    },
    {
      "cell_type": "code",
      "execution_count": 7,
      "metadata": {
        "colab": {
          "base_uri": "https://localhost:8080/"
        },
        "id": "tu3VtmrWpnZx",
        "outputId": "040247b5-4b92-40d4-acb9-b530b567a22d"
      },
      "outputs": [
        {
          "output_type": "stream",
          "name": "stdout",
          "text": [
            "Number of features: 3\n",
            "Number of classes: 10\n",
            "Edge Attr Dimension: 2\n"
          ]
        }
      ],
      "source": [
        "# store edge dimension\n",
        "edge_dim = sample_batch.edge_attr.size(-1)\n",
        "edge_dim\n",
        "# store number of features in graph batch\n",
        "input_features = test_dataset.num_features\n",
        "# store number of classes for classification\n",
        "num_classes = test_dataset.num_classes\n",
        "\n",
        "print(f\"Number of features: {input_features}\")\n",
        "print(f\"Number of classes: {num_classes}\")\n",
        "print(f\"Edge Attr Dimension: {edge_dim}\")"
      ]
    },
    {
      "cell_type": "code",
      "execution_count": 8,
      "metadata": {
        "colab": {
          "base_uri": "https://localhost:8080/"
        },
        "id": "rqiZaFw2ps9r",
        "outputId": "3da93da3-2499-4f41-dd32-70bf32047172"
      },
      "outputs": [
        {
          "output_type": "stream",
          "name": "stdout",
          "text": [
            "Creating new Model\n"
          ]
        }
      ],
      "source": [
        "from pathlib import Path\n",
        "\n",
        "save_loc = \"\" # put save location here\n",
        "model_name = \"GeneralConv_clus-false_BN_RELU_h256_layer8.pt\"\n",
        "\n",
        "file_path = save_loc + model_name\n",
        "path = Path(file_path)\n",
        "state_dict = None\n",
        "if path.exists() and path.is_file():\n",
        "  print(\"Found Save!\")\n",
        "  state_dict = torch.load(path)\n",
        "else:\n",
        "  print(\"Creating new Model\")"
      ]
    },
    {
      "cell_type": "markdown",
      "metadata": {
        "id": "gGiE28k32eUr"
      },
      "source": [
        "## Create our Model"
      ]
    },
    {
      "cell_type": "code",
      "execution_count": 9,
      "metadata": {
        "id": "epF5kpJcqWJw"
      },
      "outputs": [],
      "source": [
        "from src.models import DeeperGCN\n",
        "from src.engine import evaluate\n",
        "\n",
        "hidden_features = 256\n",
        "\n",
        "device = torch.device(\"cuda\" if torch.cuda.is_available() else \"cpu\")\n",
        "model = DeeperGCN(\n",
        "    input_features,\n",
        "    num_classes,\n",
        "    hidden_features,\n",
        "    conv_type = \"General\",\n",
        "    act = \"relu\",\n",
        "    norm = \"batch\",\n",
        "    num_layers = 8,\n",
        "    use_cluster_pooling = False,\n",
        "    readout = \"mean\",\n",
        "    dropout = 0.2,\n",
        "    edge_dim = edge_dim\n",
        ").to(device)\n",
        "criterion = torch.nn.CrossEntropyLoss().to(device)\n",
        "prev_loss = None\n",
        "if state_dict is not None:\n",
        "  print(\"Loading previously saved state dictionary\")\n",
        "  model.load_state_dict(state_dict)\n",
        "  prev_loss, _ = evaluate(model.to(device), test_loader, criterion, device)\n",
        "optimizer = torch.optim.Adam(model.parameters(), lr=0.01)"
      ]
    },
    {
      "cell_type": "code",
      "execution_count": 10,
      "metadata": {
        "colab": {
          "base_uri": "https://localhost:8080/"
        },
        "id": "fsm1MwvSr0nU",
        "outputId": "ed95cc3c-b194-4236-9230-9d4a22dd1761"
      },
      "outputs": [
        {
          "output_type": "stream",
          "name": "stdout",
          "text": [
            "There are 540,170 trainable parameters.\n",
            "\n",
            "DeeperGCN(\n",
            "  (fc_in): Linear(in_features=3, out_features=256, bias=True)\n",
            "  (fc_out): Linear(in_features=256, out_features=10, bias=True)\n",
            "  (out_act): ReLU(inplace=True)\n",
            "  (layers): ModuleList(\n",
            "    (0): DeepGCNLayer(block=res+)\n",
            "    (1): DeepGCNLayer(block=res+)\n",
            "    (2): DeepGCNLayer(block=res+)\n",
            "    (3): DeepGCNLayer(block=res+)\n",
            "    (4): DeepGCNLayer(block=res+)\n",
            "    (5): DeepGCNLayer(block=res+)\n",
            "    (6): DeepGCNLayer(block=res+)\n",
            "    (7): DeepGCNLayer(block=res+)\n",
            "  )\n",
            ")\n"
          ]
        }
      ],
      "source": [
        "params = sum([p.numel() for p in model.parameters() if p.requires_grad])\n",
        "print(f\"There are {params:,} trainable parameters.\")\n",
        "print()\n",
        "print(model)"
      ]
    },
    {
      "cell_type": "markdown",
      "source": [
        "```\n",
        "There are 540,170 trainable parameters.\n",
        "\n",
        "DeeperGCN(\n",
        "  (fc_in): Linear(in_features=3, out_features=256, bias=True)\n",
        "  (fc_out): Linear(in_features=256, out_features=10, bias=True)\n",
        "  (out_act): ReLU(inplace=True)\n",
        "  (layers): ModuleList(\n",
        "    (0): DeepGCNLayer(block=res+)\n",
        "    (1): DeepGCNLayer(block=res+)\n",
        "    (2): DeepGCNLayer(block=res+)\n",
        "    (3): DeepGCNLayer(block=res+)\n",
        "    (4): DeepGCNLayer(block=res+)\n",
        "    (5): DeepGCNLayer(block=res+)\n",
        "    (6): DeepGCNLayer(block=res+)\n",
        "    (7): DeepGCNLayer(block=res+)\n",
        "  )\n",
        ")\n",
        "```"
      ],
      "metadata": {
        "id": "4NhOYlrXUSR2"
      }
    },
    {
      "cell_type": "markdown",
      "metadata": {
        "id": "uuoamYXu2hf-"
      },
      "source": [
        "## Train"
      ]
    },
    {
      "cell_type": "code",
      "execution_count": 11,
      "metadata": {
        "colab": {
          "base_uri": "https://localhost:8080/"
        },
        "id": "8pyJ2olIr9pi",
        "outputId": "2a5f373d-18df-4ea8-a350-d74767685832"
      },
      "outputs": [
        {
          "output_type": "stream",
          "name": "stdout",
          "text": [
            "\n",
            "Epoch: 1\n",
            "\n",
            "Train Loss: 3.594, Train Accuracy: 0.15\n",
            "Validation Loss: 2.106, Validation Accuracy: 0.20\n",
            "\n",
            "Epoch: 2\n",
            "\n",
            "Train Loss: 2.158, Train Accuracy: 0.17\n",
            "Validation Loss: 2.196, Validation Accuracy: 0.16\n",
            "\n",
            "Epoch: 3\n",
            "\n",
            "Train Loss: 2.140, Train Accuracy: 0.18\n",
            "Validation Loss: 2.110, Validation Accuracy: 0.19\n",
            "\n",
            "Epoch: 4\n",
            "\n",
            "Train Loss: 2.114, Train Accuracy: 0.19\n",
            "Validation Loss: 2.049, Validation Accuracy: 0.21\n",
            "\n",
            "Epoch: 5\n",
            "\n",
            "Train Loss: 2.101, Train Accuracy: 0.20\n",
            "Validation Loss: 1.991, Validation Accuracy: 0.21\n",
            "\n",
            "Epoch: 6\n",
            "\n",
            "Train Loss: 2.095, Train Accuracy: 0.20\n",
            "Validation Loss: 2.034, Validation Accuracy: 0.21\n",
            "\n",
            "Epoch: 7\n",
            "\n",
            "Train Loss: 2.078, Train Accuracy: 0.20\n",
            "Validation Loss: 1.986, Validation Accuracy: 0.24\n",
            "\n",
            "Epoch: 8\n",
            "\n",
            "Train Loss: 2.025, Train Accuracy: 0.23\n",
            "Validation Loss: 2.011, Validation Accuracy: 0.23\n",
            "\n",
            "Epoch: 9\n",
            "\n",
            "Train Loss: 1.995, Train Accuracy: 0.23\n",
            "Validation Loss: 1.879, Validation Accuracy: 0.28\n",
            "\n",
            "Epoch: 10\n",
            "\n",
            "Train Loss: 1.966, Train Accuracy: 0.24\n",
            "Validation Loss: 1.870, Validation Accuracy: 0.27\n",
            "\n",
            "Epoch: 11\n",
            "\n",
            "Train Loss: 1.929, Train Accuracy: 0.25\n",
            "Validation Loss: 2.017, Validation Accuracy: 0.24\n",
            "\n",
            "Epoch: 12\n",
            "\n",
            "Train Loss: 1.909, Train Accuracy: 0.26\n",
            "Validation Loss: 1.852, Validation Accuracy: 0.30\n",
            "\n",
            "Epoch: 13\n",
            "\n",
            "Train Loss: 1.900, Train Accuracy: 0.27\n",
            "Validation Loss: 1.803, Validation Accuracy: 0.29\n",
            "\n",
            "Epoch: 14\n",
            "\n",
            "Train Loss: 1.870, Train Accuracy: 0.28\n",
            "Validation Loss: 1.864, Validation Accuracy: 0.29\n",
            "\n",
            "Epoch: 15\n",
            "\n",
            "Train Loss: 1.860, Train Accuracy: 0.29\n",
            "Validation Loss: 1.761, Validation Accuracy: 0.33\n",
            "\n",
            "Epoch: 16\n",
            "\n",
            "Train Loss: 1.849, Train Accuracy: 0.30\n",
            "Validation Loss: 1.738, Validation Accuracy: 0.34\n",
            "\n",
            "Epoch: 17\n",
            "\n",
            "Train Loss: 1.831, Train Accuracy: 0.31\n",
            "Validation Loss: 1.772, Validation Accuracy: 0.34\n",
            "\n",
            "Epoch: 18\n",
            "\n",
            "Train Loss: 1.815, Train Accuracy: 0.31\n",
            "Validation Loss: 1.729, Validation Accuracy: 0.33\n",
            "\n",
            "Epoch: 19\n",
            "\n",
            "Train Loss: 1.810, Train Accuracy: 0.31\n",
            "Validation Loss: 1.734, Validation Accuracy: 0.35\n",
            "\n",
            "Epoch: 20\n",
            "\n",
            "Train Loss: 1.794, Train Accuracy: 0.32\n",
            "Validation Loss: 1.672, Validation Accuracy: 0.37\n",
            "\n",
            "Epoch: 21\n",
            "\n",
            "Train Loss: 1.792, Train Accuracy: 0.33\n",
            "Validation Loss: 1.712, Validation Accuracy: 0.38\n",
            "\n",
            "Epoch: 22\n",
            "\n",
            "Train Loss: 1.781, Train Accuracy: 0.33\n",
            "Validation Loss: 1.658, Validation Accuracy: 0.38\n",
            "\n",
            "Epoch: 23\n",
            "\n",
            "Train Loss: 1.780, Train Accuracy: 0.33\n",
            "Validation Loss: 1.743, Validation Accuracy: 0.36\n",
            "\n",
            "Epoch: 24\n",
            "\n",
            "Train Loss: 1.777, Train Accuracy: 0.33\n",
            "Validation Loss: 1.791, Validation Accuracy: 0.35\n",
            "\n",
            "Epoch: 25\n",
            "\n",
            "Train Loss: 1.773, Train Accuracy: 0.34\n",
            "Validation Loss: 1.761, Validation Accuracy: 0.34\n",
            "\n",
            "Epoch: 26\n",
            "\n",
            "Train Loss: 1.776, Train Accuracy: 0.34\n",
            "Validation Loss: 1.607, Validation Accuracy: 0.40\n",
            "\n",
            "Epoch: 27\n",
            "\n",
            "Train Loss: 1.767, Train Accuracy: 0.34\n",
            "Validation Loss: 1.617, Validation Accuracy: 0.41\n",
            "\n",
            "Epoch: 28\n",
            "\n",
            "Train Loss: 1.754, Train Accuracy: 0.35\n",
            "Validation Loss: 1.698, Validation Accuracy: 0.36\n",
            "\n",
            "Epoch: 29\n",
            "\n",
            "Train Loss: 1.747, Train Accuracy: 0.35\n",
            "Validation Loss: 1.630, Validation Accuracy: 0.39\n",
            "\n",
            "Epoch: 30\n",
            "\n",
            "Train Loss: 1.741, Train Accuracy: 0.35\n",
            "Validation Loss: 1.614, Validation Accuracy: 0.42\n",
            "\n",
            "Epoch: 31\n",
            "\n",
            "Train Loss: 1.745, Train Accuracy: 0.35\n",
            "Validation Loss: 1.587, Validation Accuracy: 0.43\n",
            "\n",
            "Epoch: 32\n",
            "\n",
            "Train Loss: 1.737, Train Accuracy: 0.35\n",
            "Validation Loss: 1.629, Validation Accuracy: 0.40\n",
            "\n",
            "Epoch: 33\n",
            "\n",
            "Train Loss: 1.732, Train Accuracy: 0.35\n",
            "Validation Loss: 1.597, Validation Accuracy: 0.41\n",
            "\n",
            "Epoch: 34\n",
            "\n",
            "Train Loss: 1.731, Train Accuracy: 0.35\n",
            "Validation Loss: 1.666, Validation Accuracy: 0.38\n",
            "\n",
            "Epoch: 35\n",
            "\n",
            "Train Loss: 1.724, Train Accuracy: 0.36\n",
            "Validation Loss: 1.603, Validation Accuracy: 0.40\n",
            "\n",
            "Epoch: 36\n",
            "\n",
            "Train Loss: 1.726, Train Accuracy: 0.36\n",
            "Validation Loss: 1.631, Validation Accuracy: 0.41\n",
            "\n",
            "Epoch: 37\n",
            "\n",
            "Train Loss: 1.724, Train Accuracy: 0.36\n",
            "Validation Loss: 1.630, Validation Accuracy: 0.41\n",
            "\n",
            "Epoch: 38\n",
            "\n",
            "Train Loss: 1.724, Train Accuracy: 0.36\n",
            "Validation Loss: 1.614, Validation Accuracy: 0.40\n",
            "\n",
            "Epoch: 39\n",
            "\n",
            "Train Loss: 1.712, Train Accuracy: 0.36\n",
            "Validation Loss: 1.666, Validation Accuracy: 0.39\n",
            "\n",
            "Epoch: 40\n",
            "\n",
            "Train Loss: 1.707, Train Accuracy: 0.37\n",
            "Validation Loss: 1.573, Validation Accuracy: 0.42\n",
            "\n",
            "Epoch: 41\n",
            "\n",
            "Train Loss: 1.714, Train Accuracy: 0.37\n",
            "Validation Loss: 1.603, Validation Accuracy: 0.43\n",
            "\n",
            "Epoch: 42\n",
            "\n",
            "Train Loss: 1.701, Train Accuracy: 0.37\n",
            "Validation Loss: 1.596, Validation Accuracy: 0.44\n",
            "\n",
            "Epoch: 43\n",
            "\n",
            "Train Loss: 1.707, Train Accuracy: 0.37\n",
            "Validation Loss: 1.589, Validation Accuracy: 0.43\n",
            "\n",
            "Epoch: 44\n",
            "\n",
            "Train Loss: 1.698, Train Accuracy: 0.37\n",
            "Validation Loss: 1.645, Validation Accuracy: 0.39\n",
            "\n",
            "Epoch: 45\n",
            "\n",
            "Train Loss: 1.692, Train Accuracy: 0.37\n",
            "Validation Loss: 1.566, Validation Accuracy: 0.42\n",
            "\n",
            "Epoch: 46\n",
            "\n",
            "Train Loss: 1.694, Train Accuracy: 0.37\n",
            "Validation Loss: 1.560, Validation Accuracy: 0.44\n",
            "\n",
            "Epoch: 47\n",
            "\n",
            "Train Loss: 1.695, Train Accuracy: 0.38\n",
            "Validation Loss: 1.756, Validation Accuracy: 0.35\n",
            "\n",
            "Epoch: 48\n",
            "\n",
            "Train Loss: 1.690, Train Accuracy: 0.37\n",
            "Validation Loss: 1.577, Validation Accuracy: 0.43\n",
            "\n",
            "Epoch: 49\n",
            "\n",
            "Train Loss: 1.697, Train Accuracy: 0.38\n",
            "Validation Loss: 1.645, Validation Accuracy: 0.39\n",
            "\n",
            "Epoch: 50\n",
            "\n",
            "Train Loss: 1.682, Train Accuracy: 0.38\n",
            "Validation Loss: 1.538, Validation Accuracy: 0.44\n",
            "\n",
            "Epoch: 51\n",
            "\n",
            "Train Loss: 1.676, Train Accuracy: 0.38\n",
            "Validation Loss: 1.532, Validation Accuracy: 0.46\n",
            "\n",
            "Epoch: 52\n",
            "\n",
            "Train Loss: 1.680, Train Accuracy: 0.38\n",
            "Validation Loss: 1.544, Validation Accuracy: 0.45\n",
            "\n",
            "Epoch: 53\n",
            "\n",
            "Train Loss: 1.683, Train Accuracy: 0.38\n",
            "Validation Loss: 1.589, Validation Accuracy: 0.43\n",
            "\n",
            "Epoch: 54\n",
            "\n",
            "Train Loss: 1.676, Train Accuracy: 0.38\n",
            "Validation Loss: 1.564, Validation Accuracy: 0.44\n",
            "\n",
            "Epoch: 55\n",
            "\n",
            "Train Loss: 1.675, Train Accuracy: 0.38\n",
            "Validation Loss: 1.543, Validation Accuracy: 0.43\n",
            "\n",
            "Epoch: 56\n",
            "\n",
            "Train Loss: 1.676, Train Accuracy: 0.38\n",
            "Validation Loss: 1.554, Validation Accuracy: 0.44\n",
            "\n",
            "Epoch: 57\n",
            "\n",
            "Train Loss: 1.689, Train Accuracy: 0.38\n",
            "Validation Loss: 1.554, Validation Accuracy: 0.42\n",
            "\n",
            "Epoch: 58\n",
            "\n",
            "Train Loss: 1.675, Train Accuracy: 0.38\n",
            "Validation Loss: 1.568, Validation Accuracy: 0.42\n",
            "\n",
            "Epoch: 59\n",
            "\n",
            "Train Loss: 1.668, Train Accuracy: 0.38\n",
            "Validation Loss: 1.556, Validation Accuracy: 0.43\n",
            "\n",
            "Epoch: 60\n",
            "\n",
            "Train Loss: 1.673, Train Accuracy: 0.38\n",
            "Validation Loss: 1.549, Validation Accuracy: 0.43\n",
            "\n",
            "Epoch: 61\n",
            "\n",
            "Train Loss: 1.664, Train Accuracy: 0.39\n",
            "Validation Loss: 1.546, Validation Accuracy: 0.44\n",
            "\n",
            "Epoch: 62\n",
            "\n",
            "Train Loss: 1.657, Train Accuracy: 0.39\n",
            "Validation Loss: 1.572, Validation Accuracy: 0.44\n",
            "\n",
            "Epoch: 63\n",
            "\n",
            "Train Loss: 1.667, Train Accuracy: 0.38\n",
            "Validation Loss: 1.541, Validation Accuracy: 0.44\n",
            "\n",
            "Epoch: 64\n",
            "\n",
            "Train Loss: 1.666, Train Accuracy: 0.39\n",
            "Validation Loss: 1.502, Validation Accuracy: 0.46\n",
            "\n",
            "Epoch: 65\n",
            "\n",
            "Train Loss: 1.658, Train Accuracy: 0.39\n",
            "Validation Loss: 1.514, Validation Accuracy: 0.46\n",
            "\n",
            "Epoch: 66\n",
            "\n",
            "Train Loss: 1.651, Train Accuracy: 0.39\n",
            "Validation Loss: 1.523, Validation Accuracy: 0.45\n",
            "\n",
            "Epoch: 67\n",
            "\n",
            "Train Loss: 1.658, Train Accuracy: 0.39\n",
            "Validation Loss: 1.488, Validation Accuracy: 0.46\n",
            "\n",
            "Epoch: 68\n",
            "\n",
            "Train Loss: 1.647, Train Accuracy: 0.40\n",
            "Validation Loss: 1.624, Validation Accuracy: 0.41\n",
            "\n",
            "Epoch: 69\n",
            "\n",
            "Train Loss: 1.647, Train Accuracy: 0.40\n",
            "Validation Loss: 1.549, Validation Accuracy: 0.45\n",
            "\n",
            "Epoch: 70\n",
            "\n",
            "Train Loss: 1.652, Train Accuracy: 0.39\n",
            "Validation Loss: 1.528, Validation Accuracy: 0.44\n",
            "\n",
            "Epoch: 71\n",
            "\n",
            "Train Loss: 1.651, Train Accuracy: 0.39\n",
            "Validation Loss: 1.553, Validation Accuracy: 0.45\n",
            "\n",
            "Epoch: 72\n",
            "\n",
            "Train Loss: 1.655, Train Accuracy: 0.39\n",
            "Validation Loss: 1.477, Validation Accuracy: 0.48\n",
            "\n",
            "Epoch: 73\n",
            "\n",
            "Train Loss: 1.654, Train Accuracy: 0.39\n",
            "Validation Loss: 1.531, Validation Accuracy: 0.46\n",
            "\n",
            "Epoch: 74\n",
            "\n",
            "Train Loss: 1.648, Train Accuracy: 0.39\n",
            "Validation Loss: 1.509, Validation Accuracy: 0.44\n",
            "\n",
            "Epoch: 75\n",
            "\n",
            "Train Loss: 1.649, Train Accuracy: 0.39\n",
            "Validation Loss: 1.492, Validation Accuracy: 0.47\n",
            "\n",
            "Epoch: 76\n",
            "\n",
            "Train Loss: 1.642, Train Accuracy: 0.39\n",
            "Validation Loss: 1.484, Validation Accuracy: 0.47\n",
            "\n",
            "Epoch: 77\n",
            "\n",
            "Train Loss: 1.635, Train Accuracy: 0.40\n",
            "Validation Loss: 1.500, Validation Accuracy: 0.46\n",
            "\n",
            "Epoch: 78\n",
            "\n",
            "Train Loss: 1.640, Train Accuracy: 0.40\n",
            "Validation Loss: 1.490, Validation Accuracy: 0.47\n",
            "\n",
            "Epoch: 79\n",
            "\n",
            "Train Loss: 1.643, Train Accuracy: 0.39\n",
            "Validation Loss: 1.531, Validation Accuracy: 0.44\n",
            "\n",
            "Epoch: 80\n",
            "\n",
            "Train Loss: 1.639, Train Accuracy: 0.40\n",
            "Validation Loss: 1.533, Validation Accuracy: 0.44\n",
            "\n",
            "Epoch: 81\n",
            "\n",
            "Train Loss: 1.640, Train Accuracy: 0.40\n",
            "Validation Loss: 1.530, Validation Accuracy: 0.44\n",
            "\n",
            "Epoch: 82\n",
            "\n",
            "Train Loss: 1.644, Train Accuracy: 0.40\n",
            "Validation Loss: 1.504, Validation Accuracy: 0.45\n",
            "\n",
            "Epoch: 83\n",
            "\n",
            "Train Loss: 1.636, Train Accuracy: 0.40\n",
            "Validation Loss: 1.550, Validation Accuracy: 0.43\n",
            "\n",
            "Epoch: 84\n",
            "\n",
            "Train Loss: 1.635, Train Accuracy: 0.40\n",
            "Validation Loss: 1.605, Validation Accuracy: 0.46\n",
            "\n",
            "Epoch: 85\n",
            "\n",
            "Train Loss: 1.668, Train Accuracy: 0.39\n",
            "Validation Loss: 1.508, Validation Accuracy: 0.45\n",
            "\n",
            "Epoch: 86\n",
            "\n",
            "Train Loss: 1.643, Train Accuracy: 0.39\n",
            "Validation Loss: 1.528, Validation Accuracy: 0.45\n",
            "\n",
            "Epoch: 87\n",
            "\n",
            "Train Loss: 1.635, Train Accuracy: 0.40\n",
            "Validation Loss: 1.529, Validation Accuracy: 0.44\n",
            "\n",
            "Epoch: 88\n",
            "\n",
            "Train Loss: 1.657, Train Accuracy: 0.39\n",
            "Validation Loss: 1.498, Validation Accuracy: 0.46\n",
            "\n",
            "Epoch: 89\n",
            "\n",
            "Train Loss: 1.624, Train Accuracy: 0.40\n",
            "Validation Loss: 1.523, Validation Accuracy: 0.45\n",
            "\n",
            "Epoch: 90\n",
            "\n",
            "Train Loss: 1.626, Train Accuracy: 0.40\n",
            "Validation Loss: 1.502, Validation Accuracy: 0.46\n",
            "\n",
            "Epoch: 91\n",
            "\n",
            "Train Loss: 1.628, Train Accuracy: 0.40\n",
            "Validation Loss: 1.477, Validation Accuracy: 0.47\n",
            "\n",
            "Epoch: 92\n",
            "\n",
            "Train Loss: 1.626, Train Accuracy: 0.40\n",
            "Validation Loss: 1.528, Validation Accuracy: 0.44\n",
            "\n",
            "Epoch: 93\n",
            "\n",
            "Train Loss: 1.631, Train Accuracy: 0.40\n",
            "Validation Loss: 1.493, Validation Accuracy: 0.46\n",
            "\n",
            "Epoch: 94\n",
            "\n",
            "Train Loss: 1.633, Train Accuracy: 0.40\n",
            "Validation Loss: 1.515, Validation Accuracy: 0.45\n",
            "\n",
            "Epoch: 95\n",
            "\n",
            "Train Loss: 1.633, Train Accuracy: 0.40\n",
            "Validation Loss: 1.474, Validation Accuracy: 0.47\n",
            "\n",
            "Epoch: 96\n",
            "\n",
            "Train Loss: 1.629, Train Accuracy: 0.40\n",
            "Validation Loss: 1.529, Validation Accuracy: 0.44\n",
            "\n",
            "Epoch: 97\n",
            "\n",
            "Train Loss: 1.624, Train Accuracy: 0.40\n",
            "Validation Loss: 1.500, Validation Accuracy: 0.46\n",
            "\n",
            "Epoch: 98\n",
            "\n",
            "Train Loss: 1.624, Train Accuracy: 0.40\n",
            "Validation Loss: 1.512, Validation Accuracy: 0.46\n",
            "\n",
            "Epoch: 99\n",
            "\n",
            "Train Loss: 1.634, Train Accuracy: 0.40\n",
            "Validation Loss: 1.545, Validation Accuracy: 0.45\n",
            "\n",
            "Epoch: 100\n",
            "\n",
            "Train Loss: 1.629, Train Accuracy: 0.40\n",
            "Validation Loss: 1.563, Validation Accuracy: 0.45\n"
          ]
        }
      ],
      "source": [
        "from src.engine import train, evaluate\n",
        "from src.utils import calculate_accuracy\n",
        "\n",
        "EPOCHS = 100 # was 200\n",
        "train_loss = []\n",
        "train_acc = []\n",
        "valid_loss = []\n",
        "valid_acc = []\n",
        "best_loss = float('inf')\n",
        "best_loss = float('inf')\n",
        "if prev_loss is not None:\n",
        "  print(f\"Training from previous best loss: {prev_loss}\")\n",
        "  best_loss = prev_loss\n",
        "  \n",
        "for epoch in range(1, EPOCHS + 1):\n",
        "  print(f\"\\nEpoch: {epoch}\\n\")\n",
        "  loss, acc = train(model, train_loader, criterion, optimizer, device)\n",
        "  train_loss.append(loss)\n",
        "  train_acc.append(acc)\n",
        "  print(f\"Train Loss: {train_loss[-1]:.3f}, Train Accuracy: {train_acc[-1]:.2f}\")\n",
        "\n",
        "  loss, acc = evaluate(model, valid_loader, criterion, device)\n",
        "  valid_loss.append(loss)\n",
        "  valid_acc.append(acc)\n",
        "  print(f\"Validation Loss: {valid_loss[-1]:.3f}, Validation Accuracy: {valid_acc[-1]:.2f}\")\n",
        "\n",
        "  if loss < best_loss:\n",
        "    best_loss = loss\n",
        "    torch.save(model.state_dict(), path)"
      ]
    },
    {
      "cell_type": "markdown",
      "metadata": {
        "id": "GIu5vZ3d2jNJ"
      },
      "source": [
        "## Evaluate on the Test set"
      ]
    },
    {
      "cell_type": "code",
      "execution_count": 12,
      "metadata": {
        "id": "q5oWJj8g11MF",
        "outputId": "066cfe44-1739-44b2-a588-0aa30a291cd3",
        "colab": {
          "base_uri": "https://localhost:8080/"
        }
      },
      "outputs": [
        {
          "output_type": "stream",
          "name": "stdout",
          "text": [
            "Test Loss: 1.495\n",
            "Test Accuracy: 0.45%\n"
          ]
        }
      ],
      "source": [
        "# load best model\n",
        "model.load_state_dict(torch.load(path))\n",
        "test_loss, test_acc = evaluate(model.to(device), test_loader, criterion, device)\n",
        "print(f\"Test Loss: {test_loss:.3f}\")\n",
        "print(f\"Test Accuracy: {test_acc:.2f}%\")"
      ]
    },
    {
      "cell_type": "markdown",
      "metadata": {
        "id": "qvOfsB752las"
      },
      "source": [
        "## Plot Loss and Accuracy Curves"
      ]
    },
    {
      "cell_type": "code",
      "execution_count": 13,
      "metadata": {
        "id": "gk6I1WkDvWmE",
        "outputId": "a8f27c73-a601-43d4-85da-55afb1fb88fa",
        "colab": {
          "base_uri": "https://localhost:8080/",
          "height": 265
        }
      },
      "outputs": [
        {
          "output_type": "display_data",
          "data": {
            "text/plain": [
              "<Figure size 432x288 with 1 Axes>"
            ],
            "image/png": "[encoded data removed]"
          },
          "metadata": {
            "needs_background": "light"
          }
        }
      ],
      "source": [
        "import matplotlib.pyplot as plt\n",
        "\n",
        "x = [i for i in range(len(valid_loss))]\n",
        "\n",
        "plt.plot(x, train_loss, label=\"Train Loss\")\n",
        "plt.plot(x, valid_loss, label=\"Validation Loss\")\n",
        "plt.legend()\n",
        "plt.show()"
      ]
    },
    {
      "cell_type": "code",
      "execution_count": 14,
      "metadata": {
        "id": "A-xP3uX63aT8",
        "outputId": "a60ceb50-0607-4fb8-85b6-34c71c0075ef",
        "colab": {
          "base_uri": "https://localhost:8080/",
          "height": 265
        }
      },
      "outputs": [
        {
          "output_type": "display_data",
          "data": {
            "text/plain": [
              "<Figure size 432x288 with 1 Axes>"
            ],
            "image/png": "[encoded data removed]"
          },
          "metadata": {
            "needs_background": "light"
          }
        }
      ],
      "source": [
        "plt.plot(x, train_acc, label=\"Train Accuracy\")\n",
        "plt.plot(x, valid_acc, label=\"Validation Accuracy\")\n",
        "plt.legend()\n",
        "plt.show()"
      ]
    },
    {
      "cell_type": "code",
      "execution_count": 14,
      "metadata": {
        "id": "D_FdIR923n9N"
      },
      "outputs": [],
      "source": [
        "# reaching epoch 50 (our of 1 to 100) at 1h42m of training\n",
        "# finished 100 epochs at 3h"
      ]
    }
  ],
  "metadata": {
    "accelerator": "GPU",
    "colab": {
      "provenance": []
    },
    "gpuClass": "standard",
    "kernelspec": {
      "display_name": "pyg",
      "language": "python",
      "name": "python3"
    },
    "language_info": {
      "codemirror_mode": {
        "name": "ipython",
        "version": 3
      },
      "file_extension": ".py",
      "mimetype": "text/x-python",
      "name": "python",
      "nbconvert_exporter": "python",
      "pygments_lexer": "ipython3",
      "version": "3.9.15 (main, Nov 24 2022, 14:31:59) \n[GCC 11.2.0]"
    },
    "vscode": {
      "interpreter": {
        "hash": "602fd2f1343589d3bd6f27fae416162c1bba08e244faa27258d2511dac84d913"
      }
    }
  },
  "nbformat": 4,
  "nbformat_minor": 0
}