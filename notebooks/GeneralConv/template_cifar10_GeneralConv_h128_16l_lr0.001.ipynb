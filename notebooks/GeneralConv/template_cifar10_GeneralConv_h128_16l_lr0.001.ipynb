{
  "cells": [
    {
      "cell_type": "code",
      "execution_count": 1,
      "metadata": {
        "colab": {
          "base_uri": "https://localhost:8080/"
        },
        "id": "HQeBbCYZlhKn",
        "outputId": "265f87ef-b10c-43ef-d2bb-5df5a4fd32c9"
      },
      "outputs": [
        {
          "output_type": "stream",
          "name": "stdout",
          "text": [
            "1.13.0+cu116\n",
            "\u001b[K     |████████████████████████████████| 3.2 MB 26.2 MB/s \n",
            "\u001b[K     |████████████████████████████████| 512 kB 33.6 MB/s \n",
            "\u001b[K     |████████████████████████████████| 280 kB 80.0 MB/s \n",
            "\u001b[?25h  Building wheel for torch-geometric (setup.py) ... \u001b[?25l\u001b[?25hdone\n"
          ]
        }
      ],
      "source": [
        "# Install required packages.\n",
        "import os\n",
        "import torch\n",
        "os.environ['TORCH'] = torch.__version__\n",
        "print(torch.__version__)\n",
        "\n",
        "!pip install -q torch-scatter -f https://data.pyg.org/whl/torch-${TORCH}.html\n",
        "!pip install -q torch-sparse -f https://data.pyg.org/whl/torch-${TORCH}.html\n",
        "!pip install -q torch-cluster -f https://data.pyg.org/whl/torch-${TORCH}.html\n",
        "!pip install -q git+https://github.com/pyg-team/pytorch_geometric.git"
      ]
    },
    {
      "cell_type": "code",
      "execution_count": 2,
      "metadata": {
        "colab": {
          "base_uri": "https://localhost:8080/"
        },
        "id": "NUnIVvd-lxxZ",
        "outputId": "be40ee88-68cb-4374-af31-46ae12d669a5"
      },
      "outputs": [
        {
          "output_type": "stream",
          "name": "stdout",
          "text": [
            "  Installing build dependencies ... \u001b[?25l\u001b[?25hdone\n",
            "  Getting requirements to build wheel ... \u001b[?25l\u001b[?25hdone\n",
            "    Preparing wheel metadata ... \u001b[?25l\u001b[?25hdone\n",
            "\u001b[K     |████████████████████████████████| 121 kB 35.2 MB/s \n",
            "\u001b[K     |████████████████████████████████| 1.6 MB 49.8 MB/s \n",
            "\u001b[K     |████████████████████████████████| 83 kB 2.3 MB/s \n",
            "\u001b[?25h  Building wheel for GraphVision (PEP 517) ... \u001b[?25l\u001b[?25hdone\n"
          ]
        }
      ],
      "source": [
        "# Install our repo\n",
        "# !git clone -b models \"https://github.com/ab7289-tandon-nyu/GraphVision.git\"\n",
        "# !cp -r /content/GraphVision/src/ .\n",
        "\n",
        "!pip install -q git+https://github.com/ab7289-tandon-nyu/GraphVision.git"
      ]
    },
    {
      "cell_type": "code",
      "execution_count": 3,
      "metadata": {
        "id": "4hY3Lomuoya8"
      },
      "outputs": [],
      "source": [
        "SEED = 1234\n",
        "\n",
        "torch.manual_seed(SEED)\n",
        "torch.cuda.manual_seed(SEED)\n",
        "torch.backends.cudnn.deterministic = True"
      ]
    },
    {
      "cell_type": "code",
      "execution_count": 4,
      "metadata": {
        "id": "A96sSFKSLHMN"
      },
      "outputs": [],
      "source": [
        "# from google.colab import drive\n",
        "# drive.mount(\"/content/drive\")"
      ]
    },
    {
      "cell_type": "code",
      "execution_count": 5,
      "metadata": {
        "colab": {
          "base_uri": "https://localhost:8080/"
        },
        "id": "Wuj1_P_3m0-l",
        "outputId": "34523bc5-1437-4b20-8f30-5bd30d6030f7"
      },
      "outputs": [
        {
          "output_type": "stream",
          "name": "stderr",
          "text": [
            "Downloading https://data.pyg.org/datasets/benchmarking-gnns/CIFAR10_v2.zip\n",
            "Extracting .data/CIFAR10/raw/CIFAR10_v2.zip\n",
            "Processing...\n",
            "Done!\n"
          ]
        }
      ],
      "source": [
        "from src.transforms import get_transforms\n",
        "from src.datasets import get_datasets, get_dataloaders\n",
        "\n",
        "transforms = get_transforms(\"cartesian\")\n",
        "train_dataset, valid_dataset, test_dataset = get_datasets(\".data/\", \n",
        "                        \"CIFAR10\", pre_transforms = None,\n",
        "                        transforms = transforms)\n",
        "BATCH_SIZE = 128\n",
        "\n",
        "train_loader, valid_loader, test_loader = get_dataloaders(train_dataset,\n",
        "                                                          valid_dataset,\n",
        "                                                          test_dataset,\n",
        "                                                          batch_size=(BATCH_SIZE, 1, 1),\n",
        "                                                          drop_last = False)"
      ]
    },
    {
      "cell_type": "markdown",
      "metadata": {
        "id": "Sjmgy7RvoJN-"
      },
      "source": [
        "## Review batch attributes"
      ]
    },
    {
      "cell_type": "code",
      "execution_count": 6,
      "metadata": {
        "colab": {
          "base_uri": "https://localhost:8080/"
        },
        "id": "-QCa0O4IoM6U",
        "outputId": "03cb5649-773a-48d5-a3a7-5d11cbd727e3"
      },
      "outputs": [
        {
          "output_type": "stream",
          "name": "stdout",
          "text": [
            "\n",
            "DataBatch(x=[14981, 3], edge_index=[2, 134829], edge_attr=[134829, 2], y=[128], pos=[14981, 2], edge_weight=[134829], batch=[14981], ptr=[129])\n",
            "=====================================================================\n",
            "Number of features:  3\n",
            "Number of node features: 3\n",
            "Number of nodes: 14981\n",
            "Number of edges: 134829\n",
            "Average node degree: 9.00\n",
            "Has isolated nodes: False\n",
            "Has self-loops: True\n"
          ]
        }
      ],
      "source": [
        "sample_batch = next(iter(train_loader))\n",
        "\n",
        "print()\n",
        "print(sample_batch)\n",
        "print(\"=====================================================================\")\n",
        "\n",
        "# Gather some statistics about the first graph.\n",
        "print(f\"Number of features:  {sample_batch.num_features}\")\n",
        "print(f\"Number of node features: {sample_batch.num_node_features}\")\n",
        "print(f'Number of nodes: {sample_batch.num_nodes}')\n",
        "print(f'Number of edges: {sample_batch.num_edges}')\n",
        "print(f'Average node degree: {sample_batch.num_edges / sample_batch.num_nodes:.2f}')\n",
        "print(f'Has isolated nodes: {sample_batch.has_isolated_nodes()}')\n",
        "print(f'Has self-loops: {sample_batch.has_self_loops()}')"
      ]
    },
    {
      "cell_type": "code",
      "execution_count": 7,
      "metadata": {
        "colab": {
          "base_uri": "https://localhost:8080/"
        },
        "id": "tu3VtmrWpnZx",
        "outputId": "3518e0eb-ea6d-443d-ef56-4d9f1420b0d6"
      },
      "outputs": [
        {
          "output_type": "stream",
          "name": "stdout",
          "text": [
            "Number of features: 3\n",
            "Number of classes: 10\n",
            "Edge Attr Dimension: 2\n"
          ]
        }
      ],
      "source": [
        "# store edge dimension\n",
        "edge_dim = sample_batch.edge_attr.size(-1)\n",
        "edge_dim\n",
        "# store number of features in graph batch\n",
        "input_features = test_dataset.num_features\n",
        "# store number of classes for classification\n",
        "num_classes = test_dataset.num_classes\n",
        "\n",
        "print(f\"Number of features: {input_features}\")\n",
        "print(f\"Number of classes: {num_classes}\")\n",
        "print(f\"Edge Attr Dimension: {edge_dim}\")"
      ]
    },
    {
      "cell_type": "code",
      "execution_count": 8,
      "metadata": {
        "colab": {
          "base_uri": "https://localhost:8080/"
        },
        "id": "rqiZaFw2ps9r",
        "outputId": "7226d1eb-5bd6-4870-cb40-4da53655728d"
      },
      "outputs": [
        {
          "output_type": "stream",
          "name": "stdout",
          "text": [
            "Creating new Model\n"
          ]
        }
      ],
      "source": [
        "from pathlib import Path\n",
        "\n",
        "save_loc = \"\" # put save location here\n",
        "model_name = \"GeneralConv_clus-false_BN_RELU_h128_layer16.pt\"\n",
        "\n",
        "file_path = save_loc + model_name\n",
        "path = Path(file_path)\n",
        "state_dict = None\n",
        "if path.exists() and path.is_file():\n",
        "  print(\"Found Save!\")\n",
        "  state_dict = torch.load(path)\n",
        "else:\n",
        "  print(\"Creating new Model\")"
      ]
    },
    {
      "cell_type": "markdown",
      "metadata": {
        "id": "gGiE28k32eUr"
      },
      "source": [
        "## Create our Model"
      ]
    },
    {
      "cell_type": "code",
      "execution_count": 19,
      "metadata": {
        "id": "epF5kpJcqWJw"
      },
      "outputs": [],
      "source": [
        "from src.models import DeeperGCN\n",
        "from src.engine import evaluate\n",
        "\n",
        "hidden_features = 128\n",
        "\n",
        "device = torch.device(\"cuda\" if torch.cuda.is_available() else \"cpu\")\n",
        "model = DeeperGCN(\n",
        "    input_features,\n",
        "    num_classes,\n",
        "    hidden_features,\n",
        "    conv_type = \"General\",\n",
        "    act = \"relu\",\n",
        "    norm = \"batch\",\n",
        "    num_layers = 16,\n",
        "    use_cluster_pooling = False,\n",
        "    readout = \"mean\",\n",
        "    dropout = 0.2,\n",
        "    edge_dim = edge_dim\n",
        ").to(device)\n",
        "criterion = torch.nn.CrossEntropyLoss().to(device)\n",
        "prev_loss = None\n",
        "if state_dict is not None:\n",
        "  print(\"Loading previously saved state dictionary\")\n",
        "  model.load_state_dict(state_dict)\n",
        "  prev_loss, _ = evaluate(model.to(device), test_loader, criterion, device)\n",
        "optimizer = torch.optim.Adam(model.parameters(), lr=0.001) # first run used 0.01"
      ]
    },
    {
      "cell_type": "code",
      "execution_count": 20,
      "metadata": {
        "colab": {
          "base_uri": "https://localhost:8080/"
        },
        "id": "fsm1MwvSr0nU",
        "outputId": "dc65e0c2-cb08-4cd2-d859-1c721653511b"
      },
      "outputs": [
        {
          "output_type": "stream",
          "name": "stdout",
          "text": [
            "There are 276,234 trainable parameters.\n",
            "\n",
            "DeeperGCN(\n",
            "  (fc_in): Linear(in_features=3, out_features=128, bias=True)\n",
            "  (fc_out): Linear(in_features=128, out_features=10, bias=True)\n",
            "  (out_act): ReLU(inplace=True)\n",
            "  (layers): ModuleList(\n",
            "    (0): DeepGCNLayer(block=res+)\n",
            "    (1): DeepGCNLayer(block=res+)\n",
            "    (2): DeepGCNLayer(block=res+)\n",
            "    (3): DeepGCNLayer(block=res+)\n",
            "    (4): DeepGCNLayer(block=res+)\n",
            "    (5): DeepGCNLayer(block=res+)\n",
            "    (6): DeepGCNLayer(block=res+)\n",
            "    (7): DeepGCNLayer(block=res+)\n",
            "    (8): DeepGCNLayer(block=res+)\n",
            "    (9): DeepGCNLayer(block=res+)\n",
            "    (10): DeepGCNLayer(block=res+)\n",
            "    (11): DeepGCNLayer(block=res+)\n",
            "    (12): DeepGCNLayer(block=res+)\n",
            "    (13): DeepGCNLayer(block=res+)\n",
            "    (14): DeepGCNLayer(block=res+)\n",
            "    (15): DeepGCNLayer(block=res+)\n",
            "  )\n",
            ")\n"
          ]
        }
      ],
      "source": [
        "params = sum([p.numel() for p in model.parameters() if p.requires_grad])\n",
        "print(f\"There are {params:,} trainable parameters.\")\n",
        "print()\n",
        "print(model)"
      ]
    },
    {
      "cell_type": "markdown",
      "source": [
        "```\n",
        "There are 276,234 trainable parameters.\n",
        "\n",
        "DeeperGCN(\n",
        "  (fc_in): Linear(in_features=3, out_features=128, bias=True)\n",
        "  (fc_out): Linear(in_features=128, out_features=10, bias=True)\n",
        "  (out_act): ReLU(inplace=True)\n",
        "  (layers): ModuleList(\n",
        "    (0): DeepGCNLayer(block=res+)\n",
        "    (1): DeepGCNLayer(block=res+)\n",
        "    (2): DeepGCNLayer(block=res+)\n",
        "    (3): DeepGCNLayer(block=res+)\n",
        "    (4): DeepGCNLayer(block=res+)\n",
        "    (5): DeepGCNLayer(block=res+)\n",
        "    (6): DeepGCNLayer(block=res+)\n",
        "    (7): DeepGCNLayer(block=res+)\n",
        "    (8): DeepGCNLayer(block=res+)\n",
        "    (9): DeepGCNLayer(block=res+)\n",
        "    (10): DeepGCNLayer(block=res+)\n",
        "    (11): DeepGCNLayer(block=res+)\n",
        "    (12): DeepGCNLayer(block=res+)\n",
        "    (13): DeepGCNLayer(block=res+)\n",
        "    (14): DeepGCNLayer(block=res+)\n",
        "    (15): DeepGCNLayer(block=res+)\n",
        "  )\n",
        ")\n",
        "```"
      ],
      "metadata": {
        "id": "7XUP2jS4LwyA"
      }
    },
    {
      "cell_type": "markdown",
      "metadata": {
        "id": "uuoamYXu2hf-"
      },
      "source": [
        "## Train"
      ]
    },
    {
      "cell_type": "code",
      "execution_count": 21,
      "metadata": {
        "colab": {
          "base_uri": "https://localhost:8080/"
        },
        "id": "8pyJ2olIr9pi",
        "outputId": "ee275d1b-46a9-4044-ebf7-d20893fe418d"
      },
      "outputs": [
        {
          "output_type": "stream",
          "name": "stdout",
          "text": [
            "\n",
            "Epoch: 1\n",
            "\n",
            "Train Loss: 2.395, Train Accuracy: 0.22\n",
            "Validation Loss: 1.940, Validation Accuracy: 0.25\n",
            "\n",
            "Epoch: 2\n",
            "\n",
            "Train Loss: 1.974, Train Accuracy: 0.25\n",
            "Validation Loss: 1.949, Validation Accuracy: 0.27\n",
            "\n",
            "Epoch: 3\n",
            "\n",
            "Train Loss: 1.934, Train Accuracy: 0.27\n",
            "Validation Loss: 1.831, Validation Accuracy: 0.30\n",
            "\n",
            "Epoch: 4\n",
            "\n",
            "Train Loss: 1.885, Train Accuracy: 0.29\n",
            "Validation Loss: 1.798, Validation Accuracy: 0.32\n",
            "\n",
            "Epoch: 5\n",
            "\n",
            "Train Loss: 1.851, Train Accuracy: 0.30\n",
            "Validation Loss: 1.794, Validation Accuracy: 0.32\n",
            "\n",
            "Epoch: 6\n",
            "\n",
            "Train Loss: 1.819, Train Accuracy: 0.32\n",
            "Validation Loss: 1.726, Validation Accuracy: 0.35\n",
            "\n",
            "Epoch: 7\n",
            "\n",
            "Train Loss: 1.794, Train Accuracy: 0.33\n",
            "Validation Loss: 1.750, Validation Accuracy: 0.34\n",
            "\n",
            "Epoch: 8\n",
            "\n",
            "Train Loss: 1.757, Train Accuracy: 0.35\n",
            "Validation Loss: 1.666, Validation Accuracy: 0.38\n",
            "\n",
            "Epoch: 9\n",
            "\n",
            "Train Loss: 1.748, Train Accuracy: 0.36\n",
            "Validation Loss: 1.636, Validation Accuracy: 0.41\n",
            "\n",
            "Epoch: 10\n",
            "\n",
            "Train Loss: 1.723, Train Accuracy: 0.37\n",
            "Validation Loss: 1.635, Validation Accuracy: 0.39\n",
            "\n",
            "Epoch: 11\n",
            "\n",
            "Train Loss: 1.701, Train Accuracy: 0.37\n",
            "Validation Loss: 1.643, Validation Accuracy: 0.39\n",
            "\n",
            "Epoch: 12\n",
            "\n",
            "Train Loss: 1.685, Train Accuracy: 0.38\n",
            "Validation Loss: 1.589, Validation Accuracy: 0.41\n",
            "\n",
            "Epoch: 13\n",
            "\n",
            "Train Loss: 1.667, Train Accuracy: 0.39\n",
            "Validation Loss: 1.562, Validation Accuracy: 0.43\n",
            "\n",
            "Epoch: 14\n",
            "\n",
            "Train Loss: 1.652, Train Accuracy: 0.40\n",
            "Validation Loss: 1.573, Validation Accuracy: 0.42\n",
            "\n",
            "Epoch: 15\n",
            "\n",
            "Train Loss: 1.641, Train Accuracy: 0.40\n",
            "Validation Loss: 1.537, Validation Accuracy: 0.44\n",
            "\n",
            "Epoch: 16\n",
            "\n",
            "Train Loss: 1.622, Train Accuracy: 0.41\n",
            "Validation Loss: 1.546, Validation Accuracy: 0.43\n",
            "\n",
            "Epoch: 17\n",
            "\n",
            "Train Loss: 1.618, Train Accuracy: 0.41\n",
            "Validation Loss: 1.549, Validation Accuracy: 0.44\n",
            "\n",
            "Epoch: 18\n",
            "\n",
            "Train Loss: 1.603, Train Accuracy: 0.42\n",
            "Validation Loss: 1.551, Validation Accuracy: 0.43\n",
            "\n",
            "Epoch: 19\n",
            "\n",
            "Train Loss: 1.593, Train Accuracy: 0.42\n",
            "Validation Loss: 1.517, Validation Accuracy: 0.44\n",
            "\n",
            "Epoch: 20\n",
            "\n",
            "Train Loss: 1.578, Train Accuracy: 0.43\n",
            "Validation Loss: 1.570, Validation Accuracy: 0.43\n",
            "\n",
            "Epoch: 21\n",
            "\n",
            "Train Loss: 1.566, Train Accuracy: 0.43\n",
            "Validation Loss: 1.488, Validation Accuracy: 0.48\n",
            "\n",
            "Epoch: 22\n",
            "\n",
            "Train Loss: 1.559, Train Accuracy: 0.43\n",
            "Validation Loss: 1.461, Validation Accuracy: 0.48\n",
            "\n",
            "Epoch: 23\n",
            "\n",
            "Train Loss: 1.547, Train Accuracy: 0.44\n",
            "Validation Loss: 1.460, Validation Accuracy: 0.47\n",
            "\n",
            "Epoch: 24\n",
            "\n",
            "Train Loss: 1.544, Train Accuracy: 0.44\n",
            "Validation Loss: 1.454, Validation Accuracy: 0.48\n",
            "\n",
            "Epoch: 25\n",
            "\n",
            "Train Loss: 1.533, Train Accuracy: 0.45\n",
            "Validation Loss: 1.469, Validation Accuracy: 0.47\n",
            "\n",
            "Epoch: 26\n",
            "\n",
            "Train Loss: 1.515, Train Accuracy: 0.45\n",
            "Validation Loss: 1.461, Validation Accuracy: 0.48\n",
            "\n",
            "Epoch: 27\n",
            "\n",
            "Train Loss: 1.517, Train Accuracy: 0.46\n",
            "Validation Loss: 1.427, Validation Accuracy: 0.49\n",
            "\n",
            "Epoch: 28\n",
            "\n",
            "Train Loss: 1.501, Train Accuracy: 0.46\n",
            "Validation Loss: 1.451, Validation Accuracy: 0.48\n",
            "\n",
            "Epoch: 29\n",
            "\n",
            "Train Loss: 1.499, Train Accuracy: 0.46\n",
            "Validation Loss: 1.449, Validation Accuracy: 0.48\n",
            "\n",
            "Epoch: 30\n",
            "\n",
            "Train Loss: 1.488, Train Accuracy: 0.46\n",
            "Validation Loss: 1.442, Validation Accuracy: 0.48\n",
            "\n",
            "Epoch: 31\n",
            "\n",
            "Train Loss: 1.480, Train Accuracy: 0.47\n",
            "Validation Loss: 1.441, Validation Accuracy: 0.49\n",
            "\n",
            "Epoch: 32\n",
            "\n",
            "Train Loss: 1.479, Train Accuracy: 0.46\n",
            "Validation Loss: 1.421, Validation Accuracy: 0.49\n",
            "\n",
            "Epoch: 33\n",
            "\n",
            "Train Loss: 1.464, Train Accuracy: 0.47\n",
            "Validation Loss: 1.415, Validation Accuracy: 0.50\n",
            "\n",
            "Epoch: 34\n",
            "\n",
            "Train Loss: 1.457, Train Accuracy: 0.48\n",
            "Validation Loss: 1.386, Validation Accuracy: 0.51\n",
            "\n",
            "Epoch: 35\n",
            "\n",
            "Train Loss: 1.458, Train Accuracy: 0.47\n",
            "Validation Loss: 1.406, Validation Accuracy: 0.50\n",
            "\n",
            "Epoch: 36\n",
            "\n",
            "Train Loss: 1.446, Train Accuracy: 0.48\n",
            "Validation Loss: 1.381, Validation Accuracy: 0.50\n",
            "\n",
            "Epoch: 37\n",
            "\n",
            "Train Loss: 1.441, Train Accuracy: 0.48\n",
            "Validation Loss: 1.387, Validation Accuracy: 0.50\n",
            "\n",
            "Epoch: 38\n",
            "\n",
            "Train Loss: 1.438, Train Accuracy: 0.48\n",
            "Validation Loss: 1.421, Validation Accuracy: 0.50\n",
            "\n",
            "Epoch: 39\n",
            "\n",
            "Train Loss: 1.429, Train Accuracy: 0.49\n",
            "Validation Loss: 1.412, Validation Accuracy: 0.51\n",
            "\n",
            "Epoch: 40\n",
            "\n",
            "Train Loss: 1.423, Train Accuracy: 0.49\n",
            "Validation Loss: 1.377, Validation Accuracy: 0.51\n",
            "\n",
            "Epoch: 41\n",
            "\n",
            "Train Loss: 1.418, Train Accuracy: 0.49\n",
            "Validation Loss: 1.383, Validation Accuracy: 0.51\n",
            "\n",
            "Epoch: 42\n",
            "\n",
            "Train Loss: 1.406, Train Accuracy: 0.49\n",
            "Validation Loss: 1.389, Validation Accuracy: 0.50\n",
            "\n",
            "Epoch: 43\n",
            "\n",
            "Train Loss: 1.403, Train Accuracy: 0.49\n",
            "Validation Loss: 1.366, Validation Accuracy: 0.52\n",
            "\n",
            "Epoch: 44\n",
            "\n",
            "Train Loss: 1.403, Train Accuracy: 0.50\n",
            "Validation Loss: 1.342, Validation Accuracy: 0.52\n",
            "\n",
            "Epoch: 45\n",
            "\n",
            "Train Loss: 1.390, Train Accuracy: 0.50\n",
            "Validation Loss: 1.358, Validation Accuracy: 0.52\n",
            "\n",
            "Epoch: 46\n",
            "\n",
            "Train Loss: 1.382, Train Accuracy: 0.50\n",
            "Validation Loss: 1.318, Validation Accuracy: 0.52\n",
            "\n",
            "Epoch: 47\n",
            "\n",
            "Train Loss: 1.383, Train Accuracy: 0.50\n",
            "Validation Loss: 1.363, Validation Accuracy: 0.52\n",
            "\n",
            "Epoch: 48\n",
            "\n",
            "Train Loss: 1.378, Train Accuracy: 0.51\n",
            "Validation Loss: 1.436, Validation Accuracy: 0.50\n",
            "\n",
            "Epoch: 49\n",
            "\n",
            "Train Loss: 1.374, Train Accuracy: 0.51\n",
            "Validation Loss: 1.322, Validation Accuracy: 0.52\n",
            "\n",
            "Epoch: 50\n",
            "\n",
            "Train Loss: 1.365, Train Accuracy: 0.51\n",
            "Validation Loss: 1.393, Validation Accuracy: 0.51\n",
            "\n",
            "Epoch: 51\n",
            "\n",
            "Train Loss: 1.365, Train Accuracy: 0.51\n",
            "Validation Loss: 1.309, Validation Accuracy: 0.53\n",
            "\n",
            "Epoch: 52\n",
            "\n",
            "Train Loss: 1.349, Train Accuracy: 0.51\n",
            "Validation Loss: 1.351, Validation Accuracy: 0.52\n",
            "\n",
            "Epoch: 53\n",
            "\n",
            "Train Loss: 1.346, Train Accuracy: 0.52\n",
            "Validation Loss: 1.324, Validation Accuracy: 0.54\n",
            "\n",
            "Epoch: 54\n",
            "\n",
            "Train Loss: 1.344, Train Accuracy: 0.52\n",
            "Validation Loss: 1.379, Validation Accuracy: 0.52\n",
            "\n",
            "Epoch: 55\n",
            "\n",
            "Train Loss: 1.344, Train Accuracy: 0.52\n",
            "Validation Loss: 1.308, Validation Accuracy: 0.54\n",
            "\n",
            "Epoch: 56\n",
            "\n",
            "Train Loss: 1.334, Train Accuracy: 0.52\n",
            "Validation Loss: 1.308, Validation Accuracy: 0.53\n",
            "\n",
            "Epoch: 57\n",
            "\n",
            "Train Loss: 1.327, Train Accuracy: 0.53\n",
            "Validation Loss: 1.326, Validation Accuracy: 0.53\n",
            "\n",
            "Epoch: 58\n",
            "\n",
            "Train Loss: 1.322, Train Accuracy: 0.53\n",
            "Validation Loss: 1.292, Validation Accuracy: 0.54\n",
            "\n",
            "Epoch: 59\n",
            "\n",
            "Train Loss: 1.314, Train Accuracy: 0.53\n",
            "Validation Loss: 1.325, Validation Accuracy: 0.53\n",
            "\n",
            "Epoch: 60\n",
            "\n",
            "Train Loss: 1.309, Train Accuracy: 0.53\n",
            "Validation Loss: 1.306, Validation Accuracy: 0.54\n",
            "\n",
            "Epoch: 61\n",
            "\n",
            "Train Loss: 1.306, Train Accuracy: 0.53\n",
            "Validation Loss: 1.288, Validation Accuracy: 0.55\n",
            "\n",
            "Epoch: 62\n",
            "\n",
            "Train Loss: 1.298, Train Accuracy: 0.53\n",
            "Validation Loss: 1.274, Validation Accuracy: 0.56\n",
            "\n",
            "Epoch: 63\n",
            "\n",
            "Train Loss: 1.296, Train Accuracy: 0.53\n",
            "Validation Loss: 1.299, Validation Accuracy: 0.54\n",
            "\n",
            "Epoch: 64\n",
            "\n",
            "Train Loss: 1.298, Train Accuracy: 0.53\n",
            "Validation Loss: 1.289, Validation Accuracy: 0.55\n",
            "\n",
            "Epoch: 65\n",
            "\n",
            "Train Loss: 1.291, Train Accuracy: 0.54\n",
            "Validation Loss: 1.306, Validation Accuracy: 0.55\n",
            "\n",
            "Epoch: 66\n",
            "\n",
            "Train Loss: 1.289, Train Accuracy: 0.54\n",
            "Validation Loss: 1.266, Validation Accuracy: 0.55\n",
            "\n",
            "Epoch: 67\n",
            "\n",
            "Train Loss: 1.277, Train Accuracy: 0.54\n",
            "Validation Loss: 1.298, Validation Accuracy: 0.55\n",
            "\n",
            "Epoch: 68\n",
            "\n",
            "Train Loss: 1.271, Train Accuracy: 0.54\n",
            "Validation Loss: 1.296, Validation Accuracy: 0.55\n",
            "\n",
            "Epoch: 69\n",
            "\n",
            "Train Loss: 1.274, Train Accuracy: 0.55\n",
            "Validation Loss: 1.290, Validation Accuracy: 0.54\n",
            "\n",
            "Epoch: 70\n",
            "\n",
            "Train Loss: 1.267, Train Accuracy: 0.55\n",
            "Validation Loss: 1.278, Validation Accuracy: 0.55\n",
            "\n",
            "Epoch: 71\n",
            "\n",
            "Train Loss: 1.259, Train Accuracy: 0.55\n",
            "Validation Loss: 1.277, Validation Accuracy: 0.56\n",
            "\n",
            "Epoch: 72\n",
            "\n",
            "Train Loss: 1.259, Train Accuracy: 0.55\n",
            "Validation Loss: 1.274, Validation Accuracy: 0.55\n",
            "\n",
            "Epoch: 73\n",
            "\n",
            "Train Loss: 1.254, Train Accuracy: 0.55\n",
            "Validation Loss: 1.255, Validation Accuracy: 0.57\n",
            "\n",
            "Epoch: 74\n",
            "\n",
            "Train Loss: 1.249, Train Accuracy: 0.55\n",
            "Validation Loss: 1.268, Validation Accuracy: 0.56\n",
            "\n",
            "Epoch: 75\n",
            "\n",
            "Train Loss: 1.248, Train Accuracy: 0.55\n",
            "Validation Loss: 1.264, Validation Accuracy: 0.56\n",
            "\n",
            "Epoch: 76\n",
            "\n",
            "Train Loss: 1.245, Train Accuracy: 0.56\n",
            "Validation Loss: 1.308, Validation Accuracy: 0.55\n",
            "\n",
            "Epoch: 77\n",
            "\n",
            "Train Loss: 1.231, Train Accuracy: 0.56\n",
            "Validation Loss: 1.261, Validation Accuracy: 0.57\n",
            "\n",
            "Epoch: 78\n",
            "\n",
            "Train Loss: 1.225, Train Accuracy: 0.56\n",
            "Validation Loss: 1.283, Validation Accuracy: 0.56\n",
            "\n",
            "Epoch: 79\n",
            "\n",
            "Train Loss: 1.224, Train Accuracy: 0.56\n",
            "Validation Loss: 1.260, Validation Accuracy: 0.56\n",
            "\n",
            "Epoch: 80\n",
            "\n",
            "Train Loss: 1.217, Train Accuracy: 0.57\n",
            "Validation Loss: 1.271, Validation Accuracy: 0.55\n",
            "\n",
            "Epoch: 81\n",
            "\n",
            "Train Loss: 1.217, Train Accuracy: 0.56\n",
            "Validation Loss: 1.249, Validation Accuracy: 0.56\n",
            "\n",
            "Epoch: 82\n",
            "\n",
            "Train Loss: 1.214, Train Accuracy: 0.57\n",
            "Validation Loss: 1.302, Validation Accuracy: 0.55\n",
            "\n",
            "Epoch: 83\n",
            "\n",
            "Train Loss: 1.206, Train Accuracy: 0.57\n",
            "Validation Loss: 1.295, Validation Accuracy: 0.56\n",
            "\n",
            "Epoch: 84\n",
            "\n",
            "Train Loss: 1.205, Train Accuracy: 0.57\n",
            "Validation Loss: 1.278, Validation Accuracy: 0.56\n",
            "\n",
            "Epoch: 85\n",
            "\n",
            "Train Loss: 1.204, Train Accuracy: 0.57\n",
            "Validation Loss: 1.265, Validation Accuracy: 0.56\n",
            "\n",
            "Epoch: 86\n",
            "\n",
            "Train Loss: 1.199, Train Accuracy: 0.57\n",
            "Validation Loss: 1.248, Validation Accuracy: 0.57\n",
            "\n",
            "Epoch: 87\n",
            "\n",
            "Train Loss: 1.194, Train Accuracy: 0.57\n",
            "Validation Loss: 1.296, Validation Accuracy: 0.57\n",
            "\n",
            "Epoch: 88\n",
            "\n",
            "Train Loss: 1.186, Train Accuracy: 0.58\n",
            "Validation Loss: 1.267, Validation Accuracy: 0.57\n",
            "\n",
            "Epoch: 89\n",
            "\n",
            "Train Loss: 1.185, Train Accuracy: 0.58\n",
            "Validation Loss: 1.266, Validation Accuracy: 0.56\n",
            "\n",
            "Epoch: 90\n",
            "\n",
            "Train Loss: 1.177, Train Accuracy: 0.58\n",
            "Validation Loss: 1.305, Validation Accuracy: 0.55\n",
            "\n",
            "Epoch: 91\n",
            "\n",
            "Train Loss: 1.179, Train Accuracy: 0.58\n",
            "Validation Loss: 1.301, Validation Accuracy: 0.55\n",
            "\n",
            "Epoch: 92\n",
            "\n",
            "Train Loss: 1.172, Train Accuracy: 0.58\n",
            "Validation Loss: 1.255, Validation Accuracy: 0.57\n",
            "\n",
            "Epoch: 93\n",
            "\n",
            "Train Loss: 1.166, Train Accuracy: 0.59\n",
            "Validation Loss: 1.274, Validation Accuracy: 0.56\n",
            "\n",
            "Epoch: 94\n",
            "\n",
            "Train Loss: 1.163, Train Accuracy: 0.59\n",
            "Validation Loss: 1.276, Validation Accuracy: 0.56\n",
            "\n",
            "Epoch: 95\n",
            "\n",
            "Train Loss: 1.151, Train Accuracy: 0.59\n",
            "Validation Loss: 1.264, Validation Accuracy: 0.56\n",
            "\n",
            "Epoch: 96\n",
            "\n",
            "Train Loss: 1.160, Train Accuracy: 0.58\n",
            "Validation Loss: 1.256, Validation Accuracy: 0.57\n",
            "\n",
            "Epoch: 97\n",
            "\n",
            "Train Loss: 1.155, Train Accuracy: 0.59\n",
            "Validation Loss: 1.275, Validation Accuracy: 0.56\n",
            "\n",
            "Epoch: 98\n",
            "\n",
            "Train Loss: 1.157, Train Accuracy: 0.59\n",
            "Validation Loss: 1.265, Validation Accuracy: 0.57\n",
            "\n",
            "Epoch: 99\n",
            "\n",
            "Train Loss: 1.147, Train Accuracy: 0.59\n",
            "Validation Loss: 1.274, Validation Accuracy: 0.56\n",
            "\n",
            "Epoch: 100\n",
            "\n",
            "Train Loss: 1.142, Train Accuracy: 0.60\n",
            "Validation Loss: 1.268, Validation Accuracy: 0.56\n"
          ]
        }
      ],
      "source": [
        "from src.engine import train, evaluate\n",
        "from src.utils import calculate_accuracy\n",
        "\n",
        "EPOCHS = 100 # was 200\n",
        "train_loss = []\n",
        "train_acc = []\n",
        "valid_loss = []\n",
        "valid_acc = []\n",
        "best_loss = float('inf')\n",
        "best_loss = float('inf')\n",
        "if prev_loss is not None:\n",
        "  print(f\"Training from previous best loss: {prev_loss}\")\n",
        "  best_loss = prev_loss\n",
        "\n",
        "for epoch in range(1, EPOCHS + 1):\n",
        "  print(f\"\\nEpoch: {epoch}\\n\")\n",
        "  loss, acc = train(model, train_loader, criterion, optimizer, device)\n",
        "  train_loss.append(loss)\n",
        "  train_acc.append(acc)\n",
        "  print(f\"Train Loss: {train_loss[-1]:.3f}, Train Accuracy: {train_acc[-1]:.2f}\")\n",
        "\n",
        "  loss, acc = evaluate(model, valid_loader, criterion, device)\n",
        "  valid_loss.append(loss)\n",
        "  valid_acc.append(acc)\n",
        "  print(f\"Validation Loss: {valid_loss[-1]:.3f}, Validation Accuracy: {valid_acc[-1]:.2f}\")\n",
        "\n",
        "  if loss < best_loss:\n",
        "    best_loss = loss\n",
        "    torch.save(model.state_dict(), path)"
      ]
    },
    {
      "cell_type": "markdown",
      "metadata": {
        "id": "GIu5vZ3d2jNJ"
      },
      "source": [
        "## Evaluate on the Test set"
      ]
    },
    {
      "cell_type": "code",
      "execution_count": 22,
      "metadata": {
        "id": "q5oWJj8g11MF",
        "colab": {
          "base_uri": "https://localhost:8080/"
        },
        "outputId": "9337add1-6236-46da-ec6e-663fd3bbfec1"
      },
      "outputs": [
        {
          "output_type": "stream",
          "name": "stdout",
          "text": [
            "Test Loss: 1.289\n",
            "Test Accuracy: 0.56%\n"
          ]
        }
      ],
      "source": [
        "# load best model\n",
        "model.load_state_dict(torch.load(path))\n",
        "test_loss, test_acc = evaluate(model.to(device), test_loader, criterion, device)\n",
        "print(f\"Test Loss: {test_loss:.3f}\")\n",
        "print(f\"Test Accuracy: {test_acc:.2f}%\")"
      ]
    },
    {
      "cell_type": "markdown",
      "source": [
        "## Compare different Learning Rates"
      ],
      "metadata": {
        "id": "ceE1QrnzATz8"
      }
    },
    {
      "cell_type": "code",
      "source": [
        "print(type(train_loss), type(valid_loss), type(test_loss))\n",
        "print(type(train_acc),  type(valid_acc),  type(test_acc))"
      ],
      "metadata": {
        "id": "jsCmvg1w_qj_",
        "outputId": "e08e184c-52bc-4ec9-f612-d87c7a369639",
        "colab": {
          "base_uri": "https://localhost:8080/"
        }
      },
      "execution_count": 16,
      "outputs": [
        {
          "output_type": "stream",
          "name": "stdout",
          "text": [
            "<class 'list'> <class 'list'> <class 'float'>\n",
            "<class 'list'> <class 'list'> <class 'float'>\n"
          ]
        }
      ]
    },
    {
      "cell_type": "code",
      "source": [
        "normal_lr_train_loss, normal_lr_valid_loss, normal_lr_test_loss = \\\n",
        "train_loss.copy(), valid_loss.copy(), test_loss\n",
        "\n",
        "normal_lr_train_acc, normal_lr_valid_acc, normal_lr_test_acc = \\\n",
        "train_acc.copy(), valid_acc.copy(),  test_acc"
      ],
      "metadata": {
        "id": "jnOjc-HQ_UU7"
      },
      "execution_count": 18,
      "outputs": []
    },
    {
      "cell_type": "markdown",
      "metadata": {
        "id": "qvOfsB752las"
      },
      "source": [
        "## Plot Loss and Accuracy Curves"
      ]
    },
    {
      "cell_type": "markdown",
      "source": [
        "### Using normal learning rate (0.01):"
      ],
      "metadata": {
        "id": "sVF89CCLB1Um"
      }
    },
    {
      "cell_type": "code",
      "execution_count": 13,
      "metadata": {
        "id": "gk6I1WkDvWmE",
        "colab": {
          "base_uri": "https://localhost:8080/",
          "height": 265
        },
        "outputId": "c8e63d78-6864-4da8-82dd-800a6e9d15fe"
      },
      "outputs": [
        {
          "output_type": "display_data",
          "data": {
            "text/plain": [
              "<Figure size 432x288 with 1 Axes>"
            ],
            "image/png": "[encoded data removed]"
          },
          "metadata": {
            "needs_background": "light"
          }
        }
      ],
      "source": [
        "import matplotlib.pyplot as plt\n",
        "\n",
        "x = [i for i in range(len(valid_loss))]\n",
        "\n",
        "plt.plot(x, train_loss, label=\"Train Loss\")\n",
        "plt.plot(x, valid_loss, label=\"Validation Loss\")\n",
        "plt.legend()\n",
        "plt.show()"
      ]
    },
    {
      "cell_type": "code",
      "execution_count": 14,
      "metadata": {
        "id": "A-xP3uX63aT8",
        "colab": {
          "base_uri": "https://localhost:8080/",
          "height": 265
        },
        "outputId": "3bef463c-a8be-451d-e480-971f55a0429f"
      },
      "outputs": [
        {
          "output_type": "display_data",
          "data": {
            "text/plain": [
              "<Figure size 432x288 with 1 Axes>"
            ],
            "image/png": "[encoded data removed]"
          },
          "metadata": {
            "needs_background": "light"
          }
        }
      ],
      "source": [
        "plt.plot(x, train_acc, label=\"Train Accuracy\")\n",
        "plt.plot(x, valid_acc, label=\"Validation Accuracy\")\n",
        "plt.legend()\n",
        "plt.show()"
      ]
    },
    {
      "cell_type": "markdown",
      "source": [
        "### Using low learning rate (0.001):"
      ],
      "metadata": {
        "id": "UbIr23l-B5jU"
      }
    },
    {
      "cell_type": "code",
      "source": [
        "import matplotlib.pyplot as plt\n",
        "\n",
        "x = [i for i in range(len(valid_loss))]\n",
        "\n",
        "plt.plot(x, train_loss, label=\"Train Loss\")\n",
        "plt.plot(x, valid_loss, label=\"Validation Loss\")\n",
        "plt.legend()\n",
        "plt.show()"
      ],
      "metadata": {
        "id": "qaSSf9G7B9EY",
        "outputId": "b9dc6d9b-c1c1-4174-fe9a-dc400f84197b",
        "colab": {
          "base_uri": "https://localhost:8080/",
          "height": 265
        }
      },
      "execution_count": 23,
      "outputs": [
        {
          "output_type": "display_data",
          "data": {
            "text/plain": [
              "<Figure size 432x288 with 1 Axes>"
            ],
            "image/png": "[encoded data removed]"
          },
          "metadata": {
            "needs_background": "light"
          }
        }
      ]
    },
    {
      "cell_type": "code",
      "source": [
        "plt.plot(x, train_acc, label=\"Train Accuracy\")\n",
        "plt.plot(x, valid_acc, label=\"Validation Accuracy\")\n",
        "plt.legend()\n",
        "plt.show()"
      ],
      "metadata": {
        "id": "tBQLHecTB85J",
        "outputId": "f8d83ef9-c83e-4a56-df23-26f9409afb65",
        "colab": {
          "base_uri": "https://localhost:8080/",
          "height": 265
        }
      },
      "execution_count": 24,
      "outputs": [
        {
          "output_type": "display_data",
          "data": {
            "text/plain": [
              "<Figure size 432x288 with 1 Axes>"
            ],
            "image/png": "[encoded data removed]"
          },
          "metadata": {
            "needs_background": "light"
          }
        }
      ]
    },
    {
      "cell_type": "code",
      "execution_count": 14,
      "metadata": {
        "id": "D_FdIR923n9N"
      },
      "outputs": [],
      "source": [
        "# When ran using normal learning rate:\n",
        "# reaching epoch 89 (out of 1 to 100) at 3h10m of training"
      ]
    }
  ],
  "metadata": {
    "accelerator": "GPU",
    "colab": {
      "provenance": []
    },
    "gpuClass": "standard",
    "kernelspec": {
      "display_name": "pyg",
      "language": "python",
      "name": "python3"
    },
    "language_info": {
      "codemirror_mode": {
        "name": "ipython",
        "version": 3
      },
      "file_extension": ".py",
      "mimetype": "text/x-python",
      "name": "python",
      "nbconvert_exporter": "python",
      "pygments_lexer": "ipython3",
      "version": "3.9.15 (main, Nov 24 2022, 14:31:59) \n[GCC 11.2.0]"
    },
    "vscode": {
      "interpreter": {
        "hash": "602fd2f1343589d3bd6f27fae416162c1bba08e244faa27258d2511dac84d913"
      }
    }
  },
  "nbformat": 4,
  "nbformat_minor": 0
}