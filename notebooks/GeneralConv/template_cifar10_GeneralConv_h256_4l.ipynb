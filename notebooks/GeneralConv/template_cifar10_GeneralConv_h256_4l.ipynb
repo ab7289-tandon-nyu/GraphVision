{
  "cells": [
    {
      "cell_type": "code",
      "execution_count": 1,
      "metadata": {
        "colab": {
          "base_uri": "https://localhost:8080/"
        },
        "id": "HQeBbCYZlhKn",
        "outputId": "cf7231c1-733d-4b92-b7b5-b4c47b3f624f"
      },
      "outputs": [
        {
          "output_type": "stream",
          "name": "stdout",
          "text": [
            "1.13.0+cu116\n",
            "\u001b[K     |████████████████████████████████| 9.4 MB 7.2 MB/s \n",
            "\u001b[K     |████████████████████████████████| 4.6 MB 7.5 MB/s \n",
            "\u001b[K     |████████████████████████████████| 3.2 MB 6.8 MB/s \n",
            "\u001b[K     |████████████████████████████████| 512 kB 13.8 MB/s \n",
            "\u001b[K     |████████████████████████████████| 280 kB 80.3 MB/s \n",
            "\u001b[?25h  Building wheel for torch-geometric (setup.py) ... \u001b[?25l\u001b[?25hdone\n"
          ]
        }
      ],
      "source": [
        "# Install required packages.\n",
        "import os\n",
        "import torch\n",
        "os.environ['TORCH'] = torch.__version__\n",
        "print(torch.__version__)\n",
        "\n",
        "!pip install -q torch-scatter -f https://data.pyg.org/whl/torch-${TORCH}.html\n",
        "!pip install -q torch-sparse -f https://data.pyg.org/whl/torch-${TORCH}.html\n",
        "!pip install -q torch-cluster -f https://data.pyg.org/whl/torch-${TORCH}.html\n",
        "!pip install -q git+https://github.com/pyg-team/pytorch_geometric.git"
      ]
    },
    {
      "cell_type": "code",
      "execution_count": 2,
      "metadata": {
        "colab": {
          "base_uri": "https://localhost:8080/"
        },
        "id": "NUnIVvd-lxxZ",
        "outputId": "04d793f5-4bf2-4ae8-877b-a77fe914658f"
      },
      "outputs": [
        {
          "output_type": "stream",
          "name": "stdout",
          "text": [
            "  Installing build dependencies ... \u001b[?25l\u001b[?25hdone\n",
            "  Getting requirements to build wheel ... \u001b[?25l\u001b[?25hdone\n",
            "    Preparing wheel metadata ... \u001b[?25l\u001b[?25hdone\n",
            "\u001b[K     |████████████████████████████████| 121 kB 11.6 MB/s \n",
            "\u001b[K     |████████████████████████████████| 1.6 MB 33.8 MB/s \n",
            "\u001b[K     |████████████████████████████████| 83 kB 2.9 MB/s \n",
            "\u001b[?25h  Building wheel for GraphVision (PEP 517) ... \u001b[?25l\u001b[?25hdone\n"
          ]
        }
      ],
      "source": [
        "# Install our repo\n",
        "# !git clone -b models \"https://github.com/ab7289-tandon-nyu/GraphVision.git\"\n",
        "# !cp -r /content/GraphVision/src/ .\n",
        "\n",
        "!pip install -q git+https://github.com/ab7289-tandon-nyu/GraphVision.git"
      ]
    },
    {
      "cell_type": "code",
      "execution_count": 3,
      "metadata": {
        "id": "4hY3Lomuoya8"
      },
      "outputs": [],
      "source": [
        "SEED = 1234\n",
        "\n",
        "torch.manual_seed(SEED)\n",
        "torch.cuda.manual_seed(SEED)\n",
        "torch.backends.cudnn.deterministic = True"
      ]
    },
    {
      "cell_type": "code",
      "execution_count": 4,
      "metadata": {
        "id": "MATMurgir4X5"
      },
      "outputs": [],
      "source": [
        "# from google.colab import drive\n",
        "# drive.mount(\"/content/drive\")"
      ]
    },
    {
      "cell_type": "code",
      "execution_count": 5,
      "metadata": {
        "colab": {
          "base_uri": "https://localhost:8080/"
        },
        "id": "Wuj1_P_3m0-l",
        "outputId": "b02a5dbb-0936-4c08-d0b2-02879331b28d"
      },
      "outputs": [
        {
          "output_type": "stream",
          "name": "stderr",
          "text": [
            "Downloading https://data.pyg.org/datasets/benchmarking-gnns/CIFAR10_v2.zip\n",
            "Extracting .data/CIFAR10/raw/CIFAR10_v2.zip\n",
            "Processing...\n",
            "Done!\n"
          ]
        }
      ],
      "source": [
        "from src.transforms import get_transforms\n",
        "from src.datasets import get_datasets, get_dataloaders\n",
        "\n",
        "transforms = get_transforms(\"cartesian\")\n",
        "train_dataset, valid_dataset, test_dataset = get_datasets(\".data/\", \n",
        "                        \"CIFAR10\", pre_transforms = None,\n",
        "                        transforms = transforms)\n",
        "BATCH_SIZE = 128\n",
        "\n",
        "train_loader, valid_loader, test_loader = get_dataloaders(train_dataset,\n",
        "                                                          valid_dataset,\n",
        "                                                          test_dataset,\n",
        "                                                          batch_size=(BATCH_SIZE, 1, 1),\n",
        "                                                          drop_last = False)"
      ]
    },
    {
      "cell_type": "markdown",
      "metadata": {
        "id": "Sjmgy7RvoJN-"
      },
      "source": [
        "## Review batch attributes"
      ]
    },
    {
      "cell_type": "code",
      "execution_count": 6,
      "metadata": {
        "colab": {
          "base_uri": "https://localhost:8080/"
        },
        "id": "-QCa0O4IoM6U",
        "outputId": "5f948ef8-1d0e-428f-d6b6-958590123af6"
      },
      "outputs": [
        {
          "output_type": "stream",
          "name": "stdout",
          "text": [
            "\n",
            "DataBatch(x=[14981, 3], edge_index=[2, 134829], edge_attr=[134829, 2], y=[128], pos=[14981, 2], edge_weight=[134829], batch=[14981], ptr=[129])\n",
            "=====================================================================\n",
            "Number of features:  3\n",
            "Number of node features: 3\n",
            "Number of nodes: 14981\n",
            "Number of edges: 134829\n",
            "Average node degree: 9.00\n",
            "Has isolated nodes: False\n",
            "Has self-loops: True\n"
          ]
        }
      ],
      "source": [
        "sample_batch = next(iter(train_loader))\n",
        "\n",
        "print()\n",
        "print(sample_batch)\n",
        "print(\"=====================================================================\")\n",
        "\n",
        "# Gather some statistics about the first graph.\n",
        "print(f\"Number of features:  {sample_batch.num_features}\")\n",
        "print(f\"Number of node features: {sample_batch.num_node_features}\")\n",
        "print(f'Number of nodes: {sample_batch.num_nodes}')\n",
        "print(f'Number of edges: {sample_batch.num_edges}')\n",
        "print(f'Average node degree: {sample_batch.num_edges / sample_batch.num_nodes:.2f}')\n",
        "print(f'Has isolated nodes: {sample_batch.has_isolated_nodes()}')\n",
        "print(f'Has self-loops: {sample_batch.has_self_loops()}')"
      ]
    },
    {
      "cell_type": "code",
      "execution_count": 7,
      "metadata": {
        "colab": {
          "base_uri": "https://localhost:8080/"
        },
        "id": "tu3VtmrWpnZx",
        "outputId": "d0485661-6e5a-4d14-9c11-6f747b258143"
      },
      "outputs": [
        {
          "output_type": "stream",
          "name": "stdout",
          "text": [
            "Number of features: 3\n",
            "Number of classes: 10\n",
            "Edge Attr Dimension: 2\n"
          ]
        }
      ],
      "source": [
        "# store edge dimension\n",
        "edge_dim = sample_batch.edge_attr.size(-1)\n",
        "edge_dim\n",
        "# store number of features in graph batch\n",
        "input_features = test_dataset.num_features\n",
        "# store number of classes for classification\n",
        "num_classes = test_dataset.num_classes\n",
        "\n",
        "print(f\"Number of features: {input_features}\")\n",
        "print(f\"Number of classes: {num_classes}\")\n",
        "print(f\"Edge Attr Dimension: {edge_dim}\")"
      ]
    },
    {
      "cell_type": "code",
      "execution_count": 8,
      "metadata": {
        "colab": {
          "base_uri": "https://localhost:8080/"
        },
        "id": "rqiZaFw2ps9r",
        "outputId": "69e65d9d-3e75-4bad-cd54-20e6272910e4"
      },
      "outputs": [
        {
          "output_type": "stream",
          "name": "stdout",
          "text": [
            "Creating new Model\n"
          ]
        }
      ],
      "source": [
        "from pathlib import Path\n",
        "\n",
        "save_loc = \"\" # put save location here\n",
        "model_name = \"GeneralConv_clus-false_BN_RELU_h256_layer4.pt\"\n",
        "\n",
        "file_path = save_loc + model_name\n",
        "path = Path(file_path)\n",
        "state_dict = None\n",
        "if path.exists() and path.is_file():\n",
        "  print(\"Found Save!\")\n",
        "  state_dict = torch.load(path)\n",
        "else:\n",
        "  print(\"Creating new Model\")"
      ]
    },
    {
      "cell_type": "markdown",
      "metadata": {
        "id": "gGiE28k32eUr"
      },
      "source": [
        "## Create our Model"
      ]
    },
    {
      "cell_type": "code",
      "execution_count": 9,
      "metadata": {
        "id": "epF5kpJcqWJw"
      },
      "outputs": [],
      "source": [
        "from src.models import DeeperGCN\n",
        "from src.engine import evaluate\n",
        "\n",
        "hidden_features = 256\n",
        "\n",
        "device = torch.device(\"cuda\" if torch.cuda.is_available() else \"cpu\")\n",
        "model = DeeperGCN(\n",
        "    input_features,\n",
        "    num_classes,\n",
        "    hidden_features,\n",
        "    conv_type = \"General\",\n",
        "    act = \"relu\",\n",
        "    norm = \"batch\",\n",
        "    num_layers = 4,\n",
        "    use_cluster_pooling = False,\n",
        "    readout = \"mean\",\n",
        "    dropout = 0.2,\n",
        "    edge_dim = edge_dim\n",
        ").to(device)\n",
        "criterion = torch.nn.CrossEntropyLoss().to(device)\n",
        "prev_loss = None\n",
        "if state_dict is not None:\n",
        "  print(\"Loading previously saved state dictionary\")\n",
        "  model.load_state_dict(state_dict)\n",
        "  prev_loss, _ = evaluate(model.to(device), test_loader, criterion, device)\n",
        "optimizer = torch.optim.Adam(model.parameters(), lr=0.01)"
      ]
    },
    {
      "cell_type": "code",
      "execution_count": 10,
      "metadata": {
        "colab": {
          "base_uri": "https://localhost:8080/"
        },
        "id": "fsm1MwvSr0nU",
        "outputId": "2d214ee3-49b7-4589-80b8-27b4abda14eb"
      },
      "outputs": [
        {
          "output_type": "stream",
          "name": "stdout",
          "text": [
            "There are 271,882 trainable parameters.\n",
            "\n",
            "DeeperGCN(\n",
            "  (fc_in): Linear(in_features=3, out_features=256, bias=True)\n",
            "  (fc_out): Linear(in_features=256, out_features=10, bias=True)\n",
            "  (out_act): ReLU(inplace=True)\n",
            "  (layers): ModuleList(\n",
            "    (0): DeepGCNLayer(block=res+)\n",
            "    (1): DeepGCNLayer(block=res+)\n",
            "    (2): DeepGCNLayer(block=res+)\n",
            "    (3): DeepGCNLayer(block=res+)\n",
            "  )\n",
            ")\n"
          ]
        }
      ],
      "source": [
        "params = sum([p.numel() for p in model.parameters() if p.requires_grad])\n",
        "print(f\"There are {params:,} trainable parameters.\")\n",
        "print()\n",
        "print(model)"
      ]
    },
    {
      "cell_type": "markdown",
      "source": [
        "```\n",
        "There are 271,882 trainable parameters.\n",
        "\n",
        "DeeperGCN(\n",
        "  (fc_in): Linear(in_features=3, out_features=256, bias=True)\n",
        "  (fc_out): Linear(in_features=256, out_features=10, bias=True)\n",
        "  (out_act): ReLU(inplace=True)\n",
        "  (layers): ModuleList(\n",
        "    (0): DeepGCNLayer(block=res+)\n",
        "    (1): DeepGCNLayer(block=res+)\n",
        "    (2): DeepGCNLayer(block=res+)\n",
        "    (3): DeepGCNLayer(block=res+)\n",
        "  )\n",
        ")\n",
        "```"
      ],
      "metadata": {
        "id": "y0XRBeGy7Ac-"
      }
    },
    {
      "cell_type": "markdown",
      "source": [
        "```\n",
        "There are 271,882 trainable parameters.\n",
        "\n",
        "DeeperGCN(\n",
        "  (fc_in): Linear(in_features=3, out_features=256, bias=True)\n",
        "  (fc_out): Linear(in_features=256, out_features=10, bias=True)\n",
        "  (out_act): ReLU(inplace=True)\n",
        "  (layers): ModuleList(\n",
        "    (0): DeepGCNLayer(block=res+)\n",
        "    (1): DeepGCNLayer(block=res+)\n",
        "    (2): DeepGCNLayer(block=res+)\n",
        "    (3): DeepGCNLayer(block=res+)\n",
        "  )\n",
        ")\n",
        "```"
      ],
      "metadata": {
        "id": "9QBQWAmtuD_8"
      }
    },
    {
      "cell_type": "markdown",
      "metadata": {
        "id": "uuoamYXu2hf-"
      },
      "source": [
        "## Train"
      ]
    },
    {
      "cell_type": "code",
      "execution_count": 11,
      "metadata": {
        "colab": {
          "base_uri": "https://localhost:8080/",
          "height": 1000
        },
        "id": "8pyJ2olIr9pi",
        "outputId": "0cbc6912-193d-4290-c54e-4319a13d6bfd"
      },
      "outputs": [
        {
          "output_type": "stream",
          "name": "stdout",
          "text": [
            "\n",
            "Epoch: 1\n",
            "\n",
            "Train Loss: 2.717, Train Accuracy: 0.18\n",
            "Validation Loss: 2.047, Validation Accuracy: 0.21\n",
            "\n",
            "Epoch: 2\n",
            "\n",
            "Train Loss: 2.085, Train Accuracy: 0.20\n",
            "Validation Loss: 1.977, Validation Accuracy: 0.24\n",
            "\n",
            "Epoch: 3\n",
            "\n",
            "Train Loss: 2.068, Train Accuracy: 0.20\n",
            "Validation Loss: 1.986, Validation Accuracy: 0.25\n",
            "\n",
            "Epoch: 4\n",
            "\n",
            "Train Loss: 2.049, Train Accuracy: 0.22\n",
            "Validation Loss: 1.954, Validation Accuracy: 0.24\n",
            "\n",
            "Epoch: 5\n",
            "\n",
            "Train Loss: 2.013, Train Accuracy: 0.22\n",
            "Validation Loss: 1.933, Validation Accuracy: 0.27\n",
            "\n",
            "Epoch: 6\n",
            "\n",
            "Train Loss: 1.979, Train Accuracy: 0.24\n",
            "Validation Loss: 1.911, Validation Accuracy: 0.26\n",
            "\n",
            "Epoch: 7\n",
            "\n",
            "Train Loss: 1.967, Train Accuracy: 0.24\n",
            "Validation Loss: 1.933, Validation Accuracy: 0.26\n",
            "\n",
            "Epoch: 8\n",
            "\n",
            "Train Loss: 1.946, Train Accuracy: 0.25\n",
            "Validation Loss: 1.879, Validation Accuracy: 0.26\n",
            "\n",
            "Epoch: 9\n",
            "\n",
            "Train Loss: 1.916, Train Accuracy: 0.27\n",
            "Validation Loss: 1.856, Validation Accuracy: 0.29\n",
            "\n",
            "Epoch: 10\n",
            "\n",
            "Train Loss: 1.890, Train Accuracy: 0.28\n",
            "Validation Loss: 1.845, Validation Accuracy: 0.30\n",
            "\n",
            "Epoch: 11\n",
            "\n",
            "Train Loss: 1.869, Train Accuracy: 0.29\n",
            "Validation Loss: 1.899, Validation Accuracy: 0.31\n",
            "\n",
            "Epoch: 12\n",
            "\n",
            "Train Loss: 1.857, Train Accuracy: 0.31\n",
            "Validation Loss: 1.826, Validation Accuracy: 0.32\n",
            "\n",
            "Epoch: 13\n",
            "\n",
            "Train Loss: 1.831, Train Accuracy: 0.32\n",
            "Validation Loss: 1.765, Validation Accuracy: 0.36\n",
            "\n",
            "Epoch: 14\n",
            "\n",
            "Train Loss: 1.819, Train Accuracy: 0.32\n",
            "Validation Loss: 1.736, Validation Accuracy: 0.36\n",
            "\n",
            "Epoch: 15\n",
            "\n",
            "Train Loss: 1.791, Train Accuracy: 0.33\n",
            "Validation Loss: 1.730, Validation Accuracy: 0.36\n",
            "\n",
            "Epoch: 16\n",
            "\n",
            "Train Loss: 1.785, Train Accuracy: 0.34\n",
            "Validation Loss: 1.669, Validation Accuracy: 0.38\n",
            "\n",
            "Epoch: 17\n",
            "\n",
            "Train Loss: 1.795, Train Accuracy: 0.34\n",
            "Validation Loss: 1.664, Validation Accuracy: 0.39\n",
            "\n",
            "Epoch: 18\n",
            "\n",
            "Train Loss: 1.774, Train Accuracy: 0.35\n",
            "Validation Loss: 1.649, Validation Accuracy: 0.39\n",
            "\n",
            "Epoch: 19\n",
            "\n",
            "Train Loss: 1.765, Train Accuracy: 0.35\n",
            "Validation Loss: 1.626, Validation Accuracy: 0.40\n",
            "\n",
            "Epoch: 20\n",
            "\n",
            "Train Loss: 1.749, Train Accuracy: 0.36\n",
            "Validation Loss: 1.648, Validation Accuracy: 0.39\n",
            "\n",
            "Epoch: 21\n",
            "\n",
            "Train Loss: 1.747, Train Accuracy: 0.35\n",
            "Validation Loss: 1.660, Validation Accuracy: 0.38\n",
            "\n",
            "Epoch: 22\n",
            "\n",
            "Train Loss: 1.747, Train Accuracy: 0.35\n",
            "Validation Loss: 1.776, Validation Accuracy: 0.36\n",
            "\n",
            "Epoch: 23\n",
            "\n",
            "Train Loss: 1.730, Train Accuracy: 0.36\n",
            "Validation Loss: 1.627, Validation Accuracy: 0.40\n",
            "\n",
            "Epoch: 24\n",
            "\n",
            "Train Loss: 1.723, Train Accuracy: 0.37\n",
            "Validation Loss: 1.599, Validation Accuracy: 0.42\n",
            "\n",
            "Epoch: 25\n",
            "\n",
            "Train Loss: 1.728, Train Accuracy: 0.36\n",
            "Validation Loss: 1.603, Validation Accuracy: 0.41\n",
            "\n",
            "Epoch: 26\n",
            "\n",
            "Train Loss: 1.716, Train Accuracy: 0.37\n",
            "Validation Loss: 1.594, Validation Accuracy: 0.43\n",
            "\n",
            "Epoch: 27\n",
            "\n",
            "Train Loss: 1.709, Train Accuracy: 0.37\n",
            "Validation Loss: 1.659, Validation Accuracy: 0.40\n",
            "\n",
            "Epoch: 28\n",
            "\n",
            "Train Loss: 1.710, Train Accuracy: 0.37\n",
            "Validation Loss: 1.572, Validation Accuracy: 0.45\n",
            "\n",
            "Epoch: 29\n",
            "\n",
            "Train Loss: 1.702, Train Accuracy: 0.37\n",
            "Validation Loss: 1.589, Validation Accuracy: 0.43\n",
            "\n",
            "Epoch: 30\n",
            "\n",
            "Train Loss: 1.703, Train Accuracy: 0.37\n",
            "Validation Loss: 1.567, Validation Accuracy: 0.45\n",
            "\n",
            "Epoch: 31\n",
            "\n",
            "Train Loss: 1.697, Train Accuracy: 0.38\n",
            "Validation Loss: 1.599, Validation Accuracy: 0.42\n",
            "\n",
            "Epoch: 32\n",
            "\n",
            "Train Loss: 1.693, Train Accuracy: 0.38\n",
            "Validation Loss: 1.589, Validation Accuracy: 0.43\n",
            "\n",
            "Epoch: 33\n",
            "\n",
            "Train Loss: 1.691, Train Accuracy: 0.38\n",
            "Validation Loss: 1.673, Validation Accuracy: 0.40\n",
            "\n",
            "Epoch: 34\n",
            "\n",
            "Train Loss: 1.684, Train Accuracy: 0.38\n",
            "Validation Loss: 1.621, Validation Accuracy: 0.40\n",
            "\n",
            "Epoch: 35\n",
            "\n",
            "Train Loss: 1.689, Train Accuracy: 0.38\n",
            "Validation Loss: 1.554, Validation Accuracy: 0.44\n",
            "\n",
            "Epoch: 36\n",
            "\n",
            "Train Loss: 1.681, Train Accuracy: 0.38\n",
            "Validation Loss: 1.588, Validation Accuracy: 0.42\n",
            "\n",
            "Epoch: 37\n",
            "\n",
            "Train Loss: 1.676, Train Accuracy: 0.38\n",
            "Validation Loss: 1.590, Validation Accuracy: 0.43\n",
            "\n",
            "Epoch: 38\n",
            "\n",
            "Train Loss: 1.677, Train Accuracy: 0.38\n",
            "Validation Loss: 1.569, Validation Accuracy: 0.45\n",
            "\n",
            "Epoch: 39\n",
            "\n",
            "Train Loss: 1.673, Train Accuracy: 0.39\n",
            "Validation Loss: 1.546, Validation Accuracy: 0.44\n",
            "\n",
            "Epoch: 40\n",
            "\n",
            "Train Loss: 1.669, Train Accuracy: 0.38\n",
            "Validation Loss: 1.622, Validation Accuracy: 0.42\n",
            "\n",
            "Epoch: 41\n",
            "\n",
            "Train Loss: 1.666, Train Accuracy: 0.39\n",
            "Validation Loss: 1.609, Validation Accuracy: 0.42\n",
            "\n",
            "Epoch: 42\n",
            "\n",
            "Train Loss: 1.671, Train Accuracy: 0.39\n",
            "Validation Loss: 1.599, Validation Accuracy: 0.44\n",
            "\n",
            "Epoch: 43\n",
            "\n",
            "Train Loss: 1.665, Train Accuracy: 0.39\n",
            "Validation Loss: 1.532, Validation Accuracy: 0.46\n",
            "\n",
            "Epoch: 44\n",
            "\n",
            "Train Loss: 1.654, Train Accuracy: 0.39\n",
            "Validation Loss: 1.550, Validation Accuracy: 0.44\n",
            "\n",
            "Epoch: 45\n",
            "\n",
            "Train Loss: 1.656, Train Accuracy: 0.39\n",
            "Validation Loss: 1.516, Validation Accuracy: 0.47\n",
            "\n",
            "Epoch: 46\n",
            "\n",
            "Train Loss: 1.657, Train Accuracy: 0.39\n",
            "Validation Loss: 1.638, Validation Accuracy: 0.39\n",
            "\n",
            "Epoch: 47\n",
            "\n",
            "Train Loss: 1.655, Train Accuracy: 0.39\n",
            "Validation Loss: 1.509, Validation Accuracy: 0.46\n",
            "\n",
            "Epoch: 48\n",
            "\n",
            "Train Loss: 1.661, Train Accuracy: 0.39\n",
            "Validation Loss: 1.586, Validation Accuracy: 0.44\n",
            "\n",
            "Epoch: 49\n",
            "\n",
            "Train Loss: 1.659, Train Accuracy: 0.39\n",
            "Validation Loss: 1.553, Validation Accuracy: 0.45\n",
            "\n",
            "Epoch: 50\n",
            "\n",
            "Train Loss: 1.656, Train Accuracy: 0.39\n",
            "Validation Loss: 1.529, Validation Accuracy: 0.45\n",
            "\n",
            "Epoch: 51\n",
            "\n",
            "Train Loss: 1.646, Train Accuracy: 0.39\n",
            "Validation Loss: 1.553, Validation Accuracy: 0.46\n",
            "\n",
            "Epoch: 52\n",
            "\n",
            "Train Loss: 1.645, Train Accuracy: 0.40\n",
            "Validation Loss: 1.558, Validation Accuracy: 0.45\n",
            "\n",
            "Epoch: 53\n",
            "\n",
            "Train Loss: 1.646, Train Accuracy: 0.39\n",
            "Validation Loss: 1.548, Validation Accuracy: 0.46\n",
            "\n",
            "Epoch: 54\n",
            "\n",
            "Train Loss: 1.650, Train Accuracy: 0.40\n",
            "Validation Loss: 1.486, Validation Accuracy: 0.48\n",
            "\n",
            "Epoch: 55\n",
            "\n",
            "Train Loss: 1.639, Train Accuracy: 0.40\n",
            "Validation Loss: 1.547, Validation Accuracy: 0.44\n",
            "\n",
            "Epoch: 56\n",
            "\n",
            "Train Loss: 1.641, Train Accuracy: 0.40\n",
            "Validation Loss: 1.521, Validation Accuracy: 0.46\n",
            "\n",
            "Epoch: 57\n",
            "\n",
            "Train Loss: 1.638, Train Accuracy: 0.40\n",
            "Validation Loss: 1.581, Validation Accuracy: 0.42\n",
            "\n",
            "Epoch: 58\n",
            "\n",
            "Train Loss: 1.638, Train Accuracy: 0.40\n",
            "Validation Loss: 1.494, Validation Accuracy: 0.47\n",
            "\n",
            "Epoch: 59\n",
            "\n",
            "Train Loss: 1.637, Train Accuracy: 0.40\n",
            "Validation Loss: 1.552, Validation Accuracy: 0.45\n",
            "\n",
            "Epoch: 60\n",
            "\n",
            "Train Loss: 1.643, Train Accuracy: 0.40\n",
            "Validation Loss: 1.480, Validation Accuracy: 0.48\n",
            "\n",
            "Epoch: 61\n",
            "\n",
            "Train Loss: 1.630, Train Accuracy: 0.40\n",
            "Validation Loss: 1.534, Validation Accuracy: 0.43\n",
            "\n",
            "Epoch: 62\n",
            "\n",
            "Train Loss: 1.630, Train Accuracy: 0.40\n",
            "Validation Loss: 1.497, Validation Accuracy: 0.48\n",
            "\n",
            "Epoch: 63\n",
            "\n",
            "Train Loss: 1.631, Train Accuracy: 0.40\n",
            "Validation Loss: 1.498, Validation Accuracy: 0.47\n",
            "\n",
            "Epoch: 64\n",
            "\n",
            "Train Loss: 1.629, Train Accuracy: 0.40\n",
            "Validation Loss: 1.526, Validation Accuracy: 0.46\n",
            "\n",
            "Epoch: 65\n",
            "\n",
            "Train Loss: 1.627, Train Accuracy: 0.40\n",
            "Validation Loss: 1.551, Validation Accuracy: 0.44\n",
            "\n",
            "Epoch: 66\n",
            "\n",
            "Train Loss: 1.626, Train Accuracy: 0.40\n",
            "Validation Loss: 1.541, Validation Accuracy: 0.46\n",
            "\n",
            "Epoch: 67\n",
            "\n",
            "Train Loss: 1.623, Train Accuracy: 0.40\n",
            "Validation Loss: 1.479, Validation Accuracy: 0.48\n",
            "\n",
            "Epoch: 68\n",
            "\n",
            "Train Loss: 1.622, Train Accuracy: 0.40\n",
            "Validation Loss: 1.504, Validation Accuracy: 0.46\n",
            "\n",
            "Epoch: 69\n",
            "\n",
            "Train Loss: 1.625, Train Accuracy: 0.41\n",
            "Validation Loss: 1.535, Validation Accuracy: 0.45\n",
            "\n",
            "Epoch: 70\n",
            "\n",
            "Train Loss: 1.617, Train Accuracy: 0.41\n",
            "Validation Loss: 1.475, Validation Accuracy: 0.47\n",
            "\n",
            "Epoch: 71\n",
            "\n",
            "Train Loss: 1.616, Train Accuracy: 0.41\n",
            "Validation Loss: 1.465, Validation Accuracy: 0.47\n",
            "\n",
            "Epoch: 72\n",
            "\n",
            "Train Loss: 1.623, Train Accuracy: 0.40\n",
            "Validation Loss: 1.606, Validation Accuracy: 0.44\n",
            "\n",
            "Epoch: 73\n",
            "\n",
            "Train Loss: 1.621, Train Accuracy: 0.41\n",
            "Validation Loss: 1.517, Validation Accuracy: 0.46\n",
            "\n",
            "Epoch: 74\n",
            "\n",
            "Train Loss: 1.620, Train Accuracy: 0.40\n",
            "Validation Loss: 1.518, Validation Accuracy: 0.48\n",
            "\n",
            "Epoch: 75\n",
            "\n",
            "Train Loss: 1.620, Train Accuracy: 0.40\n",
            "Validation Loss: 1.467, Validation Accuracy: 0.49\n",
            "\n",
            "Epoch: 76\n",
            "\n",
            "Train Loss: 1.618, Train Accuracy: 0.40\n",
            "Validation Loss: 1.521, Validation Accuracy: 0.48\n",
            "\n",
            "Epoch: 77\n",
            "\n",
            "Train Loss: 1.608, Train Accuracy: 0.41\n",
            "Validation Loss: 1.567, Validation Accuracy: 0.43\n",
            "\n",
            "Epoch: 78\n",
            "\n",
            "Train Loss: 1.610, Train Accuracy: 0.41\n",
            "Validation Loss: 1.487, Validation Accuracy: 0.48\n",
            "\n",
            "Epoch: 79\n",
            "\n",
            "Train Loss: 1.610, Train Accuracy: 0.41\n",
            "Validation Loss: 1.577, Validation Accuracy: 0.44\n",
            "\n",
            "Epoch: 80\n",
            "\n",
            "Train Loss: 1.605, Train Accuracy: 0.41\n",
            "Validation Loss: 1.557, Validation Accuracy: 0.44\n",
            "\n",
            "Epoch: 81\n",
            "\n",
            "Train Loss: 1.620, Train Accuracy: 0.40\n",
            "Validation Loss: 1.513, Validation Accuracy: 0.45\n",
            "\n",
            "Epoch: 82\n",
            "\n",
            "Train Loss: 1.615, Train Accuracy: 0.41\n",
            "Validation Loss: 1.546, Validation Accuracy: 0.44\n",
            "\n",
            "Epoch: 83\n",
            "\n",
            "Train Loss: 1.616, Train Accuracy: 0.41\n",
            "Validation Loss: 1.474, Validation Accuracy: 0.47\n",
            "\n",
            "Epoch: 84\n",
            "\n",
            "Train Loss: 1.603, Train Accuracy: 0.41\n",
            "Validation Loss: 1.469, Validation Accuracy: 0.48\n",
            "\n",
            "Epoch: 85\n",
            "\n",
            "Train Loss: 1.603, Train Accuracy: 0.41\n",
            "Validation Loss: 1.510, Validation Accuracy: 0.46\n",
            "\n",
            "Epoch: 86\n",
            "\n",
            "Train Loss: 1.608, Train Accuracy: 0.41\n",
            "Validation Loss: 1.457, Validation Accuracy: 0.50\n",
            "\n",
            "Epoch: 87\n",
            "\n",
            "Train Loss: 1.607, Train Accuracy: 0.41\n",
            "Validation Loss: 1.497, Validation Accuracy: 0.47\n",
            "\n",
            "Epoch: 88\n",
            "\n",
            "Train Loss: 1.606, Train Accuracy: 0.41\n",
            "Validation Loss: 1.590, Validation Accuracy: 0.46\n",
            "\n",
            "Epoch: 89\n",
            "\n",
            "Train Loss: 1.605, Train Accuracy: 0.41\n",
            "Validation Loss: 1.476, Validation Accuracy: 0.48\n",
            "\n",
            "Epoch: 90\n",
            "\n",
            "Train Loss: 1.598, Train Accuracy: 0.41\n",
            "Validation Loss: 1.527, Validation Accuracy: 0.45\n",
            "\n",
            "Epoch: 91\n",
            "\n",
            "Train Loss: 1.603, Train Accuracy: 0.41\n",
            "Validation Loss: 1.481, Validation Accuracy: 0.48\n",
            "\n",
            "Epoch: 92\n",
            "\n",
            "Train Loss: 1.605, Train Accuracy: 0.41\n",
            "Validation Loss: 1.514, Validation Accuracy: 0.46\n",
            "\n",
            "Epoch: 93\n",
            "\n",
            "Train Loss: 1.599, Train Accuracy: 0.41\n",
            "Validation Loss: 1.466, Validation Accuracy: 0.49\n",
            "\n",
            "Epoch: 94\n",
            "\n",
            "Train Loss: 1.602, Train Accuracy: 0.41\n",
            "Validation Loss: 1.474, Validation Accuracy: 0.48\n",
            "\n",
            "Epoch: 95\n",
            "\n",
            "Train Loss: 1.594, Train Accuracy: 0.42\n",
            "Validation Loss: 1.483, Validation Accuracy: 0.48\n",
            "\n",
            "Epoch: 96\n",
            "\n",
            "Train Loss: 1.596, Train Accuracy: 0.41\n",
            "Validation Loss: 1.481, Validation Accuracy: 0.47\n",
            "\n",
            "Epoch: 97\n",
            "\n",
            "Train Loss: 1.591, Train Accuracy: 0.42\n",
            "Validation Loss: 1.459, Validation Accuracy: 0.48\n",
            "\n",
            "Epoch: 98\n",
            "\n",
            "Train Loss: 1.587, Train Accuracy: 0.42\n",
            "Validation Loss: 1.462, Validation Accuracy: 0.47\n",
            "\n",
            "Epoch: 99\n",
            "\n",
            "Train Loss: 1.593, Train Accuracy: 0.42\n",
            "Validation Loss: 1.475, Validation Accuracy: 0.48\n",
            "\n",
            "Epoch: 100\n",
            "\n",
            "Train Loss: 1.591, Train Accuracy: 0.42\n",
            "Validation Loss: 1.501, Validation Accuracy: 0.47\n",
            "\n",
            "Epoch: 101\n",
            "\n",
            "Train Loss: 1.595, Train Accuracy: 0.41\n",
            "Validation Loss: 1.462, Validation Accuracy: 0.48\n",
            "\n",
            "Epoch: 102\n",
            "\n",
            "Train Loss: 1.592, Train Accuracy: 0.42\n",
            "Validation Loss: 1.512, Validation Accuracy: 0.45\n",
            "\n",
            "Epoch: 103\n",
            "\n",
            "Train Loss: 1.595, Train Accuracy: 0.41\n",
            "Validation Loss: 1.502, Validation Accuracy: 0.46\n",
            "\n",
            "Epoch: 104\n",
            "\n",
            "Train Loss: 1.593, Train Accuracy: 0.42\n",
            "Validation Loss: 1.459, Validation Accuracy: 0.50\n",
            "\n",
            "Epoch: 105\n",
            "\n",
            "Train Loss: 1.589, Train Accuracy: 0.41\n",
            "Validation Loss: 1.452, Validation Accuracy: 0.49\n",
            "\n",
            "Epoch: 106\n",
            "\n",
            "Train Loss: 1.592, Train Accuracy: 0.42\n",
            "Validation Loss: 1.485, Validation Accuracy: 0.47\n",
            "\n",
            "Epoch: 107\n",
            "\n",
            "Train Loss: 1.592, Train Accuracy: 0.42\n",
            "Validation Loss: 1.502, Validation Accuracy: 0.44\n",
            "\n",
            "Epoch: 108\n",
            "\n",
            "Train Loss: 1.594, Train Accuracy: 0.42\n",
            "Validation Loss: 1.474, Validation Accuracy: 0.47\n",
            "\n",
            "Epoch: 109\n",
            "\n",
            "Train Loss: 1.581, Train Accuracy: 0.42\n",
            "Validation Loss: 1.444, Validation Accuracy: 0.50\n",
            "\n",
            "Epoch: 110\n",
            "\n",
            "Train Loss: 1.579, Train Accuracy: 0.42\n",
            "Validation Loss: 1.489, Validation Accuracy: 0.47\n",
            "\n",
            "Epoch: 111\n",
            "\n",
            "Train Loss: 1.583, Train Accuracy: 0.42\n",
            "Validation Loss: 1.531, Validation Accuracy: 0.46\n",
            "\n",
            "Epoch: 112\n",
            "\n",
            "Train Loss: 1.585, Train Accuracy: 0.42\n",
            "Validation Loss: 1.489, Validation Accuracy: 0.48\n",
            "\n",
            "Epoch: 113\n",
            "\n",
            "Train Loss: 1.598, Train Accuracy: 0.42\n"
          ]
        },
        {
          "output_type": "error",
          "ename": "KeyboardInterrupt",
          "evalue": "ignored",
          "traceback": [
            "\u001b[0;31m---------------------------------------------------------------------------\u001b[0m",
            "\u001b[0;31mKeyboardInterrupt\u001b[0m                         Traceback (most recent call last)",
            "\u001b[0;32m<ipython-input-11-58cff619426e>\u001b[0m in \u001b[0;36m<module>\u001b[0;34m\u001b[0m\n\u001b[1;32m     20\u001b[0m   \u001b[0mprint\u001b[0m\u001b[0;34m(\u001b[0m\u001b[0;34mf\"Train Loss: {train_loss[-1]:.3f}, Train Accuracy: {train_acc[-1]:.2f}\"\u001b[0m\u001b[0;34m)\u001b[0m\u001b[0;34m\u001b[0m\u001b[0;34m\u001b[0m\u001b[0m\n\u001b[1;32m     21\u001b[0m \u001b[0;34m\u001b[0m\u001b[0m\n\u001b[0;32m---> 22\u001b[0;31m   \u001b[0mloss\u001b[0m\u001b[0;34m,\u001b[0m \u001b[0macc\u001b[0m \u001b[0;34m=\u001b[0m \u001b[0mevaluate\u001b[0m\u001b[0;34m(\u001b[0m\u001b[0mmodel\u001b[0m\u001b[0;34m,\u001b[0m \u001b[0mvalid_loader\u001b[0m\u001b[0;34m,\u001b[0m \u001b[0mcriterion\u001b[0m\u001b[0;34m,\u001b[0m \u001b[0mdevice\u001b[0m\u001b[0;34m)\u001b[0m\u001b[0;34m\u001b[0m\u001b[0;34m\u001b[0m\u001b[0m\n\u001b[0m\u001b[1;32m     23\u001b[0m   \u001b[0mvalid_loss\u001b[0m\u001b[0;34m.\u001b[0m\u001b[0mappend\u001b[0m\u001b[0;34m(\u001b[0m\u001b[0mloss\u001b[0m\u001b[0;34m)\u001b[0m\u001b[0;34m\u001b[0m\u001b[0;34m\u001b[0m\u001b[0m\n\u001b[1;32m     24\u001b[0m   \u001b[0mvalid_acc\u001b[0m\u001b[0;34m.\u001b[0m\u001b[0mappend\u001b[0m\u001b[0;34m(\u001b[0m\u001b[0macc\u001b[0m\u001b[0;34m)\u001b[0m\u001b[0;34m\u001b[0m\u001b[0;34m\u001b[0m\u001b[0m\n",
            "\u001b[0;32m/usr/local/lib/python3.8/dist-packages/src/engine.py\u001b[0m in \u001b[0;36mevaluate\u001b[0;34m(model, iter, criterion, device)\u001b[0m\n\u001b[1;32m     34\u001b[0m     \u001b[0mepoch_loss\u001b[0m \u001b[0;34m=\u001b[0m \u001b[0;36m0\u001b[0m\u001b[0;34m\u001b[0m\u001b[0;34m\u001b[0m\u001b[0m\n\u001b[1;32m     35\u001b[0m     \u001b[0mepoch_acc\u001b[0m \u001b[0;34m=\u001b[0m \u001b[0;36m0\u001b[0m\u001b[0;34m\u001b[0m\u001b[0;34m\u001b[0m\u001b[0m\n\u001b[0;32m---> 36\u001b[0;31m     \u001b[0;32mfor\u001b[0m \u001b[0mdata\u001b[0m \u001b[0;32min\u001b[0m \u001b[0miter\u001b[0m\u001b[0;34m:\u001b[0m\u001b[0;34m\u001b[0m\u001b[0;34m\u001b[0m\u001b[0m\n\u001b[0m\u001b[1;32m     37\u001b[0m         \u001b[0mdata\u001b[0m \u001b[0;34m=\u001b[0m \u001b[0mdata\u001b[0m\u001b[0;34m.\u001b[0m\u001b[0mto\u001b[0m\u001b[0;34m(\u001b[0m\u001b[0mdevice\u001b[0m\u001b[0;34m)\u001b[0m\u001b[0;34m\u001b[0m\u001b[0;34m\u001b[0m\u001b[0m\n\u001b[1;32m     38\u001b[0m \u001b[0;34m\u001b[0m\u001b[0m\n",
            "\u001b[0;32m/usr/local/lib/python3.8/dist-packages/torch/utils/data/dataloader.py\u001b[0m in \u001b[0;36m__next__\u001b[0;34m(self)\u001b[0m\n\u001b[1;32m    626\u001b[0m                 \u001b[0;31m# TODO(https://github.com/pytorch/pytorch/issues/76750)\u001b[0m\u001b[0;34m\u001b[0m\u001b[0;34m\u001b[0m\u001b[0;34m\u001b[0m\u001b[0m\n\u001b[1;32m    627\u001b[0m                 \u001b[0mself\u001b[0m\u001b[0;34m.\u001b[0m\u001b[0m_reset\u001b[0m\u001b[0;34m(\u001b[0m\u001b[0;34m)\u001b[0m  \u001b[0;31m# type: ignore[call-arg]\u001b[0m\u001b[0;34m\u001b[0m\u001b[0;34m\u001b[0m\u001b[0m\n\u001b[0;32m--> 628\u001b[0;31m             \u001b[0mdata\u001b[0m \u001b[0;34m=\u001b[0m \u001b[0mself\u001b[0m\u001b[0;34m.\u001b[0m\u001b[0m_next_data\u001b[0m\u001b[0;34m(\u001b[0m\u001b[0;34m)\u001b[0m\u001b[0;34m\u001b[0m\u001b[0;34m\u001b[0m\u001b[0m\n\u001b[0m\u001b[1;32m    629\u001b[0m             \u001b[0mself\u001b[0m\u001b[0;34m.\u001b[0m\u001b[0m_num_yielded\u001b[0m \u001b[0;34m+=\u001b[0m \u001b[0;36m1\u001b[0m\u001b[0;34m\u001b[0m\u001b[0;34m\u001b[0m\u001b[0m\n\u001b[1;32m    630\u001b[0m             \u001b[0;32mif\u001b[0m \u001b[0mself\u001b[0m\u001b[0;34m.\u001b[0m\u001b[0m_dataset_kind\u001b[0m \u001b[0;34m==\u001b[0m \u001b[0m_DatasetKind\u001b[0m\u001b[0;34m.\u001b[0m\u001b[0mIterable\u001b[0m \u001b[0;32mand\u001b[0m\u001b[0;31m \u001b[0m\u001b[0;31m\\\u001b[0m\u001b[0;34m\u001b[0m\u001b[0;34m\u001b[0m\u001b[0m\n",
            "\u001b[0;32m/usr/local/lib/python3.8/dist-packages/torch/utils/data/dataloader.py\u001b[0m in \u001b[0;36m_next_data\u001b[0;34m(self)\u001b[0m\n\u001b[1;32m    669\u001b[0m     \u001b[0;32mdef\u001b[0m \u001b[0m_next_data\u001b[0m\u001b[0;34m(\u001b[0m\u001b[0mself\u001b[0m\u001b[0;34m)\u001b[0m\u001b[0;34m:\u001b[0m\u001b[0;34m\u001b[0m\u001b[0;34m\u001b[0m\u001b[0m\n\u001b[1;32m    670\u001b[0m         \u001b[0mindex\u001b[0m \u001b[0;34m=\u001b[0m \u001b[0mself\u001b[0m\u001b[0;34m.\u001b[0m\u001b[0m_next_index\u001b[0m\u001b[0;34m(\u001b[0m\u001b[0;34m)\u001b[0m  \u001b[0;31m# may raise StopIteration\u001b[0m\u001b[0;34m\u001b[0m\u001b[0;34m\u001b[0m\u001b[0m\n\u001b[0;32m--> 671\u001b[0;31m         \u001b[0mdata\u001b[0m \u001b[0;34m=\u001b[0m \u001b[0mself\u001b[0m\u001b[0;34m.\u001b[0m\u001b[0m_dataset_fetcher\u001b[0m\u001b[0;34m.\u001b[0m\u001b[0mfetch\u001b[0m\u001b[0;34m(\u001b[0m\u001b[0mindex\u001b[0m\u001b[0;34m)\u001b[0m  \u001b[0;31m# may raise StopIteration\u001b[0m\u001b[0;34m\u001b[0m\u001b[0;34m\u001b[0m\u001b[0m\n\u001b[0m\u001b[1;32m    672\u001b[0m         \u001b[0;32mif\u001b[0m \u001b[0mself\u001b[0m\u001b[0;34m.\u001b[0m\u001b[0m_pin_memory\u001b[0m\u001b[0;34m:\u001b[0m\u001b[0;34m\u001b[0m\u001b[0;34m\u001b[0m\u001b[0m\n\u001b[1;32m    673\u001b[0m             \u001b[0mdata\u001b[0m \u001b[0;34m=\u001b[0m \u001b[0m_utils\u001b[0m\u001b[0;34m.\u001b[0m\u001b[0mpin_memory\u001b[0m\u001b[0;34m.\u001b[0m\u001b[0mpin_memory\u001b[0m\u001b[0;34m(\u001b[0m\u001b[0mdata\u001b[0m\u001b[0;34m,\u001b[0m \u001b[0mself\u001b[0m\u001b[0;34m.\u001b[0m\u001b[0m_pin_memory_device\u001b[0m\u001b[0;34m)\u001b[0m\u001b[0;34m\u001b[0m\u001b[0;34m\u001b[0m\u001b[0m\n",
            "\u001b[0;32m/usr/local/lib/python3.8/dist-packages/torch/utils/data/_utils/fetch.py\u001b[0m in \u001b[0;36mfetch\u001b[0;34m(self, possibly_batched_index)\u001b[0m\n\u001b[1;32m     59\u001b[0m         \u001b[0;32melse\u001b[0m\u001b[0;34m:\u001b[0m\u001b[0;34m\u001b[0m\u001b[0;34m\u001b[0m\u001b[0m\n\u001b[1;32m     60\u001b[0m             \u001b[0mdata\u001b[0m \u001b[0;34m=\u001b[0m \u001b[0mself\u001b[0m\u001b[0;34m.\u001b[0m\u001b[0mdataset\u001b[0m\u001b[0;34m[\u001b[0m\u001b[0mpossibly_batched_index\u001b[0m\u001b[0;34m]\u001b[0m\u001b[0;34m\u001b[0m\u001b[0;34m\u001b[0m\u001b[0m\n\u001b[0;32m---> 61\u001b[0;31m         \u001b[0;32mreturn\u001b[0m \u001b[0mself\u001b[0m\u001b[0;34m.\u001b[0m\u001b[0mcollate_fn\u001b[0m\u001b[0;34m(\u001b[0m\u001b[0mdata\u001b[0m\u001b[0;34m)\u001b[0m\u001b[0;34m\u001b[0m\u001b[0;34m\u001b[0m\u001b[0m\n\u001b[0m",
            "\u001b[0;32m/usr/local/lib/python3.8/dist-packages/torch_geometric/loader/dataloader.py\u001b[0m in \u001b[0;36m__call__\u001b[0;34m(self, batch)\u001b[0m\n\u001b[1;32m     17\u001b[0m         \u001b[0melem\u001b[0m \u001b[0;34m=\u001b[0m \u001b[0mbatch\u001b[0m\u001b[0;34m[\u001b[0m\u001b[0;36m0\u001b[0m\u001b[0;34m]\u001b[0m\u001b[0;34m\u001b[0m\u001b[0;34m\u001b[0m\u001b[0m\n\u001b[1;32m     18\u001b[0m         \u001b[0;32mif\u001b[0m \u001b[0misinstance\u001b[0m\u001b[0;34m(\u001b[0m\u001b[0melem\u001b[0m\u001b[0;34m,\u001b[0m \u001b[0mBaseData\u001b[0m\u001b[0;34m)\u001b[0m\u001b[0;34m:\u001b[0m\u001b[0;34m\u001b[0m\u001b[0;34m\u001b[0m\u001b[0m\n\u001b[0;32m---> 19\u001b[0;31m             return Batch.from_data_list(batch, self.follow_batch,\n\u001b[0m\u001b[1;32m     20\u001b[0m                                         self.exclude_keys)\n\u001b[1;32m     21\u001b[0m         \u001b[0;32melif\u001b[0m \u001b[0misinstance\u001b[0m\u001b[0;34m(\u001b[0m\u001b[0melem\u001b[0m\u001b[0;34m,\u001b[0m \u001b[0mtorch\u001b[0m\u001b[0;34m.\u001b[0m\u001b[0mTensor\u001b[0m\u001b[0;34m)\u001b[0m\u001b[0;34m:\u001b[0m\u001b[0;34m\u001b[0m\u001b[0;34m\u001b[0m\u001b[0m\n",
            "\u001b[0;32m/usr/local/lib/python3.8/dist-packages/torch_geometric/data/batch.py\u001b[0m in \u001b[0;36mfrom_data_list\u001b[0;34m(cls, data_list, follow_batch, exclude_keys)\u001b[0m\n\u001b[1;32m     74\u001b[0m         Will exclude any keys given in :obj:`exclude_keys`.\"\"\"\n\u001b[1;32m     75\u001b[0m \u001b[0;34m\u001b[0m\u001b[0m\n\u001b[0;32m---> 76\u001b[0;31m         batch, slice_dict, inc_dict = collate(\n\u001b[0m\u001b[1;32m     77\u001b[0m             \u001b[0mcls\u001b[0m\u001b[0;34m,\u001b[0m\u001b[0;34m\u001b[0m\u001b[0;34m\u001b[0m\u001b[0m\n\u001b[1;32m     78\u001b[0m             \u001b[0mdata_list\u001b[0m\u001b[0;34m=\u001b[0m\u001b[0mdata_list\u001b[0m\u001b[0;34m,\u001b[0m\u001b[0;34m\u001b[0m\u001b[0;34m\u001b[0m\u001b[0m\n",
            "\u001b[0;32m/usr/local/lib/python3.8/dist-packages/torch_geometric/data/collate.py\u001b[0m in \u001b[0;36mcollate\u001b[0;34m(cls, data_list, increment, add_batch, follow_batch, exclude_keys)\u001b[0m\n\u001b[1;32m     82\u001b[0m \u001b[0;34m\u001b[0m\u001b[0m\n\u001b[1;32m     83\u001b[0m             \u001b[0;31m# Collate attributes into a unified representation:\u001b[0m\u001b[0;34m\u001b[0m\u001b[0;34m\u001b[0m\u001b[0;34m\u001b[0m\u001b[0m\n\u001b[0;32m---> 84\u001b[0;31m             value, slices, incs = _collate(attr, values, data_list, stores,\n\u001b[0m\u001b[1;32m     85\u001b[0m                                            increment)\n\u001b[1;32m     86\u001b[0m \u001b[0;34m\u001b[0m\u001b[0m\n",
            "\u001b[0;32m/usr/local/lib/python3.8/dist-packages/torch_geometric/data/collate.py\u001b[0m in \u001b[0;36m_collate\u001b[0;34m(key, values, data_list, stores, increment)\u001b[0m\n\u001b[1;32m    153\u001b[0m             \u001b[0mout\u001b[0m \u001b[0;34m=\u001b[0m \u001b[0;32mNone\u001b[0m\u001b[0;34m\u001b[0m\u001b[0;34m\u001b[0m\u001b[0m\n\u001b[1;32m    154\u001b[0m \u001b[0;34m\u001b[0m\u001b[0m\n\u001b[0;32m--> 155\u001b[0;31m         \u001b[0mvalue\u001b[0m \u001b[0;34m=\u001b[0m \u001b[0mtorch\u001b[0m\u001b[0;34m.\u001b[0m\u001b[0mcat\u001b[0m\u001b[0;34m(\u001b[0m\u001b[0mvalues\u001b[0m\u001b[0;34m,\u001b[0m \u001b[0mdim\u001b[0m\u001b[0;34m=\u001b[0m\u001b[0mcat_dim\u001b[0m \u001b[0;32mor\u001b[0m \u001b[0;36m0\u001b[0m\u001b[0;34m,\u001b[0m \u001b[0mout\u001b[0m\u001b[0;34m=\u001b[0m\u001b[0mout\u001b[0m\u001b[0;34m)\u001b[0m\u001b[0;34m\u001b[0m\u001b[0;34m\u001b[0m\u001b[0m\n\u001b[0m\u001b[1;32m    156\u001b[0m         \u001b[0;32mreturn\u001b[0m \u001b[0mvalue\u001b[0m\u001b[0;34m,\u001b[0m \u001b[0mslices\u001b[0m\u001b[0;34m,\u001b[0m \u001b[0mincs\u001b[0m\u001b[0;34m\u001b[0m\u001b[0;34m\u001b[0m\u001b[0m\n\u001b[1;32m    157\u001b[0m \u001b[0;34m\u001b[0m\u001b[0m\n",
            "\u001b[0;31mKeyboardInterrupt\u001b[0m: "
          ]
        }
      ],
      "source": [
        "from src.engine import train, evaluate\n",
        "from src.utils import calculate_accuracy\n",
        "\n",
        "EPOCHS = 200\n",
        "train_loss = []\n",
        "train_acc = []\n",
        "valid_loss = []\n",
        "valid_acc = []\n",
        "best_loss = float('inf')\n",
        "best_loss = float('inf')\n",
        "if prev_loss is not None:\n",
        "  print(f\"Training from previous best loss: {prev_loss}\")\n",
        "  best_loss = prev_loss\n",
        "  \n",
        "for epoch in range(1, EPOCHS + 1):\n",
        "  print(f\"\\nEpoch: {epoch}\\n\")\n",
        "  loss, acc = train(model, train_loader, criterion, optimizer, device)\n",
        "  train_loss.append(loss)\n",
        "  train_acc.append(acc)\n",
        "  print(f\"Train Loss: {train_loss[-1]:.3f}, Train Accuracy: {train_acc[-1]:.2f}\")\n",
        "\n",
        "  loss, acc = evaluate(model, valid_loader, criterion, device)\n",
        "  valid_loss.append(loss)\n",
        "  valid_acc.append(acc)\n",
        "  print(f\"Validation Loss: {valid_loss[-1]:.3f}, Validation Accuracy: {valid_acc[-1]:.2f}\")\n",
        "\n",
        "  if loss < best_loss:\n",
        "    best_loss = loss\n",
        "    torch.save(model.state_dict(), path)"
      ]
    },
    {
      "cell_type": "markdown",
      "metadata": {
        "id": "GIu5vZ3d2jNJ"
      },
      "source": [
        "## Evaluate on the Test set"
      ]
    },
    {
      "cell_type": "code",
      "execution_count": 12,
      "metadata": {
        "id": "q5oWJj8g11MF",
        "outputId": "f0588ae7-330e-42e0-a015-c3f445caac5f",
        "colab": {
          "base_uri": "https://localhost:8080/"
        }
      },
      "outputs": [
        {
          "output_type": "stream",
          "name": "stdout",
          "text": [
            "Test Loss: 1.460\n",
            "Test Accuracy: 0.48%\n"
          ]
        }
      ],
      "source": [
        "# load best model\n",
        "model.load_state_dict(torch.load(path))\n",
        "test_loss, test_acc = evaluate(model.to(device), test_loader, criterion, device)\n",
        "print(f\"Test Loss: {test_loss:.3f}\")\n",
        "print(f\"Test Accuracy: {test_acc:.2f}%\")"
      ]
    },
    {
      "cell_type": "markdown",
      "metadata": {
        "id": "qvOfsB752las"
      },
      "source": [
        "## Plot Loss and Accuracy Curves"
      ]
    },
    {
      "cell_type": "code",
      "source": [
        "# train_loss = train_loss[:-1]"
      ],
      "metadata": {
        "id": "moU07lZKQX3c"
      },
      "execution_count": 20,
      "outputs": []
    },
    {
      "cell_type": "code",
      "execution_count": 22,
      "metadata": {
        "id": "gk6I1WkDvWmE",
        "outputId": "6c6fa986-f48b-4ad3-e1fa-c34ca9b85097",
        "colab": {
          "base_uri": "https://localhost:8080/",
          "height": 265
        }
      },
      "outputs": [
        {
          "output_type": "display_data",
          "data": {
            "text/plain": [
              "<Figure size 432x288 with 1 Axes>"
            ],
            "image/png": "[encoded data removed]"
          },
          "metadata": {
            "needs_background": "light"
          }
        }
      ],
      "source": [
        "import matplotlib.pyplot as plt\n",
        "\n",
        "x = [i for i in range(len(valid_loss))]\n",
        "\n",
        "plt.plot(x, train_loss, label=\"Train Loss\")\n",
        "plt.plot(x, valid_loss, label=\"Validation Loss\")\n",
        "plt.legend()\n",
        "plt.show()"
      ]
    },
    {
      "cell_type": "code",
      "source": [
        "# train_acc = train_acc[:-1]"
      ],
      "metadata": {
        "id": "0iHt4sBiQiFR",
        "outputId": "dcd5a29d-9213-404c-c41c-ab7513f64455",
        "colab": {
          "base_uri": "https://localhost:8080/"
        }
      },
      "execution_count": 25,
      "outputs": [
        {
          "output_type": "stream",
          "name": "stdout",
          "text": [
            "112\n",
            "112\n"
          ]
        }
      ]
    },
    {
      "cell_type": "code",
      "execution_count": 26,
      "metadata": {
        "id": "A-xP3uX63aT8",
        "outputId": "7d259ee4-f904-47f6-e07b-45be0e11341c",
        "colab": {
          "base_uri": "https://localhost:8080/",
          "height": 265
        }
      },
      "outputs": [
        {
          "output_type": "display_data",
          "data": {
            "text/plain": [
              "<Figure size 432x288 with 1 Axes>"
            ],
            "image/png": "[encoded data removed]"
          },
          "metadata": {
            "needs_background": "light"
          }
        }
      ],
      "source": [
        "plt.plot(x, train_acc, label=\"Train Accuracy\")\n",
        "plt.plot(x, valid_acc, label=\"Validation Accuracy\")\n",
        "plt.legend()\n",
        "plt.show()"
      ]
    },
    {
      "cell_type": "code",
      "execution_count": 27,
      "metadata": {
        "id": "D_FdIR923n9N"
      },
      "outputs": [],
      "source": [
        "# reaching epoch 46 at 1hr"
      ]
    }
  ],
  "metadata": {
    "accelerator": "GPU",
    "colab": {
      "provenance": []
    },
    "gpuClass": "standard",
    "kernelspec": {
      "display_name": "pyg",
      "language": "python",
      "name": "python3"
    },
    "language_info": {
      "codemirror_mode": {
        "name": "ipython",
        "version": 3
      },
      "file_extension": ".py",
      "mimetype": "text/x-python",
      "name": "python",
      "nbconvert_exporter": "python",
      "pygments_lexer": "ipython3",
      "version": "3.9.15 (main, Nov 24 2022, 14:31:59) \n[GCC 11.2.0]"
    },
    "vscode": {
      "interpreter": {
        "hash": "602fd2f1343589d3bd6f27fae416162c1bba08e244faa27258d2511dac84d913"
      }
    }
  },
  "nbformat": 4,
  "nbformat_minor": 0
}