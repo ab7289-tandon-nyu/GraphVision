{
  "nbformat": 4,
  "nbformat_minor": 0,
  "metadata": {
    "colab": {
      "provenance": [],
      "authorship_tag": "ABX9TyO81jFeIg/H+An/opBW74Lk",
      "include_colab_link": true
    },
    "kernelspec": {
      "name": "python3",
      "display_name": "Python 3"
    },
    "language_info": {
      "name": "python"
    }
  },
  "cells": [
    {
      "cell_type": "markdown",
      "metadata": {
        "id": "view-in-github",
        "colab_type": "text"
      },
      "source": [
        "<a href=\"https://colab.research.google.com/github/ab7289-tandon-nyu/GraphVision/blob/oscar1/notebooks/oscar_test_datasets_py.ipynb\" target=\"_parent\"><img src=\"https://colab.research.google.com/assets/colab-badge.svg\" alt=\"Open In Colab\"/></a>"
      ]
    },
    {
      "cell_type": "markdown",
      "source": [
        "## Import PyTorch packages for graphs"
      ],
      "metadata": {
        "id": "speecvQjDMby"
      }
    },
    {
      "cell_type": "code",
      "source": [
        "import os\n",
        "import torch\n",
        "\n",
        "os.environ['TORCH'] = torch.__version__\n",
        "print(torch.__version__)\n",
        "\n",
        "!pip install -q torch-scatter -f https://data.pyg.org/whl/torch-${TORCH}.html\n",
        "!pip install -q torch-sparse -f https://data.pyg.org/whl/torch-${TORCH}.html\n",
        "!pip install -q torch-cluster -f https://data.pyg.org/whl/torch-${TORCH}.html\n",
        "!pip install -q torch-spline-conv -f https://data.pyg.org/whl/torch-${TORCH}.html\n",
        "!pip install -q git+https://github.com/pyg-team/pytorch_geometric.git"
      ],
      "metadata": {
        "colab": {
          "base_uri": "https://localhost:8080/"
        },
        "id": "j73lG0HcDLve",
        "outputId": "9364cc34-4499-46db-de63-add8f812477b"
      },
      "execution_count": 6,
      "outputs": [
        {
          "output_type": "stream",
          "name": "stdout",
          "text": [
            "1.13.0+cu116\n",
            "\u001b[K     |████████████████████████████████| 9.4 MB 5.3 MB/s \n",
            "\u001b[K     |████████████████████████████████| 4.6 MB 5.5 MB/s \n",
            "\u001b[K     |████████████████████████████████| 3.2 MB 5.3 MB/s \n",
            "\u001b[K     |████████████████████████████████| 873 kB 5.3 MB/s \n",
            "\u001b[K     |████████████████████████████████| 280 kB 4.8 MB/s \n",
            "\u001b[?25h  Building wheel for torch-geometric (setup.py) ... \u001b[?25l\u001b[?25hdone\n"
          ]
        }
      ]
    },
    {
      "cell_type": "markdown",
      "source": [
        "## Clone team's code"
      ],
      "metadata": {
        "id": "G8AjG8wcB0DS"
      }
    },
    {
      "cell_type": "code",
      "source": [
        "# !rm GraphVision/src/"
      ],
      "metadata": {
        "id": "01pExF83CMlt"
      },
      "execution_count": null,
      "outputs": []
    },
    {
      "cell_type": "code",
      "source": [
        "!git clone -b models \"https://github.com/ab7289-tandon-nyu/GraphVision.git\""
      ],
      "metadata": {
        "colab": {
          "base_uri": "https://localhost:8080/"
        },
        "id": "NCe4RrxKBzcV",
        "outputId": "7c598b1b-fabd-4e3b-c219-f79c8074ceb7"
      },
      "execution_count": 2,
      "outputs": [
        {
          "output_type": "stream",
          "name": "stdout",
          "text": [
            "Cloning into 'GraphVision'...\n",
            "remote: Enumerating objects: 180, done.\u001b[K\n",
            "remote: Counting objects: 100% (180/180), done.\u001b[K\n",
            "remote: Compressing objects: 100% (126/126), done.\u001b[K\n",
            "remote: Total 180 (delta 90), reused 117 (delta 44), pack-reused 0\u001b[K\n",
            "Receiving objects: 100% (180/180), 1.17 MiB | 8.63 MiB/s, done.\n",
            "Resolving deltas: 100% (90/90), done.\n"
          ]
        }
      ]
    },
    {
      "cell_type": "code",
      "execution_count": 5,
      "metadata": {
        "id": "ZjA8xwJ7BeFA"
      },
      "outputs": [],
      "source": [
        "!cp -r GraphVision/src/ ."
      ]
    },
    {
      "cell_type": "code",
      "source": [],
      "metadata": {
        "id": "LIe6AyoKCZT9"
      },
      "execution_count": null,
      "outputs": []
    }
  ]
}