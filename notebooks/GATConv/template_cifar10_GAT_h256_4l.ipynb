{
  "cells": [
    {
      "cell_type": "code",
      "execution_count": 1,
      "metadata": {
        "colab": {
          "base_uri": "https://localhost:8080/"
        },
        "id": "HQeBbCYZlhKn",
        "outputId": "d6ff1970-7793-441d-ad80-1486f2c3973e"
      },
      "outputs": [
        {
          "output_type": "stream",
          "name": "stdout",
          "text": [
            "1.13.0+cu116\n",
            "\u001b[K     |████████████████████████████████| 9.4 MB 31.6 MB/s \n",
            "\u001b[K     |████████████████████████████████| 4.6 MB 36.3 MB/s \n",
            "\u001b[K     |████████████████████████████████| 3.2 MB 30.5 MB/s \n",
            "\u001b[K     |████████████████████████████████| 512 kB 32.9 MB/s \n",
            "\u001b[K     |████████████████████████████████| 280 kB 80.7 MB/s \n",
            "\u001b[?25h  Building wheel for torch-geometric (setup.py) ... \u001b[?25l\u001b[?25hdone\n"
          ]
        }
      ],
      "source": [
        "# Install required packages.\n",
        "import os\n",
        "import torch\n",
        "os.environ['TORCH'] = torch.__version__\n",
        "print(torch.__version__)\n",
        "\n",
        "!pip install -q torch-scatter -f https://data.pyg.org/whl/torch-${TORCH}.html\n",
        "!pip install -q torch-sparse -f https://data.pyg.org/whl/torch-${TORCH}.html\n",
        "!pip install -q torch-cluster -f https://data.pyg.org/whl/torch-${TORCH}.html\n",
        "!pip install -q git+https://github.com/pyg-team/pytorch_geometric.git"
      ]
    },
    {
      "cell_type": "code",
      "execution_count": 2,
      "metadata": {
        "colab": {
          "base_uri": "https://localhost:8080/"
        },
        "id": "NUnIVvd-lxxZ",
        "outputId": "fd611b9c-db16-4189-b2a6-26e7dabfb639"
      },
      "outputs": [
        {
          "output_type": "stream",
          "name": "stdout",
          "text": [
            "  Installing build dependencies ... \u001b[?25l\u001b[?25hdone\n",
            "  Getting requirements to build wheel ... \u001b[?25l\u001b[?25hdone\n",
            "    Preparing wheel metadata ... \u001b[?25l\u001b[?25hdone\n",
            "\u001b[K     |████████████████████████████████| 121 kB 39.9 MB/s \n",
            "\u001b[K     |████████████████████████████████| 1.6 MB 64.0 MB/s \n",
            "\u001b[K     |████████████████████████████████| 83 kB 2.6 MB/s \n",
            "\u001b[?25h  Building wheel for GraphVision (PEP 517) ... \u001b[?25l\u001b[?25hdone\n"
          ]
        }
      ],
      "source": [
        "# Install our repo\n",
        "# !git clone -b models \"https://github.com/ab7289-tandon-nyu/GraphVision.git\"\n",
        "# !cp -r /content/GraphVision/src/ .\n",
        "\n",
        "!pip install -q git+https://github.com/ab7289-tandon-nyu/GraphVision.git"
      ]
    },
    {
      "cell_type": "code",
      "execution_count": 3,
      "metadata": {
        "id": "4hY3Lomuoya8"
      },
      "outputs": [],
      "source": [
        "SEED = 1234\n",
        "\n",
        "torch.manual_seed(SEED)\n",
        "torch.cuda.manual_seed(SEED)\n",
        "torch.backends.cudnn.deterministic = True"
      ]
    },
    {
      "cell_type": "code",
      "execution_count": 4,
      "metadata": {
        "id": "JHUJYsbj1LoJ"
      },
      "outputs": [],
      "source": [
        "# from google.colab import drive\n",
        "# drive.mount(\"/content/drive\")"
      ]
    },
    {
      "cell_type": "code",
      "execution_count": 5,
      "metadata": {
        "colab": {
          "base_uri": "https://localhost:8080/"
        },
        "id": "Wuj1_P_3m0-l",
        "outputId": "5f0683f2-23f6-4b3c-f73d-8c4dbb341a06"
      },
      "outputs": [
        {
          "output_type": "stream",
          "name": "stderr",
          "text": [
            "Downloading https://data.pyg.org/datasets/benchmarking-gnns/CIFAR10_v2.zip\n",
            "Extracting .data/CIFAR10/raw/CIFAR10_v2.zip\n",
            "Processing...\n",
            "Done!\n"
          ]
        }
      ],
      "source": [
        "from src.transforms import get_transforms\n",
        "from src.datasets import get_datasets, get_dataloaders\n",
        "\n",
        "transforms = get_transforms(\"cartesian\")\n",
        "train_dataset, valid_dataset, test_dataset = get_datasets(\".data/\", \n",
        "                        \"CIFAR10\", pre_transforms = None,\n",
        "                        transforms = transforms)\n",
        "BATCH_SIZE = 128\n",
        "\n",
        "train_loader, valid_loader, test_loader = get_dataloaders(train_dataset,\n",
        "                                                          valid_dataset,\n",
        "                                                          test_dataset,\n",
        "                                                          batch_size=(BATCH_SIZE, 1, 1),\n",
        "                                                          drop_last = False)"
      ]
    },
    {
      "cell_type": "markdown",
      "metadata": {
        "id": "Sjmgy7RvoJN-"
      },
      "source": [
        "## Review batch attributes"
      ]
    },
    {
      "cell_type": "code",
      "execution_count": 6,
      "metadata": {
        "colab": {
          "base_uri": "https://localhost:8080/"
        },
        "id": "-QCa0O4IoM6U",
        "outputId": "f7ea311d-c70c-4824-e38e-9e9bb422e893"
      },
      "outputs": [
        {
          "output_type": "stream",
          "name": "stdout",
          "text": [
            "\n",
            "DataBatch(x=[14981, 3], edge_index=[2, 134829], edge_attr=[134829, 2], y=[128], pos=[14981, 2], edge_weight=[134829], batch=[14981], ptr=[129])\n",
            "=====================================================================\n",
            "Number of features:  3\n",
            "Number of node features: 3\n",
            "Number of nodes: 14981\n",
            "Number of edges: 134829\n",
            "Average node degree: 9.00\n",
            "Has isolated nodes: False\n",
            "Has self-loops: True\n"
          ]
        }
      ],
      "source": [
        "sample_batch = next(iter(train_loader))\n",
        "\n",
        "print()\n",
        "print(sample_batch)\n",
        "print(\"=====================================================================\")\n",
        "\n",
        "# Gather some statistics about the first graph.\n",
        "print(f\"Number of features:  {sample_batch.num_features}\")\n",
        "print(f\"Number of node features: {sample_batch.num_node_features}\")\n",
        "print(f'Number of nodes: {sample_batch.num_nodes}')\n",
        "print(f'Number of edges: {sample_batch.num_edges}')\n",
        "print(f'Average node degree: {sample_batch.num_edges / sample_batch.num_nodes:.2f}')\n",
        "print(f'Has isolated nodes: {sample_batch.has_isolated_nodes()}')\n",
        "print(f'Has self-loops: {sample_batch.has_self_loops()}')"
      ]
    },
    {
      "cell_type": "code",
      "execution_count": 7,
      "metadata": {
        "colab": {
          "base_uri": "https://localhost:8080/"
        },
        "id": "tu3VtmrWpnZx",
        "outputId": "6030e8ba-5701-44f4-8fe7-a7488a272085"
      },
      "outputs": [
        {
          "output_type": "stream",
          "name": "stdout",
          "text": [
            "Number of features: 3\n",
            "Number of classes: 10\n",
            "Edge Attr Dimension: 2\n"
          ]
        }
      ],
      "source": [
        "# store edge dimension\n",
        "edge_dim = sample_batch.edge_attr.size(-1)\n",
        "edge_dim\n",
        "# store number of features in graph batch\n",
        "input_features = test_dataset.num_features\n",
        "# store number of classes for classification\n",
        "num_classes = test_dataset.num_classes\n",
        "\n",
        "print(f\"Number of features: {input_features}\")\n",
        "print(f\"Number of classes: {num_classes}\")\n",
        "print(f\"Edge Attr Dimension: {edge_dim}\")"
      ]
    },
    {
      "cell_type": "code",
      "execution_count": 8,
      "metadata": {
        "colab": {
          "base_uri": "https://localhost:8080/"
        },
        "id": "rqiZaFw2ps9r",
        "outputId": "b790c4d5-e242-4061-e58f-6e49bd4445dc"
      },
      "outputs": [
        {
          "output_type": "stream",
          "name": "stdout",
          "text": [
            "Creating new Model\n"
          ]
        }
      ],
      "source": [
        "from pathlib import Path\n",
        "\n",
        "save_loc = \"\" # put save location here\n",
        "model_name = \"GATConv_clus-false_BN_RELU_h256_layer4.pt\"\n",
        "\n",
        "file_path = save_loc + model_name\n",
        "path = Path(file_path)\n",
        "state_dict = None\n",
        "if path.exists() and path.is_file():\n",
        "  print(\"Found Save!\")\n",
        "  state_dict = torch.load(path)\n",
        "else:\n",
        "  print(\"Creating new Model\")"
      ]
    },
    {
      "cell_type": "markdown",
      "metadata": {
        "id": "gGiE28k32eUr"
      },
      "source": [
        "## Create our Model"
      ]
    },
    {
      "cell_type": "code",
      "execution_count": 9,
      "metadata": {
        "id": "epF5kpJcqWJw"
      },
      "outputs": [],
      "source": [
        "from src.models import DeeperGCN\n",
        "from src.engine import evaluate\n",
        "\n",
        "hidden_features = 256\n",
        "\n",
        "device = torch.device(\"cuda\" if torch.cuda.is_available() else \"cpu\")\n",
        "model = DeeperGCN(\n",
        "    input_features,\n",
        "    num_classes,\n",
        "    hidden_features,\n",
        "    conv_type = \"GAT\",\n",
        "    act = \"relu\",\n",
        "    norm = \"batch\",\n",
        "    num_layers = 4,\n",
        "    use_cluster_pooling = False,\n",
        "    readout = \"mean\",\n",
        "    dropout = 0.2,\n",
        "    edge_dim = edge_dim\n",
        ").to(device)\n",
        "criterion = torch.nn.CrossEntropyLoss().to(device)\n",
        "prev_loss = None\n",
        "if state_dict is not None:\n",
        "  print(\"Loading previously saved state dictionary\")\n",
        "  model.load_state_dict(state_dict)\n",
        "  prev_loss, _ = evaluate(model.to(device), test_loader, criterion, device)\n",
        "optimizer = torch.optim.Adam(model.parameters(), lr=0.01)"
      ]
    },
    {
      "cell_type": "code",
      "execution_count": 10,
      "metadata": {
        "colab": {
          "base_uri": "https://localhost:8080/"
        },
        "id": "fsm1MwvSr0nU",
        "outputId": "61098c8a-b245-42d2-dfba-94b98ff8bb16"
      },
      "outputs": [
        {
          "output_type": "stream",
          "name": "stdout",
          "text": [
            "There are 273,930 trainable parameters.\n",
            "\n",
            "DeeperGCN(\n",
            "  (fc_in): Linear(in_features=3, out_features=256, bias=True)\n",
            "  (fc_out): Linear(in_features=256, out_features=10, bias=True)\n",
            "  (out_act): ReLU(inplace=True)\n",
            "  (layers): ModuleList(\n",
            "    (0): DeepGCNLayer(block=res+)\n",
            "    (1): DeepGCNLayer(block=res+)\n",
            "    (2): DeepGCNLayer(block=res+)\n",
            "    (3): DeepGCNLayer(block=res+)\n",
            "  )\n",
            ")\n"
          ]
        }
      ],
      "source": [
        "params = sum([p.numel() for p in model.parameters() if p.requires_grad])\n",
        "print(f\"There are {params:,} trainable parameters.\")\n",
        "print()\n",
        "print(model)"
      ]
    },
    {
      "cell_type": "markdown",
      "source": [
        "```\n",
        "There are 273,930 trainable parameters.\n",
        "\n",
        "DeeperGCN(\n",
        "  (fc_in): Linear(in_features=3, out_features=256, bias=True)\n",
        "  (fc_out): Linear(in_features=256, out_features=10, bias=True)\n",
        "  (out_act): ReLU(inplace=True)\n",
        "  (layers): ModuleList(\n",
        "    (0): DeepGCNLayer(block=res+)\n",
        "    (1): DeepGCNLayer(block=res+)\n",
        "    (2): DeepGCNLayer(block=res+)\n",
        "    (3): DeepGCNLayer(block=res+)\n",
        "  )\n",
        ")\n",
        "```"
      ],
      "metadata": {
        "id": "7OgZBUN15QDz"
      }
    },
    {
      "cell_type": "markdown",
      "metadata": {
        "id": "uuoamYXu2hf-"
      },
      "source": [
        "## Train"
      ]
    },
    {
      "cell_type": "code",
      "execution_count": 11,
      "metadata": {
        "colab": {
          "base_uri": "https://localhost:8080/"
        },
        "id": "8pyJ2olIr9pi",
        "outputId": "4b868f43-3f84-4a5e-d750-674ff351f367"
      },
      "outputs": [
        {
          "output_type": "stream",
          "name": "stdout",
          "text": [
            "\n",
            "Epoch: 1\n",
            "\n",
            "Train Loss: 2.074, Train Accuracy: 0.22\n",
            "Validation Loss: 1.971, Validation Accuracy: 0.25\n",
            "\n",
            "Epoch: 2\n",
            "\n",
            "Train Loss: 1.978, Train Accuracy: 0.25\n",
            "Validation Loss: 1.908, Validation Accuracy: 0.28\n",
            "\n",
            "Epoch: 3\n",
            "\n",
            "Train Loss: 1.921, Train Accuracy: 0.28\n",
            "Validation Loss: 1.860, Validation Accuracy: 0.31\n",
            "\n",
            "Epoch: 4\n",
            "\n",
            "Train Loss: 1.887, Train Accuracy: 0.29\n",
            "Validation Loss: 1.814, Validation Accuracy: 0.31\n",
            "\n",
            "Epoch: 5\n",
            "\n",
            "Train Loss: 1.853, Train Accuracy: 0.31\n",
            "Validation Loss: 1.790, Validation Accuracy: 0.32\n",
            "\n",
            "Epoch: 6\n",
            "\n",
            "Train Loss: 1.825, Train Accuracy: 0.32\n",
            "Validation Loss: 1.722, Validation Accuracy: 0.35\n",
            "\n",
            "Epoch: 7\n",
            "\n",
            "Train Loss: 1.804, Train Accuracy: 0.33\n",
            "Validation Loss: 1.739, Validation Accuracy: 0.36\n",
            "\n",
            "Epoch: 8\n",
            "\n",
            "Train Loss: 1.800, Train Accuracy: 0.33\n",
            "Validation Loss: 1.734, Validation Accuracy: 0.36\n",
            "\n",
            "Epoch: 9\n",
            "\n",
            "Train Loss: 1.800, Train Accuracy: 0.33\n",
            "Validation Loss: 1.709, Validation Accuracy: 0.38\n",
            "\n",
            "Epoch: 10\n",
            "\n",
            "Train Loss: 1.790, Train Accuracy: 0.34\n",
            "Validation Loss: 1.771, Validation Accuracy: 0.35\n",
            "\n",
            "Epoch: 11\n",
            "\n",
            "Train Loss: 1.783, Train Accuracy: 0.34\n",
            "Validation Loss: 1.740, Validation Accuracy: 0.35\n",
            "\n",
            "Epoch: 12\n",
            "\n",
            "Train Loss: 1.777, Train Accuracy: 0.34\n",
            "Validation Loss: 1.778, Validation Accuracy: 0.35\n",
            "\n",
            "Epoch: 13\n",
            "\n",
            "Train Loss: 1.774, Train Accuracy: 0.34\n",
            "Validation Loss: 1.662, Validation Accuracy: 0.39\n",
            "\n",
            "Epoch: 14\n",
            "\n",
            "Train Loss: 1.782, Train Accuracy: 0.34\n",
            "Validation Loss: 1.715, Validation Accuracy: 0.38\n",
            "\n",
            "Epoch: 15\n",
            "\n",
            "Train Loss: 1.782, Train Accuracy: 0.34\n",
            "Validation Loss: 1.680, Validation Accuracy: 0.38\n",
            "\n",
            "Epoch: 16\n",
            "\n",
            "Train Loss: 1.777, Train Accuracy: 0.35\n",
            "Validation Loss: 1.682, Validation Accuracy: 0.39\n",
            "\n",
            "Epoch: 17\n",
            "\n",
            "Train Loss: 1.767, Train Accuracy: 0.35\n",
            "Validation Loss: 1.662, Validation Accuracy: 0.39\n",
            "\n",
            "Epoch: 18\n",
            "\n",
            "Train Loss: 1.771, Train Accuracy: 0.35\n",
            "Validation Loss: 1.702, Validation Accuracy: 0.37\n",
            "\n",
            "Epoch: 19\n",
            "\n",
            "Train Loss: 1.757, Train Accuracy: 0.35\n",
            "Validation Loss: 1.698, Validation Accuracy: 0.38\n",
            "\n",
            "Epoch: 20\n",
            "\n",
            "Train Loss: 1.764, Train Accuracy: 0.35\n",
            "Validation Loss: 1.642, Validation Accuracy: 0.40\n",
            "\n",
            "Epoch: 21\n",
            "\n",
            "Train Loss: 1.773, Train Accuracy: 0.35\n",
            "Validation Loss: 1.675, Validation Accuracy: 0.38\n",
            "\n",
            "Epoch: 22\n",
            "\n",
            "Train Loss: 1.763, Train Accuracy: 0.35\n",
            "Validation Loss: 1.670, Validation Accuracy: 0.40\n",
            "\n",
            "Epoch: 23\n",
            "\n",
            "Train Loss: 1.772, Train Accuracy: 0.35\n",
            "Validation Loss: 1.707, Validation Accuracy: 0.38\n",
            "\n",
            "Epoch: 24\n",
            "\n",
            "Train Loss: 1.772, Train Accuracy: 0.35\n",
            "Validation Loss: 1.748, Validation Accuracy: 0.36\n",
            "\n",
            "Epoch: 25\n",
            "\n",
            "Train Loss: 1.800, Train Accuracy: 0.34\n",
            "Validation Loss: 1.717, Validation Accuracy: 0.37\n",
            "\n",
            "Epoch: 26\n",
            "\n",
            "Train Loss: 1.778, Train Accuracy: 0.35\n",
            "Validation Loss: 1.697, Validation Accuracy: 0.39\n",
            "\n",
            "Epoch: 27\n",
            "\n",
            "Train Loss: 1.818, Train Accuracy: 0.33\n",
            "Validation Loss: 1.709, Validation Accuracy: 0.38\n",
            "\n",
            "Epoch: 28\n",
            "\n",
            "Train Loss: 1.789, Train Accuracy: 0.34\n",
            "Validation Loss: 1.729, Validation Accuracy: 0.36\n",
            "\n",
            "Epoch: 29\n",
            "\n",
            "Train Loss: 1.789, Train Accuracy: 0.34\n",
            "Validation Loss: 1.674, Validation Accuracy: 0.39\n",
            "\n",
            "Epoch: 30\n",
            "\n",
            "Train Loss: 1.781, Train Accuracy: 0.35\n",
            "Validation Loss: 1.662, Validation Accuracy: 0.39\n",
            "\n",
            "Epoch: 31\n",
            "\n",
            "Train Loss: 1.784, Train Accuracy: 0.35\n",
            "Validation Loss: 1.759, Validation Accuracy: 0.36\n",
            "\n",
            "Epoch: 32\n",
            "\n",
            "Train Loss: 1.822, Train Accuracy: 0.33\n",
            "Validation Loss: 1.783, Validation Accuracy: 0.34\n",
            "\n",
            "Epoch: 33\n",
            "\n",
            "Train Loss: 1.817, Train Accuracy: 0.33\n",
            "Validation Loss: 1.743, Validation Accuracy: 0.36\n",
            "\n",
            "Epoch: 34\n",
            "\n",
            "Train Loss: 1.798, Train Accuracy: 0.34\n",
            "Validation Loss: 1.734, Validation Accuracy: 0.37\n",
            "\n",
            "Epoch: 35\n",
            "\n",
            "Train Loss: 1.793, Train Accuracy: 0.34\n",
            "Validation Loss: 1.713, Validation Accuracy: 0.37\n",
            "\n",
            "Epoch: 36\n",
            "\n",
            "Train Loss: 1.799, Train Accuracy: 0.34\n",
            "Validation Loss: 1.755, Validation Accuracy: 0.35\n",
            "\n",
            "Epoch: 37\n",
            "\n",
            "Train Loss: 1.808, Train Accuracy: 0.34\n",
            "Validation Loss: 1.773, Validation Accuracy: 0.36\n",
            "\n",
            "Epoch: 38\n",
            "\n",
            "Train Loss: 1.802, Train Accuracy: 0.34\n",
            "Validation Loss: 1.707, Validation Accuracy: 0.38\n",
            "\n",
            "Epoch: 39\n",
            "\n",
            "Train Loss: 1.792, Train Accuracy: 0.34\n",
            "Validation Loss: 1.689, Validation Accuracy: 0.39\n",
            "\n",
            "Epoch: 40\n",
            "\n",
            "Train Loss: 1.791, Train Accuracy: 0.34\n",
            "Validation Loss: 1.712, Validation Accuracy: 0.38\n",
            "\n",
            "Epoch: 41\n",
            "\n",
            "Train Loss: 1.792, Train Accuracy: 0.34\n",
            "Validation Loss: 1.744, Validation Accuracy: 0.36\n",
            "\n",
            "Epoch: 42\n",
            "\n",
            "Train Loss: 1.795, Train Accuracy: 0.34\n",
            "Validation Loss: 1.748, Validation Accuracy: 0.37\n",
            "\n",
            "Epoch: 43\n",
            "\n",
            "Train Loss: 1.800, Train Accuracy: 0.34\n",
            "Validation Loss: 1.714, Validation Accuracy: 0.38\n",
            "\n",
            "Epoch: 44\n",
            "\n",
            "Train Loss: 1.786, Train Accuracy: 0.34\n",
            "Validation Loss: 1.687, Validation Accuracy: 0.39\n",
            "\n",
            "Epoch: 45\n",
            "\n",
            "Train Loss: 1.790, Train Accuracy: 0.34\n",
            "Validation Loss: 1.884, Validation Accuracy: 0.32\n",
            "\n",
            "Epoch: 46\n",
            "\n",
            "Train Loss: 1.849, Train Accuracy: 0.32\n",
            "Validation Loss: 1.738, Validation Accuracy: 0.36\n",
            "\n",
            "Epoch: 47\n",
            "\n",
            "Train Loss: 1.814, Train Accuracy: 0.33\n",
            "Validation Loss: 1.741, Validation Accuracy: 0.37\n",
            "\n",
            "Epoch: 48\n",
            "\n",
            "Train Loss: 1.838, Train Accuracy: 0.32\n",
            "Validation Loss: 1.832, Validation Accuracy: 0.31\n",
            "\n",
            "Epoch: 49\n",
            "\n",
            "Train Loss: 1.866, Train Accuracy: 0.31\n",
            "Validation Loss: 1.788, Validation Accuracy: 0.34\n",
            "\n",
            "Epoch: 50\n",
            "\n",
            "Train Loss: 1.854, Train Accuracy: 0.31\n",
            "Validation Loss: 1.764, Validation Accuracy: 0.35\n",
            "\n",
            "Epoch: 51\n",
            "\n",
            "Train Loss: 1.838, Train Accuracy: 0.32\n",
            "Validation Loss: 1.748, Validation Accuracy: 0.36\n",
            "\n",
            "Epoch: 52\n",
            "\n",
            "Train Loss: 1.835, Train Accuracy: 0.32\n",
            "Validation Loss: 1.741, Validation Accuracy: 0.37\n",
            "\n",
            "Epoch: 53\n",
            "\n",
            "Train Loss: 1.838, Train Accuracy: 0.32\n",
            "Validation Loss: 1.756, Validation Accuracy: 0.35\n",
            "\n",
            "Epoch: 54\n",
            "\n",
            "Train Loss: 1.833, Train Accuracy: 0.32\n",
            "Validation Loss: 1.788, Validation Accuracy: 0.35\n",
            "\n",
            "Epoch: 55\n",
            "\n",
            "Train Loss: 1.824, Train Accuracy: 0.33\n",
            "Validation Loss: 1.848, Validation Accuracy: 0.34\n",
            "\n",
            "Epoch: 56\n",
            "\n",
            "Train Loss: 1.823, Train Accuracy: 0.33\n",
            "Validation Loss: 1.739, Validation Accuracy: 0.37\n",
            "\n",
            "Epoch: 57\n",
            "\n",
            "Train Loss: 1.809, Train Accuracy: 0.33\n",
            "Validation Loss: 1.720, Validation Accuracy: 0.37\n",
            "\n",
            "Epoch: 58\n",
            "\n",
            "Train Loss: 1.811, Train Accuracy: 0.33\n",
            "Validation Loss: 1.859, Validation Accuracy: 0.34\n",
            "\n",
            "Epoch: 59\n",
            "\n",
            "Train Loss: 1.804, Train Accuracy: 0.34\n",
            "Validation Loss: 1.724, Validation Accuracy: 0.37\n",
            "\n",
            "Epoch: 60\n",
            "\n",
            "Train Loss: 1.805, Train Accuracy: 0.33\n",
            "Validation Loss: 1.735, Validation Accuracy: 0.36\n",
            "\n",
            "Epoch: 61\n",
            "\n",
            "Train Loss: 1.808, Train Accuracy: 0.33\n",
            "Validation Loss: 1.774, Validation Accuracy: 0.35\n",
            "\n",
            "Epoch: 62\n",
            "\n",
            "Train Loss: 1.826, Train Accuracy: 0.33\n",
            "Validation Loss: 1.837, Validation Accuracy: 0.33\n",
            "\n",
            "Epoch: 63\n",
            "\n",
            "Train Loss: 1.833, Train Accuracy: 0.32\n",
            "Validation Loss: 1.745, Validation Accuracy: 0.36\n",
            "\n",
            "Epoch: 64\n",
            "\n",
            "Train Loss: 1.816, Train Accuracy: 0.33\n",
            "Validation Loss: 1.719, Validation Accuracy: 0.36\n",
            "\n",
            "Epoch: 65\n",
            "\n",
            "Train Loss: 1.812, Train Accuracy: 0.33\n",
            "Validation Loss: 1.738, Validation Accuracy: 0.36\n",
            "\n",
            "Epoch: 66\n",
            "\n",
            "Train Loss: 1.804, Train Accuracy: 0.34\n",
            "Validation Loss: 1.724, Validation Accuracy: 0.35\n",
            "\n",
            "Epoch: 67\n",
            "\n",
            "Train Loss: 1.816, Train Accuracy: 0.33\n",
            "Validation Loss: 1.694, Validation Accuracy: 0.38\n",
            "\n",
            "Epoch: 68\n",
            "\n",
            "Train Loss: 1.801, Train Accuracy: 0.33\n",
            "Validation Loss: 1.683, Validation Accuracy: 0.38\n",
            "\n",
            "Epoch: 69\n",
            "\n",
            "Train Loss: 1.813, Train Accuracy: 0.33\n",
            "Validation Loss: 1.755, Validation Accuracy: 0.36\n",
            "\n",
            "Epoch: 70\n",
            "\n",
            "Train Loss: 1.806, Train Accuracy: 0.33\n",
            "Validation Loss: 1.750, Validation Accuracy: 0.35\n",
            "\n",
            "Epoch: 71\n",
            "\n",
            "Train Loss: 1.810, Train Accuracy: 0.33\n",
            "Validation Loss: 1.723, Validation Accuracy: 0.37\n",
            "\n",
            "Epoch: 72\n",
            "\n",
            "Train Loss: 1.818, Train Accuracy: 0.32\n",
            "Validation Loss: 1.733, Validation Accuracy: 0.36\n",
            "\n",
            "Epoch: 73\n",
            "\n",
            "Train Loss: 1.835, Train Accuracy: 0.32\n",
            "Validation Loss: 1.773, Validation Accuracy: 0.35\n",
            "\n",
            "Epoch: 74\n",
            "\n",
            "Train Loss: 1.833, Train Accuracy: 0.32\n",
            "Validation Loss: 1.767, Validation Accuracy: 0.34\n",
            "\n",
            "Epoch: 75\n",
            "\n",
            "Train Loss: 1.847, Train Accuracy: 0.32\n",
            "Validation Loss: 1.765, Validation Accuracy: 0.35\n",
            "\n",
            "Epoch: 76\n",
            "\n",
            "Train Loss: 1.839, Train Accuracy: 0.32\n",
            "Validation Loss: 1.801, Validation Accuracy: 0.33\n",
            "\n",
            "Epoch: 77\n",
            "\n",
            "Train Loss: 1.839, Train Accuracy: 0.32\n",
            "Validation Loss: 1.717, Validation Accuracy: 0.37\n",
            "\n",
            "Epoch: 78\n",
            "\n",
            "Train Loss: 1.828, Train Accuracy: 0.33\n",
            "Validation Loss: 1.781, Validation Accuracy: 0.34\n",
            "\n",
            "Epoch: 79\n",
            "\n",
            "Train Loss: 1.829, Train Accuracy: 0.32\n",
            "Validation Loss: 1.753, Validation Accuracy: 0.36\n",
            "\n",
            "Epoch: 80\n",
            "\n",
            "Train Loss: 1.834, Train Accuracy: 0.32\n",
            "Validation Loss: 1.776, Validation Accuracy: 0.34\n",
            "\n",
            "Epoch: 81\n",
            "\n",
            "Train Loss: 1.832, Train Accuracy: 0.32\n",
            "Validation Loss: 1.752, Validation Accuracy: 0.36\n",
            "\n",
            "Epoch: 82\n",
            "\n",
            "Train Loss: 1.812, Train Accuracy: 0.33\n",
            "Validation Loss: 1.735, Validation Accuracy: 0.35\n",
            "\n",
            "Epoch: 83\n",
            "\n",
            "Train Loss: 1.823, Train Accuracy: 0.32\n",
            "Validation Loss: 1.774, Validation Accuracy: 0.36\n",
            "\n",
            "Epoch: 84\n",
            "\n",
            "Train Loss: 1.814, Train Accuracy: 0.33\n",
            "Validation Loss: 1.726, Validation Accuracy: 0.36\n",
            "\n",
            "Epoch: 85\n",
            "\n",
            "Train Loss: 1.807, Train Accuracy: 0.33\n",
            "Validation Loss: 1.772, Validation Accuracy: 0.35\n",
            "\n",
            "Epoch: 86\n",
            "\n",
            "Train Loss: 1.834, Train Accuracy: 0.32\n",
            "Validation Loss: 1.916, Validation Accuracy: 0.34\n",
            "\n",
            "Epoch: 87\n",
            "\n",
            "Train Loss: 1.843, Train Accuracy: 0.32\n",
            "Validation Loss: 1.808, Validation Accuracy: 0.36\n",
            "\n",
            "Epoch: 88\n",
            "\n",
            "Train Loss: 1.826, Train Accuracy: 0.33\n",
            "Validation Loss: 1.785, Validation Accuracy: 0.35\n",
            "\n",
            "Epoch: 89\n",
            "\n",
            "Train Loss: 1.856, Train Accuracy: 0.31\n",
            "Validation Loss: 1.751, Validation Accuracy: 0.35\n",
            "\n",
            "Epoch: 90\n",
            "\n",
            "Train Loss: 1.841, Train Accuracy: 0.32\n",
            "Validation Loss: 1.738, Validation Accuracy: 0.36\n",
            "\n",
            "Epoch: 91\n",
            "\n",
            "Train Loss: 1.833, Train Accuracy: 0.33\n",
            "Validation Loss: 1.774, Validation Accuracy: 0.36\n",
            "\n",
            "Epoch: 92\n",
            "\n",
            "Train Loss: 1.817, Train Accuracy: 0.33\n",
            "Validation Loss: 1.845, Validation Accuracy: 0.32\n",
            "\n",
            "Epoch: 93\n",
            "\n",
            "Train Loss: 1.835, Train Accuracy: 0.32\n",
            "Validation Loss: 1.733, Validation Accuracy: 0.37\n",
            "\n",
            "Epoch: 94\n",
            "\n",
            "Train Loss: 1.818, Train Accuracy: 0.33\n",
            "Validation Loss: 1.835, Validation Accuracy: 0.36\n",
            "\n",
            "Epoch: 95\n",
            "\n",
            "Train Loss: 1.817, Train Accuracy: 0.33\n",
            "Validation Loss: 1.724, Validation Accuracy: 0.37\n",
            "\n",
            "Epoch: 96\n",
            "\n",
            "Train Loss: 1.819, Train Accuracy: 0.33\n",
            "Validation Loss: 1.722, Validation Accuracy: 0.37\n",
            "\n",
            "Epoch: 97\n",
            "\n",
            "Train Loss: 1.818, Train Accuracy: 0.33\n",
            "Validation Loss: 1.761, Validation Accuracy: 0.36\n",
            "\n",
            "Epoch: 98\n",
            "\n",
            "Train Loss: 1.823, Train Accuracy: 0.33\n",
            "Validation Loss: 1.725, Validation Accuracy: 0.37\n",
            "\n",
            "Epoch: 99\n",
            "\n",
            "Train Loss: 1.819, Train Accuracy: 0.33\n",
            "Validation Loss: 1.743, Validation Accuracy: 0.37\n",
            "\n",
            "Epoch: 100\n",
            "\n",
            "Train Loss: 1.813, Train Accuracy: 0.33\n",
            "Validation Loss: 1.730, Validation Accuracy: 0.37\n"
          ]
        }
      ],
      "source": [
        "from src.engine import train, evaluate\n",
        "from src.utils import calculate_accuracy\n",
        "\n",
        "EPOCHS = 100 # was 200\n",
        "train_loss = []\n",
        "train_acc = []\n",
        "valid_loss = []\n",
        "valid_acc = []\n",
        "best_loss = float('inf')\n",
        "best_loss = float('inf')\n",
        "if prev_loss is not None:\n",
        "  print(f\"Training from previous best loss: {prev_loss}\")\n",
        "  best_loss = prev_loss\n",
        "\n",
        "for epoch in range(1, EPOCHS + 1):\n",
        "  print(f\"\\nEpoch: {epoch}\\n\")\n",
        "  loss, acc = train(model, train_loader, criterion, optimizer, device)\n",
        "  train_loss.append(loss)\n",
        "  train_acc.append(acc)\n",
        "  print(f\"Train Loss: {train_loss[-1]:.3f}, Train Accuracy: {train_acc[-1]:.2f}\")\n",
        "\n",
        "  loss, acc = evaluate(model, valid_loader, criterion, device)\n",
        "  valid_loss.append(loss)\n",
        "  valid_acc.append(acc)\n",
        "  print(f\"Validation Loss: {valid_loss[-1]:.3f}, Validation Accuracy: {valid_acc[-1]:.2f}\")\n",
        "\n",
        "  if loss < best_loss:\n",
        "    best_loss = loss\n",
        "    torch.save(model.state_dict(), path)"
      ]
    },
    {
      "cell_type": "markdown",
      "metadata": {
        "id": "GIu5vZ3d2jNJ"
      },
      "source": [
        "## Evaluate on the Test set"
      ]
    },
    {
      "cell_type": "code",
      "execution_count": 12,
      "metadata": {
        "id": "q5oWJj8g11MF",
        "outputId": "8630c814-f84c-4b63-cc1a-e6d9d99d9fd2",
        "colab": {
          "base_uri": "https://localhost:8080/"
        }
      },
      "outputs": [
        {
          "output_type": "stream",
          "name": "stdout",
          "text": [
            "Test Loss: 1.668\n",
            "Test Accuracy: 0.39%\n"
          ]
        }
      ],
      "source": [
        "# load best model\n",
        "model.load_state_dict(torch.load(path))\n",
        "test_loss, test_acc = evaluate(model.to(device), test_loader, criterion, device)\n",
        "print(f\"Test Loss: {test_loss:.3f}\")\n",
        "print(f\"Test Accuracy: {test_acc:.2f}%\")"
      ]
    },
    {
      "cell_type": "markdown",
      "metadata": {
        "id": "qvOfsB752las"
      },
      "source": [
        "## Plot Loss and Accuracy Curves"
      ]
    },
    {
      "cell_type": "code",
      "execution_count": 13,
      "metadata": {
        "id": "gk6I1WkDvWmE",
        "outputId": "c2534012-061a-413b-f59d-e5bfe05e88a0",
        "colab": {
          "base_uri": "https://localhost:8080/",
          "height": 265
        }
      },
      "outputs": [
        {
          "output_type": "display_data",
          "data": {
            "text/plain": [
              "<Figure size 432x288 with 1 Axes>"
            ],
            "image/png": "[encoded data removed]"
          },
          "metadata": {
            "needs_background": "light"
          }
        }
      ],
      "source": [
        "import matplotlib.pyplot as plt\n",
        "\n",
        "x = [i for i in range(len(valid_loss))]\n",
        "\n",
        "plt.plot(x, train_loss, label=\"Train Loss\")\n",
        "plt.plot(x, valid_loss, label=\"Validation Loss\")\n",
        "plt.legend()\n",
        "plt.show()"
      ]
    },
    {
      "cell_type": "code",
      "execution_count": 14,
      "metadata": {
        "id": "A-xP3uX63aT8",
        "outputId": "888169de-a87e-419f-b9cc-c40a8de30dc7",
        "colab": {
          "base_uri": "https://localhost:8080/",
          "height": 265
        }
      },
      "outputs": [
        {
          "output_type": "display_data",
          "data": {
            "text/plain": [
              "<Figure size 432x288 with 1 Axes>"
            ],
            "image/png": "[encoded data removed]"
          },
          "metadata": {
            "needs_background": "light"
          }
        }
      ],
      "source": [
        "plt.plot(x, train_acc, label=\"Train Accuracy\")\n",
        "plt.plot(x, valid_acc, label=\"Validation Accuracy\")\n",
        "plt.legend()\n",
        "plt.show()"
      ]
    },
    {
      "cell_type": "code",
      "execution_count": 14,
      "metadata": {
        "id": "D_FdIR923n9N"
      },
      "outputs": [],
      "source": [
        "# reaching epoch 55 (out of 1 to 100) at 1h25m (=85m) of training "
      ]
    }
  ],
  "metadata": {
    "accelerator": "GPU",
    "colab": {
      "provenance": []
    },
    "gpuClass": "standard",
    "kernelspec": {
      "display_name": "pyg",
      "language": "python",
      "name": "python3"
    },
    "language_info": {
      "codemirror_mode": {
        "name": "ipython",
        "version": 3
      },
      "file_extension": ".py",
      "mimetype": "text/x-python",
      "name": "python",
      "nbconvert_exporter": "python",
      "pygments_lexer": "ipython3",
      "version": "3.9.15 (main, Nov 24 2022, 14:31:59) \n[GCC 11.2.0]"
    },
    "vscode": {
      "interpreter": {
        "hash": "602fd2f1343589d3bd6f27fae416162c1bba08e244faa27258d2511dac84d913"
      }
    }
  },
  "nbformat": 4,
  "nbformat_minor": 0
}