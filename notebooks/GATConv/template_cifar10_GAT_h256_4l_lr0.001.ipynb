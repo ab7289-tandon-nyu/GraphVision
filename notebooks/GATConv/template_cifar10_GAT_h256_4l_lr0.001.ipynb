{
  "cells": [
    {
      "cell_type": "code",
      "execution_count": 1,
      "metadata": {
        "colab": {
          "base_uri": "https://localhost:8080/"
        },
        "id": "HQeBbCYZlhKn",
        "outputId": "6c99dfb1-f4ad-487c-f8c9-5807ba644d98"
      },
      "outputs": [
        {
          "output_type": "stream",
          "name": "stdout",
          "text": [
            "1.13.0+cu116\n",
            "\u001b[K     |████████████████████████████████| 9.4 MB 5.3 MB/s \n",
            "\u001b[K     |████████████████████████████████| 4.6 MB 5.2 MB/s \n",
            "\u001b[K     |████████████████████████████████| 3.2 MB 4.9 MB/s \n",
            "\u001b[K     |████████████████████████████████| 512 kB 4.8 MB/s \n",
            "\u001b[K     |████████████████████████████████| 280 kB 67.3 MB/s \n",
            "\u001b[?25h  Building wheel for torch-geometric (setup.py) ... \u001b[?25l\u001b[?25hdone\n"
          ]
        }
      ],
      "source": [
        "# Install required packages.\n",
        "import os\n",
        "import torch\n",
        "os.environ['TORCH'] = torch.__version__\n",
        "print(torch.__version__)\n",
        "\n",
        "!pip install -q torch-scatter -f https://data.pyg.org/whl/torch-${TORCH}.html\n",
        "!pip install -q torch-sparse -f https://data.pyg.org/whl/torch-${TORCH}.html\n",
        "!pip install -q torch-cluster -f https://data.pyg.org/whl/torch-${TORCH}.html\n",
        "!pip install -q git+https://github.com/pyg-team/pytorch_geometric.git"
      ]
    },
    {
      "cell_type": "code",
      "execution_count": 2,
      "metadata": {
        "colab": {
          "base_uri": "https://localhost:8080/"
        },
        "id": "NUnIVvd-lxxZ",
        "outputId": "537544d8-1d4f-40a3-c909-2594d11aab72"
      },
      "outputs": [
        {
          "output_type": "stream",
          "name": "stdout",
          "text": [
            "  Installing build dependencies ... \u001b[?25l\u001b[?25hdone\n",
            "  Getting requirements to build wheel ... \u001b[?25l\u001b[?25hdone\n",
            "    Preparing wheel metadata ... \u001b[?25l\u001b[?25hdone\n",
            "\u001b[K     |████████████████████████████████| 121 kB 4.8 MB/s \n",
            "\u001b[K     |████████████████████████████████| 1.6 MB 31.8 MB/s \n",
            "\u001b[K     |████████████████████████████████| 83 kB 2.8 MB/s \n",
            "\u001b[?25h  Building wheel for GraphVision (PEP 517) ... \u001b[?25l\u001b[?25hdone\n"
          ]
        }
      ],
      "source": [
        "# Install our repo\n",
        "# !git clone -b models \"https://github.com/ab7289-tandon-nyu/GraphVision.git\"\n",
        "# !cp -r /content/GraphVision/src/ .\n",
        "\n",
        "!pip install -q git+https://github.com/ab7289-tandon-nyu/GraphVision.git"
      ]
    },
    {
      "cell_type": "code",
      "execution_count": 3,
      "metadata": {
        "id": "4hY3Lomuoya8"
      },
      "outputs": [],
      "source": [
        "SEED = 1234\n",
        "\n",
        "torch.manual_seed(SEED)\n",
        "torch.cuda.manual_seed(SEED)\n",
        "torch.backends.cudnn.deterministic = True"
      ]
    },
    {
      "cell_type": "code",
      "execution_count": 4,
      "metadata": {
        "id": "JHUJYsbj1LoJ"
      },
      "outputs": [],
      "source": [
        "# from google.colab import drive\n",
        "# drive.mount(\"/content/drive\")"
      ]
    },
    {
      "cell_type": "code",
      "execution_count": 5,
      "metadata": {
        "colab": {
          "base_uri": "https://localhost:8080/"
        },
        "id": "Wuj1_P_3m0-l",
        "outputId": "b3ec2443-908c-449c-dff0-92b9411fb0f1"
      },
      "outputs": [
        {
          "output_type": "stream",
          "name": "stderr",
          "text": [
            "Downloading https://data.pyg.org/datasets/benchmarking-gnns/CIFAR10_v2.zip\n",
            "Extracting .data/CIFAR10/raw/CIFAR10_v2.zip\n",
            "Processing...\n",
            "Done!\n"
          ]
        }
      ],
      "source": [
        "from src.transforms import get_transforms\n",
        "from src.datasets import get_datasets, get_dataloaders\n",
        "\n",
        "transforms = get_transforms(\"cartesian\")\n",
        "train_dataset, valid_dataset, test_dataset = get_datasets(\".data/\", \n",
        "                        \"CIFAR10\", pre_transforms = None,\n",
        "                        transforms = transforms)\n",
        "BATCH_SIZE = 128\n",
        "\n",
        "train_loader, valid_loader, test_loader = get_dataloaders(train_dataset,\n",
        "                                                          valid_dataset,\n",
        "                                                          test_dataset,\n",
        "                                                          batch_size=(BATCH_SIZE, 1, 1),\n",
        "                                                          drop_last = False)"
      ]
    },
    {
      "cell_type": "markdown",
      "metadata": {
        "id": "Sjmgy7RvoJN-"
      },
      "source": [
        "## Review batch attributes"
      ]
    },
    {
      "cell_type": "code",
      "execution_count": 6,
      "metadata": {
        "colab": {
          "base_uri": "https://localhost:8080/"
        },
        "id": "-QCa0O4IoM6U",
        "outputId": "2f121694-66c7-4515-9290-d5c023ce6dc5"
      },
      "outputs": [
        {
          "output_type": "stream",
          "name": "stdout",
          "text": [
            "\n",
            "DataBatch(x=[14981, 3], edge_index=[2, 134829], edge_attr=[134829, 2], y=[128], pos=[14981, 2], edge_weight=[134829], batch=[14981], ptr=[129])\n",
            "=====================================================================\n",
            "Number of features:  3\n",
            "Number of node features: 3\n",
            "Number of nodes: 14981\n",
            "Number of edges: 134829\n",
            "Average node degree: 9.00\n",
            "Has isolated nodes: False\n",
            "Has self-loops: True\n"
          ]
        }
      ],
      "source": [
        "sample_batch = next(iter(train_loader))\n",
        "\n",
        "print()\n",
        "print(sample_batch)\n",
        "print(\"=====================================================================\")\n",
        "\n",
        "# Gather some statistics about the first graph.\n",
        "print(f\"Number of features:  {sample_batch.num_features}\")\n",
        "print(f\"Number of node features: {sample_batch.num_node_features}\")\n",
        "print(f'Number of nodes: {sample_batch.num_nodes}')\n",
        "print(f'Number of edges: {sample_batch.num_edges}')\n",
        "print(f'Average node degree: {sample_batch.num_edges / sample_batch.num_nodes:.2f}')\n",
        "print(f'Has isolated nodes: {sample_batch.has_isolated_nodes()}')\n",
        "print(f'Has self-loops: {sample_batch.has_self_loops()}')"
      ]
    },
    {
      "cell_type": "code",
      "execution_count": 7,
      "metadata": {
        "colab": {
          "base_uri": "https://localhost:8080/"
        },
        "id": "tu3VtmrWpnZx",
        "outputId": "75295fc2-2134-4c2a-c6df-5d967b873749"
      },
      "outputs": [
        {
          "output_type": "stream",
          "name": "stdout",
          "text": [
            "Number of features: 3\n",
            "Number of classes: 10\n",
            "Edge Attr Dimension: 2\n"
          ]
        }
      ],
      "source": [
        "# store edge dimension\n",
        "edge_dim = sample_batch.edge_attr.size(-1)\n",
        "edge_dim\n",
        "# store number of features in graph batch\n",
        "input_features = test_dataset.num_features\n",
        "# store number of classes for classification\n",
        "num_classes = test_dataset.num_classes\n",
        "\n",
        "print(f\"Number of features: {input_features}\")\n",
        "print(f\"Number of classes: {num_classes}\")\n",
        "print(f\"Edge Attr Dimension: {edge_dim}\")"
      ]
    },
    {
      "cell_type": "code",
      "execution_count": 8,
      "metadata": {
        "colab": {
          "base_uri": "https://localhost:8080/"
        },
        "id": "rqiZaFw2ps9r",
        "outputId": "79077415-96c1-4969-bdac-575e437f0ead"
      },
      "outputs": [
        {
          "output_type": "stream",
          "name": "stdout",
          "text": [
            "Creating new Model\n"
          ]
        }
      ],
      "source": [
        "from pathlib import Path\n",
        "\n",
        "save_loc = \"\" # put save location here\n",
        "model_name = \"GATConv_clus-false_BN_RELU_h256_layer4.pt\"\n",
        "\n",
        "file_path = save_loc + model_name\n",
        "path = Path(file_path)\n",
        "state_dict = None\n",
        "if path.exists() and path.is_file():\n",
        "  print(\"Found Save!\")\n",
        "  state_dict = torch.load(path)\n",
        "else:\n",
        "  print(\"Creating new Model\")"
      ]
    },
    {
      "cell_type": "markdown",
      "metadata": {
        "id": "gGiE28k32eUr"
      },
      "source": [
        "## Create our Model"
      ]
    },
    {
      "cell_type": "code",
      "execution_count": 9,
      "metadata": {
        "id": "epF5kpJcqWJw"
      },
      "outputs": [],
      "source": [
        "from src.models import DeeperGCN\n",
        "from src.engine import evaluate\n",
        "\n",
        "hidden_features = 256\n",
        "\n",
        "device = torch.device(\"cuda\" if torch.cuda.is_available() else \"cpu\")\n",
        "model = DeeperGCN(\n",
        "    input_features,\n",
        "    num_classes,\n",
        "    hidden_features,\n",
        "    conv_type = \"GAT\",\n",
        "    act = \"relu\",\n",
        "    norm = \"batch\",\n",
        "    num_layers = 4,\n",
        "    use_cluster_pooling = False,\n",
        "    readout = \"mean\",\n",
        "    dropout = 0.2,\n",
        "    edge_dim = edge_dim\n",
        ").to(device)\n",
        "criterion = torch.nn.CrossEntropyLoss().to(device)\n",
        "prev_loss = None\n",
        "if state_dict is not None:\n",
        "  print(\"Loading previously saved state dictionary\")\n",
        "  model.load_state_dict(state_dict)\n",
        "  prev_loss, _ = evaluate(model.to(device), test_loader, criterion, device)\n",
        "optimizer = torch.optim.Adam(model.parameters(), lr=0.001) # was 0.01"
      ]
    },
    {
      "cell_type": "code",
      "execution_count": 10,
      "metadata": {
        "colab": {
          "base_uri": "https://localhost:8080/"
        },
        "id": "fsm1MwvSr0nU",
        "outputId": "1ed9b886-d350-4f58-b4ea-749cf351adfd"
      },
      "outputs": [
        {
          "output_type": "stream",
          "name": "stdout",
          "text": [
            "There are 273,930 trainable parameters.\n",
            "\n",
            "DeeperGCN(\n",
            "  (fc_in): Linear(in_features=3, out_features=256, bias=True)\n",
            "  (fc_out): Linear(in_features=256, out_features=10, bias=True)\n",
            "  (out_act): ReLU(inplace=True)\n",
            "  (layers): ModuleList(\n",
            "    (0): DeepGCNLayer(block=res+)\n",
            "    (1): DeepGCNLayer(block=res+)\n",
            "    (2): DeepGCNLayer(block=res+)\n",
            "    (3): DeepGCNLayer(block=res+)\n",
            "  )\n",
            ")\n"
          ]
        }
      ],
      "source": [
        "params = sum([p.numel() for p in model.parameters() if p.requires_grad])\n",
        "print(f\"There are {params:,} trainable parameters.\")\n",
        "print()\n",
        "print(model)"
      ]
    },
    {
      "cell_type": "markdown",
      "source": [
        "```\n",
        "There are 273,930 trainable parameters.\n",
        "\n",
        "DeeperGCN(\n",
        "  (fc_in): Linear(in_features=3, out_features=256, bias=True)\n",
        "  (fc_out): Linear(in_features=256, out_features=10, bias=True)\n",
        "  (out_act): ReLU(inplace=True)\n",
        "  (layers): ModuleList(\n",
        "    (0): DeepGCNLayer(block=res+)\n",
        "    (1): DeepGCNLayer(block=res+)\n",
        "    (2): DeepGCNLayer(block=res+)\n",
        "    (3): DeepGCNLayer(block=res+)\n",
        "  )\n",
        ")\n",
        "```"
      ],
      "metadata": {
        "id": "7OgZBUN15QDz"
      }
    },
    {
      "cell_type": "markdown",
      "metadata": {
        "id": "uuoamYXu2hf-"
      },
      "source": [
        "## Train"
      ]
    },
    {
      "cell_type": "code",
      "execution_count": 11,
      "metadata": {
        "colab": {
          "base_uri": "https://localhost:8080/"
        },
        "id": "8pyJ2olIr9pi",
        "outputId": "ce0f6b0d-acb4-4a9a-884b-8ec352282c96"
      },
      "outputs": [
        {
          "output_type": "stream",
          "name": "stdout",
          "text": [
            "\n",
            "Epoch: 1\n",
            "\n",
            "Train Loss: 1.913, Train Accuracy: 0.29\n",
            "Validation Loss: 1.807, Validation Accuracy: 0.32\n",
            "\n",
            "Epoch: 2\n",
            "\n",
            "Train Loss: 1.768, Train Accuracy: 0.35\n",
            "Validation Loss: 1.681, Validation Accuracy: 0.39\n",
            "\n",
            "Epoch: 3\n",
            "\n",
            "Train Loss: 1.689, Train Accuracy: 0.38\n",
            "Validation Loss: 1.607, Validation Accuracy: 0.42\n",
            "\n",
            "Epoch: 4\n",
            "\n",
            "Train Loss: 1.646, Train Accuracy: 0.40\n",
            "Validation Loss: 1.585, Validation Accuracy: 0.43\n",
            "\n",
            "Epoch: 5\n",
            "\n",
            "Train Loss: 1.614, Train Accuracy: 0.41\n",
            "Validation Loss: 1.538, Validation Accuracy: 0.45\n",
            "\n",
            "Epoch: 6\n",
            "\n",
            "Train Loss: 1.583, Train Accuracy: 0.42\n",
            "Validation Loss: 1.497, Validation Accuracy: 0.46\n",
            "\n",
            "Epoch: 7\n",
            "\n",
            "Train Loss: 1.565, Train Accuracy: 0.43\n",
            "Validation Loss: 1.487, Validation Accuracy: 0.47\n",
            "\n",
            "Epoch: 8\n",
            "\n",
            "Train Loss: 1.545, Train Accuracy: 0.44\n",
            "Validation Loss: 1.501, Validation Accuracy: 0.46\n",
            "\n",
            "Epoch: 9\n",
            "\n",
            "Train Loss: 1.527, Train Accuracy: 0.44\n",
            "Validation Loss: 1.465, Validation Accuracy: 0.48\n",
            "\n",
            "Epoch: 10\n",
            "\n",
            "Train Loss: 1.508, Train Accuracy: 0.45\n",
            "Validation Loss: 1.457, Validation Accuracy: 0.48\n",
            "\n",
            "Epoch: 11\n",
            "\n",
            "Train Loss: 1.498, Train Accuracy: 0.46\n",
            "Validation Loss: 1.445, Validation Accuracy: 0.49\n",
            "\n",
            "Epoch: 12\n",
            "\n",
            "Train Loss: 1.484, Train Accuracy: 0.46\n",
            "Validation Loss: 1.441, Validation Accuracy: 0.49\n",
            "\n",
            "Epoch: 13\n",
            "\n",
            "Train Loss: 1.471, Train Accuracy: 0.47\n",
            "Validation Loss: 1.421, Validation Accuracy: 0.50\n",
            "\n",
            "Epoch: 14\n",
            "\n",
            "Train Loss: 1.462, Train Accuracy: 0.47\n",
            "Validation Loss: 1.425, Validation Accuracy: 0.48\n",
            "\n",
            "Epoch: 15\n",
            "\n",
            "Train Loss: 1.449, Train Accuracy: 0.48\n",
            "Validation Loss: 1.412, Validation Accuracy: 0.50\n",
            "\n",
            "Epoch: 16\n",
            "\n",
            "Train Loss: 1.444, Train Accuracy: 0.48\n",
            "Validation Loss: 1.385, Validation Accuracy: 0.52\n",
            "\n",
            "Epoch: 17\n",
            "\n",
            "Train Loss: 1.423, Train Accuracy: 0.48\n",
            "Validation Loss: 1.396, Validation Accuracy: 0.51\n",
            "\n",
            "Epoch: 18\n",
            "\n",
            "Train Loss: 1.423, Train Accuracy: 0.49\n",
            "Validation Loss: 1.386, Validation Accuracy: 0.51\n",
            "\n",
            "Epoch: 19\n",
            "\n",
            "Train Loss: 1.413, Train Accuracy: 0.49\n",
            "Validation Loss: 1.402, Validation Accuracy: 0.51\n",
            "\n",
            "Epoch: 20\n",
            "\n",
            "Train Loss: 1.413, Train Accuracy: 0.49\n",
            "Validation Loss: 1.374, Validation Accuracy: 0.51\n",
            "\n",
            "Epoch: 21\n",
            "\n",
            "Train Loss: 1.400, Train Accuracy: 0.49\n",
            "Validation Loss: 1.355, Validation Accuracy: 0.52\n",
            "\n",
            "Epoch: 22\n",
            "\n",
            "Train Loss: 1.389, Train Accuracy: 0.50\n",
            "Validation Loss: 1.367, Validation Accuracy: 0.51\n",
            "\n",
            "Epoch: 23\n",
            "\n",
            "Train Loss: 1.380, Train Accuracy: 0.50\n",
            "Validation Loss: 1.357, Validation Accuracy: 0.53\n",
            "\n",
            "Epoch: 24\n",
            "\n",
            "Train Loss: 1.372, Train Accuracy: 0.50\n",
            "Validation Loss: 1.353, Validation Accuracy: 0.52\n",
            "\n",
            "Epoch: 25\n",
            "\n",
            "Train Loss: 1.370, Train Accuracy: 0.50\n",
            "Validation Loss: 1.355, Validation Accuracy: 0.52\n",
            "\n",
            "Epoch: 26\n",
            "\n",
            "Train Loss: 1.365, Train Accuracy: 0.50\n",
            "Validation Loss: 1.340, Validation Accuracy: 0.52\n",
            "\n",
            "Epoch: 27\n",
            "\n",
            "Train Loss: 1.352, Train Accuracy: 0.51\n",
            "Validation Loss: 1.336, Validation Accuracy: 0.53\n",
            "\n",
            "Epoch: 28\n",
            "\n",
            "Train Loss: 1.352, Train Accuracy: 0.51\n",
            "Validation Loss: 1.334, Validation Accuracy: 0.53\n",
            "\n",
            "Epoch: 29\n",
            "\n",
            "Train Loss: 1.338, Train Accuracy: 0.52\n",
            "Validation Loss: 1.354, Validation Accuracy: 0.52\n",
            "\n",
            "Epoch: 30\n",
            "\n",
            "Train Loss: 1.339, Train Accuracy: 0.52\n",
            "Validation Loss: 1.334, Validation Accuracy: 0.53\n",
            "\n",
            "Epoch: 31\n",
            "\n",
            "Train Loss: 1.328, Train Accuracy: 0.52\n",
            "Validation Loss: 1.338, Validation Accuracy: 0.53\n",
            "\n",
            "Epoch: 32\n",
            "\n",
            "Train Loss: 1.323, Train Accuracy: 0.52\n",
            "Validation Loss: 1.323, Validation Accuracy: 0.54\n",
            "\n",
            "Epoch: 33\n",
            "\n",
            "Train Loss: 1.317, Train Accuracy: 0.52\n",
            "Validation Loss: 1.309, Validation Accuracy: 0.54\n",
            "\n",
            "Epoch: 34\n",
            "\n",
            "Train Loss: 1.314, Train Accuracy: 0.52\n",
            "Validation Loss: 1.310, Validation Accuracy: 0.53\n",
            "\n",
            "Epoch: 35\n",
            "\n",
            "Train Loss: 1.306, Train Accuracy: 0.53\n",
            "Validation Loss: 1.345, Validation Accuracy: 0.52\n",
            "\n",
            "Epoch: 36\n",
            "\n",
            "Train Loss: 1.299, Train Accuracy: 0.53\n",
            "Validation Loss: 1.307, Validation Accuracy: 0.54\n",
            "\n",
            "Epoch: 37\n",
            "\n",
            "Train Loss: 1.297, Train Accuracy: 0.53\n",
            "Validation Loss: 1.321, Validation Accuracy: 0.53\n",
            "\n",
            "Epoch: 38\n",
            "\n",
            "Train Loss: 1.287, Train Accuracy: 0.53\n",
            "Validation Loss: 1.310, Validation Accuracy: 0.54\n",
            "\n",
            "Epoch: 39\n",
            "\n",
            "Train Loss: 1.288, Train Accuracy: 0.54\n",
            "Validation Loss: 1.294, Validation Accuracy: 0.54\n",
            "\n",
            "Epoch: 40\n",
            "\n",
            "Train Loss: 1.278, Train Accuracy: 0.54\n",
            "Validation Loss: 1.304, Validation Accuracy: 0.54\n",
            "\n",
            "Epoch: 41\n",
            "\n",
            "Train Loss: 1.269, Train Accuracy: 0.54\n",
            "Validation Loss: 1.316, Validation Accuracy: 0.53\n",
            "\n",
            "Epoch: 42\n",
            "\n",
            "Train Loss: 1.269, Train Accuracy: 0.54\n",
            "Validation Loss: 1.287, Validation Accuracy: 0.55\n",
            "\n",
            "Epoch: 43\n",
            "\n",
            "Train Loss: 1.263, Train Accuracy: 0.54\n",
            "Validation Loss: 1.283, Validation Accuracy: 0.55\n",
            "\n",
            "Epoch: 44\n",
            "\n",
            "Train Loss: 1.256, Train Accuracy: 0.55\n",
            "Validation Loss: 1.298, Validation Accuracy: 0.54\n",
            "\n",
            "Epoch: 45\n",
            "\n",
            "Train Loss: 1.251, Train Accuracy: 0.55\n",
            "Validation Loss: 1.296, Validation Accuracy: 0.54\n",
            "\n",
            "Epoch: 46\n",
            "\n",
            "Train Loss: 1.251, Train Accuracy: 0.54\n",
            "Validation Loss: 1.293, Validation Accuracy: 0.54\n",
            "\n",
            "Epoch: 47\n",
            "\n",
            "Train Loss: 1.246, Train Accuracy: 0.55\n",
            "Validation Loss: 1.289, Validation Accuracy: 0.55\n",
            "\n",
            "Epoch: 48\n",
            "\n",
            "Train Loss: 1.238, Train Accuracy: 0.55\n",
            "Validation Loss: 1.294, Validation Accuracy: 0.55\n",
            "\n",
            "Epoch: 49\n",
            "\n",
            "Train Loss: 1.231, Train Accuracy: 0.56\n",
            "Validation Loss: 1.297, Validation Accuracy: 0.54\n",
            "\n",
            "Epoch: 50\n",
            "\n",
            "Train Loss: 1.230, Train Accuracy: 0.55\n",
            "Validation Loss: 1.283, Validation Accuracy: 0.54\n",
            "\n",
            "Epoch: 51\n",
            "\n",
            "Train Loss: 1.224, Train Accuracy: 0.56\n",
            "Validation Loss: 1.271, Validation Accuracy: 0.55\n",
            "\n",
            "Epoch: 52\n",
            "\n",
            "Train Loss: 1.218, Train Accuracy: 0.56\n",
            "Validation Loss: 1.286, Validation Accuracy: 0.55\n",
            "\n",
            "Epoch: 53\n",
            "\n",
            "Train Loss: 1.217, Train Accuracy: 0.56\n",
            "Validation Loss: 1.270, Validation Accuracy: 0.56\n",
            "\n",
            "Epoch: 54\n",
            "\n",
            "Train Loss: 1.209, Train Accuracy: 0.56\n",
            "Validation Loss: 1.300, Validation Accuracy: 0.54\n",
            "\n",
            "Epoch: 55\n",
            "\n",
            "Train Loss: 1.204, Train Accuracy: 0.57\n",
            "Validation Loss: 1.293, Validation Accuracy: 0.55\n",
            "\n",
            "Epoch: 56\n",
            "\n",
            "Train Loss: 1.198, Train Accuracy: 0.57\n",
            "Validation Loss: 1.263, Validation Accuracy: 0.56\n",
            "\n",
            "Epoch: 57\n",
            "\n",
            "Train Loss: 1.193, Train Accuracy: 0.57\n",
            "Validation Loss: 1.286, Validation Accuracy: 0.55\n",
            "\n",
            "Epoch: 58\n",
            "\n",
            "Train Loss: 1.193, Train Accuracy: 0.57\n",
            "Validation Loss: 1.297, Validation Accuracy: 0.55\n",
            "\n",
            "Epoch: 59\n",
            "\n",
            "Train Loss: 1.184, Train Accuracy: 0.57\n",
            "Validation Loss: 1.287, Validation Accuracy: 0.55\n",
            "\n",
            "Epoch: 60\n",
            "\n",
            "Train Loss: 1.184, Train Accuracy: 0.57\n",
            "Validation Loss: 1.264, Validation Accuracy: 0.55\n",
            "\n",
            "Epoch: 61\n",
            "\n",
            "Train Loss: 1.176, Train Accuracy: 0.57\n",
            "Validation Loss: 1.269, Validation Accuracy: 0.56\n",
            "\n",
            "Epoch: 62\n",
            "\n",
            "Train Loss: 1.172, Train Accuracy: 0.58\n",
            "Validation Loss: 1.281, Validation Accuracy: 0.55\n",
            "\n",
            "Epoch: 63\n",
            "\n",
            "Train Loss: 1.167, Train Accuracy: 0.58\n",
            "Validation Loss: 1.266, Validation Accuracy: 0.56\n",
            "\n",
            "Epoch: 64\n",
            "\n",
            "Train Loss: 1.161, Train Accuracy: 0.58\n",
            "Validation Loss: 1.297, Validation Accuracy: 0.54\n",
            "\n",
            "Epoch: 65\n",
            "\n",
            "Train Loss: 1.162, Train Accuracy: 0.58\n",
            "Validation Loss: 1.282, Validation Accuracy: 0.55\n",
            "\n",
            "Epoch: 66\n",
            "\n",
            "Train Loss: 1.156, Train Accuracy: 0.58\n",
            "Validation Loss: 1.285, Validation Accuracy: 0.55\n",
            "\n",
            "Epoch: 67\n",
            "\n",
            "Train Loss: 1.152, Train Accuracy: 0.59\n",
            "Validation Loss: 1.280, Validation Accuracy: 0.55\n",
            "\n",
            "Epoch: 68\n",
            "\n",
            "Train Loss: 1.143, Train Accuracy: 0.59\n",
            "Validation Loss: 1.286, Validation Accuracy: 0.54\n",
            "\n",
            "Epoch: 69\n",
            "\n",
            "Train Loss: 1.141, Train Accuracy: 0.59\n",
            "Validation Loss: 1.276, Validation Accuracy: 0.56\n",
            "\n",
            "Epoch: 70\n",
            "\n",
            "Train Loss: 1.144, Train Accuracy: 0.58\n",
            "Validation Loss: 1.273, Validation Accuracy: 0.55\n",
            "\n",
            "Epoch: 71\n",
            "\n",
            "Train Loss: 1.137, Train Accuracy: 0.59\n",
            "Validation Loss: 1.289, Validation Accuracy: 0.55\n",
            "\n",
            "Epoch: 72\n",
            "\n",
            "Train Loss: 1.131, Train Accuracy: 0.59\n",
            "Validation Loss: 1.280, Validation Accuracy: 0.56\n",
            "\n",
            "Epoch: 73\n",
            "\n",
            "Train Loss: 1.129, Train Accuracy: 0.59\n",
            "Validation Loss: 1.269, Validation Accuracy: 0.56\n",
            "\n",
            "Epoch: 74\n",
            "\n",
            "Train Loss: 1.122, Train Accuracy: 0.59\n",
            "Validation Loss: 1.275, Validation Accuracy: 0.56\n",
            "\n",
            "Epoch: 75\n",
            "\n",
            "Train Loss: 1.117, Train Accuracy: 0.60\n",
            "Validation Loss: 1.281, Validation Accuracy: 0.56\n",
            "\n",
            "Epoch: 76\n",
            "\n",
            "Train Loss: 1.115, Train Accuracy: 0.60\n",
            "Validation Loss: 1.277, Validation Accuracy: 0.56\n",
            "\n",
            "Epoch: 77\n",
            "\n",
            "Train Loss: 1.112, Train Accuracy: 0.60\n",
            "Validation Loss: 1.288, Validation Accuracy: 0.55\n",
            "\n",
            "Epoch: 78\n",
            "\n",
            "Train Loss: 1.108, Train Accuracy: 0.60\n",
            "Validation Loss: 1.281, Validation Accuracy: 0.56\n",
            "\n",
            "Epoch: 79\n",
            "\n",
            "Train Loss: 1.105, Train Accuracy: 0.60\n",
            "Validation Loss: 1.276, Validation Accuracy: 0.56\n",
            "\n",
            "Epoch: 80\n",
            "\n",
            "Train Loss: 1.107, Train Accuracy: 0.60\n",
            "Validation Loss: 1.272, Validation Accuracy: 0.56\n",
            "\n",
            "Epoch: 81\n",
            "\n",
            "Train Loss: 1.099, Train Accuracy: 0.60\n",
            "Validation Loss: 1.264, Validation Accuracy: 0.57\n",
            "\n",
            "Epoch: 82\n",
            "\n",
            "Train Loss: 1.097, Train Accuracy: 0.60\n",
            "Validation Loss: 1.291, Validation Accuracy: 0.56\n",
            "\n",
            "Epoch: 83\n",
            "\n",
            "Train Loss: 1.095, Train Accuracy: 0.60\n",
            "Validation Loss: 1.286, Validation Accuracy: 0.55\n",
            "\n",
            "Epoch: 84\n",
            "\n",
            "Train Loss: 1.082, Train Accuracy: 0.60\n",
            "Validation Loss: 1.275, Validation Accuracy: 0.56\n",
            "\n",
            "Epoch: 85\n",
            "\n",
            "Train Loss: 1.087, Train Accuracy: 0.61\n",
            "Validation Loss: 1.280, Validation Accuracy: 0.55\n",
            "\n",
            "Epoch: 86\n",
            "\n",
            "Train Loss: 1.081, Train Accuracy: 0.61\n",
            "Validation Loss: 1.291, Validation Accuracy: 0.56\n",
            "\n",
            "Epoch: 87\n",
            "\n",
            "Train Loss: 1.081, Train Accuracy: 0.61\n",
            "Validation Loss: 1.275, Validation Accuracy: 0.56\n",
            "\n",
            "Epoch: 88\n",
            "\n",
            "Train Loss: 1.072, Train Accuracy: 0.61\n",
            "Validation Loss: 1.280, Validation Accuracy: 0.56\n",
            "\n",
            "Epoch: 89\n",
            "\n",
            "Train Loss: 1.076, Train Accuracy: 0.61\n",
            "Validation Loss: 1.295, Validation Accuracy: 0.55\n",
            "\n",
            "Epoch: 90\n",
            "\n",
            "Train Loss: 1.062, Train Accuracy: 0.62\n",
            "Validation Loss: 1.278, Validation Accuracy: 0.56\n",
            "\n",
            "Epoch: 91\n",
            "\n",
            "Train Loss: 1.060, Train Accuracy: 0.62\n",
            "Validation Loss: 1.279, Validation Accuracy: 0.56\n",
            "\n",
            "Epoch: 92\n",
            "\n",
            "Train Loss: 1.062, Train Accuracy: 0.61\n",
            "Validation Loss: 1.290, Validation Accuracy: 0.56\n",
            "\n",
            "Epoch: 93\n",
            "\n",
            "Train Loss: 1.058, Train Accuracy: 0.62\n",
            "Validation Loss: 1.291, Validation Accuracy: 0.57\n",
            "\n",
            "Epoch: 94\n",
            "\n",
            "Train Loss: 1.056, Train Accuracy: 0.61\n",
            "Validation Loss: 1.277, Validation Accuracy: 0.56\n",
            "\n",
            "Epoch: 95\n",
            "\n",
            "Train Loss: 1.055, Train Accuracy: 0.62\n",
            "Validation Loss: 1.300, Validation Accuracy: 0.56\n",
            "\n",
            "Epoch: 96\n",
            "\n",
            "Train Loss: 1.047, Train Accuracy: 0.62\n",
            "Validation Loss: 1.297, Validation Accuracy: 0.56\n",
            "\n",
            "Epoch: 97\n",
            "\n",
            "Train Loss: 1.051, Train Accuracy: 0.62\n",
            "Validation Loss: 1.287, Validation Accuracy: 0.57\n",
            "\n",
            "Epoch: 98\n",
            "\n",
            "Train Loss: 1.043, Train Accuracy: 0.62\n",
            "Validation Loss: 1.280, Validation Accuracy: 0.57\n",
            "\n",
            "Epoch: 99\n",
            "\n",
            "Train Loss: 1.039, Train Accuracy: 0.62\n",
            "Validation Loss: 1.305, Validation Accuracy: 0.57\n",
            "\n",
            "Epoch: 100\n",
            "\n",
            "Train Loss: 1.036, Train Accuracy: 0.62\n",
            "Validation Loss: 1.306, Validation Accuracy: 0.56\n"
          ]
        }
      ],
      "source": [
        "from src.engine import train, evaluate\n",
        "from src.utils import calculate_accuracy\n",
        "\n",
        "EPOCHS = 100 # was 200\n",
        "train_loss = []\n",
        "train_acc = []\n",
        "valid_loss = []\n",
        "valid_acc = []\n",
        "best_loss = float('inf')\n",
        "best_loss = float('inf')\n",
        "if prev_loss is not None:\n",
        "  print(f\"Training from previous best loss: {prev_loss}\")\n",
        "  best_loss = prev_loss\n",
        "\n",
        "for epoch in range(1, EPOCHS + 1):\n",
        "  print(f\"\\nEpoch: {epoch}\\n\")\n",
        "  loss, acc = train(model, train_loader, criterion, optimizer, device)\n",
        "  train_loss.append(loss)\n",
        "  train_acc.append(acc)\n",
        "  print(f\"Train Loss: {train_loss[-1]:.3f}, Train Accuracy: {train_acc[-1]:.2f}\")\n",
        "\n",
        "  loss, acc = evaluate(model, valid_loader, criterion, device)\n",
        "  valid_loss.append(loss)\n",
        "  valid_acc.append(acc)\n",
        "  print(f\"Validation Loss: {valid_loss[-1]:.3f}, Validation Accuracy: {valid_acc[-1]:.2f}\")\n",
        "\n",
        "  if loss < best_loss:\n",
        "    best_loss = loss\n",
        "    torch.save(model.state_dict(), path)"
      ]
    },
    {
      "cell_type": "markdown",
      "metadata": {
        "id": "GIu5vZ3d2jNJ"
      },
      "source": [
        "## Evaluate on the Test set"
      ]
    },
    {
      "cell_type": "code",
      "execution_count": 12,
      "metadata": {
        "id": "q5oWJj8g11MF",
        "colab": {
          "base_uri": "https://localhost:8080/"
        },
        "outputId": "a3a2b6d2-eaec-4fff-956c-1016119d6e98"
      },
      "outputs": [
        {
          "output_type": "stream",
          "name": "stdout",
          "text": [
            "Test Loss: 1.301\n",
            "Test Accuracy: 0.54%\n"
          ]
        }
      ],
      "source": [
        "# load best model\n",
        "model.load_state_dict(torch.load(path))\n",
        "test_loss, test_acc = evaluate(model.to(device), test_loader, criterion, device)\n",
        "print(f\"Test Loss: {test_loss:.3f}\")\n",
        "print(f\"Test Accuracy: {test_acc:.2f}%\")"
      ]
    },
    {
      "cell_type": "markdown",
      "metadata": {
        "id": "qvOfsB752las"
      },
      "source": [
        "## Plot Loss and Accuracy Curves"
      ]
    },
    {
      "cell_type": "code",
      "execution_count": 13,
      "metadata": {
        "id": "gk6I1WkDvWmE",
        "colab": {
          "base_uri": "https://localhost:8080/",
          "height": 265
        },
        "outputId": "41810133-84c4-4f00-eac9-54f42e889404"
      },
      "outputs": [
        {
          "output_type": "display_data",
          "data": {
            "text/plain": [
              "<Figure size 432x288 with 1 Axes>"
            ],
            "image/png": "[encoded data removed]"
          },
          "metadata": {
            "needs_background": "light"
          }
        }
      ],
      "source": [
        "import matplotlib.pyplot as plt\n",
        "\n",
        "x = [i for i in range(len(valid_loss))]\n",
        "\n",
        "plt.plot(x, train_loss, label=\"Train Loss\")\n",
        "plt.plot(x, valid_loss, label=\"Validation Loss\")\n",
        "plt.legend()\n",
        "plt.show()"
      ]
    },
    {
      "cell_type": "code",
      "execution_count": 14,
      "metadata": {
        "id": "A-xP3uX63aT8",
        "colab": {
          "base_uri": "https://localhost:8080/",
          "height": 265
        },
        "outputId": "1c06adba-c3b3-4621-fe05-38a28d2a4b3c"
      },
      "outputs": [
        {
          "output_type": "display_data",
          "data": {
            "text/plain": [
              "<Figure size 432x288 with 1 Axes>"
            ],
            "image/png": "[encoded data removed]"
          },
          "metadata": {
            "needs_background": "light"
          }
        }
      ],
      "source": [
        "plt.plot(x, train_acc, label=\"Train Accuracy\")\n",
        "plt.plot(x, valid_acc, label=\"Validation Accuracy\")\n",
        "plt.legend()\n",
        "plt.show()"
      ]
    },
    {
      "cell_type": "code",
      "execution_count": 15,
      "metadata": {
        "id": "D_FdIR923n9N"
      },
      "outputs": [],
      "source": [
        "# reaching epoch 55 (out of 1 to 100) at 1h25m (=85m) of training "
      ]
    }
  ],
  "metadata": {
    "accelerator": "GPU",
    "colab": {
      "provenance": []
    },
    "gpuClass": "standard",
    "kernelspec": {
      "display_name": "pyg",
      "language": "python",
      "name": "python3"
    },
    "language_info": {
      "codemirror_mode": {
        "name": "ipython",
        "version": 3
      },
      "file_extension": ".py",
      "mimetype": "text/x-python",
      "name": "python",
      "nbconvert_exporter": "python",
      "pygments_lexer": "ipython3",
      "version": "3.9.15 (main, Nov 24 2022, 14:31:59) \n[GCC 11.2.0]"
    },
    "vscode": {
      "interpreter": {
        "hash": "602fd2f1343589d3bd6f27fae416162c1bba08e244faa27258d2511dac84d913"
      }
    }
  },
  "nbformat": 4,
  "nbformat_minor": 0
}