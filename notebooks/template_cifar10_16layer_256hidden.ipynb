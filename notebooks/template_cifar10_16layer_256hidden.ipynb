{
  "cells": [
    {
      "cell_type": "code",
      "execution_count": 1,
      "metadata": {
        "colab": {
          "base_uri": "https://localhost:8080/"
        },
        "id": "HQeBbCYZlhKn",
        "outputId": "a09aa2f6-48cd-4032-ec0c-3d5d174392b6"
      },
      "outputs": [
        {
          "output_type": "stream",
          "name": "stdout",
          "text": [
            "1.13.0+cu116\n",
            "\u001b[K     |████████████████████████████████| 9.4 MB 54.0 MB/s \n",
            "\u001b[K     |████████████████████████████████| 4.6 MB 58.1 MB/s \n",
            "\u001b[K     |████████████████████████████████| 3.2 MB 49.8 MB/s \n",
            "\u001b[K     |████████████████████████████████| 512 kB 26.6 MB/s \n",
            "\u001b[K     |████████████████████████████████| 280 kB 79.3 MB/s \n",
            "\u001b[?25h  Building wheel for torch-geometric (setup.py) ... \u001b[?25l\u001b[?25hdone\n"
          ]
        }
      ],
      "source": [
        "# Install required packages.\n",
        "import os\n",
        "import torch\n",
        "os.environ['TORCH'] = torch.__version__\n",
        "print(torch.__version__)\n",
        "\n",
        "!pip install -q torch-scatter -f https://data.pyg.org/whl/torch-${TORCH}.html\n",
        "!pip install -q torch-sparse -f https://data.pyg.org/whl/torch-${TORCH}.html\n",
        "!pip install -q torch-cluster -f https://data.pyg.org/whl/torch-${TORCH}.html\n",
        "!pip install -q git+https://github.com/pyg-team/pytorch_geometric.git"
      ]
    },
    {
      "cell_type": "code",
      "execution_count": 3,
      "metadata": {
        "colab": {
          "base_uri": "https://localhost:8080/"
        },
        "id": "NUnIVvd-lxxZ",
        "outputId": "38559bd1-1ad6-42c5-ec62-b6af136835fe"
      },
      "outputs": [
        {
          "output_type": "stream",
          "name": "stdout",
          "text": [
            "  Installing build dependencies ... \u001b[?25l\u001b[?25hdone\n",
            "  Getting requirements to build wheel ... \u001b[?25l\u001b[?25hdone\n",
            "    Preparing wheel metadata ... \u001b[?25l\u001b[?25hdone\n",
            "\u001b[K     |████████████████████████████████| 121 kB 26.7 MB/s \n",
            "\u001b[K     |████████████████████████████████| 1.6 MB 46.1 MB/s \n",
            "\u001b[K     |████████████████████████████████| 83 kB 2.7 MB/s \n",
            "\u001b[?25h  Building wheel for GraphVision (PEP 517) ... \u001b[?25l\u001b[?25hdone\n"
          ]
        }
      ],
      "source": [
        "# Install our repo\n",
        "# !git clone -b models \"https://github.com/ab7289-tandon-nyu/GraphVision.git\"\n",
        "# !cp -r /content/GraphVision/src/ .\n",
        "\n",
        "!pip install -q git+https://github.com/ab7289-tandon-nyu/GraphVision.git"
      ]
    },
    {
      "cell_type": "code",
      "execution_count": 4,
      "metadata": {
        "id": "4hY3Lomuoya8"
      },
      "outputs": [],
      "source": [
        "SEED = 1234\n",
        "\n",
        "torch.manual_seed(SEED)\n",
        "torch.cuda.manual_seed(SEED)\n",
        "torch.backends.cudnn.deterministic = True"
      ]
    },
    {
      "cell_type": "code",
      "execution_count": 5,
      "metadata": {
        "colab": {
          "base_uri": "https://localhost:8080/"
        },
        "id": "Wuj1_P_3m0-l",
        "outputId": "2d1fe7df-160b-4c33-b349-f4f4936c4ed3"
      },
      "outputs": [
        {
          "output_type": "stream",
          "name": "stderr",
          "text": [
            "Downloading https://data.pyg.org/datasets/benchmarking-gnns/CIFAR10_v2.zip\n",
            "Extracting .data/CIFAR10/raw/CIFAR10_v2.zip\n",
            "Processing...\n",
            "Done!\n"
          ]
        }
      ],
      "source": [
        "from src.transforms import get_transforms\n",
        "from src.datasets import get_datasets, get_dataloaders\n",
        "\n",
        "transforms = get_transforms(\"cartesian\")\n",
        "train_dataset, valid_dataset, test_dataset = get_datasets(\".data/\", \n",
        "                        \"CIFAR10\", pre_transforms = None,\n",
        "                        transforms = transforms)\n",
        "BATCH_SIZE = 128\n",
        "\n",
        "train_loader, valid_loader, test_loader = get_dataloaders(train_dataset,\n",
        "                                                          valid_dataset,\n",
        "                                                          test_dataset,\n",
        "                                                          batch_size=(BATCH_SIZE, 1, 1),\n",
        "                                                          drop_last = False)"
      ]
    },
    {
      "cell_type": "markdown",
      "metadata": {
        "id": "Sjmgy7RvoJN-"
      },
      "source": [
        "## Review batch attributes"
      ]
    },
    {
      "cell_type": "code",
      "execution_count": 6,
      "metadata": {
        "colab": {
          "base_uri": "https://localhost:8080/"
        },
        "id": "-QCa0O4IoM6U",
        "outputId": "3ee9e901-dca4-4e38-c63f-35e4ecc6bfb5"
      },
      "outputs": [
        {
          "output_type": "stream",
          "name": "stdout",
          "text": [
            "\n",
            "DataBatch(x=[14981, 3], edge_index=[2, 134829], edge_attr=[134829, 2], y=[128], pos=[14981, 2], edge_weight=[134829], batch=[14981], ptr=[129])\n",
            "=====================================================================\n",
            "Number of features:  3\n",
            "Number of node features: 3\n",
            "Number of nodes: 14981\n",
            "Number of edges: 134829\n",
            "Average node degree: 9.00\n",
            "Has isolated nodes: False\n",
            "Has self-loops: True\n"
          ]
        }
      ],
      "source": [
        "sample_batch = next(iter(train_loader))\n",
        "\n",
        "print()\n",
        "print(sample_batch)\n",
        "print(\"=====================================================================\")\n",
        "\n",
        "# Gather some statistics about the first graph.\n",
        "print(f\"Number of features:  {sample_batch.num_features}\")\n",
        "print(f\"Number of node features: {sample_batch.num_node_features}\")\n",
        "print(f'Number of nodes: {sample_batch.num_nodes}')\n",
        "print(f'Number of edges: {sample_batch.num_edges}')\n",
        "print(f'Average node degree: {sample_batch.num_edges / sample_batch.num_nodes:.2f}')\n",
        "print(f'Has isolated nodes: {sample_batch.has_isolated_nodes()}')\n",
        "print(f'Has self-loops: {sample_batch.has_self_loops()}')"
      ]
    },
    {
      "cell_type": "code",
      "execution_count": 7,
      "metadata": {
        "colab": {
          "base_uri": "https://localhost:8080/"
        },
        "id": "tu3VtmrWpnZx",
        "outputId": "dfc9513f-2d8e-4e5d-a3c7-dff36d1cb3b1"
      },
      "outputs": [
        {
          "output_type": "stream",
          "name": "stdout",
          "text": [
            "Number of features: 3\n",
            "Number of classes: 10\n",
            "Edge Attr Dimension: 2\n"
          ]
        }
      ],
      "source": [
        "# store edge dimension\n",
        "edge_dim = sample_batch.edge_attr.size(-1)\n",
        "edge_dim\n",
        "# store number of features in graph batch\n",
        "input_features = test_dataset.num_features\n",
        "# store number of classes for classification\n",
        "num_classes = test_dataset.num_classes\n",
        "\n",
        "print(f\"Number of features: {input_features}\")\n",
        "print(f\"Number of classes: {num_classes}\")\n",
        "print(f\"Edge Attr Dimension: {edge_dim}\")"
      ]
    },
    {
      "cell_type": "code",
      "execution_count": 8,
      "metadata": {
        "colab": {
          "base_uri": "https://localhost:8080/"
        },
        "id": "rqiZaFw2ps9r",
        "outputId": "7d5b454b-2f83-45f3-94e4-cbd7cae5d060"
      },
      "outputs": [
        {
          "output_type": "stream",
          "name": "stdout",
          "text": [
            "Creating new Model\n"
          ]
        }
      ],
      "source": [
        "from pathlib import Path\n",
        "\n",
        "save_loc = \"\" # put save location here\n",
        "model_name = \"GENConv_clus-false_BN_RELU_layer16_h256.pt\" # was 128\n",
        "\n",
        "file_path = save_loc + model_name\n",
        "path = Path(file_path)\n",
        "state_dict = None\n",
        "if path.exists() and path.is_file():\n",
        "  print(\"Found Save!\")\n",
        "  state_dict = torch.load(path)\n",
        "else:\n",
        "  print(\"Creating new Model\")"
      ]
    },
    {
      "cell_type": "markdown",
      "metadata": {
        "id": "gGiE28k32eUr"
      },
      "source": [
        "## Create our Model"
      ]
    },
    {
      "cell_type": "code",
      "execution_count": 12,
      "metadata": {
        "id": "epF5kpJcqWJw"
      },
      "outputs": [],
      "source": [
        "from src.models import DeeperGCN\n",
        "\n",
        "hidden_features = 256 # was 125\n",
        "\n",
        "device = torch.device(\"cuda\" if torch.cuda.is_available() else \"cpu\")\n",
        "model = DeeperGCN(\n",
        "    input_features,\n",
        "    num_classes,\n",
        "    hidden_features,\n",
        "    conv_type = \"GEN\",\n",
        "    act = \"relu\",\n",
        "    norm = \"batch\",\n",
        "    num_layers = 16, # was 8\n",
        "    use_cluster_pooling = False,\n",
        "    readout = \"mean\",\n",
        "    dropout = 0.25,\n",
        "    edge_dim = edge_dim\n",
        ").to(device)\n",
        "if state_dict is not None:\n",
        "  print(\"Loading previously saved state dictionary\")\n",
        "  model.load_state_dict(state_dict)\n",
        "\n",
        "optimizer = torch.optim.Adam(model.parameters(), lr=0.01)\n",
        "criterion = torch.nn.CrossEntropyLoss().to(device)"
      ]
    },
    {
      "cell_type": "code",
      "execution_count": 13,
      "metadata": {
        "colab": {
          "base_uri": "https://localhost:8080/"
        },
        "id": "fsm1MwvSr0nU",
        "outputId": "f5246828-8d30-4add-808e-73cae310d134"
      },
      "outputs": [
        {
          "output_type": "stream",
          "name": "stdout",
          "text": [
            "There are 4,230,682 trainable parameters.\n",
            "\n",
            "DeeperGCN(\n",
            "  (fc_in): Linear(in_features=3, out_features=256, bias=True)\n",
            "  (fc_out): Linear(in_features=256, out_features=10, bias=True)\n",
            "  (out_act): ReLU(inplace=True)\n",
            "  (layers): ModuleList(\n",
            "    (0): DeepGCNLayer(block=res+)\n",
            "    (1): DeepGCNLayer(block=res+)\n",
            "    (2): DeepGCNLayer(block=res+)\n",
            "    (3): DeepGCNLayer(block=res+)\n",
            "    (4): DeepGCNLayer(block=res+)\n",
            "    (5): DeepGCNLayer(block=res+)\n",
            "    (6): DeepGCNLayer(block=res+)\n",
            "    (7): DeepGCNLayer(block=res+)\n",
            "    (8): DeepGCNLayer(block=res+)\n",
            "    (9): DeepGCNLayer(block=res+)\n",
            "    (10): DeepGCNLayer(block=res+)\n",
            "    (11): DeepGCNLayer(block=res+)\n",
            "    (12): DeepGCNLayer(block=res+)\n",
            "    (13): DeepGCNLayer(block=res+)\n",
            "    (14): DeepGCNLayer(block=res+)\n",
            "    (15): DeepGCNLayer(block=res+)\n",
            "  )\n",
            ")\n"
          ]
        }
      ],
      "source": [
        "params = sum([p.numel() for p in model.parameters() if p.requires_grad])\n",
        "print(f\"There are {params:,} trainable parameters.\")\n",
        "# when hidden dimension = 125, printed \"There are 2,117,138 trainable parameters.\"\n",
        "# when hidden dimension = 256, printed \"There are 2,117,138 trainable parameters.\"\n",
        "print()\n",
        "print(model)"
      ]
    },
    {
      "cell_type": "markdown",
      "metadata": {
        "id": "uuoamYXu2hf-"
      },
      "source": [
        "## Train"
      ]
    },
    {
      "cell_type": "code",
      "execution_count": 14,
      "metadata": {
        "colab": {
          "base_uri": "https://localhost:8080/"
        },
        "id": "8pyJ2olIr9pi",
        "outputId": "85bcf253-3260-4fae-cf7a-f652ad3eae4d"
      },
      "outputs": [
        {
          "output_type": "stream",
          "name": "stdout",
          "text": [
            "\n",
            "Epoch: 1\n",
            "\n",
            "Train Loss: 2.358, Train Accuracy: 0.18\n",
            "Validation Loss: 2.073, Validation Accuracy: 0.21\n",
            "\n",
            "Epoch: 2\n",
            "\n",
            "Train Loss: 2.059, Train Accuracy: 0.21\n",
            "Validation Loss: 2.060, Validation Accuracy: 0.21\n",
            "\n",
            "Epoch: 3\n",
            "\n",
            "Train Loss: 1.983, Train Accuracy: 0.22\n",
            "Validation Loss: 2.013, Validation Accuracy: 0.22\n",
            "\n",
            "Epoch: 4\n",
            "\n",
            "Train Loss: 1.925, Train Accuracy: 0.24\n",
            "Validation Loss: 1.983, Validation Accuracy: 0.24\n",
            "\n",
            "Epoch: 5\n",
            "\n",
            "Train Loss: 1.879, Train Accuracy: 0.26\n",
            "Validation Loss: 2.511, Validation Accuracy: 0.18\n",
            "\n",
            "Epoch: 6\n",
            "\n",
            "Train Loss: 1.847, Train Accuracy: 0.27\n",
            "Validation Loss: 2.657, Validation Accuracy: 0.15\n",
            "\n",
            "Epoch: 7\n",
            "\n",
            "Train Loss: 1.808, Train Accuracy: 0.30\n",
            "Validation Loss: 2.001, Validation Accuracy: 0.27\n",
            "\n",
            "Epoch: 8\n",
            "\n",
            "Train Loss: 1.788, Train Accuracy: 0.31\n",
            "Validation Loss: 2.174, Validation Accuracy: 0.19\n",
            "\n",
            "Epoch: 9\n",
            "\n",
            "Train Loss: 1.800, Train Accuracy: 0.30\n",
            "Validation Loss: 1.814, Validation Accuracy: 0.31\n",
            "\n",
            "Epoch: 10\n",
            "\n",
            "Train Loss: 1.719, Train Accuracy: 0.34\n",
            "Validation Loss: 2.662, Validation Accuracy: 0.17\n",
            "\n",
            "Epoch: 11\n",
            "\n",
            "Train Loss: 1.659, Train Accuracy: 0.37\n",
            "Validation Loss: 2.256, Validation Accuracy: 0.25\n",
            "\n",
            "Epoch: 12\n",
            "\n",
            "Train Loss: 1.626, Train Accuracy: 0.38\n",
            "Validation Loss: 1.743, Validation Accuracy: 0.34\n",
            "\n",
            "Epoch: 13\n",
            "\n",
            "Train Loss: 1.578, Train Accuracy: 0.40\n",
            "Validation Loss: 1.874, Validation Accuracy: 0.33\n",
            "\n",
            "Epoch: 14\n",
            "\n",
            "Train Loss: 1.540, Train Accuracy: 0.42\n",
            "Validation Loss: 1.845, Validation Accuracy: 0.37\n",
            "\n",
            "Epoch: 15\n",
            "\n",
            "Train Loss: 1.526, Train Accuracy: 0.43\n",
            "Validation Loss: 1.874, Validation Accuracy: 0.34\n",
            "\n",
            "Epoch: 16\n",
            "\n",
            "Train Loss: 1.483, Train Accuracy: 0.45\n",
            "Validation Loss: 2.198, Validation Accuracy: 0.29\n",
            "\n",
            "Epoch: 17\n",
            "\n",
            "Train Loss: 1.450, Train Accuracy: 0.47\n",
            "Validation Loss: 1.610, Validation Accuracy: 0.42\n",
            "\n",
            "Epoch: 18\n",
            "\n",
            "Train Loss: 1.422, Train Accuracy: 0.48\n",
            "Validation Loss: 1.827, Validation Accuracy: 0.34\n",
            "\n",
            "Epoch: 19\n",
            "\n",
            "Train Loss: 1.401, Train Accuracy: 0.49\n",
            "Validation Loss: 1.907, Validation Accuracy: 0.34\n",
            "\n",
            "Epoch: 20\n",
            "\n",
            "Train Loss: 1.381, Train Accuracy: 0.50\n",
            "Validation Loss: 1.769, Validation Accuracy: 0.35\n",
            "\n",
            "Epoch: 21\n",
            "\n",
            "Train Loss: 1.371, Train Accuracy: 0.50\n",
            "Validation Loss: 1.959, Validation Accuracy: 0.34\n",
            "\n",
            "Epoch: 22\n",
            "\n",
            "Train Loss: 1.351, Train Accuracy: 0.51\n",
            "Validation Loss: 1.541, Validation Accuracy: 0.43\n",
            "\n",
            "Epoch: 23\n",
            "\n",
            "Train Loss: 1.340, Train Accuracy: 0.51\n",
            "Validation Loss: 1.752, Validation Accuracy: 0.39\n",
            "\n",
            "Epoch: 24\n",
            "\n",
            "Train Loss: 1.332, Train Accuracy: 0.52\n",
            "Validation Loss: 1.804, Validation Accuracy: 0.36\n",
            "\n",
            "Epoch: 25\n",
            "\n",
            "Train Loss: 1.312, Train Accuracy: 0.53\n",
            "Validation Loss: 1.667, Validation Accuracy: 0.41\n",
            "\n",
            "Epoch: 26\n",
            "\n",
            "Train Loss: 1.304, Train Accuracy: 0.53\n",
            "Validation Loss: 1.653, Validation Accuracy: 0.42\n",
            "\n",
            "Epoch: 27\n",
            "\n",
            "Train Loss: 1.286, Train Accuracy: 0.54\n",
            "Validation Loss: 1.566, Validation Accuracy: 0.43\n",
            "\n",
            "Epoch: 28\n",
            "\n",
            "Train Loss: 1.287, Train Accuracy: 0.54\n",
            "Validation Loss: 1.780, Validation Accuracy: 0.38\n",
            "\n",
            "Epoch: 29\n",
            "\n",
            "Train Loss: 1.267, Train Accuracy: 0.54\n",
            "Validation Loss: 1.525, Validation Accuracy: 0.45\n",
            "\n",
            "Epoch: 30\n",
            "\n",
            "Train Loss: 1.251, Train Accuracy: 0.55\n",
            "Validation Loss: 1.529, Validation Accuracy: 0.46\n",
            "\n",
            "Epoch: 31\n",
            "\n",
            "Train Loss: 1.234, Train Accuracy: 0.56\n",
            "Validation Loss: 1.745, Validation Accuracy: 0.39\n",
            "\n",
            "Epoch: 32\n",
            "\n",
            "Train Loss: 1.232, Train Accuracy: 0.56\n",
            "Validation Loss: 1.504, Validation Accuracy: 0.45\n",
            "\n",
            "Epoch: 33\n",
            "\n",
            "Train Loss: 1.213, Train Accuracy: 0.56\n",
            "Validation Loss: 1.597, Validation Accuracy: 0.42\n",
            "\n",
            "Epoch: 34\n",
            "\n",
            "Train Loss: 1.211, Train Accuracy: 0.57\n",
            "Validation Loss: 1.588, Validation Accuracy: 0.43\n",
            "\n",
            "Epoch: 35\n",
            "\n",
            "Train Loss: 1.203, Train Accuracy: 0.57\n",
            "Validation Loss: 1.549, Validation Accuracy: 0.46\n",
            "\n",
            "Epoch: 36\n",
            "\n",
            "Train Loss: 1.186, Train Accuracy: 0.58\n",
            "Validation Loss: 1.625, Validation Accuracy: 0.44\n",
            "\n",
            "Epoch: 37\n",
            "\n",
            "Train Loss: 1.178, Train Accuracy: 0.58\n",
            "Validation Loss: 1.541, Validation Accuracy: 0.45\n",
            "\n",
            "Epoch: 38\n",
            "\n",
            "Train Loss: 1.170, Train Accuracy: 0.58\n",
            "Validation Loss: 1.596, Validation Accuracy: 0.45\n",
            "\n",
            "Epoch: 39\n",
            "\n",
            "Train Loss: 1.162, Train Accuracy: 0.58\n",
            "Validation Loss: 1.684, Validation Accuracy: 0.43\n",
            "\n",
            "Epoch: 40\n",
            "\n",
            "Train Loss: 1.152, Train Accuracy: 0.59\n",
            "Validation Loss: 1.557, Validation Accuracy: 0.45\n",
            "\n",
            "Epoch: 41\n",
            "\n",
            "Train Loss: 1.133, Train Accuracy: 0.60\n",
            "Validation Loss: 1.713, Validation Accuracy: 0.44\n",
            "\n",
            "Epoch: 42\n",
            "\n",
            "Train Loss: 1.133, Train Accuracy: 0.60\n",
            "Validation Loss: 1.671, Validation Accuracy: 0.43\n",
            "\n",
            "Epoch: 43\n",
            "\n",
            "Train Loss: 1.122, Train Accuracy: 0.60\n",
            "Validation Loss: 1.491, Validation Accuracy: 0.47\n",
            "\n",
            "Epoch: 44\n",
            "\n",
            "Train Loss: 1.119, Train Accuracy: 0.60\n",
            "Validation Loss: 1.418, Validation Accuracy: 0.51\n",
            "\n",
            "Epoch: 45\n",
            "\n",
            "Train Loss: 1.102, Train Accuracy: 0.60\n",
            "Validation Loss: 1.612, Validation Accuracy: 0.45\n",
            "\n",
            "Epoch: 46\n",
            "\n",
            "Train Loss: 1.095, Train Accuracy: 0.61\n",
            "Validation Loss: 1.543, Validation Accuracy: 0.47\n",
            "\n",
            "Epoch: 47\n",
            "\n",
            "Train Loss: 1.085, Train Accuracy: 0.61\n",
            "Validation Loss: 1.574, Validation Accuracy: 0.46\n",
            "\n",
            "Epoch: 48\n",
            "\n",
            "Train Loss: 1.081, Train Accuracy: 0.62\n",
            "Validation Loss: 1.734, Validation Accuracy: 0.45\n",
            "\n",
            "Epoch: 49\n",
            "\n",
            "Train Loss: 1.074, Train Accuracy: 0.62\n",
            "Validation Loss: 1.443, Validation Accuracy: 0.48\n",
            "\n",
            "Epoch: 50\n",
            "\n",
            "Train Loss: 1.059, Train Accuracy: 0.62\n",
            "Validation Loss: 1.922, Validation Accuracy: 0.40\n",
            "\n",
            "Epoch: 51\n",
            "\n",
            "Train Loss: 1.058, Train Accuracy: 0.62\n",
            "Validation Loss: 1.465, Validation Accuracy: 0.49\n",
            "\n",
            "Epoch: 52\n",
            "\n",
            "Train Loss: 1.047, Train Accuracy: 0.63\n",
            "Validation Loss: 1.849, Validation Accuracy: 0.42\n",
            "\n",
            "Epoch: 53\n",
            "\n",
            "Train Loss: 1.041, Train Accuracy: 0.63\n",
            "Validation Loss: 1.441, Validation Accuracy: 0.50\n",
            "\n",
            "Epoch: 54\n",
            "\n",
            "Train Loss: 1.027, Train Accuracy: 0.63\n",
            "Validation Loss: 1.646, Validation Accuracy: 0.44\n",
            "\n",
            "Epoch: 55\n",
            "\n",
            "Train Loss: 1.023, Train Accuracy: 0.64\n",
            "Validation Loss: 1.560, Validation Accuracy: 0.48\n",
            "\n",
            "Epoch: 56\n",
            "\n",
            "Train Loss: 1.021, Train Accuracy: 0.64\n",
            "Validation Loss: 1.633, Validation Accuracy: 0.46\n",
            "\n",
            "Epoch: 57\n",
            "\n",
            "Train Loss: 1.015, Train Accuracy: 0.64\n",
            "Validation Loss: 1.600, Validation Accuracy: 0.48\n",
            "\n",
            "Epoch: 58\n",
            "\n",
            "Train Loss: 1.011, Train Accuracy: 0.64\n",
            "Validation Loss: 1.590, Validation Accuracy: 0.47\n",
            "\n",
            "Epoch: 59\n",
            "\n",
            "Train Loss: 1.001, Train Accuracy: 0.64\n",
            "Validation Loss: 1.541, Validation Accuracy: 0.49\n",
            "\n",
            "Epoch: 60\n",
            "\n",
            "Train Loss: 0.988, Train Accuracy: 0.65\n",
            "Validation Loss: 1.569, Validation Accuracy: 0.47\n",
            "\n",
            "Epoch: 61\n",
            "\n",
            "Train Loss: 0.988, Train Accuracy: 0.65\n",
            "Validation Loss: 1.582, Validation Accuracy: 0.48\n",
            "\n",
            "Epoch: 62\n",
            "\n",
            "Train Loss: 0.980, Train Accuracy: 0.65\n",
            "Validation Loss: 1.458, Validation Accuracy: 0.52\n",
            "\n",
            "Epoch: 63\n",
            "\n",
            "Train Loss: 0.971, Train Accuracy: 0.65\n",
            "Validation Loss: 1.392, Validation Accuracy: 0.52\n",
            "\n",
            "Epoch: 64\n",
            "\n",
            "Train Loss: 0.968, Train Accuracy: 0.66\n",
            "Validation Loss: 1.631, Validation Accuracy: 0.48\n",
            "\n",
            "Epoch: 65\n",
            "\n",
            "Train Loss: 0.966, Train Accuracy: 0.66\n",
            "Validation Loss: 1.508, Validation Accuracy: 0.49\n",
            "\n",
            "Epoch: 66\n",
            "\n",
            "Train Loss: 0.952, Train Accuracy: 0.66\n",
            "Validation Loss: 1.761, Validation Accuracy: 0.45\n",
            "\n",
            "Epoch: 67\n",
            "\n",
            "Train Loss: 0.952, Train Accuracy: 0.66\n",
            "Validation Loss: 1.466, Validation Accuracy: 0.50\n",
            "\n",
            "Epoch: 68\n",
            "\n",
            "Train Loss: 0.949, Train Accuracy: 0.66\n",
            "Validation Loss: 1.734, Validation Accuracy: 0.45\n",
            "\n",
            "Epoch: 69\n",
            "\n",
            "Train Loss: 0.947, Train Accuracy: 0.66\n",
            "Validation Loss: 2.106, Validation Accuracy: 0.41\n",
            "\n",
            "Epoch: 70\n",
            "\n",
            "Train Loss: 0.941, Train Accuracy: 0.67\n",
            "Validation Loss: 1.666, Validation Accuracy: 0.47\n",
            "\n",
            "Epoch: 71\n",
            "\n",
            "Train Loss: 0.934, Train Accuracy: 0.67\n",
            "Validation Loss: 1.810, Validation Accuracy: 0.47\n",
            "\n",
            "Epoch: 72\n",
            "\n",
            "Train Loss: 0.933, Train Accuracy: 0.67\n",
            "Validation Loss: 1.530, Validation Accuracy: 0.50\n",
            "\n",
            "Epoch: 73\n",
            "\n",
            "Train Loss: 0.924, Train Accuracy: 0.67\n",
            "Validation Loss: 1.557, Validation Accuracy: 0.50\n",
            "\n",
            "Epoch: 74\n",
            "\n",
            "Train Loss: 0.917, Train Accuracy: 0.67\n",
            "Validation Loss: 1.687, Validation Accuracy: 0.48\n",
            "\n",
            "Epoch: 75\n",
            "\n",
            "Train Loss: 0.918, Train Accuracy: 0.67\n",
            "Validation Loss: 1.581, Validation Accuracy: 0.49\n",
            "\n",
            "Epoch: 76\n",
            "\n",
            "Train Loss: 0.909, Train Accuracy: 0.68\n",
            "Validation Loss: 1.632, Validation Accuracy: 0.49\n",
            "\n",
            "Epoch: 77\n",
            "\n",
            "Train Loss: 0.909, Train Accuracy: 0.68\n",
            "Validation Loss: 1.619, Validation Accuracy: 0.46\n",
            "\n",
            "Epoch: 78\n",
            "\n",
            "Train Loss: 0.898, Train Accuracy: 0.68\n",
            "Validation Loss: 1.470, Validation Accuracy: 0.51\n",
            "\n",
            "Epoch: 79\n",
            "\n",
            "Train Loss: 0.897, Train Accuracy: 0.68\n",
            "Validation Loss: 1.543, Validation Accuracy: 0.51\n",
            "\n",
            "Epoch: 80\n",
            "\n",
            "Train Loss: 0.890, Train Accuracy: 0.68\n",
            "Validation Loss: 1.521, Validation Accuracy: 0.49\n",
            "\n",
            "Epoch: 81\n",
            "\n",
            "Train Loss: 0.896, Train Accuracy: 0.68\n",
            "Validation Loss: 1.456, Validation Accuracy: 0.53\n",
            "\n",
            "Epoch: 82\n",
            "\n",
            "Train Loss: 0.874, Train Accuracy: 0.69\n",
            "Validation Loss: 1.573, Validation Accuracy: 0.51\n",
            "\n",
            "Epoch: 83\n",
            "\n",
            "Train Loss: 0.876, Train Accuracy: 0.69\n",
            "Validation Loss: 1.435, Validation Accuracy: 0.53\n",
            "\n",
            "Epoch: 84\n",
            "\n",
            "Train Loss: 0.876, Train Accuracy: 0.69\n",
            "Validation Loss: 1.481, Validation Accuracy: 0.51\n",
            "\n",
            "Epoch: 85\n",
            "\n",
            "Train Loss: 0.873, Train Accuracy: 0.69\n",
            "Validation Loss: 1.648, Validation Accuracy: 0.48\n",
            "\n",
            "Epoch: 86\n",
            "\n",
            "Train Loss: 0.862, Train Accuracy: 0.69\n",
            "Validation Loss: 1.448, Validation Accuracy: 0.53\n",
            "\n",
            "Epoch: 87\n",
            "\n",
            "Train Loss: 0.866, Train Accuracy: 0.69\n",
            "Validation Loss: 1.895, Validation Accuracy: 0.46\n",
            "\n",
            "Epoch: 88\n",
            "\n",
            "Train Loss: 0.860, Train Accuracy: 0.70\n",
            "Validation Loss: 1.572, Validation Accuracy: 0.51\n",
            "\n",
            "Epoch: 89\n",
            "\n",
            "Train Loss: 0.854, Train Accuracy: 0.70\n",
            "Validation Loss: 1.491, Validation Accuracy: 0.52\n",
            "\n",
            "Epoch: 90\n",
            "\n",
            "Train Loss: 0.843, Train Accuracy: 0.70\n",
            "Validation Loss: 1.558, Validation Accuracy: 0.49\n",
            "\n",
            "Epoch: 91\n",
            "\n",
            "Train Loss: 0.847, Train Accuracy: 0.70\n",
            "Validation Loss: 1.763, Validation Accuracy: 0.46\n",
            "\n",
            "Epoch: 92\n",
            "\n",
            "Train Loss: 0.832, Train Accuracy: 0.71\n",
            "Validation Loss: 1.633, Validation Accuracy: 0.48\n",
            "\n",
            "Epoch: 93\n",
            "\n",
            "Train Loss: 0.835, Train Accuracy: 0.70\n",
            "Validation Loss: 1.643, Validation Accuracy: 0.51\n",
            "\n",
            "Epoch: 94\n",
            "\n",
            "Train Loss: 0.827, Train Accuracy: 0.70\n",
            "Validation Loss: 1.477, Validation Accuracy: 0.54\n",
            "\n",
            "Epoch: 95\n",
            "\n",
            "Train Loss: 0.836, Train Accuracy: 0.71\n",
            "Validation Loss: 1.486, Validation Accuracy: 0.53\n",
            "\n",
            "Epoch: 96\n",
            "\n",
            "Train Loss: 0.826, Train Accuracy: 0.71\n",
            "Validation Loss: 1.738, Validation Accuracy: 0.49\n",
            "\n",
            "Epoch: 97\n",
            "\n",
            "Train Loss: 0.827, Train Accuracy: 0.71\n",
            "Validation Loss: 1.502, Validation Accuracy: 0.53\n",
            "\n",
            "Epoch: 98\n",
            "\n",
            "Train Loss: 0.819, Train Accuracy: 0.71\n",
            "Validation Loss: 1.814, Validation Accuracy: 0.48\n",
            "\n",
            "Epoch: 99\n",
            "\n",
            "Train Loss: 0.823, Train Accuracy: 0.71\n",
            "Validation Loss: 1.706, Validation Accuracy: 0.49\n",
            "\n",
            "Epoch: 100\n",
            "\n",
            "Train Loss: 0.816, Train Accuracy: 0.71\n",
            "Validation Loss: 1.415, Validation Accuracy: 0.54\n"
          ]
        }
      ],
      "source": [
        "from src.engine import train, evaluate\n",
        "from src.utils import calculate_accuracy\n",
        "\n",
        "EPOCHS = 100 # was 200\n",
        "train_loss = []\n",
        "train_acc = []\n",
        "valid_loss = []\n",
        "valid_acc = []\n",
        "best_loss = float('inf')\n",
        "\n",
        "for epoch in range(1, EPOCHS + 1):\n",
        "  print(f\"\\nEpoch: {epoch}\\n\")\n",
        "  loss, acc = train(model, train_loader, criterion, optimizer, device)\n",
        "  train_loss.append(loss)\n",
        "  train_acc.append(acc)\n",
        "  print(f\"Train Loss: {train_loss[-1]:.3f}, Train Accuracy: {train_acc[-1]:.2f}\")\n",
        "\n",
        "  loss, acc = evaluate(model, valid_loader, criterion, device)\n",
        "  valid_loss.append(loss)\n",
        "  valid_acc.append(acc)\n",
        "  print(f\"Validation Loss: {valid_loss[-1]:.3f}, Validation Accuracy: {valid_acc[-1]:.2f}\")\n",
        "\n",
        "  if loss < best_loss:\n",
        "    best_loss = loss\n",
        "    torch.save(model.state_dict(), path)"
      ]
    },
    {
      "cell_type": "markdown",
      "metadata": {
        "id": "GIu5vZ3d2jNJ"
      },
      "source": [
        "## Evaluate on the Test set"
      ]
    },
    {
      "cell_type": "code",
      "execution_count": 15,
      "metadata": {
        "id": "q5oWJj8g11MF",
        "outputId": "a38f5ab6-890d-49a8-8aa9-d73fe90da1d9",
        "colab": {
          "base_uri": "https://localhost:8080/"
        }
      },
      "outputs": [
        {
          "output_type": "stream",
          "name": "stdout",
          "text": [
            "Test Loss: 1.429\n",
            "Test Accuracy: 0.50%\n"
          ]
        }
      ],
      "source": [
        "# load best model\n",
        "model.load_state_dict(torch.load(path))\n",
        "test_loss, test_acc = evaluate(model.to(device), test_loader, criterion, device)\n",
        "print(f\"Test Loss: {test_loss:.3f}\")\n",
        "print(f\"Test Accuracy: {test_acc:.2f}%\")"
      ]
    },
    {
      "cell_type": "markdown",
      "metadata": {
        "id": "qvOfsB752las"
      },
      "source": [
        "## Plot Loss and Accuracy Curves"
      ]
    },
    {
      "cell_type": "code",
      "execution_count": 16,
      "metadata": {
        "id": "gk6I1WkDvWmE",
        "outputId": "0490b9f0-ee4a-43f9-99fe-ed82e0f02a7a",
        "colab": {
          "base_uri": "https://localhost:8080/",
          "height": 269
        }
      },
      "outputs": [
        {
          "output_type": "display_data",
          "data": {
            "text/plain": [
              "<Figure size 432x288 with 1 Axes>"
            ],
            "image/png": "[encoded data removed]"
          },
          "metadata": {
            "needs_background": "light"
          }
        }
      ],
      "source": [
        "import matplotlib.pyplot as plt\n",
        "\n",
        "x = [i for i in range(len(valid_loss))]\n",
        "\n",
        "plt.plot(x, train_loss, label=\"Train Loss\")\n",
        "plt.plot(x, valid_loss, label=\"Validation Loss\")\n",
        "plt.legend()\n",
        "plt.show()"
      ]
    },
    {
      "cell_type": "code",
      "execution_count": 17,
      "metadata": {
        "id": "A-xP3uX63aT8",
        "outputId": "e6c494c6-8132-4e41-cfbc-fa553e87d96a",
        "colab": {
          "base_uri": "https://localhost:8080/",
          "height": 265
        }
      },
      "outputs": [
        {
          "output_type": "display_data",
          "data": {
            "text/plain": [
              "<Figure size 432x288 with 1 Axes>"
            ],
            "image/png": "[encoded data removed]"
          },
          "metadata": {
            "needs_background": "light"
          }
        }
      ],
      "source": [
        "plt.plot(x, train_acc, label=\"Train Accuracy\")\n",
        "plt.plot(x, valid_acc, label=\"Validation Accuracy\")\n",
        "plt.legend()\n",
        "plt.show()"
      ]
    },
    {
      "cell_type": "code",
      "execution_count": null,
      "metadata": {
        "id": "D_FdIR923n9N"
      },
      "outputs": [],
      "source": [
        "# reaching epoch 96 (out of 1 to 100) after 11h36m of training\n",
        "# finished 100 epochs in \"12h\""
      ]
    }
  ],
  "metadata": {
    "accelerator": "GPU",
    "colab": {
      "provenance": []
    },
    "gpuClass": "standard",
    "kernelspec": {
      "display_name": "pyg",
      "language": "python",
      "name": "python3"
    },
    "language_info": {
      "codemirror_mode": {
        "name": "ipython",
        "version": 3
      },
      "file_extension": ".py",
      "mimetype": "text/x-python",
      "name": "python",
      "nbconvert_exporter": "python",
      "pygments_lexer": "ipython3",
      "version": "3.9.15"
    },
    "vscode": {
      "interpreter": {
        "hash": "602fd2f1343589d3bd6f27fae416162c1bba08e244faa27258d2511dac84d913"
      }
    }
  },
  "nbformat": 4,
  "nbformat_minor": 0
}