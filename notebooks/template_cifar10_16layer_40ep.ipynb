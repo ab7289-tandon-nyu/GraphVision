{
  "cells": [
    {
      "cell_type": "code",
      "execution_count": 1,
      "metadata": {
        "colab": {
          "base_uri": "https://localhost:8080/"
        },
        "id": "HQeBbCYZlhKn",
        "outputId": "db979ac7-eeb1-4555-9376-a14f0502054e"
      },
      "outputs": [
        {
          "output_type": "stream",
          "name": "stdout",
          "text": [
            "1.13.0+cu116\n",
            "\u001b[K     |████████████████████████████████| 9.4 MB 36.0 MB/s \n",
            "\u001b[K     |████████████████████████████████| 4.6 MB 28.2 MB/s \n",
            "\u001b[K     |████████████████████████████████| 3.2 MB 34.0 MB/s \n",
            "\u001b[K     |████████████████████████████████| 512 kB 34.8 MB/s \n",
            "\u001b[K     |████████████████████████████████| 280 kB 74.0 MB/s \n",
            "\u001b[?25h  Building wheel for torch-geometric (setup.py) ... \u001b[?25l\u001b[?25hdone\n"
          ]
        }
      ],
      "source": [
        "# Install required packages.\n",
        "import os\n",
        "import torch\n",
        "os.environ['TORCH'] = torch.__version__\n",
        "print(torch.__version__)\n",
        "\n",
        "!pip install -q torch-scatter -f https://data.pyg.org/whl/torch-${TORCH}.html\n",
        "!pip install -q torch-sparse -f https://data.pyg.org/whl/torch-${TORCH}.html\n",
        "!pip install -q torch-cluster -f https://data.pyg.org/whl/torch-${TORCH}.html\n",
        "!pip install -q git+https://github.com/pyg-team/pytorch_geometric.git"
      ]
    },
    {
      "cell_type": "code",
      "execution_count": 2,
      "metadata": {
        "colab": {
          "base_uri": "https://localhost:8080/"
        },
        "id": "NUnIVvd-lxxZ",
        "outputId": "7546b745-5dbc-4e90-8217-c7b4a8976fab"
      },
      "outputs": [
        {
          "output_type": "stream",
          "name": "stdout",
          "text": [
            "  Installing build dependencies ... \u001b[?25l\u001b[?25hdone\n",
            "  Getting requirements to build wheel ... \u001b[?25l\u001b[?25hdone\n",
            "    Preparing wheel metadata ... \u001b[?25l\u001b[?25hdone\n",
            "\u001b[K     |████████████████████████████████| 121 kB 35.3 MB/s \n",
            "\u001b[K     |████████████████████████████████| 1.6 MB 56.9 MB/s \n",
            "\u001b[K     |████████████████████████████████| 83 kB 2.5 MB/s \n",
            "\u001b[?25h  Building wheel for GraphVision (PEP 517) ... \u001b[?25l\u001b[?25hdone\n"
          ]
        }
      ],
      "source": [
        "# Install our repo\n",
        "# !git clone -b models \"https://github.com/ab7289-tandon-nyu/GraphVision.git\"\n",
        "# !cp -r /content/GraphVision/src/ .\n",
        "\n",
        "!pip install -q git+https://github.com/ab7289-tandon-nyu/GraphVision.git"
      ]
    },
    {
      "cell_type": "code",
      "execution_count": 3,
      "metadata": {
        "id": "4hY3Lomuoya8"
      },
      "outputs": [],
      "source": [
        "SEED = 1234\n",
        "\n",
        "torch.manual_seed(SEED)\n",
        "torch.cuda.manual_seed(SEED)\n",
        "torch.backends.cudnn.deterministic = True"
      ]
    },
    {
      "cell_type": "code",
      "execution_count": 4,
      "metadata": {
        "id": "LxCBs1jTriNW"
      },
      "outputs": [],
      "source": [
        "# from google.colab import drive\n",
        "# drive.mount(\"/content/drive\")"
      ]
    },
    {
      "cell_type": "code",
      "execution_count": 5,
      "metadata": {
        "colab": {
          "base_uri": "https://localhost:8080/"
        },
        "id": "Wuj1_P_3m0-l",
        "outputId": "93a4e701-f0bf-4e02-871e-ce25360f4c44"
      },
      "outputs": [
        {
          "output_type": "stream",
          "name": "stderr",
          "text": [
            "Downloading https://data.pyg.org/datasets/benchmarking-gnns/CIFAR10_v2.zip\n",
            "Extracting .data/CIFAR10/raw/CIFAR10_v2.zip\n",
            "Processing...\n",
            "Done!\n"
          ]
        }
      ],
      "source": [
        "from src.transforms import get_transforms\n",
        "from src.datasets import get_datasets, get_dataloaders\n",
        "\n",
        "transforms = get_transforms(\"cartesian\")\n",
        "train_dataset, valid_dataset, test_dataset = get_datasets(\".data/\", \n",
        "                        \"CIFAR10\", pre_transforms = None,\n",
        "                        transforms = transforms)\n",
        "BATCH_SIZE = 128\n",
        "\n",
        "train_loader, valid_loader, test_loader = get_dataloaders(train_dataset,\n",
        "                                                          valid_dataset,\n",
        "                                                          test_dataset,\n",
        "                                                          batch_size=(BATCH_SIZE, 1, 1),\n",
        "                                                          drop_last = False)"
      ]
    },
    {
      "cell_type": "markdown",
      "metadata": {
        "id": "Sjmgy7RvoJN-"
      },
      "source": [
        "## Review batch attributes"
      ]
    },
    {
      "cell_type": "code",
      "execution_count": 6,
      "metadata": {
        "colab": {
          "base_uri": "https://localhost:8080/"
        },
        "id": "-QCa0O4IoM6U",
        "outputId": "fa365067-8d1b-4528-c6a5-f3713fffdfe6"
      },
      "outputs": [
        {
          "output_type": "stream",
          "name": "stdout",
          "text": [
            "\n",
            "DataBatch(x=[14981, 3], edge_index=[2, 134829], edge_attr=[134829, 2], y=[128], pos=[14981, 2], edge_weight=[134829], batch=[14981], ptr=[129])\n",
            "=====================================================================\n",
            "Number of features:  3\n",
            "Number of node features: 3\n",
            "Number of nodes: 14981\n",
            "Number of edges: 134829\n",
            "Average node degree: 9.00\n",
            "Has isolated nodes: False\n",
            "Has self-loops: True\n"
          ]
        }
      ],
      "source": [
        "sample_batch = next(iter(train_loader))\n",
        "\n",
        "print()\n",
        "print(sample_batch)\n",
        "print(\"=====================================================================\")\n",
        "\n",
        "# Gather some statistics about the first graph.\n",
        "print(f\"Number of features:  {sample_batch.num_features}\")\n",
        "print(f\"Number of node features: {sample_batch.num_node_features}\")\n",
        "print(f'Number of nodes: {sample_batch.num_nodes}')\n",
        "print(f'Number of edges: {sample_batch.num_edges}')\n",
        "print(f'Average node degree: {sample_batch.num_edges / sample_batch.num_nodes:.2f}')\n",
        "print(f'Has isolated nodes: {sample_batch.has_isolated_nodes()}')\n",
        "print(f'Has self-loops: {sample_batch.has_self_loops()}')"
      ]
    },
    {
      "cell_type": "code",
      "execution_count": 7,
      "metadata": {
        "colab": {
          "base_uri": "https://localhost:8080/"
        },
        "id": "tu3VtmrWpnZx",
        "outputId": "c5c5a7c2-1b03-41f0-ab69-c222a1321419"
      },
      "outputs": [
        {
          "output_type": "stream",
          "name": "stdout",
          "text": [
            "Number of features: 3\n",
            "Number of classes: 10\n",
            "Edge Attr Dimension: 2\n"
          ]
        }
      ],
      "source": [
        "# store edge dimension\n",
        "edge_dim = sample_batch.edge_attr.size(-1)\n",
        "edge_dim\n",
        "# store number of features in graph batch\n",
        "input_features = test_dataset.num_features\n",
        "# store number of classes for classification\n",
        "num_classes = test_dataset.num_classes\n",
        "\n",
        "print(f\"Number of features: {input_features}\")\n",
        "print(f\"Number of classes: {num_classes}\")\n",
        "print(f\"Edge Attr Dimension: {edge_dim}\")"
      ]
    },
    {
      "cell_type": "code",
      "execution_count": 8,
      "metadata": {
        "colab": {
          "base_uri": "https://localhost:8080/"
        },
        "id": "rqiZaFw2ps9r",
        "outputId": "8b8f262e-a268-4f27-a9a2-b6634d096511"
      },
      "outputs": [
        {
          "output_type": "stream",
          "name": "stdout",
          "text": [
            "Creating new Model\n"
          ]
        }
      ],
      "source": [
        "from pathlib import Path\n",
        "\n",
        "save_loc = \"\" # was \"/content/drive/MyDrive/saved_models/\" # put save location here\n",
        "model_name = \"GENConv_clus-false_BN_RELU_layer16_h128_new.pt\"\n",
        "\n",
        "file_path = save_loc + model_name\n",
        "path = Path(file_path)\n",
        "state_dict = None\n",
        "if path.exists() and path.is_file():\n",
        "  print(\"Found Save!\")\n",
        "  state_dict = torch.load(path)\n",
        "else:\n",
        "  print(\"Creating new Model\")"
      ]
    },
    {
      "cell_type": "markdown",
      "metadata": {
        "id": "gGiE28k32eUr"
      },
      "source": [
        "## Create our Model"
      ]
    },
    {
      "cell_type": "code",
      "execution_count": 9,
      "metadata": {
        "id": "epF5kpJcqWJw"
      },
      "outputs": [],
      "source": [
        "from src.models import DeeperGCN\n",
        "from src.engine import evaluate\n",
        "\n",
        "hidden_features = 128\n",
        "\n",
        "device = torch.device(\"cuda\" if torch.cuda.is_available() else \"cpu\")\n",
        "model = DeeperGCN(\n",
        "    input_features,\n",
        "    num_classes,\n",
        "    hidden_features,\n",
        "    conv_type = \"GEN\",\n",
        "    act = \"relu\",\n",
        "    norm = \"batch\",\n",
        "    num_layers = 16,\n",
        "    use_cluster_pooling = False,\n",
        "    readout = \"mean\",\n",
        "    dropout = 0.25,\n",
        "    edge_dim = edge_dim\n",
        ").to(device)\n",
        "criterion = torch.nn.CrossEntropyLoss().to(device)\n",
        "prev_loss = None\n",
        "if state_dict is not None:\n",
        "  print(\"Loading previously saved state dictionary\")\n",
        "  model.load_state_dict(state_dict)\n",
        "  prev_loss, _ = evaluate(model.to(device), test_loader, criterion, device)\n",
        "optimizer = torch.optim.Adam(model.parameters(), lr=0.01)"
      ]
    },
    {
      "cell_type": "code",
      "execution_count": 10,
      "metadata": {
        "colab": {
          "base_uri": "https://localhost:8080/"
        },
        "id": "fsm1MwvSr0nU",
        "outputId": "81511ccd-9646-4056-9f26-7f76f848f5f8"
      },
      "outputs": [
        {
          "output_type": "stream",
          "name": "stdout",
          "text": [
            "There are 1,066,778 trainable parameters.\n",
            "\n",
            "DeeperGCN(\n",
            "  (fc_in): Linear(in_features=3, out_features=128, bias=True)\n",
            "  (fc_out): Linear(in_features=128, out_features=10, bias=True)\n",
            "  (out_act): ReLU(inplace=True)\n",
            "  (layers): ModuleList(\n",
            "    (0): DeepGCNLayer(block=res+)\n",
            "    (1): DeepGCNLayer(block=res+)\n",
            "    (2): DeepGCNLayer(block=res+)\n",
            "    (3): DeepGCNLayer(block=res+)\n",
            "    (4): DeepGCNLayer(block=res+)\n",
            "    (5): DeepGCNLayer(block=res+)\n",
            "    (6): DeepGCNLayer(block=res+)\n",
            "    (7): DeepGCNLayer(block=res+)\n",
            "    (8): DeepGCNLayer(block=res+)\n",
            "    (9): DeepGCNLayer(block=res+)\n",
            "    (10): DeepGCNLayer(block=res+)\n",
            "    (11): DeepGCNLayer(block=res+)\n",
            "    (12): DeepGCNLayer(block=res+)\n",
            "    (13): DeepGCNLayer(block=res+)\n",
            "    (14): DeepGCNLayer(block=res+)\n",
            "    (15): DeepGCNLayer(block=res+)\n",
            "  )\n",
            ")\n"
          ]
        }
      ],
      "source": [
        "params = sum([p.numel() for p in model.parameters() if p.requires_grad])\n",
        "print(f\"There are {params:,} trainable parameters.\")\n",
        "print()\n",
        "print(model)"
      ]
    },
    {
      "cell_type": "markdown",
      "source": [
        "```\n",
        "There are 1,066,778 trainable parameters.\n",
        "\n",
        "DeeperGCN(\n",
        "  (fc_in): Linear(in_features=3, out_features=128, bias=True)\n",
        "  (fc_out): Linear(in_features=128, out_features=10, bias=True)\n",
        "  (out_act): ReLU(inplace=True)\n",
        "  (layers): ModuleList(\n",
        "    (0): DeepGCNLayer(block=res+)\n",
        "    (1): DeepGCNLayer(block=res+)\n",
        "    (2): DeepGCNLayer(block=res+)\n",
        "    (3): DeepGCNLayer(block=res+)\n",
        "    (4): DeepGCNLayer(block=res+)\n",
        "    (5): DeepGCNLayer(block=res+)\n",
        "    (6): DeepGCNLayer(block=res+)\n",
        "    (7): DeepGCNLayer(block=res+)\n",
        "    (8): DeepGCNLayer(block=res+)\n",
        "    (9): DeepGCNLayer(block=res+)\n",
        "    (10): DeepGCNLayer(block=res+)\n",
        "    (11): DeepGCNLayer(block=res+)\n",
        "    (12): DeepGCNLayer(block=res+)\n",
        "    (13): DeepGCNLayer(block=res+)\n",
        "    (14): DeepGCNLayer(block=res+)\n",
        "    (15): DeepGCNLayer(block=res+)\n",
        "  )\n",
        ")\n",
        "```"
      ],
      "metadata": {
        "id": "iE3JwcroghwE"
      }
    },
    {
      "cell_type": "markdown",
      "metadata": {
        "id": "uuoamYXu2hf-"
      },
      "source": [
        "## Train"
      ]
    },
    {
      "cell_type": "code",
      "execution_count": 11,
      "metadata": {
        "colab": {
          "base_uri": "https://localhost:8080/"
        },
        "id": "8pyJ2olIr9pi",
        "outputId": "d79beab3-fb50-4997-aef2-8171e1a80fe4"
      },
      "outputs": [
        {
          "output_type": "stream",
          "name": "stdout",
          "text": [
            "\n",
            "Epoch: 1\n",
            "\n",
            "Train Loss: 2.107, Train Accuracy: 0.22\n",
            "Validation Loss: 2.018, Validation Accuracy: 0.23\n",
            "\n",
            "Epoch: 2\n",
            "\n",
            "Train Loss: 1.948, Train Accuracy: 0.26\n",
            "Validation Loss: 2.713, Validation Accuracy: 0.18\n",
            "\n",
            "Epoch: 3\n",
            "\n",
            "Train Loss: 1.876, Train Accuracy: 0.28\n",
            "Validation Loss: 2.406, Validation Accuracy: 0.18\n",
            "\n",
            "Epoch: 4\n",
            "\n",
            "Train Loss: 1.848, Train Accuracy: 0.29\n",
            "Validation Loss: 2.141, Validation Accuracy: 0.24\n",
            "\n",
            "Epoch: 5\n",
            "\n",
            "Train Loss: 1.741, Train Accuracy: 0.33\n",
            "Validation Loss: 2.405, Validation Accuracy: 0.22\n",
            "\n",
            "Epoch: 6\n",
            "\n",
            "Train Loss: 1.690, Train Accuracy: 0.36\n",
            "Validation Loss: 2.339, Validation Accuracy: 0.22\n",
            "\n",
            "Epoch: 7\n",
            "\n",
            "Train Loss: 1.632, Train Accuracy: 0.39\n",
            "Validation Loss: 2.003, Validation Accuracy: 0.27\n",
            "\n",
            "Epoch: 8\n",
            "\n",
            "Train Loss: 1.593, Train Accuracy: 0.41\n",
            "Validation Loss: 2.048, Validation Accuracy: 0.25\n",
            "\n",
            "Epoch: 9\n",
            "\n",
            "Train Loss: 1.543, Train Accuracy: 0.43\n",
            "Validation Loss: 1.750, Validation Accuracy: 0.36\n",
            "\n",
            "Epoch: 10\n",
            "\n",
            "Train Loss: 1.522, Train Accuracy: 0.44\n",
            "Validation Loss: 1.954, Validation Accuracy: 0.31\n",
            "\n",
            "Epoch: 11\n",
            "\n",
            "Train Loss: 1.496, Train Accuracy: 0.45\n",
            "Validation Loss: 2.086, Validation Accuracy: 0.30\n",
            "\n",
            "Epoch: 12\n",
            "\n",
            "Train Loss: 1.474, Train Accuracy: 0.46\n",
            "Validation Loss: 2.265, Validation Accuracy: 0.29\n",
            "\n",
            "Epoch: 13\n",
            "\n",
            "Train Loss: 1.454, Train Accuracy: 0.46\n",
            "Validation Loss: 1.759, Validation Accuracy: 0.38\n",
            "\n",
            "Epoch: 14\n",
            "\n",
            "Train Loss: 1.437, Train Accuracy: 0.47\n",
            "Validation Loss: 1.820, Validation Accuracy: 0.39\n",
            "\n",
            "Epoch: 15\n",
            "\n",
            "Train Loss: 1.418, Train Accuracy: 0.48\n",
            "Validation Loss: 2.032, Validation Accuracy: 0.35\n",
            "\n",
            "Epoch: 16\n",
            "\n",
            "Train Loss: 1.406, Train Accuracy: 0.48\n",
            "Validation Loss: 1.667, Validation Accuracy: 0.38\n",
            "\n",
            "Epoch: 17\n",
            "\n",
            "Train Loss: 1.396, Train Accuracy: 0.49\n",
            "Validation Loss: 1.870, Validation Accuracy: 0.36\n",
            "\n",
            "Epoch: 18\n",
            "\n",
            "Train Loss: 1.378, Train Accuracy: 0.50\n",
            "Validation Loss: 1.639, Validation Accuracy: 0.40\n",
            "\n",
            "Epoch: 19\n",
            "\n",
            "Train Loss: 1.373, Train Accuracy: 0.50\n",
            "Validation Loss: 2.000, Validation Accuracy: 0.33\n",
            "\n",
            "Epoch: 20\n",
            "\n",
            "Train Loss: 1.356, Train Accuracy: 0.50\n",
            "Validation Loss: 1.558, Validation Accuracy: 0.43\n",
            "\n",
            "Epoch: 21\n",
            "\n",
            "Train Loss: 1.341, Train Accuracy: 0.51\n",
            "Validation Loss: 1.776, Validation Accuracy: 0.38\n",
            "\n",
            "Epoch: 22\n",
            "\n",
            "Train Loss: 1.336, Train Accuracy: 0.52\n",
            "Validation Loss: 1.724, Validation Accuracy: 0.39\n",
            "\n",
            "Epoch: 23\n",
            "\n",
            "Train Loss: 1.327, Train Accuracy: 0.52\n",
            "Validation Loss: 1.681, Validation Accuracy: 0.39\n",
            "\n",
            "Epoch: 24\n",
            "\n",
            "Train Loss: 1.321, Train Accuracy: 0.52\n",
            "Validation Loss: 1.674, Validation Accuracy: 0.41\n",
            "\n",
            "Epoch: 25\n",
            "\n",
            "Train Loss: 1.308, Train Accuracy: 0.52\n",
            "Validation Loss: 1.767, Validation Accuracy: 0.40\n",
            "\n",
            "Epoch: 26\n",
            "\n",
            "Train Loss: 1.310, Train Accuracy: 0.53\n",
            "Validation Loss: 1.745, Validation Accuracy: 0.38\n",
            "\n",
            "Epoch: 27\n",
            "\n",
            "Train Loss: 1.293, Train Accuracy: 0.53\n",
            "Validation Loss: 1.670, Validation Accuracy: 0.40\n",
            "\n",
            "Epoch: 28\n",
            "\n",
            "Train Loss: 1.283, Train Accuracy: 0.54\n",
            "Validation Loss: 1.669, Validation Accuracy: 0.42\n",
            "\n",
            "Epoch: 29\n",
            "\n",
            "Train Loss: 1.285, Train Accuracy: 0.53\n",
            "Validation Loss: 1.760, Validation Accuracy: 0.40\n",
            "\n",
            "Epoch: 30\n",
            "\n",
            "Train Loss: 1.283, Train Accuracy: 0.54\n",
            "Validation Loss: 1.695, Validation Accuracy: 0.43\n",
            "\n",
            "Epoch: 31\n",
            "\n",
            "Train Loss: 1.271, Train Accuracy: 0.54\n",
            "Validation Loss: 1.550, Validation Accuracy: 0.44\n",
            "\n",
            "Epoch: 32\n",
            "\n",
            "Train Loss: 1.257, Train Accuracy: 0.54\n",
            "Validation Loss: 1.808, Validation Accuracy: 0.41\n",
            "\n",
            "Epoch: 33\n",
            "\n",
            "Train Loss: 1.260, Train Accuracy: 0.55\n",
            "Validation Loss: 1.456, Validation Accuracy: 0.48\n",
            "\n",
            "Epoch: 34\n",
            "\n",
            "Train Loss: 1.251, Train Accuracy: 0.55\n",
            "Validation Loss: 1.814, Validation Accuracy: 0.40\n",
            "\n",
            "Epoch: 35\n",
            "\n",
            "Train Loss: 1.244, Train Accuracy: 0.55\n",
            "Validation Loss: 1.537, Validation Accuracy: 0.45\n",
            "\n",
            "Epoch: 36\n",
            "\n",
            "Train Loss: 1.232, Train Accuracy: 0.56\n",
            "Validation Loss: 1.614, Validation Accuracy: 0.43\n",
            "\n",
            "Epoch: 37\n",
            "\n",
            "Train Loss: 1.225, Train Accuracy: 0.56\n",
            "Validation Loss: 1.597, Validation Accuracy: 0.44\n",
            "\n",
            "Epoch: 38\n",
            "\n",
            "Train Loss: 1.225, Train Accuracy: 0.56\n",
            "Validation Loss: 1.495, Validation Accuracy: 0.49\n",
            "\n",
            "Epoch: 39\n",
            "\n",
            "Train Loss: 1.213, Train Accuracy: 0.56\n",
            "Validation Loss: 1.896, Validation Accuracy: 0.39\n",
            "\n",
            "Epoch: 40\n",
            "\n",
            "Train Loss: 1.212, Train Accuracy: 0.56\n",
            "Validation Loss: 1.635, Validation Accuracy: 0.43\n"
          ]
        }
      ],
      "source": [
        "from src.engine import train\n",
        "from src.utils import calculate_accuracy\n",
        "\n",
        "EPOCHS = 40 # 100 # was 78 but timed out\n",
        "train_loss = []\n",
        "train_acc = []\n",
        "valid_loss = []\n",
        "valid_acc = []\n",
        "best_loss = float('inf')\n",
        "if prev_loss is not None:\n",
        "  print(f\"Training from previous best loss: {prev_loss}\")\n",
        "  best_loss = prev_loss\n",
        "  \n",
        "for epoch in range(1, EPOCHS + 1):\n",
        "  print(f\"\\nEpoch: {epoch}\\n\")\n",
        "  loss, acc = train(model, train_loader, criterion, optimizer, device)\n",
        "  train_loss.append(loss)\n",
        "  train_acc.append(acc)\n",
        "  print(f\"Train Loss: {train_loss[-1]:.3f}, Train Accuracy: {train_acc[-1]:.2f}\")\n",
        "\n",
        "  loss, acc = evaluate(model, valid_loader, criterion, device)\n",
        "  valid_loss.append(loss)\n",
        "  valid_acc.append(acc)\n",
        "  print(f\"Validation Loss: {valid_loss[-1]:.3f}, Validation Accuracy: {valid_acc[-1]:.2f}\")\n",
        "\n",
        "  if loss < best_loss:\n",
        "    best_loss = loss\n",
        "    torch.save(model.state_dict(), path)"
      ]
    },
    {
      "cell_type": "markdown",
      "metadata": {
        "id": "GIu5vZ3d2jNJ"
      },
      "source": [
        "## Evaluate on the Test set"
      ]
    },
    {
      "cell_type": "code",
      "execution_count": 12,
      "metadata": {
        "id": "q5oWJj8g11MF",
        "colab": {
          "base_uri": "https://localhost:8080/"
        },
        "outputId": "64186bf9-9c9c-4ea1-caf0-f23b4d86d288"
      },
      "outputs": [
        {
          "output_type": "stream",
          "name": "stdout",
          "text": [
            "Test Loss: 1.483\n",
            "Test Accuracy: 0.47%\n"
          ]
        }
      ],
      "source": [
        "# load best model\n",
        "model.load_state_dict(torch.load(path))\n",
        "test_loss, test_acc = evaluate(model.to(device), test_loader, criterion, device)\n",
        "print(f\"Test Loss: {test_loss:.3f}\")\n",
        "print(f\"Test Accuracy: {test_acc:.2f}%\")"
      ]
    },
    {
      "cell_type": "markdown",
      "metadata": {
        "id": "qvOfsB752las"
      },
      "source": [
        "## Plot Loss and Accuracy Curves"
      ]
    },
    {
      "cell_type": "code",
      "execution_count": 13,
      "metadata": {
        "id": "gk6I1WkDvWmE",
        "colab": {
          "base_uri": "https://localhost:8080/",
          "height": 265
        },
        "outputId": "6fd86310-f082-4178-daaf-880003ca5cc5"
      },
      "outputs": [
        {
          "output_type": "display_data",
          "data": {
            "text/plain": [
              "<Figure size 432x288 with 1 Axes>"
            ],
            "image/png": "[encoded data removed]"
          },
          "metadata": {
            "needs_background": "light"
          }
        }
      ],
      "source": [
        "import matplotlib.pyplot as plt\n",
        "\n",
        "x = [i for i in range(len(valid_loss))]\n",
        "\n",
        "plt.plot(x, train_loss, label=\"Train Loss\")\n",
        "plt.plot(x, valid_loss, label=\"Validation Loss\")\n",
        "plt.legend()\n",
        "plt.show()"
      ]
    },
    {
      "cell_type": "code",
      "execution_count": 14,
      "metadata": {
        "id": "A-xP3uX63aT8",
        "colab": {
          "base_uri": "https://localhost:8080/",
          "height": 265
        },
        "outputId": "9f7207ac-1feb-4461-d449-1f1c108d1862"
      },
      "outputs": [
        {
          "output_type": "display_data",
          "data": {
            "text/plain": [
              "<Figure size 432x288 with 1 Axes>"
            ],
            "image/png": "[encoded data removed]"
          },
          "metadata": {
            "needs_background": "light"
          }
        }
      ],
      "source": [
        "plt.plot(x, train_acc, label=\"Train Accuracy\")\n",
        "plt.plot(x, valid_acc, label=\"Validation Accuracy\")\n",
        "plt.legend()\n",
        "plt.show()"
      ]
    },
    {
      "cell_type": "code",
      "execution_count": 15,
      "metadata": {
        "id": "D_FdIR923n9N"
      },
      "outputs": [],
      "source": [
        "# reaching epoch 68 at 9h13m\n",
        "# reaching epoch 18 (out of 1 to 40) at 1h18m = 78m\n",
        "# reaching epoch 21 (out of 1 to 40) at 1h31m = 91m"
      ]
    }
  ],
  "metadata": {
    "accelerator": "GPU",
    "colab": {
      "provenance": []
    },
    "gpuClass": "standard",
    "kernelspec": {
      "display_name": "pyg",
      "language": "python",
      "name": "python3"
    },
    "language_info": {
      "codemirror_mode": {
        "name": "ipython",
        "version": 3
      },
      "file_extension": ".py",
      "mimetype": "text/x-python",
      "name": "python",
      "nbconvert_exporter": "python",
      "pygments_lexer": "ipython3",
      "version": "3.9.15"
    },
    "vscode": {
      "interpreter": {
        "hash": "602fd2f1343589d3bd6f27fae416162c1bba08e244faa27258d2511dac84d913"
      }
    }
  },
  "nbformat": 4,
  "nbformat_minor": 0
}