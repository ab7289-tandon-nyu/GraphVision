{
  "nbformat": 4,
  "nbformat_minor": 0,
  "metadata": {
    "colab": {
      "provenance": [],
      "toc_visible": true,
      "include_colab_link": true
    },
    "kernelspec": {
      "name": "python3",
      "display_name": "Python 3"
    },
    "accelerator": "GPU",
    "gpuClass": "standard"
  },
  "cells": [
    {
      "cell_type": "markdown",
      "metadata": {
        "id": "view-in-github",
        "colab_type": "text"
      },
      "source": [
        "<a href=\"https://colab.research.google.com/github/ab7289-tandon-nyu/GraphVision/blob/oscar1/notebooks/oscar_GraphConv_classify_TUDataset.ipynb\" target=\"_parent\"><img src=\"https://colab.research.google.com/assets/colab-badge.svg\" alt=\"Open In Colab\"/></a>"
      ]
    },
    {
      "cell_type": "markdown",
      "source": [
        "Main source:\n",
        "\n",
        "PyG <br>\n",
        "-> Colab Notebooks And Video Tutorial <br>\n",
        "-> PyG: 9 Colab notebooks <br>\n",
        "-> **3. Graph Classification with Graph Neural Networks** <br> (https://colab.research.google.com/drive/1I8a0DfQ3fI7Njc62__mVXUlcAleUclnb?usp=sharing)"
      ],
      "metadata": {
        "id": "V9g41l3TAkob"
      }
    },
    {
      "cell_type": "markdown",
      "source": [
        "## Install and Import"
      ],
      "metadata": {
        "id": "pgQOP66FBBjq"
      }
    },
    {
      "cell_type": "code",
      "source": [
        "import os\n",
        "import torch\n",
        "\n",
        "os.environ['TORCH'] = torch.__version__\n",
        "print(torch.__version__)"
      ],
      "metadata": {
        "colab": {
          "base_uri": "https://localhost:8080/"
        },
        "id": "Rdcq2-sXBD6w",
        "outputId": "64d79630-120b-43b2-8f19-fb4c19be5bc7"
      },
      "execution_count": 1,
      "outputs": [
        {
          "output_type": "stream",
          "name": "stdout",
          "text": [
            "1.13.0+cu116\n"
          ]
        }
      ]
    },
    {
      "cell_type": "code",
      "source": [
        "!pip install -q torch-scatter -f https://data.pyg.org/whl/torch-${TORCH}.html\n",
        "!pip install -q torch-sparse -f https://data.pyg.org/whl/torch-${TORCH}.html\n",
        "!pip install -q git+https://github.com/pyg-team/pytorch_geometric.git"
      ],
      "metadata": {
        "colab": {
          "base_uri": "https://localhost:8080/"
        },
        "id": "lKmvmffmBFHo",
        "outputId": "50b428a1-fb33-4b52-cfe7-af909973b6a4"
      },
      "execution_count": 2,
      "outputs": [
        {
          "output_type": "stream",
          "name": "stdout",
          "text": [
            "\u001b[K     |████████████████████████████████| 9.4 MB 4.4 MB/s \n",
            "\u001b[K     |████████████████████████████████| 4.6 MB 5.2 MB/s \n",
            "\u001b[K     |████████████████████████████████| 280 kB 4.7 MB/s \n",
            "\u001b[?25h  Building wheel for torch-geometric (setup.py) ... \u001b[?25l\u001b[?25hdone\n"
          ]
        }
      ]
    },
    {
      "cell_type": "markdown",
      "metadata": {
        "id": "_5FBQ9gXpL-W"
      },
      "source": [
        "## Data"
      ]
    },
    {
      "cell_type": "markdown",
      "source": [
        "### Download dataset"
      ],
      "metadata": {
        "id": "zyKRtLMABo1l"
      }
    },
    {
      "cell_type": "code",
      "source": [
        "from torch_geometric.datasets import TUDataset\n",
        "\n",
        "dataset = TUDataset(root='data/TUDataset', name='MUTAG')"
      ],
      "metadata": {
        "colab": {
          "base_uri": "https://localhost:8080/"
        },
        "id": "DWz12pr1BZnK",
        "outputId": "b5adeb5f-107f-4cb4-c941-3b370c055e1a"
      },
      "execution_count": 3,
      "outputs": [
        {
          "output_type": "stream",
          "name": "stderr",
          "text": [
            "Downloading https://www.chrsmrrs.com/graphkerneldatasets/MUTAG.zip\n",
            "Extracting data/TUDataset/MUTAG/MUTAG.zip\n",
            "Processing...\n",
            "Done!\n"
          ]
        }
      ]
    },
    {
      "cell_type": "code",
      "metadata": {
        "id": "mHSP6-RBOqCE",
        "colab": {
          "base_uri": "https://localhost:8080/"
        },
        "outputId": "61ed61c7-fbd3-490a-f77f-e7a4707d0414"
      },
      "source": [
        "print(f'Dataset: {dataset}:')\n",
        "print('====================')\n",
        "print(f'Number of graphs  : {len(dataset)}')\n",
        "print(f'Number of features: {dataset.num_features}')\n",
        "print(f'Number of classes : {dataset.num_classes}')"
      ],
      "execution_count": 4,
      "outputs": [
        {
          "output_type": "stream",
          "name": "stdout",
          "text": [
            "Dataset: MUTAG(188):\n",
            "====================\n",
            "Number of graphs  : 188\n",
            "Number of features: 7\n",
            "Number of classes : 2\n"
          ]
        }
      ]
    },
    {
      "cell_type": "markdown",
      "metadata": {
        "id": "2DgLTbTcrbQO"
      },
      "source": [
        "### Split dataset into TRAIN vs TEST"
      ]
    },
    {
      "cell_type": "code",
      "metadata": {
        "id": "j11WiUr-PRH_",
        "colab": {
          "base_uri": "https://localhost:8080/"
        },
        "outputId": "8290df40-8e74-42a2-f586-0fc342bf97ae"
      },
      "source": [
        "torch.manual_seed(12345)\n",
        "\n",
        "dataset = dataset.shuffle()\n",
        "\n",
        "train_dataset = dataset[:150]\n",
        "test_dataset  = dataset[150:]\n",
        "\n",
        "print(f'Number of TRAIN graphs: {len(train_dataset)}')\n",
        "print(f'Number of TEST  graphs: {len(test_dataset)}')"
      ],
      "execution_count": 5,
      "outputs": [
        {
          "output_type": "stream",
          "name": "stdout",
          "text": [
            "Number of TRAIN graphs: 150\n",
            "Number of TEST  graphs: 38\n"
          ]
        }
      ]
    },
    {
      "cell_type": "markdown",
      "metadata": {
        "id": "qeORu4Zrs8Zy"
      },
      "source": [
        "### Mini-batch the graphs"
      ]
    },
    {
      "cell_type": "code",
      "metadata": {
        "id": "0gZ-l0npPIca"
      },
      "source": [
        "BATCH_SIZE = 64\n",
        "\n",
        "from torch_geometric.loader import DataLoader\n",
        "\n",
        "train_loader = DataLoader(train_dataset, batch_size=BATCH_SIZE, shuffle=True )\n",
        "test_loader  = DataLoader(test_dataset,  batch_size=BATCH_SIZE, shuffle=False)"
      ],
      "execution_count": 6,
      "outputs": []
    },
    {
      "cell_type": "code",
      "source": [
        "for step, data in enumerate(train_loader):\n",
        "    print(f'Step {step + 1}:')\n",
        "    print('=======')\n",
        "    print(f'Number of graphs in the current batch: {data.num_graphs}')\n",
        "    print(data)\n",
        "    print()"
      ],
      "metadata": {
        "id": "gXevNxpYCaEx",
        "outputId": "4317f81d-41f9-49b2-a3fe-2397ec729237",
        "colab": {
          "base_uri": "https://localhost:8080/"
        }
      },
      "execution_count": 7,
      "outputs": [
        {
          "output_type": "stream",
          "name": "stdout",
          "text": [
            "Step 1:\n",
            "=======\n",
            "Number of graphs in the current batch: 64\n",
            "DataBatch(edge_index=[2, 2636], x=[1188, 7], edge_attr=[2636, 4], y=[64], batch=[1188], ptr=[65])\n",
            "\n",
            "Step 2:\n",
            "=======\n",
            "Number of graphs in the current batch: 64\n",
            "DataBatch(edge_index=[2, 2506], x=[1139, 7], edge_attr=[2506, 4], y=[64], batch=[1139], ptr=[65])\n",
            "\n",
            "Step 3:\n",
            "=======\n",
            "Number of graphs in the current batch: 22\n",
            "DataBatch(edge_index=[2, 852], x=[387, 7], edge_attr=[852, 4], y=[22], batch=[387], ptr=[23])\n",
            "\n"
          ]
        }
      ]
    },
    {
      "cell_type": "markdown",
      "metadata": {
        "id": "0pq-VyzUwPpw"
      },
      "source": [
        "## Model"
      ]
    },
    {
      "cell_type": "code",
      "metadata": {
        "id": "CN3sRVuaQ88l",
        "colab": {
          "base_uri": "https://localhost:8080/"
        },
        "outputId": "589fee1b-7b43-48bf-f2a7-69738c8e6b5c"
      },
      "source": [
        "import torch.nn.functional as F\n",
        "\n",
        "from torch_geometric.nn import GraphConv\n",
        "from torch_geometric.nn import global_mean_pool\n",
        "from torch.nn           import Linear\n",
        "\n",
        "# precondition: the \"dataset\" object already exists\n",
        "class GCN(torch.nn.Module):\n",
        "    def __init__(self, hidden_channels):\n",
        "        super(GCN, self).__init__()\n",
        "        torch.manual_seed(12345)\n",
        "\n",
        "        self.conv1 = GraphConv(dataset.num_node_features, hidden_channels)\n",
        "        self.conv2 = GraphConv(hidden_channels,           hidden_channels)\n",
        "        self.conv3 = GraphConv(hidden_channels,           hidden_channels)\n",
        "        self.lin   = Linear(   hidden_channels,           dataset.num_classes)\n",
        "\n",
        "    def forward(self, x, edge_index, batch):\n",
        "        # 1` node embeddings \n",
        "        x = self.conv1(x, edge_index)\n",
        "        x = x.relu()\n",
        "        x = self.conv2(x, edge_index)\n",
        "        x = x.relu()\n",
        "        x = self.conv3(x, edge_index)\n",
        "\n",
        "        # 2` graph embedding: the Readout layer\n",
        "        x = global_mean_pool(x, batch)  # [batch_size, hidden_channels]\n",
        "\n",
        "        # 3` a final classifier\n",
        "        x = F.dropout(x, p=0.5, training=self.training)\n",
        "        x = self.lin(x)\n",
        "        \n",
        "        return x\n",
        "\n",
        "model = GCN(hidden_channels=64)\n",
        "print(model)"
      ],
      "execution_count": 9,
      "outputs": [
        {
          "output_type": "stream",
          "name": "stdout",
          "text": [
            "GCN(\n",
            "  (conv1): GraphConv(7, 64)\n",
            "  (conv2): GraphConv(64, 64)\n",
            "  (conv3): GraphConv(64, 64)\n",
            "  (lin): Linear(in_features=64, out_features=2, bias=True)\n",
            ")\n"
          ]
        }
      ]
    },
    {
      "cell_type": "markdown",
      "metadata": {
        "id": "V2Q37tbHyQ6A"
      },
      "source": [
        "## Train, test"
      ]
    },
    {
      "cell_type": "markdown",
      "source": [
        "### Train, test"
      ],
      "metadata": {
        "id": "lOb-vifkFZpe"
      }
    },
    {
      "cell_type": "code",
      "metadata": {
        "id": "HvhgQoO8Svw4",
        "colab": {
          "base_uri": "https://localhost:8080/",
          "height": 300
        },
        "outputId": "b2334cd2-4506-4314-a554-afab5aa7ca75"
      },
      "source": [
        "from IPython.display import Javascript\n",
        "display(Javascript('''google.colab.output.setIframeHeight(0, true, {maxHeight: 300})'''))\n",
        "\n",
        "model     = GCN(hidden_channels=64)\n",
        "optimizer = torch.optim.Adam(model.parameters(), lr=0.01)\n",
        "criterion = torch.nn.CrossEntropyLoss()\n",
        "\n",
        "def train(): # (returns nothing\n",
        "    model.train()\n",
        "\n",
        "    for data in train_loader:  # Iterate in batches over the training dataset.\n",
        "         out  = model(data.x, data.edge_index, data.batch)  # Perform a single forward pass.\n",
        "         loss = criterion(out, data.y)  # Compute the loss.\n",
        "         loss.backward()  # Derive gradients.\n",
        "         optimizer.step()  # Update parameters based on gradients.\n",
        "         optimizer.zero_grad()  # Clear gradients.\n",
        "\n",
        "def test(loader):\n",
        "     model.eval()\n",
        "\n",
        "     correct = 0\n",
        "     for data in loader:  # Iterate in batches over the training/test dataset.\n",
        "         out = model(data.x, data.edge_index, data.batch)  \n",
        "         pred = out.argmax(dim=1)  # Use the class with highest probability.\n",
        "         correct += int((pred == data.y).sum())  # Check against ground-truth labels.\n",
        "     return correct / len(loader.dataset)  # Derive ratio of correct predictions.\n",
        "\n",
        "\n",
        "NUM_EPOCHS = 200\n",
        "train_accs = {}\n",
        "test_accs  = {}\n",
        "for epoch in range(1, NUM_EPOCHS):\n",
        "    train()\n",
        "    train_acc = test(train_loader)\n",
        "    test_acc = test(test_loader)\n",
        "    train_accs[epoch] = train_acc\n",
        "    test_accs[epoch]  = test_acc\n",
        "    print(f'Epoch: {epoch:03d}, Train Acc: {train_acc:.4f}, Test Acc: {test_acc:.4f}')"
      ],
      "execution_count": 10,
      "outputs": [
        {
          "output_type": "display_data",
          "data": {
            "text/plain": [
              "<IPython.core.display.Javascript object>"
            ],
            "application/javascript": [
              "google.colab.output.setIframeHeight(0, true, {maxHeight: 300})"
            ]
          },
          "metadata": {}
        },
        {
          "output_type": "stream",
          "name": "stdout",
          "text": [
            "Epoch: 001, Train Acc: 0.7333, Test Acc: 0.7895\n",
            "Epoch: 002, Train Acc: 0.6467, Test Acc: 0.7368\n",
            "Epoch: 003, Train Acc: 0.6467, Test Acc: 0.7368\n",
            "Epoch: 004, Train Acc: 0.6467, Test Acc: 0.7368\n",
            "Epoch: 005, Train Acc: 0.6467, Test Acc: 0.7368\n",
            "Epoch: 006, Train Acc: 0.6533, Test Acc: 0.7368\n",
            "Epoch: 007, Train Acc: 0.7333, Test Acc: 0.8158\n",
            "Epoch: 008, Train Acc: 0.7267, Test Acc: 0.8158\n",
            "Epoch: 009, Train Acc: 0.7867, Test Acc: 0.8421\n",
            "Epoch: 010, Train Acc: 0.7733, Test Acc: 0.8158\n",
            "Epoch: 011, Train Acc: 0.7733, Test Acc: 0.7895\n",
            "Epoch: 012, Train Acc: 0.7933, Test Acc: 0.8421\n",
            "Epoch: 013, Train Acc: 0.7733, Test Acc: 0.8421\n",
            "Epoch: 014, Train Acc: 0.7733, Test Acc: 0.7895\n",
            "Epoch: 015, Train Acc: 0.7933, Test Acc: 0.8421\n",
            "Epoch: 016, Train Acc: 0.7667, Test Acc: 0.7632\n",
            "Epoch: 017, Train Acc: 0.7933, Test Acc: 0.8421\n",
            "Epoch: 018, Train Acc: 0.7867, Test Acc: 0.7895\n",
            "Epoch: 019, Train Acc: 0.7867, Test Acc: 0.7895\n",
            "Epoch: 020, Train Acc: 0.8133, Test Acc: 0.8421\n",
            "Epoch: 021, Train Acc: 0.8000, Test Acc: 0.7632\n",
            "Epoch: 022, Train Acc: 0.7933, Test Acc: 0.8421\n",
            "Epoch: 023, Train Acc: 0.8133, Test Acc: 0.8421\n",
            "Epoch: 024, Train Acc: 0.8667, Test Acc: 0.7368\n",
            "Epoch: 025, Train Acc: 0.8467, Test Acc: 0.7632\n",
            "Epoch: 026, Train Acc: 0.8400, Test Acc: 0.7368\n",
            "Epoch: 027, Train Acc: 0.8400, Test Acc: 0.7632\n",
            "Epoch: 028, Train Acc: 0.8133, Test Acc: 0.8421\n",
            "Epoch: 029, Train Acc: 0.9067, Test Acc: 0.7632\n",
            "Epoch: 030, Train Acc: 0.8800, Test Acc: 0.7895\n",
            "Epoch: 031, Train Acc: 0.8600, Test Acc: 0.7632\n",
            "Epoch: 032, Train Acc: 0.9133, Test Acc: 0.7895\n",
            "Epoch: 033, Train Acc: 0.9267, Test Acc: 0.8158\n",
            "Epoch: 034, Train Acc: 0.8933, Test Acc: 0.8158\n",
            "Epoch: 035, Train Acc: 0.9200, Test Acc: 0.8684\n",
            "Epoch: 036, Train Acc: 0.9000, Test Acc: 0.7368\n",
            "Epoch: 037, Train Acc: 0.9267, Test Acc: 0.8684\n",
            "Epoch: 038, Train Acc: 0.9400, Test Acc: 0.8684\n",
            "Epoch: 039, Train Acc: 0.9133, Test Acc: 0.7632\n",
            "Epoch: 040, Train Acc: 0.9267, Test Acc: 0.8158\n",
            "Epoch: 041, Train Acc: 0.9133, Test Acc: 0.7368\n",
            "Epoch: 042, Train Acc: 0.9067, Test Acc: 0.8421\n",
            "Epoch: 043, Train Acc: 0.9133, Test Acc: 0.8421\n",
            "Epoch: 044, Train Acc: 0.9267, Test Acc: 0.8684\n",
            "Epoch: 045, Train Acc: 0.9067, Test Acc: 0.8158\n",
            "Epoch: 046, Train Acc: 0.9333, Test Acc: 0.8158\n",
            "Epoch: 047, Train Acc: 0.9200, Test Acc: 0.8158\n",
            "Epoch: 048, Train Acc: 0.9333, Test Acc: 0.8421\n",
            "Epoch: 049, Train Acc: 0.9333, Test Acc: 0.8684\n",
            "Epoch: 050, Train Acc: 0.9333, Test Acc: 0.8158\n",
            "Epoch: 051, Train Acc: 0.9333, Test Acc: 0.8158\n",
            "Epoch: 052, Train Acc: 0.9333, Test Acc: 0.8421\n",
            "Epoch: 053, Train Acc: 0.9333, Test Acc: 0.8421\n",
            "Epoch: 054, Train Acc: 0.9267, Test Acc: 0.8158\n",
            "Epoch: 055, Train Acc: 0.9400, Test Acc: 0.8158\n",
            "Epoch: 056, Train Acc: 0.9333, Test Acc: 0.8421\n",
            "Epoch: 057, Train Acc: 0.9267, Test Acc: 0.8158\n",
            "Epoch: 058, Train Acc: 0.9333, Test Acc: 0.8158\n",
            "Epoch: 059, Train Acc: 0.9333, Test Acc: 0.8158\n",
            "Epoch: 060, Train Acc: 0.9333, Test Acc: 0.8158\n",
            "Epoch: 061, Train Acc: 0.9400, Test Acc: 0.8158\n",
            "Epoch: 062, Train Acc: 0.9333, Test Acc: 0.8158\n",
            "Epoch: 063, Train Acc: 0.9267, Test Acc: 0.8684\n",
            "Epoch: 064, Train Acc: 0.9333, Test Acc: 0.8421\n",
            "Epoch: 065, Train Acc: 0.9400, Test Acc: 0.8158\n",
            "Epoch: 066, Train Acc: 0.9333, Test Acc: 0.8158\n",
            "Epoch: 067, Train Acc: 0.9333, Test Acc: 0.8158\n",
            "Epoch: 068, Train Acc: 0.9333, Test Acc: 0.8158\n",
            "Epoch: 069, Train Acc: 0.9400, Test Acc: 0.8158\n",
            "Epoch: 070, Train Acc: 0.9133, Test Acc: 0.8158\n",
            "Epoch: 071, Train Acc: 0.9467, Test Acc: 0.8421\n",
            "Epoch: 072, Train Acc: 0.9400, Test Acc: 0.8421\n",
            "Epoch: 073, Train Acc: 0.9333, Test Acc: 0.8158\n",
            "Epoch: 074, Train Acc: 0.9333, Test Acc: 0.8158\n",
            "Epoch: 075, Train Acc: 0.9333, Test Acc: 0.8158\n",
            "Epoch: 076, Train Acc: 0.9400, Test Acc: 0.8158\n",
            "Epoch: 077, Train Acc: 0.9467, Test Acc: 0.8158\n",
            "Epoch: 078, Train Acc: 0.9333, Test Acc: 0.8158\n",
            "Epoch: 079, Train Acc: 0.9333, Test Acc: 0.8158\n",
            "Epoch: 080, Train Acc: 0.9267, Test Acc: 0.8158\n",
            "Epoch: 081, Train Acc: 0.9333, Test Acc: 0.8158\n",
            "Epoch: 082, Train Acc: 0.9400, Test Acc: 0.8947\n",
            "Epoch: 083, Train Acc: 0.9400, Test Acc: 0.8158\n",
            "Epoch: 084, Train Acc: 0.9400, Test Acc: 0.8158\n",
            "Epoch: 085, Train Acc: 0.9333, Test Acc: 0.8947\n",
            "Epoch: 086, Train Acc: 0.9400, Test Acc: 0.8158\n",
            "Epoch: 087, Train Acc: 0.9200, Test Acc: 0.8158\n",
            "Epoch: 088, Train Acc: 0.9400, Test Acc: 0.8158\n",
            "Epoch: 089, Train Acc: 0.9333, Test Acc: 0.8158\n",
            "Epoch: 090, Train Acc: 0.9333, Test Acc: 0.8158\n",
            "Epoch: 091, Train Acc: 0.9267, Test Acc: 0.8158\n",
            "Epoch: 092, Train Acc: 0.9267, Test Acc: 0.8421\n",
            "Epoch: 093, Train Acc: 0.9267, Test Acc: 0.8158\n",
            "Epoch: 094, Train Acc: 0.9333, Test Acc: 0.8158\n",
            "Epoch: 095, Train Acc: 0.9333, Test Acc: 0.8158\n",
            "Epoch: 096, Train Acc: 0.9400, Test Acc: 0.8158\n",
            "Epoch: 097, Train Acc: 0.9400, Test Acc: 0.8158\n",
            "Epoch: 098, Train Acc: 0.9400, Test Acc: 0.8158\n",
            "Epoch: 099, Train Acc: 0.9333, Test Acc: 0.8158\n",
            "Epoch: 100, Train Acc: 0.9333, Test Acc: 0.8158\n",
            "Epoch: 101, Train Acc: 0.9400, Test Acc: 0.8684\n",
            "Epoch: 102, Train Acc: 0.9333, Test Acc: 0.8158\n",
            "Epoch: 103, Train Acc: 0.9400, Test Acc: 0.8158\n",
            "Epoch: 104, Train Acc: 0.9267, Test Acc: 0.8684\n",
            "Epoch: 105, Train Acc: 0.9267, Test Acc: 0.7895\n",
            "Epoch: 106, Train Acc: 0.8333, Test Acc: 0.7632\n",
            "Epoch: 107, Train Acc: 0.9267, Test Acc: 0.8684\n",
            "Epoch: 108, Train Acc: 0.8800, Test Acc: 0.7895\n",
            "Epoch: 109, Train Acc: 0.8867, Test Acc: 0.8158\n",
            "Epoch: 110, Train Acc: 0.9133, Test Acc: 0.8684\n",
            "Epoch: 111, Train Acc: 0.9400, Test Acc: 0.8158\n",
            "Epoch: 112, Train Acc: 0.9267, Test Acc: 0.7895\n",
            "Epoch: 113, Train Acc: 0.9133, Test Acc: 0.8421\n",
            "Epoch: 114, Train Acc: 0.9400, Test Acc: 0.8421\n",
            "Epoch: 115, Train Acc: 0.9333, Test Acc: 0.7632\n",
            "Epoch: 116, Train Acc: 0.9267, Test Acc: 0.7895\n",
            "Epoch: 117, Train Acc: 0.9400, Test Acc: 0.8158\n",
            "Epoch: 118, Train Acc: 0.9200, Test Acc: 0.8158\n",
            "Epoch: 119, Train Acc: 0.9467, Test Acc: 0.8158\n",
            "Epoch: 120, Train Acc: 0.9333, Test Acc: 0.8684\n",
            "Epoch: 121, Train Acc: 0.9467, Test Acc: 0.8421\n",
            "Epoch: 122, Train Acc: 0.9467, Test Acc: 0.8421\n",
            "Epoch: 123, Train Acc: 0.9400, Test Acc: 0.8421\n",
            "Epoch: 124, Train Acc: 0.9467, Test Acc: 0.8158\n",
            "Epoch: 125, Train Acc: 0.9400, Test Acc: 0.8158\n",
            "Epoch: 126, Train Acc: 0.9467, Test Acc: 0.8158\n",
            "Epoch: 127, Train Acc: 0.9400, Test Acc: 0.8158\n",
            "Epoch: 128, Train Acc: 0.9400, Test Acc: 0.8158\n",
            "Epoch: 129, Train Acc: 0.9467, Test Acc: 0.8158\n",
            "Epoch: 130, Train Acc: 0.9400, Test Acc: 0.8158\n",
            "Epoch: 131, Train Acc: 0.9467, Test Acc: 0.8158\n",
            "Epoch: 132, Train Acc: 0.9333, Test Acc: 0.8158\n",
            "Epoch: 133, Train Acc: 0.9400, Test Acc: 0.8158\n",
            "Epoch: 134, Train Acc: 0.9467, Test Acc: 0.8158\n",
            "Epoch: 135, Train Acc: 0.9400, Test Acc: 0.8158\n",
            "Epoch: 136, Train Acc: 0.9333, Test Acc: 0.7895\n",
            "Epoch: 137, Train Acc: 0.9400, Test Acc: 0.8158\n",
            "Epoch: 138, Train Acc: 0.9400, Test Acc: 0.8158\n",
            "Epoch: 139, Train Acc: 0.9400, Test Acc: 0.8158\n",
            "Epoch: 140, Train Acc: 0.9400, Test Acc: 0.8158\n",
            "Epoch: 141, Train Acc: 0.9400, Test Acc: 0.8421\n",
            "Epoch: 142, Train Acc: 0.9333, Test Acc: 0.8158\n",
            "Epoch: 143, Train Acc: 0.9400, Test Acc: 0.8158\n",
            "Epoch: 144, Train Acc: 0.9400, Test Acc: 0.8158\n",
            "Epoch: 145, Train Acc: 0.9400, Test Acc: 0.8158\n",
            "Epoch: 146, Train Acc: 0.9400, Test Acc: 0.8158\n",
            "Epoch: 147, Train Acc: 0.9333, Test Acc: 0.8158\n",
            "Epoch: 148, Train Acc: 0.9467, Test Acc: 0.8158\n",
            "Epoch: 149, Train Acc: 0.9467, Test Acc: 0.8158\n",
            "Epoch: 150, Train Acc: 0.9333, Test Acc: 0.8158\n",
            "Epoch: 151, Train Acc: 0.9400, Test Acc: 0.8158\n",
            "Epoch: 152, Train Acc: 0.9400, Test Acc: 0.8158\n",
            "Epoch: 153, Train Acc: 0.9400, Test Acc: 0.8158\n",
            "Epoch: 154, Train Acc: 0.9200, Test Acc: 0.7632\n",
            "Epoch: 155, Train Acc: 0.9267, Test Acc: 0.7895\n",
            "Epoch: 156, Train Acc: 0.9467, Test Acc: 0.8158\n",
            "Epoch: 157, Train Acc: 0.9400, Test Acc: 0.8158\n",
            "Epoch: 158, Train Acc: 0.9400, Test Acc: 0.7895\n",
            "Epoch: 159, Train Acc: 0.9333, Test Acc: 0.7895\n",
            "Epoch: 160, Train Acc: 0.9467, Test Acc: 0.7895\n",
            "Epoch: 161, Train Acc: 0.9467, Test Acc: 0.8158\n",
            "Epoch: 162, Train Acc: 0.9467, Test Acc: 0.8158\n",
            "Epoch: 163, Train Acc: 0.9467, Test Acc: 0.8158\n",
            "Epoch: 164, Train Acc: 0.9400, Test Acc: 0.7895\n",
            "Epoch: 165, Train Acc: 0.9400, Test Acc: 0.8158\n",
            "Epoch: 166, Train Acc: 0.9467, Test Acc: 0.8158\n",
            "Epoch: 167, Train Acc: 0.9467, Test Acc: 0.8158\n",
            "Epoch: 168, Train Acc: 0.9400, Test Acc: 0.8158\n",
            "Epoch: 169, Train Acc: 0.9400, Test Acc: 0.8158\n",
            "Epoch: 170, Train Acc: 0.9467, Test Acc: 0.8158\n",
            "Epoch: 171, Train Acc: 0.9400, Test Acc: 0.8158\n",
            "Epoch: 172, Train Acc: 0.9333, Test Acc: 0.8158\n",
            "Epoch: 173, Train Acc: 0.9467, Test Acc: 0.8158\n",
            "Epoch: 174, Train Acc: 0.9467, Test Acc: 0.8158\n",
            "Epoch: 175, Train Acc: 0.9400, Test Acc: 0.8158\n",
            "Epoch: 176, Train Acc: 0.9400, Test Acc: 0.8158\n",
            "Epoch: 177, Train Acc: 0.9400, Test Acc: 0.8158\n",
            "Epoch: 178, Train Acc: 0.9400, Test Acc: 0.8158\n",
            "Epoch: 179, Train Acc: 0.9467, Test Acc: 0.8158\n",
            "Epoch: 180, Train Acc: 0.9400, Test Acc: 0.8158\n",
            "Epoch: 181, Train Acc: 0.9333, Test Acc: 0.8158\n",
            "Epoch: 182, Train Acc: 0.9333, Test Acc: 0.8158\n",
            "Epoch: 183, Train Acc: 0.9333, Test Acc: 0.8158\n",
            "Epoch: 184, Train Acc: 0.9333, Test Acc: 0.8158\n",
            "Epoch: 185, Train Acc: 0.9400, Test Acc: 0.8158\n",
            "Epoch: 186, Train Acc: 0.9400, Test Acc: 0.8158\n",
            "Epoch: 187, Train Acc: 0.9400, Test Acc: 0.8158\n",
            "Epoch: 188, Train Acc: 0.9333, Test Acc: 0.8158\n",
            "Epoch: 189, Train Acc: 0.7533, Test Acc: 0.5526\n",
            "Epoch: 190, Train Acc: 0.8333, Test Acc: 0.7368\n",
            "Epoch: 191, Train Acc: 0.9133, Test Acc: 0.7632\n",
            "Epoch: 192, Train Acc: 0.9200, Test Acc: 0.8421\n",
            "Epoch: 193, Train Acc: 0.9267, Test Acc: 0.8421\n",
            "Epoch: 194, Train Acc: 0.9133, Test Acc: 0.7632\n",
            "Epoch: 195, Train Acc: 0.9000, Test Acc: 0.7368\n",
            "Epoch: 196, Train Acc: 0.9000, Test Acc: 0.7368\n",
            "Epoch: 197, Train Acc: 0.9467, Test Acc: 0.7895\n",
            "Epoch: 198, Train Acc: 0.9133, Test Acc: 0.8421\n",
            "Epoch: 199, Train Acc: 0.9400, Test Acc: 0.7895\n"
          ]
        }
      ]
    },
    {
      "cell_type": "markdown",
      "source": [
        "### Visualize accuracies"
      ],
      "metadata": {
        "id": "U_1UgnjGFWz8"
      }
    },
    {
      "cell_type": "code",
      "source": [
        "import pandas as pd"
      ],
      "metadata": {
        "id": "GHzUEmP4ExLY"
      },
      "execution_count": 11,
      "outputs": []
    },
    {
      "cell_type": "code",
      "source": [
        "pd.concat((pd.Series(train_accs).rename('train_acc'),\n",
        "           pd.Series(test_accs).rename('test_acc')),\n",
        "          axis = 1)\\\n",
        ".plot(grid = True, xlim = (0, NUM_EPOCHS))"
      ],
      "metadata": {
        "id": "jh_WdEwIE2DZ",
        "outputId": "a749f532-2f88-4868-be16-4e9f36696913",
        "colab": {
          "base_uri": "https://localhost:8080/",
          "height": 283
        }
      },
      "execution_count": 12,
      "outputs": [
        {
          "output_type": "execute_result",
          "data": {
            "text/plain": [
              "<matplotlib.axes._subplots.AxesSubplot at 0x7fac70797bb0>"
            ]
          },
          "metadata": {},
          "execution_count": 12
        },
        {
          "output_type": "display_data",
          "data": {
            "text/plain": [
              "<Figure size 432x288 with 1 Axes>"
            ],
            "image/png": "[encoded data removed]"
          },
          "metadata": {
            "needs_background": "light"
          }
        }
      ]
    }
  ]
}