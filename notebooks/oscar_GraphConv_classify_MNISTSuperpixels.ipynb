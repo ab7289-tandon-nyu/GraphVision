{
  "nbformat": 4,
  "nbformat_minor": 0,
  "metadata": {
    "colab": {
      "provenance": [],
      "toc_visible": true,
      "include_colab_link": true
    },
    "kernelspec": {
      "name": "python3",
      "display_name": "Python 3"
    },
    "accelerator": "GPU",
    "gpuClass": "standard"
  },
  "cells": [
    {
      "cell_type": "markdown",
      "metadata": {
        "id": "view-in-github",
        "colab_type": "text"
      },
      "source": [
        "<a href=\"https://colab.research.google.com/github/ab7289-tandon-nyu/GraphVision/blob/oscar1/notebooks/oscar_GraphConv_classify_MNISTSuperpixels.ipynb\" target=\"_parent\"><img src=\"https://colab.research.google.com/assets/colab-badge.svg\" alt=\"Open In Colab\"/></a>"
      ]
    },
    {
      "cell_type": "markdown",
      "source": [
        "Main source:\n",
        "\n",
        "PyG <br>\n",
        "-> Colab Notebooks And Video Tutorial <br>\n",
        "-> PyG: 9 Colab notebooks <br>\n",
        "-> **3. Graph Classification with Graph Neural Networks** <br> (https://colab.research.google.com/drive/1I8a0DfQ3fI7Njc62__mVXUlcAleUclnb?usp=sharing)"
      ],
      "metadata": {
        "id": "V9g41l3TAkob"
      }
    },
    {
      "cell_type": "markdown",
      "source": [
        "## Install and Import"
      ],
      "metadata": {
        "id": "pgQOP66FBBjq"
      }
    },
    {
      "cell_type": "code",
      "source": [
        "import os\n",
        "import torch\n",
        "\n",
        "os.environ['TORCH'] = torch.__version__\n",
        "print(torch.__version__)"
      ],
      "metadata": {
        "colab": {
          "base_uri": "https://localhost:8080/"
        },
        "id": "Rdcq2-sXBD6w",
        "outputId": "97e14dc4-8dac-4fcb-af56-a53da1c8ee69"
      },
      "execution_count": 1,
      "outputs": [
        {
          "output_type": "stream",
          "name": "stdout",
          "text": [
            "1.13.0+cu116\n"
          ]
        }
      ]
    },
    {
      "cell_type": "code",
      "source": [
        "!pip install -q torch-scatter -f https://data.pyg.org/whl/torch-${TORCH}.html\n",
        "!pip install -q torch-sparse -f https://data.pyg.org/whl/torch-${TORCH}.html\n",
        "!pip install -q git+https://github.com/pyg-team/pytorch_geometric.git"
      ],
      "metadata": {
        "colab": {
          "base_uri": "https://localhost:8080/"
        },
        "id": "lKmvmffmBFHo",
        "outputId": "3635abec-ea56-494a-dedb-522a6f3f06ca"
      },
      "execution_count": 2,
      "outputs": [
        {
          "output_type": "stream",
          "name": "stdout",
          "text": [
            "\u001b[K     |████████████████████████████████| 9.4 MB 47.1 MB/s \n",
            "\u001b[K     |████████████████████████████████| 4.6 MB 27.4 MB/s \n",
            "\u001b[K     |████████████████████████████████| 280 kB 33.7 MB/s \n",
            "\u001b[?25h  Building wheel for torch-geometric (setup.py) ... \u001b[?25l\u001b[?25hdone\n"
          ]
        }
      ]
    },
    {
      "cell_type": "markdown",
      "metadata": {
        "id": "_5FBQ9gXpL-W"
      },
      "source": [
        "## Data"
      ]
    },
    {
      "cell_type": "markdown",
      "source": [
        "### Download dataset"
      ],
      "metadata": {
        "id": "zyKRtLMABo1l"
      }
    },
    {
      "cell_type": "code",
      "source": [
        "from torch_geometric.datasets import MNISTSuperpixels\n",
        "\n",
        "dataset = MNISTSuperpixels(root='data/MNISTSuperpixels')"
      ],
      "metadata": {
        "colab": {
          "base_uri": "https://localhost:8080/"
        },
        "id": "DWz12pr1BZnK",
        "outputId": "dbda79de-19ba-467c-a3ca-ef39e6092d93"
      },
      "execution_count": 4,
      "outputs": [
        {
          "output_type": "stream",
          "name": "stderr",
          "text": [
            "Downloading https://data.pyg.org/datasets/MNISTSuperpixels.zip\n",
            "Extracting data/MNISTSuperpixels/raw/MNISTSuperpixels.zip\n",
            "Processing...\n",
            "Done!\n"
          ]
        }
      ]
    },
    {
      "cell_type": "code",
      "metadata": {
        "id": "mHSP6-RBOqCE",
        "colab": {
          "base_uri": "https://localhost:8080/"
        },
        "outputId": "00d31681-662e-490f-c371-ba14cc4bf3bb"
      },
      "source": [
        "print(f'Dataset: {dataset}:')\n",
        "print('====================')\n",
        "print(f'Number of graphs  : {len(dataset)}')\n",
        "print(f'Number of features: {dataset.num_features}')\n",
        "print(f'Number of classes : {dataset.num_classes}')"
      ],
      "execution_count": 5,
      "outputs": [
        {
          "output_type": "stream",
          "name": "stdout",
          "text": [
            "Dataset: MNISTSuperpixels(60000):\n",
            "====================\n",
            "Number of graphs  : 60000\n",
            "Number of features: 1\n",
            "Number of classes : 10\n"
          ]
        }
      ]
    },
    {
      "cell_type": "markdown",
      "metadata": {
        "id": "2DgLTbTcrbQO"
      },
      "source": [
        "### Split dataset into TRAIN vs TEST"
      ]
    },
    {
      "cell_type": "code",
      "metadata": {
        "id": "j11WiUr-PRH_",
        "colab": {
          "base_uri": "https://localhost:8080/"
        },
        "outputId": "0438c300-0b3d-487a-e492-3c7801289ca0"
      },
      "source": [
        "torch.manual_seed(12345)\n",
        "\n",
        "dataset = dataset.shuffle()\n",
        "\n",
        "train_dataset = dataset[     :50000]\n",
        "test_dataset  = dataset[50000:]\n",
        "\n",
        "print(f'Number of TRAIN graphs: {len(train_dataset)}')\n",
        "print(f'Number of TEST  graphs: {len(test_dataset)}')"
      ],
      "execution_count": 6,
      "outputs": [
        {
          "output_type": "stream",
          "name": "stdout",
          "text": [
            "Number of TRAIN graphs: 50000\n",
            "Number of TEST  graphs: 10000\n"
          ]
        }
      ]
    },
    {
      "cell_type": "markdown",
      "metadata": {
        "id": "qeORu4Zrs8Zy"
      },
      "source": [
        "### Mini-batch the graphs"
      ]
    },
    {
      "cell_type": "code",
      "metadata": {
        "id": "0gZ-l0npPIca"
      },
      "source": [
        "BATCH_SIZE = 200\n",
        "\n",
        "from torch_geometric.loader import DataLoader\n",
        "\n",
        "train_loader = DataLoader(train_dataset, batch_size=BATCH_SIZE, shuffle=True )\n",
        "test_loader  = DataLoader(test_dataset,  batch_size=BATCH_SIZE, shuffle=False)"
      ],
      "execution_count": 7,
      "outputs": []
    },
    {
      "cell_type": "code",
      "source": [
        "# for step, data in enumerate(train_loader):\n",
        "#     print(f'Step {step + 1}:')\n",
        "#     print('=======')\n",
        "#     print(f'Number of graphs in the current batch: {data.num_graphs}')\n",
        "#     print(data)\n",
        "#     print()"
      ],
      "metadata": {
        "id": "gXevNxpYCaEx"
      },
      "execution_count": 8,
      "outputs": []
    },
    {
      "cell_type": "markdown",
      "metadata": {
        "id": "0pq-VyzUwPpw"
      },
      "source": [
        "## Model"
      ]
    },
    {
      "cell_type": "code",
      "metadata": {
        "id": "CN3sRVuaQ88l",
        "colab": {
          "base_uri": "https://localhost:8080/"
        },
        "outputId": "15c85b5b-e385-4b0b-8ba6-f5da4d280e5b"
      },
      "source": [
        "import torch.nn.functional as F\n",
        "\n",
        "from torch_geometric.nn import GraphConv\n",
        "from torch_geometric.nn import global_mean_pool\n",
        "from torch.nn           import Linear\n",
        "\n",
        "# precondition: the \"dataset\" object already exists\n",
        "class GCN(torch.nn.Module):\n",
        "    def __init__(self, hidden_channels):\n",
        "        super(GCN, self).__init__()\n",
        "        torch.manual_seed(12345)\n",
        "\n",
        "        self.conv1 = GraphConv(dataset.num_node_features, hidden_channels)\n",
        "        self.conv2 = GraphConv(hidden_channels,           hidden_channels)\n",
        "        self.conv3 = GraphConv(hidden_channels,           hidden_channels)\n",
        "        self.lin   = Linear(   hidden_channels,           dataset.num_classes)\n",
        "\n",
        "    def forward(self, x, edge_index, batch):\n",
        "        # 1` node embeddings \n",
        "        x = self.conv1(x, edge_index)\n",
        "        x = x.relu()\n",
        "        x = self.conv2(x, edge_index)\n",
        "        x = x.relu()\n",
        "        x = self.conv3(x, edge_index)\n",
        "\n",
        "        # 2` graph embedding: the Readout layer\n",
        "        x = global_mean_pool(x, batch)  # [batch_size, hidden_channels]\n",
        "\n",
        "        # 3` a final classifier\n",
        "        x = F.dropout(x, p=0.5, training=self.training)\n",
        "        x = self.lin(x)\n",
        "        \n",
        "        return x\n",
        "\n",
        "model = GCN(hidden_channels=64)\n",
        "print(model)"
      ],
      "execution_count": 9,
      "outputs": [
        {
          "output_type": "stream",
          "name": "stdout",
          "text": [
            "GCN(\n",
            "  (conv1): GraphConv(1, 64)\n",
            "  (conv2): GraphConv(64, 64)\n",
            "  (conv3): GraphConv(64, 64)\n",
            "  (lin): Linear(in_features=64, out_features=10, bias=True)\n",
            ")\n"
          ]
        }
      ]
    },
    {
      "cell_type": "markdown",
      "metadata": {
        "id": "V2Q37tbHyQ6A"
      },
      "source": [
        "## Train, test"
      ]
    },
    {
      "cell_type": "markdown",
      "source": [
        "### Train, test"
      ],
      "metadata": {
        "id": "lOb-vifkFZpe"
      }
    },
    {
      "cell_type": "code",
      "metadata": {
        "id": "HvhgQoO8Svw4",
        "colab": {
          "base_uri": "https://localhost:8080/",
          "height": 300
        },
        "outputId": "8f14153b-df05-41f9-93c7-f388ccdf8245"
      },
      "source": [
        "from IPython.display import Javascript\n",
        "display(Javascript('''google.colab.output.setIframeHeight(0, true, {maxHeight: 300})'''))\n",
        "\n",
        "model     = GCN(hidden_channels=64)\n",
        "optimizer = torch.optim.Adam(model.parameters(), lr=0.01)\n",
        "criterion = torch.nn.CrossEntropyLoss()\n",
        "\n",
        "def train(): # (returns nothing)\n",
        "    model.train()\n",
        "\n",
        "    for data in train_loader:  # Iterate in batches over the training dataset.\n",
        "         out  = model(data.x, data.edge_index, data.batch)  # Perform a single forward pass.\n",
        "         loss = criterion(out, data.y)  # Compute the loss.\n",
        "         loss.backward()  # Derive gradients.\n",
        "         optimizer.step()  # Update parameters based on gradients.\n",
        "         optimizer.zero_grad()  # Clear gradients.\n",
        "\n",
        "def test(loader):\n",
        "     model.eval()\n",
        "\n",
        "     correct = 0\n",
        "     for data in loader:  # Iterate in batches over the training/test dataset.\n",
        "         out = model(data.x, data.edge_index, data.batch)  \n",
        "         pred = out.argmax(dim=1)  # Use the class with highest probability.\n",
        "         correct += int((pred == data.y).sum())  # Check against ground-truth labels.\n",
        "     return correct / len(loader.dataset)  # Derive ratio of correct predictions.\n",
        "\n",
        "# 2022.12/7(3)_p04.00: 35 min / 20 epochs = 1.75 min / epoch\n",
        "NUM_EPOCHS = 20\n",
        "train_accs = {}\n",
        "test_accs  = {}\n",
        "for epoch in range(1, NUM_EPOCHS):\n",
        "    train()\n",
        "    train_acc = test(train_loader)\n",
        "    test_acc = test(test_loader)\n",
        "    train_accs[epoch] = train_acc\n",
        "    test_accs[epoch]  = test_acc\n",
        "    print(f'Epoch: {epoch:03d}, Train Acc: {train_acc:.4f}, Test Acc: {test_acc:.4f}')"
      ],
      "execution_count": 10,
      "outputs": [
        {
          "output_type": "display_data",
          "data": {
            "text/plain": [
              "<IPython.core.display.Javascript object>"
            ],
            "application/javascript": [
              "google.colab.output.setIframeHeight(0, true, {maxHeight: 300})"
            ]
          },
          "metadata": {}
        },
        {
          "output_type": "stream",
          "name": "stdout",
          "text": [
            "Epoch: 001, Train Acc: 0.2414, Test Acc: 0.2366\n",
            "Epoch: 002, Train Acc: 0.2669, Test Acc: 0.2639\n",
            "Epoch: 003, Train Acc: 0.2697, Test Acc: 0.2656\n",
            "Epoch: 004, Train Acc: 0.2690, Test Acc: 0.2707\n",
            "Epoch: 005, Train Acc: 0.2683, Test Acc: 0.2671\n",
            "Epoch: 006, Train Acc: 0.2823, Test Acc: 0.2820\n",
            "Epoch: 007, Train Acc: 0.2793, Test Acc: 0.2793\n",
            "Epoch: 008, Train Acc: 0.2839, Test Acc: 0.2827\n",
            "Epoch: 009, Train Acc: 0.3034, Test Acc: 0.3040\n",
            "Epoch: 010, Train Acc: 0.3016, Test Acc: 0.3021\n",
            "Epoch: 011, Train Acc: 0.2947, Test Acc: 0.2980\n",
            "Epoch: 012, Train Acc: 0.3026, Test Acc: 0.3033\n",
            "Epoch: 013, Train Acc: 0.3135, Test Acc: 0.3156\n",
            "Epoch: 014, Train Acc: 0.3478, Test Acc: 0.3426\n",
            "Epoch: 015, Train Acc: 0.3920, Test Acc: 0.3901\n",
            "Epoch: 016, Train Acc: 0.4050, Test Acc: 0.4049\n",
            "Epoch: 017, Train Acc: 0.4018, Test Acc: 0.4021\n",
            "Epoch: 018, Train Acc: 0.3874, Test Acc: 0.3923\n",
            "Epoch: 019, Train Acc: 0.3836, Test Acc: 0.3840\n"
          ]
        }
      ]
    },
    {
      "cell_type": "markdown",
      "source": [
        "### Visualize accuracies"
      ],
      "metadata": {
        "id": "U_1UgnjGFWz8"
      }
    },
    {
      "cell_type": "code",
      "source": [
        "import pandas as pd"
      ],
      "metadata": {
        "id": "GHzUEmP4ExLY"
      },
      "execution_count": 11,
      "outputs": []
    },
    {
      "cell_type": "code",
      "source": [
        "pd.concat((pd.Series(train_accs).rename('train_acc'),\n",
        "           pd.Series(test_accs).rename('test_acc')),\n",
        "          axis = 1)\\\n",
        ".plot(grid = True, xlim = (0, NUM_EPOCHS))"
      ],
      "metadata": {
        "id": "jh_WdEwIE2DZ",
        "outputId": "28182df3-7f8c-44ff-d9f5-30c9768ca940",
        "colab": {
          "base_uri": "https://localhost:8080/",
          "height": 283
        }
      },
      "execution_count": 12,
      "outputs": [
        {
          "output_type": "execute_result",
          "data": {
            "text/plain": [
              "<matplotlib.axes._subplots.AxesSubplot at 0x7f53d6bc8760>"
            ]
          },
          "metadata": {},
          "execution_count": 12
        },
        {
          "output_type": "display_data",
          "data": {
            "text/plain": [
              "<Figure size 432x288 with 1 Axes>"
            ],
            "image/png": "[encoded data removed]"
          },
          "metadata": {
            "needs_background": "light"
          }
        }
      ]
    }
  ]
}