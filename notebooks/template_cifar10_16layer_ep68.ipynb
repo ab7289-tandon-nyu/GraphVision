{
  "cells": [
    {
      "cell_type": "code",
      "execution_count": 1,
      "metadata": {
        "colab": {
          "base_uri": "https://localhost:8080/"
        },
        "id": "HQeBbCYZlhKn",
        "outputId": "c6cbe9da-409a-4805-b1b0-ab7c56167c56"
      },
      "outputs": [
        {
          "output_type": "stream",
          "name": "stdout",
          "text": [
            "1.13.0+cu116\n"
          ]
        }
      ],
      "source": [
        "# Install required packages.\n",
        "import os\n",
        "import torch\n",
        "os.environ['TORCH'] = torch.__version__\n",
        "print(torch.__version__)\n",
        "\n",
        "!pip install -q torch-scatter -f https://data.pyg.org/whl/torch-${TORCH}.html\n",
        "!pip install -q torch-sparse -f https://data.pyg.org/whl/torch-${TORCH}.html\n",
        "!pip install -q torch-cluster -f https://data.pyg.org/whl/torch-${TORCH}.html\n",
        "!pip install -q git+https://github.com/pyg-team/pytorch_geometric.git"
      ]
    },
    {
      "cell_type": "code",
      "execution_count": 2,
      "metadata": {
        "colab": {
          "base_uri": "https://localhost:8080/"
        },
        "id": "NUnIVvd-lxxZ",
        "outputId": "66844767-49c3-487f-a15f-286ea4b27bfc"
      },
      "outputs": [
        {
          "output_type": "stream",
          "name": "stdout",
          "text": [
            "  Installing build dependencies ... \u001b[?25l\u001b[?25hdone\n",
            "  Getting requirements to build wheel ... \u001b[?25l\u001b[?25hdone\n",
            "    Preparing wheel metadata ... \u001b[?25l\u001b[?25hdone\n"
          ]
        }
      ],
      "source": [
        "# Install our repo\n",
        "# !git clone -b models \"https://github.com/ab7289-tandon-nyu/GraphVision.git\"\n",
        "# !cp -r /content/GraphVision/src/ .\n",
        "\n",
        "!pip install -q git+https://github.com/ab7289-tandon-nyu/GraphVision.git"
      ]
    },
    {
      "cell_type": "code",
      "execution_count": 3,
      "metadata": {
        "id": "4hY3Lomuoya8"
      },
      "outputs": [],
      "source": [
        "SEED = 1234\n",
        "\n",
        "torch.manual_seed(SEED)\n",
        "torch.cuda.manual_seed(SEED)\n",
        "torch.backends.cudnn.deterministic = True"
      ]
    },
    {
      "cell_type": "code",
      "execution_count": 4,
      "metadata": {
        "id": "LxCBs1jTriNW"
      },
      "outputs": [],
      "source": [
        "# from google.colab import drive\n",
        "# drive.mount(\"/content/drive\")"
      ]
    },
    {
      "cell_type": "code",
      "execution_count": 5,
      "metadata": {
        "id": "Wuj1_P_3m0-l"
      },
      "outputs": [],
      "source": [
        "from src.transforms import get_transforms\n",
        "from src.datasets import get_datasets, get_dataloaders\n",
        "\n",
        "transforms = get_transforms(\"cartesian\")\n",
        "train_dataset, valid_dataset, test_dataset = get_datasets(\".data/\", \n",
        "                        \"CIFAR10\", pre_transforms = None,\n",
        "                        transforms = transforms)\n",
        "BATCH_SIZE = 128\n",
        "\n",
        "train_loader, valid_loader, test_loader = get_dataloaders(train_dataset,\n",
        "                                                          valid_dataset,\n",
        "                                                          test_dataset,\n",
        "                                                          batch_size=(BATCH_SIZE, 1, 1),\n",
        "                                                          drop_last = False)"
      ]
    },
    {
      "cell_type": "markdown",
      "metadata": {
        "id": "Sjmgy7RvoJN-"
      },
      "source": [
        "## Review batch attributes"
      ]
    },
    {
      "cell_type": "code",
      "execution_count": 6,
      "metadata": {
        "colab": {
          "base_uri": "https://localhost:8080/"
        },
        "id": "-QCa0O4IoM6U",
        "outputId": "c495a3f7-350b-4d09-9eef-61d51efd4c39"
      },
      "outputs": [
        {
          "output_type": "stream",
          "name": "stdout",
          "text": [
            "\n",
            "DataBatch(x=[14981, 3], edge_index=[2, 134829], edge_attr=[134829, 2], y=[128], pos=[14981, 2], edge_weight=[134829], batch=[14981], ptr=[129])\n",
            "=====================================================================\n",
            "Number of features:  3\n",
            "Number of node features: 3\n",
            "Number of nodes: 14981\n",
            "Number of edges: 134829\n",
            "Average node degree: 9.00\n",
            "Has isolated nodes: False\n",
            "Has self-loops: True\n"
          ]
        }
      ],
      "source": [
        "sample_batch = next(iter(train_loader))\n",
        "\n",
        "print()\n",
        "print(sample_batch)\n",
        "print(\"=====================================================================\")\n",
        "\n",
        "# Gather some statistics about the first graph.\n",
        "print(f\"Number of features:  {sample_batch.num_features}\")\n",
        "print(f\"Number of node features: {sample_batch.num_node_features}\")\n",
        "print(f'Number of nodes: {sample_batch.num_nodes}')\n",
        "print(f'Number of edges: {sample_batch.num_edges}')\n",
        "print(f'Average node degree: {sample_batch.num_edges / sample_batch.num_nodes:.2f}')\n",
        "print(f'Has isolated nodes: {sample_batch.has_isolated_nodes()}')\n",
        "print(f'Has self-loops: {sample_batch.has_self_loops()}')"
      ]
    },
    {
      "cell_type": "code",
      "execution_count": 7,
      "metadata": {
        "colab": {
          "base_uri": "https://localhost:8080/"
        },
        "id": "tu3VtmrWpnZx",
        "outputId": "8067ff33-aa7e-4307-8df0-c11e7bc2f1f8"
      },
      "outputs": [
        {
          "output_type": "stream",
          "name": "stdout",
          "text": [
            "Number of features: 3\n",
            "Number of classes: 10\n",
            "Edge Attr Dimension: 2\n"
          ]
        }
      ],
      "source": [
        "# store edge dimension\n",
        "edge_dim = sample_batch.edge_attr.size(-1)\n",
        "edge_dim\n",
        "# store number of features in graph batch\n",
        "input_features = test_dataset.num_features\n",
        "# store number of classes for classification\n",
        "num_classes = test_dataset.num_classes\n",
        "\n",
        "print(f\"Number of features: {input_features}\")\n",
        "print(f\"Number of classes: {num_classes}\")\n",
        "print(f\"Edge Attr Dimension: {edge_dim}\")"
      ]
    },
    {
      "cell_type": "code",
      "execution_count": 10,
      "metadata": {
        "colab": {
          "base_uri": "https://localhost:8080/"
        },
        "id": "rqiZaFw2ps9r",
        "outputId": "3fff3d03-191d-4c53-d7ce-7918762daa0d"
      },
      "outputs": [
        {
          "output_type": "stream",
          "name": "stdout",
          "text": [
            "Creating new Model\n"
          ]
        }
      ],
      "source": [
        "from pathlib import Path\n",
        "\n",
        "save_loc = \"\" # was \"/content/drive/MyDrive/saved_models/\" # put save location here\n",
        "model_name = \"GENConv_clus-false_BN_RELU_layer16_h128_new.pt\"\n",
        "\n",
        "file_path = save_loc + model_name\n",
        "path = Path(file_path)\n",
        "state_dict = None\n",
        "if path.exists() and path.is_file():\n",
        "  print(\"Found Save!\")\n",
        "  state_dict = torch.load(path)\n",
        "else:\n",
        "  print(\"Creating new Model\")"
      ]
    },
    {
      "cell_type": "markdown",
      "metadata": {
        "id": "gGiE28k32eUr"
      },
      "source": [
        "## Create our Model"
      ]
    },
    {
      "cell_type": "code",
      "execution_count": 11,
      "metadata": {
        "id": "epF5kpJcqWJw"
      },
      "outputs": [],
      "source": [
        "from src.models import DeeperGCN\n",
        "from src.engine import evaluate\n",
        "\n",
        "hidden_features = 128\n",
        "\n",
        "device = torch.device(\"cuda\" if torch.cuda.is_available() else \"cpu\")\n",
        "model = DeeperGCN(\n",
        "    input_features,\n",
        "    num_classes,\n",
        "    hidden_features,\n",
        "    conv_type = \"GEN\",\n",
        "    act = \"relu\",\n",
        "    norm = \"batch\",\n",
        "    num_layers = 16,\n",
        "    use_cluster_pooling = False,\n",
        "    readout = \"mean\",\n",
        "    dropout = 0.25,\n",
        "    edge_dim = edge_dim\n",
        ").to(device)\n",
        "criterion = torch.nn.CrossEntropyLoss().to(device)\n",
        "prev_loss = None\n",
        "if state_dict is not None:\n",
        "  print(\"Loading previously saved state dictionary\")\n",
        "  model.load_state_dict(state_dict)\n",
        "  prev_loss, _ = evaluate(model.to(device), test_loader, criterion, device)\n",
        "optimizer = torch.optim.Adam(model.parameters(), lr=0.01)"
      ]
    },
    {
      "cell_type": "code",
      "execution_count": 12,
      "metadata": {
        "colab": {
          "base_uri": "https://localhost:8080/"
        },
        "id": "fsm1MwvSr0nU",
        "outputId": "9ff397b6-2cd5-430b-e58f-7891f13ec16b"
      },
      "outputs": [
        {
          "output_type": "stream",
          "name": "stdout",
          "text": [
            "There are 1,066,778 trainable parameters.\n",
            "\n",
            "DeeperGCN(\n",
            "  (fc_in): Linear(in_features=3, out_features=128, bias=True)\n",
            "  (fc_out): Linear(in_features=128, out_features=10, bias=True)\n",
            "  (out_act): ReLU(inplace=True)\n",
            "  (layers): ModuleList(\n",
            "    (0): DeepGCNLayer(block=res+)\n",
            "    (1): DeepGCNLayer(block=res+)\n",
            "    (2): DeepGCNLayer(block=res+)\n",
            "    (3): DeepGCNLayer(block=res+)\n",
            "    (4): DeepGCNLayer(block=res+)\n",
            "    (5): DeepGCNLayer(block=res+)\n",
            "    (6): DeepGCNLayer(block=res+)\n",
            "    (7): DeepGCNLayer(block=res+)\n",
            "    (8): DeepGCNLayer(block=res+)\n",
            "    (9): DeepGCNLayer(block=res+)\n",
            "    (10): DeepGCNLayer(block=res+)\n",
            "    (11): DeepGCNLayer(block=res+)\n",
            "    (12): DeepGCNLayer(block=res+)\n",
            "    (13): DeepGCNLayer(block=res+)\n",
            "    (14): DeepGCNLayer(block=res+)\n",
            "    (15): DeepGCNLayer(block=res+)\n",
            "  )\n",
            ")\n"
          ]
        }
      ],
      "source": [
        "params = sum([p.numel() for p in model.parameters() if p.requires_grad])\n",
        "print(f\"There are {params:,} trainable parameters.\")\n",
        "print()\n",
        "print(model)"
      ]
    },
    {
      "cell_type": "markdown",
      "source": [
        "```\n",
        "There are 1,066,778 trainable parameters.\n",
        "\n",
        "DeeperGCN(\n",
        "  (fc_in): Linear(in_features=3, out_features=128, bias=True)\n",
        "  (fc_out): Linear(in_features=128, out_features=10, bias=True)\n",
        "  (out_act): ReLU(inplace=True)\n",
        "  (layers): ModuleList(\n",
        "    (0): DeepGCNLayer(block=res+)\n",
        "    (1): DeepGCNLayer(block=res+)\n",
        "    (2): DeepGCNLayer(block=res+)\n",
        "    (3): DeepGCNLayer(block=res+)\n",
        "    (4): DeepGCNLayer(block=res+)\n",
        "    (5): DeepGCNLayer(block=res+)\n",
        "    (6): DeepGCNLayer(block=res+)\n",
        "    (7): DeepGCNLayer(block=res+)\n",
        "    (8): DeepGCNLayer(block=res+)\n",
        "    (9): DeepGCNLayer(block=res+)\n",
        "    (10): DeepGCNLayer(block=res+)\n",
        "    (11): DeepGCNLayer(block=res+)\n",
        "    (12): DeepGCNLayer(block=res+)\n",
        "    (13): DeepGCNLayer(block=res+)\n",
        "    (14): DeepGCNLayer(block=res+)\n",
        "    (15): DeepGCNLayer(block=res+)\n",
        "  )\n",
        ")\n",
        "```"
      ],
      "metadata": {
        "id": "iE3JwcroghwE"
      }
    },
    {
      "cell_type": "markdown",
      "metadata": {
        "id": "uuoamYXu2hf-"
      },
      "source": [
        "## Train"
      ]
    },
    {
      "cell_type": "code",
      "execution_count": null,
      "metadata": {
        "colab": {
          "base_uri": "https://localhost:8080/"
        },
        "id": "8pyJ2olIr9pi",
        "outputId": "0a558b67-a978-4c78-80da-621fc84d3125"
      },
      "outputs": [
        {
          "output_type": "stream",
          "name": "stdout",
          "text": [
            "\n",
            "Epoch: 1\n",
            "\n",
            "Train Loss: 2.191, Train Accuracy: 0.18\n",
            "Validation Loss: 2.047, Validation Accuracy: 0.21\n",
            "\n",
            "Epoch: 2\n",
            "\n",
            "Train Loss: 2.009, Train Accuracy: 0.23\n",
            "Validation Loss: 2.276, Validation Accuracy: 0.20\n",
            "\n",
            "Epoch: 3\n",
            "\n",
            "Train Loss: 1.891, Train Accuracy: 0.28\n",
            "Validation Loss: 2.359, Validation Accuracy: 0.18\n",
            "\n",
            "Epoch: 4\n",
            "\n",
            "Train Loss: 1.805, Train Accuracy: 0.32\n",
            "Validation Loss: 2.555, Validation Accuracy: 0.20\n",
            "\n",
            "Epoch: 5\n",
            "\n",
            "Train Loss: 1.707, Train Accuracy: 0.36\n",
            "Validation Loss: 2.490, Validation Accuracy: 0.22\n",
            "\n",
            "Epoch: 6\n",
            "\n",
            "Train Loss: 1.642, Train Accuracy: 0.39\n",
            "Validation Loss: 2.338, Validation Accuracy: 0.22\n",
            "\n",
            "Epoch: 7\n",
            "\n",
            "Train Loss: 1.598, Train Accuracy: 0.41\n",
            "Validation Loss: 2.190, Validation Accuracy: 0.26\n",
            "\n",
            "Epoch: 8\n",
            "\n",
            "Train Loss: 1.609, Train Accuracy: 0.41\n",
            "Validation Loss: 2.599, Validation Accuracy: 0.20\n",
            "\n",
            "Epoch: 9\n",
            "\n",
            "Train Loss: 1.543, Train Accuracy: 0.43\n",
            "Validation Loss: 2.378, Validation Accuracy: 0.25\n",
            "\n",
            "Epoch: 10\n",
            "\n",
            "Train Loss: 1.520, Train Accuracy: 0.44\n",
            "Validation Loss: 2.524, Validation Accuracy: 0.27\n",
            "\n",
            "Epoch: 11\n",
            "\n",
            "Train Loss: 1.556, Train Accuracy: 0.43\n",
            "Validation Loss: 2.055, Validation Accuracy: 0.28\n",
            "\n",
            "Epoch: 12\n",
            "\n",
            "Train Loss: 1.594, Train Accuracy: 0.42\n",
            "Validation Loss: 1.988, Validation Accuracy: 0.30\n",
            "\n",
            "Epoch: 13\n",
            "\n",
            "Train Loss: 1.543, Train Accuracy: 0.43\n",
            "Validation Loss: 1.902, Validation Accuracy: 0.33\n",
            "\n",
            "Epoch: 14\n",
            "\n",
            "Train Loss: 1.503, Train Accuracy: 0.45\n",
            "Validation Loss: 1.973, Validation Accuracy: 0.32\n",
            "\n",
            "Epoch: 15\n",
            "\n",
            "Train Loss: 1.476, Train Accuracy: 0.46\n",
            "Validation Loss: 2.158, Validation Accuracy: 0.28\n",
            "\n",
            "Epoch: 16\n",
            "\n",
            "Train Loss: 1.462, Train Accuracy: 0.47\n",
            "Validation Loss: 1.979, Validation Accuracy: 0.34\n",
            "\n",
            "Epoch: 17\n",
            "\n",
            "Train Loss: 1.445, Train Accuracy: 0.48\n",
            "Validation Loss: 1.848, Validation Accuracy: 0.34\n",
            "\n",
            "Epoch: 18\n",
            "\n",
            "Train Loss: 1.436, Train Accuracy: 0.48\n",
            "Validation Loss: 2.041, Validation Accuracy: 0.31\n",
            "\n",
            "Epoch: 19\n",
            "\n",
            "Train Loss: 1.468, Train Accuracy: 0.47\n",
            "Validation Loss: 2.331, Validation Accuracy: 0.22\n",
            "\n",
            "Epoch: 20\n",
            "\n",
            "Train Loss: 1.581, Train Accuracy: 0.42\n",
            "Validation Loss: 1.948, Validation Accuracy: 0.34\n",
            "\n",
            "Epoch: 21\n",
            "\n",
            "Train Loss: 1.472, Train Accuracy: 0.46\n",
            "Validation Loss: 2.029, Validation Accuracy: 0.33\n",
            "\n",
            "Epoch: 22\n",
            "\n",
            "Train Loss: 1.447, Train Accuracy: 0.47\n",
            "Validation Loss: 1.886, Validation Accuracy: 0.35\n",
            "\n",
            "Epoch: 23\n",
            "\n",
            "Train Loss: 1.458, Train Accuracy: 0.47\n",
            "Validation Loss: 1.962, Validation Accuracy: 0.32\n",
            "\n",
            "Epoch: 24\n",
            "\n",
            "Train Loss: 1.498, Train Accuracy: 0.45\n",
            "Validation Loss: 1.756, Validation Accuracy: 0.38\n",
            "\n",
            "Epoch: 25\n",
            "\n",
            "Train Loss: 1.436, Train Accuracy: 0.48\n",
            "Validation Loss: 1.820, Validation Accuracy: 0.36\n",
            "\n",
            "Epoch: 26\n",
            "\n",
            "Train Loss: 1.428, Train Accuracy: 0.48\n",
            "Validation Loss: 2.120, Validation Accuracy: 0.32\n",
            "\n",
            "Epoch: 27\n",
            "\n",
            "Train Loss: 1.395, Train Accuracy: 0.49\n",
            "Validation Loss: 2.126, Validation Accuracy: 0.32\n",
            "\n",
            "Epoch: 28\n",
            "\n",
            "Train Loss: 1.389, Train Accuracy: 0.50\n",
            "Validation Loss: 2.242, Validation Accuracy: 0.30\n",
            "\n",
            "Epoch: 29\n",
            "\n",
            "Train Loss: 1.512, Train Accuracy: 0.45\n",
            "Validation Loss: 2.109, Validation Accuracy: 0.26\n",
            "\n",
            "Epoch: 30\n",
            "\n",
            "Train Loss: 1.615, Train Accuracy: 0.41\n",
            "Validation Loss: 3.116, Validation Accuracy: 0.18\n",
            "\n",
            "Epoch: 31\n",
            "\n",
            "Train Loss: 1.516, Train Accuracy: 0.44\n",
            "Validation Loss: 2.914, Validation Accuracy: 0.25\n",
            "\n",
            "Epoch: 32\n",
            "\n",
            "Train Loss: 1.432, Train Accuracy: 0.48\n",
            "Validation Loss: 2.246, Validation Accuracy: 0.36\n",
            "\n",
            "Epoch: 33\n",
            "\n",
            "Train Loss: 1.392, Train Accuracy: 0.49\n",
            "Validation Loss: 2.110, Validation Accuracy: 0.33\n",
            "\n",
            "Epoch: 34\n",
            "\n",
            "Train Loss: 1.370, Train Accuracy: 0.50\n",
            "Validation Loss: 1.800, Validation Accuracy: 0.37\n",
            "\n",
            "Epoch: 35\n",
            "\n",
            "Train Loss: 1.351, Train Accuracy: 0.51\n",
            "Validation Loss: 2.022, Validation Accuracy: 0.36\n",
            "\n",
            "Epoch: 36\n",
            "\n",
            "Train Loss: 1.346, Train Accuracy: 0.51\n",
            "Validation Loss: 2.066, Validation Accuracy: 0.36\n",
            "\n",
            "Epoch: 37\n",
            "\n",
            "Train Loss: 1.331, Train Accuracy: 0.52\n",
            "Validation Loss: 2.054, Validation Accuracy: 0.34\n",
            "\n",
            "Epoch: 38\n",
            "\n",
            "Train Loss: 1.336, Train Accuracy: 0.52\n",
            "Validation Loss: 1.822, Validation Accuracy: 0.36\n",
            "\n",
            "Epoch: 39\n",
            "\n",
            "Train Loss: 1.322, Train Accuracy: 0.52\n",
            "Validation Loss: 2.394, Validation Accuracy: 0.29\n",
            "\n",
            "Epoch: 40\n",
            "\n",
            "Train Loss: 1.319, Train Accuracy: 0.52\n",
            "Validation Loss: 1.837, Validation Accuracy: 0.36\n",
            "\n",
            "Epoch: 41\n",
            "\n",
            "Train Loss: 1.307, Train Accuracy: 0.53\n",
            "Validation Loss: 1.967, Validation Accuracy: 0.34\n",
            "\n",
            "Epoch: 42\n",
            "\n",
            "Train Loss: 1.303, Train Accuracy: 0.53\n",
            "Validation Loss: 1.800, Validation Accuracy: 0.39\n",
            "\n",
            "Epoch: 43\n",
            "\n",
            "Train Loss: 1.301, Train Accuracy: 0.53\n",
            "Validation Loss: 1.819, Validation Accuracy: 0.40\n",
            "\n",
            "Epoch: 44\n",
            "\n",
            "Train Loss: 1.296, Train Accuracy: 0.53\n",
            "Validation Loss: 1.759, Validation Accuracy: 0.39\n",
            "\n",
            "Epoch: 45\n",
            "\n",
            "Train Loss: 1.291, Train Accuracy: 0.53\n",
            "Validation Loss: 1.978, Validation Accuracy: 0.37\n",
            "\n",
            "Epoch: 46\n",
            "\n",
            "Train Loss: 1.287, Train Accuracy: 0.54\n",
            "Validation Loss: 1.703, Validation Accuracy: 0.39\n",
            "\n",
            "Epoch: 47\n",
            "\n",
            "Train Loss: 1.282, Train Accuracy: 0.54\n",
            "Validation Loss: 1.862, Validation Accuracy: 0.38\n",
            "\n",
            "Epoch: 48\n",
            "\n",
            "Train Loss: 1.274, Train Accuracy: 0.54\n",
            "Validation Loss: 1.905, Validation Accuracy: 0.35\n",
            "\n",
            "Epoch: 49\n",
            "\n",
            "Train Loss: 1.267, Train Accuracy: 0.54\n",
            "Validation Loss: 1.797, Validation Accuracy: 0.39\n",
            "\n",
            "Epoch: 50\n",
            "\n",
            "Train Loss: 1.265, Train Accuracy: 0.54\n",
            "Validation Loss: 1.825, Validation Accuracy: 0.41\n",
            "\n",
            "Epoch: 51\n",
            "\n",
            "Train Loss: 1.257, Train Accuracy: 0.55\n",
            "Validation Loss: 1.727, Validation Accuracy: 0.41\n",
            "\n",
            "Epoch: 52\n",
            "\n",
            "Train Loss: 1.255, Train Accuracy: 0.55\n",
            "Validation Loss: 1.685, Validation Accuracy: 0.43\n",
            "\n",
            "Epoch: 53\n",
            "\n",
            "Train Loss: 1.253, Train Accuracy: 0.55\n",
            "Validation Loss: 1.571, Validation Accuracy: 0.45\n",
            "\n",
            "Epoch: 54\n",
            "\n",
            "Train Loss: 1.242, Train Accuracy: 0.55\n",
            "Validation Loss: 1.828, Validation Accuracy: 0.36\n",
            "\n",
            "Epoch: 55\n",
            "\n",
            "Train Loss: 1.237, Train Accuracy: 0.56\n",
            "Validation Loss: 1.715, Validation Accuracy: 0.41\n",
            "\n",
            "Epoch: 56\n",
            "\n",
            "Train Loss: 1.236, Train Accuracy: 0.56\n",
            "Validation Loss: 1.752, Validation Accuracy: 0.41\n",
            "\n",
            "Epoch: 57\n",
            "\n",
            "Train Loss: 1.233, Train Accuracy: 0.56\n",
            "Validation Loss: 1.625, Validation Accuracy: 0.44\n",
            "\n",
            "Epoch: 58\n",
            "\n",
            "Train Loss: 1.228, Train Accuracy: 0.56\n",
            "Validation Loss: 1.777, Validation Accuracy: 0.40\n",
            "\n",
            "Epoch: 59\n",
            "\n",
            "Train Loss: 1.230, Train Accuracy: 0.56\n",
            "Validation Loss: 1.719, Validation Accuracy: 0.43\n",
            "\n",
            "Epoch: 60\n",
            "\n",
            "Train Loss: 1.217, Train Accuracy: 0.57\n",
            "Validation Loss: 1.569, Validation Accuracy: 0.46\n",
            "\n",
            "Epoch: 61\n",
            "\n",
            "Train Loss: 1.219, Train Accuracy: 0.56\n",
            "Validation Loss: 1.958, Validation Accuracy: 0.39\n",
            "\n",
            "Epoch: 62\n",
            "\n",
            "Train Loss: 1.208, Train Accuracy: 0.57\n",
            "Validation Loss: 1.604, Validation Accuracy: 0.44\n",
            "\n",
            "Epoch: 63\n",
            "\n",
            "Train Loss: 1.210, Train Accuracy: 0.57\n",
            "Validation Loss: 1.714, Validation Accuracy: 0.41\n",
            "\n",
            "Epoch: 64\n",
            "\n",
            "Train Loss: 1.211, Train Accuracy: 0.57\n",
            "Validation Loss: 1.495, Validation Accuracy: 0.47\n",
            "\n",
            "Epoch: 65\n",
            "\n",
            "Train Loss: 1.210, Train Accuracy: 0.57\n",
            "Validation Loss: 1.820, Validation Accuracy: 0.40\n",
            "\n",
            "Epoch: 66\n",
            "\n",
            "Train Loss: 1.200, Train Accuracy: 0.57\n",
            "Validation Loss: 1.804, Validation Accuracy: 0.42\n",
            "\n",
            "Epoch: 67\n",
            "\n",
            "Train Loss: 1.197, Train Accuracy: 0.57\n",
            "Validation Loss: 1.702, Validation Accuracy: 0.41\n",
            "\n",
            "Epoch: 68\n",
            "\n",
            "Train Loss: 1.197, Train Accuracy: 0.57\n"
          ]
        }
      ],
      "source": [
        "from src.engine import train\n",
        "from src.utils import calculate_accuracy\n",
        "\n",
        "EPOCHS = 100 # was 78\n",
        "train_loss = []\n",
        "train_acc = []\n",
        "valid_loss = []\n",
        "valid_acc = []\n",
        "best_loss = float('inf')\n",
        "if prev_loss is not None:\n",
        "  print(f\"Training from previous best loss: {prev_loss}\")\n",
        "  best_loss = prev_loss\n",
        "  \n",
        "for epoch in range(1, EPOCHS + 1):\n",
        "  print(f\"\\nEpoch: {epoch}\\n\")\n",
        "  loss, acc = train(model, train_loader, criterion, optimizer, device)\n",
        "  train_loss.append(loss)\n",
        "  train_acc.append(acc)\n",
        "  print(f\"Train Loss: {train_loss[-1]:.3f}, Train Accuracy: {train_acc[-1]:.2f}\")\n",
        "\n",
        "  loss, acc = evaluate(model, valid_loader, criterion, device)\n",
        "  valid_loss.append(loss)\n",
        "  valid_acc.append(acc)\n",
        "  print(f\"Validation Loss: {valid_loss[-1]:.3f}, Validation Accuracy: {valid_acc[-1]:.2f}\")\n",
        "\n",
        "  if loss < best_loss:\n",
        "    best_loss = loss\n",
        "    torch.save(model.state_dict(), path)"
      ]
    },
    {
      "cell_type": "markdown",
      "metadata": {
        "id": "GIu5vZ3d2jNJ"
      },
      "source": [
        "## Evaluate on the Test set"
      ]
    },
    {
      "cell_type": "code",
      "execution_count": null,
      "metadata": {
        "id": "q5oWJj8g11MF"
      },
      "outputs": [],
      "source": [
        "# load best model\n",
        "model.load_state_dict(torch.load(path))\n",
        "test_loss, test_acc = evaluate(model.to(device), test_loader, criterion, device)\n",
        "print(f\"Test Loss: {test_loss:.3f}\")\n",
        "print(f\"Test Accuracy: {test_acc:.2f}%\")"
      ]
    },
    {
      "cell_type": "markdown",
      "metadata": {
        "id": "qvOfsB752las"
      },
      "source": [
        "## Plot Loss and Accuracy Curves"
      ]
    },
    {
      "cell_type": "code",
      "execution_count": null,
      "metadata": {
        "id": "gk6I1WkDvWmE"
      },
      "outputs": [],
      "source": [
        "import matplotlib.pyplot as plt\n",
        "\n",
        "x = [i for i in range(len(valid_loss))]\n",
        "\n",
        "plt.plot(x, train_loss, label=\"Train Loss\")\n",
        "plt.plot(x, valid_loss, label=\"Validation Loss\")\n",
        "plt.legend()\n",
        "plt.show()"
      ]
    },
    {
      "cell_type": "code",
      "execution_count": null,
      "metadata": {
        "id": "A-xP3uX63aT8"
      },
      "outputs": [],
      "source": [
        "plt.plot(x, train_acc, label=\"Train Accuracy\")\n",
        "plt.plot(x, valid_acc, label=\"Validation Accuracy\")\n",
        "plt.legend()\n",
        "plt.show()"
      ]
    },
    {
      "cell_type": "code",
      "execution_count": null,
      "metadata": {
        "id": "D_FdIR923n9N"
      },
      "outputs": [],
      "source": [
        "# reaching epoch 68 at 9h13m"
      ]
    }
  ],
  "metadata": {
    "accelerator": "GPU",
    "colab": {
      "provenance": []
    },
    "gpuClass": "standard",
    "kernelspec": {
      "display_name": "pyg",
      "language": "python",
      "name": "python3"
    },
    "language_info": {
      "codemirror_mode": {
        "name": "ipython",
        "version": 3
      },
      "file_extension": ".py",
      "mimetype": "text/x-python",
      "name": "python",
      "nbconvert_exporter": "python",
      "pygments_lexer": "ipython3",
      "version": "3.9.15"
    },
    "vscode": {
      "interpreter": {
        "hash": "602fd2f1343589d3bd6f27fae416162c1bba08e244faa27258d2511dac84d913"
      }
    }
  },
  "nbformat": 4,
  "nbformat_minor": 0
}