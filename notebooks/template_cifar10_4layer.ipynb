{
  "cells": [
    {
      "cell_type": "code",
      "execution_count": 1,
      "metadata": {
        "colab": {
          "base_uri": "https://localhost:8080/"
        },
        "id": "HQeBbCYZlhKn",
        "outputId": "296b7b6f-0be3-4962-a4ea-55c63d6b7645"
      },
      "outputs": [
        {
          "output_type": "stream",
          "name": "stdout",
          "text": [
            "1.13.0+cu116\n",
            "\u001b[K     |████████████████████████████████| 9.4 MB 6.9 MB/s \n",
            "\u001b[K     |████████████████████████████████| 4.6 MB 5.0 MB/s \n",
            "\u001b[K     |████████████████████████████████| 3.2 MB 5.4 MB/s \n",
            "\u001b[K     |████████████████████████████████| 512 kB 14.8 MB/s \n",
            "\u001b[K     |████████████████████████████████| 280 kB 75.2 MB/s \n",
            "\u001b[?25h  Building wheel for torch-geometric (setup.py) ... \u001b[?25l\u001b[?25hdone\n"
          ]
        }
      ],
      "source": [
        "# Install required packages.\n",
        "import os\n",
        "import torch\n",
        "os.environ['TORCH'] = torch.__version__\n",
        "print(torch.__version__)\n",
        "\n",
        "!pip install -q torch-scatter -f https://data.pyg.org/whl/torch-${TORCH}.html\n",
        "!pip install -q torch-sparse -f https://data.pyg.org/whl/torch-${TORCH}.html\n",
        "!pip install -q torch-cluster -f https://data.pyg.org/whl/torch-${TORCH}.html\n",
        "!pip install -q git+https://github.com/pyg-team/pytorch_geometric.git"
      ]
    },
    {
      "cell_type": "code",
      "execution_count": 2,
      "metadata": {
        "colab": {
          "base_uri": "https://localhost:8080/"
        },
        "id": "NUnIVvd-lxxZ",
        "outputId": "4c31624c-133f-48f0-e4f2-3359d8bd99c0"
      },
      "outputs": [
        {
          "output_type": "stream",
          "name": "stdout",
          "text": [
            "  Installing build dependencies ... \u001b[?25l\u001b[?25hdone\n",
            "  Getting requirements to build wheel ... \u001b[?25l\u001b[?25hdone\n",
            "    Preparing wheel metadata ... \u001b[?25l\u001b[?25hdone\n",
            "\u001b[K     |████████████████████████████████| 121 kB 7.6 MB/s \n",
            "\u001b[K     |████████████████████████████████| 1.6 MB 18.0 MB/s \n",
            "\u001b[K     |████████████████████████████████| 83 kB 1.7 MB/s \n",
            "\u001b[?25h  Building wheel for GraphVision (PEP 517) ... \u001b[?25l\u001b[?25hdone\n"
          ]
        }
      ],
      "source": [
        "# Install our repo\n",
        "# !git clone -b models \"https://github.com/ab7289-tandon-nyu/GraphVision.git\"\n",
        "# !cp -r /content/GraphVision/src/ .\n",
        "\n",
        "!pip install -q git+https://github.com/ab7289-tandon-nyu/GraphVision.git"
      ]
    },
    {
      "cell_type": "code",
      "execution_count": 3,
      "metadata": {
        "id": "4hY3Lomuoya8"
      },
      "outputs": [],
      "source": [
        "SEED = 1234\n",
        "\n",
        "torch.manual_seed(SEED)\n",
        "torch.cuda.manual_seed(SEED)\n",
        "torch.backends.cudnn.deterministic = True"
      ]
    },
    {
      "cell_type": "code",
      "source": [
        "from google.colab import drive\n",
        "drive.mount(\"/content/drive\")"
      ],
      "metadata": {
        "colab": {
          "base_uri": "https://localhost:8080/"
        },
        "id": "GrNK5dZdtsGl",
        "outputId": "0c5cecf1-5a9c-4c97-d0ed-889b5db3cb3f"
      },
      "execution_count": 4,
      "outputs": [
        {
          "output_type": "stream",
          "name": "stdout",
          "text": [
            "Mounted at /content/drive\n"
          ]
        }
      ]
    },
    {
      "cell_type": "code",
      "execution_count": 5,
      "metadata": {
        "colab": {
          "base_uri": "https://localhost:8080/"
        },
        "id": "Wuj1_P_3m0-l",
        "outputId": "a752d677-18a5-4ad1-a843-cfc2997d2d0f"
      },
      "outputs": [
        {
          "output_type": "stream",
          "name": "stderr",
          "text": [
            "Downloading https://data.pyg.org/datasets/benchmarking-gnns/CIFAR10_v2.zip\n",
            "Extracting .data/CIFAR10/raw/CIFAR10_v2.zip\n",
            "Processing...\n",
            "Done!\n"
          ]
        }
      ],
      "source": [
        "from src.transforms import get_transforms\n",
        "from src.datasets import get_datasets, get_dataloaders\n",
        "\n",
        "transforms = get_transforms(\"cartesian\")\n",
        "train_dataset, valid_dataset, test_dataset = get_datasets(\".data/\", \n",
        "                        \"CIFAR10\", pre_transforms = None,\n",
        "                        transforms = transforms)\n",
        "BATCH_SIZE = 128\n",
        "\n",
        "train_loader, valid_loader, test_loader = get_dataloaders(train_dataset,\n",
        "                                                          valid_dataset,\n",
        "                                                          test_dataset,\n",
        "                                                          batch_size=(BATCH_SIZE, 1, 1),\n",
        "                                                          drop_last = False)"
      ]
    },
    {
      "cell_type": "markdown",
      "metadata": {
        "id": "Sjmgy7RvoJN-"
      },
      "source": [
        "## Review batch attributes"
      ]
    },
    {
      "cell_type": "code",
      "execution_count": 6,
      "metadata": {
        "colab": {
          "base_uri": "https://localhost:8080/"
        },
        "id": "-QCa0O4IoM6U",
        "outputId": "8bd772cd-6675-4e1b-a4f8-f8a0aaa9f99b"
      },
      "outputs": [
        {
          "output_type": "stream",
          "name": "stdout",
          "text": [
            "\n",
            "DataBatch(x=[14981, 3], edge_index=[2, 134829], edge_attr=[134829, 2], y=[128], pos=[14981, 2], edge_weight=[134829], batch=[14981], ptr=[129])\n",
            "=====================================================================\n",
            "Number of features:  3\n",
            "Number of node features: 3\n",
            "Number of nodes: 14981\n",
            "Number of edges: 134829\n",
            "Average node degree: 9.00\n",
            "Has isolated nodes: False\n",
            "Has self-loops: True\n"
          ]
        }
      ],
      "source": [
        "sample_batch = next(iter(train_loader))\n",
        "\n",
        "print()\n",
        "print(sample_batch)\n",
        "print(\"=====================================================================\")\n",
        "\n",
        "# Gather some statistics about the first graph.\n",
        "print(f\"Number of features:  {sample_batch.num_features}\")\n",
        "print(f\"Number of node features: {sample_batch.num_node_features}\")\n",
        "print(f'Number of nodes: {sample_batch.num_nodes}')\n",
        "print(f'Number of edges: {sample_batch.num_edges}')\n",
        "print(f'Average node degree: {sample_batch.num_edges / sample_batch.num_nodes:.2f}')\n",
        "print(f'Has isolated nodes: {sample_batch.has_isolated_nodes()}')\n",
        "print(f'Has self-loops: {sample_batch.has_self_loops()}')"
      ]
    },
    {
      "cell_type": "code",
      "execution_count": 7,
      "metadata": {
        "colab": {
          "base_uri": "https://localhost:8080/"
        },
        "id": "tu3VtmrWpnZx",
        "outputId": "d6259c58-4313-4efe-8d5c-830cf8ed8176"
      },
      "outputs": [
        {
          "output_type": "stream",
          "name": "stdout",
          "text": [
            "Number of features: 3\n",
            "Number of classes: 10\n",
            "Edge Attr Dimension: 2\n"
          ]
        }
      ],
      "source": [
        "# store edge dimension\n",
        "edge_dim = sample_batch.edge_attr.size(-1)\n",
        "edge_dim\n",
        "# store number of features in graph batch\n",
        "input_features = test_dataset.num_features\n",
        "# store number of classes for classification\n",
        "num_classes = test_dataset.num_classes\n",
        "\n",
        "print(f\"Number of features: {input_features}\")\n",
        "print(f\"Number of classes: {num_classes}\")\n",
        "print(f\"Edge Attr Dimension: {edge_dim}\")"
      ]
    },
    {
      "cell_type": "code",
      "execution_count": 8,
      "metadata": {
        "colab": {
          "base_uri": "https://localhost:8080/"
        },
        "id": "rqiZaFw2ps9r",
        "outputId": "4a9da837-868b-4a88-f339-b082ffce5f73"
      },
      "outputs": [
        {
          "output_type": "stream",
          "name": "stdout",
          "text": [
            "Found Save!\n"
          ]
        }
      ],
      "source": [
        "from pathlib import Path\n",
        "\n",
        "save_loc = \"/content/drive/MyDrive/saved_models/\" # put save location here\n",
        "model_name = \"GENConv_clus-false_BN_RELU_layer4_h128.pt\"\n",
        "\n",
        "file_path = save_loc + model_name\n",
        "path = Path(file_path)\n",
        "state_dict = None\n",
        "if path.exists() and path.is_file():\n",
        "  print(\"Found Save!\")\n",
        "  state_dict = torch.load(path)\n",
        "else:\n",
        "  print(\"Creating new Model\")"
      ]
    },
    {
      "cell_type": "markdown",
      "metadata": {
        "id": "gGiE28k32eUr"
      },
      "source": [
        "## Create our Model"
      ]
    },
    {
      "cell_type": "code",
      "execution_count": 11,
      "metadata": {
        "id": "epF5kpJcqWJw",
        "colab": {
          "base_uri": "https://localhost:8080/"
        },
        "outputId": "de1e75b7-303b-4773-db91-45e25fa5fcbf"
      },
      "outputs": [
        {
          "output_type": "stream",
          "name": "stdout",
          "text": [
            "Loading previously saved state dictionary\n"
          ]
        }
      ],
      "source": [
        "from src.models import DeeperGCN\n",
        "from src.engine import evaluate\n",
        "\n",
        "hidden_features = 128\n",
        "\n",
        "device = torch.device(\"cuda\" if torch.cuda.is_available() else \"cpu\")\n",
        "model = DeeperGCN(\n",
        "    input_features,\n",
        "    num_classes,\n",
        "    hidden_features,\n",
        "    conv_type = \"GEN\",\n",
        "    act = \"relu\",\n",
        "    norm = \"batch\",\n",
        "    num_layers = 4,\n",
        "    use_cluster_pooling = False,\n",
        "    readout = \"mean\",\n",
        "    dropout = 0.25,\n",
        "    edge_dim = edge_dim\n",
        ").to(device)\n",
        "criterion = torch.nn.CrossEntropyLoss().to(device)\n",
        "prev_loss = None\n",
        "if state_dict is not None:\n",
        "  print(\"Loading previously saved state dictionary\")\n",
        "  model.load_state_dict(state_dict)\n",
        "  prev_loss, _ = evaluate(model.to(device), test_loader, criterion, device)\n",
        "optimizer = torch.optim.Adam(model.parameters(), lr=0.01)\n"
      ]
    },
    {
      "cell_type": "code",
      "execution_count": 12,
      "metadata": {
        "colab": {
          "base_uri": "https://localhost:8080/"
        },
        "id": "fsm1MwvSr0nU",
        "outputId": "068a4c92-8cf3-4e46-a101-edcdb2f9603d"
      },
      "outputs": [
        {
          "output_type": "stream",
          "name": "stdout",
          "text": [
            "There are 268,046 trainable parameters.\n",
            "\n",
            "DeeperGCN(\n",
            "  (fc_in): Linear(in_features=3, out_features=128, bias=True)\n",
            "  (fc_out): Linear(in_features=128, out_features=10, bias=True)\n",
            "  (out_act): ReLU(inplace=True)\n",
            "  (layers): ModuleList(\n",
            "    (0): DeepGCNLayer(block=res+)\n",
            "    (1): DeepGCNLayer(block=res+)\n",
            "    (2): DeepGCNLayer(block=res+)\n",
            "    (3): DeepGCNLayer(block=res+)\n",
            "  )\n",
            ")\n"
          ]
        }
      ],
      "source": [
        "params = sum([p.numel() for p in model.parameters() if p.requires_grad])\n",
        "print(f\"There are {params:,} trainable parameters.\")\n",
        "print()\n",
        "print(model)"
      ]
    },
    {
      "cell_type": "markdown",
      "metadata": {
        "id": "uuoamYXu2hf-"
      },
      "source": [
        "## Train"
      ]
    },
    {
      "cell_type": "code",
      "execution_count": 13,
      "metadata": {
        "colab": {
          "base_uri": "https://localhost:8080/"
        },
        "id": "8pyJ2olIr9pi",
        "outputId": "2051bc42-6610-40e3-eca3-3a0ac6f16a64"
      },
      "outputs": [
        {
          "output_type": "stream",
          "name": "stdout",
          "text": [
            "Training from previous best loss: 1.6289506691028364\n",
            "\n",
            "Epoch: 1\n",
            "\n",
            "Train Loss: 1.302, Train Accuracy: 0.53\n",
            "Validation Loss: 1.973, Validation Accuracy: 0.34\n",
            "\n",
            "Epoch: 2\n",
            "\n",
            "Train Loss: 1.289, Train Accuracy: 0.54\n",
            "Validation Loss: 1.842, Validation Accuracy: 0.37\n",
            "\n",
            "Epoch: 3\n",
            "\n",
            "Train Loss: 1.280, Train Accuracy: 0.54\n",
            "Validation Loss: 1.700, Validation Accuracy: 0.41\n",
            "\n",
            "Epoch: 4\n",
            "\n",
            "Train Loss: 1.268, Train Accuracy: 0.55\n",
            "Validation Loss: 1.684, Validation Accuracy: 0.43\n",
            "\n",
            "Epoch: 5\n",
            "\n",
            "Train Loss: 1.263, Train Accuracy: 0.55\n",
            "Validation Loss: 1.930, Validation Accuracy: 0.35\n",
            "\n",
            "Epoch: 6\n",
            "\n",
            "Train Loss: 1.254, Train Accuracy: 0.55\n",
            "Validation Loss: 1.589, Validation Accuracy: 0.45\n",
            "\n",
            "Epoch: 7\n",
            "\n",
            "Train Loss: 1.251, Train Accuracy: 0.55\n",
            "Validation Loss: 1.830, Validation Accuracy: 0.37\n",
            "\n",
            "Epoch: 8\n",
            "\n",
            "Train Loss: 1.242, Train Accuracy: 0.56\n",
            "Validation Loss: 1.878, Validation Accuracy: 0.36\n",
            "\n",
            "Epoch: 9\n",
            "\n",
            "Train Loss: 1.229, Train Accuracy: 0.56\n",
            "Validation Loss: 1.655, Validation Accuracy: 0.41\n",
            "\n",
            "Epoch: 10\n",
            "\n",
            "Train Loss: 1.224, Train Accuracy: 0.56\n",
            "Validation Loss: 1.701, Validation Accuracy: 0.40\n",
            "\n",
            "Epoch: 11\n",
            "\n",
            "Train Loss: 1.219, Train Accuracy: 0.56\n",
            "Validation Loss: 1.839, Validation Accuracy: 0.40\n",
            "\n",
            "Epoch: 12\n",
            "\n",
            "Train Loss: 1.207, Train Accuracy: 0.57\n",
            "Validation Loss: 1.763, Validation Accuracy: 0.42\n",
            "\n",
            "Epoch: 13\n",
            "\n",
            "Train Loss: 1.203, Train Accuracy: 0.57\n",
            "Validation Loss: 1.606, Validation Accuracy: 0.44\n",
            "\n",
            "Epoch: 14\n",
            "\n",
            "Train Loss: 1.199, Train Accuracy: 0.57\n",
            "Validation Loss: 1.869, Validation Accuracy: 0.38\n",
            "\n",
            "Epoch: 15\n",
            "\n",
            "Train Loss: 1.195, Train Accuracy: 0.57\n",
            "Validation Loss: 1.631, Validation Accuracy: 0.43\n",
            "\n",
            "Epoch: 16\n",
            "\n",
            "Train Loss: 1.190, Train Accuracy: 0.58\n",
            "Validation Loss: 1.858, Validation Accuracy: 0.39\n",
            "\n",
            "Epoch: 17\n",
            "\n",
            "Train Loss: 1.170, Train Accuracy: 0.58\n",
            "Validation Loss: 1.581, Validation Accuracy: 0.44\n",
            "\n",
            "Epoch: 18\n",
            "\n",
            "Train Loss: 1.165, Train Accuracy: 0.58\n",
            "Validation Loss: 1.554, Validation Accuracy: 0.44\n",
            "\n",
            "Epoch: 19\n",
            "\n",
            "Train Loss: 1.176, Train Accuracy: 0.58\n",
            "Validation Loss: 1.583, Validation Accuracy: 0.46\n",
            "\n",
            "Epoch: 20\n",
            "\n",
            "Train Loss: 1.167, Train Accuracy: 0.58\n",
            "Validation Loss: 1.455, Validation Accuracy: 0.48\n",
            "\n",
            "Epoch: 21\n",
            "\n",
            "Train Loss: 1.153, Train Accuracy: 0.59\n",
            "Validation Loss: 1.612, Validation Accuracy: 0.44\n",
            "\n",
            "Epoch: 22\n",
            "\n",
            "Train Loss: 1.148, Train Accuracy: 0.59\n",
            "Validation Loss: 1.883, Validation Accuracy: 0.39\n",
            "\n",
            "Epoch: 23\n",
            "\n",
            "Train Loss: 1.147, Train Accuracy: 0.59\n",
            "Validation Loss: 1.696, Validation Accuracy: 0.45\n",
            "\n",
            "Epoch: 24\n",
            "\n",
            "Train Loss: 1.146, Train Accuracy: 0.59\n",
            "Validation Loss: 1.576, Validation Accuracy: 0.45\n",
            "\n",
            "Epoch: 25\n",
            "\n",
            "Train Loss: 1.137, Train Accuracy: 0.59\n",
            "Validation Loss: 1.535, Validation Accuracy: 0.47\n",
            "\n",
            "Epoch: 26\n",
            "\n",
            "Train Loss: 1.134, Train Accuracy: 0.60\n",
            "Validation Loss: 1.897, Validation Accuracy: 0.40\n",
            "\n",
            "Epoch: 27\n",
            "\n",
            "Train Loss: 1.122, Train Accuracy: 0.60\n",
            "Validation Loss: 1.753, Validation Accuracy: 0.43\n",
            "\n",
            "Epoch: 28\n",
            "\n",
            "Train Loss: 1.121, Train Accuracy: 0.60\n",
            "Validation Loss: 1.781, Validation Accuracy: 0.41\n",
            "\n",
            "Epoch: 29\n",
            "\n",
            "Train Loss: 1.122, Train Accuracy: 0.60\n",
            "Validation Loss: 1.503, Validation Accuracy: 0.47\n",
            "\n",
            "Epoch: 30\n",
            "\n",
            "Train Loss: 1.110, Train Accuracy: 0.60\n",
            "Validation Loss: 1.586, Validation Accuracy: 0.45\n",
            "\n",
            "Epoch: 31\n",
            "\n",
            "Train Loss: 1.110, Train Accuracy: 0.61\n",
            "Validation Loss: 1.521, Validation Accuracy: 0.47\n",
            "\n",
            "Epoch: 32\n",
            "\n",
            "Train Loss: 1.110, Train Accuracy: 0.60\n",
            "Validation Loss: 1.696, Validation Accuracy: 0.42\n",
            "\n",
            "Epoch: 33\n",
            "\n",
            "Train Loss: 1.101, Train Accuracy: 0.61\n",
            "Validation Loss: 1.518, Validation Accuracy: 0.46\n",
            "\n",
            "Epoch: 34\n",
            "\n",
            "Train Loss: 1.096, Train Accuracy: 0.61\n",
            "Validation Loss: 1.777, Validation Accuracy: 0.41\n",
            "\n",
            "Epoch: 35\n",
            "\n",
            "Train Loss: 1.087, Train Accuracy: 0.61\n",
            "Validation Loss: 1.369, Validation Accuracy: 0.51\n",
            "\n",
            "Epoch: 36\n",
            "\n",
            "Train Loss: 1.085, Train Accuracy: 0.61\n",
            "Validation Loss: 1.564, Validation Accuracy: 0.47\n",
            "\n",
            "Epoch: 37\n",
            "\n",
            "Train Loss: 1.082, Train Accuracy: 0.61\n",
            "Validation Loss: 1.689, Validation Accuracy: 0.44\n",
            "\n",
            "Epoch: 38\n",
            "\n",
            "Train Loss: 1.079, Train Accuracy: 0.62\n",
            "Validation Loss: 1.758, Validation Accuracy: 0.42\n",
            "\n",
            "Epoch: 39\n",
            "\n",
            "Train Loss: 1.079, Train Accuracy: 0.62\n",
            "Validation Loss: 1.521, Validation Accuracy: 0.47\n",
            "\n",
            "Epoch: 40\n",
            "\n",
            "Train Loss: 1.077, Train Accuracy: 0.62\n",
            "Validation Loss: 1.585, Validation Accuracy: 0.47\n",
            "\n",
            "Epoch: 41\n",
            "\n",
            "Train Loss: 1.067, Train Accuracy: 0.62\n",
            "Validation Loss: 1.597, Validation Accuracy: 0.47\n",
            "\n",
            "Epoch: 42\n",
            "\n",
            "Train Loss: 1.064, Train Accuracy: 0.62\n",
            "Validation Loss: 1.519, Validation Accuracy: 0.48\n",
            "\n",
            "Epoch: 43\n",
            "\n",
            "Train Loss: 1.062, Train Accuracy: 0.62\n",
            "Validation Loss: 1.652, Validation Accuracy: 0.45\n",
            "\n",
            "Epoch: 44\n",
            "\n",
            "Train Loss: 1.063, Train Accuracy: 0.62\n",
            "Validation Loss: 1.522, Validation Accuracy: 0.48\n",
            "\n",
            "Epoch: 45\n",
            "\n",
            "Train Loss: 1.055, Train Accuracy: 0.63\n",
            "Validation Loss: 1.408, Validation Accuracy: 0.51\n",
            "\n",
            "Epoch: 46\n",
            "\n",
            "Train Loss: 1.054, Train Accuracy: 0.63\n",
            "Validation Loss: 1.571, Validation Accuracy: 0.46\n",
            "\n",
            "Epoch: 47\n",
            "\n",
            "Train Loss: 1.053, Train Accuracy: 0.63\n",
            "Validation Loss: 1.443, Validation Accuracy: 0.51\n",
            "\n",
            "Epoch: 48\n",
            "\n",
            "Train Loss: 1.047, Train Accuracy: 0.63\n",
            "Validation Loss: 1.281, Validation Accuracy: 0.55\n",
            "\n",
            "Epoch: 49\n",
            "\n",
            "Train Loss: 1.042, Train Accuracy: 0.63\n",
            "Validation Loss: 1.653, Validation Accuracy: 0.46\n",
            "\n",
            "Epoch: 50\n",
            "\n",
            "Train Loss: 1.037, Train Accuracy: 0.63\n",
            "Validation Loss: 1.549, Validation Accuracy: 0.48\n",
            "\n",
            "Epoch: 51\n",
            "\n",
            "Train Loss: 1.037, Train Accuracy: 0.63\n",
            "Validation Loss: 1.385, Validation Accuracy: 0.51\n",
            "\n",
            "Epoch: 52\n",
            "\n",
            "Train Loss: 1.037, Train Accuracy: 0.63\n",
            "Validation Loss: 1.600, Validation Accuracy: 0.47\n",
            "\n",
            "Epoch: 53\n",
            "\n",
            "Train Loss: 1.033, Train Accuracy: 0.63\n",
            "Validation Loss: 1.505, Validation Accuracy: 0.49\n",
            "\n",
            "Epoch: 54\n",
            "\n",
            "Train Loss: 1.026, Train Accuracy: 0.64\n",
            "Validation Loss: 1.557, Validation Accuracy: 0.47\n",
            "\n",
            "Epoch: 55\n",
            "\n",
            "Train Loss: 1.025, Train Accuracy: 0.64\n",
            "Validation Loss: 1.642, Validation Accuracy: 0.46\n",
            "\n",
            "Epoch: 56\n",
            "\n",
            "Train Loss: 1.021, Train Accuracy: 0.63\n",
            "Validation Loss: 1.571, Validation Accuracy: 0.47\n",
            "\n",
            "Epoch: 57\n",
            "\n",
            "Train Loss: 1.015, Train Accuracy: 0.64\n",
            "Validation Loss: 1.711, Validation Accuracy: 0.44\n",
            "\n",
            "Epoch: 58\n",
            "\n",
            "Train Loss: 1.010, Train Accuracy: 0.64\n",
            "Validation Loss: 1.445, Validation Accuracy: 0.50\n",
            "\n",
            "Epoch: 59\n",
            "\n",
            "Train Loss: 1.017, Train Accuracy: 0.64\n",
            "Validation Loss: 1.494, Validation Accuracy: 0.49\n",
            "\n",
            "Epoch: 60\n",
            "\n",
            "Train Loss: 1.015, Train Accuracy: 0.64\n",
            "Validation Loss: 1.561, Validation Accuracy: 0.49\n",
            "\n",
            "Epoch: 61\n",
            "\n",
            "Train Loss: 1.005, Train Accuracy: 0.64\n",
            "Validation Loss: 1.413, Validation Accuracy: 0.52\n",
            "\n",
            "Epoch: 62\n",
            "\n",
            "Train Loss: 1.006, Train Accuracy: 0.64\n",
            "Validation Loss: 1.625, Validation Accuracy: 0.47\n",
            "\n",
            "Epoch: 63\n",
            "\n",
            "Train Loss: 0.998, Train Accuracy: 0.65\n",
            "Validation Loss: 1.733, Validation Accuracy: 0.44\n",
            "\n",
            "Epoch: 64\n",
            "\n",
            "Train Loss: 1.002, Train Accuracy: 0.64\n",
            "Validation Loss: 1.922, Validation Accuracy: 0.42\n",
            "\n",
            "Epoch: 65\n",
            "\n",
            "Train Loss: 0.998, Train Accuracy: 0.64\n",
            "Validation Loss: 1.503, Validation Accuracy: 0.49\n",
            "\n",
            "Epoch: 66\n",
            "\n",
            "Train Loss: 0.991, Train Accuracy: 0.65\n",
            "Validation Loss: 1.482, Validation Accuracy: 0.51\n",
            "\n",
            "Epoch: 67\n",
            "\n",
            "Train Loss: 0.993, Train Accuracy: 0.65\n",
            "Validation Loss: 1.461, Validation Accuracy: 0.50\n",
            "\n",
            "Epoch: 68\n",
            "\n",
            "Train Loss: 0.991, Train Accuracy: 0.65\n",
            "Validation Loss: 1.579, Validation Accuracy: 0.47\n",
            "\n",
            "Epoch: 69\n",
            "\n",
            "Train Loss: 0.991, Train Accuracy: 0.65\n",
            "Validation Loss: 1.535, Validation Accuracy: 0.47\n",
            "\n",
            "Epoch: 70\n",
            "\n",
            "Train Loss: 0.983, Train Accuracy: 0.65\n",
            "Validation Loss: 1.317, Validation Accuracy: 0.53\n",
            "\n",
            "Epoch: 71\n",
            "\n",
            "Train Loss: 0.986, Train Accuracy: 0.65\n",
            "Validation Loss: 1.579, Validation Accuracy: 0.47\n",
            "\n",
            "Epoch: 72\n",
            "\n",
            "Train Loss: 0.975, Train Accuracy: 0.65\n",
            "Validation Loss: 1.761, Validation Accuracy: 0.45\n",
            "\n",
            "Epoch: 73\n",
            "\n",
            "Train Loss: 0.983, Train Accuracy: 0.65\n",
            "Validation Loss: 1.791, Validation Accuracy: 0.44\n",
            "\n",
            "Epoch: 74\n",
            "\n",
            "Train Loss: 0.973, Train Accuracy: 0.65\n",
            "Validation Loss: 1.536, Validation Accuracy: 0.50\n",
            "\n",
            "Epoch: 75\n",
            "\n",
            "Train Loss: 0.971, Train Accuracy: 0.66\n",
            "Validation Loss: 1.563, Validation Accuracy: 0.48\n",
            "\n",
            "Epoch: 76\n",
            "\n",
            "Train Loss: 0.971, Train Accuracy: 0.65\n",
            "Validation Loss: 1.455, Validation Accuracy: 0.51\n",
            "\n",
            "Epoch: 77\n",
            "\n",
            "Train Loss: 0.963, Train Accuracy: 0.66\n",
            "Validation Loss: 1.638, Validation Accuracy: 0.47\n",
            "\n",
            "Epoch: 78\n",
            "\n",
            "Train Loss: 0.958, Train Accuracy: 0.66\n",
            "Validation Loss: 1.687, Validation Accuracy: 0.47\n",
            "\n",
            "Epoch: 79\n",
            "\n",
            "Train Loss: 0.962, Train Accuracy: 0.66\n",
            "Validation Loss: 1.652, Validation Accuracy: 0.48\n",
            "\n",
            "Epoch: 80\n",
            "\n",
            "Train Loss: 0.956, Train Accuracy: 0.66\n",
            "Validation Loss: 1.489, Validation Accuracy: 0.49\n",
            "\n",
            "Epoch: 81\n",
            "\n",
            "Train Loss: 0.959, Train Accuracy: 0.66\n",
            "Validation Loss: 1.593, Validation Accuracy: 0.49\n",
            "\n",
            "Epoch: 82\n",
            "\n",
            "Train Loss: 0.958, Train Accuracy: 0.66\n",
            "Validation Loss: 1.545, Validation Accuracy: 0.49\n",
            "\n",
            "Epoch: 83\n",
            "\n",
            "Train Loss: 0.955, Train Accuracy: 0.66\n",
            "Validation Loss: 1.534, Validation Accuracy: 0.48\n",
            "\n",
            "Epoch: 84\n",
            "\n",
            "Train Loss: 0.950, Train Accuracy: 0.66\n",
            "Validation Loss: 1.355, Validation Accuracy: 0.54\n",
            "\n",
            "Epoch: 85\n",
            "\n",
            "Train Loss: 0.946, Train Accuracy: 0.66\n",
            "Validation Loss: 1.600, Validation Accuracy: 0.50\n",
            "\n",
            "Epoch: 86\n",
            "\n",
            "Train Loss: 0.950, Train Accuracy: 0.66\n",
            "Validation Loss: 1.593, Validation Accuracy: 0.48\n",
            "\n",
            "Epoch: 87\n",
            "\n",
            "Train Loss: 0.946, Train Accuracy: 0.66\n",
            "Validation Loss: 1.635, Validation Accuracy: 0.48\n",
            "\n",
            "Epoch: 88\n",
            "\n",
            "Train Loss: 0.943, Train Accuracy: 0.66\n",
            "Validation Loss: 1.762, Validation Accuracy: 0.46\n",
            "\n",
            "Epoch: 89\n",
            "\n",
            "Train Loss: 0.945, Train Accuracy: 0.66\n",
            "Validation Loss: 1.585, Validation Accuracy: 0.50\n",
            "\n",
            "Epoch: 90\n",
            "\n",
            "Train Loss: 0.937, Train Accuracy: 0.67\n",
            "Validation Loss: 1.557, Validation Accuracy: 0.51\n",
            "\n",
            "Epoch: 91\n",
            "\n",
            "Train Loss: 0.932, Train Accuracy: 0.67\n",
            "Validation Loss: 1.552, Validation Accuracy: 0.50\n",
            "\n",
            "Epoch: 92\n",
            "\n",
            "Train Loss: 0.935, Train Accuracy: 0.67\n",
            "Validation Loss: 1.577, Validation Accuracy: 0.52\n",
            "\n",
            "Epoch: 93\n",
            "\n",
            "Train Loss: 0.927, Train Accuracy: 0.67\n",
            "Validation Loss: 1.470, Validation Accuracy: 0.51\n",
            "\n",
            "Epoch: 94\n",
            "\n",
            "Train Loss: 0.928, Train Accuracy: 0.67\n",
            "Validation Loss: 1.367, Validation Accuracy: 0.54\n",
            "\n",
            "Epoch: 95\n",
            "\n",
            "Train Loss: 0.930, Train Accuracy: 0.67\n",
            "Validation Loss: 1.617, Validation Accuracy: 0.47\n",
            "\n",
            "Epoch: 96\n",
            "\n",
            "Train Loss: 0.927, Train Accuracy: 0.67\n",
            "Validation Loss: 1.517, Validation Accuracy: 0.50\n",
            "\n",
            "Epoch: 97\n",
            "\n",
            "Train Loss: 0.930, Train Accuracy: 0.67\n",
            "Validation Loss: 1.658, Validation Accuracy: 0.48\n",
            "\n",
            "Epoch: 98\n",
            "\n",
            "Train Loss: 0.927, Train Accuracy: 0.67\n",
            "Validation Loss: 1.758, Validation Accuracy: 0.47\n",
            "\n",
            "Epoch: 99\n",
            "\n",
            "Train Loss: 0.924, Train Accuracy: 0.67\n",
            "Validation Loss: 1.451, Validation Accuracy: 0.52\n",
            "\n",
            "Epoch: 100\n",
            "\n",
            "Train Loss: 0.922, Train Accuracy: 0.67\n",
            "Validation Loss: 1.783, Validation Accuracy: 0.45\n"
          ]
        }
      ],
      "source": [
        "from src.engine import train\n",
        "from src.utils import calculate_accuracy\n",
        "\n",
        "EPOCHS = 100\n",
        "train_loss = []\n",
        "train_acc = []\n",
        "valid_loss = []\n",
        "valid_acc = []\n",
        "best_loss = float('inf')\n",
        "if prev_loss is not None:\n",
        "  print(f\"Training from previous best loss: {prev_loss}\")\n",
        "  best_loss = prev_loss\n",
        "\n",
        "for epoch in range(1, EPOCHS + 1):\n",
        "  print(f\"\\nEpoch: {epoch}\\n\")\n",
        "  loss, acc = train(model, train_loader, criterion, optimizer, device)\n",
        "  train_loss.append(loss)\n",
        "  train_acc.append(acc)\n",
        "  print(f\"Train Loss: {train_loss[-1]:.3f}, Train Accuracy: {train_acc[-1]:.2f}\")\n",
        "\n",
        "  loss, acc = evaluate(model, valid_loader, criterion, device)\n",
        "  valid_loss.append(loss)\n",
        "  valid_acc.append(acc)\n",
        "  print(f\"Validation Loss: {valid_loss[-1]:.3f}, Validation Accuracy: {valid_acc[-1]:.2f}\")\n",
        "\n",
        "  if loss < best_loss:\n",
        "    best_loss = loss\n",
        "    torch.save(model.state_dict(), path)"
      ]
    },
    {
      "cell_type": "markdown",
      "metadata": {
        "id": "GIu5vZ3d2jNJ"
      },
      "source": [
        "## Evaluate on the Test set"
      ]
    },
    {
      "cell_type": "code",
      "execution_count": 14,
      "metadata": {
        "id": "q5oWJj8g11MF",
        "colab": {
          "base_uri": "https://localhost:8080/"
        },
        "outputId": "672536d1-c1b3-493d-e980-e5bf92c5fdaf"
      },
      "outputs": [
        {
          "output_type": "stream",
          "name": "stdout",
          "text": [
            "Test Loss: 1.321\n",
            "Test Accuracy: 0.52%\n"
          ]
        }
      ],
      "source": [
        "# load best model\n",
        "model.load_state_dict(torch.load(path))\n",
        "test_loss, test_acc = evaluate(model.to(device), test_loader, criterion, device)\n",
        "print(f\"Test Loss: {test_loss:.3f}\")\n",
        "print(f\"Test Accuracy: {test_acc:.2f}%\")"
      ]
    },
    {
      "cell_type": "markdown",
      "metadata": {
        "id": "qvOfsB752las"
      },
      "source": [
        "## Plot Loss and Accuracy Curves"
      ]
    },
    {
      "cell_type": "code",
      "execution_count": 15,
      "metadata": {
        "id": "gk6I1WkDvWmE",
        "colab": {
          "base_uri": "https://localhost:8080/",
          "height": 265
        },
        "outputId": "885e9477-0c6d-4f68-c689-bc21fec81ec4"
      },
      "outputs": [
        {
          "output_type": "display_data",
          "data": {
            "text/plain": [
              "<Figure size 432x288 with 1 Axes>"
            ],
            "image/png": "[encoded data removed]"
          },
          "metadata": {
            "needs_background": "light"
          }
        }
      ],
      "source": [
        "import matplotlib.pyplot as plt\n",
        "\n",
        "x = [i for i in range(len(valid_loss))]\n",
        "\n",
        "plt.plot(x, train_loss, label=\"Train Loss\")\n",
        "plt.plot(x, valid_loss, label=\"Validation Loss\")\n",
        "plt.legend()\n",
        "plt.show()"
      ]
    },
    {
      "cell_type": "code",
      "execution_count": 16,
      "metadata": {
        "id": "A-xP3uX63aT8",
        "colab": {
          "base_uri": "https://localhost:8080/",
          "height": 265
        },
        "outputId": "2d9c1f3f-0043-4a85-deff-ab8b1b628c91"
      },
      "outputs": [
        {
          "output_type": "display_data",
          "data": {
            "text/plain": [
              "<Figure size 432x288 with 1 Axes>"
            ],
            "image/png": "[encoded data removed]"
          },
          "metadata": {
            "needs_background": "light"
          }
        }
      ],
      "source": [
        "plt.plot(x, train_acc, label=\"Train Accuracy\")\n",
        "plt.plot(x, valid_acc, label=\"Validation Accuracy\")\n",
        "plt.legend()\n",
        "plt.show()"
      ]
    },
    {
      "cell_type": "code",
      "execution_count": null,
      "metadata": {
        "id": "D_FdIR923n9N"
      },
      "outputs": [],
      "source": []
    }
  ],
  "metadata": {
    "accelerator": "GPU",
    "colab": {
      "provenance": []
    },
    "gpuClass": "standard",
    "kernelspec": {
      "display_name": "pyg",
      "language": "python",
      "name": "python3"
    },
    "language_info": {
      "codemirror_mode": {
        "name": "ipython",
        "version": 3
      },
      "file_extension": ".py",
      "mimetype": "text/x-python",
      "name": "python",
      "nbconvert_exporter": "python",
      "pygments_lexer": "ipython3",
      "version": "3.9.15"
    },
    "vscode": {
      "interpreter": {
        "hash": "602fd2f1343589d3bd6f27fae416162c1bba08e244faa27258d2511dac84d913"
      }
    }
  },
  "nbformat": 4,
  "nbformat_minor": 0
}