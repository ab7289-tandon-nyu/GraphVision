{
  "cells": [
    {
      "cell_type": "code",
      "execution_count": 1,
      "metadata": {
        "colab": {
          "base_uri": "https://localhost:8080/"
        },
        "id": "HQeBbCYZlhKn",
        "outputId": "da220d12-a66a-47b1-a8ad-c7866eec0149"
      },
      "outputs": [
        {
          "output_type": "stream",
          "name": "stdout",
          "text": [
            "1.13.0+cu116\n",
            "\u001b[K     |████████████████████████████████| 9.4 MB 36.1 MB/s \n",
            "\u001b[K     |████████████████████████████████| 4.6 MB 23.4 MB/s \n",
            "\u001b[K     |████████████████████████████████| 3.2 MB 23.8 MB/s \n",
            "\u001b[K     |████████████████████████████████| 512 kB 29.1 MB/s \n",
            "\u001b[K     |████████████████████████████████| 280 kB 79.0 MB/s \n",
            "\u001b[?25h  Building wheel for torch-geometric (setup.py) ... \u001b[?25l\u001b[?25hdone\n"
          ]
        }
      ],
      "source": [
        "# Install required packages.\n",
        "import os\n",
        "import torch\n",
        "os.environ['TORCH'] = torch.__version__\n",
        "print(torch.__version__)\n",
        "\n",
        "!pip install -q torch-scatter -f https://data.pyg.org/whl/torch-${TORCH}.html\n",
        "!pip install -q torch-sparse -f https://data.pyg.org/whl/torch-${TORCH}.html\n",
        "!pip install -q torch-cluster -f https://data.pyg.org/whl/torch-${TORCH}.html\n",
        "!pip install -q git+https://github.com/pyg-team/pytorch_geometric.git"
      ]
    },
    {
      "cell_type": "code",
      "execution_count": 2,
      "metadata": {
        "colab": {
          "base_uri": "https://localhost:8080/"
        },
        "id": "NUnIVvd-lxxZ",
        "outputId": "75706a17-801b-4039-f810-8e48b4d3a8aa"
      },
      "outputs": [
        {
          "output_type": "stream",
          "name": "stdout",
          "text": [
            "  Installing build dependencies ... \u001b[?25l\u001b[?25hdone\n",
            "  Getting requirements to build wheel ... \u001b[?25l\u001b[?25hdone\n",
            "    Preparing wheel metadata ... \u001b[?25l\u001b[?25hdone\n",
            "\u001b[K     |████████████████████████████████| 121 kB 12.5 MB/s \n",
            "\u001b[K     |████████████████████████████████| 1.6 MB 30.1 MB/s \n",
            "\u001b[K     |████████████████████████████████| 83 kB 2.3 MB/s \n",
            "\u001b[?25h  Building wheel for GraphVision (PEP 517) ... \u001b[?25l\u001b[?25hdone\n"
          ]
        }
      ],
      "source": [
        "# Install our repo\n",
        "# !git clone -b models \"https://github.com/ab7289-tandon-nyu/GraphVision.git\"\n",
        "# !cp -r /content/GraphVision/src/ .\n",
        "\n",
        "!pip install -q git+https://github.com/ab7289-tandon-nyu/GraphVision.git"
      ]
    },
    {
      "cell_type": "code",
      "execution_count": 3,
      "metadata": {
        "id": "4hY3Lomuoya8"
      },
      "outputs": [],
      "source": [
        "SEED = 1234\n",
        "\n",
        "torch.manual_seed(SEED)\n",
        "torch.cuda.manual_seed(SEED)\n",
        "torch.backends.cudnn.deterministic = True"
      ]
    },
    {
      "cell_type": "code",
      "execution_count": 4,
      "metadata": {
        "colab": {
          "base_uri": "https://localhost:8080/"
        },
        "id": "r3NtruMJqAa2",
        "outputId": "ea857030-377f-4061-874f-0b7d0c1dfd23"
      },
      "outputs": [
        {
          "output_type": "stream",
          "name": "stdout",
          "text": [
            "Mounted at /content/drive\n"
          ]
        }
      ],
      "source": [
        "from google.colab import drive\n",
        "drive.mount(\"/content/drive\")"
      ]
    },
    {
      "cell_type": "code",
      "execution_count": 5,
      "metadata": {
        "colab": {
          "base_uri": "https://localhost:8080/"
        },
        "id": "Wuj1_P_3m0-l",
        "outputId": "4127bac7-77be-4522-eae1-ae02d862ce7c"
      },
      "outputs": [
        {
          "output_type": "stream",
          "name": "stderr",
          "text": [
            "Downloading https://data.pyg.org/datasets/benchmarking-gnns/CIFAR10_v2.zip\n",
            "Extracting .data/CIFAR10/raw/CIFAR10_v2.zip\n",
            "Processing...\n",
            "Done!\n"
          ]
        }
      ],
      "source": [
        "from src.transforms import get_transforms\n",
        "from src.datasets import get_datasets, get_dataloaders\n",
        "\n",
        "transforms = get_transforms(\"cartesian\")\n",
        "train_dataset, valid_dataset, test_dataset = get_datasets(\".data/\", \n",
        "                        \"CIFAR10\", pre_transforms = None,\n",
        "                        transforms = transforms)\n",
        "BATCH_SIZE = 128\n",
        "\n",
        "train_loader, valid_loader, test_loader = get_dataloaders(train_dataset,\n",
        "                                                          valid_dataset,\n",
        "                                                          test_dataset,\n",
        "                                                          batch_size=(BATCH_SIZE, 1, 1),\n",
        "                                                          drop_last = False)"
      ]
    },
    {
      "cell_type": "markdown",
      "metadata": {
        "id": "Sjmgy7RvoJN-"
      },
      "source": [
        "## Review batch attributes"
      ]
    },
    {
      "cell_type": "code",
      "execution_count": 6,
      "metadata": {
        "colab": {
          "base_uri": "https://localhost:8080/"
        },
        "id": "-QCa0O4IoM6U",
        "outputId": "6e18e8c4-4437-4832-e3cd-b8e7256b6ccf"
      },
      "outputs": [
        {
          "output_type": "stream",
          "name": "stdout",
          "text": [
            "\n",
            "DataBatch(x=[14981, 3], edge_index=[2, 134829], edge_attr=[134829, 2], y=[128], pos=[14981, 2], edge_weight=[134829], batch=[14981], ptr=[129])\n",
            "=====================================================================\n",
            "Number of features:  3\n",
            "Number of node features: 3\n",
            "Number of nodes: 14981\n",
            "Number of edges: 134829\n",
            "Average node degree: 9.00\n",
            "Has isolated nodes: False\n",
            "Has self-loops: True\n"
          ]
        }
      ],
      "source": [
        "sample_batch = next(iter(train_loader))\n",
        "\n",
        "print()\n",
        "print(sample_batch)\n",
        "print(\"=====================================================================\")\n",
        "\n",
        "# Gather some statistics about the first graph.\n",
        "print(f\"Number of features:  {sample_batch.num_features}\")\n",
        "print(f\"Number of node features: {sample_batch.num_node_features}\")\n",
        "print(f'Number of nodes: {sample_batch.num_nodes}')\n",
        "print(f'Number of edges: {sample_batch.num_edges}')\n",
        "print(f'Average node degree: {sample_batch.num_edges / sample_batch.num_nodes:.2f}')\n",
        "print(f'Has isolated nodes: {sample_batch.has_isolated_nodes()}')\n",
        "print(f'Has self-loops: {sample_batch.has_self_loops()}')"
      ]
    },
    {
      "cell_type": "code",
      "execution_count": 7,
      "metadata": {
        "colab": {
          "base_uri": "https://localhost:8080/"
        },
        "id": "tu3VtmrWpnZx",
        "outputId": "cfafb8e5-ec17-4570-c12d-0a83fe54f044"
      },
      "outputs": [
        {
          "output_type": "stream",
          "name": "stdout",
          "text": [
            "Number of features: 3\n",
            "Number of classes: 10\n",
            "Edge Attr Dimension: 2\n"
          ]
        }
      ],
      "source": [
        "# store edge dimension\n",
        "edge_dim = sample_batch.edge_attr.size(-1)\n",
        "edge_dim\n",
        "# store number of features in graph batch\n",
        "input_features = test_dataset.num_features\n",
        "# store number of classes for classification\n",
        "num_classes = test_dataset.num_classes\n",
        "\n",
        "print(f\"Number of features: {input_features}\")\n",
        "print(f\"Number of classes: {num_classes}\")\n",
        "print(f\"Edge Attr Dimension: {edge_dim}\")"
      ]
    },
    {
      "cell_type": "code",
      "execution_count": 8,
      "metadata": {
        "colab": {
          "base_uri": "https://localhost:8080/"
        },
        "id": "rqiZaFw2ps9r",
        "outputId": "c858bd4b-19bb-4225-a6e5-739e330d8fe7"
      },
      "outputs": [
        {
          "output_type": "stream",
          "name": "stdout",
          "text": [
            "Creating new Model\n"
          ]
        }
      ],
      "source": [
        "from pathlib import Path\n",
        "\n",
        "save_loc = \"/content/drive/MyDrive/saved_models/\" # put save location here\n",
        "model_name = \"GENConv_clus-false_BN_RELU_layer8_h128.pt\"\n",
        "\n",
        "file_path = save_loc + model_name\n",
        "path = Path(file_path)\n",
        "state_dict = None\n",
        "if path.exists() and path.is_file():\n",
        "  print(\"Found Save!\")\n",
        "  state_dict = torch.load(path)\n",
        "else:\n",
        "  print(\"Creating new Model\")"
      ]
    },
    {
      "cell_type": "markdown",
      "metadata": {
        "id": "gGiE28k32eUr"
      },
      "source": [
        "## Create our Model"
      ]
    },
    {
      "cell_type": "code",
      "execution_count": 9,
      "metadata": {
        "id": "epF5kpJcqWJw"
      },
      "outputs": [],
      "source": [
        "from src.models import DeeperGCN\n",
        "from src.engine import evaluate\n",
        "\n",
        "hidden_features = 128\n",
        "\n",
        "device = torch.device(\"cuda\" if torch.cuda.is_available() else \"cpu\")\n",
        "model = DeeperGCN(\n",
        "    input_features,\n",
        "    num_classes,\n",
        "    hidden_features,\n",
        "    conv_type = \"GEN\",\n",
        "    act = \"relu\",\n",
        "    norm = \"batch\",\n",
        "    num_layers = 8,\n",
        "    use_cluster_pooling = False,\n",
        "    readout = \"mean\",\n",
        "    dropout = 0.25,\n",
        "    edge_dim = edge_dim\n",
        ").to(device)\n",
        "criterion = torch.nn.CrossEntropyLoss().to(device)\n",
        "prev_loss = None\n",
        "if state_dict is not None:\n",
        "  print(\"Loading previously saved state dictionary\")\n",
        "  model.load_state_dict(state_dict)\n",
        "  prev_loss, _ = evaluate(model.to(device), test_loader, criterion, device)\n",
        "optimizer = torch.optim.Adam(model.parameters(), lr=0.01)"
      ]
    },
    {
      "cell_type": "code",
      "execution_count": 10,
      "metadata": {
        "colab": {
          "base_uri": "https://localhost:8080/"
        },
        "id": "fsm1MwvSr0nU",
        "outputId": "83bc6f34-695d-47e3-95ad-5783c4bc9756"
      },
      "outputs": [
        {
          "output_type": "stream",
          "name": "stdout",
          "text": [
            "There are 534,290 trainable parameters.\n",
            "\n",
            "DeeperGCN(\n",
            "  (fc_in): Linear(in_features=3, out_features=128, bias=True)\n",
            "  (fc_out): Linear(in_features=128, out_features=10, bias=True)\n",
            "  (out_act): ReLU(inplace=True)\n",
            "  (layers): ModuleList(\n",
            "    (0): DeepGCNLayer(block=res+)\n",
            "    (1): DeepGCNLayer(block=res+)\n",
            "    (2): DeepGCNLayer(block=res+)\n",
            "    (3): DeepGCNLayer(block=res+)\n",
            "    (4): DeepGCNLayer(block=res+)\n",
            "    (5): DeepGCNLayer(block=res+)\n",
            "    (6): DeepGCNLayer(block=res+)\n",
            "    (7): DeepGCNLayer(block=res+)\n",
            "  )\n",
            ")\n"
          ]
        }
      ],
      "source": [
        "params = sum([p.numel() for p in model.parameters() if p.requires_grad])\n",
        "print(f\"There are {params:,} trainable parameters.\")\n",
        "print()\n",
        "print(model)"
      ]
    },
    {
      "cell_type": "markdown",
      "metadata": {
        "id": "uuoamYXu2hf-"
      },
      "source": [
        "## Train"
      ]
    },
    {
      "cell_type": "code",
      "execution_count": 11,
      "metadata": {
        "colab": {
          "base_uri": "https://localhost:8080/"
        },
        "id": "8pyJ2olIr9pi",
        "outputId": "88dadf51-f438-476c-e1d4-4836416ccdcb"
      },
      "outputs": [
        {
          "output_type": "stream",
          "name": "stdout",
          "text": [
            "\n",
            "Epoch: 1\n",
            "\n",
            "Train Loss: 2.067, Train Accuracy: 0.22\n",
            "Validation Loss: 2.369, Validation Accuracy: 0.17\n",
            "\n",
            "Epoch: 2\n",
            "\n",
            "Train Loss: 1.926, Train Accuracy: 0.26\n",
            "Validation Loss: 2.090, Validation Accuracy: 0.20\n",
            "\n",
            "Epoch: 3\n",
            "\n",
            "Train Loss: 1.849, Train Accuracy: 0.29\n",
            "Validation Loss: 2.411, Validation Accuracy: 0.21\n",
            "\n",
            "Epoch: 4\n",
            "\n",
            "Train Loss: 1.769, Train Accuracy: 0.33\n",
            "Validation Loss: 2.269, Validation Accuracy: 0.22\n",
            "\n",
            "Epoch: 5\n",
            "\n",
            "Train Loss: 1.711, Train Accuracy: 0.36\n",
            "Validation Loss: 2.034, Validation Accuracy: 0.27\n",
            "\n",
            "Epoch: 6\n",
            "\n",
            "Train Loss: 1.655, Train Accuracy: 0.38\n",
            "Validation Loss: 2.294, Validation Accuracy: 0.27\n",
            "\n",
            "Epoch: 7\n",
            "\n",
            "Train Loss: 1.610, Train Accuracy: 0.40\n",
            "Validation Loss: 2.030, Validation Accuracy: 0.30\n",
            "\n",
            "Epoch: 8\n",
            "\n",
            "Train Loss: 1.560, Train Accuracy: 0.43\n",
            "Validation Loss: 2.407, Validation Accuracy: 0.25\n",
            "\n",
            "Epoch: 9\n",
            "\n",
            "Train Loss: 1.533, Train Accuracy: 0.44\n",
            "Validation Loss: 2.035, Validation Accuracy: 0.31\n",
            "\n",
            "Epoch: 10\n",
            "\n",
            "Train Loss: 1.510, Train Accuracy: 0.45\n",
            "Validation Loss: 1.797, Validation Accuracy: 0.34\n",
            "\n",
            "Epoch: 11\n",
            "\n",
            "Train Loss: 1.485, Train Accuracy: 0.46\n",
            "Validation Loss: 2.173, Validation Accuracy: 0.29\n",
            "\n",
            "Epoch: 12\n",
            "\n",
            "Train Loss: 1.466, Train Accuracy: 0.47\n",
            "Validation Loss: 2.319, Validation Accuracy: 0.28\n",
            "\n",
            "Epoch: 13\n",
            "\n",
            "Train Loss: 1.444, Train Accuracy: 0.47\n",
            "Validation Loss: 2.138, Validation Accuracy: 0.33\n",
            "\n",
            "Epoch: 14\n",
            "\n",
            "Train Loss: 1.425, Train Accuracy: 0.48\n",
            "Validation Loss: 1.939, Validation Accuracy: 0.35\n",
            "\n",
            "Epoch: 15\n",
            "\n",
            "Train Loss: 1.406, Train Accuracy: 0.49\n",
            "Validation Loss: 2.351, Validation Accuracy: 0.29\n",
            "\n",
            "Epoch: 16\n",
            "\n",
            "Train Loss: 1.395, Train Accuracy: 0.50\n",
            "Validation Loss: 2.205, Validation Accuracy: 0.29\n",
            "\n",
            "Epoch: 17\n",
            "\n",
            "Train Loss: 1.374, Train Accuracy: 0.50\n",
            "Validation Loss: 1.814, Validation Accuracy: 0.37\n",
            "\n",
            "Epoch: 18\n",
            "\n",
            "Train Loss: 1.361, Train Accuracy: 0.51\n",
            "Validation Loss: 2.287, Validation Accuracy: 0.30\n",
            "\n",
            "Epoch: 19\n",
            "\n",
            "Train Loss: 1.344, Train Accuracy: 0.52\n",
            "Validation Loss: 1.736, Validation Accuracy: 0.40\n",
            "\n",
            "Epoch: 20\n",
            "\n",
            "Train Loss: 1.337, Train Accuracy: 0.52\n",
            "Validation Loss: 2.328, Validation Accuracy: 0.33\n",
            "\n",
            "Epoch: 21\n",
            "\n",
            "Train Loss: 1.322, Train Accuracy: 0.53\n",
            "Validation Loss: 1.755, Validation Accuracy: 0.39\n",
            "\n",
            "Epoch: 22\n",
            "\n",
            "Train Loss: 1.306, Train Accuracy: 0.53\n",
            "Validation Loss: 1.682, Validation Accuracy: 0.40\n",
            "\n",
            "Epoch: 23\n",
            "\n",
            "Train Loss: 1.297, Train Accuracy: 0.53\n",
            "Validation Loss: 1.900, Validation Accuracy: 0.36\n",
            "\n",
            "Epoch: 24\n",
            "\n",
            "Train Loss: 1.277, Train Accuracy: 0.54\n",
            "Validation Loss: 2.138, Validation Accuracy: 0.31\n",
            "\n",
            "Epoch: 25\n",
            "\n",
            "Train Loss: 1.273, Train Accuracy: 0.54\n",
            "Validation Loss: 1.813, Validation Accuracy: 0.37\n",
            "\n",
            "Epoch: 26\n",
            "\n",
            "Train Loss: 1.265, Train Accuracy: 0.55\n",
            "Validation Loss: 1.802, Validation Accuracy: 0.38\n",
            "\n",
            "Epoch: 27\n",
            "\n",
            "Train Loss: 1.254, Train Accuracy: 0.55\n",
            "Validation Loss: 1.474, Validation Accuracy: 0.47\n",
            "\n",
            "Epoch: 28\n",
            "\n",
            "Train Loss: 1.245, Train Accuracy: 0.56\n",
            "Validation Loss: 1.608, Validation Accuracy: 0.44\n",
            "\n",
            "Epoch: 29\n",
            "\n",
            "Train Loss: 1.232, Train Accuracy: 0.56\n",
            "Validation Loss: 1.718, Validation Accuracy: 0.39\n",
            "\n",
            "Epoch: 30\n",
            "\n",
            "Train Loss: 1.227, Train Accuracy: 0.56\n",
            "Validation Loss: 1.676, Validation Accuracy: 0.42\n",
            "\n",
            "Epoch: 31\n",
            "\n",
            "Train Loss: 1.219, Train Accuracy: 0.56\n",
            "Validation Loss: 1.539, Validation Accuracy: 0.47\n",
            "\n",
            "Epoch: 32\n",
            "\n",
            "Train Loss: 1.212, Train Accuracy: 0.57\n",
            "Validation Loss: 1.622, Validation Accuracy: 0.42\n",
            "\n",
            "Epoch: 33\n",
            "\n",
            "Train Loss: 1.201, Train Accuracy: 0.57\n",
            "Validation Loss: 1.935, Validation Accuracy: 0.37\n",
            "\n",
            "Epoch: 34\n",
            "\n",
            "Train Loss: 1.198, Train Accuracy: 0.57\n",
            "Validation Loss: 1.793, Validation Accuracy: 0.39\n",
            "\n",
            "Epoch: 35\n",
            "\n",
            "Train Loss: 1.184, Train Accuracy: 0.58\n",
            "Validation Loss: 1.695, Validation Accuracy: 0.43\n",
            "\n",
            "Epoch: 36\n",
            "\n",
            "Train Loss: 1.179, Train Accuracy: 0.58\n",
            "Validation Loss: 1.590, Validation Accuracy: 0.44\n",
            "\n",
            "Epoch: 37\n",
            "\n",
            "Train Loss: 1.171, Train Accuracy: 0.59\n",
            "Validation Loss: 1.608, Validation Accuracy: 0.43\n",
            "\n",
            "Epoch: 38\n",
            "\n",
            "Train Loss: 1.164, Train Accuracy: 0.59\n",
            "Validation Loss: 1.418, Validation Accuracy: 0.49\n",
            "\n",
            "Epoch: 39\n",
            "\n",
            "Train Loss: 1.157, Train Accuracy: 0.59\n",
            "Validation Loss: 1.381, Validation Accuracy: 0.50\n",
            "\n",
            "Epoch: 40\n",
            "\n",
            "Train Loss: 1.149, Train Accuracy: 0.59\n",
            "Validation Loss: 1.722, Validation Accuracy: 0.40\n",
            "\n",
            "Epoch: 41\n",
            "\n",
            "Train Loss: 1.146, Train Accuracy: 0.59\n",
            "Validation Loss: 1.819, Validation Accuracy: 0.41\n",
            "\n",
            "Epoch: 42\n",
            "\n",
            "Train Loss: 1.140, Train Accuracy: 0.60\n",
            "Validation Loss: 1.504, Validation Accuracy: 0.47\n",
            "\n",
            "Epoch: 43\n",
            "\n",
            "Train Loss: 1.127, Train Accuracy: 0.60\n",
            "Validation Loss: 1.472, Validation Accuracy: 0.48\n",
            "\n",
            "Epoch: 44\n",
            "\n",
            "Train Loss: 1.126, Train Accuracy: 0.60\n",
            "Validation Loss: 1.727, Validation Accuracy: 0.41\n",
            "\n",
            "Epoch: 45\n",
            "\n",
            "Train Loss: 1.123, Train Accuracy: 0.60\n",
            "Validation Loss: 1.606, Validation Accuracy: 0.45\n",
            "\n",
            "Epoch: 46\n",
            "\n",
            "Train Loss: 1.118, Train Accuracy: 0.60\n",
            "Validation Loss: 1.835, Validation Accuracy: 0.40\n",
            "\n",
            "Epoch: 47\n",
            "\n",
            "Train Loss: 1.106, Train Accuracy: 0.60\n",
            "Validation Loss: 1.383, Validation Accuracy: 0.51\n",
            "\n",
            "Epoch: 48\n",
            "\n",
            "Train Loss: 1.106, Train Accuracy: 0.61\n",
            "Validation Loss: 1.618, Validation Accuracy: 0.44\n",
            "\n",
            "Epoch: 49\n",
            "\n",
            "Train Loss: 1.097, Train Accuracy: 0.61\n",
            "Validation Loss: 1.568, Validation Accuracy: 0.45\n",
            "\n",
            "Epoch: 50\n",
            "\n",
            "Train Loss: 1.090, Train Accuracy: 0.61\n",
            "Validation Loss: 1.829, Validation Accuracy: 0.41\n",
            "\n",
            "Epoch: 51\n",
            "\n",
            "Train Loss: 1.089, Train Accuracy: 0.61\n",
            "Validation Loss: 1.473, Validation Accuracy: 0.49\n",
            "\n",
            "Epoch: 52\n",
            "\n",
            "Train Loss: 1.086, Train Accuracy: 0.61\n",
            "Validation Loss: 1.494, Validation Accuracy: 0.47\n",
            "\n",
            "Epoch: 53\n",
            "\n",
            "Train Loss: 1.081, Train Accuracy: 0.62\n",
            "Validation Loss: 1.489, Validation Accuracy: 0.49\n",
            "\n",
            "Epoch: 54\n",
            "\n",
            "Train Loss: 1.075, Train Accuracy: 0.62\n",
            "Validation Loss: 1.579, Validation Accuracy: 0.49\n",
            "\n",
            "Epoch: 55\n",
            "\n",
            "Train Loss: 1.069, Train Accuracy: 0.62\n",
            "Validation Loss: 1.475, Validation Accuracy: 0.49\n",
            "\n",
            "Epoch: 56\n",
            "\n",
            "Train Loss: 1.061, Train Accuracy: 0.62\n",
            "Validation Loss: 1.580, Validation Accuracy: 0.47\n",
            "\n",
            "Epoch: 57\n",
            "\n",
            "Train Loss: 1.058, Train Accuracy: 0.63\n",
            "Validation Loss: 1.578, Validation Accuracy: 0.47\n",
            "\n",
            "Epoch: 58\n",
            "\n",
            "Train Loss: 1.055, Train Accuracy: 0.63\n",
            "Validation Loss: 1.589, Validation Accuracy: 0.47\n",
            "\n",
            "Epoch: 59\n",
            "\n",
            "Train Loss: 1.056, Train Accuracy: 0.63\n",
            "Validation Loss: 1.419, Validation Accuracy: 0.51\n",
            "\n",
            "Epoch: 60\n",
            "\n",
            "Train Loss: 1.044, Train Accuracy: 0.63\n",
            "Validation Loss: 1.914, Validation Accuracy: 0.41\n",
            "\n",
            "Epoch: 61\n",
            "\n",
            "Train Loss: 1.045, Train Accuracy: 0.63\n",
            "Validation Loss: 1.641, Validation Accuracy: 0.47\n",
            "\n",
            "Epoch: 62\n",
            "\n",
            "Train Loss: 1.040, Train Accuracy: 0.63\n",
            "Validation Loss: 1.430, Validation Accuracy: 0.52\n",
            "\n",
            "Epoch: 63\n",
            "\n",
            "Train Loss: 1.037, Train Accuracy: 0.63\n",
            "Validation Loss: 1.539, Validation Accuracy: 0.48\n",
            "\n",
            "Epoch: 64\n",
            "\n",
            "Train Loss: 1.030, Train Accuracy: 0.63\n",
            "Validation Loss: 1.428, Validation Accuracy: 0.52\n",
            "\n",
            "Epoch: 65\n",
            "\n",
            "Train Loss: 1.035, Train Accuracy: 0.63\n",
            "Validation Loss: 1.411, Validation Accuracy: 0.51\n",
            "\n",
            "Epoch: 66\n",
            "\n",
            "Train Loss: 1.025, Train Accuracy: 0.64\n",
            "Validation Loss: 1.482, Validation Accuracy: 0.49\n",
            "\n",
            "Epoch: 67\n",
            "\n",
            "Train Loss: 1.022, Train Accuracy: 0.64\n",
            "Validation Loss: 1.647, Validation Accuracy: 0.47\n",
            "\n",
            "Epoch: 68\n",
            "\n",
            "Train Loss: 1.021, Train Accuracy: 0.64\n",
            "Validation Loss: 1.592, Validation Accuracy: 0.50\n",
            "\n",
            "Epoch: 69\n",
            "\n",
            "Train Loss: 1.012, Train Accuracy: 0.64\n",
            "Validation Loss: 1.537, Validation Accuracy: 0.48\n",
            "\n",
            "Epoch: 70\n",
            "\n",
            "Train Loss: 1.008, Train Accuracy: 0.64\n",
            "Validation Loss: 1.538, Validation Accuracy: 0.50\n",
            "\n",
            "Epoch: 71\n",
            "\n",
            "Train Loss: 1.010, Train Accuracy: 0.64\n",
            "Validation Loss: 1.545, Validation Accuracy: 0.48\n",
            "\n",
            "Epoch: 72\n",
            "\n",
            "Train Loss: 1.002, Train Accuracy: 0.64\n",
            "Validation Loss: 1.646, Validation Accuracy: 0.47\n",
            "\n",
            "Epoch: 73\n",
            "\n",
            "Train Loss: 0.996, Train Accuracy: 0.65\n",
            "Validation Loss: 1.591, Validation Accuracy: 0.51\n",
            "\n",
            "Epoch: 74\n",
            "\n",
            "Train Loss: 0.996, Train Accuracy: 0.65\n",
            "Validation Loss: 1.571, Validation Accuracy: 0.51\n",
            "\n",
            "Epoch: 75\n",
            "\n",
            "Train Loss: 0.991, Train Accuracy: 0.65\n",
            "Validation Loss: 1.582, Validation Accuracy: 0.49\n",
            "\n",
            "Epoch: 76\n",
            "\n",
            "Train Loss: 0.988, Train Accuracy: 0.65\n",
            "Validation Loss: 1.475, Validation Accuracy: 0.51\n",
            "\n",
            "Epoch: 77\n",
            "\n",
            "Train Loss: 0.985, Train Accuracy: 0.65\n",
            "Validation Loss: 1.653, Validation Accuracy: 0.51\n",
            "\n",
            "Epoch: 78\n",
            "\n",
            "Train Loss: 0.990, Train Accuracy: 0.65\n",
            "Validation Loss: 1.816, Validation Accuracy: 0.45\n",
            "\n",
            "Epoch: 79\n",
            "\n",
            "Train Loss: 0.984, Train Accuracy: 0.65\n",
            "Validation Loss: 1.468, Validation Accuracy: 0.52\n",
            "\n",
            "Epoch: 80\n",
            "\n",
            "Train Loss: 0.976, Train Accuracy: 0.65\n",
            "Validation Loss: 2.288, Validation Accuracy: 0.44\n",
            "\n",
            "Epoch: 81\n",
            "\n",
            "Train Loss: 0.972, Train Accuracy: 0.66\n",
            "Validation Loss: 1.804, Validation Accuracy: 0.47\n",
            "\n",
            "Epoch: 82\n",
            "\n",
            "Train Loss: 0.969, Train Accuracy: 0.66\n",
            "Validation Loss: 1.614, Validation Accuracy: 0.48\n",
            "\n",
            "Epoch: 83\n",
            "\n",
            "Train Loss: 0.972, Train Accuracy: 0.66\n",
            "Validation Loss: 1.538, Validation Accuracy: 0.52\n",
            "\n",
            "Epoch: 84\n",
            "\n",
            "Train Loss: 0.968, Train Accuracy: 0.66\n",
            "Validation Loss: 1.578, Validation Accuracy: 0.50\n",
            "\n",
            "Epoch: 85\n",
            "\n",
            "Train Loss: 0.963, Train Accuracy: 0.66\n",
            "Validation Loss: 1.535, Validation Accuracy: 0.52\n",
            "\n",
            "Epoch: 86\n",
            "\n",
            "Train Loss: 0.960, Train Accuracy: 0.66\n",
            "Validation Loss: 1.961, Validation Accuracy: 0.43\n",
            "\n",
            "Epoch: 87\n",
            "\n",
            "Train Loss: 0.955, Train Accuracy: 0.66\n",
            "Validation Loss: 1.808, Validation Accuracy: 0.49\n",
            "\n",
            "Epoch: 88\n",
            "\n",
            "Train Loss: 0.954, Train Accuracy: 0.66\n",
            "Validation Loss: 1.747, Validation Accuracy: 0.49\n",
            "\n",
            "Epoch: 89\n",
            "\n",
            "Train Loss: 0.946, Train Accuracy: 0.66\n",
            "Validation Loss: 1.480, Validation Accuracy: 0.51\n",
            "\n",
            "Epoch: 90\n",
            "\n",
            "Train Loss: 0.943, Train Accuracy: 0.66\n",
            "Validation Loss: 1.596, Validation Accuracy: 0.49\n",
            "\n",
            "Epoch: 91\n",
            "\n",
            "Train Loss: 0.951, Train Accuracy: 0.66\n",
            "Validation Loss: 1.332, Validation Accuracy: 0.57\n",
            "\n",
            "Epoch: 92\n",
            "\n",
            "Train Loss: 0.940, Train Accuracy: 0.67\n",
            "Validation Loss: 1.636, Validation Accuracy: 0.49\n",
            "\n",
            "Epoch: 93\n",
            "\n",
            "Train Loss: 0.934, Train Accuracy: 0.67\n",
            "Validation Loss: 1.718, Validation Accuracy: 0.51\n",
            "\n",
            "Epoch: 94\n",
            "\n",
            "Train Loss: 0.941, Train Accuracy: 0.67\n",
            "Validation Loss: 1.661, Validation Accuracy: 0.50\n",
            "\n",
            "Epoch: 95\n",
            "\n",
            "Train Loss: 0.930, Train Accuracy: 0.67\n",
            "Validation Loss: 1.430, Validation Accuracy: 0.52\n",
            "\n",
            "Epoch: 96\n",
            "\n",
            "Train Loss: 0.933, Train Accuracy: 0.67\n",
            "Validation Loss: 1.677, Validation Accuracy: 0.50\n",
            "\n",
            "Epoch: 97\n",
            "\n",
            "Train Loss: 0.927, Train Accuracy: 0.67\n",
            "Validation Loss: 1.799, Validation Accuracy: 0.46\n",
            "\n",
            "Epoch: 98\n",
            "\n",
            "Train Loss: 0.925, Train Accuracy: 0.67\n",
            "Validation Loss: 1.487, Validation Accuracy: 0.51\n",
            "\n",
            "Epoch: 99\n",
            "\n",
            "Train Loss: 0.916, Train Accuracy: 0.67\n",
            "Validation Loss: 1.746, Validation Accuracy: 0.48\n",
            "\n",
            "Epoch: 100\n",
            "\n",
            "Train Loss: 0.927, Train Accuracy: 0.67\n",
            "Validation Loss: 1.604, Validation Accuracy: 0.50\n"
          ]
        }
      ],
      "source": [
        "from src.engine import train\n",
        "from src.utils import calculate_accuracy\n",
        "\n",
        "EPOCHS = 100\n",
        "train_loss = []\n",
        "train_acc = []\n",
        "valid_loss = []\n",
        "valid_acc = []\n",
        "best_loss = float('inf')\n",
        "if prev_loss is not None:\n",
        "  print(f\"Training from previous best loss: {prev_loss}\")\n",
        "  best_loss = prev_loss\n",
        "  \n",
        "for epoch in range(1, EPOCHS + 1):\n",
        "  print(f\"\\nEpoch: {epoch}\\n\")\n",
        "  loss, acc = train(model, train_loader, criterion, optimizer, device)\n",
        "  train_loss.append(loss)\n",
        "  train_acc.append(acc)\n",
        "  print(f\"Train Loss: {train_loss[-1]:.3f}, Train Accuracy: {train_acc[-1]:.2f}\")\n",
        "\n",
        "  loss, acc = evaluate(model, valid_loader, criterion, device)\n",
        "  valid_loss.append(loss)\n",
        "  valid_acc.append(acc)\n",
        "  print(f\"Validation Loss: {valid_loss[-1]:.3f}, Validation Accuracy: {valid_acc[-1]:.2f}\")\n",
        "\n",
        "  if loss < best_loss:\n",
        "    best_loss = loss\n",
        "    torch.save(model.state_dict(), path)"
      ]
    },
    {
      "cell_type": "markdown",
      "metadata": {
        "id": "GIu5vZ3d2jNJ"
      },
      "source": [
        "## Evaluate on the Test set"
      ]
    },
    {
      "cell_type": "code",
      "execution_count": 12,
      "metadata": {
        "id": "q5oWJj8g11MF",
        "colab": {
          "base_uri": "https://localhost:8080/"
        },
        "outputId": "9eca2382-0d05-4f66-9535-b59620e70147"
      },
      "outputs": [
        {
          "output_type": "stream",
          "name": "stdout",
          "text": [
            "Test Loss: 1.341\n",
            "Test Accuracy: 0.54%\n"
          ]
        }
      ],
      "source": [
        "# load best model\n",
        "model.load_state_dict(torch.load(path))\n",
        "test_loss, test_acc = evaluate(model.to(device), test_loader, criterion, device)\n",
        "print(f\"Test Loss: {test_loss:.3f}\")\n",
        "print(f\"Test Accuracy: {test_acc:.2f}%\")"
      ]
    },
    {
      "cell_type": "markdown",
      "metadata": {
        "id": "qvOfsB752las"
      },
      "source": [
        "## Plot Loss and Accuracy Curves"
      ]
    },
    {
      "cell_type": "code",
      "execution_count": 13,
      "metadata": {
        "id": "gk6I1WkDvWmE",
        "colab": {
          "base_uri": "https://localhost:8080/",
          "height": 265
        },
        "outputId": "4f4c533a-6656-4807-8e6d-d64179aa87ca"
      },
      "outputs": [
        {
          "output_type": "display_data",
          "data": {
            "text/plain": [
              "<Figure size 432x288 with 1 Axes>"
            ],
            "image/png": "[encoded data removed]"
          },
          "metadata": {
            "needs_background": "light"
          }
        }
      ],
      "source": [
        "import matplotlib.pyplot as plt\n",
        "\n",
        "x = [i for i in range(len(valid_loss))]\n",
        "\n",
        "plt.plot(x, train_loss, label=\"Train Loss\")\n",
        "plt.plot(x, valid_loss, label=\"Validation Loss\")\n",
        "plt.legend()\n",
        "plt.show()"
      ]
    },
    {
      "cell_type": "code",
      "execution_count": 14,
      "metadata": {
        "id": "A-xP3uX63aT8",
        "colab": {
          "base_uri": "https://localhost:8080/",
          "height": 269
        },
        "outputId": "78fd2d77-a9d1-4c78-87d5-7a97d3d5b25d"
      },
      "outputs": [
        {
          "output_type": "display_data",
          "data": {
            "text/plain": [
              "<Figure size 432x288 with 1 Axes>"
            ],
            "image/png": "[encoded data removed]"
          },
          "metadata": {
            "needs_background": "light"
          }
        }
      ],
      "source": [
        "plt.plot(x, train_acc, label=\"Train Accuracy\")\n",
        "plt.plot(x, valid_acc, label=\"Validation Accuracy\")\n",
        "plt.legend()\n",
        "plt.show()"
      ]
    },
    {
      "cell_type": "code",
      "execution_count": null,
      "metadata": {
        "id": "D_FdIR923n9N"
      },
      "outputs": [],
      "source": []
    }
  ],
  "metadata": {
    "accelerator": "GPU",
    "colab": {
      "provenance": []
    },
    "gpuClass": "standard",
    "kernelspec": {
      "display_name": "pyg",
      "language": "python",
      "name": "python3"
    },
    "language_info": {
      "codemirror_mode": {
        "name": "ipython",
        "version": 3
      },
      "file_extension": ".py",
      "mimetype": "text/x-python",
      "name": "python",
      "nbconvert_exporter": "python",
      "pygments_lexer": "ipython3",
      "version": "3.9.15 (main, Nov 24 2022, 14:31:59) \n[GCC 11.2.0]"
    },
    "vscode": {
      "interpreter": {
        "hash": "602fd2f1343589d3bd6f27fae416162c1bba08e244faa27258d2511dac84d913"
      }
    }
  },
  "nbformat": 4,
  "nbformat_minor": 0
}