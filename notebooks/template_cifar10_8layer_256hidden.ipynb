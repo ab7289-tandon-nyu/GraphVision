{
  "cells": [
    {
      "cell_type": "code",
      "execution_count": 2,
      "metadata": {
        "colab": {
          "base_uri": "https://localhost:8080/"
        },
        "id": "HQeBbCYZlhKn",
        "outputId": "321e104e-3b2d-4f50-c40a-26d3a4dd2296"
      },
      "outputs": [
        {
          "output_type": "stream",
          "name": "stdout",
          "text": [
            "1.13.0+cu116\n",
            "\u001b[K     |████████████████████████████████| 9.4 MB 25.9 MB/s \n",
            "\u001b[K     |████████████████████████████████| 4.6 MB 34.5 MB/s \n",
            "\u001b[K     |████████████████████████████████| 3.2 MB 41.5 MB/s \n",
            "\u001b[K     |████████████████████████████████| 512 kB 2.0 MB/s \n",
            "\u001b[K     |████████████████████████████████| 280 kB 55.9 MB/s \n",
            "\u001b[?25h  Building wheel for torch-geometric (setup.py) ... \u001b[?25l\u001b[?25hdone\n"
          ]
        }
      ],
      "source": [
        "# Install required packages.\n",
        "import os\n",
        "import torch\n",
        "os.environ['TORCH'] = torch.__version__\n",
        "print(torch.__version__)\n",
        "\n",
        "!pip install -q torch-scatter -f https://data.pyg.org/whl/torch-${TORCH}.html\n",
        "!pip install -q torch-sparse -f https://data.pyg.org/whl/torch-${TORCH}.html\n",
        "!pip install -q torch-cluster -f https://data.pyg.org/whl/torch-${TORCH}.html\n",
        "!pip install -q git+https://github.com/pyg-team/pytorch_geometric.git"
      ]
    },
    {
      "cell_type": "code",
      "execution_count": 3,
      "metadata": {
        "colab": {
          "base_uri": "https://localhost:8080/"
        },
        "id": "NUnIVvd-lxxZ",
        "outputId": "a03460e9-8a47-4dbd-8148-09caf778be88"
      },
      "outputs": [
        {
          "output_type": "stream",
          "name": "stdout",
          "text": [
            "  Installing build dependencies ... \u001b[?25l\u001b[?25hdone\n",
            "  Getting requirements to build wheel ... \u001b[?25l\u001b[?25hdone\n",
            "    Preparing wheel metadata ... \u001b[?25l\u001b[?25hdone\n",
            "\u001b[K     |████████████████████████████████| 121 kB 6.3 MB/s \n",
            "\u001b[K     |████████████████████████████████| 1.6 MB 35.1 MB/s \n",
            "\u001b[K     |████████████████████████████████| 83 kB 1.3 MB/s \n",
            "\u001b[?25h  Building wheel for GraphVision (PEP 517) ... \u001b[?25l\u001b[?25hdone\n"
          ]
        }
      ],
      "source": [
        "# Install our repo\n",
        "# !git clone -b models \"https://github.com/ab7289-tandon-nyu/GraphVision.git\"\n",
        "# !cp -r /content/GraphVision/src/ .\n",
        "\n",
        "!pip install -q git+https://github.com/ab7289-tandon-nyu/GraphVision.git"
      ]
    },
    {
      "cell_type": "code",
      "execution_count": 5,
      "metadata": {
        "id": "4hY3Lomuoya8"
      },
      "outputs": [],
      "source": [
        "SEED = 1234\n",
        "\n",
        "torch.manual_seed(SEED)\n",
        "torch.cuda.manual_seed(SEED)\n",
        "torch.backends.cudnn.deterministic = True"
      ]
    },
    {
      "cell_type": "code",
      "execution_count": 6,
      "metadata": {
        "colab": {
          "base_uri": "https://localhost:8080/"
        },
        "id": "Wuj1_P_3m0-l",
        "outputId": "568aea7e-a25e-4424-f9d0-ba96c4c2c773"
      },
      "outputs": [
        {
          "output_type": "stream",
          "name": "stderr",
          "text": [
            "Downloading https://data.pyg.org/datasets/benchmarking-gnns/CIFAR10_v2.zip\n",
            "Extracting .data/CIFAR10/raw/CIFAR10_v2.zip\n",
            "Processing...\n",
            "Done!\n"
          ]
        }
      ],
      "source": [
        "from src.transforms import get_transforms\n",
        "from src.datasets import get_datasets, get_dataloaders\n",
        "\n",
        "transforms = get_transforms(\"cartesian\")\n",
        "train_dataset, valid_dataset, test_dataset = get_datasets(\".data/\", \n",
        "                        \"CIFAR10\", pre_transforms = None,\n",
        "                        transforms = transforms)\n",
        "BATCH_SIZE = 128\n",
        "\n",
        "train_loader, valid_loader, test_loader = get_dataloaders(train_dataset,\n",
        "                                                          valid_dataset,\n",
        "                                                          test_dataset,\n",
        "                                                          batch_size=(BATCH_SIZE, 1, 1),\n",
        "                                                          drop_last = False)"
      ]
    },
    {
      "cell_type": "markdown",
      "metadata": {
        "id": "Sjmgy7RvoJN-"
      },
      "source": [
        "## Review batch attributes"
      ]
    },
    {
      "cell_type": "code",
      "execution_count": 7,
      "metadata": {
        "colab": {
          "base_uri": "https://localhost:8080/"
        },
        "id": "-QCa0O4IoM6U",
        "outputId": "31e101d7-4165-4969-add9-c7179b93dacb"
      },
      "outputs": [
        {
          "output_type": "stream",
          "name": "stdout",
          "text": [
            "\n",
            "DataBatch(x=[14981, 3], edge_index=[2, 134829], edge_attr=[134829, 2], y=[128], pos=[14981, 2], edge_weight=[134829], batch=[14981], ptr=[129])\n",
            "=====================================================================\n",
            "Number of features:  3\n",
            "Number of node features: 3\n",
            "Number of nodes: 14981\n",
            "Number of edges: 134829\n",
            "Average node degree: 9.00\n",
            "Has isolated nodes: False\n",
            "Has self-loops: True\n"
          ]
        }
      ],
      "source": [
        "sample_batch = next(iter(train_loader))\n",
        "\n",
        "print()\n",
        "print(sample_batch)\n",
        "print(\"=====================================================================\")\n",
        "\n",
        "# Gather some statistics about the first graph.\n",
        "print(f\"Number of features:  {sample_batch.num_features}\")\n",
        "print(f\"Number of node features: {sample_batch.num_node_features}\")\n",
        "print(f'Number of nodes: {sample_batch.num_nodes}')\n",
        "print(f'Number of edges: {sample_batch.num_edges}')\n",
        "print(f'Average node degree: {sample_batch.num_edges / sample_batch.num_nodes:.2f}')\n",
        "print(f'Has isolated nodes: {sample_batch.has_isolated_nodes()}')\n",
        "print(f'Has self-loops: {sample_batch.has_self_loops()}')"
      ]
    },
    {
      "cell_type": "code",
      "execution_count": 8,
      "metadata": {
        "colab": {
          "base_uri": "https://localhost:8080/"
        },
        "id": "tu3VtmrWpnZx",
        "outputId": "b804eac5-f941-415b-d11e-83125fd1fcb6"
      },
      "outputs": [
        {
          "output_type": "stream",
          "name": "stdout",
          "text": [
            "Number of features: 3\n",
            "Number of classes: 10\n",
            "Edge Attr Dimension: 2\n"
          ]
        }
      ],
      "source": [
        "# store edge dimension\n",
        "edge_dim = sample_batch.edge_attr.size(-1)\n",
        "edge_dim\n",
        "# store number of features in graph batch\n",
        "input_features = test_dataset.num_features\n",
        "# store number of classes for classification\n",
        "num_classes = test_dataset.num_classes\n",
        "\n",
        "print(f\"Number of features: {input_features}\")\n",
        "print(f\"Number of classes: {num_classes}\")\n",
        "print(f\"Edge Attr Dimension: {edge_dim}\")"
      ]
    },
    {
      "cell_type": "code",
      "execution_count": 9,
      "metadata": {
        "colab": {
          "base_uri": "https://localhost:8080/"
        },
        "id": "rqiZaFw2ps9r",
        "outputId": "8ceed9c3-4511-4931-f3a0-ce2c4a2ce8a6"
      },
      "outputs": [
        {
          "output_type": "stream",
          "name": "stdout",
          "text": [
            "Creating new Model\n"
          ]
        }
      ],
      "source": [
        "from pathlib import Path\n",
        "\n",
        "save_loc = \"\" # put save location here\n",
        "model_name = \"GENConv_clus-false_BN_RELU_layer8_h256.pt\" # was 128\n",
        "\n",
        "file_path = save_loc + model_name\n",
        "path = Path(file_path)\n",
        "state_dict = None\n",
        "if path.exists() and path.is_file():\n",
        "  print(\"Found Save!\")\n",
        "  state_dict = torch.load(path)\n",
        "else:\n",
        "  print(\"Creating new Model\")"
      ]
    },
    {
      "cell_type": "markdown",
      "metadata": {
        "id": "gGiE28k32eUr"
      },
      "source": [
        "## Create our Model"
      ]
    },
    {
      "cell_type": "code",
      "execution_count": 10,
      "metadata": {
        "id": "epF5kpJcqWJw"
      },
      "outputs": [],
      "source": [
        "from src.models import DeeperGCN\n",
        "\n",
        "hidden_features = 256 # was 128\n",
        "\n",
        "device = torch.device(\"cuda\" if torch.cuda.is_available() else \"cpu\")\n",
        "model = DeeperGCN(\n",
        "    input_features,\n",
        "    num_classes,\n",
        "    hidden_features,\n",
        "    conv_type = \"GEN\",\n",
        "    act = \"relu\",\n",
        "    norm = \"batch\",\n",
        "    num_layers = 8,\n",
        "    use_cluster_pooling = False,\n",
        "    readout = \"mean\",\n",
        "    dropout = 0.25,\n",
        "    edge_dim = edge_dim\n",
        ").to(device)\n",
        "if state_dict is not None:\n",
        "  print(\"Loading previously saved state dictionary\")\n",
        "  model.load_state_dict(state_dict)\n",
        "\n",
        "optimizer = torch.optim.Adam(model.parameters(), lr=0.01)\n",
        "criterion = torch.nn.CrossEntropyLoss().to(device)"
      ]
    },
    {
      "cell_type": "code",
      "execution_count": 11,
      "metadata": {
        "colab": {
          "base_uri": "https://localhost:8080/"
        },
        "id": "fsm1MwvSr0nU",
        "outputId": "b9de07b1-f3b7-49e1-e90d-69ac3639e310"
      },
      "outputs": [
        {
          "output_type": "stream",
          "name": "stdout",
          "text": [
            "There are 2,117,138 trainable parameters.\n",
            "\n",
            "DeeperGCN(\n",
            "  (fc_in): Linear(in_features=3, out_features=256, bias=True)\n",
            "  (fc_out): Linear(in_features=256, out_features=10, bias=True)\n",
            "  (out_act): ReLU(inplace=True)\n",
            "  (layers): ModuleList(\n",
            "    (0): DeepGCNLayer(block=res+)\n",
            "    (1): DeepGCNLayer(block=res+)\n",
            "    (2): DeepGCNLayer(block=res+)\n",
            "    (3): DeepGCNLayer(block=res+)\n",
            "    (4): DeepGCNLayer(block=res+)\n",
            "    (5): DeepGCNLayer(block=res+)\n",
            "    (6): DeepGCNLayer(block=res+)\n",
            "    (7): DeepGCNLayer(block=res+)\n",
            "  )\n",
            ")\n"
          ]
        }
      ],
      "source": [
        "params = sum([p.numel() for p in model.parameters() if p.requires_grad])\n",
        "print(f\"There are {params:,} trainable parameters.\")\n",
        "# when hidden dimension = 128, printed \"There are 2,117,138 trainable parameters.\"\n",
        "# when hidden dimension = 256, printed \"There are 2,117,138 trainable parameters.\" \n",
        "print()\n",
        "print(model)"
      ]
    },
    {
      "cell_type": "markdown",
      "metadata": {
        "id": "uuoamYXu2hf-"
      },
      "source": [
        "## Train"
      ]
    },
    {
      "cell_type": "code",
      "execution_count": 12,
      "metadata": {
        "colab": {
          "base_uri": "https://localhost:8080/"
        },
        "id": "8pyJ2olIr9pi",
        "outputId": "74f34691-6015-4c3d-f41b-a5cba062a2fa"
      },
      "outputs": [
        {
          "output_type": "stream",
          "name": "stdout",
          "text": [
            "\n",
            "Epoch: 1\n",
            "\n",
            "Train Loss: 2.241, Train Accuracy: 0.19\n",
            "Validation Loss: 2.054, Validation Accuracy: 0.21\n",
            "\n",
            "Epoch: 2\n",
            "\n",
            "Train Loss: 2.034, Train Accuracy: 0.21\n",
            "Validation Loss: 2.052, Validation Accuracy: 0.23\n",
            "\n",
            "Epoch: 3\n",
            "\n",
            "Train Loss: 1.969, Train Accuracy: 0.25\n",
            "Validation Loss: 2.023, Validation Accuracy: 0.25\n",
            "\n",
            "Epoch: 4\n",
            "\n",
            "Train Loss: 1.856, Train Accuracy: 0.29\n",
            "Validation Loss: 2.023, Validation Accuracy: 0.25\n",
            "\n",
            "Epoch: 5\n",
            "\n",
            "Train Loss: 1.770, Train Accuracy: 0.32\n",
            "Validation Loss: 1.956, Validation Accuracy: 0.27\n",
            "\n",
            "Epoch: 6\n",
            "\n",
            "Train Loss: 1.698, Train Accuracy: 0.36\n",
            "Validation Loss: 2.277, Validation Accuracy: 0.23\n",
            "\n",
            "Epoch: 7\n",
            "\n",
            "Train Loss: 1.651, Train Accuracy: 0.38\n",
            "Validation Loss: 2.466, Validation Accuracy: 0.21\n",
            "\n",
            "Epoch: 8\n",
            "\n",
            "Train Loss: 1.607, Train Accuracy: 0.40\n",
            "Validation Loss: 2.234, Validation Accuracy: 0.26\n",
            "\n",
            "Epoch: 9\n",
            "\n",
            "Train Loss: 1.573, Train Accuracy: 0.41\n",
            "Validation Loss: 2.075, Validation Accuracy: 0.27\n",
            "\n",
            "Epoch: 10\n",
            "\n",
            "Train Loss: 1.532, Train Accuracy: 0.43\n",
            "Validation Loss: 2.087, Validation Accuracy: 0.31\n",
            "\n",
            "Epoch: 11\n",
            "\n",
            "Train Loss: 1.506, Train Accuracy: 0.45\n",
            "Validation Loss: 1.853, Validation Accuracy: 0.36\n",
            "\n",
            "Epoch: 12\n",
            "\n",
            "Train Loss: 1.471, Train Accuracy: 0.46\n",
            "Validation Loss: 1.930, Validation Accuracy: 0.34\n",
            "\n",
            "Epoch: 13\n",
            "\n",
            "Train Loss: 1.446, Train Accuracy: 0.48\n",
            "Validation Loss: 1.995, Validation Accuracy: 0.32\n",
            "\n",
            "Epoch: 14\n",
            "\n",
            "Train Loss: 1.412, Train Accuracy: 0.49\n",
            "Validation Loss: 1.787, Validation Accuracy: 0.38\n",
            "\n",
            "Epoch: 15\n",
            "\n",
            "Train Loss: 1.390, Train Accuracy: 0.50\n",
            "Validation Loss: 2.397, Validation Accuracy: 0.27\n",
            "\n",
            "Epoch: 16\n",
            "\n",
            "Train Loss: 1.365, Train Accuracy: 0.50\n",
            "Validation Loss: 2.316, Validation Accuracy: 0.29\n",
            "\n",
            "Epoch: 17\n",
            "\n",
            "Train Loss: 1.355, Train Accuracy: 0.51\n",
            "Validation Loss: 1.864, Validation Accuracy: 0.36\n",
            "\n",
            "Epoch: 18\n",
            "\n",
            "Train Loss: 1.331, Train Accuracy: 0.52\n",
            "Validation Loss: 1.519, Validation Accuracy: 0.47\n",
            "\n",
            "Epoch: 19\n",
            "\n",
            "Train Loss: 1.320, Train Accuracy: 0.53\n",
            "Validation Loss: 1.609, Validation Accuracy: 0.42\n",
            "\n",
            "Epoch: 20\n",
            "\n",
            "Train Loss: 1.290, Train Accuracy: 0.54\n",
            "Validation Loss: 1.812, Validation Accuracy: 0.39\n",
            "\n",
            "Epoch: 21\n",
            "\n",
            "Train Loss: 1.282, Train Accuracy: 0.54\n",
            "Validation Loss: 2.013, Validation Accuracy: 0.35\n",
            "\n",
            "Epoch: 22\n",
            "\n",
            "Train Loss: 1.257, Train Accuracy: 0.55\n",
            "Validation Loss: 1.828, Validation Accuracy: 0.37\n",
            "\n",
            "Epoch: 23\n",
            "\n",
            "Train Loss: 1.242, Train Accuracy: 0.56\n",
            "Validation Loss: 1.789, Validation Accuracy: 0.39\n",
            "\n",
            "Epoch: 24\n",
            "\n",
            "Train Loss: 1.228, Train Accuracy: 0.56\n",
            "Validation Loss: 1.782, Validation Accuracy: 0.39\n",
            "\n",
            "Epoch: 25\n",
            "\n",
            "Train Loss: 1.211, Train Accuracy: 0.57\n",
            "Validation Loss: 1.563, Validation Accuracy: 0.43\n",
            "\n",
            "Epoch: 26\n",
            "\n",
            "Train Loss: 1.197, Train Accuracy: 0.57\n",
            "Validation Loss: 1.727, Validation Accuracy: 0.38\n",
            "\n",
            "Epoch: 27\n",
            "\n",
            "Train Loss: 1.191, Train Accuracy: 0.58\n",
            "Validation Loss: 1.662, Validation Accuracy: 0.43\n",
            "\n",
            "Epoch: 28\n",
            "\n",
            "Train Loss: 1.177, Train Accuracy: 0.58\n",
            "Validation Loss: 1.706, Validation Accuracy: 0.41\n",
            "\n",
            "Epoch: 29\n",
            "\n",
            "Train Loss: 1.171, Train Accuracy: 0.58\n",
            "Validation Loss: 1.931, Validation Accuracy: 0.36\n",
            "\n",
            "Epoch: 30\n",
            "\n",
            "Train Loss: 1.155, Train Accuracy: 0.59\n",
            "Validation Loss: 1.744, Validation Accuracy: 0.42\n",
            "\n",
            "Epoch: 31\n",
            "\n",
            "Train Loss: 1.136, Train Accuracy: 0.60\n",
            "Validation Loss: 1.511, Validation Accuracy: 0.45\n",
            "\n",
            "Epoch: 32\n",
            "\n",
            "Train Loss: 1.131, Train Accuracy: 0.60\n",
            "Validation Loss: 1.861, Validation Accuracy: 0.38\n",
            "\n",
            "Epoch: 33\n",
            "\n",
            "Train Loss: 1.121, Train Accuracy: 0.60\n",
            "Validation Loss: 1.614, Validation Accuracy: 0.45\n",
            "\n",
            "Epoch: 34\n",
            "\n",
            "Train Loss: 1.102, Train Accuracy: 0.61\n",
            "Validation Loss: 1.502, Validation Accuracy: 0.47\n",
            "\n",
            "Epoch: 35\n",
            "\n",
            "Train Loss: 1.106, Train Accuracy: 0.61\n",
            "Validation Loss: 1.995, Validation Accuracy: 0.38\n",
            "\n",
            "Epoch: 36\n",
            "\n",
            "Train Loss: 1.094, Train Accuracy: 0.61\n",
            "Validation Loss: 1.883, Validation Accuracy: 0.41\n",
            "\n",
            "Epoch: 37\n",
            "\n",
            "Train Loss: 1.078, Train Accuracy: 0.62\n",
            "Validation Loss: 1.696, Validation Accuracy: 0.46\n",
            "\n",
            "Epoch: 38\n",
            "\n",
            "Train Loss: 1.066, Train Accuracy: 0.62\n",
            "Validation Loss: 1.516, Validation Accuracy: 0.45\n",
            "\n",
            "Epoch: 39\n",
            "\n",
            "Train Loss: 1.057, Train Accuracy: 0.63\n",
            "Validation Loss: 1.589, Validation Accuracy: 0.46\n",
            "\n",
            "Epoch: 40\n",
            "\n",
            "Train Loss: 1.049, Train Accuracy: 0.63\n",
            "Validation Loss: 1.534, Validation Accuracy: 0.47\n",
            "\n",
            "Epoch: 41\n",
            "\n",
            "Train Loss: 1.037, Train Accuracy: 0.63\n",
            "Validation Loss: 1.868, Validation Accuracy: 0.40\n",
            "\n",
            "Epoch: 42\n",
            "\n",
            "Train Loss: 1.030, Train Accuracy: 0.64\n",
            "Validation Loss: 1.703, Validation Accuracy: 0.46\n",
            "\n",
            "Epoch: 43\n",
            "\n",
            "Train Loss: 1.018, Train Accuracy: 0.64\n",
            "Validation Loss: 1.451, Validation Accuracy: 0.51\n",
            "\n",
            "Epoch: 44\n",
            "\n",
            "Train Loss: 1.012, Train Accuracy: 0.64\n",
            "Validation Loss: 1.499, Validation Accuracy: 0.49\n",
            "\n",
            "Epoch: 45\n",
            "\n",
            "Train Loss: 0.997, Train Accuracy: 0.65\n",
            "Validation Loss: 1.801, Validation Accuracy: 0.46\n",
            "\n",
            "Epoch: 46\n",
            "\n",
            "Train Loss: 0.995, Train Accuracy: 0.65\n",
            "Validation Loss: 1.646, Validation Accuracy: 0.45\n",
            "\n",
            "Epoch: 47\n",
            "\n",
            "Train Loss: 0.989, Train Accuracy: 0.65\n",
            "Validation Loss: 1.609, Validation Accuracy: 0.47\n",
            "\n",
            "Epoch: 48\n",
            "\n",
            "Train Loss: 0.981, Train Accuracy: 0.65\n",
            "Validation Loss: 1.584, Validation Accuracy: 0.48\n",
            "\n",
            "Epoch: 49\n",
            "\n",
            "Train Loss: 0.973, Train Accuracy: 0.66\n",
            "Validation Loss: 1.766, Validation Accuracy: 0.45\n",
            "\n",
            "Epoch: 50\n",
            "\n",
            "Train Loss: 0.962, Train Accuracy: 0.66\n",
            "Validation Loss: 1.629, Validation Accuracy: 0.47\n",
            "\n",
            "Epoch: 51\n",
            "\n",
            "Train Loss: 0.957, Train Accuracy: 0.66\n",
            "Validation Loss: 1.620, Validation Accuracy: 0.46\n",
            "\n",
            "Epoch: 52\n",
            "\n",
            "Train Loss: 0.950, Train Accuracy: 0.67\n",
            "Validation Loss: 1.402, Validation Accuracy: 0.52\n",
            "\n",
            "Epoch: 53\n",
            "\n",
            "Train Loss: 0.945, Train Accuracy: 0.67\n",
            "Validation Loss: 1.656, Validation Accuracy: 0.46\n",
            "\n",
            "Epoch: 54\n",
            "\n",
            "Train Loss: 0.940, Train Accuracy: 0.67\n",
            "Validation Loss: 1.819, Validation Accuracy: 0.44\n",
            "\n",
            "Epoch: 55\n",
            "\n",
            "Train Loss: 0.932, Train Accuracy: 0.67\n",
            "Validation Loss: 1.498, Validation Accuracy: 0.50\n",
            "\n",
            "Epoch: 56\n",
            "\n",
            "Train Loss: 0.929, Train Accuracy: 0.67\n",
            "Validation Loss: 1.620, Validation Accuracy: 0.48\n",
            "\n",
            "Epoch: 57\n",
            "\n",
            "Train Loss: 0.921, Train Accuracy: 0.67\n",
            "Validation Loss: 1.784, Validation Accuracy: 0.44\n",
            "\n",
            "Epoch: 58\n",
            "\n",
            "Train Loss: 0.913, Train Accuracy: 0.67\n",
            "Validation Loss: 1.415, Validation Accuracy: 0.53\n",
            "\n",
            "Epoch: 59\n",
            "\n",
            "Train Loss: 0.904, Train Accuracy: 0.68\n",
            "Validation Loss: 1.508, Validation Accuracy: 0.50\n",
            "\n",
            "Epoch: 60\n",
            "\n",
            "Train Loss: 0.907, Train Accuracy: 0.68\n",
            "Validation Loss: 1.416, Validation Accuracy: 0.53\n",
            "\n",
            "Epoch: 61\n",
            "\n",
            "Train Loss: 0.899, Train Accuracy: 0.68\n",
            "Validation Loss: 1.592, Validation Accuracy: 0.47\n",
            "\n",
            "Epoch: 62\n",
            "\n",
            "Train Loss: 0.885, Train Accuracy: 0.69\n",
            "Validation Loss: 1.792, Validation Accuracy: 0.47\n",
            "\n",
            "Epoch: 63\n",
            "\n",
            "Train Loss: 0.875, Train Accuracy: 0.69\n",
            "Validation Loss: 1.602, Validation Accuracy: 0.49\n",
            "\n",
            "Epoch: 64\n",
            "\n",
            "Train Loss: 0.874, Train Accuracy: 0.69\n",
            "Validation Loss: 1.595, Validation Accuracy: 0.50\n",
            "\n",
            "Epoch: 65\n",
            "\n",
            "Train Loss: 0.865, Train Accuracy: 0.70\n",
            "Validation Loss: 1.423, Validation Accuracy: 0.54\n",
            "\n",
            "Epoch: 66\n",
            "\n",
            "Train Loss: 0.860, Train Accuracy: 0.69\n",
            "Validation Loss: 1.797, Validation Accuracy: 0.47\n",
            "\n",
            "Epoch: 67\n",
            "\n",
            "Train Loss: 0.852, Train Accuracy: 0.70\n",
            "Validation Loss: 1.656, Validation Accuracy: 0.48\n",
            "\n",
            "Epoch: 68\n",
            "\n",
            "Train Loss: 0.846, Train Accuracy: 0.70\n",
            "Validation Loss: 1.589, Validation Accuracy: 0.49\n",
            "\n",
            "Epoch: 69\n",
            "\n",
            "Train Loss: 0.850, Train Accuracy: 0.70\n",
            "Validation Loss: 1.783, Validation Accuracy: 0.47\n",
            "\n",
            "Epoch: 70\n",
            "\n",
            "Train Loss: 0.833, Train Accuracy: 0.71\n",
            "Validation Loss: 1.599, Validation Accuracy: 0.50\n",
            "\n",
            "Epoch: 71\n",
            "\n",
            "Train Loss: 0.834, Train Accuracy: 0.70\n",
            "Validation Loss: 1.612, Validation Accuracy: 0.50\n",
            "\n",
            "Epoch: 72\n",
            "\n",
            "Train Loss: 0.829, Train Accuracy: 0.71\n",
            "Validation Loss: 1.554, Validation Accuracy: 0.50\n",
            "\n",
            "Epoch: 73\n",
            "\n",
            "Train Loss: 0.827, Train Accuracy: 0.71\n",
            "Validation Loss: 1.489, Validation Accuracy: 0.53\n",
            "\n",
            "Epoch: 74\n",
            "\n",
            "Train Loss: 0.825, Train Accuracy: 0.71\n",
            "Validation Loss: 1.712, Validation Accuracy: 0.47\n",
            "\n",
            "Epoch: 75\n",
            "\n",
            "Train Loss: 0.813, Train Accuracy: 0.71\n",
            "Validation Loss: 1.643, Validation Accuracy: 0.49\n",
            "\n",
            "Epoch: 76\n",
            "\n",
            "Train Loss: 0.810, Train Accuracy: 0.71\n",
            "Validation Loss: 1.767, Validation Accuracy: 0.48\n",
            "\n",
            "Epoch: 77\n",
            "\n",
            "Train Loss: 0.800, Train Accuracy: 0.72\n",
            "Validation Loss: 1.560, Validation Accuracy: 0.52\n",
            "\n",
            "Epoch: 78\n",
            "\n",
            "Train Loss: 0.805, Train Accuracy: 0.72\n",
            "Validation Loss: 1.598, Validation Accuracy: 0.52\n",
            "\n",
            "Epoch: 79\n",
            "\n",
            "Train Loss: 0.785, Train Accuracy: 0.72\n",
            "Validation Loss: 1.580, Validation Accuracy: 0.50\n",
            "\n",
            "Epoch: 80\n",
            "\n",
            "Train Loss: 0.792, Train Accuracy: 0.72\n",
            "Validation Loss: 1.521, Validation Accuracy: 0.52\n",
            "\n",
            "Epoch: 81\n",
            "\n",
            "Train Loss: 0.784, Train Accuracy: 0.72\n",
            "Validation Loss: 1.507, Validation Accuracy: 0.53\n",
            "\n",
            "Epoch: 82\n",
            "\n",
            "Train Loss: 0.777, Train Accuracy: 0.73\n",
            "Validation Loss: 1.562, Validation Accuracy: 0.53\n",
            "\n",
            "Epoch: 83\n",
            "\n",
            "Train Loss: 0.774, Train Accuracy: 0.73\n",
            "Validation Loss: 1.746, Validation Accuracy: 0.50\n",
            "\n",
            "Epoch: 84\n",
            "\n",
            "Train Loss: 0.778, Train Accuracy: 0.73\n",
            "Validation Loss: 1.608, Validation Accuracy: 0.53\n",
            "\n",
            "Epoch: 85\n",
            "\n",
            "Train Loss: 0.773, Train Accuracy: 0.73\n",
            "Validation Loss: 1.553, Validation Accuracy: 0.52\n",
            "\n",
            "Epoch: 86\n",
            "\n",
            "Train Loss: 0.770, Train Accuracy: 0.73\n",
            "Validation Loss: 1.735, Validation Accuracy: 0.50\n",
            "\n",
            "Epoch: 87\n",
            "\n",
            "Train Loss: 0.761, Train Accuracy: 0.73\n",
            "Validation Loss: 1.976, Validation Accuracy: 0.47\n",
            "\n",
            "Epoch: 88\n",
            "\n",
            "Train Loss: 0.760, Train Accuracy: 0.73\n",
            "Validation Loss: 2.242, Validation Accuracy: 0.43\n",
            "\n",
            "Epoch: 89\n",
            "\n",
            "Train Loss: 0.745, Train Accuracy: 0.74\n",
            "Validation Loss: 1.856, Validation Accuracy: 0.46\n",
            "\n",
            "Epoch: 90\n",
            "\n",
            "Train Loss: 0.745, Train Accuracy: 0.74\n",
            "Validation Loss: 1.518, Validation Accuracy: 0.53\n",
            "\n",
            "Epoch: 91\n",
            "\n",
            "Train Loss: 0.741, Train Accuracy: 0.74\n",
            "Validation Loss: 1.700, Validation Accuracy: 0.50\n",
            "\n",
            "Epoch: 92\n",
            "\n",
            "Train Loss: 0.735, Train Accuracy: 0.74\n",
            "Validation Loss: 1.801, Validation Accuracy: 0.50\n",
            "\n",
            "Epoch: 93\n",
            "\n",
            "Train Loss: 0.723, Train Accuracy: 0.75\n",
            "Validation Loss: 1.384, Validation Accuracy: 0.55\n",
            "\n",
            "Epoch: 94\n",
            "\n",
            "Train Loss: 0.722, Train Accuracy: 0.75\n",
            "Validation Loss: 1.687, Validation Accuracy: 0.49\n",
            "\n",
            "Epoch: 95\n",
            "\n",
            "Train Loss: 0.729, Train Accuracy: 0.74\n",
            "Validation Loss: 1.721, Validation Accuracy: 0.50\n",
            "\n",
            "Epoch: 96\n",
            "\n",
            "Train Loss: 0.719, Train Accuracy: 0.75\n",
            "Validation Loss: 1.652, Validation Accuracy: 0.50\n",
            "\n",
            "Epoch: 97\n",
            "\n",
            "Train Loss: 0.725, Train Accuracy: 0.75\n",
            "Validation Loss: 1.604, Validation Accuracy: 0.52\n",
            "\n",
            "Epoch: 98\n",
            "\n",
            "Train Loss: 0.709, Train Accuracy: 0.75\n",
            "Validation Loss: 2.049, Validation Accuracy: 0.46\n",
            "\n",
            "Epoch: 99\n",
            "\n",
            "Train Loss: 0.710, Train Accuracy: 0.75\n",
            "Validation Loss: 1.728, Validation Accuracy: 0.51\n",
            "\n",
            "Epoch: 100\n",
            "\n",
            "Train Loss: 0.712, Train Accuracy: 0.75\n",
            "Validation Loss: 1.813, Validation Accuracy: 0.50\n"
          ]
        }
      ],
      "source": [
        "from src.engine import train, evaluate\n",
        "from src.utils import calculate_accuracy\n",
        "\n",
        "EPOCHS = 100 # was 200\n",
        "train_loss = []\n",
        "train_acc = []\n",
        "valid_loss = []\n",
        "valid_acc = []\n",
        "best_loss = float('inf')\n",
        "\n",
        "for epoch in range(1, EPOCHS + 1):\n",
        "  print(f\"\\nEpoch: {epoch}\\n\")\n",
        "  loss, acc = train(model, train_loader, criterion, optimizer, device)\n",
        "  train_loss.append(loss)\n",
        "  train_acc.append(acc)\n",
        "  print(f\"Train Loss: {train_loss[-1]:.3f}, Train Accuracy: {train_acc[-1]:.2f}\")\n",
        "\n",
        "  loss, acc = evaluate(model, valid_loader, criterion, device)\n",
        "  valid_loss.append(loss)\n",
        "  valid_acc.append(acc)\n",
        "  print(f\"Validation Loss: {valid_loss[-1]:.3f}, Validation Accuracy: {valid_acc[-1]:.2f}\")\n",
        "\n",
        "  if loss < best_loss:\n",
        "    best_loss = loss\n",
        "    torch.save(model.state_dict(), path)"
      ]
    },
    {
      "cell_type": "markdown",
      "metadata": {
        "id": "GIu5vZ3d2jNJ"
      },
      "source": [
        "## Evaluate on the Test set"
      ]
    },
    {
      "cell_type": "code",
      "execution_count": 13,
      "metadata": {
        "id": "q5oWJj8g11MF",
        "outputId": "71ff7f57-2492-4308-db51-830d6c4e71e6",
        "colab": {
          "base_uri": "https://localhost:8080/"
        }
      },
      "outputs": [
        {
          "output_type": "stream",
          "name": "stdout",
          "text": [
            "Test Loss: 1.426\n",
            "Test Accuracy: 0.54%\n"
          ]
        }
      ],
      "source": [
        "# load best model\n",
        "model.load_state_dict(torch.load(path))\n",
        "test_loss, test_acc = evaluate(model.to(device), test_loader, criterion, device)\n",
        "print(f\"Test Loss: {test_loss:.3f}\")\n",
        "print(f\"Test Accuracy: {test_acc:.2f}%\")"
      ]
    },
    {
      "cell_type": "markdown",
      "metadata": {
        "id": "qvOfsB752las"
      },
      "source": [
        "## Plot Loss and Accuracy Curves"
      ]
    },
    {
      "cell_type": "code",
      "execution_count": 14,
      "metadata": {
        "id": "gk6I1WkDvWmE",
        "outputId": "bc981ab9-c760-4bc3-ac25-7a1740c1c9b4",
        "colab": {
          "base_uri": "https://localhost:8080/",
          "height": 265
        }
      },
      "outputs": [
        {
          "output_type": "display_data",
          "data": {
            "text/plain": [
              "<Figure size 432x288 with 1 Axes>"
            ],
            "image/png": "[encoded data removed]"
          },
          "metadata": {
            "needs_background": "light"
          }
        }
      ],
      "source": [
        "import matplotlib.pyplot as plt\n",
        "\n",
        "x = [i for i in range(len(valid_loss))]\n",
        "\n",
        "plt.plot(x, train_loss, label=\"Train Loss\")\n",
        "plt.plot(x, valid_loss, label=\"Validation Loss\")\n",
        "plt.legend()\n",
        "plt.show()"
      ]
    },
    {
      "cell_type": "code",
      "execution_count": 15,
      "metadata": {
        "id": "A-xP3uX63aT8",
        "outputId": "7285dd3c-5ed2-4835-9648-3b1ea6834b00",
        "colab": {
          "base_uri": "https://localhost:8080/",
          "height": 265
        }
      },
      "outputs": [
        {
          "output_type": "display_data",
          "data": {
            "text/plain": [
              "<Figure size 432x288 with 1 Axes>"
            ],
            "image/png": "[encoded data removed]"
          },
          "metadata": {
            "needs_background": "light"
          }
        }
      ],
      "source": [
        "plt.plot(x, train_acc, label=\"Train Accuracy\")\n",
        "plt.plot(x, valid_acc, label=\"Validation Accuracy\")\n",
        "plt.legend()\n",
        "plt.show()"
      ]
    },
    {
      "cell_type": "code",
      "execution_count": null,
      "metadata": {
        "id": "D_FdIR923n9N"
      },
      "outputs": [],
      "source": []
    }
  ],
  "metadata": {
    "accelerator": "GPU",
    "colab": {
      "provenance": []
    },
    "gpuClass": "standard",
    "kernelspec": {
      "display_name": "pyg",
      "language": "python",
      "name": "python3"
    },
    "language_info": {
      "codemirror_mode": {
        "name": "ipython",
        "version": 3
      },
      "file_extension": ".py",
      "mimetype": "text/x-python",
      "name": "python",
      "nbconvert_exporter": "python",
      "pygments_lexer": "ipython3",
      "version": "3.9.15"
    },
    "vscode": {
      "interpreter": {
        "hash": "602fd2f1343589d3bd6f27fae416162c1bba08e244faa27258d2511dac84d913"
      }
    }
  },
  "nbformat": 4,
  "nbformat_minor": 0
}