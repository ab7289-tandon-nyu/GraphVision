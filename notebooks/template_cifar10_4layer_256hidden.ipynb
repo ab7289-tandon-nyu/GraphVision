{
  "cells": [
    {
      "cell_type": "code",
      "execution_count": 1,
      "metadata": {
        "colab": {
          "base_uri": "https://localhost:8080/"
        },
        "id": "HQeBbCYZlhKn",
        "outputId": "a1f6ce2d-4477-4e7b-fec5-22d2052c626b"
      },
      "outputs": [
        {
          "output_type": "stream",
          "name": "stdout",
          "text": [
            "1.13.0+cu116\n",
            "\u001b[K     |████████████████████████████████| 9.4 MB 6.4 MB/s \n",
            "\u001b[K     |████████████████████████████████| 4.6 MB 6.0 MB/s \n",
            "\u001b[K     |████████████████████████████████| 3.2 MB 5.1 MB/s \n",
            "\u001b[K     |████████████████████████████████| 512 kB 16.2 MB/s \n",
            "\u001b[K     |████████████████████████████████| 280 kB 75.3 MB/s \n",
            "\u001b[?25h  Building wheel for torch-geometric (setup.py) ... \u001b[?25l\u001b[?25hdone\n"
          ]
        }
      ],
      "source": [
        "# Install required packages.\n",
        "import os\n",
        "import torch\n",
        "os.environ['TORCH'] = torch.__version__\n",
        "print(torch.__version__)\n",
        "\n",
        "!pip install -q torch-scatter -f https://data.pyg.org/whl/torch-${TORCH}.html\n",
        "!pip install -q torch-sparse -f https://data.pyg.org/whl/torch-${TORCH}.html\n",
        "!pip install -q torch-cluster -f https://data.pyg.org/whl/torch-${TORCH}.html\n",
        "!pip install -q git+https://github.com/pyg-team/pytorch_geometric.git"
      ]
    },
    {
      "cell_type": "code",
      "execution_count": 2,
      "metadata": {
        "colab": {
          "base_uri": "https://localhost:8080/"
        },
        "id": "NUnIVvd-lxxZ",
        "outputId": "cd5553ee-0958-4f4f-b642-4f0ae3ada08b"
      },
      "outputs": [
        {
          "output_type": "stream",
          "name": "stdout",
          "text": [
            "  Installing build dependencies ... \u001b[?25l\u001b[?25hdone\n",
            "  Getting requirements to build wheel ... \u001b[?25l\u001b[?25hdone\n",
            "    Preparing wheel metadata ... \u001b[?25l\u001b[?25hdone\n",
            "\u001b[K     |████████████████████████████████| 121 kB 13.7 MB/s \n",
            "\u001b[K     |████████████████████████████████| 1.6 MB 70.6 MB/s \n",
            "\u001b[K     |████████████████████████████████| 83 kB 2.5 MB/s \n",
            "\u001b[?25h  Building wheel for GraphVision (PEP 517) ... \u001b[?25l\u001b[?25hdone\n"
          ]
        }
      ],
      "source": [
        "# Install our repo\n",
        "# !git clone -b models \"https://github.com/ab7289-tandon-nyu/GraphVision.git\"\n",
        "# !cp -r /content/GraphVision/src/ .\n",
        "\n",
        "!pip install -q git+https://github.com/ab7289-tandon-nyu/GraphVision.git"
      ]
    },
    {
      "cell_type": "code",
      "execution_count": 3,
      "metadata": {
        "id": "4hY3Lomuoya8"
      },
      "outputs": [],
      "source": [
        "SEED = 1234\n",
        "\n",
        "torch.manual_seed(SEED)\n",
        "torch.cuda.manual_seed(SEED)\n",
        "torch.backends.cudnn.deterministic = True"
      ]
    },
    {
      "cell_type": "code",
      "execution_count": 4,
      "metadata": {
        "colab": {
          "base_uri": "https://localhost:8080/"
        },
        "id": "Wuj1_P_3m0-l",
        "outputId": "4da92816-420c-4c9d-8a29-a1c895704820"
      },
      "outputs": [
        {
          "output_type": "stream",
          "name": "stderr",
          "text": [
            "Downloading https://data.pyg.org/datasets/benchmarking-gnns/CIFAR10_v2.zip\n",
            "Extracting .data/CIFAR10/raw/CIFAR10_v2.zip\n",
            "Processing...\n",
            "Done!\n"
          ]
        }
      ],
      "source": [
        "from src.transforms import get_transforms\n",
        "from src.datasets import get_datasets, get_dataloaders\n",
        "\n",
        "transforms = get_transforms(\"cartesian\")\n",
        "train_dataset, valid_dataset, test_dataset = get_datasets(\".data/\", \n",
        "                        \"CIFAR10\", pre_transforms = None,\n",
        "                        transforms = transforms)\n",
        "BATCH_SIZE = 128\n",
        "\n",
        "train_loader, valid_loader, test_loader = get_dataloaders(train_dataset,\n",
        "                                                          valid_dataset,\n",
        "                                                          test_dataset,\n",
        "                                                          batch_size=(BATCH_SIZE, 1, 1),\n",
        "                                                          drop_last = False)"
      ]
    },
    {
      "cell_type": "markdown",
      "metadata": {
        "id": "Sjmgy7RvoJN-"
      },
      "source": [
        "## Review batch attributes"
      ]
    },
    {
      "cell_type": "code",
      "execution_count": 5,
      "metadata": {
        "colab": {
          "base_uri": "https://localhost:8080/"
        },
        "id": "-QCa0O4IoM6U",
        "outputId": "6ab8acac-ff18-472a-d2f6-48136839c92c"
      },
      "outputs": [
        {
          "output_type": "stream",
          "name": "stdout",
          "text": [
            "\n",
            "DataBatch(x=[14981, 3], edge_index=[2, 134829], edge_attr=[134829, 2], y=[128], pos=[14981, 2], edge_weight=[134829], batch=[14981], ptr=[129])\n",
            "=====================================================================\n",
            "Number of features:  3\n",
            "Number of node features: 3\n",
            "Number of nodes: 14981\n",
            "Number of edges: 134829\n",
            "Average node degree: 9.00\n",
            "Has isolated nodes: False\n",
            "Has self-loops: True\n"
          ]
        }
      ],
      "source": [
        "sample_batch = next(iter(train_loader))\n",
        "\n",
        "print()\n",
        "print(sample_batch)\n",
        "print(\"=====================================================================\")\n",
        "\n",
        "# Gather some statistics about the first graph.\n",
        "print(f\"Number of features:  {sample_batch.num_features}\")\n",
        "print(f\"Number of node features: {sample_batch.num_node_features}\")\n",
        "print(f'Number of nodes: {sample_batch.num_nodes}')\n",
        "print(f'Number of edges: {sample_batch.num_edges}')\n",
        "print(f'Average node degree: {sample_batch.num_edges / sample_batch.num_nodes:.2f}')\n",
        "print(f'Has isolated nodes: {sample_batch.has_isolated_nodes()}')\n",
        "print(f'Has self-loops: {sample_batch.has_self_loops()}')"
      ]
    },
    {
      "cell_type": "code",
      "execution_count": 6,
      "metadata": {
        "colab": {
          "base_uri": "https://localhost:8080/"
        },
        "id": "tu3VtmrWpnZx",
        "outputId": "b509dd30-2c14-4fb6-c98d-6b526ca75c71"
      },
      "outputs": [
        {
          "output_type": "stream",
          "name": "stdout",
          "text": [
            "Number of features: 3\n",
            "Number of classes: 10\n",
            "Edge Attr Dimension: 2\n"
          ]
        }
      ],
      "source": [
        "# store edge dimension\n",
        "edge_dim = sample_batch.edge_attr.size(-1)\n",
        "edge_dim\n",
        "# store number of features in graph batch\n",
        "input_features = test_dataset.num_features\n",
        "# store number of classes for classification\n",
        "num_classes = test_dataset.num_classes\n",
        "\n",
        "print(f\"Number of features: {input_features}\")\n",
        "print(f\"Number of classes: {num_classes}\")\n",
        "print(f\"Edge Attr Dimension: {edge_dim}\")"
      ]
    },
    {
      "cell_type": "code",
      "execution_count": 7,
      "metadata": {
        "colab": {
          "base_uri": "https://localhost:8080/"
        },
        "id": "rqiZaFw2ps9r",
        "outputId": "bfd812dc-b609-4d9a-d0cf-74b9aff8a2c1"
      },
      "outputs": [
        {
          "output_type": "stream",
          "name": "stdout",
          "text": [
            "Creating new Model\n"
          ]
        }
      ],
      "source": [
        "from pathlib import Path\n",
        "\n",
        "save_loc = \"\" # put save location here\n",
        "model_name = \"GENConv_clus-false_BN_RELU_layer4_h256.pt\" # was 128\n",
        "\n",
        "file_path = save_loc + model_name\n",
        "path = Path(file_path)\n",
        "state_dict = None\n",
        "if path.exists() and path.is_file():\n",
        "  print(\"Found Save!\")\n",
        "  state_dict = torch.load(path)\n",
        "else:\n",
        "  print(\"Creating new Model\")"
      ]
    },
    {
      "cell_type": "markdown",
      "metadata": {
        "id": "gGiE28k32eUr"
      },
      "source": [
        "## Create our Model"
      ]
    },
    {
      "cell_type": "code",
      "execution_count": 8,
      "metadata": {
        "id": "epF5kpJcqWJw"
      },
      "outputs": [],
      "source": [
        "from src.models import DeeperGCN\n",
        "\n",
        "hidden_features = 256 # was 128\n",
        "\n",
        "device = torch.device(\"cuda\" if torch.cuda.is_available() else \"cpu\")\n",
        "model = DeeperGCN(\n",
        "    input_features,\n",
        "    num_classes,\n",
        "    hidden_features,\n",
        "    conv_type = \"GEN\",\n",
        "    act = \"relu\",\n",
        "    norm = \"batch\",\n",
        "    num_layers = 4,\n",
        "    use_cluster_pooling = False,\n",
        "    readout = \"mean\",\n",
        "    dropout = 0.25,\n",
        "    edge_dim = edge_dim\n",
        ").to(device)\n",
        "if state_dict is not None:\n",
        "  print(\"Loading previously saved state dictionary\")\n",
        "  model.load_state_dict(state_dict)\n",
        "\n",
        "optimizer = torch.optim.Adam(model.parameters(), lr=0.01)\n",
        "criterion = torch.nn.CrossEntropyLoss().to(device)"
      ]
    },
    {
      "cell_type": "code",
      "execution_count": 9,
      "metadata": {
        "colab": {
          "base_uri": "https://localhost:8080/"
        },
        "id": "fsm1MwvSr0nU",
        "outputId": "63b93f56-dd8e-4374-e863-469ff61d97b3"
      },
      "outputs": [
        {
          "output_type": "stream",
          "name": "stdout",
          "text": [
            "There are 1,060,366 trainable parameters.\n",
            "\n",
            "DeeperGCN(\n",
            "  (fc_in): Linear(in_features=3, out_features=256, bias=True)\n",
            "  (fc_out): Linear(in_features=256, out_features=10, bias=True)\n",
            "  (out_act): ReLU(inplace=True)\n",
            "  (layers): ModuleList(\n",
            "    (0): DeepGCNLayer(block=res+)\n",
            "    (1): DeepGCNLayer(block=res+)\n",
            "    (2): DeepGCNLayer(block=res+)\n",
            "    (3): DeepGCNLayer(block=res+)\n",
            "  )\n",
            ")\n"
          ]
        }
      ],
      "source": [
        "params = sum([p.numel() for p in model.parameters() if p.requires_grad])\n",
        "print(f\"There are {params:,} trainable parameters.\")\n",
        "# when 128 hidden layers, printed \"There are 2,117,138 trainable parameters.\"\n",
        "# when 256 hidden layers, printed \"There are 1,060,366 trainable parameters.\"\n",
        "print()\n",
        "print(model)"
      ]
    },
    {
      "cell_type": "markdown",
      "metadata": {
        "id": "uuoamYXu2hf-"
      },
      "source": [
        "## Train"
      ]
    },
    {
      "cell_type": "code",
      "execution_count": 10,
      "metadata": {
        "colab": {
          "base_uri": "https://localhost:8080/"
        },
        "id": "8pyJ2olIr9pi",
        "outputId": "a52eecdb-f33f-46b8-fa4a-6a4d10801e31"
      },
      "outputs": [
        {
          "output_type": "stream",
          "name": "stdout",
          "text": [
            "\n",
            "Epoch: 1\n",
            "\n",
            "Train Loss: 2.086, Train Accuracy: 0.22\n",
            "Validation Loss: 2.046, Validation Accuracy: 0.24\n",
            "\n",
            "Epoch: 2\n",
            "\n",
            "Train Loss: 1.925, Train Accuracy: 0.26\n",
            "Validation Loss: 1.926, Validation Accuracy: 0.25\n",
            "\n",
            "Epoch: 3\n",
            "\n",
            "Train Loss: 1.823, Train Accuracy: 0.31\n",
            "Validation Loss: 2.463, Validation Accuracy: 0.21\n",
            "\n",
            "Epoch: 4\n",
            "\n",
            "Train Loss: 1.726, Train Accuracy: 0.35\n",
            "Validation Loss: 2.262, Validation Accuracy: 0.23\n",
            "\n",
            "Epoch: 5\n",
            "\n",
            "Train Loss: 1.640, Train Accuracy: 0.39\n",
            "Validation Loss: 3.069, Validation Accuracy: 0.16\n",
            "\n",
            "Epoch: 6\n",
            "\n",
            "Train Loss: 1.583, Train Accuracy: 0.41\n",
            "Validation Loss: 2.358, Validation Accuracy: 0.22\n",
            "\n",
            "Epoch: 7\n",
            "\n",
            "Train Loss: 1.537, Train Accuracy: 0.44\n",
            "Validation Loss: 2.189, Validation Accuracy: 0.30\n",
            "\n",
            "Epoch: 8\n",
            "\n",
            "Train Loss: 1.503, Train Accuracy: 0.45\n",
            "Validation Loss: 2.049, Validation Accuracy: 0.32\n",
            "\n",
            "Epoch: 9\n",
            "\n",
            "Train Loss: 1.471, Train Accuracy: 0.46\n",
            "Validation Loss: 2.021, Validation Accuracy: 0.32\n",
            "\n",
            "Epoch: 10\n",
            "\n",
            "Train Loss: 1.446, Train Accuracy: 0.47\n",
            "Validation Loss: 2.320, Validation Accuracy: 0.30\n",
            "\n",
            "Epoch: 11\n",
            "\n",
            "Train Loss: 1.419, Train Accuracy: 0.49\n",
            "Validation Loss: 2.233, Validation Accuracy: 0.27\n",
            "\n",
            "Epoch: 12\n",
            "\n",
            "Train Loss: 1.399, Train Accuracy: 0.49\n",
            "Validation Loss: 2.001, Validation Accuracy: 0.35\n",
            "\n",
            "Epoch: 13\n",
            "\n",
            "Train Loss: 1.377, Train Accuracy: 0.50\n",
            "Validation Loss: 2.104, Validation Accuracy: 0.33\n",
            "\n",
            "Epoch: 14\n",
            "\n",
            "Train Loss: 1.351, Train Accuracy: 0.51\n",
            "Validation Loss: 2.188, Validation Accuracy: 0.30\n",
            "\n",
            "Epoch: 15\n",
            "\n",
            "Train Loss: 1.336, Train Accuracy: 0.52\n",
            "Validation Loss: 1.797, Validation Accuracy: 0.39\n",
            "\n",
            "Epoch: 16\n",
            "\n",
            "Train Loss: 1.322, Train Accuracy: 0.52\n",
            "Validation Loss: 1.570, Validation Accuracy: 0.42\n",
            "\n",
            "Epoch: 17\n",
            "\n",
            "Train Loss: 1.302, Train Accuracy: 0.53\n",
            "Validation Loss: 1.796, Validation Accuracy: 0.39\n",
            "\n",
            "Epoch: 18\n",
            "\n",
            "Train Loss: 1.286, Train Accuracy: 0.53\n",
            "Validation Loss: 1.827, Validation Accuracy: 0.37\n",
            "\n",
            "Epoch: 19\n",
            "\n",
            "Train Loss: 1.275, Train Accuracy: 0.54\n",
            "Validation Loss: 2.138, Validation Accuracy: 0.34\n",
            "\n",
            "Epoch: 20\n",
            "\n",
            "Train Loss: 1.261, Train Accuracy: 0.55\n",
            "Validation Loss: 1.601, Validation Accuracy: 0.43\n",
            "\n",
            "Epoch: 21\n",
            "\n",
            "Train Loss: 1.245, Train Accuracy: 0.55\n",
            "Validation Loss: 1.866, Validation Accuracy: 0.39\n",
            "\n",
            "Epoch: 22\n",
            "\n",
            "Train Loss: 1.238, Train Accuracy: 0.55\n",
            "Validation Loss: 1.966, Validation Accuracy: 0.38\n",
            "\n",
            "Epoch: 23\n",
            "\n",
            "Train Loss: 1.226, Train Accuracy: 0.56\n",
            "Validation Loss: 1.888, Validation Accuracy: 0.37\n",
            "\n",
            "Epoch: 24\n",
            "\n",
            "Train Loss: 1.220, Train Accuracy: 0.57\n",
            "Validation Loss: 1.698, Validation Accuracy: 0.43\n",
            "\n",
            "Epoch: 25\n",
            "\n",
            "Train Loss: 1.205, Train Accuracy: 0.57\n",
            "Validation Loss: 1.751, Validation Accuracy: 0.40\n",
            "\n",
            "Epoch: 26\n",
            "\n",
            "Train Loss: 1.190, Train Accuracy: 0.58\n",
            "Validation Loss: 1.626, Validation Accuracy: 0.41\n",
            "\n",
            "Epoch: 27\n",
            "\n",
            "Train Loss: 1.187, Train Accuracy: 0.57\n",
            "Validation Loss: 1.533, Validation Accuracy: 0.45\n",
            "\n",
            "Epoch: 28\n",
            "\n",
            "Train Loss: 1.168, Train Accuracy: 0.58\n",
            "Validation Loss: 2.065, Validation Accuracy: 0.35\n",
            "\n",
            "Epoch: 29\n",
            "\n",
            "Train Loss: 1.157, Train Accuracy: 0.59\n",
            "Validation Loss: 1.633, Validation Accuracy: 0.43\n",
            "\n",
            "Epoch: 30\n",
            "\n",
            "Train Loss: 1.145, Train Accuracy: 0.59\n",
            "Validation Loss: 1.664, Validation Accuracy: 0.39\n",
            "\n",
            "Epoch: 31\n",
            "\n",
            "Train Loss: 1.143, Train Accuracy: 0.59\n",
            "Validation Loss: 1.670, Validation Accuracy: 0.43\n",
            "\n",
            "Epoch: 32\n",
            "\n",
            "Train Loss: 1.122, Train Accuracy: 0.60\n",
            "Validation Loss: 1.856, Validation Accuracy: 0.39\n",
            "\n",
            "Epoch: 33\n",
            "\n",
            "Train Loss: 1.114, Train Accuracy: 0.60\n",
            "Validation Loss: 1.730, Validation Accuracy: 0.44\n",
            "\n",
            "Epoch: 34\n",
            "\n",
            "Train Loss: 1.114, Train Accuracy: 0.60\n",
            "Validation Loss: 1.567, Validation Accuracy: 0.43\n",
            "\n",
            "Epoch: 35\n",
            "\n",
            "Train Loss: 1.105, Train Accuracy: 0.61\n",
            "Validation Loss: 1.703, Validation Accuracy: 0.42\n",
            "\n",
            "Epoch: 36\n",
            "\n",
            "Train Loss: 1.095, Train Accuracy: 0.61\n",
            "Validation Loss: 1.570, Validation Accuracy: 0.47\n",
            "\n",
            "Epoch: 37\n",
            "\n",
            "Train Loss: 1.092, Train Accuracy: 0.61\n",
            "Validation Loss: 1.594, Validation Accuracy: 0.46\n",
            "\n",
            "Epoch: 38\n",
            "\n",
            "Train Loss: 1.076, Train Accuracy: 0.62\n",
            "Validation Loss: 1.609, Validation Accuracy: 0.45\n",
            "\n",
            "Epoch: 39\n",
            "\n",
            "Train Loss: 1.067, Train Accuracy: 0.62\n",
            "Validation Loss: 1.679, Validation Accuracy: 0.45\n",
            "\n",
            "Epoch: 40\n",
            "\n",
            "Train Loss: 1.065, Train Accuracy: 0.62\n",
            "Validation Loss: 1.783, Validation Accuracy: 0.43\n",
            "\n",
            "Epoch: 41\n",
            "\n",
            "Train Loss: 1.053, Train Accuracy: 0.62\n",
            "Validation Loss: 1.562, Validation Accuracy: 0.45\n",
            "\n",
            "Epoch: 42\n",
            "\n",
            "Train Loss: 1.046, Train Accuracy: 0.63\n",
            "Validation Loss: 1.521, Validation Accuracy: 0.48\n",
            "\n",
            "Epoch: 43\n",
            "\n",
            "Train Loss: 1.039, Train Accuracy: 0.63\n",
            "Validation Loss: 1.552, Validation Accuracy: 0.47\n",
            "\n",
            "Epoch: 44\n",
            "\n",
            "Train Loss: 1.025, Train Accuracy: 0.63\n",
            "Validation Loss: 1.593, Validation Accuracy: 0.47\n",
            "\n",
            "Epoch: 45\n",
            "\n",
            "Train Loss: 1.017, Train Accuracy: 0.64\n",
            "Validation Loss: 1.546, Validation Accuracy: 0.47\n",
            "\n",
            "Epoch: 46\n",
            "\n",
            "Train Loss: 1.012, Train Accuracy: 0.64\n",
            "Validation Loss: 1.496, Validation Accuracy: 0.48\n",
            "\n",
            "Epoch: 47\n",
            "\n",
            "Train Loss: 1.006, Train Accuracy: 0.64\n",
            "Validation Loss: 1.793, Validation Accuracy: 0.42\n",
            "\n",
            "Epoch: 48\n",
            "\n",
            "Train Loss: 0.998, Train Accuracy: 0.64\n",
            "Validation Loss: 2.039, Validation Accuracy: 0.40\n",
            "\n",
            "Epoch: 49\n",
            "\n",
            "Train Loss: 0.997, Train Accuracy: 0.64\n",
            "Validation Loss: 1.453, Validation Accuracy: 0.50\n",
            "\n",
            "Epoch: 50\n",
            "\n",
            "Train Loss: 0.981, Train Accuracy: 0.65\n",
            "Validation Loss: 1.551, Validation Accuracy: 0.49\n",
            "\n",
            "Epoch: 51\n",
            "\n",
            "Train Loss: 0.976, Train Accuracy: 0.65\n",
            "Validation Loss: 1.697, Validation Accuracy: 0.45\n",
            "\n",
            "Epoch: 52\n",
            "\n",
            "Train Loss: 0.968, Train Accuracy: 0.66\n",
            "Validation Loss: 1.719, Validation Accuracy: 0.46\n",
            "\n",
            "Epoch: 53\n",
            "\n",
            "Train Loss: 0.960, Train Accuracy: 0.66\n",
            "Validation Loss: 1.650, Validation Accuracy: 0.46\n",
            "\n",
            "Epoch: 54\n",
            "\n",
            "Train Loss: 0.951, Train Accuracy: 0.66\n",
            "Validation Loss: 1.535, Validation Accuracy: 0.47\n",
            "\n",
            "Epoch: 55\n",
            "\n",
            "Train Loss: 0.950, Train Accuracy: 0.66\n",
            "Validation Loss: 1.465, Validation Accuracy: 0.51\n",
            "\n",
            "Epoch: 56\n",
            "\n",
            "Train Loss: 0.939, Train Accuracy: 0.67\n",
            "Validation Loss: 1.511, Validation Accuracy: 0.49\n",
            "\n",
            "Epoch: 57\n",
            "\n",
            "Train Loss: 0.942, Train Accuracy: 0.66\n",
            "Validation Loss: 1.746, Validation Accuracy: 0.45\n",
            "\n",
            "Epoch: 58\n",
            "\n",
            "Train Loss: 0.932, Train Accuracy: 0.67\n",
            "Validation Loss: 1.777, Validation Accuracy: 0.44\n",
            "\n",
            "Epoch: 59\n",
            "\n",
            "Train Loss: 0.936, Train Accuracy: 0.67\n",
            "Validation Loss: 1.639, Validation Accuracy: 0.47\n",
            "\n",
            "Epoch: 60\n",
            "\n",
            "Train Loss: 0.919, Train Accuracy: 0.67\n",
            "Validation Loss: 1.522, Validation Accuracy: 0.50\n",
            "\n",
            "Epoch: 61\n",
            "\n",
            "Train Loss: 0.918, Train Accuracy: 0.67\n",
            "Validation Loss: 1.699, Validation Accuracy: 0.47\n",
            "\n",
            "Epoch: 62\n",
            "\n",
            "Train Loss: 0.917, Train Accuracy: 0.67\n",
            "Validation Loss: 1.500, Validation Accuracy: 0.50\n",
            "\n",
            "Epoch: 63\n",
            "\n",
            "Train Loss: 0.905, Train Accuracy: 0.68\n",
            "Validation Loss: 1.557, Validation Accuracy: 0.49\n",
            "\n",
            "Epoch: 64\n",
            "\n",
            "Train Loss: 0.895, Train Accuracy: 0.68\n",
            "Validation Loss: 1.567, Validation Accuracy: 0.49\n",
            "\n",
            "Epoch: 65\n",
            "\n",
            "Train Loss: 0.892, Train Accuracy: 0.68\n",
            "Validation Loss: 1.464, Validation Accuracy: 0.51\n",
            "\n",
            "Epoch: 66\n",
            "\n",
            "Train Loss: 0.883, Train Accuracy: 0.69\n",
            "Validation Loss: 1.533, Validation Accuracy: 0.49\n",
            "\n",
            "Epoch: 67\n",
            "\n",
            "Train Loss: 0.888, Train Accuracy: 0.68\n",
            "Validation Loss: 1.571, Validation Accuracy: 0.47\n",
            "\n",
            "Epoch: 68\n",
            "\n",
            "Train Loss: 0.878, Train Accuracy: 0.69\n",
            "Validation Loss: 1.643, Validation Accuracy: 0.49\n",
            "\n",
            "Epoch: 69\n",
            "\n",
            "Train Loss: 0.868, Train Accuracy: 0.69\n",
            "Validation Loss: 1.535, Validation Accuracy: 0.51\n",
            "\n",
            "Epoch: 70\n",
            "\n",
            "Train Loss: 0.868, Train Accuracy: 0.69\n",
            "Validation Loss: 1.756, Validation Accuracy: 0.47\n",
            "\n",
            "Epoch: 71\n",
            "\n",
            "Train Loss: 0.870, Train Accuracy: 0.69\n",
            "Validation Loss: 1.816, Validation Accuracy: 0.46\n",
            "\n",
            "Epoch: 72\n",
            "\n",
            "Train Loss: 0.849, Train Accuracy: 0.70\n",
            "Validation Loss: 1.672, Validation Accuracy: 0.48\n",
            "\n",
            "Epoch: 73\n",
            "\n",
            "Train Loss: 0.843, Train Accuracy: 0.70\n",
            "Validation Loss: 1.689, Validation Accuracy: 0.47\n",
            "\n",
            "Epoch: 74\n",
            "\n",
            "Train Loss: 0.858, Train Accuracy: 0.69\n",
            "Validation Loss: 1.795, Validation Accuracy: 0.45\n",
            "\n",
            "Epoch: 75\n",
            "\n",
            "Train Loss: 0.842, Train Accuracy: 0.70\n",
            "Validation Loss: 1.652, Validation Accuracy: 0.48\n",
            "\n",
            "Epoch: 76\n",
            "\n",
            "Train Loss: 0.844, Train Accuracy: 0.70\n",
            "Validation Loss: 1.759, Validation Accuracy: 0.46\n",
            "\n",
            "Epoch: 77\n",
            "\n",
            "Train Loss: 0.834, Train Accuracy: 0.70\n",
            "Validation Loss: 1.553, Validation Accuracy: 0.50\n",
            "\n",
            "Epoch: 78\n",
            "\n",
            "Train Loss: 0.827, Train Accuracy: 0.70\n",
            "Validation Loss: 1.679, Validation Accuracy: 0.50\n",
            "\n",
            "Epoch: 79\n",
            "\n",
            "Train Loss: 0.819, Train Accuracy: 0.71\n",
            "Validation Loss: 1.569, Validation Accuracy: 0.51\n",
            "\n",
            "Epoch: 80\n",
            "\n",
            "Train Loss: 0.815, Train Accuracy: 0.71\n",
            "Validation Loss: 1.609, Validation Accuracy: 0.48\n",
            "\n",
            "Epoch: 81\n",
            "\n",
            "Train Loss: 0.810, Train Accuracy: 0.71\n",
            "Validation Loss: 1.550, Validation Accuracy: 0.51\n",
            "\n",
            "Epoch: 82\n",
            "\n",
            "Train Loss: 0.810, Train Accuracy: 0.71\n",
            "Validation Loss: 1.611, Validation Accuracy: 0.49\n",
            "\n",
            "Epoch: 83\n",
            "\n",
            "Train Loss: 0.798, Train Accuracy: 0.71\n",
            "Validation Loss: 1.555, Validation Accuracy: 0.50\n",
            "\n",
            "Epoch: 84\n",
            "\n",
            "Train Loss: 0.801, Train Accuracy: 0.72\n",
            "Validation Loss: 1.791, Validation Accuracy: 0.50\n",
            "\n",
            "Epoch: 85\n",
            "\n",
            "Train Loss: 0.807, Train Accuracy: 0.71\n",
            "Validation Loss: 1.623, Validation Accuracy: 0.48\n",
            "\n",
            "Epoch: 86\n",
            "\n",
            "Train Loss: 0.799, Train Accuracy: 0.71\n",
            "Validation Loss: 1.491, Validation Accuracy: 0.53\n",
            "\n",
            "Epoch: 87\n",
            "\n",
            "Train Loss: 0.784, Train Accuracy: 0.72\n",
            "Validation Loss: 1.509, Validation Accuracy: 0.51\n",
            "\n",
            "Epoch: 88\n",
            "\n",
            "Train Loss: 0.797, Train Accuracy: 0.72\n",
            "Validation Loss: 1.691, Validation Accuracy: 0.51\n",
            "\n",
            "Epoch: 89\n",
            "\n",
            "Train Loss: 0.787, Train Accuracy: 0.72\n",
            "Validation Loss: 1.759, Validation Accuracy: 0.47\n",
            "\n",
            "Epoch: 90\n",
            "\n",
            "Train Loss: 0.773, Train Accuracy: 0.72\n",
            "Validation Loss: 1.619, Validation Accuracy: 0.50\n",
            "\n",
            "Epoch: 91\n",
            "\n",
            "Train Loss: 0.774, Train Accuracy: 0.73\n",
            "Validation Loss: 1.907, Validation Accuracy: 0.47\n",
            "\n",
            "Epoch: 92\n",
            "\n",
            "Train Loss: 0.773, Train Accuracy: 0.72\n",
            "Validation Loss: 1.606, Validation Accuracy: 0.50\n",
            "\n",
            "Epoch: 93\n",
            "\n",
            "Train Loss: 0.775, Train Accuracy: 0.72\n",
            "Validation Loss: 1.679, Validation Accuracy: 0.50\n",
            "\n",
            "Epoch: 94\n",
            "\n",
            "Train Loss: 0.770, Train Accuracy: 0.72\n",
            "Validation Loss: 1.464, Validation Accuracy: 0.53\n",
            "\n",
            "Epoch: 95\n",
            "\n",
            "Train Loss: 0.761, Train Accuracy: 0.73\n",
            "Validation Loss: 1.565, Validation Accuracy: 0.50\n",
            "\n",
            "Epoch: 96\n",
            "\n",
            "Train Loss: 0.754, Train Accuracy: 0.73\n",
            "Validation Loss: 1.466, Validation Accuracy: 0.52\n",
            "\n",
            "Epoch: 97\n",
            "\n",
            "Train Loss: 0.757, Train Accuracy: 0.73\n",
            "Validation Loss: 1.504, Validation Accuracy: 0.54\n",
            "\n",
            "Epoch: 98\n",
            "\n",
            "Train Loss: 0.750, Train Accuracy: 0.73\n",
            "Validation Loss: 1.576, Validation Accuracy: 0.52\n",
            "\n",
            "Epoch: 99\n",
            "\n",
            "Train Loss: 0.750, Train Accuracy: 0.73\n",
            "Validation Loss: 1.700, Validation Accuracy: 0.50\n",
            "\n",
            "Epoch: 100\n",
            "\n",
            "Train Loss: 0.750, Train Accuracy: 0.73\n",
            "Validation Loss: 1.621, Validation Accuracy: 0.51\n"
          ]
        }
      ],
      "source": [
        "from src.engine import train, evaluate\n",
        "from src.utils import calculate_accuracy\n",
        "\n",
        "EPOCHS = 100 # was 200\n",
        "train_loss = []\n",
        "train_acc = []\n",
        "valid_loss = []\n",
        "valid_acc = []\n",
        "best_loss = float('inf')\n",
        "\n",
        "for epoch in range(1, EPOCHS + 1):\n",
        "  print(f\"\\nEpoch: {epoch}\\n\")\n",
        "  loss, acc = train(model, train_loader, criterion, optimizer, device)\n",
        "  train_loss.append(loss)\n",
        "  train_acc.append(acc)\n",
        "  print(f\"Train Loss: {train_loss[-1]:.3f}, Train Accuracy: {train_acc[-1]:.2f}\")\n",
        "\n",
        "  loss, acc = evaluate(model, valid_loader, criterion, device)\n",
        "  valid_loss.append(loss)\n",
        "  valid_acc.append(acc)\n",
        "  print(f\"Validation Loss: {valid_loss[-1]:.3f}, Validation Accuracy: {valid_acc[-1]:.2f}\")\n",
        "\n",
        "  if loss < best_loss:\n",
        "    best_loss = loss\n",
        "    torch.save(model.state_dict(), path)"
      ]
    },
    {
      "cell_type": "markdown",
      "metadata": {
        "id": "GIu5vZ3d2jNJ"
      },
      "source": [
        "## Evaluate on the Test set"
      ]
    },
    {
      "cell_type": "code",
      "execution_count": 11,
      "metadata": {
        "id": "q5oWJj8g11MF",
        "outputId": "9e70bdb2-fd54-4058-9e8d-c6692312aa4f",
        "colab": {
          "base_uri": "https://localhost:8080/"
        }
      },
      "outputs": [
        {
          "output_type": "stream",
          "name": "stdout",
          "text": [
            "Test Loss: 1.484\n",
            "Test Accuracy: 0.48%\n"
          ]
        }
      ],
      "source": [
        "# load best model\n",
        "model.load_state_dict(torch.load(path))\n",
        "test_loss, test_acc = evaluate(model.to(device), test_loader, criterion, device)\n",
        "print(f\"Test Loss: {test_loss:.3f}\")\n",
        "print(f\"Test Accuracy: {test_acc:.2f}%\")"
      ]
    },
    {
      "cell_type": "markdown",
      "metadata": {
        "id": "qvOfsB752las"
      },
      "source": [
        "## Plot Loss and Accuracy Curves"
      ]
    },
    {
      "cell_type": "code",
      "execution_count": 12,
      "metadata": {
        "id": "gk6I1WkDvWmE",
        "outputId": "1eb0fe69-d118-42cf-e1fe-4fb967a64be6",
        "colab": {
          "base_uri": "https://localhost:8080/",
          "height": 265
        }
      },
      "outputs": [
        {
          "output_type": "display_data",
          "data": {
            "text/plain": [
              "<Figure size 432x288 with 1 Axes>"
            ],
            "image/png": "[encoded data removed]"
          },
          "metadata": {
            "needs_background": "light"
          }
        }
      ],
      "source": [
        "import matplotlib.pyplot as plt\n",
        "\n",
        "x = [i for i in range(len(valid_loss))]\n",
        "\n",
        "plt.plot(x, train_loss, label=\"Train Loss\")\n",
        "plt.plot(x, valid_loss, label=\"Validation Loss\")\n",
        "plt.legend()\n",
        "plt.show()"
      ]
    },
    {
      "cell_type": "code",
      "execution_count": 13,
      "metadata": {
        "id": "A-xP3uX63aT8",
        "outputId": "3bbf12a0-d097-4f39-9625-3137d977c92f",
        "colab": {
          "base_uri": "https://localhost:8080/",
          "height": 265
        }
      },
      "outputs": [
        {
          "output_type": "display_data",
          "data": {
            "text/plain": [
              "<Figure size 432x288 with 1 Axes>"
            ],
            "image/png": "[encoded data removed]"
          },
          "metadata": {
            "needs_background": "light"
          }
        }
      ],
      "source": [
        "plt.plot(x, train_acc, label=\"Train Accuracy\")\n",
        "plt.plot(x, valid_acc, label=\"Validation Accuracy\")\n",
        "plt.legend()\n",
        "plt.show()"
      ]
    },
    {
      "cell_type": "code",
      "execution_count": 13,
      "metadata": {
        "id": "D_FdIR923n9N"
      },
      "outputs": [],
      "source": [
        "# The training step took 3h50m on Google Colab, \n",
        "# runtime type = GPU with Standard Memory"
      ]
    }
  ],
  "metadata": {
    "accelerator": "GPU",
    "colab": {
      "provenance": []
    },
    "gpuClass": "standard",
    "kernelspec": {
      "display_name": "pyg",
      "language": "python",
      "name": "python3"
    },
    "language_info": {
      "codemirror_mode": {
        "name": "ipython",
        "version": 3
      },
      "file_extension": ".py",
      "mimetype": "text/x-python",
      "name": "python",
      "nbconvert_exporter": "python",
      "pygments_lexer": "ipython3",
      "version": "3.9.15"
    },
    "vscode": {
      "interpreter": {
        "hash": "602fd2f1343589d3bd6f27fae416162c1bba08e244faa27258d2511dac84d913"
      }
    }
  },
  "nbformat": 4,
  "nbformat_minor": 0
}