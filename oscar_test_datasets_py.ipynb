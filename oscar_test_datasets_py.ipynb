{
  "nbformat": 4,
  "nbformat_minor": 0,
  "metadata": {
    "colab": {
      "provenance": [],
      "toc_visible": true,
      "authorship_tag": "ABX9TyOlxomsE/NDVB04ZGkFExZO",
      "include_colab_link": true
    },
    "kernelspec": {
      "name": "python3",
      "display_name": "Python 3"
    },
    "language_info": {
      "name": "python"
    }
  },
  "cells": [
    {
      "cell_type": "markdown",
      "metadata": {
        "id": "view-in-github",
        "colab_type": "text"
      },
      "source": [
        "<a href=\"https://colab.research.google.com/github/ab7289-tandon-nyu/GraphVision/blob/oscar1/oscar_test_datasets_py.ipynb\" target=\"_parent\"><img src=\"https://colab.research.google.com/assets/colab-badge.svg\" alt=\"Open In Colab\"/></a>"
      ]
    },
    {
      "cell_type": "markdown",
      "source": [
        "## Import PyTorch packages for graphs"
      ],
      "metadata": {
        "id": "speecvQjDMby"
      }
    },
    {
      "cell_type": "code",
      "source": [
        "import os\n",
        "import torch\n",
        "\n",
        "os.environ['TORCH'] = torch.__version__\n",
        "print(torch.__version__)\n",
        "\n",
        "!pip install -q torch-scatter -f https://data.pyg.org/whl/torch-${TORCH}.html\n",
        "!pip install -q torch-sparse -f https://data.pyg.org/whl/torch-${TORCH}.html\n",
        "!pip install -q torch-cluster -f https://data.pyg.org/whl/torch-${TORCH}.html\n",
        "!pip install -q torch-spline-conv -f https://data.pyg.org/whl/torch-${TORCH}.html\n",
        "!pip install -q git+https://github.com/pyg-team/pytorch_geometric.git"
      ],
      "metadata": {
        "colab": {
          "base_uri": "https://localhost:8080/"
        },
        "id": "j73lG0HcDLve",
        "outputId": "f6222d3d-786d-46d7-c0d3-f684014ec488"
      },
      "execution_count": 1,
      "outputs": [
        {
          "output_type": "stream",
          "name": "stdout",
          "text": [
            "1.13.0+cu116\n"
          ]
        }
      ]
    },
    {
      "cell_type": "markdown",
      "source": [
        "## Clone team's code"
      ],
      "metadata": {
        "id": "G8AjG8wcB0DS"
      }
    },
    {
      "cell_type": "code",
      "source": [
        "!rm -r GraphVision/"
      ],
      "metadata": {
        "id": "01pExF83CMlt"
      },
      "execution_count": 2,
      "outputs": []
    },
    {
      "cell_type": "code",
      "source": [
        "!git clone -b models \"https://github.com/ab7289-tandon-nyu/GraphVision.git\""
      ],
      "metadata": {
        "colab": {
          "base_uri": "https://localhost:8080/"
        },
        "id": "NCe4RrxKBzcV",
        "outputId": "7b1b24d9-a550-4504-9c21-b9ebfc085983"
      },
      "execution_count": 3,
      "outputs": [
        {
          "output_type": "stream",
          "name": "stdout",
          "text": [
            "Cloning into 'GraphVision'...\n",
            "remote: Enumerating objects: 219, done.\u001b[K\n",
            "remote: Counting objects: 100% (219/219), done.\u001b[K\n",
            "remote: Compressing objects: 100% (147/147), done.\u001b[K\n",
            "remote: Total 219 (delta 113), reused 147 (delta 60), pack-reused 0\u001b[K\n",
            "Receiving objects: 100% (219/219), 1.18 MiB | 9.57 MiB/s, done.\n",
            "Resolving deltas: 100% (113/113), done.\n"
          ]
        }
      ]
    },
    {
      "cell_type": "code",
      "execution_count": 4,
      "metadata": {
        "id": "ZjA8xwJ7BeFA"
      },
      "outputs": [],
      "source": [
        "!cp -r GraphVision/src/ ."
      ]
    },
    {
      "cell_type": "markdown",
      "source": [
        "## Test `datasets.py` > `get_dataset()`"
      ],
      "metadata": {
        "id": "CEXPh-1_DvXZ"
      }
    },
    {
      "cell_type": "code",
      "source": [
        "from src.datasets import get_datasets\n",
        "from src.datasets import get_dataloaders"
      ],
      "metadata": {
        "id": "LIe6AyoKCZT9"
      },
      "execution_count": 5,
      "outputs": []
    },
    {
      "cell_type": "markdown",
      "source": [
        "### `'MNISTSuperpixels'`"
      ],
      "metadata": {
        "id": "IiMUptfOGzW5"
      }
    },
    {
      "cell_type": "code",
      "source": [
        "train_dataset, valid_dataset, test_dataset = \\\n",
        "get_datasets(name = 'MNISTSuperpixels')"
      ],
      "metadata": {
        "id": "0GI9RPR2EAwn"
      },
      "execution_count": 6,
      "outputs": []
    },
    {
      "cell_type": "code",
      "source": [
        "print('TRAIN:', len(train_dataset))\n",
        "print('VALUD:', len(valid_dataset))\n",
        "print('TEST :', len(test_dataset))"
      ],
      "metadata": {
        "colab": {
          "base_uri": "https://localhost:8080/"
        },
        "id": "jMyzQ-CLEPZ9",
        "outputId": "37db9845-76a1-4f89-90e5-3c7945e69396"
      },
      "execution_count": 7,
      "outputs": [
        {
          "output_type": "stream",
          "name": "stdout",
          "text": [
            "TRAIN: 54000\n",
            "VALUD: 6000\n",
            "TEST : 10000\n"
          ]
        }
      ]
    },
    {
      "cell_type": "code",
      "source": [
        "train_dataloder, valid_dataloser, test_dataloader = \\\n",
        "get_dataloaders(train_dataset, valid_dataset, test_dataset, batch_size = 10)\n",
        "\n",
        "print('TRAIN:', len(train_dataloder))\n",
        "print('VALUD:', len(valid_dataloser))\n",
        "print('TEST :', len(test_dataloader))"
      ],
      "metadata": {
        "colab": {
          "base_uri": "https://localhost:8080/"
        },
        "id": "yg4iuUDkmI4y",
        "outputId": "5b4a7092-ced2-4cc0-cda3-992d6ed16992"
      },
      "execution_count": 8,
      "outputs": [
        {
          "output_type": "stream",
          "name": "stdout",
          "text": [
            "TRAIN: 5400\n",
            "VALUD: 600\n",
            "TEST : 1000\n"
          ]
        }
      ]
    },
    {
      "cell_type": "markdown",
      "source": [
        "### `'MNIST'`"
      ],
      "metadata": {
        "id": "hx5jbA-gmEwC"
      }
    },
    {
      "cell_type": "code",
      "source": [
        "train_dataset, valid_dataset, test_dataset = \\\n",
        "get_datasets(name = 'MNIST')"
      ],
      "metadata": {
        "id": "VVAlHclREpYc"
      },
      "execution_count": 9,
      "outputs": []
    },
    {
      "cell_type": "code",
      "source": [
        "print('TRAIN:', len(train_dataset))\n",
        "print('VALUD:', len(valid_dataset))\n",
        "print('TEST :', len(test_dataset))"
      ],
      "metadata": {
        "colab": {
          "base_uri": "https://localhost:8080/"
        },
        "id": "H55U8aTqE_Hd",
        "outputId": "eb1b348e-1f55-49a7-a1d1-affb7a0a828c"
      },
      "execution_count": 10,
      "outputs": [
        {
          "output_type": "stream",
          "name": "stdout",
          "text": [
            "TRAIN: 55000\n",
            "VALUD: 5000\n",
            "TEST : 10000\n"
          ]
        }
      ]
    },
    {
      "cell_type": "code",
      "source": [
        "train_dataloder, valid_dataloser, test_dataloader = \\\n",
        "get_dataloaders(train_dataset, valid_dataset, test_dataset, batch_size = 10)\n",
        "\n",
        "print('TRAIN:', len(train_dataloder))\n",
        "print('VALUD:', len(valid_dataloser))\n",
        "print('TEST :', len(test_dataloader))"
      ],
      "metadata": {
        "colab": {
          "base_uri": "https://localhost:8080/"
        },
        "id": "FcGpYmYpmODx",
        "outputId": "234e4698-a45e-4263-e7df-86b4655b1b3f"
      },
      "execution_count": 11,
      "outputs": [
        {
          "output_type": "stream",
          "name": "stdout",
          "text": [
            "TRAIN: 5500\n",
            "VALUD: 500\n",
            "TEST : 1000\n"
          ]
        }
      ]
    },
    {
      "cell_type": "markdown",
      "source": [
        "### `'CIFAR10'`"
      ],
      "metadata": {
        "id": "jYDtskpQmPUj"
      }
    },
    {
      "cell_type": "code",
      "source": [
        "train_dataset, valid_dataset, test_dataset = \\\n",
        "get_datasets(name = 'CIFAR10')"
      ],
      "metadata": {
        "id": "8MIGRdwmFJ39"
      },
      "execution_count": 12,
      "outputs": []
    },
    {
      "cell_type": "code",
      "source": [
        "print('TRAIN:', len(train_dataset))\n",
        "print('VALUD:', len(valid_dataset))\n",
        "print('TEST :', len(test_dataset))"
      ],
      "metadata": {
        "colab": {
          "base_uri": "https://localhost:8080/"
        },
        "id": "buAUbwccKvkz",
        "outputId": "67ceb318-bd39-40c7-8f41-464304e7363c"
      },
      "execution_count": 13,
      "outputs": [
        {
          "output_type": "stream",
          "name": "stdout",
          "text": [
            "TRAIN: 45000\n",
            "VALUD: 5000\n",
            "TEST : 10000\n"
          ]
        }
      ]
    },
    {
      "cell_type": "code",
      "source": [
        "train_dataloder, valid_dataloser, test_dataloader = \\\n",
        "get_dataloaders(train_dataset, valid_dataset, test_dataset, batch_size = 10)\n",
        "\n",
        "print('TRAIN:', len(train_dataloder))\n",
        "print('VALUD:', len(valid_dataloser))\n",
        "print('TEST :', len(test_dataloader))"
      ],
      "metadata": {
        "colab": {
          "base_uri": "https://localhost:8080/"
        },
        "id": "VQrs84xKGmhd",
        "outputId": "b24544b3-0a29-477f-a4bf-5dee58702fdc"
      },
      "execution_count": 14,
      "outputs": [
        {
          "output_type": "stream",
          "name": "stdout",
          "text": [
            "TRAIN: 4500\n",
            "VALUD: 500\n",
            "TEST : 1000\n"
          ]
        }
      ]
    },
    {
      "cell_type": "code",
      "source": [
        "import datetime\n",
        "print(datetime.datetime.now())"
      ],
      "metadata": {
        "colab": {
          "base_uri": "https://localhost:8080/"
        },
        "id": "Nzj0T-3qnK1y",
        "outputId": "5cdbd466-885d-42b4-82f0-ea64d2b558fc"
      },
      "execution_count": 15,
      "outputs": [
        {
          "output_type": "stream",
          "name": "stdout",
          "text": [
            "2022-12-10 20:00:41.045712\n"
          ]
        }
      ]
    }
  ]
}